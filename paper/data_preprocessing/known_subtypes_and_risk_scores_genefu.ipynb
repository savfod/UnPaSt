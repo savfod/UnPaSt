{
 "cells": [
  {
   "cell_type": "code",
   "execution_count": 11,
   "metadata": {},
   "outputs": [
    {
     "name": "stderr",
     "output_type": "stream",
     "text": [
      "Warning message:\n",
      "“replacing previous import ‘ellipsis::check_dots_unnamed’ by ‘rlang::check_dots_unnamed’ when loading ‘hms’”\n",
      "Warning message:\n",
      "“replacing previous import ‘ellipsis::check_dots_used’ by ‘rlang::check_dots_used’ when loading ‘hms’”\n",
      "Warning message:\n",
      "“replacing previous import ‘ellipsis::check_dots_empty’ by ‘rlang::check_dots_empty’ when loading ‘hms’”\n",
      "Warning message:\n",
      "“replacing previous import ‘ellipsis::check_dots_unnamed’ by ‘rlang::check_dots_unnamed’ when loading ‘tibble’”\n",
      "Warning message:\n",
      "“replacing previous import ‘ellipsis::check_dots_used’ by ‘rlang::check_dots_used’ when loading ‘tibble’”\n",
      "Warning message:\n",
      "“replacing previous import ‘ellipsis::check_dots_empty’ by ‘rlang::check_dots_empty’ when loading ‘tibble’”\n"
     ]
    }
   ],
   "source": [
    "library(breastCancerMAINZ)\n",
    "library(breastCancerTRANSBIG)\n",
    "library(breastCancerUPP)\n",
    "library(breastCancerUNT)\n",
    "library(breastCancerNKI)\n",
    "\n",
    "suppressPackageStartupMessages(library(\"genefu\"))\n",
    "suppressPackageStartupMessages(library(\"AIMS\"))\n",
    "suppressPackageStartupMessages(library(\"caret\"))"
   ]
  },
  {
   "cell_type": "code",
   "execution_count": null,
   "metadata": {},
   "outputs": [],
   "source": []
  },
  {
   "cell_type": "code",
   "execution_count": 6,
   "metadata": {},
   "outputs": [],
   "source": [
    "data_folder <- \"preprocessed/\"\n",
    "# read the file mapping gene ids in expression matrix to Entrez ids \n",
    "#gene_annot_file <- \"../Xena_gene_info.tsv\"\n",
    "gene_annot_file <- \"gene_id_mapping.tsv\"\n",
    "\n",
    "\n",
    "### input\n",
    "\n",
    "### log2(x+1) but *not* z-score transformed expressions\n",
    "exprs_file <- \"TCGA-BRCA_1079_17Kgenes.Xena_TCGA_PanCan.log2_exprs_v6.tsv\" \n",
    "#exprs_file <-\"METABRIC_1904_17Kgenes.log2_exprs_v6.tsv\"\n",
    "\n",
    "\n",
    "### output\n",
    "output_file <- \"TCGA-BRCA_1079_17Kgenes.Xena_TCGA_PanCan.subtypes_and_signatures_v6.tsv\"\n",
    "#output_file  <- \"METABRIC_1904_17Kgenes.subtypes_and_signatures_v6.tsv\""
   ]
  },
  {
   "cell_type": "code",
   "execution_count": null,
   "metadata": {},
   "outputs": [],
   "source": []
  },
  {
   "cell_type": "code",
   "execution_count": 7,
   "metadata": {},
   "outputs": [
    {
     "data": {
      "text/html": [
       "<table class=\"dataframe\">\n",
       "<caption>A matrix: 3 × 17162 of type dbl</caption>\n",
       "<thead>\n",
       "\t<tr><th></th><th scope=col>A1BG</th><th scope=col>A1CF</th><th scope=col>A2M</th><th scope=col>A3GALT2</th><th scope=col>A4GALT</th><th scope=col>A4GNT</th><th scope=col>AAAS</th><th scope=col>AACS</th><th scope=col>AADAC</th><th scope=col>AADACL2</th><th scope=col>⋯</th><th scope=col>ZWILCH</th><th scope=col>ZWINT</th><th scope=col>ZXDA</th><th scope=col>ZXDB</th><th scope=col>ZXDC</th><th scope=col>ZYG11A</th><th scope=col>ZYG11B</th><th scope=col>ZYX</th><th scope=col>ZZEF1</th><th scope=col>ZZZ3</th></tr>\n",
       "</thead>\n",
       "<tbody>\n",
       "\t<tr><th scope=row>TCGA-3C-AAAU-01</th><td>7.9692</td><td>0.0000</td><td>13.3261</td><td>0.0000</td><td>6.9353</td><td>3.9756</td><td>10.3116</td><td>10.9377</td><td>0.0000</td><td>0</td><td>⋯</td><td> 9.5575</td><td>10.7186</td><td>8.6854</td><td>10.7141</td><td>10.6614</td><td>8.8382</td><td>11.0071</td><td>12.5910</td><td>11.6938</td><td>11.2516</td></tr>\n",
       "\t<tr><th scope=row>TCGA-3C-AALI-01</th><td>8.6285</td><td>3.3945</td><td>13.7408</td><td>0.0000</td><td>8.1574</td><td>0.9647</td><td>10.8011</td><td>10.5831</td><td>1.5376</td><td>0</td><td>⋯</td><td>11.0446</td><td>10.8088</td><td>7.6605</td><td> 9.5963</td><td>10.9938</td><td>8.4870</td><td>10.0526</td><td>13.2659</td><td>11.2080</td><td> 9.7164</td></tr>\n",
       "\t<tr><th scope=row>TCGA-3C-AALJ-01</th><td>9.3174</td><td>2.3532</td><td>13.7631</td><td>1.2448</td><td>9.7843</td><td>0.0000</td><td>10.2706</td><td>11.2474</td><td>1.2448</td><td>0</td><td>⋯</td><td> 8.9435</td><td>11.9863</td><td>6.7841</td><td> 9.6513</td><td> 9.2955</td><td>9.0229</td><td> 9.6966</td><td>13.0363</td><td>10.5635</td><td> 9.9067</td></tr>\n",
       "</tbody>\n",
       "</table>\n"
      ],
      "text/latex": [
       "A matrix: 3 × 17162 of type dbl\n",
       "\\begin{tabular}{r|lllllllllllllllllllll}\n",
       "  & A1BG & A1CF & A2M & A3GALT2 & A4GALT & A4GNT & AAAS & AACS & AADAC & AADACL2 & ⋯ & ZWILCH & ZWINT & ZXDA & ZXDB & ZXDC & ZYG11A & ZYG11B & ZYX & ZZEF1 & ZZZ3\\\\\n",
       "\\hline\n",
       "\tTCGA-3C-AAAU-01 & 7.9692 & 0.0000 & 13.3261 & 0.0000 & 6.9353 & 3.9756 & 10.3116 & 10.9377 & 0.0000 & 0 & ⋯ &  9.5575 & 10.7186 & 8.6854 & 10.7141 & 10.6614 & 8.8382 & 11.0071 & 12.5910 & 11.6938 & 11.2516\\\\\n",
       "\tTCGA-3C-AALI-01 & 8.6285 & 3.3945 & 13.7408 & 0.0000 & 8.1574 & 0.9647 & 10.8011 & 10.5831 & 1.5376 & 0 & ⋯ & 11.0446 & 10.8088 & 7.6605 &  9.5963 & 10.9938 & 8.4870 & 10.0526 & 13.2659 & 11.2080 &  9.7164\\\\\n",
       "\tTCGA-3C-AALJ-01 & 9.3174 & 2.3532 & 13.7631 & 1.2448 & 9.7843 & 0.0000 & 10.2706 & 11.2474 & 1.2448 & 0 & ⋯ &  8.9435 & 11.9863 & 6.7841 &  9.6513 &  9.2955 & 9.0229 &  9.6966 & 13.0363 & 10.5635 &  9.9067\\\\\n",
       "\\end{tabular}\n"
      ],
      "text/markdown": [
       "\n",
       "A matrix: 3 × 17162 of type dbl\n",
       "\n",
       "| <!--/--> | A1BG | A1CF | A2M | A3GALT2 | A4GALT | A4GNT | AAAS | AACS | AADAC | AADACL2 | ⋯ | ZWILCH | ZWINT | ZXDA | ZXDB | ZXDC | ZYG11A | ZYG11B | ZYX | ZZEF1 | ZZZ3 |\n",
       "|---|---|---|---|---|---|---|---|---|---|---|---|---|---|---|---|---|---|---|---|---|---|\n",
       "| TCGA-3C-AAAU-01 | 7.9692 | 0.0000 | 13.3261 | 0.0000 | 6.9353 | 3.9756 | 10.3116 | 10.9377 | 0.0000 | 0 | ⋯ |  9.5575 | 10.7186 | 8.6854 | 10.7141 | 10.6614 | 8.8382 | 11.0071 | 12.5910 | 11.6938 | 11.2516 |\n",
       "| TCGA-3C-AALI-01 | 8.6285 | 3.3945 | 13.7408 | 0.0000 | 8.1574 | 0.9647 | 10.8011 | 10.5831 | 1.5376 | 0 | ⋯ | 11.0446 | 10.8088 | 7.6605 |  9.5963 | 10.9938 | 8.4870 | 10.0526 | 13.2659 | 11.2080 |  9.7164 |\n",
       "| TCGA-3C-AALJ-01 | 9.3174 | 2.3532 | 13.7631 | 1.2448 | 9.7843 | 0.0000 | 10.2706 | 11.2474 | 1.2448 | 0 | ⋯ |  8.9435 | 11.9863 | 6.7841 |  9.6513 |  9.2955 | 9.0229 |  9.6966 | 13.0363 | 10.5635 |  9.9067 |\n",
       "\n"
      ],
      "text/plain": [
       "                A1BG   A1CF   A2M     A3GALT2 A4GALT A4GNT  AAAS    AACS   \n",
       "TCGA-3C-AAAU-01 7.9692 0.0000 13.3261 0.0000  6.9353 3.9756 10.3116 10.9377\n",
       "TCGA-3C-AALI-01 8.6285 3.3945 13.7408 0.0000  8.1574 0.9647 10.8011 10.5831\n",
       "TCGA-3C-AALJ-01 9.3174 2.3532 13.7631 1.2448  9.7843 0.0000 10.2706 11.2474\n",
       "                AADAC  AADACL2 ⋯ ZWILCH  ZWINT   ZXDA   ZXDB    ZXDC    ZYG11A\n",
       "TCGA-3C-AAAU-01 0.0000 0       ⋯  9.5575 10.7186 8.6854 10.7141 10.6614 8.8382\n",
       "TCGA-3C-AALI-01 1.5376 0       ⋯ 11.0446 10.8088 7.6605  9.5963 10.9938 8.4870\n",
       "TCGA-3C-AALJ-01 1.2448 0       ⋯  8.9435 11.9863 6.7841  9.6513  9.2955 9.0229\n",
       "                ZYG11B  ZYX     ZZEF1   ZZZ3   \n",
       "TCGA-3C-AAAU-01 11.0071 12.5910 11.6938 11.2516\n",
       "TCGA-3C-AALI-01 10.0526 13.2659 11.2080  9.7164\n",
       "TCGA-3C-AALJ-01  9.6966 13.0363 10.5635  9.9067"
      ]
     },
     "metadata": {},
     "output_type": "display_data"
    }
   ],
   "source": [
    "exprs <- t(read.delim(paste0(data_folder,exprs_file), row.names = 1))\n",
    "rownames(exprs) <- gsub(\"\\\\.\", \"-\",rownames(exprs))\n",
    "exprs <- exprs[,sort(colnames(exprs))]\n",
    "\n",
    "head(exprs,3)"
   ]
  },
  {
   "cell_type": "code",
   "execution_count": 8,
   "metadata": {},
   "outputs": [
    {
     "data": {
      "text/html": [
       "<table class=\"dataframe\">\n",
       "<caption>A data.frame: 3 × 3</caption>\n",
       "<thead>\n",
       "\t<tr><th></th><th scope=col>probe</th><th scope=col>EntrezGene.ID</th><th scope=col>Gene.Symbol</th></tr>\n",
       "\t<tr><th></th><th scope=col>&lt;fct&gt;</th><th scope=col>&lt;dbl&gt;</th><th scope=col>&lt;fct&gt;</th></tr>\n",
       "</thead>\n",
       "<tbody>\n",
       "\t<tr><th scope=row>A1BG</th><td>A1BG</td><td>    1</td><td>A1BG</td></tr>\n",
       "\t<tr><th scope=row>A1CF</th><td>A1CF</td><td>29974</td><td>A1CF</td></tr>\n",
       "\t<tr><th scope=row>A2M</th><td>A2M </td><td>    2</td><td>A2M </td></tr>\n",
       "</tbody>\n",
       "</table>\n"
      ],
      "text/latex": [
       "A data.frame: 3 × 3\n",
       "\\begin{tabular}{r|lll}\n",
       "  & probe & EntrezGene.ID & Gene.Symbol\\\\\n",
       "  & <fct> & <dbl> & <fct>\\\\\n",
       "\\hline\n",
       "\tA1BG & A1BG &     1 & A1BG\\\\\n",
       "\tA1CF & A1CF & 29974 & A1CF\\\\\n",
       "\tA2M & A2M  &     2 & A2M \\\\\n",
       "\\end{tabular}\n"
      ],
      "text/markdown": [
       "\n",
       "A data.frame: 3 × 3\n",
       "\n",
       "| <!--/--> | probe &lt;fct&gt; | EntrezGene.ID &lt;dbl&gt; | Gene.Symbol &lt;fct&gt; |\n",
       "|---|---|---|---|\n",
       "| A1BG | A1BG |     1 | A1BG |\n",
       "| A1CF | A1CF | 29974 | A1CF |\n",
       "| A2M | A2M  |     2 | A2M  |\n",
       "\n"
      ],
      "text/plain": [
       "     probe EntrezGene.ID Gene.Symbol\n",
       "A1BG A1BG      1         A1BG       \n",
       "A1CF A1CF  29974         A1CF       \n",
       "A2M  A2M       2         A2M        "
      ]
     },
     "metadata": {},
     "output_type": "display_data"
    }
   ],
   "source": [
    "gene_anno <- read.delim(paste0(data_folder,gene_annot_file), row.names = 1,sep = \"\\t\")\n",
    "gene_anno <- gene_anno[,c(\"probe\",\"EntrezGene.ID\",\"Gene.Symbol\")]\n",
    "gene_anno <- gene_anno[colnames(exprs),]\n",
    "head(gene_anno,3)"
   ]
  },
  {
   "cell_type": "code",
   "execution_count": 9,
   "metadata": {},
   "outputs": [
    {
     "data": {
      "text/html": [
       "<style>\n",
       ".list-inline {list-style: none; margin:0; padding: 0}\n",
       ".list-inline>li {display: inline-block}\n",
       ".list-inline>li:not(:last-child)::after {content: \"\\00b7\"; padding: 0 .5ex}\n",
       "</style>\n",
       "<ol class=list-inline><li>17162</li><li>3</li></ol>\n"
      ],
      "text/latex": [
       "\\begin{enumerate*}\n",
       "\\item 17162\n",
       "\\item 3\n",
       "\\end{enumerate*}\n"
      ],
      "text/markdown": [
       "1. 17162\n",
       "2. 3\n",
       "\n",
       "\n"
      ],
      "text/plain": [
       "[1] 17162     3"
      ]
     },
     "metadata": {},
     "output_type": "display_data"
    },
    {
     "data": {
      "text/html": [
       "<style>\n",
       ".list-inline {list-style: none; margin:0; padding: 0}\n",
       ".list-inline>li {display: inline-block}\n",
       ".list-inline>li:not(:last-child)::after {content: \"\\00b7\"; padding: 0 .5ex}\n",
       "</style>\n",
       "<ol class=list-inline><li>1079</li><li>17162</li></ol>\n"
      ],
      "text/latex": [
       "\\begin{enumerate*}\n",
       "\\item 1079\n",
       "\\item 17162\n",
       "\\end{enumerate*}\n"
      ],
      "text/markdown": [
       "1. 1079\n",
       "2. 17162\n",
       "\n",
       "\n"
      ],
      "text/plain": [
       "[1]  1079 17162"
      ]
     },
     "metadata": {},
     "output_type": "display_data"
    }
   ],
   "source": [
    "dim(gene_anno)\n",
    "dim(exprs)"
   ]
  },
  {
   "cell_type": "markdown",
   "metadata": {},
   "source": [
    "## PAM50"
   ]
  },
  {
   "cell_type": "code",
   "execution_count": 9,
   "metadata": {},
   "outputs": [
    {
     "data": {
      "text/plain": [
       "pam50_subt\n",
       " Basal   Her2   LumB   LumA Normal \n",
       "   195    108    318    426     32 "
      ]
     },
     "metadata": {},
     "output_type": "display_data"
    },
    {
     "data": {
      "text/plain": [
       "pam50_subt\n",
       "     Basal       Her2       LumB       LumA     Normal \n",
       "0.18072289 0.10009268 0.29471733 0.39481001 0.02965709 "
      ]
     },
     "metadata": {},
     "output_type": "display_data"
    }
   ],
   "source": [
    "SubtypePredictions<-molecular.subtyping(sbt.model = \"pam50\",data = scale(exprs, scale = F, center = T),\n",
    "                                            annot = gene_anno,do.mapping = T, verbose = T)\n",
    "# missed genes\n",
    "#df <- pam50$centroids.map\n",
    "#df[!(df$EntrezGene.ID %in% gene_anno$EntrezGene.ID),]\n",
    "pam50_subt <- SubtypePredictions$subtype\n",
    "table(pam50_subt)\n",
    "table(pam50_subt)/dim(exprs)[[1]]"
   ]
  },
  {
   "cell_type": "code",
   "execution_count": 10,
   "metadata": {},
   "outputs": [
    {
     "data": {
      "text/html": [
       "<table class=\"dataframe\">\n",
       "<caption>A data.frame: 0 × 3</caption>\n",
       "<thead>\n",
       "\t<tr><th scope=col>probe</th><th scope=col>probe.centroids</th><th scope=col>EntrezGene.ID</th></tr>\n",
       "\t<tr><th scope=col>&lt;chr&gt;</th><th scope=col>&lt;chr&gt;</th><th scope=col>&lt;int&gt;</th></tr>\n",
       "</thead>\n",
       "<tbody>\n",
       "</tbody>\n",
       "</table>\n"
      ],
      "text/latex": [
       "A data.frame: 0 × 3\n",
       "\\begin{tabular}{lll}\n",
       " probe & probe.centroids & EntrezGene.ID\\\\\n",
       " <chr> & <chr> & <int>\\\\\n",
       "\\hline\n",
       "\\end{tabular}\n"
      ],
      "text/markdown": [
       "\n",
       "A data.frame: 0 × 3\n",
       "\n",
       "| probe &lt;chr&gt; | probe.centroids &lt;chr&gt; | EntrezGene.ID &lt;int&gt; |\n",
       "|---|---|---|\n",
       "\n"
      ],
      "text/plain": [
       "     probe probe.centroids EntrezGene.ID"
      ]
     },
     "metadata": {},
     "output_type": "display_data"
    }
   ],
   "source": [
    "# missed genes\n",
    "df <- pam50$centroids.map\n",
    "df[!(df$EntrezGene.ID %in% gene_anno$EntrezGene.ID),]"
   ]
  },
  {
   "cell_type": "code",
   "execution_count": 11,
   "metadata": {},
   "outputs": [
    {
     "data": {
      "text/plain": [
       "scmod2_subt\n",
       "            ER-/HER2- ER+/HER2- High Prolif  ER+/HER2- Low Prolif \n",
       "                  218                   405                   360 \n",
       "                HER2+ \n",
       "                   96 "
      ]
     },
     "metadata": {},
     "output_type": "display_data"
    },
    {
     "data": {
      "text/plain": [
       "scmod2_subt\n",
       "            ER-/HER2- ER+/HER2- High Prolif  ER+/HER2- Low Prolif \n",
       "           0.20203892            0.37534754            0.33364226 \n",
       "                HER2+ \n",
       "           0.08897127 "
      ]
     },
     "metadata": {},
     "output_type": "display_data"
    }
   ],
   "source": [
    "SubtypePredictions<-molecular.subtyping(sbt.model = \"scmod2\",data = scale(exprs, scale = F, center = T),\n",
    "                                            annot = gene_anno,do.mapping = T, verbose = TRUE)\n",
    "scmod2_subt <- SubtypePredictions$subtype\n",
    "table(scmod2_subt)\n",
    "table(scmod2_subt)/dim(exprs)[[1]]"
   ]
  },
  {
   "cell_type": "code",
   "execution_count": 12,
   "metadata": {},
   "outputs": [
    {
     "data": {
      "text/plain": [
       "scmod1_subt\n",
       "            ER-/HER2- ER+/HER2- High Prolif  ER+/HER2- Low Prolif \n",
       "                  199                   398                   331 \n",
       "                HER2+ \n",
       "                  151 "
      ]
     },
     "metadata": {},
     "output_type": "display_data"
    },
    {
     "data": {
      "text/plain": [
       "scmod1_subt\n",
       "            ER-/HER2- ER+/HER2- High Prolif  ER+/HER2- Low Prolif \n",
       "            0.1844300             0.3688601             0.3067655 \n",
       "                HER2+ \n",
       "            0.1399444 "
      ]
     },
     "metadata": {},
     "output_type": "display_data"
    }
   ],
   "source": [
    "SubtypePredictions<-molecular.subtyping(sbt.model = \"scmod1\", data = scale(exprs, scale = F, center = T),\n",
    "                                            annot = gene_anno,do.mapping = T, verbose = T)\n",
    "scmod1_subt <- SubtypePredictions$subtype\n",
    "table(scmod1_subt)\n",
    "table(scmod1_subt)/dim(exprs)[[1]]"
   ]
  },
  {
   "cell_type": "code",
   "execution_count": 13,
   "metadata": {},
   "outputs": [
    {
     "name": "stdout",
     "output_type": "stream",
     "text": [
      "Found  570  out of  612  Exp features\n",
      "running classifier with only expression...\n",
      "12345678910111213141516171819202122232425262728293012345678910Fold 1 :123456789101112131415161718192021222324252627282930\n",
      "Fold 2 :123456789101112131415161718192021222324252627282930\n",
      "Fold 3 :123456789101112131415161718192021222324252627282930\n",
      "Fold 4 :123456789101112131415161718192021222324252627282930\n",
      "Fold 5 :123456789101112131415161718192021222324252627282930\n",
      "Fold 6 :123456789101112131415161718192021222324252627282930\n",
      "Fold 7 :123456789101112131415161718192021222324252627282930\n",
      "Fold 8 :123456789101112131415161718192021222324252627282930\n",
      "Fold 9 :123456789101112131415161718192021222324252627282930\n",
      "Fold 10 :123456789101112131415161718192021222324252627282930\n"
     ]
    },
    {
     "data": {
      "text/plain": [
       "intClust_subt\n",
       " iC1  iC2  iC3  iC4  iC5  iC6  iC7  iC8  iC9 iC10 \n",
       "  93   33  214  163   66   39  108  120   78  165 "
      ]
     },
     "metadata": {},
     "output_type": "display_data"
    },
    {
     "data": {
      "text/plain": [
       "intClust_subt\n",
       "       iC1        iC2        iC3        iC4        iC5        iC6        iC7 \n",
       "0.08619092 0.03058387 0.19833179 0.15106580 0.06116775 0.03614458 0.10009268 \n",
       "       iC8        iC9       iC10 \n",
       "0.11121409 0.07228916 0.15291937 "
      ]
     },
     "metadata": {},
     "output_type": "display_data"
    }
   ],
   "source": [
    "SubtypePredictions<-molecular.subtyping(sbt.model = \"intClust\",data = scale(exprs, scale = F, center = T),\n",
    "                                            annot = gene_anno,do.mapping = T, verbose = T)\n",
    "intClust_subt <- SubtypePredictions$subtype\n",
    "table(intClust_subt)\n",
    "table(intClust_subt)/dim(exprs)[[1]]"
   ]
  },
  {
   "cell_type": "code",
   "execution_count": 14,
   "metadata": {
    "scrolled": true
   },
   "outputs": [
    {
     "name": "stderr",
     "output_type": "stream",
     "text": [
      "You are missing the pair or have more than one 1466<79682 in \n",
      "\n",
      "You are missing the pair or have more than one 29842<55765 in \n",
      "\n",
      "You are missing the pair or have more than one 18<79682 in \n",
      "\n",
      "You are missing the pair or have more than one 2330<7272 in \n",
      "\n",
      "You are missing the pair or have more than one 142<7450 in \n",
      "\n",
      "Current k = 20\n",
      "\n"
     ]
    },
    {
     "data": {
      "text/plain": [
       "AIMS_subt\n",
       " Basal   Her2   LumA   LumB Normal \n",
       "   189    105    390    321     74 "
      ]
     },
     "metadata": {},
     "output_type": "display_data"
    },
    {
     "data": {
      "text/plain": [
       "AIMS_subt\n",
       "     Basal       Her2       LumA       LumB     Normal \n",
       "0.17516219 0.09731233 0.36144578 0.29749768 0.06858202 "
      ]
     },
     "metadata": {},
     "output_type": "display_data"
    }
   ],
   "source": [
    "SubtypePredictions<-molecular.subtyping(sbt.model = \"AIMS\",data = scale(exprs, scale = F, center = F),\n",
    "                                            annot = gene_anno,do.mapping = T)\n",
    "AIMS_subt <- SubtypePredictions$subtype\n",
    "table(AIMS_subt)\n",
    "table(AIMS_subt)/dim(exprs)[[1]]\n",
    "AIMS_subt <- AIMS_subt[,\"20\"]"
   ]
  },
  {
   "cell_type": "code",
   "execution_count": null,
   "metadata": {},
   "outputs": [],
   "source": []
  },
  {
   "cell_type": "markdown",
   "metadata": {},
   "source": [
    "### Claudin-low"
   ]
  },
  {
   "cell_type": "code",
   "execution_count": 15,
   "metadata": {},
   "outputs": [
    {
     "data": {
      "text/html": [
       "745"
      ],
      "text/latex": [
       "745"
      ],
      "text/markdown": [
       "745"
      ],
      "text/plain": [
       "[1] 745"
      ]
     },
     "metadata": {},
     "output_type": "display_data"
    }
   ],
   "source": [
    "data(claudinLowData)\n",
    "\n",
    "# from https://github.com/clfougner/ClaudinLow/blob/master/Code/METABRIC_patientData.r\n",
    "entrezID_CLgenes <- claudinLowData$fnames\n",
    "# genes x samples, Entrez gene ids\n",
    "exprs_entrez <- t(exprs)\n",
    "rownames(exprs_entrez) <-gene_anno[rownames(exprs_entrez),\"EntrezGene.ID\"]\n",
    "exprs_entrez <- exprs_entrez[na.omit(rownames(exprs_entrez)),]\n",
    "\n",
    "overlappingCL_entrezID <- intersect(entrezID_CLgenes, rownames(exprs_entrez))\n",
    "length(overlappingCL_entrezID )\n"
   ]
  },
  {
   "cell_type": "code",
   "execution_count": 16,
   "metadata": {},
   "outputs": [
    {
     "data": {
      "text/html": [
       "<style>\n",
       ".list-inline {list-style: none; margin:0; padding: 0}\n",
       ".list-inline>li {display: inline-block}\n",
       ".list-inline>li:not(:last-child)::after {content: \"\\00b7\"; padding: 0 .5ex}\n",
       "</style>\n",
       "<ol class=list-inline><li>745</li><li>1079</li></ol>\n"
      ],
      "text/latex": [
       "\\begin{enumerate*}\n",
       "\\item 745\n",
       "\\item 1079\n",
       "\\end{enumerate*}\n"
      ],
      "text/markdown": [
       "1. 745\n",
       "2. 1079\n",
       "\n",
       "\n"
      ],
      "text/plain": [
       "[1]  745 1079"
      ]
     },
     "metadata": {},
     "output_type": "display_data"
    }
   ],
   "source": [
    "# Select relevant rows\n",
    "exprs_CLGenes <- exprs_entrez[row.names(exprs_entrez) %in% overlappingCL_entrezID, ]\n",
    "dim(exprs_CLGenes )\n",
    "\n",
    "# gene means = 0, sd =1\n",
    "exprs_CLGenes_scaled <- t(scale(t(exprs_CLGenes), scale = T, center = T)) \n"
   ]
  },
  {
   "cell_type": "code",
   "execution_count": 17,
   "metadata": {},
   "outputs": [
    {
     "data": {
      "text/html": [
       "<style>\n",
       ".list-inline {list-style: none; margin:0; padding: 0}\n",
       ".list-inline>li {display: inline-block}\n",
       ".list-inline>li:not(:last-child)::after {content: \"\\00b7\"; padding: 0 .5ex}\n",
       "</style>\n",
       "<ol class=list-inline><li>745</li><li>52</li></ol>\n"
      ],
      "text/latex": [
       "\\begin{enumerate*}\n",
       "\\item 745\n",
       "\\item 52\n",
       "\\end{enumerate*}\n"
      ],
      "text/markdown": [
       "1. 745\n",
       "2. 52\n",
       "\n",
       "\n"
      ],
      "text/plain": [
       "[1] 745  52"
      ]
     },
     "metadata": {},
     "output_type": "display_data"
    }
   ],
   "source": [
    "# Train centroids based on available genes\n",
    "trainingData <- claudinLowData\n",
    "trainingData$xd <- medianCtr(trainingData$xd)\n",
    "trainingData$xd <- trainingData$xd[rownames(trainingData$xd) %in% rownames(exprs_CLGenes), ]\n",
    "dim(trainingData$xd)\n",
    "\n",
    "# gene means = 0, sd =1\n",
    "trainingData_scaled <- t(scale(t(trainingData$xd), scale = TRUE, center = TRUE))"
   ]
  },
  {
   "cell_type": "code",
   "execution_count": 18,
   "metadata": {},
   "outputs": [],
   "source": [
    "#mean(exprs_CLGenes_scaled[\"6712\",])\n",
    "#sd(exprs_CLGenes_scaled[\"6712\",])\n",
    "#mean(trainingData_scaled [\"6712\",])\n",
    "#sd(trainingData_scaled  [\"6712\",])"
   ]
  },
  {
   "cell_type": "code",
   "execution_count": 19,
   "metadata": {
    "scrolled": true
   },
   "outputs": [
    {
     "name": "stdout",
     "output_type": "stream",
     "text": [
      "[1] \"Number of genes used: 745\"\n"
     ]
    },
    {
     "data": {
      "text/html": [
       "45"
      ],
      "text/latex": [
       "45"
      ],
      "text/markdown": [
       "45"
      ],
      "text/plain": [
       "[1] 45"
      ]
     },
     "metadata": {},
     "output_type": "display_data"
    }
   ],
   "source": [
    "cl_class <- claudinLow(x = trainingData_scaled, \n",
    "                       classes = as.matrix(trainingData$classes$Group, ncol = 1),\n",
    "                       y = exprs_CLGenes_scaled,\n",
    "                       distm = \"euclidean\")\n",
    "\n",
    "pred_cl <- cl_class$predictions\n",
    "pred_cl <- data.frame(sample_id = gsub(\"\\\\.\", \"-\", rownames(pred_cl)),\n",
    "                      ClaudinLow = as.character(pred_cl$Call),\n",
    "                      stringsAsFactors = FALSE)\n",
    "pred_cl[pred_cl$ClaudinLow==\"Others\",\"claudin_low\"] <- 0\n",
    "length(pred_cl[pred_cl$ClaudinLow==\"Claudin\",\"claudin_low\"])\n",
    "pred_cl[pred_cl$ClaudinLow==\"Claudin\",\"claudin_low\"] <- 1\n"
   ]
  },
  {
   "cell_type": "code",
   "execution_count": 20,
   "metadata": {},
   "outputs": [
    {
     "data": {
      "text/html": [
       "<table class=\"dataframe\">\n",
       "<caption>A matrix: 3 × 7 of type chr</caption>\n",
       "<thead>\n",
       "\t<tr><th></th><th scope=col>sample_id</th><th scope=col>PAM50</th><th scope=col>claudin_low</th><th scope=col>SCMOD2</th><th scope=col>SCMOD1</th><th scope=col>intClust</th><th scope=col>AIMS</th></tr>\n",
       "</thead>\n",
       "<tbody>\n",
       "\t<tr><th scope=row>TCGA-3C-AAAU-01</th><td>TCGA-3C-AAAU-01</td><td>LumB</td><td>0</td><td>ER+/HER2- High Prolif</td><td>ER+/HER2- High Prolif</td><td>2</td><td>LumB</td></tr>\n",
       "\t<tr><th scope=row>TCGA-3C-AALI-01</th><td>TCGA-3C-AALI-01</td><td>Her2</td><td>0</td><td>HER2+                </td><td>HER2+                </td><td>1</td><td>Her2</td></tr>\n",
       "\t<tr><th scope=row>TCGA-3C-AALJ-01</th><td>TCGA-3C-AALJ-01</td><td>LumB</td><td>0</td><td>ER+/HER2- High Prolif</td><td>ER+/HER2- High Prolif</td><td>6</td><td>LumB</td></tr>\n",
       "</tbody>\n",
       "</table>\n"
      ],
      "text/latex": [
       "A matrix: 3 × 7 of type chr\n",
       "\\begin{tabular}{r|lllllll}\n",
       "  & sample\\_id & PAM50 & claudin\\_low & SCMOD2 & SCMOD1 & intClust & AIMS\\\\\n",
       "\\hline\n",
       "\tTCGA-3C-AAAU-01 & TCGA-3C-AAAU-01 & LumB & 0 & ER+/HER2- High Prolif & ER+/HER2- High Prolif & 2 & LumB\\\\\n",
       "\tTCGA-3C-AALI-01 & TCGA-3C-AALI-01 & Her2 & 0 & HER2+                 & HER2+                 & 1 & Her2\\\\\n",
       "\tTCGA-3C-AALJ-01 & TCGA-3C-AALJ-01 & LumB & 0 & ER+/HER2- High Prolif & ER+/HER2- High Prolif & 6 & LumB\\\\\n",
       "\\end{tabular}\n"
      ],
      "text/markdown": [
       "\n",
       "A matrix: 3 × 7 of type chr\n",
       "\n",
       "| <!--/--> | sample_id | PAM50 | claudin_low | SCMOD2 | SCMOD1 | intClust | AIMS |\n",
       "|---|---|---|---|---|---|---|---|\n",
       "| TCGA-3C-AAAU-01 | TCGA-3C-AAAU-01 | LumB | 0 | ER+/HER2- High Prolif | ER+/HER2- High Prolif | 2 | LumB |\n",
       "| TCGA-3C-AALI-01 | TCGA-3C-AALI-01 | Her2 | 0 | HER2+                 | HER2+                 | 1 | Her2 |\n",
       "| TCGA-3C-AALJ-01 | TCGA-3C-AALJ-01 | LumB | 0 | ER+/HER2- High Prolif | ER+/HER2- High Prolif | 6 | LumB |\n",
       "\n"
      ],
      "text/plain": [
       "                sample_id       PAM50 claudin_low SCMOD2               \n",
       "TCGA-3C-AAAU-01 TCGA-3C-AAAU-01 LumB  0           ER+/HER2- High Prolif\n",
       "TCGA-3C-AALI-01 TCGA-3C-AALI-01 Her2  0           HER2+                \n",
       "TCGA-3C-AALJ-01 TCGA-3C-AALJ-01 LumB  0           ER+/HER2- High Prolif\n",
       "                SCMOD1                intClust AIMS\n",
       "TCGA-3C-AAAU-01 ER+/HER2- High Prolif 2        LumB\n",
       "TCGA-3C-AALI-01 HER2+                 1        Her2\n",
       "TCGA-3C-AALJ-01 ER+/HER2- High Prolif 6        LumB"
      ]
     },
     "metadata": {},
     "output_type": "display_data"
    }
   ],
   "source": [
    "sample_id <- pred_cl$sample_id\n",
    "claudin_low <- pred_cl[,\"claudin_low\"]\n",
    "pam50_subt <- as.character(pam50_subt)\n",
    "subtypes <- cbind(\"sample_id\"=sample_id,\"PAM50\"=pam50_subt,\n",
    "                  \"claudin_low\"=claudin_low,\n",
    "                  \"SCMOD2\"=scmod2_subt,\"SCMOD1\"=scmod1_subt,\n",
    "                  \"intClust\"=intClust_subt,\"AIMS\"=AIMS_subt)\n",
    "head(subtypes,3)\n",
    "#write.table(subtypes,paste0(data_folder,subtype_file),sep = \"\\t\",quote = FALSE,row.names = F)"
   ]
  },
  {
   "cell_type": "code",
   "execution_count": 21,
   "metadata": {},
   "outputs": [
    {
     "data": {
      "text/html": [
       "<style>\n",
       ".list-inline {list-style: none; margin:0; padding: 0}\n",
       ".list-inline>li {display: inline-block}\n",
       ".list-inline>li:not(:last-child)::after {content: \"\\00b7\"; padding: 0 .5ex}\n",
       "</style>\n",
       "<ol class=list-inline><li>'ER+/HER2- High Prolif'</li><li>'HER2+'</li><li>'ER+/HER2- Low Prolif'</li><li>'ER-/HER2-'</li></ol>\n"
      ],
      "text/latex": [
       "\\begin{enumerate*}\n",
       "\\item 'ER+/HER2- High Prolif'\n",
       "\\item 'HER2+'\n",
       "\\item 'ER+/HER2- Low Prolif'\n",
       "\\item 'ER-/HER2-'\n",
       "\\end{enumerate*}\n"
      ],
      "text/markdown": [
       "1. 'ER+/HER2- High Prolif'\n",
       "2. 'HER2+'\n",
       "3. 'ER+/HER2- Low Prolif'\n",
       "4. 'ER-/HER2-'\n",
       "\n",
       "\n"
      ],
      "text/plain": [
       "[1] \"ER+/HER2- High Prolif\" \"HER2+\"                 \"ER+/HER2- Low Prolif\" \n",
       "[4] \"ER-/HER2-\"            "
      ]
     },
     "metadata": {},
     "output_type": "display_data"
    }
   ],
   "source": [
    "unique(subtypes[,\"SCMOD2\"])\n",
    "#rownames(subtypes)[subtypes[,\"scmod2_subt\"]==\"HER2+\"]"
   ]
  },
  {
   "cell_type": "markdown",
   "metadata": {},
   "source": [
    "# Known signatures and risk scores "
   ]
  },
  {
   "cell_type": "code",
   "execution_count": 22,
   "metadata": {
    "scrolled": false
   },
   "outputs": [
    {
     "name": "stdout",
     "output_type": "stream",
     "text": [
      "[1] \"SCMGENE- three gene\"\n"
     ]
    },
    {
     "name": "stderr",
     "output_type": "stream",
     "text": [
      "probe candidates: 1/1\n",
      "\n",
      "probe candidates: 1/1\n",
      "\n",
      "probe candidates: 1/1\n",
      "\n",
      "probe candidates: 433/469\n",
      "\n"
     ]
    },
    {
     "name": "stdout",
     "output_type": "stream",
     "text": [
      "[1] \"Desmedt2008_ESR1\"\n"
     ]
    },
    {
     "name": "stderr",
     "output_type": "stream",
     "text": [
      "probe candidates: 28/28\n",
      "\n"
     ]
    },
    {
     "name": "stdout",
     "output_type": "stream",
     "text": [
      "[1] \"Desmedt2008_ERBB2\"\n"
     ]
    },
    {
     "name": "stderr",
     "output_type": "stream",
     "text": [
      "probe candidates: 223/229\n",
      "\n"
     ]
    },
    {
     "name": "stdout",
     "output_type": "stream",
     "text": [
      "[1] \"Desmedt2008_AURKA\"\n"
     ]
    },
    {
     "name": "stderr",
     "output_type": "stream",
     "text": [
      "probe candidates: 67/68\n",
      "\n"
     ]
    },
    {
     "name": "stdout",
     "output_type": "stream",
     "text": [
      "[1] \"Desmedt2008_PLAU\"\n"
     ]
    },
    {
     "name": "stderr",
     "output_type": "stream",
     "text": [
      "probe candidates: 13/14\n",
      "\n"
     ]
    },
    {
     "name": "stdout",
     "output_type": "stream",
     "text": [
      "[1] \"Desmedt2008_VEGF\"\n"
     ]
    },
    {
     "name": "stderr",
     "output_type": "stream",
     "text": [
      "probe candidates: 88/95\n",
      "\n"
     ]
    },
    {
     "name": "stdout",
     "output_type": "stream",
     "text": [
      "[1] \"Desmedt2008_STAT1\"\n"
     ]
    },
    {
     "name": "stderr",
     "output_type": "stream",
     "text": [
      "probe candidates: 9/10\n",
      "\n"
     ]
    },
    {
     "name": "stdout",
     "output_type": "stream",
     "text": [
      "[1] \"Desmedt2008_CASP3\"\n",
      "[1] \"GENIUS\"\n",
      "[1] \"EndoPredict\"\n",
      "[1] \"OncotypeDx - GENE21\"\n",
      "[1] \"GGI - grade index\"\n"
     ]
    },
    {
     "name": "stderr",
     "output_type": "stream",
     "text": [
      "probe candidates: 102/128\n",
      "\n"
     ]
    },
    {
     "name": "stdout",
     "output_type": "stream",
     "text": [
      "[1] \"TAMR13 - Tamoxifen response\"\n"
     ]
    },
    {
     "name": "stderr",
     "output_type": "stream",
     "text": [
      "probe candidates: 4/7\n",
      "\n",
      "probe candidates: 27/45\n",
      "\n",
      "probe candidates: 10/14\n",
      "\n",
      "probe candidates: 24/38\n",
      "\n",
      "probe candidates: 3/8\n",
      "\n",
      "probe candidates: 25/36\n",
      "\n",
      "probe candidates: 4/7\n",
      "\n",
      "probe candidates: 7/21\n",
      "\n",
      "probe candidates: 15/26\n",
      "\n",
      "probe candidates: 15/30\n",
      "\n",
      "probe candidates: 3/7\n",
      "\n"
     ]
    },
    {
     "name": "stdout",
     "output_type": "stream",
     "text": [
      "[1] \"Mammaprint - GENE70\"\n"
     ]
    },
    {
     "name": "stderr",
     "output_type": "stream",
     "text": [
      "49/70 probes are used to compute the score\n",
      "\n",
      "no standardization of the gene expressions\n",
      "\n"
     ]
    },
    {
     "name": "stdout",
     "output_type": "stream",
     "text": [
      "[1] \"PIK3CA\"\n",
      "[1] \"RorS\"\n"
     ]
    },
    {
     "data": {
      "text/html": [
       "<table class=\"dataframe\">\n",
       "<caption>A matrix: 5 × 25 of type dbl</caption>\n",
       "<thead>\n",
       "\t<tr><th></th><th scope=col>AURKA</th><th scope=col>ESR1</th><th scope=col>ERBB2</th><th scope=col>Desmedt2008_ESR1</th><th scope=col>Desmedt2008_ERBB2</th><th scope=col>Desmedt2008_AURKA</th><th scope=col>Desmedt2008_PLAU</th><th scope=col>Desmedt2008_VEGF</th><th scope=col>Desmedt2008_STAT1</th><th scope=col>Desmedt2008_CASP3</th><th scope=col>⋯</th><th scope=col>EndoPredict_risk</th><th scope=col>OncotypeDx</th><th scope=col>OncotypeDx_risk</th><th scope=col>GGI</th><th scope=col>TAMR13</th><th scope=col>GENE70</th><th scope=col>GENE70_risk</th><th scope=col>PIK3CA</th><th scope=col>rorS</th><th scope=col>rorS_risk</th></tr>\n",
       "</thead>\n",
       "<tbody>\n",
       "\t<tr><th scope=row>TCGA-3C-AAAU-01</th><td> 9.7389</td><td>12.5624</td><td>13.6124</td><td>3.164715</td><td>6.849571</td><td>2.710936</td><td>7.014367</td><td>-0.1717000</td><td>6.980868</td><td>-2.320000</td><td>⋯</td><td>1</td><td> 70.66625</td><td>1</td><td>6.860194</td><td>-34.29274</td><td>-0.125612245</td><td>1</td><td>2.104245</td><td>51.80392</td><td>2</td></tr>\n",
       "\t<tr><th scope=row>TCGA-3C-AALI-01</th><td>10.6689</td><td> 7.1768</td><td>18.4282</td><td>2.287569</td><td>8.262425</td><td>2.822298</td><td>7.860093</td><td>-0.4111538</td><td>8.815984</td><td>-2.485467</td><td>⋯</td><td>1</td><td>100.00000</td><td>1</td><td>7.559643</td><td>-35.46239</td><td>-0.009591837</td><td>1</td><td>2.304907</td><td>93.86951</td><td>3</td></tr>\n",
       "\t<tr><th scope=row>TCGA-3C-AALJ-01</th><td>10.2321</td><td>13.4848</td><td>14.0763</td><td>2.735389</td><td>6.095989</td><td>2.688204</td><td>7.832410</td><td>-0.3576615</td><td>8.309490</td><td>-2.541533</td><td>⋯</td><td>1</td><td>100.00000</td><td>1</td><td>7.047194</td><td>-34.90484</td><td>-0.060106641</td><td>1</td><td>1.889693</td><td>71.83608</td><td>3</td></tr>\n",
       "\t<tr><th scope=row>TCGA-3C-AALK-01</th><td> 8.6073</td><td>12.0650</td><td>15.9389</td><td>2.498951</td><td>7.551696</td><td>1.922101</td><td>8.318599</td><td>-0.7630923</td><td>7.996899</td><td>-2.438433</td><td>⋯</td><td>1</td><td> 56.37148</td><td>1</td><td>6.394736</td><td>-40.19144</td><td>-0.419387755</td><td>0</td><td>2.510134</td><td>18.22183</td><td>1</td></tr>\n",
       "\t<tr><th scope=row>TCGA-4H-AAAK-01</th><td> 8.4108</td><td>13.1673</td><td>14.3222</td><td>2.431919</td><td>6.194600</td><td>1.911874</td><td>8.180442</td><td>-0.3607615</td><td>7.878992</td><td>-2.438244</td><td>⋯</td><td>1</td><td> 33.23366</td><td>1</td><td>6.154126</td><td>-40.12471</td><td>-0.412142857</td><td>0</td><td>2.445472</td><td>17.64936</td><td>1</td></tr>\n",
       "</tbody>\n",
       "</table>\n"
      ],
      "text/latex": [
       "A matrix: 5 × 25 of type dbl\n",
       "\\begin{tabular}{r|lllllllllllllllllllll}\n",
       "  & AURKA & ESR1 & ERBB2 & Desmedt2008\\_ESR1 & Desmedt2008\\_ERBB2 & Desmedt2008\\_AURKA & Desmedt2008\\_PLAU & Desmedt2008\\_VEGF & Desmedt2008\\_STAT1 & Desmedt2008\\_CASP3 & ⋯ & EndoPredict\\_risk & OncotypeDx & OncotypeDx\\_risk & GGI & TAMR13 & GENE70 & GENE70\\_risk & PIK3CA & rorS & rorS\\_risk\\\\\n",
       "\\hline\n",
       "\tTCGA-3C-AAAU-01 &  9.7389 & 12.5624 & 13.6124 & 3.164715 & 6.849571 & 2.710936 & 7.014367 & -0.1717000 & 6.980868 & -2.320000 & ⋯ & 1 &  70.66625 & 1 & 6.860194 & -34.29274 & -0.125612245 & 1 & 2.104245 & 51.80392 & 2\\\\\n",
       "\tTCGA-3C-AALI-01 & 10.6689 &  7.1768 & 18.4282 & 2.287569 & 8.262425 & 2.822298 & 7.860093 & -0.4111538 & 8.815984 & -2.485467 & ⋯ & 1 & 100.00000 & 1 & 7.559643 & -35.46239 & -0.009591837 & 1 & 2.304907 & 93.86951 & 3\\\\\n",
       "\tTCGA-3C-AALJ-01 & 10.2321 & 13.4848 & 14.0763 & 2.735389 & 6.095989 & 2.688204 & 7.832410 & -0.3576615 & 8.309490 & -2.541533 & ⋯ & 1 & 100.00000 & 1 & 7.047194 & -34.90484 & -0.060106641 & 1 & 1.889693 & 71.83608 & 3\\\\\n",
       "\tTCGA-3C-AALK-01 &  8.6073 & 12.0650 & 15.9389 & 2.498951 & 7.551696 & 1.922101 & 8.318599 & -0.7630923 & 7.996899 & -2.438433 & ⋯ & 1 &  56.37148 & 1 & 6.394736 & -40.19144 & -0.419387755 & 0 & 2.510134 & 18.22183 & 1\\\\\n",
       "\tTCGA-4H-AAAK-01 &  8.4108 & 13.1673 & 14.3222 & 2.431919 & 6.194600 & 1.911874 & 8.180442 & -0.3607615 & 7.878992 & -2.438244 & ⋯ & 1 &  33.23366 & 1 & 6.154126 & -40.12471 & -0.412142857 & 0 & 2.445472 & 17.64936 & 1\\\\\n",
       "\\end{tabular}\n"
      ],
      "text/markdown": [
       "\n",
       "A matrix: 5 × 25 of type dbl\n",
       "\n",
       "| <!--/--> | AURKA | ESR1 | ERBB2 | Desmedt2008_ESR1 | Desmedt2008_ERBB2 | Desmedt2008_AURKA | Desmedt2008_PLAU | Desmedt2008_VEGF | Desmedt2008_STAT1 | Desmedt2008_CASP3 | ⋯ | EndoPredict_risk | OncotypeDx | OncotypeDx_risk | GGI | TAMR13 | GENE70 | GENE70_risk | PIK3CA | rorS | rorS_risk |\n",
       "|---|---|---|---|---|---|---|---|---|---|---|---|---|---|---|---|---|---|---|---|---|---|\n",
       "| TCGA-3C-AAAU-01 |  9.7389 | 12.5624 | 13.6124 | 3.164715 | 6.849571 | 2.710936 | 7.014367 | -0.1717000 | 6.980868 | -2.320000 | ⋯ | 1 |  70.66625 | 1 | 6.860194 | -34.29274 | -0.125612245 | 1 | 2.104245 | 51.80392 | 2 |\n",
       "| TCGA-3C-AALI-01 | 10.6689 |  7.1768 | 18.4282 | 2.287569 | 8.262425 | 2.822298 | 7.860093 | -0.4111538 | 8.815984 | -2.485467 | ⋯ | 1 | 100.00000 | 1 | 7.559643 | -35.46239 | -0.009591837 | 1 | 2.304907 | 93.86951 | 3 |\n",
       "| TCGA-3C-AALJ-01 | 10.2321 | 13.4848 | 14.0763 | 2.735389 | 6.095989 | 2.688204 | 7.832410 | -0.3576615 | 8.309490 | -2.541533 | ⋯ | 1 | 100.00000 | 1 | 7.047194 | -34.90484 | -0.060106641 | 1 | 1.889693 | 71.83608 | 3 |\n",
       "| TCGA-3C-AALK-01 |  8.6073 | 12.0650 | 15.9389 | 2.498951 | 7.551696 | 1.922101 | 8.318599 | -0.7630923 | 7.996899 | -2.438433 | ⋯ | 1 |  56.37148 | 1 | 6.394736 | -40.19144 | -0.419387755 | 0 | 2.510134 | 18.22183 | 1 |\n",
       "| TCGA-4H-AAAK-01 |  8.4108 | 13.1673 | 14.3222 | 2.431919 | 6.194600 | 1.911874 | 8.180442 | -0.3607615 | 7.878992 | -2.438244 | ⋯ | 1 |  33.23366 | 1 | 6.154126 | -40.12471 | -0.412142857 | 0 | 2.445472 | 17.64936 | 1 |\n",
       "\n"
      ],
      "text/plain": [
       "                AURKA   ESR1    ERBB2   Desmedt2008_ESR1 Desmedt2008_ERBB2\n",
       "TCGA-3C-AAAU-01  9.7389 12.5624 13.6124 3.164715         6.849571         \n",
       "TCGA-3C-AALI-01 10.6689  7.1768 18.4282 2.287569         8.262425         \n",
       "TCGA-3C-AALJ-01 10.2321 13.4848 14.0763 2.735389         6.095989         \n",
       "TCGA-3C-AALK-01  8.6073 12.0650 15.9389 2.498951         7.551696         \n",
       "TCGA-4H-AAAK-01  8.4108 13.1673 14.3222 2.431919         6.194600         \n",
       "                Desmedt2008_AURKA Desmedt2008_PLAU Desmedt2008_VEGF\n",
       "TCGA-3C-AAAU-01 2.710936          7.014367         -0.1717000      \n",
       "TCGA-3C-AALI-01 2.822298          7.860093         -0.4111538      \n",
       "TCGA-3C-AALJ-01 2.688204          7.832410         -0.3576615      \n",
       "TCGA-3C-AALK-01 1.922101          8.318599         -0.7630923      \n",
       "TCGA-4H-AAAK-01 1.911874          8.180442         -0.3607615      \n",
       "                Desmedt2008_STAT1 Desmedt2008_CASP3 ⋯ EndoPredict_risk\n",
       "TCGA-3C-AAAU-01 6.980868          -2.320000         ⋯ 1               \n",
       "TCGA-3C-AALI-01 8.815984          -2.485467         ⋯ 1               \n",
       "TCGA-3C-AALJ-01 8.309490          -2.541533         ⋯ 1               \n",
       "TCGA-3C-AALK-01 7.996899          -2.438433         ⋯ 1               \n",
       "TCGA-4H-AAAK-01 7.878992          -2.438244         ⋯ 1               \n",
       "                OncotypeDx OncotypeDx_risk GGI      TAMR13    GENE70      \n",
       "TCGA-3C-AAAU-01  70.66625  1               6.860194 -34.29274 -0.125612245\n",
       "TCGA-3C-AALI-01 100.00000  1               7.559643 -35.46239 -0.009591837\n",
       "TCGA-3C-AALJ-01 100.00000  1               7.047194 -34.90484 -0.060106641\n",
       "TCGA-3C-AALK-01  56.37148  1               6.394736 -40.19144 -0.419387755\n",
       "TCGA-4H-AAAK-01  33.23366  1               6.154126 -40.12471 -0.412142857\n",
       "                GENE70_risk PIK3CA   rorS     rorS_risk\n",
       "TCGA-3C-AAAU-01 1           2.104245 51.80392 2        \n",
       "TCGA-3C-AALI-01 1           2.304907 93.86951 3        \n",
       "TCGA-3C-AALJ-01 1           1.889693 71.83608 3        \n",
       "TCGA-3C-AALK-01 0           2.510134 18.22183 1        \n",
       "TCGA-4H-AAAK-01 0           2.445472 17.64936 1        "
      ]
     },
     "metadata": {},
     "output_type": "display_data"
    }
   ],
   "source": [
    "data(mod1)\n",
    "signatures <- NULL\n",
    "# \n",
    "print(\"SCMGENE- three gene\")\n",
    "modt <- scmgene.robust$mod$AURKA\n",
    "signatures <- cbind(signatures, \"AURKA\"=sig.score(x=modt, data=exprs, annot=gene_anno,do.mapping=TRUE, verbose = TRUE)$score)\n",
    "modt <- scmgene.robust$mod$ESR1\n",
    "signatures <- cbind(signatures, \"ESR1\"=sig.score(x=modt, data=exprs, annot=gene_anno, do.mapping=TRUE, verbose = TRUE)$score)\n",
    "modt <- scmgene.robust$mod$ERBB2\n",
    "signatures <- cbind(signatures, \"ERBB2\"=sig.score(x=modt, data=exprs, annot=gene_anno, do.mapping=TRUE, verbose = TRUE)$score)\n",
    "\n",
    "# seven modules from Desmedt2008 et al\n",
    "for (module in names(mod1)){\n",
    "    x <- sig.score(mod1[[module]], exprs, gene_anno, do.mapping = TRUE, signed = TRUE, verbose = TRUE)$score\n",
    "    module_name <- paste0('Desmedt2008_',module) \n",
    "    print(module_name)\n",
    "    signatures <- cbind(signatures, x)\n",
    "    colnames(signatures)[length(colnames(signatures))] <- module_name\n",
    "}\n",
    "\n",
    "print(\"GENIUS\")\n",
    "# GENIUSM1 Risk score from the ER-/HER2- subtype signature in GENIUS model.\n",
    "# GENIUSM2 HER2+ subtype signature\n",
    "# GENIUSM3 ER+/HER2- subtype \n",
    "genius_results <- genius(data=exprs, annot=gene_anno, do.mapping=TRUE)\n",
    "signatures <- cbind(signatures, \"GENIUS\"=genius_results$score,\"GENIUSM1\"=genius_results$GENIUSM1,\n",
    "              \"GENIUSM2\"=genius_results$GENIUSM2,\n",
    "              \"GENIUSM3\"=genius_results$GENIUSM3)\n",
    "\n",
    "# Filipits et al. (2011). \"A new molecular predictor of distant recurrence in ER-positive, HER2-negative breast cancer adds independent information to conventional clinical risk factors.\" \n",
    "print(\"EndoPredict\")\n",
    "ep_results <- genefu::endoPredict(data=exprs, annot=gene_anno, do.mapping=TRUE, verbose = TRUE)\n",
    "signatures <- cbind(signatures, \"EndoPredict\"=ep_results$score, \"EndoPredict_risk\"=ep_results$risk)\n",
    "\n",
    "# Paik et al. (2004) \"A Multigene Assay to Predict Recurrence of Tamoxifen-Treated, Node-Negative Breast Cancer\"\n",
    "print(\"OncotypeDx - GENE21\")\n",
    "od_results <- genefu::oncotypedx(data=exprs, annot=gene_anno, do.mapping=TRUE, verbose = TRUE)\n",
    "signatures <- cbind(signatures, \"OncotypeDx\"=od_results$score, \"OncotypeDx_risk\"=od_results$risk)\n",
    "\n",
    "print(\"GGI - grade index\")\n",
    "signatures <- cbind(signatures, \"GGI\"=ggi(data=exprs, annot=gene_anno, do.mapping=TRUE, verbose = TRUE)$score)\n",
    "\n",
    "print(\"TAMR13 - Tamoxifen response\")\n",
    "signatures <- cbind(signatures, \"TAMR13\"=tamr13(data=exprs, annot=gene_anno, do.mapping=TRUE, verbose = TRUE)$score)\n",
    "\n",
    "# mammaPrint\n",
    "print(\"Mammaprint - GENE70\")\n",
    "gene70_results <- gene70(data=exprs, annot=gene_anno, std=\"none\",do.mapping=TRUE, verbose = TRUE)\n",
    "signatures <- cbind(signatures, \"GENE70\"=gene70_results$score,\"GENE70_risk\"=gene70_results$risk)\n",
    "\n",
    "print(\"PIK3CA\")\n",
    "signatures <- cbind(signatures, \"PIK3CA\"=pik3cags(data=exprs, annot=gene_anno, do.mapping=TRUE))\n",
    "print(\"RorS\")\n",
    "rors_results <- rorS(data=exprs, annot=gene_anno, do.mapping=TRUE, verbose = TRUE)\n",
    "signatures <- cbind(signatures, \"rorS\"=rors_results$score,\"rorS_risk\"=rors_results$risk)\n",
    "\n",
    "head(signatures,5)"
   ]
  },
  {
   "cell_type": "code",
   "execution_count": 23,
   "metadata": {},
   "outputs": [
    {
     "data": {
      "text/html": [
       "<style>\n",
       ".list-inline {list-style: none; margin:0; padding: 0}\n",
       ".list-inline>li {display: inline-block}\n",
       ".list-inline>li:not(:last-child)::after {content: \"\\00b7\"; padding: 0 .5ex}\n",
       "</style>\n",
       "<ol class=list-inline><li>'sample_id'</li><li>'PAM50'</li><li>'claudin_low'</li><li>'SCMOD2'</li><li>'SCMOD1'</li><li>'intClust'</li><li>'AIMS'</li><li>'AURKA'</li><li>'ESR1'</li><li>'ERBB2'</li><li>'Desmedt2008_ESR1'</li><li>'Desmedt2008_ERBB2'</li><li>'Desmedt2008_AURKA'</li><li>'Desmedt2008_PLAU'</li><li>'Desmedt2008_VEGF'</li><li>'Desmedt2008_STAT1'</li><li>'Desmedt2008_CASP3'</li><li>'GENIUS'</li><li>'GENIUSM1'</li><li>'GENIUSM2'</li><li>'GENIUSM3'</li><li>'EndoPredict'</li><li>'EndoPredict_risk'</li><li>'OncotypeDx'</li><li>'OncotypeDx_risk'</li><li>'GGI'</li><li>'TAMR13'</li><li>'GENE70'</li><li>'GENE70_risk'</li><li>'PIK3CA'</li><li>'rorS'</li><li>'rorS_risk'</li></ol>\n"
      ],
      "text/latex": [
       "\\begin{enumerate*}\n",
       "\\item 'sample\\_id'\n",
       "\\item 'PAM50'\n",
       "\\item 'claudin\\_low'\n",
       "\\item 'SCMOD2'\n",
       "\\item 'SCMOD1'\n",
       "\\item 'intClust'\n",
       "\\item 'AIMS'\n",
       "\\item 'AURKA'\n",
       "\\item 'ESR1'\n",
       "\\item 'ERBB2'\n",
       "\\item 'Desmedt2008\\_ESR1'\n",
       "\\item 'Desmedt2008\\_ERBB2'\n",
       "\\item 'Desmedt2008\\_AURKA'\n",
       "\\item 'Desmedt2008\\_PLAU'\n",
       "\\item 'Desmedt2008\\_VEGF'\n",
       "\\item 'Desmedt2008\\_STAT1'\n",
       "\\item 'Desmedt2008\\_CASP3'\n",
       "\\item 'GENIUS'\n",
       "\\item 'GENIUSM1'\n",
       "\\item 'GENIUSM2'\n",
       "\\item 'GENIUSM3'\n",
       "\\item 'EndoPredict'\n",
       "\\item 'EndoPredict\\_risk'\n",
       "\\item 'OncotypeDx'\n",
       "\\item 'OncotypeDx\\_risk'\n",
       "\\item 'GGI'\n",
       "\\item 'TAMR13'\n",
       "\\item 'GENE70'\n",
       "\\item 'GENE70\\_risk'\n",
       "\\item 'PIK3CA'\n",
       "\\item 'rorS'\n",
       "\\item 'rorS\\_risk'\n",
       "\\end{enumerate*}\n"
      ],
      "text/markdown": [
       "1. 'sample_id'\n",
       "2. 'PAM50'\n",
       "3. 'claudin_low'\n",
       "4. 'SCMOD2'\n",
       "5. 'SCMOD1'\n",
       "6. 'intClust'\n",
       "7. 'AIMS'\n",
       "8. 'AURKA'\n",
       "9. 'ESR1'\n",
       "10. 'ERBB2'\n",
       "11. 'Desmedt2008_ESR1'\n",
       "12. 'Desmedt2008_ERBB2'\n",
       "13. 'Desmedt2008_AURKA'\n",
       "14. 'Desmedt2008_PLAU'\n",
       "15. 'Desmedt2008_VEGF'\n",
       "16. 'Desmedt2008_STAT1'\n",
       "17. 'Desmedt2008_CASP3'\n",
       "18. 'GENIUS'\n",
       "19. 'GENIUSM1'\n",
       "20. 'GENIUSM2'\n",
       "21. 'GENIUSM3'\n",
       "22. 'EndoPredict'\n",
       "23. 'EndoPredict_risk'\n",
       "24. 'OncotypeDx'\n",
       "25. 'OncotypeDx_risk'\n",
       "26. 'GGI'\n",
       "27. 'TAMR13'\n",
       "28. 'GENE70'\n",
       "29. 'GENE70_risk'\n",
       "30. 'PIK3CA'\n",
       "31. 'rorS'\n",
       "32. 'rorS_risk'\n",
       "\n",
       "\n"
      ],
      "text/plain": [
       " [1] \"sample_id\"         \"PAM50\"             \"claudin_low\"      \n",
       " [4] \"SCMOD2\"            \"SCMOD1\"            \"intClust\"         \n",
       " [7] \"AIMS\"              \"AURKA\"             \"ESR1\"             \n",
       "[10] \"ERBB2\"             \"Desmedt2008_ESR1\"  \"Desmedt2008_ERBB2\"\n",
       "[13] \"Desmedt2008_AURKA\" \"Desmedt2008_PLAU\"  \"Desmedt2008_VEGF\" \n",
       "[16] \"Desmedt2008_STAT1\" \"Desmedt2008_CASP3\" \"GENIUS\"           \n",
       "[19] \"GENIUSM1\"          \"GENIUSM2\"          \"GENIUSM3\"         \n",
       "[22] \"EndoPredict\"       \"EndoPredict_risk\"  \"OncotypeDx\"       \n",
       "[25] \"OncotypeDx_risk\"   \"GGI\"               \"TAMR13\"           \n",
       "[28] \"GENE70\"            \"GENE70_risk\"       \"PIK3CA\"           \n",
       "[31] \"rorS\"              \"rorS_risk\"        "
      ]
     },
     "metadata": {},
     "output_type": "display_data"
    }
   ],
   "source": [
    "colnames(cbind(subtypes,signatures))\n",
    "write.table(cbind(subtypes,signatures),paste0(data_folder,output_file),sep = \"\\t\",quote = FALSE,row.names = F)"
   ]
  },
  {
   "cell_type": "markdown",
   "metadata": {},
   "source": [
    "## OncotypeDx and EndoPredict run separately because they require all genes\n",
    "- for METABRIC, because several genes are missed\n",
    "- functions are modified such that it replaces NAs with 0 \n",
    "- (NAs appear due to sd=0 for added genes)"
   ]
  },
  {
   "cell_type": "code",
   "execution_count": null,
   "metadata": {},
   "outputs": [],
   "source": [
    "# if important genes are not in expressions, add zero genes\n",
    "for (gene in c(\"BAG1\",\"DHCR7\")){\n",
    " if (!(gene %in% colnames(exprs))){ \n",
    "  e <- rep(0,dim(exprs)[[1]])\n",
    "  exprs <- cbind(exprs,e)\n",
    "  colnames(exprs)[length(colnames(exprs))] <- gene\n",
    " }\n",
    "}\n",
    "\n",
    "exprs <- exprs[,sort(colnames(exprs))]\n",
    "\n",
    "# reload gene annotation\n",
    "# read the file mapping gene ids in expression matrix to Entrez ids \n",
    "gene_anno <- read.delim(paste0(data_folder,gene_annot_file), row.names = 1,sep = \"\\t\")\n",
    "gene_anno <- gene_anno[,c(\"probe\",\"EntrezGene.ID\",\"Gene.Symbol\")]\n",
    "head(gene_anno,3)\n",
    "\n"
   ]
  },
  {
   "cell_type": "code",
   "execution_count": null,
   "metadata": {},
   "outputs": [],
   "source": [
    "oncotypedx2 <-\n",
    "function(data, annot, do.mapping=FALSE, mapping, verbose=FALSE) {\n",
    "    \n",
    "\t## the reference genes are not taken into account due to their absence from most platforms\n",
    "\tsig2 <- sig.oncotypedx[sig.oncotypedx[ , \"group\"] != \"reference\",  , drop=FALSE]\n",
    "\tdimnames(sig2)[[1]] <- sig2[ , \"probe.affy\"]\n",
    "\tgt <- nrow(sig2)\n",
    "\tif(do.mapping) { ## not an affy HGU platform\n",
    "\t\tgid1 <- as.numeric(as.character(sig2[ ,\"EntrezGene.ID\"]))\n",
    "\t\tnames(gid1) <- dimnames(sig2)[[1]]\n",
    "\t\tgid2 <- as.numeric(as.character(annot[ ,\"EntrezGene.ID\"]))\n",
    "\t\tnames(gid2) <- dimnames(annot)[[1]]\n",
    "\t\t## remove missing and duplicated geneids from the gene list\n",
    "\t\trm.ix <- is.na(gid1) | duplicated(gid1)\n",
    "\t\tgid1 <- gid1[!rm.ix]\n",
    "\t\t## mqpping\n",
    "\t\trr <- geneid.map(geneid1=gid2, data1=data, geneid2=gid1, verbose=FALSE)\n",
    "\t\tgm <- length(rr$geneid2)\n",
    "\t\tmymapping <- c(\"mapped\"=gm, \"total\"=gt)\n",
    "        \n",
    "\t\tif(length(rr$geneid1) != gt) { ## some genes are missing\n",
    "\t\t\tres <- rep(NA, nrow(data))\n",
    "\t\t\tnames(res) <- dimnames(data)[[1]]\n",
    "\t\t\twarning(sprintf(\"Probe candidates: %i/%i\", gm, gt),\n",
    "\t\t\t\t\"\\nIncomplete overlap between the gene signature EntrezGene.IDs\",\n",
    "\t\t\t\t\" and the EntrezGene.ID column of annot... Returning all NAs.\")\n",
    "\t\t\treturn(list(\"score\"=res, \"risk\"=res, \"mapping\"=mymapping, \"probe\"=NA))\n",
    "\t\t}\n",
    "\t\tgid1 <- rr$geneid2\n",
    "\t\tgid2 <- rr$geneid1\n",
    "\t\tdata <- rr$data1\n",
    "        \n",
    "\t\tmyprobe <- cbind(\"probe\"=names(gid1), \"EntrezGene.ID\"=gid1, \"new.probe\"=names(gid2))\n",
    "        \n",
    "\t\t## change the names of probes in the data\n",
    "\t\tdimnames(data)[[2]] <- names(gid2) <- names(gid1)\n",
    "        \n",
    "\t} else {\n",
    "\t\tmyprobe <- NA\n",
    "\t\tdata <- data[ ,intersect(dimnames(sig2)[[1]], dimnames(data)[[2]])]\n",
    "\t\tgm <- ncol(data)\n",
    "\t\tmymapping <- c(\"mapped\"=gm, \"total\"=gt)\n",
    "\t\tif(nrow(sig2) != ncol(data)) { ## some genes are missing\n",
    "\t\t\tres <- rep(NA, nrow(data))\n",
    "\t\t\tnames(res) <- dimnames(data)[[1]]\n",
    "\t\t\twarning(sprintf(\"Probe candidates: %i/%i\", gm, gt),\n",
    "\t\t\t\t\"\\nIncomplete overlap between the gene signature EntrezGene.IDs\",\n",
    "\t\t\t\t\" and the colnames of data... Returning all NAs.\")\n",
    "\t\t\treturn(list(\"score\"=res, \"risk\"=res, \"mapping\"=mymapping, \"probe\"=myprobe))\n",
    "\t\t}\n",
    "\t}\n",
    "\t## rename gene names by the gene symbols\n",
    "    dimnames(data)[[2]] <- dimnames(sig2)[[1]] <- sig2[ , \"symbol\"]\n",
    "    \n",
    "\t## scaling between 0 and 15\n",
    "\tdata <- apply(data, 2, function(x) { xx <- (x - min(x, na.rm=TRUE)) / (max(x, na.rm=TRUE) - min(x, na.rm=TRUE)); return(xx * 15) })\n",
    "    ######## change 1###########\n",
    "    data[is.na(data)] <- 0\n",
    "\t\n",
    "\t## OcotypeDX recurrence score\n",
    "\t## GRB7 group score = 0.9 * GRB7 + 0.1 * HER2 if result < 8, then result = 8\n",
    "\t## ER group score = (0.8 * ER + 1.2 * PGR + BCL2 + SCUBE2) / 4\n",
    "\t## proliferation group score = ( survivin + KI67 + MYBL2 + CCNB1 + STK15) / 5 if result < 6.5, then result = 6.5\n",
    "\t## invasion group score = (CTSL2 + MMP11) / 2\n",
    "\t## RSU = + 0.47 * GRB7 group score - 0.34 * ER group score + 1.04 * proliferation group score + 0.10 * invasion group score + 0.05 * CD68 - 0.08 GSTM1 - 0.07 * BAG1 \n",
    "    \n",
    "\tcc.ix <- complete.cases(data)\n",
    "\trs <- rs.unscaled <- rsrisk <- NULL\n",
    "\tfor (i in 1:nrow(data)) {\n",
    "\t\tif(cc.ix[i]) {\n",
    "\t\t\tgrb7.gs <- 0.9 * data[i, \"GRB7\"] + 0.1 * data[i, \"ERBB2\"]\n",
    "\t\t\tif (grb7.gs < 8) { grb7.gs <- 8 }\n",
    "\n",
    "\t\t\ter.gs <- (0.8 * data[i, \"ESR1\"] + 1.2 * data[i, \"PGR\"] + data[i, \"BCL2\"] + data[i, \"SCUBE2\"]) / 4\n",
    "\n",
    "\t\t\tproliferation.gs <- (data[i, \"BIRC5\"] + data[i, \"MKI67\"] + data[i, \"MYBL2\"] + data[i, \"CCNB1\"] + data[i, \"AURKA\"]) / 5\n",
    "\t\t\tif (proliferation.gs < 6.5) { proliferation.gs <- 6.5 }\n",
    "\n",
    "\t\t\tinvasion.gs <- (data[i, \"CTSL2\"] + data[i, \"MMP11\"]) / 2\n",
    "            \n",
    "\t\t\trsu <- 0.47 * (grb7.gs) - 0.34 * (er.gs) + 1.04 * (proliferation.gs) + 0.1 * (invasion.gs) + 0.05 * data[i, \"CD68\"] - 0.08 * data[i, \"GSTM1\"] - 0.07 * data[i, \"BAG1\"]\n",
    "\t\t\t## rescale the score\n",
    "\t\t\trsu2 <- rsu\n",
    "\t\t\tif(rsu >= 0 & rsu <= 100) { rsu <- 20 * (rsu - 6.7) }\n",
    "\t\t\tif(rsu < 0) { rsu <- 0 }\n",
    "\t\t\tif(rsu > 100) { rsu <- 100 }\n",
    "\t\t\t## use of the official curoffs\n",
    "\t\t\tif(rsu < 18) { rsr <- 0 }\n",
    "\t\t\tif(rsu >= 18 & rsu < 31) { rsr <- 0.5 }\n",
    "\t\t\tif(rsu >= 31) { rsr <- 1 }\n",
    "\t\t}\n",
    "\t\telse { rsu <- rsr <- rsu2 <- NA }\n",
    "\t\trs.unscaled <- c(rs.unscaled, rsu2)\n",
    "\t\trs <- c(rs, rsu)\n",
    "\t\trsrisk <- c(rsrisk, rsr)\n",
    "\t}\n",
    "\tnames(rs) <- names(rs.unscaled) <- names(rsrisk) <- dimnames(data)[[1]]\n",
    "\treturn(list(\"score\"=rs, \"risk\"=rsrisk, \"mapping\"=mymapping, \"probe\"=myprobe))\n",
    "}\n",
    "\n",
    "endoPredict2 <-\n",
    "function(data, annot, do.mapping=FALSE, mapping, verbose=FALSE) {\n",
    "\n",
    "  ## the reference genes are not taken into account due to their absence from most platforms\n",
    "  sig2 <- sig.endoPredict[sig.endoPredict[ , \"group\"] != \"REFERENCE\", , drop=FALSE]\n",
    "\trownames(sig2) <- sig2[ , \"probe.affy\"]\n",
    "\tgt <- nrow(sig2)\n",
    "\tif(do.mapping) { ## not an affy HGU platform\n",
    "\t\tgid1 <- as.numeric(as.character(sig2[ ,\"EntrezGene.ID\"]))\n",
    "\t\tnames(gid1) <- dimnames(sig2)[[1]]\n",
    "\t\tgid2 <- as.numeric(as.character(annot[ ,\"EntrezGene.ID\"]))\n",
    "\t\tnames(gid2) <- dimnames(annot)[[1]]\n",
    "\t\t## remove missing and duplicated geneids from the gene list\n",
    "\t\trm.ix <- is.na(gid1) | duplicated(gid1)\n",
    "\t\tgid1 <- gid1[!rm.ix]\n",
    "\t\t## mqpping\n",
    "\t\trr <- geneid.map(geneid1=gid2, data1=data, geneid2=gid1, verbose=FALSE)\n",
    "\t\tgm <- length(rr$geneid2[!is.na(rr$geneid2)])\n",
    "\t\tmymapping <- c(\"mapped\"=gm, \"total\"=gt)\n",
    "\t\tif(!all(is.element(sig2[sig2[ , \"group\"] == \"GOI\", \"EntrezGene.ID\"], rr$geneid1))) { ## if genes of intesignatures are missing\n",
    "\t\t\tres <- rep(NA, nrow(data))\n",
    "\t\t\tnames(res) <- dimnames(data)[[1]]\n",
    "\t\t\twarning(sprintf(\"Probe candidates: %i/%i\", gm, gt),\n",
    "\t\t\t\t\"\\nIncomplete overlap between the gene signature EntrezGene.IDs\",\n",
    "\t\t\t\t\" and the EntrezGene.ID column of annot... Returning all NAs.\")\n",
    "\t\t\treturn(list(\"score\"=res, \"risk\"=res, \"mapping\"=mymapping, \"probe\"=NA))\n",
    "\t\t}\n",
    "\t\tgid1 <- rr$geneid2\n",
    "\t\tgid2 <- rr$geneid1\n",
    "\t\tdata <- rr$data1\n",
    "\t\tmyprobe <- cbind(\"probe\"=names(gid1), \"EntrezGene.ID\"=gid1, \"new.probe\"=names(gid2))\n",
    "\t\t## change the names of probes in the data\n",
    "\t\tcolnames(data) <- names(gid2) <- names(gid1)\n",
    "    sig2 <- sig2[colnames(data), , drop=FALSE]\n",
    "\t\tgm <- ncol(data)\n",
    "\t\tmymapping <- c(\"mapped\"=gm, \"total\"=gt)\n",
    "\t} else {\n",
    "\t\tmyprobe <- NA\n",
    "    \tnn <- intersect(dimnames(sig2)[[1]], dimnames(data)[[2]])\n",
    "\t\tdata <- data[ , nn]\n",
    "    \tsig2 <- sig2[nn, , drop=FALSE]\n",
    "\t\tgm <- ncol(data)\n",
    "\t\tmymapping <- c(\"mapped\"=gm, \"total\"=gt)\n",
    "\t\tif (length(nn) < 1) {\n",
    "\t\t\tres <- rep(NA, nrow(data))\n",
    "\t\t\tnames(res) <- dimnames(data)[[1]]\n",
    "\t\t\twarning(\"No overalp between the gene signature EntrezGene.IDs\",\n",
    "\t\t\t\t\"and the colnames of your data... Returning all NAs.\")\n",
    "\t\t\treturn(list(\"score\"=res, \"risk\"=res, \"mapping\"=mymapping, \"probe\"=NA))\n",
    "\t\t}\n",
    "\t}\n",
    "\t## rename gene names by the gene symbols\n",
    "\tcolnames(data) <- rownames(sig2) <- sig2[ , \"symbol\"]\n",
    "\t\n",
    "\tif(do.mapping) {\n",
    "    ## transform expressions so they match approximately the scale of Affymetrix data\n",
    "    data <- apply(data, 2, function(x) {\n",
    "      xx <- (x - quantile(x, probs=0.025, na.rm=TRUE)) / (quantile(x, probs=0.975, na.rm=TRUE) - quantile(x, probs=0.025, na.rm=TRUE)) \n",
    "      return((xx * 8) + 6)\n",
    "    })\n",
    "    data[!is.na(data) & data < 1] <- 1\n",
    "    data[!is.na(data) & data > 15] <- 15\n",
    "  }\n",
    "  \n",
    "  ######## change ###########\n",
    "    data[is.na(data)] <- 0\n",
    "    \n",
    "  data <- (data - apply(data, 1, mean, na.rm=TRUE)) + log2(500)\n",
    "  ## apply transformation factor and offset\n",
    "  datat <- t(apply(data, 1, function(x, a, b) {\n",
    "    return((x - b) / a)\n",
    "  }, a=sig2[ , \"a\"], b=sig2[ , \"b\"]))\n",
    "  data <- matrix(NA, nrow=nrow(data), ncol=ncol(data), dimnames=dimnames(data))\n",
    "  data[rownames(datat), colnames(datat)] <- datat\n",
    "\n",
    "\trs <- rs.unscaled <- rsrisk <- rep(NA, nrow(data))\n",
    "  rs.unscaled <- drop((sig2[ , \"weight\"] %*% t(data)) - 2.63)\n",
    "  rs <- sapply(rs.unscaled, function(x) {\n",
    "    if(!is.na(x)) {\n",
    "      x <- 1.5 * x + 18.95\n",
    "      if(x < 0) {\n",
    "        x <- 0\n",
    "      } else {\n",
    "        if(x > 15) {\n",
    "          x <- 15\n",
    "        }\n",
    "      }\n",
    "    }\n",
    "    return(x)\n",
    "  })\n",
    "  rsrisk <- ifelse(rs >= 5, 1, 0)\n",
    "\tnames(rs) <- names(rs.unscaled) <- names(rsrisk) <- dimnames(data)[[1]]\n",
    "\treturn(list(\"score\"=rs, \"risk\"=rsrisk, \"mapping\"=mymapping, \"probe\"=myprobe))\n",
    "}\n",
    "\n",
    "\n",
    "\n",
    "# Filipits et al. (2011). \"A new molecular predictor of distant recurrence in ER-positive, HER2-negative breast cancer adds independent information to conventional clinical risk factors.\" \n",
    "print(\"EndoPredict\")\n",
    "ep_results <- endoPredict2(data=exprs, annot=gene_anno, do.mapping=TRUE, verbose = TRUE)\n",
    "signatures[,\"EndoPredict\"] <- ep_results$score\n",
    "signatures[,\"EndoPredict_risk\"] <- ep_results$risk\n",
    "\n",
    "# Paik et al. (2004) \"A Multigene Assay to Predict Recurrence of Tamoxifen-Treated, Node-Negative Breast Cancer\"\n",
    "print(\"OncotypeDx - GENE21\")\n",
    "od_results <- oncotypedx2(data=exprs, annot=gene_anno, do.mapping=TRUE, verbose = TRUE)\n",
    "signatures[,\"OncotypeDx\"] <- od_results$score\n",
    "signatures[,\"OncotypeDx_risk\"] <-od_results$risk\n",
    "\n",
    "head(signatures,5)"
   ]
  },
  {
   "cell_type": "code",
   "execution_count": null,
   "metadata": {},
   "outputs": [],
   "source": [
    "colnames(cbind(subtypes,signatures))\n",
    "write.table(cbind(subtypes,signatures),paste0(data_folder,output_file),sep = \"\\t\",quote = FALSE,row.names = F)"
   ]
  },
  {
   "cell_type": "code",
   "execution_count": null,
   "metadata": {},
   "outputs": [],
   "source": []
  }
 ],
 "metadata": {
  "kernelspec": {
   "display_name": "R",
   "language": "R",
   "name": "ir"
  },
  "language_info": {
   "codemirror_mode": "r",
   "file_extension": ".r",
   "mimetype": "text/x-r-source",
   "name": "R",
   "pygments_lexer": "r",
   "version": "3.6.1"
  }
 },
 "nbformat": 4,
 "nbformat_minor": 2
}
