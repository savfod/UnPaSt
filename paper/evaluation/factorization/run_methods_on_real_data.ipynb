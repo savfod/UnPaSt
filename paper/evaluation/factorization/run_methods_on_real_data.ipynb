{
 "cells": [
  {
   "cell_type": "code",
   "execution_count": 1,
   "id": "2bb44572",
   "metadata": {
    "scrolled": true
   },
   "outputs": [
    {
     "name": "stdout",
     "output_type": "stream",
     "text": [
      "method_name moCluster\n",
      "Returning existing results:Returning existing results: /cosybio/project/hartung/unpast/unpast_real/METABRIC/moCluster/n_dimensions=1/n_cluster=2/random_state=1/solver=fast/center=True/method=globalScore/option=lambda1/scale=False/k=0.1 \n",
      "/cosybio/project/hartung/unpast/unpast_real/METABRIC/moCluster/n_dimensions=16/n_cluster=6/random_state=1/solver=fast/center=True/method=globalScore/option=lambda1/scale=False/k=0.1\n",
      "Returning existing results:Returning existing results:  /cosybio/project/hartung/unpast/unpast_real/METABRIC/moCluster/n_dimensions=1/n_cluster=2/random_state=1/solver=fast/center=True/method=globalScore/option=lambda1/scale=False/k=1\n",
      "/cosybio/project/hartung/unpast/unpast_real/METABRIC/moCluster/n_dimensions=16/n_cluster=6/random_state=1/solver=fast/center=True/method=globalScore/option=lambda1/scale=False/k=1\n",
      "Running /cosybio/project/hartung/unpast/unpast_real/METABRIC/moCluster/n_dimensions=1/n_cluster=2/random_state=1/solver=fast/center=True/method=globalScore/option=lambda1/scale=False/k=all...\n",
      "Running /cosybio/project/hartung/unpast/unpast_real/METABRIC/moCluster/n_dimensions=16/n_cluster=6/random_state=1/solver=fast/center=True/method=globalScore/option=lambda1/scale=False/k=all...\n"
     ]
    },
    {
     "name": "stderr",
     "output_type": "stream",
     "text": [
      "Loading required package: data.table\n",
      "Loading required package: data.table\n",
      "Warning message:\n",
      "NAs introduced by coercion \n",
      "Warning message:\n",
      "NAs introduced by coercion \n"
     ]
    },
    {
     "name": "stdout",
     "output_type": "stream",
     "text": [
      "      [,1]\n",
      "[1,] 17158\n",
      "[2,]  1904\n",
      "      [,1]\n",
      "[1,] 17158\n",
      "[2,]  1904\n",
      "Returning existing results: /cosybio/project/hartung/unpast/unpast_real/METABRIC/moCluster/n_dimensions=11/n_cluster=11/random_state=1/solver=fast/center=True/method=globalScore/option=lambda1/scale=False/k=0.1\n",
      "Returning existing results: /cosybio/project/hartung/unpast/unpast_real/METABRIC/moCluster/n_dimensions=11/n_cluster=11/random_state=1/solver=fast/center=True/method=globalScore/option=lambda1/scale=False/k=1\n",
      "Running /cosybio/project/hartung/unpast/unpast_real/METABRIC/moCluster/n_dimensions=11/n_cluster=11/random_state=1/solver=fast/center=True/method=globalScore/option=lambda1/scale=False/k=all...\n",
      "calculating component 1 ...\n"
     ]
    },
    {
     "name": "stderr",
     "output_type": "stream",
     "text": [
      "Error in if (keepAllb & keepAllt) r <- msvd(x, svd.sol = svdf) else { : \n",
      "  missing value where TRUE/FALSE needed\n",
      "Calls: mbpca\n",
      "Execution halted\n"
     ]
    },
    {
     "name": "stdout",
     "output_type": "stream",
     "text": [
      "Returning existing results: /cosybio/project/hartung/unpast/unpast_real/METABRIC/moCluster/n_dimensions=6/n_cluster=16/random_state=1/solver=fast/center=True/method=globalScore/option=lambda1/scale=False/k=0.1\n",
      "Returning existing results: /cosybio/project/hartung/unpast/unpast_real/METABRIC/moCluster/n_dimensions=6/n_cluster=16/random_state=1/solver=fast/center=True/method=globalScore/option=lambda1/scale=False/k=1\n",
      "Running /cosybio/project/hartung/unpast/unpast_real/METABRIC/moCluster/n_dimensions=6/n_cluster=16/random_state=1/solver=fast/center=True/method=globalScore/option=lambda1/scale=False/k=all...\n",
      "calculating component 1 ...\n"
     ]
    },
    {
     "name": "stderr",
     "output_type": "stream",
     "text": [
      "Error in if (keepAllb & keepAllt) r <- msvd(x, svd.sol = svdf) else { : \n",
      "  missing value where TRUE/FALSE needed\n",
      "Calls: mbpca\n",
      "Execution halted\n",
      "Loading required package: data.table\n",
      "Warning message:\n",
      "NAs introduced by coercion \n",
      "Loading required package: data.table\n",
      "Warning message:\n",
      "NAs introduced by coercion \n"
     ]
    },
    {
     "name": "stdout",
     "output_type": "stream",
     "text": [
      "      [,1]\n",
      "[1,] 17158\n",
      "[2,]  1904\n",
      "      [,1]\n",
      "[1,] 17158\n",
      "[2,]  1904\n",
      "Returning existing results: /cosybio/project/hartung/unpast/unpast_real/TCGA/moCluster/n_dimensions=1/n_cluster=2/random_state=1/solver=fast/center=True/method=globalScore/option=lambda1/scale=False/k=0.1\n",
      "Returning existing results: /cosybio/project/hartung/unpast/unpast_real/TCGA/moCluster/n_dimensions=1/n_cluster=2/random_state=1/solver=fast/center=True/method=globalScore/option=lambda1/scale=False/k=1\n",
      "Running /cosybio/project/hartung/unpast/unpast_real/TCGA/moCluster/n_dimensions=1/n_cluster=2/random_state=1/solver=fast/center=True/method=globalScore/option=lambda1/scale=False/k=all...\n",
      "calculating component 1 ...\n"
     ]
    },
    {
     "name": "stderr",
     "output_type": "stream",
     "text": [
      "Error in if (keepAllb & keepAllt) r <- msvd(x, svd.sol = svdf) else { : \n",
      "  missing value where TRUE/FALSE needed\n",
      "Calls: mbpca\n",
      "Execution halted\n"
     ]
    },
    {
     "name": "stdout",
     "output_type": "stream",
     "text": [
      "Returning existing results: /cosybio/project/hartung/unpast/unpast_real/TCGA/moCluster/n_dimensions=16/n_cluster=6/random_state=1/solver=fast/center=True/method=globalScore/option=lambda1/scale=False/k=0.1\n",
      "Returning existing results: /cosybio/project/hartung/unpast/unpast_real/TCGA/moCluster/n_dimensions=16/n_cluster=6/random_state=1/solver=fast/center=True/method=globalScore/option=lambda1/scale=False/k=1\n",
      "Running /cosybio/project/hartung/unpast/unpast_real/TCGA/moCluster/n_dimensions=16/n_cluster=6/random_state=1/solver=fast/center=True/method=globalScore/option=lambda1/scale=False/k=all...\n",
      "calculating component 1 ...\n"
     ]
    },
    {
     "name": "stderr",
     "output_type": "stream",
     "text": [
      "Error in if (keepAllb & keepAllt) r <- msvd(x, svd.sol = svdf) else { : \n",
      "  missing value where TRUE/FALSE needed\n",
      "Calls: mbpca\n",
      "Execution halted\n",
      "Loading required package: data.table\n",
      "Warning message:\n",
      "NAs introduced by coercion \n",
      "Loading required package: data.table\n",
      "Warning message:\n",
      "NAs introduced by coercion \n"
     ]
    },
    {
     "name": "stdout",
     "output_type": "stream",
     "text": [
      "      [,1]\n",
      "[1,] 17162\n",
      "[2,]  1079\n",
      "      [,1]\n",
      "[1,] 17162\n",
      "[2,]  1079\n",
      "Returning existing results: /cosybio/project/hartung/unpast/unpast_real/TCGA/moCluster/n_dimensions=11/n_cluster=11/random_state=1/solver=fast/center=True/method=globalScore/option=lambda1/scale=False/k=0.1\n",
      "Returning existing results: /cosybio/project/hartung/unpast/unpast_real/TCGA/moCluster/n_dimensions=11/n_cluster=11/random_state=1/solver=fast/center=True/method=globalScore/option=lambda1/scale=False/k=1\n",
      "Running /cosybio/project/hartung/unpast/unpast_real/TCGA/moCluster/n_dimensions=11/n_cluster=11/random_state=1/solver=fast/center=True/method=globalScore/option=lambda1/scale=False/k=all...\n",
      "calculating component 1 ...\n"
     ]
    },
    {
     "name": "stderr",
     "output_type": "stream",
     "text": [
      "Error in if (keepAllb & keepAllt) r <- msvd(x, svd.sol = svdf) else { : \n",
      "  missing value where TRUE/FALSE needed\n",
      "Calls: mbpca\n",
      "Execution halted\n"
     ]
    },
    {
     "name": "stdout",
     "output_type": "stream",
     "text": [
      "Returning existing results: /cosybio/project/hartung/unpast/unpast_real/TCGA/moCluster/n_dimensions=6/n_cluster=16/random_state=1/solver=fast/center=True/method=globalScore/option=lambda1/scale=False/k=0.1\n",
      "calculating component 1 ...\n"
     ]
    },
    {
     "name": "stderr",
     "output_type": "stream",
     "text": [
      "Error in if (keepAllb & keepAllt) r <- msvd(x, svd.sol = svdf) else { : \n",
      "  missing value where TRUE/FALSE needed\n",
      "Calls: mbpca\n",
      "Execution halted\n"
     ]
    },
    {
     "name": "stdout",
     "output_type": "stream",
     "text": [
      "Returning existing results: /cosybio/project/hartung/unpast/unpast_real/TCGA/moCluster/n_dimensions=6/n_cluster=16/random_state=1/solver=fast/center=True/method=globalScore/option=lambda1/scale=False/k=1\n",
      "Running /cosybio/project/hartung/unpast/unpast_real/TCGA/moCluster/n_dimensions=6/n_cluster=16/random_state=1/solver=fast/center=True/method=globalScore/option=lambda1/scale=False/k=all...\n"
     ]
    },
    {
     "name": "stderr",
     "output_type": "stream",
     "text": [
      "Loading required package: data.table\n",
      "Warning message:\n",
      "NAs introduced by coercion \n",
      "Loading required package: data.table\n",
      "Warning message:\n",
      "NAs introduced by coercion \n"
     ]
    },
    {
     "name": "stdout",
     "output_type": "stream",
     "text": [
      "      [,1]\n",
      "[1,] 17162\n",
      "[2,]  1079\n",
      "      [,1]\n",
      "[1,] 17162\n",
      "[2,]  1079\n",
      "calculating component 1 ...\n"
     ]
    },
    {
     "name": "stderr",
     "output_type": "stream",
     "text": [
      "Error in if (keepAllb & keepAllt) r <- msvd(x, svd.sol = svdf) else { : \n",
      "  missing value where TRUE/FALSE needed\n",
      "Calls: mbpca\n",
      "Execution halted\n"
     ]
    },
    {
     "name": "stdout",
     "output_type": "stream",
     "text": [
      "calculating component 1 ...\n"
     ]
    },
    {
     "name": "stderr",
     "output_type": "stream",
     "text": [
      "Error in if (keepAllb & keepAllt) r <- msvd(x, svd.sol = svdf) else { : \n",
      "  missing value where TRUE/FALSE needed\n",
      "Calls: mbpca\n",
      "Execution halted\n"
     ]
    },
    {
     "ename": "FileNotFoundError",
     "evalue": "[Errno 2] No such file or directory: '/cosybio/project/hartung/unpast/unpast_real/METABRIC/moCluster/n_dimensions=1/n_cluster=2/random_state=1/solver=fast/center=True/method=globalScore/option=lambda1/scale=False/k=all/mocluster_result.csv'",
     "output_type": "error",
     "traceback": [
      "\u001b[0;31m---------------------------------------------------------------------------\u001b[0m",
      "\u001b[0;31mRemoteTraceback\u001b[0m                           Traceback (most recent call last)",
      "\u001b[0;31mRemoteTraceback\u001b[0m: \n\"\"\"\nTraceback (most recent call last):\n  File \"/home/bba1401/anaconda3/envs/encore/lib/python3.8/multiprocessing/pool.py\", line 125, in worker\n    result = (True, func(*args, **kwds))\n  File \"/home/bba1401/anaconda3/envs/encore/lib/python3.8/multiprocessing/pool.py\", line 48, in mapstar\n    return list(map(*args))\n  File \"/data/home/bba1401/Projects/unpast/DESMOND2/evaluation/factorization/methods/moCluster.py\", line 95, in run_real\n    result, runtime = run_method(execute_algorithm, args)\n  File \"/data/home/bba1401/Projects/unpast/DESMOND2/evaluation/factorization/methods/utils/miscellaneous.py\", line 7, in run_method\n    result, runtime = method(**args)\n  File \"/data/home/bba1401/Projects/unpast/DESMOND2/evaluation/factorization/methods/moCluster.py\", line 71, in execute_algorithm\n    return format_output(output_path, n_cluster), read_runtime(output_path)\n  File \"/data/home/bba1401/Projects/unpast/DESMOND2/evaluation/factorization/methods/moCluster.py\", line 50, in format_output\n    df_mocluster_cluster = pd.read_csv(os.path.join(output_path, 'mocluster_result.csv'))\n  File \"/home/bba1401/anaconda3/envs/encore/lib/python3.8/site-packages/pandas/util/_decorators.py\", line 311, in wrapper\n    return func(*args, **kwargs)\n  File \"/home/bba1401/anaconda3/envs/encore/lib/python3.8/site-packages/pandas/io/parsers/readers.py\", line 680, in read_csv\n    return _read(filepath_or_buffer, kwds)\n  File \"/home/bba1401/anaconda3/envs/encore/lib/python3.8/site-packages/pandas/io/parsers/readers.py\", line 575, in _read\n    parser = TextFileReader(filepath_or_buffer, **kwds)\n  File \"/home/bba1401/anaconda3/envs/encore/lib/python3.8/site-packages/pandas/io/parsers/readers.py\", line 933, in __init__\n    self._engine = self._make_engine(f, self.engine)\n  File \"/home/bba1401/anaconda3/envs/encore/lib/python3.8/site-packages/pandas/io/parsers/readers.py\", line 1217, in _make_engine\n    self.handles = get_handle(  # type: ignore[call-overload]\n  File \"/home/bba1401/anaconda3/envs/encore/lib/python3.8/site-packages/pandas/io/common.py\", line 789, in get_handle\n    handle = open(\nFileNotFoundError: [Errno 2] No such file or directory: '/cosybio/project/hartung/unpast/unpast_real/METABRIC/moCluster/n_dimensions=1/n_cluster=2/random_state=1/solver=fast/center=True/method=globalScore/option=lambda1/scale=False/k=all/mocluster_result.csv'\n\"\"\"",
      "\nThe above exception was the direct cause of the following exception:\n",
      "\u001b[0;31mFileNotFoundError\u001b[0m                         Traceback (most recent call last)",
      "\u001b[1;32m/home/bba1401/Projects/unpast/DESMOND2/evaluation/factorization/run_methods_on_real_data.ipynb Cell 1\u001b[0m in \u001b[0;36m<cell line: 65>\u001b[0;34m()\u001b[0m\n\u001b[1;32m     <a href='vscode-notebook-cell://ssh-remote%2Bllaima.zbh.uni-hamburg.de/home/bba1401/Projects/unpast/DESMOND2/evaluation/factorization/run_methods_on_real_data.ipynb#W0sdnNjb2RlLXJlbW90ZQ%3D%3D?line=83'>84</a>\u001b[0m \u001b[39mif\u001b[39;00m KERNEL \u001b[39m>\u001b[39m \u001b[39m1\u001b[39m:\n\u001b[1;32m     <a href='vscode-notebook-cell://ssh-remote%2Bllaima.zbh.uni-hamburg.de/home/bba1401/Projects/unpast/DESMOND2/evaluation/factorization/run_methods_on_real_data.ipynb#W0sdnNjb2RlLXJlbW90ZQ%3D%3D?line=84'>85</a>\u001b[0m     \u001b[39mwith\u001b[39;00m mp\u001b[39m.\u001b[39mPool(KERNEL) \u001b[39mas\u001b[39;00m pool:\n\u001b[0;32m---> <a href='vscode-notebook-cell://ssh-remote%2Bllaima.zbh.uni-hamburg.de/home/bba1401/Projects/unpast/DESMOND2/evaluation/factorization/run_methods_on_real_data.ipynb#W0sdnNjb2RlLXJlbW90ZQ%3D%3D?line=85'>86</a>\u001b[0m         pool\u001b[39m.\u001b[39;49mmap(METHOD\u001b[39m.\u001b[39;49mrun_real, combinations_m \u001b[39m+\u001b[39;49m combinations_t)\n\u001b[1;32m     <a href='vscode-notebook-cell://ssh-remote%2Bllaima.zbh.uni-hamburg.de/home/bba1401/Projects/unpast/DESMOND2/evaluation/factorization/run_methods_on_real_data.ipynb#W0sdnNjb2RlLXJlbW90ZQ%3D%3D?line=87'>88</a>\u001b[0m \u001b[39m#### Run\u001b[39;00m\n\u001b[1;32m     <a href='vscode-notebook-cell://ssh-remote%2Bllaima.zbh.uni-hamburg.de/home/bba1401/Projects/unpast/DESMOND2/evaluation/factorization/run_methods_on_real_data.ipynb#W0sdnNjb2RlLXJlbW90ZQ%3D%3D?line=88'>89</a>\u001b[0m \u001b[39m# Methods will compute results or read existing results\u001b[39;00m\n\u001b[1;32m     <a href='vscode-notebook-cell://ssh-remote%2Bllaima.zbh.uni-hamburg.de/home/bba1401/Projects/unpast/DESMOND2/evaluation/factorization/run_methods_on_real_data.ipynb#W0sdnNjb2RlLXJlbW90ZQ%3D%3D?line=89'>90</a>\u001b[0m \u001b[39m# sanity check\u001b[39;00m\n\u001b[1;32m     <a href='vscode-notebook-cell://ssh-remote%2Bllaima.zbh.uni-hamburg.de/home/bba1401/Projects/unpast/DESMOND2/evaluation/factorization/run_methods_on_real_data.ipynb#W0sdnNjb2RlLXJlbW90ZQ%3D%3D?line=90'>91</a>\u001b[0m \u001b[39massert\u001b[39;00m \u001b[39mlen\u001b[39m(combinations_m) \u001b[39m==\u001b[39m \u001b[39mlen\u001b[39m(combinations_t)\n",
      "File \u001b[0;32m~/anaconda3/envs/encore/lib/python3.8/multiprocessing/pool.py:364\u001b[0m, in \u001b[0;36mPool.map\u001b[0;34m(self, func, iterable, chunksize)\u001b[0m\n\u001b[1;32m    359\u001b[0m \u001b[39mdef\u001b[39;00m \u001b[39mmap\u001b[39m(\u001b[39mself\u001b[39m, func, iterable, chunksize\u001b[39m=\u001b[39m\u001b[39mNone\u001b[39;00m):\n\u001b[1;32m    360\u001b[0m     \u001b[39m'''\u001b[39;00m\n\u001b[1;32m    361\u001b[0m \u001b[39m    Apply `func` to each element in `iterable`, collecting the results\u001b[39;00m\n\u001b[1;32m    362\u001b[0m \u001b[39m    in a list that is returned.\u001b[39;00m\n\u001b[1;32m    363\u001b[0m \u001b[39m    '''\u001b[39;00m\n\u001b[0;32m--> 364\u001b[0m     \u001b[39mreturn\u001b[39;00m \u001b[39mself\u001b[39;49m\u001b[39m.\u001b[39;49m_map_async(func, iterable, mapstar, chunksize)\u001b[39m.\u001b[39;49mget()\n",
      "File \u001b[0;32m~/anaconda3/envs/encore/lib/python3.8/multiprocessing/pool.py:771\u001b[0m, in \u001b[0;36mApplyResult.get\u001b[0;34m(self, timeout)\u001b[0m\n\u001b[1;32m    769\u001b[0m     \u001b[39mreturn\u001b[39;00m \u001b[39mself\u001b[39m\u001b[39m.\u001b[39m_value\n\u001b[1;32m    770\u001b[0m \u001b[39melse\u001b[39;00m:\n\u001b[0;32m--> 771\u001b[0m     \u001b[39mraise\u001b[39;00m \u001b[39mself\u001b[39m\u001b[39m.\u001b[39m_value\n",
      "\u001b[0;31mFileNotFoundError\u001b[0m: [Errno 2] No such file or directory: '/cosybio/project/hartung/unpast/unpast_real/METABRIC/moCluster/n_dimensions=1/n_cluster=2/random_state=1/solver=fast/center=True/method=globalScore/option=lambda1/scale=False/k=all/mocluster_result.csv'"
     ]
    }
   ],
   "source": [
    "### Set number of cores for parallel computation\n",
    "# For just reading output files and creating summary, use 1 kernel\n",
    "KERNEL = 2\n",
    "\n",
    "\n",
    "import os\n",
    "os.environ[\"OMP_NUM_THREADS\"] = \"1\"\n",
    "\n",
    "import numpy as np\n",
    "import pandas as pd\n",
    "import sys,os\n",
    "import random\n",
    "import copy\n",
    "\n",
    "import matplotlib.pyplot as plt\n",
    "import seaborn as sns\n",
    "\n",
    "from methods import NMF, sparse_PCA, moCluster, MOFA2, iClusterPlus\n",
    "\n",
    "from methods.utils import interpret_results, resultsHandler, miscellaneous\n",
    "\n",
    "from pathlib import Path\n",
    "import multiprocessing as mp\n",
    "\n",
    "from utils.eval import compare_gene_clusters, make_ref_groups, calculate_perfromance\n",
    "\n",
    "\n",
    "file_metabric_annotation = '/local/DESMOND2_data/v6/preprocessed_v6/METABRIC_1904.annotation_v6.tsv'\n",
    "file_metabric_expression = '/local/DESMOND2_data/v6/preprocessed_v6/METABRIC_1904_17Kgenes.log2_exprs_z_v6.tsv'\n",
    "file_metabric_subtypes = '/local/DESMOND2_data/v6/preprocessed_v6/METABRIC_1904_17Kgenes.subtypes_and_signatures_v6.tsv'\n",
    "file_tcga_annotation = '/local/DESMOND2_data/v6/preprocessed_v6/TCGA-BRCA_1079.Xena_TCGA_PanCan.annotation_v6.tsv'\n",
    "file_tcga_expression = '/local/DESMOND2_data/v6/preprocessed_v6/TCGA-BRCA_1079_17Kgenes.Xena_TCGA_PanCan.log2_exprs_z_v6.tsv'\n",
    "file_tcga_subtypes = '/local/DESMOND2_data/v6/preprocessed_v6/TCGA-BRCA_1079_17Kgenes.Xena_TCGA_PanCan.subtypes_and_signatures_v6.tsv'\n",
    "file_gene_mapping = '/local/DESMOND2_data/v6/preprocessed_v6/gene_id_mapping.tsv'\n",
    "\n",
    "# out_dir = '/home/hartung/data/preprocessed_v6/results's\n",
    "out_dir = '/cosybio/project/hartung/unpast/unpast_real'\n",
    "\n",
    "basename_t = \"TCGA\"\n",
    "basename_m = \"METABRIC\"\n",
    "\n",
    "m_subtypes = pd.read_csv(file_metabric_subtypes,sep = \"\\t\",index_col=0)\n",
    "m_annotation = pd.read_csv(file_metabric_annotation,sep = \"\\t\",index_col=0)\n",
    "\n",
    "t_subtypes = pd.read_csv(file_tcga_subtypes,sep = \"\\t\",index_col=0)\n",
    "t_annotation = pd.read_csv(file_tcga_annotation,sep = \"\\t\",index_col=0)\n",
    "\n",
    "\n",
    "exprs_t= pd.read_csv(file_tcga_expression,sep = \"\\t\",index_col=0)\n",
    "exprs_t[exprs_t>3] = 3\n",
    "exprs_t[exprs_t<-3] = -3\n",
    "\n",
    "exprs_m= pd.read_csv(file_metabric_expression,sep = \"\\t\",index_col=0)\n",
    "exprs_m[exprs_m>3] = 3\n",
    "exprs_m[exprs_m<-3] = -3\n",
    "\n",
    "known_groups_t, freqs_t = make_ref_groups(t_subtypes, t_annotation,exprs_t)\n",
    "known_groups_m, freqs_m = make_ref_groups(m_subtypes, m_annotation,exprs_m)\n",
    "\n",
    "n_samples_m = len(exprs_m.columns)\n",
    "n_samples_t = len(exprs_t.columns)\n",
    "\n",
    "        \n",
    "METHODS = [moCluster] # [NMF, sparse_PCA, moCluster, MOFA2, iClusterPlus, ]\n",
    "for METHOD in METHODS:\n",
    "    method_name = METHOD.__name__.split('.')[-1]\n",
    "    print('method_name', method_name)\n",
    "\n",
    "    #### Preparation\n",
    "    # METABRIC\n",
    "    file_path_m = file_metabric_expression\n",
    "    output_path_m = os.path.join(out_dir, basename_m, method_name)\n",
    "    ground_truth_file_m = file_metabric_annotation\n",
    "    combinations_m = METHOD.generate_arg_list(file_path_m, output_path_m, ground_truth_file_m)\n",
    "    # TCGA\n",
    "    file_path_t = file_tcga_expression\n",
    "    output_path_t = os.path.join(out_dir, basename_t, method_name)\n",
    "    ground_truth_file_t = file_tcga_annotation\n",
    "    combinations_t = METHOD.generate_arg_list(file_path_t, output_path_t, ground_truth_file_t)\n",
    "\n",
    "    #### Compute in parallel\n",
    "    # Option to compute the results in parallel, methods will store results\n",
    "    # Follow up with executing the 'Run' below to read existing results and evaluate\n",
    "    if KERNEL > 1:\n",
    "        with mp.Pool(KERNEL) as pool:\n",
    "            pool.map(METHOD.run_real, combinations_m + combinations_t)\n",
    "\n",
    "    #### Run\n",
    "    # Methods will compute results or read existing results\n",
    "    # sanity check\n",
    "    assert len(combinations_m) == len(combinations_t)\n",
    "    subt_t = []\n",
    "    subt_m = []\n",
    "    best_matches_m_list = []\n",
    "    best_matches_t_list = []\n",
    "    clustering_similarities = []\n",
    "    for comb_m, comb_t in zip(combinations_m, combinations_t):\n",
    "        result_m, runtime_m = METHOD.run_real(comb_m, is_terminated=True)\n",
    "        result_t, runtime_t = METHOD.run_real(comb_t, is_terminated=True)\n",
    "        \n",
    "        t_failed = False\n",
    "        m_failed = False\n",
    "        \n",
    "        # Please exclude too small cluster with <5 samples and too large clusters > all but 5 samples before performance evaluation\n",
    "        if result_m is not False:\n",
    "            result_m = result_m[(result_m['n_samples'] >= 5) & (result_m['n_samples'] <= (n_samples_m-5))]\n",
    "        if result_t is not False:\n",
    "            result_t = result_t[(result_t['n_samples'] >= 5) & (result_t['n_samples'] <= (n_samples_t-5))]\n",
    "\n",
    "        try:\n",
    "            performance_m, best_matches_m = calculate_perfromance(result_m, known_groups_m, set(exprs_m.columns.values), min_n_samples=5)\n",
    "            performance_m = performance_m.to_dict()\n",
    "            best_matches_m = best_matches_m.to_dict()\n",
    "            \n",
    "            performance_m.update({'parameters': miscellaneous.combination_to_string(comb_m), 'run': comb_m['random_state']})\n",
    "            performance_m['time'] = runtime_m\n",
    "        except (ZeroDivisionError, AttributeError):\n",
    "            m_failed = True\n",
    "            performance_m = {}\n",
    "            best_matches_m = {}\n",
    "        subt_m.append(performance_m)\n",
    "        best_matches_m_list.append(best_matches_m)\n",
    "\n",
    "        try:\n",
    "            performance_t, best_matches_t = calculate_perfromance(result_t, known_groups_t,\n",
    "                                                    set(exprs_t.columns.values))\n",
    "            performance_t = performance_t.to_dict()\n",
    "            best_matches_t = best_matches_t.to_dict()\n",
    "            \n",
    "            performance_t.update({'parameters': miscellaneous.combination_to_string(comb_t), 'run': comb_t['random_state']})\n",
    "            performance_t['time'] = runtime_t\n",
    "        except (ZeroDivisionError, AttributeError):\n",
    "            t_failed= True\n",
    "            performance_t = {}\n",
    "            best_matches_t = {}\n",
    "        subt_t.append(performance_t)\n",
    "        best_matches_t_list.append(best_matches_t)\n",
    "        \n",
    "        # compare clustering results - only if gene sets are defined for each cluster\n",
    "        clust_sim = {}\n",
    "        if not (t_failed or m_failed):\n",
    "            N = exprs_m.shape[0]\n",
    "            try:\n",
    "                if isinstance(result_t['genes'][0], str):\n",
    "                    result_t['genes'] = result_t['genes'].map(eval)\n",
    "                    result_t['genes'] = result_t['genes'].map(set)\n",
    "                if isinstance(result_m['genes'][0], str):\n",
    "                    result_m['genes'] = result_m['genes'].map(eval)\n",
    "                    result_m['genes'] = result_m['genes'].map(set)\n",
    "                clust_sim, bm, bm2 = compare_gene_clusters(result_t, result_m, N)\n",
    "            except (ZeroDivisionError, KeyError) as e:\n",
    "                # print('Error')\n",
    "                # print(e)\n",
    "                # 'n_shared' is not defined because gene clusters empty\n",
    "                pass     \n",
    "        # comb_m and comb_t have same parameters besides input file\n",
    "        clust_sim.update(comb_m)\n",
    "        clustering_similarities.append(clust_sim)\n",
    "\n",
    "    # save results\n",
    "    pd.DataFrame.from_records(subt_m).to_csv(os.path.join(out_dir, f'{method_name}_METABRIC.tsv'), sep=\"\\t\")    \n",
    "    pd.DataFrame.from_records(subt_t).to_csv(os.path.join(out_dir, f'{method_name}_TCGA.tsv'), sep=\"\\t\")\n",
    "    pd.DataFrame.from_records(clustering_similarities).to_csv(os.path.join(out_dir, f'{method_name}_similarities.tsv'), sep=\"\\t\")\n",
    "    \n",
    "    pd.DataFrame.from_records(best_matches_m_list).to_csv(os.path.join(out_dir, f'{method_name}_METABRIC_best_matches.tsv'), sep=\"\\t\")    \n",
    "    pd.DataFrame.from_records(best_matches_t_list).to_csv(os.path.join(out_dir, f'{method_name}_TCGA_best_matches.tsv'), sep=\"\\t\")\n"
   ]
  },
  {
   "cell_type": "code",
   "execution_count": null,
   "id": "b5a13652",
   "metadata": {},
   "outputs": [],
   "source": []
  }
 ],
 "metadata": {
  "kernelspec": {
   "display_name": "encore",
   "language": "python",
   "name": "python3"
  },
  "language_info": {
   "codemirror_mode": {
    "name": "ipython",
    "version": 3
   },
   "file_extension": ".py",
   "mimetype": "text/x-python",
   "name": "python",
   "nbconvert_exporter": "python",
   "pygments_lexer": "ipython3",
   "version": "3.8.13"
  }
 },
 "nbformat": 4,
 "nbformat_minor": 5
}
