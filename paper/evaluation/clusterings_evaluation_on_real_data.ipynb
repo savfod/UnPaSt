{
 "cells": [
  {
   "cell_type": "code",
   "execution_count": 1,
   "id": "sticky-quality",
   "metadata": {},
   "outputs": [],
   "source": [
    "import numpy as np\n",
    "import pandas as pd\n",
    "import sys,os\n",
    "import random\n",
    "import copy\n",
    "from time import time\n",
    "\n",
    "import matplotlib.pyplot as plt\n",
    "import seaborn as sns\n",
    "\n",
    "\n",
    "from utils.method import read_bic_table\n",
    "\n",
    "from utils.eval import make_ref_groups\n",
    "from utils.eval import calculate_perfromance, compare_gene_clusters"
   ]
  },
  {
   "cell_type": "markdown",
   "id": "f04d8d41",
   "metadata": {},
   "source": [
    "# 1. Reading expressions and annotations"
   ]
  },
  {
   "cell_type": "code",
   "execution_count": 2,
   "id": "serial-jewel",
   "metadata": {},
   "outputs": [],
   "source": [
    "exprs_file_t = \"data/preprocessed_v6/TCGA-BRCA_1079_17Kgenes.Xena_TCGA_PanCan.log2_exprs_z_v6.tsv\"\n",
    "exprs_t= pd.read_csv(exprs_file_t,sep = \"\\t\",index_col=0)\n",
    "\n",
    "exprs_file_m = \"data/preprocessed_v6/METABRIC_1904_17Kgenes.log2_exprs_z_v6.tsv\"\n",
    "exprs_m= pd.read_csv(exprs_file_m,sep = \"\\t\",index_col=0)\n",
    "\n",
    "m_subtypes = pd.read_csv(\"data/preprocessed_v6/METABRIC_1904_17Kgenes.subtypes_and_signatures_v6.tsv\",sep = \"\\t\",index_col=0)\n",
    "m_annotation = pd.read_csv(\"data/preprocessed_v6/METABRIC_1904.annotation_v6.tsv\",sep = \"\\t\",index_col=0)\n",
    "\n",
    "t_subtypes = pd.read_csv(\"data/preprocessed_v6/TCGA-BRCA_1079_17Kgenes.Xena_TCGA_PanCan.subtypes_and_signatures_v6.tsv\",sep = \"\\t\",index_col=0)\n",
    "t_annotation = pd.read_csv(\"data/preprocessed_v6/TCGA-BRCA_1079.Xena_TCGA_PanCan.annotation_v6.tsv\",sep = \"\\t\",index_col=0)"
   ]
  },
  {
   "cell_type": "markdown",
   "id": "9ee21c56",
   "metadata": {},
   "source": [
    "## 1.1 Preparing ground truth samples sets for performance evaluation\n",
    "\n",
    "### Example of known_groups dictionary for TCGA-BRCA\n",
    "\n",
    "*make_ref_groups(subtypes, annotation, exprs)*\n",
    "\n",
    "**input:**\n",
    "  - subtypes - subtypes dataframe\n",
    "  - annotation - annotation dataframe\n",
    "  - exprs - expression dataframe\n",
    "  \n",
    "**returns:**\n",
    "  -  known_groups = {classificaton1:{\"subt1\":{s1,s2,...} , \"subt2\":{...}, \"subt3\":{...}, ...}, \"classi2\":{\"subtA\":{...}}, ... }\n",
    "*known_groups* is a dictionary with known sample classifications. Each classification (e.g. PAM50 or IHC or Luminal) is a dict that can conatain one or several sample sets \n",
    "  -  all_samples = {} set of all samples in expression and annotation files; necessary for computing overlap p-values"
   ]
  },
  {
   "cell_type": "code",
   "execution_count": 3,
   "id": "forbidden-immune",
   "metadata": {},
   "outputs": [],
   "source": [
    "known_groups_t, all_samples_t = make_ref_groups(t_subtypes, t_annotation,exprs_t)\n",
    "known_groups_m, all_samples_m = make_ref_groups(m_subtypes, m_annotation,exprs_m)"
   ]
  },
  {
   "cell_type": "markdown",
   "id": "5409c4fd",
   "metadata": {},
   "source": [
    "# Example 1: \n",
    "## The sructure of known_groups dict for TCGA-BRCA:\n",
    "\n",
    "We calculate performance for **classifications**:\n",
    "    * PAM50 = [Luminal, Basal, Her2, Normal]\n",
    "    * Intrinsic = [Luminal, Basal, Her2, Normal, Claudin-low]\n",
    "    * PAM50_AB =  [LumA, LumB, Basal, Her2, Normal]\n",
    "    * SCMOD2 = [ER-/HER2-, ER+/HER2- High Prolif, ER+/HER2- Low Prolif,  HER2+]\n",
    "    * IHC = [IHC_HER2, IHC_ER, IHC_PR, IHC_TNBC]\n",
    "And for **isolated sample sets** corresponding to Luminal, Basal, LumA, NEC subtypes etc. "
   ]
  },
  {
   "cell_type": "code",
   "execution_count": 4,
   "id": "compound-combination",
   "metadata": {},
   "outputs": [
    {
     "name": "stdout",
     "output_type": "stream",
     "text": [
      "classification PAM50\n",
      "\tsbtypes: Basal Normal Her2 Luminal\n",
      "classification Intrinsic\n",
      "\tsbtypes: Basal Normal Her2 Luminal Claudin-low\n",
      "classification PAM50_AB\n",
      "\tsbtypes: Basal Normal Her2 LumB LumA\n",
      "classification SCMOD2\n",
      "\tsbtypes: ER+/HER2- Low Prolif ER+/HER2- High Prolif HER2+ ER-/HER2-\n",
      "classification IHC\n",
      "\tsbtypes: IHC_HER2 IHC_ER IHC_PR IHC_TNBC\n",
      " classification Luminal (individual subtype)\n",
      " classification Basal (individual subtype)\n",
      " classification Her2 (individual subtype)\n",
      " classification LumA (individual subtype)\n",
      " classification LumB (individual subtype)\n",
      " classification Normal (individual subtype)\n",
      " classification Claudin-low (individual subtype)\n",
      " classification IHC_HER2 (individual subtype)\n",
      " classification IHC_ER (individual subtype)\n",
      " classification IHC_PR (individual subtype)\n",
      " classification IHC_TNBC (individual subtype)\n",
      " classification NET_kmeans (individual subtype)\n",
      " classification NET_ward (individual subtype)\n"
     ]
    }
   ],
   "source": [
    "for cl in known_groups_t.keys():\n",
    "    if len(known_groups_t[cl].keys())>1:\n",
    "        print(\"classification\", cl)\n",
    "        print(\"\\tsbtypes:\",\" \".join(known_groups_t[cl].keys()))\n",
    "    else:\n",
    "        print(\" classification\", cl, \"(individual subtype)\")"
   ]
  },
  {
   "cell_type": "markdown",
   "id": "12817fdf",
   "metadata": {},
   "source": [
    "# Example 2: \n",
    "## evaluation of the resulting sample set (on the example of UnPaSt file) \n",
    "reading the results "
   ]
  },
  {
   "cell_type": "code",
   "execution_count": 5,
   "id": "fd2d5d70",
   "metadata": {},
   "outputs": [
    {
     "name": "stdout",
     "output_type": "stream",
     "text": [
      "sample clusters:  297\n",
      "sample clusters:  209\n"
     ]
    },
    {
     "data": {
      "text/html": [
       "<div>\n",
       "<style scoped>\n",
       "    .dataframe tbody tr th:only-of-type {\n",
       "        vertical-align: middle;\n",
       "    }\n",
       "\n",
       "    .dataframe tbody tr th {\n",
       "        vertical-align: top;\n",
       "    }\n",
       "\n",
       "    .dataframe thead th {\n",
       "        text-align: right;\n",
       "    }\n",
       "</style>\n",
       "<table border=\"1\" class=\"dataframe\">\n",
       "  <thead>\n",
       "    <tr style=\"text-align: right;\">\n",
       "      <th></th>\n",
       "      <th>SNR</th>\n",
       "      <th>n_genes</th>\n",
       "      <th>n_samples</th>\n",
       "      <th>genes</th>\n",
       "      <th>samples</th>\n",
       "      <th>genes_up</th>\n",
       "      <th>genes_down</th>\n",
       "      <th>gene_indexes</th>\n",
       "      <th>sample_indexes</th>\n",
       "      <th>direction</th>\n",
       "      <th>detected_n_times</th>\n",
       "    </tr>\n",
       "    <tr>\n",
       "      <th>id</th>\n",
       "      <th></th>\n",
       "      <th></th>\n",
       "      <th></th>\n",
       "      <th></th>\n",
       "      <th></th>\n",
       "      <th></th>\n",
       "      <th></th>\n",
       "      <th></th>\n",
       "      <th></th>\n",
       "      <th></th>\n",
       "      <th></th>\n",
       "    </tr>\n",
       "  </thead>\n",
       "  <tbody>\n",
       "    <tr>\n",
       "      <th>0</th>\n",
       "      <td>2.931461</td>\n",
       "      <td>2</td>\n",
       "      <td>38</td>\n",
       "      <td>{CTAG1B, CTAG1A}</td>\n",
       "      <td>{TCGA-A2-A0YJ-01, TCGA-BH-A0RX-01, TCGA-A2-A4S...</td>\n",
       "      <td>{CTAG1B, CTAG1A}</td>\n",
       "      <td>{}</td>\n",
       "      <td>{3385, 3386}</td>\n",
       "      <td>{1038, 529, 917, 1047, 279, 797, 289, 291, 48,...</td>\n",
       "      <td>UP</td>\n",
       "      <td>3</td>\n",
       "    </tr>\n",
       "    <tr>\n",
       "      <th>1</th>\n",
       "      <td>2.857572</td>\n",
       "      <td>331</td>\n",
       "      <td>195</td>\n",
       "      <td>{CSN3, MIR137HG, ESX1, ABCA13, LINC01625, RPRM...</td>\n",
       "      <td>{TCGA-A2-A04Q-01, TCGA-AR-A2LR-01, TCGA-BH-A0B...</td>\n",
       "      <td>{GLRA2, NR5A1, CSN3, MUC16, TPD52L3, MIR137HG,...</td>\n",
       "      <td>{DNAAF3, TMEM63C, HOXB2, C9orf152, LIMA1, HCAR...</td>\n",
       "      <td>{12288, 16397, 14358, 16411, 30, 51, 4148, 824...</td>\n",
       "      <td>{1024, 514, 1030, 519, 8, 1035, 524, 1039, 16,...</td>\n",
       "      <td>BOTH</td>\n",
       "      <td>10</td>\n",
       "    </tr>\n",
       "  </tbody>\n",
       "</table>\n",
       "</div>"
      ],
      "text/plain": [
       "         SNR  n_genes  n_samples  \\\n",
       "id                                 \n",
       "0   2.931461        2         38   \n",
       "1   2.857572      331        195   \n",
       "\n",
       "                                                genes  \\\n",
       "id                                                      \n",
       "0                                    {CTAG1B, CTAG1A}   \n",
       "1   {CSN3, MIR137HG, ESX1, ABCA13, LINC01625, RPRM...   \n",
       "\n",
       "                                              samples  \\\n",
       "id                                                      \n",
       "0   {TCGA-A2-A0YJ-01, TCGA-BH-A0RX-01, TCGA-A2-A4S...   \n",
       "1   {TCGA-A2-A04Q-01, TCGA-AR-A2LR-01, TCGA-BH-A0B...   \n",
       "\n",
       "                                             genes_up  \\\n",
       "id                                                      \n",
       "0                                    {CTAG1B, CTAG1A}   \n",
       "1   {GLRA2, NR5A1, CSN3, MUC16, TPD52L3, MIR137HG,...   \n",
       "\n",
       "                                           genes_down  \\\n",
       "id                                                      \n",
       "0                                                  {}   \n",
       "1   {DNAAF3, TMEM63C, HOXB2, C9orf152, LIMA1, HCAR...   \n",
       "\n",
       "                                         gene_indexes  \\\n",
       "id                                                      \n",
       "0                                        {3385, 3386}   \n",
       "1   {12288, 16397, 14358, 16411, 30, 51, 4148, 824...   \n",
       "\n",
       "                                       sample_indexes direction  \\\n",
       "id                                                                \n",
       "0   {1038, 529, 917, 1047, 279, 797, 289, 291, 48,...        UP   \n",
       "1   {1024, 514, 1030, 519, 8, 1035, 524, 1039, 16,...      BOTH   \n",
       "\n",
       "    detected_n_times  \n",
       "id                    \n",
       "0                  3  \n",
       "1                 10  "
      ]
     },
     "execution_count": 5,
     "metadata": {},
     "output_type": "execute_result"
    }
   ],
   "source": [
    "# biclsuter file \n",
    "file = \"results_on_real_data_tuned_v2/TCGA_optimized/TCGA-BRCA.consensus_seed=42.bin=kmeans,pval=0.01,clust=WGCNA,direction=DOWN-UP,ds=3,dch=0.995,max_power=10,precluster=True.biclusters.tsv\"\n",
    "result = read_bic_table(file) # reading UnPaSt outputs\n",
    "print(\"sample clusters: \", result.shape[0])\n",
    "# drop clusters too small with < 5 samples\n",
    "result = result.loc[result[\"samples\"].apply(lambda x: len(x))>=5,:]\n",
    "# drop detected <2 times \n",
    "if \"detected_n_times\" in result.columns:\n",
    "    result = result.loc[result[\"detected_n_times\"]>1,:]\n",
    "print(\"sample clusters: \", result.shape[0])\n",
    "result.head(2)"
   ]
  },
  {
   "cell_type": "markdown",
   "id": "dccfcd3e",
   "metadata": {},
   "source": [
    "* ensure that results file is a dataframe with \"samples\" column\n",
    "* each row in samples column must contain a non-empty set of samples\n",
    "## performance evaluation\n",
    "* requires *known_groups* dict and *all_samples* set  \n",
    "     - using *make_ref_groups()* is recommened for this breast cancer analysis\n",
    "     - alternatively, *known_groups* dict and *all_samples* can be created manually\n",
    "* if samples in (bi)clusters do not match *all_samples* set, trho"
   ]
  },
  {
   "cell_type": "markdown",
   "id": "8e533610",
   "metadata": {},
   "source": [
    "*calculate_perfromance(bi_clusters_df, annotation, exprs)*\n",
    "\n",
    "**input:**\n",
    "  - bi_clusters_df - a dataframe with sample clusters (sets in \"sample\" column)\n",
    "  - *known_groups* is a dictionary with known sample classifications. Each classification (e.g. PAM50 or IHC or Luminal) is a dict that can conatain one or several sample sets \n",
    "  - *all_samples* = {} set of all samples in expression and annotation files; necessary for computing overlap p-values\n",
    "  \n",
    "**returns:**\n",
    "  - performances - *pandas.Series* with overall perforamnce for each classification from *known_groups* \n",
    "  - best_matches - a dataframe with information about the best matching (bi)cluster for each sample set from *known_groups* (helpful for debugging and validation)"
   ]
  },
  {
   "cell_type": "code",
   "execution_count": 6,
   "id": "7de05b18",
   "metadata": {},
   "outputs": [
    {
     "name": "stdout",
     "output_type": "stream",
     "text": [
      "0.8428274283130457\n"
     ]
    },
    {
     "data": {
      "text/plain": [
       "PAM50        0.842827\n",
       "Intrinsic    0.813312\n",
       "PAM50_AB     0.630003\n",
       "dtype: float64"
      ]
     },
     "execution_count": 6,
     "metadata": {},
     "output_type": "execute_result"
    }
   ],
   "source": [
    "performances, best_matches = calculate_perfromance(result, known_groups_t,all_samples_t)\n",
    "print(performances[\"PAM50\"])\n",
    "performances.head(3)"
   ]
  },
  {
   "cell_type": "code",
   "execution_count": 7,
   "id": "d3107f5b",
   "metadata": {},
   "outputs": [
    {
     "data": {
      "text/html": [
       "<div>\n",
       "<style scoped>\n",
       "    .dataframe tbody tr th:only-of-type {\n",
       "        vertical-align: middle;\n",
       "    }\n",
       "\n",
       "    .dataframe tbody tr th {\n",
       "        vertical-align: top;\n",
       "    }\n",
       "\n",
       "    .dataframe thead th {\n",
       "        text-align: right;\n",
       "    }\n",
       "</style>\n",
       "<table border=\"1\" class=\"dataframe\">\n",
       "  <thead>\n",
       "    <tr style=\"text-align: right;\">\n",
       "      <th></th>\n",
       "      <th>bm_id</th>\n",
       "      <th>Jaccard</th>\n",
       "      <th>weight</th>\n",
       "      <th>adj_pval</th>\n",
       "      <th>is_enriched</th>\n",
       "      <th>samples</th>\n",
       "      <th>n_samples</th>\n",
       "      <th>classification</th>\n",
       "    </tr>\n",
       "  </thead>\n",
       "  <tbody>\n",
       "    <tr>\n",
       "      <th>Basal</th>\n",
       "      <td>1</td>\n",
       "      <td>0.930693</td>\n",
       "      <td>0.180723</td>\n",
       "      <td>0.0</td>\n",
       "      <td>True</td>\n",
       "      <td>{TCGA-A2-A04Q-01, TCGA-AR-A2LR-01, TCGA-BH-A0B...</td>\n",
       "      <td>195</td>\n",
       "      <td>PAM50</td>\n",
       "    </tr>\n",
       "    <tr>\n",
       "      <th>Normal</th>\n",
       "      <td>134</td>\n",
       "      <td>0.1</td>\n",
       "      <td>0.029657</td>\n",
       "      <td>0.0</td>\n",
       "      <td>True</td>\n",
       "      <td>{TCGA-D8-A145-01, TCGA-BH-A0DK-01, TCGA-D8-A3Z...</td>\n",
       "      <td>309</td>\n",
       "      <td>PAM50</td>\n",
       "    </tr>\n",
       "    <tr>\n",
       "      <th>Her2</th>\n",
       "      <td>29</td>\n",
       "      <td>0.486842</td>\n",
       "      <td>0.100093</td>\n",
       "      <td>0.0</td>\n",
       "      <td>True</td>\n",
       "      <td>{TCGA-S3-AA14-01, TCGA-EW-A2FR-01, TCGA-AC-A3Q...</td>\n",
       "      <td>118</td>\n",
       "      <td>PAM50</td>\n",
       "    </tr>\n",
       "    <tr>\n",
       "      <th>Luminal</th>\n",
       "      <td>11</td>\n",
       "      <td>0.903423</td>\n",
       "      <td>0.689527</td>\n",
       "      <td>0.0</td>\n",
       "      <td>False</td>\n",
       "      <td>{TCGA-A8-A08H-01, TCGA-A2-A04Q-01, TCGA-AR-A2L...</td>\n",
       "      <td>266</td>\n",
       "      <td>PAM50</td>\n",
       "    </tr>\n",
       "    <tr>\n",
       "      <th>Basal</th>\n",
       "      <td>1</td>\n",
       "      <td>0.930693</td>\n",
       "      <td>0.173488</td>\n",
       "      <td>0.0</td>\n",
       "      <td>True</td>\n",
       "      <td>{TCGA-A2-A04Q-01, TCGA-AR-A2LR-01, TCGA-BH-A0B...</td>\n",
       "      <td>195</td>\n",
       "      <td>Intrinsic</td>\n",
       "    </tr>\n",
       "  </tbody>\n",
       "</table>\n",
       "</div>"
      ],
      "text/plain": [
       "        bm_id   Jaccard    weight adj_pval is_enriched  \\\n",
       "Basal       1  0.930693  0.180723      0.0        True   \n",
       "Normal    134       0.1  0.029657      0.0        True   \n",
       "Her2       29  0.486842  0.100093      0.0        True   \n",
       "Luminal    11  0.903423  0.689527      0.0       False   \n",
       "Basal       1  0.930693  0.173488      0.0        True   \n",
       "\n",
       "                                                   samples n_samples  \\\n",
       "Basal    {TCGA-A2-A04Q-01, TCGA-AR-A2LR-01, TCGA-BH-A0B...       195   \n",
       "Normal   {TCGA-D8-A145-01, TCGA-BH-A0DK-01, TCGA-D8-A3Z...       309   \n",
       "Her2     {TCGA-S3-AA14-01, TCGA-EW-A2FR-01, TCGA-AC-A3Q...       118   \n",
       "Luminal  {TCGA-A8-A08H-01, TCGA-A2-A04Q-01, TCGA-AR-A2L...       266   \n",
       "Basal    {TCGA-A2-A04Q-01, TCGA-AR-A2LR-01, TCGA-BH-A0B...       195   \n",
       "\n",
       "        classification  \n",
       "Basal            PAM50  \n",
       "Normal           PAM50  \n",
       "Her2             PAM50  \n",
       "Luminal          PAM50  \n",
       "Basal        Intrinsic  "
      ]
     },
     "execution_count": 7,
     "metadata": {},
     "output_type": "execute_result"
    }
   ],
   "source": [
    "best_matches.head(5)"
   ]
  },
  {
   "cell_type": "code",
   "execution_count": 8,
   "id": "regional-grade",
   "metadata": {},
   "outputs": [
    {
     "name": "stdout",
     "output_type": "stream",
     "text": [
      "0.7234354711836593\n"
     ]
    },
    {
     "data": {
      "text/html": [
       "<div>\n",
       "<style scoped>\n",
       "    .dataframe tbody tr th:only-of-type {\n",
       "        vertical-align: middle;\n",
       "    }\n",
       "\n",
       "    .dataframe tbody tr th {\n",
       "        vertical-align: top;\n",
       "    }\n",
       "\n",
       "    .dataframe thead th {\n",
       "        text-align: right;\n",
       "    }\n",
       "</style>\n",
       "<table border=\"1\" class=\"dataframe\">\n",
       "  <thead>\n",
       "    <tr style=\"text-align: right;\">\n",
       "      <th></th>\n",
       "      <th>bm_id</th>\n",
       "      <th>ARI</th>\n",
       "      <th>weight</th>\n",
       "      <th>adj_pval</th>\n",
       "      <th>is_enriched</th>\n",
       "      <th>samples</th>\n",
       "      <th>n_samples</th>\n",
       "      <th>classification</th>\n",
       "    </tr>\n",
       "  </thead>\n",
       "  <tbody>\n",
       "    <tr>\n",
       "      <th>Basal</th>\n",
       "      <td>1</td>\n",
       "      <td>0.938534</td>\n",
       "      <td>0.180723</td>\n",
       "      <td>0.000337</td>\n",
       "      <td>True</td>\n",
       "      <td>{TCGA-A2-A04Q-01, TCGA-AR-A2LR-01, TCGA-BH-A0B...</td>\n",
       "      <td>195</td>\n",
       "      <td>PAM50</td>\n",
       "    </tr>\n",
       "    <tr>\n",
       "      <th>Normal</th>\n",
       "      <td>26</td>\n",
       "      <td>0.091334</td>\n",
       "      <td>0.029657</td>\n",
       "      <td>0.000137</td>\n",
       "      <td>True</td>\n",
       "      <td>{TCGA-AR-A2LR-01, TCGA-W8-A86G-01, TCGA-E2-A1I...</td>\n",
       "      <td>191</td>\n",
       "      <td>PAM50</td>\n",
       "    </tr>\n",
       "    <tr>\n",
       "      <th>Her2</th>\n",
       "      <td>29</td>\n",
       "      <td>0.559805</td>\n",
       "      <td>0.100093</td>\n",
       "      <td>0.000149</td>\n",
       "      <td>True</td>\n",
       "      <td>{TCGA-S3-AA14-01, TCGA-EW-A2FR-01, TCGA-AC-A3Q...</td>\n",
       "      <td>118</td>\n",
       "      <td>PAM50</td>\n",
       "    </tr>\n",
       "    <tr>\n",
       "      <th>Luminal</th>\n",
       "      <td>11</td>\n",
       "      <td>0.717999</td>\n",
       "      <td>0.689527</td>\n",
       "      <td>0.000602</td>\n",
       "      <td>False</td>\n",
       "      <td>{TCGA-A8-A08H-01, TCGA-A2-A04Q-01, TCGA-AR-A2L...</td>\n",
       "      <td>266</td>\n",
       "      <td>PAM50</td>\n",
       "    </tr>\n",
       "    <tr>\n",
       "      <th>Basal</th>\n",
       "      <td>1</td>\n",
       "      <td>0.938534</td>\n",
       "      <td>0.173488</td>\n",
       "      <td>0.000337</td>\n",
       "      <td>True</td>\n",
       "      <td>{TCGA-A2-A04Q-01, TCGA-AR-A2LR-01, TCGA-BH-A0B...</td>\n",
       "      <td>195</td>\n",
       "      <td>Intrinsic</td>\n",
       "    </tr>\n",
       "  </tbody>\n",
       "</table>\n",
       "</div>"
      ],
      "text/plain": [
       "        bm_id       ARI    weight  adj_pval is_enriched  \\\n",
       "Basal       1  0.938534  0.180723  0.000337        True   \n",
       "Normal     26  0.091334  0.029657  0.000137        True   \n",
       "Her2       29  0.559805  0.100093  0.000149        True   \n",
       "Luminal    11  0.717999  0.689527  0.000602       False   \n",
       "Basal       1  0.938534  0.173488  0.000337        True   \n",
       "\n",
       "                                                   samples n_samples  \\\n",
       "Basal    {TCGA-A2-A04Q-01, TCGA-AR-A2LR-01, TCGA-BH-A0B...       195   \n",
       "Normal   {TCGA-AR-A2LR-01, TCGA-W8-A86G-01, TCGA-E2-A1I...       191   \n",
       "Her2     {TCGA-S3-AA14-01, TCGA-EW-A2FR-01, TCGA-AC-A3Q...       118   \n",
       "Luminal  {TCGA-A8-A08H-01, TCGA-A2-A04Q-01, TCGA-AR-A2L...       266   \n",
       "Basal    {TCGA-A2-A04Q-01, TCGA-AR-A2LR-01, TCGA-BH-A0B...       195   \n",
       "\n",
       "        classification  \n",
       "Basal            PAM50  \n",
       "Normal           PAM50  \n",
       "Her2             PAM50  \n",
       "Luminal          PAM50  \n",
       "Basal        Intrinsic  "
      ]
     },
     "execution_count": 8,
     "metadata": {},
     "output_type": "execute_result"
    }
   ],
   "source": [
    "performances, best_matches = calculate_perfromance(result, known_groups_t,all_samples_t,\n",
    "                                                   performance_measure=\"ARI\")\n",
    "print(performances[\"PAM50\"])\n",
    "best_matches.head(5)"
   ]
  },
  {
   "cell_type": "code",
   "execution_count": 14,
   "id": "authentic-wallpaper",
   "metadata": {},
   "outputs": [
    {
     "name": "stdout",
     "output_type": "stream",
     "text": [
      "generate  5  seeds [670487, 116739, 26225, 777572, 288389]\n"
     ]
    }
   ],
   "source": [
    "def labels_to_clsuters(labels, all_samples):\n",
    "    clust_results = {}\n",
    "    for clust in set(labels):\n",
    "        clust_results[clust] = {\"samples\":set(all_samples[np.where(labels == clust)[0]].values)}\n",
    "        clust_results[clust][\"n_samples\"] = len(clust_results[clust][\"samples\"])\n",
    "    clust_results = pd.DataFrame.from_dict(clust_results).T\n",
    "    return clust_results\n",
    "\n",
    "# selecting 5 seeds for probabilistic methods \n",
    "n_runs = 5\n",
    "seeds = []\n",
    "random.seed(42)\n",
    "for i in range(n_runs):\n",
    "    seeds.append(random.randint(0,1000000))\n",
    "print(\"generate \",n_runs,\" seeds\",seeds)"
   ]
  },
  {
   "cell_type": "markdown",
   "id": "ahead-elite",
   "metadata": {},
   "source": [
    "# Inputs "
   ]
  },
  {
   "cell_type": "code",
   "execution_count": 15,
   "id": "quantitative-thousand",
   "metadata": {},
   "outputs": [],
   "source": [
    "exprs = exprs_t\n",
    "known_groups = known_groups_t\n",
    "all_samples = all_samples_t\n",
    "dataset = \"TCGA-BRCA\"\n",
    "basedir = \"clusterings_evaluation/\""
   ]
  },
  {
   "cell_type": "code",
   "execution_count": 24,
   "id": "smoking-original",
   "metadata": {},
   "outputs": [],
   "source": [
    "exprs = exprs_m\n",
    "known_groups = known_groups_m\n",
    "all_samples = all_samples_m\n",
    "dataset = \"METABRIC\"\n",
    "basedir = \"clusterings_evaluation/\"\n"
   ]
  },
  {
   "cell_type": "code",
   "execution_count": 17,
   "id": "digital-democracy",
   "metadata": {},
   "outputs": [
    {
     "data": {
      "text/plain": [
       "'TCGA-BRCA'"
      ]
     },
     "execution_count": 17,
     "metadata": {},
     "output_type": "execute_result"
    }
   ],
   "source": []
  },
  {
   "cell_type": "markdown",
   "id": "regular-radar",
   "metadata": {},
   "source": [
    "# Affinity Propagation"
   ]
  },
  {
   "cell_type": "code",
   "execution_count": 12,
   "id": "polished-niger",
   "metadata": {},
   "outputs": [],
   "source": [
    "from sklearn.cluster import AffinityPropagation"
   ]
  },
  {
   "cell_type": "code",
   "execution_count": 13,
   "id": "interim-manhattan",
   "metadata": {},
   "outputs": [
    {
     "data": {
      "text/plain": [
       "24"
      ]
     },
     "execution_count": 13,
     "metadata": {},
     "output_type": "execute_result"
    }
   ],
   "source": [
    "damping_factors = list(np.arange(0.5,1.0,0.05))+[0.97,0.99] # [0.5, 1.0)\n",
    "damping_factors = [round(x,2) for x in damping_factors]\n",
    "n_iters = [200,1000]\n",
    "len(n_iters)*len(damping_factors)"
   ]
  },
  {
   "cell_type": "code",
   "execution_count": 40,
   "id": "distributed-apple",
   "metadata": {
    "scrolled": true
   },
   "outputs": [
    {
     "name": "stdout",
     "output_type": "stream",
     "text": [
      "damping=0.5;max_iter=200 670487 0.15948719230192882\n",
      "damping=0.5;max_iter=200 116739 0.15948719230192882\n",
      "damping=0.5;max_iter=200 26225 0.15948719230192882\n",
      "damping=0.5;max_iter=200 777572 0.15948719230192882\n",
      "damping=0.5;max_iter=200 288389 0.15948719230192882\n",
      "damping=0.5;max_iter=1000 670487 0.15948719230192882\n",
      "damping=0.5;max_iter=1000 116739 0.15948719230192882\n",
      "damping=0.5;max_iter=1000 26225 0.15948719230192882\n",
      "damping=0.5;max_iter=1000 777572 0.15948719230192882\n",
      "damping=0.5;max_iter=1000 288389 0.15948719230192882\n",
      "damping=0.55;max_iter=200 670487 0.15948719230192882\n",
      "damping=0.55;max_iter=200 116739 0.15948719230192882\n",
      "damping=0.55;max_iter=200 26225 0.15948719230192882\n",
      "damping=0.55;max_iter=200 777572 0.15948719230192882\n",
      "damping=0.55;max_iter=200 288389 0.15948719230192882\n",
      "damping=0.55;max_iter=1000 670487 0.15948719230192882\n",
      "damping=0.55;max_iter=1000 116739 0.15948719230192882\n",
      "damping=0.55;max_iter=1000 26225 0.15948719230192882\n",
      "damping=0.55;max_iter=1000 777572 0.15948719230192882\n",
      "damping=0.55;max_iter=1000 288389 0.15948719230192882\n",
      "damping=0.6;max_iter=200 670487 0.15948719230192882\n",
      "damping=0.6;max_iter=200 116739 0.15948719230192882\n",
      "damping=0.6;max_iter=200 26225 0.15948719230192882\n",
      "damping=0.6;max_iter=200 777572 0.15948719230192882\n",
      "damping=0.6;max_iter=200 288389 0.15948719230192882\n",
      "damping=0.6;max_iter=1000 670487 0.15948719230192882\n",
      "damping=0.6;max_iter=1000 116739 0.15948719230192882\n",
      "damping=0.6;max_iter=1000 26225 0.15948719230192882\n",
      "damping=0.6;max_iter=1000 777572 0.15948719230192882\n",
      "damping=0.6;max_iter=1000 288389 0.15948719230192882\n",
      "damping=0.65;max_iter=200 670487 0.15948719230192882\n",
      "damping=0.65;max_iter=200 116739 0.15948719230192882\n",
      "damping=0.65;max_iter=200 26225 0.15948719230192882\n",
      "damping=0.65;max_iter=200 777572 0.15948719230192882\n",
      "damping=0.65;max_iter=200 288389 0.15948719230192882\n",
      "damping=0.65;max_iter=1000 670487 0.15948719230192882\n",
      "damping=0.65;max_iter=1000 116739 0.15948719230192882\n",
      "damping=0.65;max_iter=1000 26225 0.15948719230192882\n",
      "damping=0.65;max_iter=1000 777572 0.15948719230192882\n",
      "damping=0.65;max_iter=1000 288389 0.15948719230192882\n",
      "damping=0.7;max_iter=200 670487 0.15948719230192882\n",
      "damping=0.7;max_iter=200 116739 0.15948719230192882\n",
      "damping=0.7;max_iter=200 26225 0.15948719230192882\n",
      "damping=0.7;max_iter=200 777572 0.15948719230192882\n",
      "damping=0.7;max_iter=200 288389 0.15948719230192882\n",
      "damping=0.7;max_iter=1000 670487 0.15948719230192882\n",
      "damping=0.7;max_iter=1000 116739 0.15948719230192882\n",
      "damping=0.7;max_iter=1000 26225 0.15948719230192882\n",
      "damping=0.7;max_iter=1000 777572 0.15948719230192882\n",
      "damping=0.7;max_iter=1000 288389 0.15948719230192882\n",
      "damping=0.75;max_iter=200 670487 0.15948719230192882\n",
      "damping=0.75;max_iter=200 116739 0.15948719230192882\n",
      "damping=0.75;max_iter=200 26225 0.15948719230192882\n",
      "damping=0.75;max_iter=200 777572 0.15948719230192882\n",
      "damping=0.75;max_iter=200 288389 0.15948719230192882\n",
      "damping=0.75;max_iter=1000 670487 0.15948719230192882\n",
      "damping=0.75;max_iter=1000 116739 0.15948719230192882\n",
      "damping=0.75;max_iter=1000 26225 0.15948719230192882\n",
      "damping=0.75;max_iter=1000 777572 0.15948719230192882\n",
      "damping=0.75;max_iter=1000 288389 0.15948719230192882\n",
      "damping=0.8;max_iter=200 670487 0.15948719230192882\n",
      "damping=0.8;max_iter=200 116739 0.15948719230192882\n",
      "damping=0.8;max_iter=200 26225 0.15948719230192882\n",
      "damping=0.8;max_iter=200 777572 0.15948719230192882\n",
      "damping=0.8;max_iter=200 288389 0.15948719230192882\n",
      "damping=0.8;max_iter=1000 670487 0.15948719230192882\n",
      "damping=0.8;max_iter=1000 116739 0.15948719230192882\n",
      "damping=0.8;max_iter=1000 26225 0.15948719230192882\n",
      "damping=0.8;max_iter=1000 777572 0.15948719230192882\n",
      "damping=0.8;max_iter=1000 288389 0.15948719230192882\n",
      "damping=0.85;max_iter=200 670487 0.15948719230192882\n",
      "damping=0.85;max_iter=200 116739 0.15948719230192882\n",
      "damping=0.85;max_iter=200 26225 0.15948719230192882\n",
      "damping=0.85;max_iter=200 777572 0.15948719230192882\n",
      "damping=0.85;max_iter=200 288389 0.15948719230192882\n",
      "damping=0.85;max_iter=1000 670487 0.15948719230192882\n",
      "damping=0.85;max_iter=1000 116739 0.15948719230192882\n",
      "damping=0.85;max_iter=1000 26225 0.15948719230192882\n",
      "damping=0.85;max_iter=1000 777572 0.15948719230192882\n",
      "damping=0.85;max_iter=1000 288389 0.15948719230192882\n",
      "damping=0.9;max_iter=200 670487 0.15948719230192882\n",
      "damping=0.9;max_iter=200 116739 0.15948719230192882\n",
      "damping=0.9;max_iter=200 26225 0.15948719230192882\n",
      "damping=0.9;max_iter=200 777572 0.15948719230192882\n",
      "damping=0.9;max_iter=200 288389 0.15948719230192882\n",
      "damping=0.9;max_iter=1000 670487 0.15948719230192882\n",
      "damping=0.9;max_iter=1000 116739 0.15948719230192882\n",
      "damping=0.9;max_iter=1000 26225 0.15948719230192882\n",
      "damping=0.9;max_iter=1000 777572 0.15948719230192882\n",
      "damping=0.9;max_iter=1000 288389 0.15948719230192882\n",
      "damping=0.95;max_iter=200 670487 0.16651139498553924\n",
      "damping=0.95;max_iter=200 116739 0.16651139498553924\n",
      "damping=0.95;max_iter=200 26225 0.16651139498553924\n",
      "damping=0.95;max_iter=200 777572 0.16651139498553924\n",
      "damping=0.95;max_iter=200 288389 0.16651139498553924\n",
      "damping=0.95;max_iter=1000 670487 0.16651139498553924\n",
      "damping=0.95;max_iter=1000 116739 0.16651139498553924\n",
      "damping=0.95;max_iter=1000 26225 0.16651139498553924\n",
      "damping=0.95;max_iter=1000 777572 0.16651139498553924\n",
      "damping=0.95;max_iter=1000 288389 0.16651139498553924\n",
      "damping=0.97;max_iter=200 670487 0.16651139498553924\n",
      "damping=0.97;max_iter=200 116739 0.16651139498553924\n",
      "damping=0.97;max_iter=200 26225 0.16651139498553924\n",
      "damping=0.97;max_iter=200 777572 0.16651139498553924\n",
      "damping=0.97;max_iter=200 288389 0.16651139498553924\n",
      "damping=0.97;max_iter=1000 670487 0.16651139498553924\n",
      "damping=0.97;max_iter=1000 116739 0.16651139498553924\n",
      "damping=0.97;max_iter=1000 26225 0.16651139498553924\n",
      "damping=0.97;max_iter=1000 777572 0.16651139498553924\n",
      "damping=0.97;max_iter=1000 288389 0.16651139498553924\n",
      "damping=0.99;max_iter=200 670487 0.1496710633405403\n",
      "damping=0.99;max_iter=200 116739 0.15030413756259733\n",
      "damping=0.99;max_iter=200 26225 0.1496710633405403\n",
      "damping=0.99;max_iter=200 777572 0.1496710633405403\n",
      "damping=0.99;max_iter=200 288389 0.1496710633405403\n",
      "damping=0.99;max_iter=1000 670487 0.1496710633405403\n",
      "damping=0.99;max_iter=1000 116739 0.15030413756259733\n",
      "damping=0.99;max_iter=1000 26225 0.1496710633405403\n",
      "damping=0.99;max_iter=1000 777572 0.1496710633405403\n",
      "damping=0.99;max_iter=1000 288389 0.1496710633405403\n"
     ]
    },
    {
     "data": {
      "text/html": [
       "<div>\n",
       "<style scoped>\n",
       "    .dataframe tbody tr th:only-of-type {\n",
       "        vertical-align: middle;\n",
       "    }\n",
       "\n",
       "    .dataframe tbody tr th {\n",
       "        vertical-align: top;\n",
       "    }\n",
       "\n",
       "    .dataframe thead th {\n",
       "        text-align: right;\n",
       "    }\n",
       "</style>\n",
       "<table border=\"1\" class=\"dataframe\">\n",
       "  <thead>\n",
       "    <tr style=\"text-align: right;\">\n",
       "      <th></th>\n",
       "      <th>PAM50</th>\n",
       "      <th>Intrinsic</th>\n",
       "      <th>PAM50_AB</th>\n",
       "      <th>SCMOD2</th>\n",
       "      <th>IHC</th>\n",
       "      <th>Luminal</th>\n",
       "      <th>Basal</th>\n",
       "      <th>Her2</th>\n",
       "      <th>LumA</th>\n",
       "      <th>LumB</th>\n",
       "      <th>Normal</th>\n",
       "      <th>Claudin-low</th>\n",
       "      <th>IHC_HER2</th>\n",
       "      <th>IHC_ER</th>\n",
       "      <th>IHC_PR</th>\n",
       "      <th>IHC_TNBC</th>\n",
       "      <th>NET_kmeans</th>\n",
       "      <th>NET_ward</th>\n",
       "      <th>parameters</th>\n",
       "      <th>seed</th>\n",
       "    </tr>\n",
       "  </thead>\n",
       "  <tbody>\n",
       "    <tr>\n",
       "      <th>93</th>\n",
       "      <td>0.166511</td>\n",
       "      <td>0.169423</td>\n",
       "      <td>0.113845</td>\n",
       "      <td>0.097402</td>\n",
       "      <td>0.120645</td>\n",
       "      <td>0.11609</td>\n",
       "      <td>0.300697</td>\n",
       "      <td>0.29264</td>\n",
       "      <td>0.062559</td>\n",
       "      <td>0.02674</td>\n",
       "      <td>0.262005</td>\n",
       "      <td>0.23389</td>\n",
       "      <td>0.22551</td>\n",
       "      <td>0.15507</td>\n",
       "      <td>0.013887</td>\n",
       "      <td>0.230157</td>\n",
       "      <td>0.3026</td>\n",
       "      <td>0.388272</td>\n",
       "      <td>damping=0.95;max_iter=200</td>\n",
       "      <td>777572</td>\n",
       "    </tr>\n",
       "    <tr>\n",
       "      <th>100</th>\n",
       "      <td>0.166511</td>\n",
       "      <td>0.169423</td>\n",
       "      <td>0.114046</td>\n",
       "      <td>0.098626</td>\n",
       "      <td>0.120645</td>\n",
       "      <td>0.11609</td>\n",
       "      <td>0.300697</td>\n",
       "      <td>0.29264</td>\n",
       "      <td>0.062413</td>\n",
       "      <td>0.027352</td>\n",
       "      <td>0.262005</td>\n",
       "      <td>0.23389</td>\n",
       "      <td>0.22551</td>\n",
       "      <td>0.15507</td>\n",
       "      <td>0.013887</td>\n",
       "      <td>0.230157</td>\n",
       "      <td>0.3026</td>\n",
       "      <td>0.388272</td>\n",
       "      <td>damping=0.97;max_iter=200</td>\n",
       "      <td>670487</td>\n",
       "    </tr>\n",
       "    <tr>\n",
       "      <th>90</th>\n",
       "      <td>0.166511</td>\n",
       "      <td>0.169423</td>\n",
       "      <td>0.113845</td>\n",
       "      <td>0.097402</td>\n",
       "      <td>0.120645</td>\n",
       "      <td>0.11609</td>\n",
       "      <td>0.300697</td>\n",
       "      <td>0.29264</td>\n",
       "      <td>0.062559</td>\n",
       "      <td>0.02674</td>\n",
       "      <td>0.262005</td>\n",
       "      <td>0.23389</td>\n",
       "      <td>0.22551</td>\n",
       "      <td>0.15507</td>\n",
       "      <td>0.013887</td>\n",
       "      <td>0.230157</td>\n",
       "      <td>0.3026</td>\n",
       "      <td>0.388272</td>\n",
       "      <td>damping=0.95;max_iter=200</td>\n",
       "      <td>670487</td>\n",
       "    </tr>\n",
       "    <tr>\n",
       "      <th>91</th>\n",
       "      <td>0.166511</td>\n",
       "      <td>0.169423</td>\n",
       "      <td>0.113845</td>\n",
       "      <td>0.097402</td>\n",
       "      <td>0.120645</td>\n",
       "      <td>0.11609</td>\n",
       "      <td>0.300697</td>\n",
       "      <td>0.29264</td>\n",
       "      <td>0.062559</td>\n",
       "      <td>0.02674</td>\n",
       "      <td>0.262005</td>\n",
       "      <td>0.23389</td>\n",
       "      <td>0.22551</td>\n",
       "      <td>0.15507</td>\n",
       "      <td>0.013887</td>\n",
       "      <td>0.230157</td>\n",
       "      <td>0.3026</td>\n",
       "      <td>0.388272</td>\n",
       "      <td>damping=0.95;max_iter=200</td>\n",
       "      <td>116739</td>\n",
       "    </tr>\n",
       "    <tr>\n",
       "      <th>92</th>\n",
       "      <td>0.166511</td>\n",
       "      <td>0.169423</td>\n",
       "      <td>0.113845</td>\n",
       "      <td>0.097402</td>\n",
       "      <td>0.120645</td>\n",
       "      <td>0.11609</td>\n",
       "      <td>0.300697</td>\n",
       "      <td>0.29264</td>\n",
       "      <td>0.062559</td>\n",
       "      <td>0.02674</td>\n",
       "      <td>0.262005</td>\n",
       "      <td>0.23389</td>\n",
       "      <td>0.22551</td>\n",
       "      <td>0.15507</td>\n",
       "      <td>0.013887</td>\n",
       "      <td>0.230157</td>\n",
       "      <td>0.3026</td>\n",
       "      <td>0.388272</td>\n",
       "      <td>damping=0.95;max_iter=200</td>\n",
       "      <td>26225</td>\n",
       "    </tr>\n",
       "    <tr>\n",
       "      <th>...</th>\n",
       "      <td>...</td>\n",
       "      <td>...</td>\n",
       "      <td>...</td>\n",
       "      <td>...</td>\n",
       "      <td>...</td>\n",
       "      <td>...</td>\n",
       "      <td>...</td>\n",
       "      <td>...</td>\n",
       "      <td>...</td>\n",
       "      <td>...</td>\n",
       "      <td>...</td>\n",
       "      <td>...</td>\n",
       "      <td>...</td>\n",
       "      <td>...</td>\n",
       "      <td>...</td>\n",
       "      <td>...</td>\n",
       "      <td>...</td>\n",
       "      <td>...</td>\n",
       "      <td>...</td>\n",
       "      <td>...</td>\n",
       "    </tr>\n",
       "    <tr>\n",
       "      <th>114</th>\n",
       "      <td>0.149671</td>\n",
       "      <td>0.156926</td>\n",
       "      <td>0.121443</td>\n",
       "      <td>0.111155</td>\n",
       "      <td>0.098198</td>\n",
       "      <td>0.131508</td>\n",
       "      <td>0.2631</td>\n",
       "      <td>0.104573</td>\n",
       "      <td>0.132895</td>\n",
       "      <td>0.060075</td>\n",
       "      <td>0.299022</td>\n",
       "      <td>0.317557</td>\n",
       "      <td>0.081449</td>\n",
       "      <td>0.136945</td>\n",
       "      <td>0.018846</td>\n",
       "      <td>0.190133</td>\n",
       "      <td>0.11377</td>\n",
       "      <td>0.094568</td>\n",
       "      <td>damping=0.99;max_iter=200</td>\n",
       "      <td>288389</td>\n",
       "    </tr>\n",
       "    <tr>\n",
       "      <th>115</th>\n",
       "      <td>0.149671</td>\n",
       "      <td>0.156926</td>\n",
       "      <td>0.121443</td>\n",
       "      <td>0.111155</td>\n",
       "      <td>0.098198</td>\n",
       "      <td>0.131508</td>\n",
       "      <td>0.2631</td>\n",
       "      <td>0.104573</td>\n",
       "      <td>0.132895</td>\n",
       "      <td>0.060075</td>\n",
       "      <td>0.299022</td>\n",
       "      <td>0.317557</td>\n",
       "      <td>0.081449</td>\n",
       "      <td>0.136945</td>\n",
       "      <td>0.018846</td>\n",
       "      <td>0.190133</td>\n",
       "      <td>0.11377</td>\n",
       "      <td>0.094568</td>\n",
       "      <td>damping=0.99;max_iter=1000</td>\n",
       "      <td>670487</td>\n",
       "    </tr>\n",
       "    <tr>\n",
       "      <th>117</th>\n",
       "      <td>0.149671</td>\n",
       "      <td>0.156926</td>\n",
       "      <td>0.121443</td>\n",
       "      <td>0.111155</td>\n",
       "      <td>0.098198</td>\n",
       "      <td>0.131508</td>\n",
       "      <td>0.2631</td>\n",
       "      <td>0.104573</td>\n",
       "      <td>0.132895</td>\n",
       "      <td>0.060075</td>\n",
       "      <td>0.299022</td>\n",
       "      <td>0.317557</td>\n",
       "      <td>0.081449</td>\n",
       "      <td>0.136945</td>\n",
       "      <td>0.018846</td>\n",
       "      <td>0.190133</td>\n",
       "      <td>0.11377</td>\n",
       "      <td>0.094568</td>\n",
       "      <td>damping=0.99;max_iter=1000</td>\n",
       "      <td>26225</td>\n",
       "    </tr>\n",
       "    <tr>\n",
       "      <th>118</th>\n",
       "      <td>0.149671</td>\n",
       "      <td>0.156926</td>\n",
       "      <td>0.121443</td>\n",
       "      <td>0.111155</td>\n",
       "      <td>0.098198</td>\n",
       "      <td>0.131508</td>\n",
       "      <td>0.2631</td>\n",
       "      <td>0.104573</td>\n",
       "      <td>0.132895</td>\n",
       "      <td>0.060075</td>\n",
       "      <td>0.299022</td>\n",
       "      <td>0.317557</td>\n",
       "      <td>0.081449</td>\n",
       "      <td>0.136945</td>\n",
       "      <td>0.018846</td>\n",
       "      <td>0.190133</td>\n",
       "      <td>0.11377</td>\n",
       "      <td>0.094568</td>\n",
       "      <td>damping=0.99;max_iter=1000</td>\n",
       "      <td>777572</td>\n",
       "    </tr>\n",
       "    <tr>\n",
       "      <th>119</th>\n",
       "      <td>0.149671</td>\n",
       "      <td>0.156926</td>\n",
       "      <td>0.121443</td>\n",
       "      <td>0.111155</td>\n",
       "      <td>0.098198</td>\n",
       "      <td>0.131508</td>\n",
       "      <td>0.2631</td>\n",
       "      <td>0.104573</td>\n",
       "      <td>0.132895</td>\n",
       "      <td>0.060075</td>\n",
       "      <td>0.299022</td>\n",
       "      <td>0.317557</td>\n",
       "      <td>0.081449</td>\n",
       "      <td>0.136945</td>\n",
       "      <td>0.018846</td>\n",
       "      <td>0.190133</td>\n",
       "      <td>0.11377</td>\n",
       "      <td>0.094568</td>\n",
       "      <td>damping=0.99;max_iter=1000</td>\n",
       "      <td>288389</td>\n",
       "    </tr>\n",
       "  </tbody>\n",
       "</table>\n",
       "<p>120 rows × 20 columns</p>\n",
       "</div>"
      ],
      "text/plain": [
       "        PAM50 Intrinsic  PAM50_AB    SCMOD2       IHC   Luminal     Basal  \\\n",
       "93   0.166511  0.169423  0.113845  0.097402  0.120645   0.11609  0.300697   \n",
       "100  0.166511  0.169423  0.114046  0.098626  0.120645   0.11609  0.300697   \n",
       "90   0.166511  0.169423  0.113845  0.097402  0.120645   0.11609  0.300697   \n",
       "91   0.166511  0.169423  0.113845  0.097402  0.120645   0.11609  0.300697   \n",
       "92   0.166511  0.169423  0.113845  0.097402  0.120645   0.11609  0.300697   \n",
       "..        ...       ...       ...       ...       ...       ...       ...   \n",
       "114  0.149671  0.156926  0.121443  0.111155  0.098198  0.131508    0.2631   \n",
       "115  0.149671  0.156926  0.121443  0.111155  0.098198  0.131508    0.2631   \n",
       "117  0.149671  0.156926  0.121443  0.111155  0.098198  0.131508    0.2631   \n",
       "118  0.149671  0.156926  0.121443  0.111155  0.098198  0.131508    0.2631   \n",
       "119  0.149671  0.156926  0.121443  0.111155  0.098198  0.131508    0.2631   \n",
       "\n",
       "         Her2      LumA      LumB    Normal Claudin-low  IHC_HER2    IHC_ER  \\\n",
       "93    0.29264  0.062559   0.02674  0.262005     0.23389   0.22551   0.15507   \n",
       "100   0.29264  0.062413  0.027352  0.262005     0.23389   0.22551   0.15507   \n",
       "90    0.29264  0.062559   0.02674  0.262005     0.23389   0.22551   0.15507   \n",
       "91    0.29264  0.062559   0.02674  0.262005     0.23389   0.22551   0.15507   \n",
       "92    0.29264  0.062559   0.02674  0.262005     0.23389   0.22551   0.15507   \n",
       "..        ...       ...       ...       ...         ...       ...       ...   \n",
       "114  0.104573  0.132895  0.060075  0.299022    0.317557  0.081449  0.136945   \n",
       "115  0.104573  0.132895  0.060075  0.299022    0.317557  0.081449  0.136945   \n",
       "117  0.104573  0.132895  0.060075  0.299022    0.317557  0.081449  0.136945   \n",
       "118  0.104573  0.132895  0.060075  0.299022    0.317557  0.081449  0.136945   \n",
       "119  0.104573  0.132895  0.060075  0.299022    0.317557  0.081449  0.136945   \n",
       "\n",
       "       IHC_PR  IHC_TNBC NET_kmeans  NET_ward                  parameters  \\\n",
       "93   0.013887  0.230157     0.3026  0.388272   damping=0.95;max_iter=200   \n",
       "100  0.013887  0.230157     0.3026  0.388272   damping=0.97;max_iter=200   \n",
       "90   0.013887  0.230157     0.3026  0.388272   damping=0.95;max_iter=200   \n",
       "91   0.013887  0.230157     0.3026  0.388272   damping=0.95;max_iter=200   \n",
       "92   0.013887  0.230157     0.3026  0.388272   damping=0.95;max_iter=200   \n",
       "..        ...       ...        ...       ...                         ...   \n",
       "114  0.018846  0.190133    0.11377  0.094568   damping=0.99;max_iter=200   \n",
       "115  0.018846  0.190133    0.11377  0.094568  damping=0.99;max_iter=1000   \n",
       "117  0.018846  0.190133    0.11377  0.094568  damping=0.99;max_iter=1000   \n",
       "118  0.018846  0.190133    0.11377  0.094568  damping=0.99;max_iter=1000   \n",
       "119  0.018846  0.190133    0.11377  0.094568  damping=0.99;max_iter=1000   \n",
       "\n",
       "       seed  \n",
       "93   777572  \n",
       "100  670487  \n",
       "90   670487  \n",
       "91   116739  \n",
       "92    26225  \n",
       "..      ...  \n",
       "114  288389  \n",
       "115  670487  \n",
       "117   26225  \n",
       "118  777572  \n",
       "119  288389  \n",
       "\n",
       "[120 rows x 20 columns]"
      ]
     },
     "execution_count": 40,
     "metadata": {},
     "output_type": "execute_result"
    }
   ],
   "source": [
    "stats = {}\n",
    "i=0\n",
    "method = \"AffinityPropagation\"\n",
    "\n",
    "if not os.path.exists(basedir+\"/\"+method+\"/\"):\n",
    "    os.mkdir(basedir+\"/\"+method+\"/\")\n",
    "    \n",
    "for df in damping_factors:\n",
    "    for n_iter in n_iters:\n",
    "        for run in range(5):\n",
    "            params = \"damping=\"+str(df)+\";max_iter=\"+str(n_iter)\n",
    "            seed = seeds[run]\n",
    "            labels = AffinityPropagation(damping=df, max_iter=n_iter,\n",
    "                                         random_state=seed).fit_predict(exprs.T)\n",
    "\n",
    "            clusters = labels_to_clsuters(labels,  exprs.columns)\n",
    "            clusters = clusters.loc[clusters[\"n_samples\"]>=5,:]\n",
    "            performances, best_matches = calculate_perfromance(clusters, known_groups,all_samples,\n",
    "                                                               performance_measure = \"ARI\")\n",
    "            stats[i] = performances.to_dict()\n",
    "            print(params,seed,stats[i][\"PAM50\"])\n",
    "            stats[i][\"parameters\"]=params\n",
    "            stats[i][\"seed\"]= seed\n",
    "            \n",
    "            # saving clusters \n",
    "            clusters[\"samples\"] = clusters[\"samples\"].apply(lambda row: \" \".join(sorted(row)))\n",
    "            clusters = clusters.loc[:,[\"n_samples\",\"samples\"]] \n",
    "            clusters.to_csv(basedir+\"/\"+method+\"/\"+dataset+\".\"+method+\".\"+params+\".seed=\"+str(seed)+\".clusters.tsv\",sep=\"\\t\")\n",
    "            \n",
    "            i+=1\n",
    "stats = pd.DataFrame.from_dict(stats).T\n",
    "# saving performances\n",
    "stats.to_csv(basedir +\"/\"+method+\"_\"+dataset+\".tsv\",sep=\"\\t\")\n",
    "stats.sort_values(by=\"PAM50\",ascending=False)"
   ]
  },
  {
   "cell_type": "code",
   "execution_count": null,
   "id": "grand-rebound",
   "metadata": {},
   "outputs": [],
   "source": []
  },
  {
   "cell_type": "markdown",
   "id": "comprehensive-teens",
   "metadata": {},
   "source": [
    "### Hierarchical clusteirng\n",
    "Agglomerative clusteirng"
   ]
  },
  {
   "cell_type": "code",
   "execution_count": 44,
   "id": "casual-things",
   "metadata": {},
   "outputs": [
    {
     "data": {
      "text/plain": [
       "76"
      ]
     },
     "execution_count": 44,
     "metadata": {},
     "output_type": "execute_result"
    }
   ],
   "source": [
    "from sklearn.cluster import AgglomerativeClustering \n",
    "\n",
    "linkages = [\"ward\", \"complete\", \"average\", \"single\"]\n",
    "ks = list(range(2,21))\n",
    "len(ks)*len(linkages)"
   ]
  },
  {
   "cell_type": "code",
   "execution_count": 45,
   "id": "macro-strengthening",
   "metadata": {
    "scrolled": true
   },
   "outputs": [
    {
     "name": "stdout",
     "output_type": "stream",
     "text": [
      "k=2;linkage=ward 0.43335484448806205\n",
      "k=2;linkage=complete 0.0\n",
      "k=2;linkage=average 0.00235646018430768\n",
      "k=2;linkage=single 0.0\n",
      "k=3;linkage=ward 0.4385604896386175\n",
      "k=3;linkage=complete 0.0\n",
      "k=3;linkage=average 0.00235646018430768\n",
      "k=3;linkage=single 0.00235646018430768\n",
      "k=4;linkage=ward 0.43546495595039086\n",
      "k=4;linkage=complete 0.0323988505857944\n",
      "k=4;linkage=average 0.0\n",
      "k=4;linkage=single 0.008214422837779997\n",
      "k=5;linkage=ward 0.4355970306029428\n",
      "k=5;linkage=complete 0.0323988505857944\n",
      "k=5;linkage=average 0.011644716818906636\n",
      "k=5;linkage=single 0.010948864204035524\n",
      "k=6;linkage=ward 0.4776220978043249\n",
      "k=6;linkage=complete 0.12430909585028418\n",
      "k=6;linkage=average 0.02246494502748311\n",
      "k=6;linkage=single 0.013681541748270847\n",
      "k=7;linkage=ward 0.4776220978043249\n",
      "k=7;linkage=complete 0.12430909585028418\n",
      "k=7;linkage=average 0.02312881699058949\n",
      "k=7;linkage=single 0.016412506117806168\n",
      "k=8;linkage=ward 0.2639698399920336\n",
      "k=8;linkage=complete 0.31882607694572085\n",
      "k=8;linkage=average 0.025746866523425206\n",
      "k=8;linkage=single 0.019141807352081684\n",
      "k=9;linkage=ward 0.26529856768549115\n",
      "k=9;linkage=complete 0.31882607694572085\n",
      "k=9;linkage=average 0.027312219290212165\n",
      "k=9;linkage=single 0.021869494892657014\n",
      "k=10;linkage=ward 0.26529856768549115\n",
      "k=10;linkage=complete 0.3262274673298049\n",
      "k=10;linkage=average 0.02991736796190784\n",
      "k=10;linkage=single 0.024595617593019772\n",
      "k=11;linkage=ward 0.26529856768549115\n",
      "k=11;linkage=complete 0.2901132717649624\n",
      "k=11;linkage=average 0.03252175342368949\n",
      "k=11;linkage=single 0.027320223728207516\n",
      "k=12;linkage=ward 0.26529856768549115\n",
      "k=12;linkage=complete 0.300581374027448\n",
      "k=12;linkage=average 0.012678714515833243\n",
      "k=12;linkage=single 0.03004336100424717\n",
      "k=13;linkage=ward 0.27213748321809117\n",
      "k=13;linkage=complete 0.300581374027448\n",
      "k=13;linkage=average 0.03121818031476712\n",
      "k=13;linkage=single 0.028950659622640214\n",
      "k=14;linkage=ward 0.2744002075701154\n",
      "k=14;linkage=complete 0.300581374027448\n",
      "k=14;linkage=average 0.033686862394322246\n",
      "k=14;linkage=single 0.031660868427428386\n",
      "k=15;linkage=ward 0.2744002075701154\n",
      "k=15;linkage=complete 0.300581374027448\n",
      "k=15;linkage=average 0.033686862394322246\n",
      "k=15;linkage=single 0.03436975305289288\n",
      "k=16;linkage=ward 0.2744002075701154\n",
      "k=16;linkage=complete 0.300581374027448\n",
      "k=16;linkage=average 0.03862431501254665\n",
      "k=16;linkage=single 0.033262575702072646\n",
      "k=17;linkage=ward 0.25269284199387837\n",
      "k=17;linkage=complete 0.300581374027448\n",
      "k=17;linkage=average 0.03862431501254665\n",
      "k=17;linkage=single 0.03595879856187527\n",
      "k=18;linkage=ward 0.25269284199387837\n",
      "k=18;linkage=complete 0.24481135084893113\n",
      "k=18;linkage=average 0.03757806789153468\n",
      "k=18;linkage=single 0.0348487096303118\n",
      "k=19;linkage=ward 0.23374124424281967\n",
      "k=19;linkage=complete 0.22856305579886638\n",
      "k=19;linkage=average 0.03757806789153468\n",
      "k=19;linkage=single 0.03753243639642627\n",
      "k=20;linkage=ward 0.23374124424281967\n",
      "k=20;linkage=complete 0.22856305579886638\n",
      "k=20;linkage=average 0.04003639035733216\n",
      "k=20;linkage=single 0.04021507126275457\n"
     ]
    },
    {
     "data": {
      "text/html": [
       "<div>\n",
       "<style scoped>\n",
       "    .dataframe tbody tr th:only-of-type {\n",
       "        vertical-align: middle;\n",
       "    }\n",
       "\n",
       "    .dataframe tbody tr th {\n",
       "        vertical-align: top;\n",
       "    }\n",
       "\n",
       "    .dataframe thead th {\n",
       "        text-align: right;\n",
       "    }\n",
       "</style>\n",
       "<table border=\"1\" class=\"dataframe\">\n",
       "  <thead>\n",
       "    <tr style=\"text-align: right;\">\n",
       "      <th></th>\n",
       "      <th>PAM50</th>\n",
       "      <th>Intrinsic</th>\n",
       "      <th>PAM50_AB</th>\n",
       "      <th>SCMOD2</th>\n",
       "      <th>IHC</th>\n",
       "      <th>Luminal</th>\n",
       "      <th>Basal</th>\n",
       "      <th>Her2</th>\n",
       "      <th>LumA</th>\n",
       "      <th>LumB</th>\n",
       "      <th>Normal</th>\n",
       "      <th>Claudin-low</th>\n",
       "      <th>IHC_HER2</th>\n",
       "      <th>IHC_ER</th>\n",
       "      <th>IHC_PR</th>\n",
       "      <th>IHC_TNBC</th>\n",
       "      <th>NET_kmeans</th>\n",
       "      <th>NET_ward</th>\n",
       "      <th>parameters</th>\n",
       "    </tr>\n",
       "  </thead>\n",
       "  <tbody>\n",
       "    <tr>\n",
       "      <th>20</th>\n",
       "      <td>0.477622</td>\n",
       "      <td>0.461565</td>\n",
       "      <td>0.334065</td>\n",
       "      <td>0.345684</td>\n",
       "      <td>0.322449</td>\n",
       "      <td>0.42049</td>\n",
       "      <td>0.851772</td>\n",
       "      <td>0.319872</td>\n",
       "      <td>0.214842</td>\n",
       "      <td>0.208882</td>\n",
       "      <td>0.058364</td>\n",
       "      <td>0.076547</td>\n",
       "      <td>0.121945</td>\n",
       "      <td>0.4032</td>\n",
       "      <td>0.245442</td>\n",
       "      <td>0.498923</td>\n",
       "      <td>0.149488</td>\n",
       "      <td>0.114361</td>\n",
       "      <td>k=7;linkage=ward</td>\n",
       "    </tr>\n",
       "    <tr>\n",
       "      <th>16</th>\n",
       "      <td>0.477622</td>\n",
       "      <td>0.461565</td>\n",
       "      <td>0.334065</td>\n",
       "      <td>0.345684</td>\n",
       "      <td>0.322449</td>\n",
       "      <td>0.42049</td>\n",
       "      <td>0.851772</td>\n",
       "      <td>0.319872</td>\n",
       "      <td>0.214842</td>\n",
       "      <td>0.208882</td>\n",
       "      <td>0.058364</td>\n",
       "      <td>0.076547</td>\n",
       "      <td>0.121945</td>\n",
       "      <td>0.4032</td>\n",
       "      <td>0.245442</td>\n",
       "      <td>0.498923</td>\n",
       "      <td>0.118502</td>\n",
       "      <td>0.082501</td>\n",
       "      <td>k=6;linkage=ward</td>\n",
       "    </tr>\n",
       "    <tr>\n",
       "      <th>4</th>\n",
       "      <td>0.43856</td>\n",
       "      <td>0.424067</td>\n",
       "      <td>0.150439</td>\n",
       "      <td>0.163245</td>\n",
       "      <td>0.307481</td>\n",
       "      <td>0.42049</td>\n",
       "      <td>0.851772</td>\n",
       "      <td>-0.046752</td>\n",
       "      <td>0.02839</td>\n",
       "      <td>-0.031864</td>\n",
       "      <td>-0.02139</td>\n",
       "      <td>0.076547</td>\n",
       "      <td>-0.043375</td>\n",
       "      <td>0.4032</td>\n",
       "      <td>0.245442</td>\n",
       "      <td>0.498923</td>\n",
       "      <td>0.118502</td>\n",
       "      <td>0.082501</td>\n",
       "      <td>k=3;linkage=ward</td>\n",
       "    </tr>\n",
       "    <tr>\n",
       "      <th>12</th>\n",
       "      <td>0.435597</td>\n",
       "      <td>0.421222</td>\n",
       "      <td>0.244479</td>\n",
       "      <td>0.272155</td>\n",
       "      <td>0.314934</td>\n",
       "      <td>0.42049</td>\n",
       "      <td>0.851772</td>\n",
       "      <td>-0.092976</td>\n",
       "      <td>0.094375</td>\n",
       "      <td>0.208882</td>\n",
       "      <td>0.034693</td>\n",
       "      <td>0.076547</td>\n",
       "      <td>0.038942</td>\n",
       "      <td>0.4032</td>\n",
       "      <td>0.245442</td>\n",
       "      <td>0.498923</td>\n",
       "      <td>0.118502</td>\n",
       "      <td>0.082501</td>\n",
       "      <td>k=5;linkage=ward</td>\n",
       "    </tr>\n",
       "    <tr>\n",
       "      <th>8</th>\n",
       "      <td>0.435465</td>\n",
       "      <td>0.421095</td>\n",
       "      <td>0.245457</td>\n",
       "      <td>0.269576</td>\n",
       "      <td>0.314934</td>\n",
       "      <td>0.42049</td>\n",
       "      <td>0.851772</td>\n",
       "      <td>-0.092976</td>\n",
       "      <td>0.097187</td>\n",
       "      <td>0.208882</td>\n",
       "      <td>0.030239</td>\n",
       "      <td>0.076547</td>\n",
       "      <td>0.038942</td>\n",
       "      <td>0.4032</td>\n",
       "      <td>0.245442</td>\n",
       "      <td>0.498923</td>\n",
       "      <td>0.118502</td>\n",
       "      <td>0.082501</td>\n",
       "      <td>k=4;linkage=ward</td>\n",
       "    </tr>\n",
       "    <tr>\n",
       "      <th>...</th>\n",
       "      <td>...</td>\n",
       "      <td>...</td>\n",
       "      <td>...</td>\n",
       "      <td>...</td>\n",
       "      <td>...</td>\n",
       "      <td>...</td>\n",
       "      <td>...</td>\n",
       "      <td>...</td>\n",
       "      <td>...</td>\n",
       "      <td>...</td>\n",
       "      <td>...</td>\n",
       "      <td>...</td>\n",
       "      <td>...</td>\n",
       "      <td>...</td>\n",
       "      <td>...</td>\n",
       "      <td>...</td>\n",
       "      <td>...</td>\n",
       "      <td>...</td>\n",
       "      <td>...</td>\n",
       "    </tr>\n",
       "    <tr>\n",
       "      <th>2</th>\n",
       "      <td>0.002356</td>\n",
       "      <td>0.002262</td>\n",
       "      <td>0.002356</td>\n",
       "      <td>0.002202</td>\n",
       "      <td>0.0</td>\n",
       "      <td>0.0</td>\n",
       "      <td>0.013039</td>\n",
       "      <td>0.0</td>\n",
       "      <td>0.0</td>\n",
       "      <td>0.0</td>\n",
       "      <td>0.0</td>\n",
       "      <td>0.0</td>\n",
       "      <td>0.0</td>\n",
       "      <td>0.0</td>\n",
       "      <td>0.0</td>\n",
       "      <td>0.0</td>\n",
       "      <td>0.0</td>\n",
       "      <td>0.0</td>\n",
       "      <td>k=2;linkage=average</td>\n",
       "    </tr>\n",
       "    <tr>\n",
       "      <th>5</th>\n",
       "      <td>0.0</td>\n",
       "      <td>0.0</td>\n",
       "      <td>0.0</td>\n",
       "      <td>0.0</td>\n",
       "      <td>0.0</td>\n",
       "      <td>0.0</td>\n",
       "      <td>0.0</td>\n",
       "      <td>0.0</td>\n",
       "      <td>0.0</td>\n",
       "      <td>0.0</td>\n",
       "      <td>0.0</td>\n",
       "      <td>0.0</td>\n",
       "      <td>0.0</td>\n",
       "      <td>0.0</td>\n",
       "      <td>0.0</td>\n",
       "      <td>0.0</td>\n",
       "      <td>0.0</td>\n",
       "      <td>0.0</td>\n",
       "      <td>k=3;linkage=complete</td>\n",
       "    </tr>\n",
       "    <tr>\n",
       "      <th>1</th>\n",
       "      <td>0.0</td>\n",
       "      <td>0.0</td>\n",
       "      <td>0.0</td>\n",
       "      <td>0.0</td>\n",
       "      <td>0.0</td>\n",
       "      <td>0.0</td>\n",
       "      <td>0.0</td>\n",
       "      <td>0.0</td>\n",
       "      <td>0.0</td>\n",
       "      <td>0.0</td>\n",
       "      <td>0.0</td>\n",
       "      <td>0.0</td>\n",
       "      <td>0.0</td>\n",
       "      <td>0.0</td>\n",
       "      <td>0.0</td>\n",
       "      <td>0.0</td>\n",
       "      <td>0.0</td>\n",
       "      <td>0.0</td>\n",
       "      <td>k=2;linkage=complete</td>\n",
       "    </tr>\n",
       "    <tr>\n",
       "      <th>3</th>\n",
       "      <td>0.0</td>\n",
       "      <td>0.0016</td>\n",
       "      <td>0.0</td>\n",
       "      <td>0.0</td>\n",
       "      <td>0.0</td>\n",
       "      <td>0.0</td>\n",
       "      <td>0.0</td>\n",
       "      <td>0.0</td>\n",
       "      <td>0.0</td>\n",
       "      <td>0.0</td>\n",
       "      <td>0.0</td>\n",
       "      <td>0.03996</td>\n",
       "      <td>0.0</td>\n",
       "      <td>0.0</td>\n",
       "      <td>0.0</td>\n",
       "      <td>0.0</td>\n",
       "      <td>0.0</td>\n",
       "      <td>0.0</td>\n",
       "      <td>k=2;linkage=single</td>\n",
       "    </tr>\n",
       "    <tr>\n",
       "      <th>10</th>\n",
       "      <td>0.0</td>\n",
       "      <td>0.0</td>\n",
       "      <td>0.0</td>\n",
       "      <td>0.0</td>\n",
       "      <td>0.0</td>\n",
       "      <td>0.0</td>\n",
       "      <td>0.0</td>\n",
       "      <td>0.0</td>\n",
       "      <td>0.0</td>\n",
       "      <td>0.0</td>\n",
       "      <td>0.0</td>\n",
       "      <td>0.0</td>\n",
       "      <td>0.0</td>\n",
       "      <td>0.0</td>\n",
       "      <td>0.0</td>\n",
       "      <td>0.0</td>\n",
       "      <td>0.064362</td>\n",
       "      <td>0.0</td>\n",
       "      <td>k=4;linkage=average</td>\n",
       "    </tr>\n",
       "  </tbody>\n",
       "</table>\n",
       "<p>76 rows × 19 columns</p>\n",
       "</div>"
      ],
      "text/plain": [
       "       PAM50 Intrinsic  PAM50_AB    SCMOD2       IHC  Luminal     Basal  \\\n",
       "20  0.477622  0.461565  0.334065  0.345684  0.322449  0.42049  0.851772   \n",
       "16  0.477622  0.461565  0.334065  0.345684  0.322449  0.42049  0.851772   \n",
       "4    0.43856  0.424067  0.150439  0.163245  0.307481  0.42049  0.851772   \n",
       "12  0.435597  0.421222  0.244479  0.272155  0.314934  0.42049  0.851772   \n",
       "8   0.435465  0.421095  0.245457  0.269576  0.314934  0.42049  0.851772   \n",
       "..       ...       ...       ...       ...       ...      ...       ...   \n",
       "2   0.002356  0.002262  0.002356  0.002202       0.0      0.0  0.013039   \n",
       "5        0.0       0.0       0.0       0.0       0.0      0.0       0.0   \n",
       "1        0.0       0.0       0.0       0.0       0.0      0.0       0.0   \n",
       "3        0.0    0.0016       0.0       0.0       0.0      0.0       0.0   \n",
       "10       0.0       0.0       0.0       0.0       0.0      0.0       0.0   \n",
       "\n",
       "        Her2      LumA      LumB    Normal Claudin-low  IHC_HER2  IHC_ER  \\\n",
       "20  0.319872  0.214842  0.208882  0.058364    0.076547  0.121945  0.4032   \n",
       "16  0.319872  0.214842  0.208882  0.058364    0.076547  0.121945  0.4032   \n",
       "4  -0.046752   0.02839 -0.031864  -0.02139    0.076547 -0.043375  0.4032   \n",
       "12 -0.092976  0.094375  0.208882  0.034693    0.076547  0.038942  0.4032   \n",
       "8  -0.092976  0.097187  0.208882  0.030239    0.076547  0.038942  0.4032   \n",
       "..       ...       ...       ...       ...         ...       ...     ...   \n",
       "2        0.0       0.0       0.0       0.0         0.0       0.0     0.0   \n",
       "5        0.0       0.0       0.0       0.0         0.0       0.0     0.0   \n",
       "1        0.0       0.0       0.0       0.0         0.0       0.0     0.0   \n",
       "3        0.0       0.0       0.0       0.0     0.03996       0.0     0.0   \n",
       "10       0.0       0.0       0.0       0.0         0.0       0.0     0.0   \n",
       "\n",
       "      IHC_PR  IHC_TNBC NET_kmeans  NET_ward            parameters  \n",
       "20  0.245442  0.498923   0.149488  0.114361      k=7;linkage=ward  \n",
       "16  0.245442  0.498923   0.118502  0.082501      k=6;linkage=ward  \n",
       "4   0.245442  0.498923   0.118502  0.082501      k=3;linkage=ward  \n",
       "12  0.245442  0.498923   0.118502  0.082501      k=5;linkage=ward  \n",
       "8   0.245442  0.498923   0.118502  0.082501      k=4;linkage=ward  \n",
       "..       ...       ...        ...       ...                   ...  \n",
       "2        0.0       0.0        0.0       0.0   k=2;linkage=average  \n",
       "5        0.0       0.0        0.0       0.0  k=3;linkage=complete  \n",
       "1        0.0       0.0        0.0       0.0  k=2;linkage=complete  \n",
       "3        0.0       0.0        0.0       0.0    k=2;linkage=single  \n",
       "10       0.0       0.0   0.064362       0.0   k=4;linkage=average  \n",
       "\n",
       "[76 rows x 19 columns]"
      ]
     },
     "execution_count": 45,
     "metadata": {},
     "output_type": "execute_result"
    }
   ],
   "source": [
    "stats = {}\n",
    "i=0\n",
    "\n",
    "method = \"HierarchicalClustering\"\n",
    "if not os.path.exists(basedir+\"/\"+method+\"/\"):\n",
    "    os.mkdir(basedir+\"/\"+method+\"/\")\n",
    "    \n",
    "for k in ks:\n",
    "    for linkage in linkages:\n",
    "        params = \"k=\"+str(k)+\";linkage=\"+str(linkage)\n",
    "        labels =  AgglomerativeClustering(n_clusters=k,\n",
    "                                          compute_full_tree='auto',\n",
    "                                          linkage=linkage).fit_predict(exprs.T)\n",
    "        clusters = labels_to_clsuters(labels,  exprs.columns)\n",
    "        clusters = clusters.loc[clusters[\"n_samples\"]>=5,:]\n",
    "        performances, best_matches = calculate_perfromance(clusters, known_groups,all_samples,\n",
    "                                                           performance_measure = \"ARI\")\n",
    "        stats[i] = performances.to_dict()\n",
    "        print(params,stats[i][\"PAM50\"])\n",
    "        stats[i][\"parameters\"]=params\n",
    "        # saving clusters \n",
    "        clusters[\"samples\"] = clusters[\"samples\"].apply(lambda row: \" \".join(sorted(row)))\n",
    "        clusters = clusters.loc[:,[\"n_samples\",\"samples\"]] \n",
    "        clusters.to_csv(basedir+\"/\"+method+\"/\"+dataset+\".\"+method+\".\"+params+\".seed=\"+str(seed)+\".clusters.tsv\",sep=\"\\t\")\n",
    "        i+=1\n",
    "stats = pd.DataFrame.from_dict(stats).T\n",
    "# saving performances\n",
    "stats.to_csv(basedir +\"/\"+method+\"_\"+dataset+\".tsv\",sep=\"\\t\")\n",
    "stats.sort_values(by = \"PAM50\",ascending=False)"
   ]
  },
  {
   "cell_type": "markdown",
   "id": "quick-study",
   "metadata": {},
   "source": [
    "# k-means"
   ]
  },
  {
   "cell_type": "code",
   "execution_count": 25,
   "id": "cheap-qualification",
   "metadata": {},
   "outputs": [
    {
     "data": {
      "text/plain": [
       "228"
      ]
     },
     "execution_count": 25,
     "metadata": {},
     "output_type": "execute_result"
    }
   ],
   "source": [
    "from sklearn.cluster import KMeans\n",
    "\n",
    "inits = ['k-means++','random']\n",
    "max_iters=[300,1000]\n",
    "tols = [1e-3,1e-4,1e-5]\n",
    "ks = list(range(2,21))\n",
    "len(ks)*len(inits)*len(max_iters)*len(tols)"
   ]
  },
  {
   "cell_type": "code",
   "execution_count": 26,
   "id": "retained-hypothetical",
   "metadata": {
    "scrolled": true
   },
   "outputs": [
    {
     "name": "stdout",
     "output_type": "stream",
     "text": [
      "k=2;max_iter=300;init=k-means++;tol=0.001 670487 0.41123148150788613\n",
      "k=3;max_iter=300;init=k-means++;tol=0.001 670487 0.5256893548969211\n",
      "k=4;max_iter=300;init=k-means++;tol=0.001 670487 0.5028401200817264\n",
      "k=5;max_iter=300;init=k-means++;tol=0.001 670487 0.46767091275851724\n",
      "k=6;max_iter=300;init=k-means++;tol=0.001 670487 0.48780923551486866\n",
      "k=7;max_iter=300;init=k-means++;tol=0.001 670487 0.48920302981942565\n",
      "k=8;max_iter=300;init=k-means++;tol=0.001 670487 0.361304271040795\n",
      "k=9;max_iter=300;init=k-means++;tol=0.001 670487 0.3272839242750194\n",
      "k=10;max_iter=300;init=k-means++;tol=0.001 670487 0.3887857116449982\n",
      "k=11;max_iter=300;init=k-means++;tol=0.001 670487 0.3731945665059493\n",
      "k=12;max_iter=300;init=k-means++;tol=0.001 670487 0.30700351922916835\n",
      "k=13;max_iter=300;init=k-means++;tol=0.001 670487 0.25087223014976895\n",
      "k=14;max_iter=300;init=k-means++;tol=0.001 670487 0.23914210849343026\n",
      "k=15;max_iter=300;init=k-means++;tol=0.001 670487 0.20953987237737032\n",
      "k=16;max_iter=300;init=k-means++;tol=0.001 670487 0.2015322885295008\n",
      "k=17;max_iter=300;init=k-means++;tol=0.001 670487 0.17441076188140137\n",
      "k=18;max_iter=300;init=k-means++;tol=0.001 670487 0.17398974549177076\n",
      "k=19;max_iter=300;init=k-means++;tol=0.001 670487 0.2453465804700442\n",
      "k=20;max_iter=300;init=k-means++;tol=0.001 670487 0.21182566767276859\n",
      "k=2;max_iter=300;init=k-means++;tol=0.0001 670487 0.41123148150788613\n",
      "k=3;max_iter=300;init=k-means++;tol=0.0001 670487 0.5256893548969211\n",
      "k=4;max_iter=300;init=k-means++;tol=0.0001 670487 0.5028401200817264\n",
      "k=5;max_iter=300;init=k-means++;tol=0.0001 670487 0.46767091275851724\n",
      "k=6;max_iter=300;init=k-means++;tol=0.0001 670487 0.48780923551486866\n",
      "k=7;max_iter=300;init=k-means++;tol=0.0001 670487 0.48920302981942565\n",
      "k=8;max_iter=300;init=k-means++;tol=0.0001 670487 0.361304271040795\n",
      "k=9;max_iter=300;init=k-means++;tol=0.0001 670487 0.3272839242750194\n",
      "k=10;max_iter=300;init=k-means++;tol=0.0001 670487 0.3887857116449982\n",
      "k=11;max_iter=300;init=k-means++;tol=0.0001 670487 0.3731945665059493\n",
      "k=12;max_iter=300;init=k-means++;tol=0.0001 670487 0.30700351922916835\n",
      "k=13;max_iter=300;init=k-means++;tol=0.0001 670487 0.25087223014976895\n",
      "k=14;max_iter=300;init=k-means++;tol=0.0001 670487 0.23914210849343026\n",
      "k=15;max_iter=300;init=k-means++;tol=0.0001 670487 0.20953987237737032\n",
      "k=16;max_iter=300;init=k-means++;tol=0.0001 670487 0.2015322885295008\n",
      "k=17;max_iter=300;init=k-means++;tol=0.0001 670487 0.17441076188140137\n",
      "k=18;max_iter=300;init=k-means++;tol=0.0001 670487 0.17398974549177076\n",
      "k=19;max_iter=300;init=k-means++;tol=0.0001 670487 0.2453465804700442\n",
      "k=20;max_iter=300;init=k-means++;tol=0.0001 670487 0.21182566767276859\n",
      "k=2;max_iter=300;init=k-means++;tol=1e-05 670487 0.41123148150788613\n",
      "k=3;max_iter=300;init=k-means++;tol=1e-05 670487 0.5256893548969211\n",
      "k=4;max_iter=300;init=k-means++;tol=1e-05 670487 0.5028401200817264\n",
      "k=5;max_iter=300;init=k-means++;tol=1e-05 670487 0.46767091275851724\n",
      "k=6;max_iter=300;init=k-means++;tol=1e-05 670487 0.48780923551486866\n",
      "k=7;max_iter=300;init=k-means++;tol=1e-05 670487 0.48920302981942565\n",
      "k=8;max_iter=300;init=k-means++;tol=1e-05 670487 0.361304271040795\n",
      "k=9;max_iter=300;init=k-means++;tol=1e-05 670487 0.3272839242750194\n",
      "k=10;max_iter=300;init=k-means++;tol=1e-05 670487 0.3887857116449982\n",
      "k=11;max_iter=300;init=k-means++;tol=1e-05 670487 0.3731945665059493\n",
      "k=12;max_iter=300;init=k-means++;tol=1e-05 670487 0.30700351922916835\n",
      "k=13;max_iter=300;init=k-means++;tol=1e-05 670487 0.25087223014976895\n",
      "k=14;max_iter=300;init=k-means++;tol=1e-05 670487 0.23914210849343026\n",
      "k=15;max_iter=300;init=k-means++;tol=1e-05 670487 0.20953987237737032\n",
      "k=16;max_iter=300;init=k-means++;tol=1e-05 670487 0.2015322885295008\n",
      "k=17;max_iter=300;init=k-means++;tol=1e-05 670487 0.17441076188140137\n",
      "k=18;max_iter=300;init=k-means++;tol=1e-05 670487 0.17398974549177076\n",
      "k=19;max_iter=300;init=k-means++;tol=1e-05 670487 0.2453465804700442\n",
      "k=20;max_iter=300;init=k-means++;tol=1e-05 670487 0.21182566767276859\n",
      "k=2;max_iter=300;init=k-means++;tol=0.001 116739 0.5778080519260934\n",
      "k=3;max_iter=300;init=k-means++;tol=0.001 116739 0.5292529899833144\n",
      "k=4;max_iter=300;init=k-means++;tol=0.001 116739 0.48000795507850125\n",
      "k=5;max_iter=300;init=k-means++;tol=0.001 116739 0.4700988432417838\n",
      "k=6;max_iter=300;init=k-means++;tol=0.001 116739 0.4936838449166714\n",
      "k=7;max_iter=300;init=k-means++;tol=0.001 116739 0.3761000286421021\n",
      "k=8;max_iter=300;init=k-means++;tol=0.001 116739 0.4847721648556925\n",
      "k=9;max_iter=300;init=k-means++;tol=0.001 116739 0.32560684007403334\n",
      "k=10;max_iter=300;init=k-means++;tol=0.001 116739 0.22876905751140936\n",
      "k=11;max_iter=300;init=k-means++;tol=0.001 116739 0.24396222109922017\n",
      "k=12;max_iter=300;init=k-means++;tol=0.001 116739 0.2730502391025734\n",
      "k=13;max_iter=300;init=k-means++;tol=0.001 116739 0.22082795435494929\n",
      "k=14;max_iter=300;init=k-means++;tol=0.001 116739 0.2259140729751815\n",
      "k=15;max_iter=300;init=k-means++;tol=0.001 116739 0.23105683726747392\n",
      "k=16;max_iter=300;init=k-means++;tol=0.001 116739 0.24851497961690155\n",
      "k=17;max_iter=300;init=k-means++;tol=0.001 116739 0.24761159324183374\n",
      "k=18;max_iter=300;init=k-means++;tol=0.001 116739 0.21105299256861232\n",
      "k=19;max_iter=300;init=k-means++;tol=0.001 116739 0.19908613203315784\n",
      "k=20;max_iter=300;init=k-means++;tol=0.001 116739 0.18092559565063826\n",
      "k=2;max_iter=300;init=k-means++;tol=0.0001 116739 0.5778080519260934\n",
      "k=3;max_iter=300;init=k-means++;tol=0.0001 116739 0.5292529899833144\n",
      "k=4;max_iter=300;init=k-means++;tol=0.0001 116739 0.48000795507850125\n",
      "k=5;max_iter=300;init=k-means++;tol=0.0001 116739 0.4700988432417838\n",
      "k=6;max_iter=300;init=k-means++;tol=0.0001 116739 0.4936838449166714\n",
      "k=7;max_iter=300;init=k-means++;tol=0.0001 116739 0.3761000286421021\n",
      "k=8;max_iter=300;init=k-means++;tol=0.0001 116739 0.4847721648556925\n",
      "k=9;max_iter=300;init=k-means++;tol=0.0001 116739 0.32560684007403334\n",
      "k=10;max_iter=300;init=k-means++;tol=0.0001 116739 0.22876905751140936\n",
      "k=11;max_iter=300;init=k-means++;tol=0.0001 116739 0.24396222109922017\n",
      "k=12;max_iter=300;init=k-means++;tol=0.0001 116739 0.2730502391025734\n",
      "k=13;max_iter=300;init=k-means++;tol=0.0001 116739 0.22082795435494929\n",
      "k=14;max_iter=300;init=k-means++;tol=0.0001 116739 0.2259140729751815\n",
      "k=15;max_iter=300;init=k-means++;tol=0.0001 116739 0.23105683726747392\n",
      "k=16;max_iter=300;init=k-means++;tol=0.0001 116739 0.24851497961690155\n",
      "k=17;max_iter=300;init=k-means++;tol=0.0001 116739 0.24761159324183374\n",
      "k=18;max_iter=300;init=k-means++;tol=0.0001 116739 0.21105299256861232\n",
      "k=19;max_iter=300;init=k-means++;tol=0.0001 116739 0.19908613203315784\n",
      "k=20;max_iter=300;init=k-means++;tol=0.0001 116739 0.18092559565063826\n",
      "k=2;max_iter=300;init=k-means++;tol=1e-05 116739 0.5778080519260934\n",
      "k=3;max_iter=300;init=k-means++;tol=1e-05 116739 0.5292529899833144\n",
      "k=4;max_iter=300;init=k-means++;tol=1e-05 116739 0.48000795507850125\n",
      "k=5;max_iter=300;init=k-means++;tol=1e-05 116739 0.4700988432417838\n",
      "k=6;max_iter=300;init=k-means++;tol=1e-05 116739 0.4936838449166714\n",
      "k=7;max_iter=300;init=k-means++;tol=1e-05 116739 0.3761000286421021\n",
      "k=8;max_iter=300;init=k-means++;tol=1e-05 116739 0.4847721648556925\n",
      "k=9;max_iter=300;init=k-means++;tol=1e-05 116739 0.32560684007403334\n",
      "k=10;max_iter=300;init=k-means++;tol=1e-05 116739 0.22876905751140936\n",
      "k=11;max_iter=300;init=k-means++;tol=1e-05 116739 0.24396222109922017\n",
      "k=12;max_iter=300;init=k-means++;tol=1e-05 116739 0.2730502391025734\n",
      "k=13;max_iter=300;init=k-means++;tol=1e-05 116739 0.22082795435494929\n",
      "k=14;max_iter=300;init=k-means++;tol=1e-05 116739 0.2259140729751815\n",
      "k=15;max_iter=300;init=k-means++;tol=1e-05 116739 0.23105683726747392\n",
      "k=16;max_iter=300;init=k-means++;tol=1e-05 116739 0.24851497961690155\n",
      "k=17;max_iter=300;init=k-means++;tol=1e-05 116739 0.24761159324183374\n",
      "k=18;max_iter=300;init=k-means++;tol=1e-05 116739 0.21105299256861232\n",
      "k=19;max_iter=300;init=k-means++;tol=1e-05 116739 0.19908613203315784\n",
      "k=20;max_iter=300;init=k-means++;tol=1e-05 116739 0.18092559565063826\n",
      "k=2;max_iter=300;init=k-means++;tol=0.001 26225 0.4231466434101364\n",
      "k=3;max_iter=300;init=k-means++;tol=0.001 26225 0.5007088925953518\n",
      "k=4;max_iter=300;init=k-means++;tol=0.001 26225 0.4872136706915132\n",
      "k=5;max_iter=300;init=k-means++;tol=0.001 26225 0.5003072078865929\n",
      "k=6;max_iter=300;init=k-means++;tol=0.001 26225 0.46471728285401515\n"
     ]
    },
    {
     "name": "stdout",
     "output_type": "stream",
     "text": [
      "k=7;max_iter=300;init=k-means++;tol=0.001 26225 0.4990205998158106\n",
      "k=8;max_iter=300;init=k-means++;tol=0.001 26225 0.36363255119092136\n",
      "k=9;max_iter=300;init=k-means++;tol=0.001 26225 0.3131158605380072\n",
      "k=10;max_iter=300;init=k-means++;tol=0.001 26225 0.3816232918046123\n",
      "k=11;max_iter=300;init=k-means++;tol=0.001 26225 0.2954130809836477\n",
      "k=12;max_iter=300;init=k-means++;tol=0.001 26225 0.2795676359693252\n",
      "k=13;max_iter=300;init=k-means++;tol=0.001 26225 0.25569122629571395\n",
      "k=14;max_iter=300;init=k-means++;tol=0.001 26225 0.22700954070153517\n",
      "k=15;max_iter=300;init=k-means++;tol=0.001 26225 0.23521311970028225\n",
      "k=16;max_iter=300;init=k-means++;tol=0.001 26225 0.16322574395899903\n",
      "k=17;max_iter=300;init=k-means++;tol=0.001 26225 0.21887737364155574\n",
      "k=18;max_iter=300;init=k-means++;tol=0.001 26225 0.21242983709321847\n",
      "k=19;max_iter=300;init=k-means++;tol=0.001 26225 0.2566226635762301\n",
      "k=20;max_iter=300;init=k-means++;tol=0.001 26225 0.17479639968210547\n",
      "k=2;max_iter=300;init=k-means++;tol=0.0001 26225 0.4231466434101364\n",
      "k=3;max_iter=300;init=k-means++;tol=0.0001 26225 0.5007088925953518\n",
      "k=4;max_iter=300;init=k-means++;tol=0.0001 26225 0.4872136706915132\n",
      "k=5;max_iter=300;init=k-means++;tol=0.0001 26225 0.5003072078865929\n",
      "k=6;max_iter=300;init=k-means++;tol=0.0001 26225 0.46471728285401515\n",
      "k=7;max_iter=300;init=k-means++;tol=0.0001 26225 0.4990205998158106\n",
      "k=8;max_iter=300;init=k-means++;tol=0.0001 26225 0.36363255119092136\n",
      "k=9;max_iter=300;init=k-means++;tol=0.0001 26225 0.3131158605380072\n",
      "k=10;max_iter=300;init=k-means++;tol=0.0001 26225 0.3816232918046123\n",
      "k=11;max_iter=300;init=k-means++;tol=0.0001 26225 0.2954130809836477\n",
      "k=12;max_iter=300;init=k-means++;tol=0.0001 26225 0.2795676359693252\n",
      "k=13;max_iter=300;init=k-means++;tol=0.0001 26225 0.25569122629571395\n",
      "k=14;max_iter=300;init=k-means++;tol=0.0001 26225 0.22700954070153517\n",
      "k=15;max_iter=300;init=k-means++;tol=0.0001 26225 0.23521311970028225\n",
      "k=16;max_iter=300;init=k-means++;tol=0.0001 26225 0.16322574395899903\n",
      "k=17;max_iter=300;init=k-means++;tol=0.0001 26225 0.21887737364155574\n",
      "k=18;max_iter=300;init=k-means++;tol=0.0001 26225 0.21242983709321847\n",
      "k=19;max_iter=300;init=k-means++;tol=0.0001 26225 0.2566226635762301\n",
      "k=20;max_iter=300;init=k-means++;tol=0.0001 26225 0.17479639968210547\n",
      "k=2;max_iter=300;init=k-means++;tol=1e-05 26225 0.4231466434101364\n",
      "k=3;max_iter=300;init=k-means++;tol=1e-05 26225 0.5007088925953518\n",
      "k=4;max_iter=300;init=k-means++;tol=1e-05 26225 0.4872136706915132\n",
      "k=5;max_iter=300;init=k-means++;tol=1e-05 26225 0.5003072078865929\n",
      "k=6;max_iter=300;init=k-means++;tol=1e-05 26225 0.46471728285401515\n",
      "k=7;max_iter=300;init=k-means++;tol=1e-05 26225 0.4990205998158106\n",
      "k=8;max_iter=300;init=k-means++;tol=1e-05 26225 0.36363255119092136\n",
      "k=9;max_iter=300;init=k-means++;tol=1e-05 26225 0.3131158605380072\n",
      "k=10;max_iter=300;init=k-means++;tol=1e-05 26225 0.3816232918046123\n",
      "k=11;max_iter=300;init=k-means++;tol=1e-05 26225 0.2954130809836477\n",
      "k=12;max_iter=300;init=k-means++;tol=1e-05 26225 0.2795676359693252\n",
      "k=13;max_iter=300;init=k-means++;tol=1e-05 26225 0.25569122629571395\n",
      "k=14;max_iter=300;init=k-means++;tol=1e-05 26225 0.22700954070153517\n",
      "k=15;max_iter=300;init=k-means++;tol=1e-05 26225 0.23521311970028225\n",
      "k=16;max_iter=300;init=k-means++;tol=1e-05 26225 0.16322574395899903\n",
      "k=17;max_iter=300;init=k-means++;tol=1e-05 26225 0.21887737364155574\n",
      "k=18;max_iter=300;init=k-means++;tol=1e-05 26225 0.21242983709321847\n",
      "k=19;max_iter=300;init=k-means++;tol=1e-05 26225 0.2566226635762301\n",
      "k=20;max_iter=300;init=k-means++;tol=1e-05 26225 0.17479639968210547\n",
      "k=2;max_iter=300;init=k-means++;tol=0.001 777572 0.41631732537741156\n",
      "k=3;max_iter=300;init=k-means++;tol=0.001 777572 0.5116550905596369\n",
      "k=4;max_iter=300;init=k-means++;tol=0.001 777572 0.47726334822138305\n",
      "k=5;max_iter=300;init=k-means++;tol=0.001 777572 0.48631849203017186\n",
      "k=6;max_iter=300;init=k-means++;tol=0.001 777572 0.4824733828829334\n",
      "k=7;max_iter=300;init=k-means++;tol=0.001 777572 0.4942736166798346\n",
      "k=8;max_iter=300;init=k-means++;tol=0.001 777572 0.36190871220290166\n",
      "k=9;max_iter=300;init=k-means++;tol=0.001 777572 0.2995750749685797\n",
      "k=10;max_iter=300;init=k-means++;tol=0.001 777572 0.3870011672774454\n",
      "k=11;max_iter=300;init=k-means++;tol=0.001 777572 0.3846072954662195\n",
      "k=12;max_iter=300;init=k-means++;tol=0.001 777572 0.3104585226609029\n",
      "k=13;max_iter=300;init=k-means++;tol=0.001 777572 0.24416438244324992\n",
      "k=14;max_iter=300;init=k-means++;tol=0.001 777572 0.1876997787481284\n",
      "k=15;max_iter=300;init=k-means++;tol=0.001 777572 0.23036154487064223\n",
      "k=16;max_iter=300;init=k-means++;tol=0.001 777572 0.23222512532470807\n",
      "k=17;max_iter=300;init=k-means++;tol=0.001 777572 0.27150049145638944\n",
      "k=18;max_iter=300;init=k-means++;tol=0.001 777572 0.19981279221391784\n",
      "k=19;max_iter=300;init=k-means++;tol=0.001 777572 0.23511845619072086\n",
      "k=20;max_iter=300;init=k-means++;tol=0.001 777572 0.18545139268816396\n",
      "k=2;max_iter=300;init=k-means++;tol=0.0001 777572 0.41631732537741156\n",
      "k=3;max_iter=300;init=k-means++;tol=0.0001 777572 0.5116550905596369\n",
      "k=4;max_iter=300;init=k-means++;tol=0.0001 777572 0.47726334822138305\n",
      "k=5;max_iter=300;init=k-means++;tol=0.0001 777572 0.48631849203017186\n",
      "k=6;max_iter=300;init=k-means++;tol=0.0001 777572 0.4824733828829334\n",
      "k=7;max_iter=300;init=k-means++;tol=0.0001 777572 0.4942736166798346\n",
      "k=8;max_iter=300;init=k-means++;tol=0.0001 777572 0.36190871220290166\n",
      "k=9;max_iter=300;init=k-means++;tol=0.0001 777572 0.2995750749685797\n",
      "k=10;max_iter=300;init=k-means++;tol=0.0001 777572 0.3870011672774454\n",
      "k=11;max_iter=300;init=k-means++;tol=0.0001 777572 0.3846072954662195\n",
      "k=12;max_iter=300;init=k-means++;tol=0.0001 777572 0.3104585226609029\n",
      "k=13;max_iter=300;init=k-means++;tol=0.0001 777572 0.24416438244324992\n",
      "k=14;max_iter=300;init=k-means++;tol=0.0001 777572 0.1876997787481284\n",
      "k=15;max_iter=300;init=k-means++;tol=0.0001 777572 0.23036154487064223\n",
      "k=16;max_iter=300;init=k-means++;tol=0.0001 777572 0.23222512532470807\n",
      "k=17;max_iter=300;init=k-means++;tol=0.0001 777572 0.27150049145638944\n",
      "k=18;max_iter=300;init=k-means++;tol=0.0001 777572 0.19981279221391784\n",
      "k=19;max_iter=300;init=k-means++;tol=0.0001 777572 0.23511845619072086\n",
      "k=20;max_iter=300;init=k-means++;tol=0.0001 777572 0.18545139268816396\n",
      "k=2;max_iter=300;init=k-means++;tol=1e-05 777572 0.41631732537741156\n",
      "k=3;max_iter=300;init=k-means++;tol=1e-05 777572 0.5116550905596369\n",
      "k=4;max_iter=300;init=k-means++;tol=1e-05 777572 0.47726334822138305\n",
      "k=5;max_iter=300;init=k-means++;tol=1e-05 777572 0.48631849203017186\n",
      "k=6;max_iter=300;init=k-means++;tol=1e-05 777572 0.4824733828829334\n",
      "k=7;max_iter=300;init=k-means++;tol=1e-05 777572 0.4942736166798346\n",
      "k=8;max_iter=300;init=k-means++;tol=1e-05 777572 0.36190871220290166\n",
      "k=9;max_iter=300;init=k-means++;tol=1e-05 777572 0.2995750749685797\n",
      "k=10;max_iter=300;init=k-means++;tol=1e-05 777572 0.3870011672774454\n",
      "k=11;max_iter=300;init=k-means++;tol=1e-05 777572 0.3846072954662195\n",
      "k=12;max_iter=300;init=k-means++;tol=1e-05 777572 0.3104585226609029\n",
      "k=13;max_iter=300;init=k-means++;tol=1e-05 777572 0.24416438244324992\n",
      "k=14;max_iter=300;init=k-means++;tol=1e-05 777572 0.1876997787481284\n",
      "k=15;max_iter=300;init=k-means++;tol=1e-05 777572 0.23036154487064223\n",
      "k=16;max_iter=300;init=k-means++;tol=1e-05 777572 0.23222512532470807\n",
      "k=17;max_iter=300;init=k-means++;tol=1e-05 777572 0.27150049145638944\n",
      "k=18;max_iter=300;init=k-means++;tol=1e-05 777572 0.19981279221391784\n",
      "k=19;max_iter=300;init=k-means++;tol=1e-05 777572 0.23511845619072086\n",
      "k=20;max_iter=300;init=k-means++;tol=1e-05 777572 0.18545139268816396\n",
      "k=2;max_iter=300;init=k-means++;tol=0.001 288389 0.4231466434101364\n",
      "k=3;max_iter=300;init=k-means++;tol=0.001 288389 0.5254176670027062\n",
      "k=4;max_iter=300;init=k-means++;tol=0.001 288389 0.47694135325648757\n",
      "k=5;max_iter=300;init=k-means++;tol=0.001 288389 0.46767091275851724\n",
      "k=6;max_iter=300;init=k-means++;tol=0.001 288389 0.4770923868119825\n",
      "k=7;max_iter=300;init=k-means++;tol=0.001 288389 0.4836706805555041\n",
      "k=8;max_iter=300;init=k-means++;tol=0.001 288389 0.3796275030772811\n",
      "k=9;max_iter=300;init=k-means++;tol=0.001 288389 0.3228257309905457\n",
      "k=10;max_iter=300;init=k-means++;tol=0.001 288389 0.228015391761756\n",
      "k=11;max_iter=300;init=k-means++;tol=0.001 288389 0.35563699391475967\n"
     ]
    },
    {
     "name": "stdout",
     "output_type": "stream",
     "text": [
      "k=12;max_iter=300;init=k-means++;tol=0.001 288389 0.23843939084863064\n",
      "k=13;max_iter=300;init=k-means++;tol=0.001 288389 0.277859854487182\n",
      "k=14;max_iter=300;init=k-means++;tol=0.001 288389 0.22718988990047273\n",
      "k=15;max_iter=300;init=k-means++;tol=0.001 288389 0.23067423397302672\n",
      "k=16;max_iter=300;init=k-means++;tol=0.001 288389 0.20991816218098186\n",
      "k=17;max_iter=300;init=k-means++;tol=0.001 288389 0.3215455254717931\n",
      "k=18;max_iter=300;init=k-means++;tol=0.001 288389 0.20618155416118863\n",
      "k=19;max_iter=300;init=k-means++;tol=0.001 288389 0.2571931666119668\n",
      "k=20;max_iter=300;init=k-means++;tol=0.001 288389 0.20414901093470023\n",
      "k=2;max_iter=300;init=k-means++;tol=0.0001 288389 0.4231466434101364\n",
      "k=3;max_iter=300;init=k-means++;tol=0.0001 288389 0.5254176670027062\n",
      "k=4;max_iter=300;init=k-means++;tol=0.0001 288389 0.47694135325648757\n",
      "k=5;max_iter=300;init=k-means++;tol=0.0001 288389 0.46767091275851724\n",
      "k=6;max_iter=300;init=k-means++;tol=0.0001 288389 0.4770923868119825\n",
      "k=7;max_iter=300;init=k-means++;tol=0.0001 288389 0.4836706805555041\n",
      "k=8;max_iter=300;init=k-means++;tol=0.0001 288389 0.3796275030772811\n",
      "k=9;max_iter=300;init=k-means++;tol=0.0001 288389 0.3228257309905457\n",
      "k=10;max_iter=300;init=k-means++;tol=0.0001 288389 0.228015391761756\n",
      "k=11;max_iter=300;init=k-means++;tol=0.0001 288389 0.35563699391475967\n",
      "k=12;max_iter=300;init=k-means++;tol=0.0001 288389 0.23843939084863064\n",
      "k=13;max_iter=300;init=k-means++;tol=0.0001 288389 0.277859854487182\n",
      "k=14;max_iter=300;init=k-means++;tol=0.0001 288389 0.22718988990047273\n",
      "k=15;max_iter=300;init=k-means++;tol=0.0001 288389 0.23067423397302672\n",
      "k=16;max_iter=300;init=k-means++;tol=0.0001 288389 0.20991816218098186\n",
      "k=17;max_iter=300;init=k-means++;tol=0.0001 288389 0.3215455254717931\n",
      "k=18;max_iter=300;init=k-means++;tol=0.0001 288389 0.20618155416118863\n",
      "k=19;max_iter=300;init=k-means++;tol=0.0001 288389 0.2571931666119668\n",
      "k=20;max_iter=300;init=k-means++;tol=0.0001 288389 0.20414901093470023\n",
      "k=2;max_iter=300;init=k-means++;tol=1e-05 288389 0.4231466434101364\n",
      "k=3;max_iter=300;init=k-means++;tol=1e-05 288389 0.5254176670027062\n",
      "k=4;max_iter=300;init=k-means++;tol=1e-05 288389 0.47694135325648757\n",
      "k=5;max_iter=300;init=k-means++;tol=1e-05 288389 0.46767091275851724\n",
      "k=6;max_iter=300;init=k-means++;tol=1e-05 288389 0.4770923868119825\n",
      "k=7;max_iter=300;init=k-means++;tol=1e-05 288389 0.4836706805555041\n",
      "k=8;max_iter=300;init=k-means++;tol=1e-05 288389 0.3796275030772811\n",
      "k=9;max_iter=300;init=k-means++;tol=1e-05 288389 0.3228257309905457\n",
      "k=10;max_iter=300;init=k-means++;tol=1e-05 288389 0.228015391761756\n",
      "k=11;max_iter=300;init=k-means++;tol=1e-05 288389 0.35563699391475967\n",
      "k=12;max_iter=300;init=k-means++;tol=1e-05 288389 0.23843939084863064\n",
      "k=13;max_iter=300;init=k-means++;tol=1e-05 288389 0.277859854487182\n",
      "k=14;max_iter=300;init=k-means++;tol=1e-05 288389 0.22718988990047273\n",
      "k=15;max_iter=300;init=k-means++;tol=1e-05 288389 0.23067423397302672\n",
      "k=16;max_iter=300;init=k-means++;tol=1e-05 288389 0.20991816218098186\n",
      "k=17;max_iter=300;init=k-means++;tol=1e-05 288389 0.3215455254717931\n",
      "k=18;max_iter=300;init=k-means++;tol=1e-05 288389 0.20618155416118863\n",
      "k=19;max_iter=300;init=k-means++;tol=1e-05 288389 0.2571931666119668\n",
      "k=20;max_iter=300;init=k-means++;tol=1e-05 288389 0.20414901093470023\n",
      "k=2;max_iter=1000;init=k-means++;tol=0.001 670487 0.41123148150788613\n",
      "k=3;max_iter=1000;init=k-means++;tol=0.001 670487 0.5256893548969211\n",
      "k=4;max_iter=1000;init=k-means++;tol=0.001 670487 0.5028401200817264\n",
      "k=5;max_iter=1000;init=k-means++;tol=0.001 670487 0.46767091275851724\n",
      "k=6;max_iter=1000;init=k-means++;tol=0.001 670487 0.48780923551486866\n",
      "k=7;max_iter=1000;init=k-means++;tol=0.001 670487 0.48920302981942565\n",
      "k=8;max_iter=1000;init=k-means++;tol=0.001 670487 0.361304271040795\n",
      "k=9;max_iter=1000;init=k-means++;tol=0.001 670487 0.3272839242750194\n",
      "k=10;max_iter=1000;init=k-means++;tol=0.001 670487 0.3887857116449982\n",
      "k=11;max_iter=1000;init=k-means++;tol=0.001 670487 0.3731945665059493\n",
      "k=12;max_iter=1000;init=k-means++;tol=0.001 670487 0.30700351922916835\n",
      "k=13;max_iter=1000;init=k-means++;tol=0.001 670487 0.25087223014976895\n",
      "k=14;max_iter=1000;init=k-means++;tol=0.001 670487 0.23914210849343026\n",
      "k=15;max_iter=1000;init=k-means++;tol=0.001 670487 0.20953987237737032\n",
      "k=16;max_iter=1000;init=k-means++;tol=0.001 670487 0.2015322885295008\n",
      "k=17;max_iter=1000;init=k-means++;tol=0.001 670487 0.17441076188140137\n",
      "k=18;max_iter=1000;init=k-means++;tol=0.001 670487 0.17398974549177076\n",
      "k=19;max_iter=1000;init=k-means++;tol=0.001 670487 0.2453465804700442\n",
      "k=20;max_iter=1000;init=k-means++;tol=0.001 670487 0.21182566767276859\n",
      "k=2;max_iter=1000;init=k-means++;tol=0.0001 670487 0.41123148150788613\n",
      "k=3;max_iter=1000;init=k-means++;tol=0.0001 670487 0.5256893548969211\n",
      "k=4;max_iter=1000;init=k-means++;tol=0.0001 670487 0.5028401200817264\n",
      "k=5;max_iter=1000;init=k-means++;tol=0.0001 670487 0.46767091275851724\n",
      "k=6;max_iter=1000;init=k-means++;tol=0.0001 670487 0.48780923551486866\n",
      "k=7;max_iter=1000;init=k-means++;tol=0.0001 670487 0.48920302981942565\n",
      "k=8;max_iter=1000;init=k-means++;tol=0.0001 670487 0.361304271040795\n",
      "k=9;max_iter=1000;init=k-means++;tol=0.0001 670487 0.3272839242750194\n",
      "k=10;max_iter=1000;init=k-means++;tol=0.0001 670487 0.3887857116449982\n",
      "k=11;max_iter=1000;init=k-means++;tol=0.0001 670487 0.3731945665059493\n",
      "k=12;max_iter=1000;init=k-means++;tol=0.0001 670487 0.30700351922916835\n",
      "k=13;max_iter=1000;init=k-means++;tol=0.0001 670487 0.25087223014976895\n",
      "k=14;max_iter=1000;init=k-means++;tol=0.0001 670487 0.23914210849343026\n",
      "k=15;max_iter=1000;init=k-means++;tol=0.0001 670487 0.20953987237737032\n",
      "k=16;max_iter=1000;init=k-means++;tol=0.0001 670487 0.2015322885295008\n",
      "k=17;max_iter=1000;init=k-means++;tol=0.0001 670487 0.17441076188140137\n",
      "k=18;max_iter=1000;init=k-means++;tol=0.0001 670487 0.17398974549177076\n",
      "k=19;max_iter=1000;init=k-means++;tol=0.0001 670487 0.2453465804700442\n",
      "k=20;max_iter=1000;init=k-means++;tol=0.0001 670487 0.21182566767276859\n",
      "k=2;max_iter=1000;init=k-means++;tol=1e-05 670487 0.41123148150788613\n",
      "k=3;max_iter=1000;init=k-means++;tol=1e-05 670487 0.5256893548969211\n",
      "k=4;max_iter=1000;init=k-means++;tol=1e-05 670487 0.5028401200817264\n",
      "k=5;max_iter=1000;init=k-means++;tol=1e-05 670487 0.46767091275851724\n",
      "k=6;max_iter=1000;init=k-means++;tol=1e-05 670487 0.48780923551486866\n",
      "k=7;max_iter=1000;init=k-means++;tol=1e-05 670487 0.48920302981942565\n",
      "k=8;max_iter=1000;init=k-means++;tol=1e-05 670487 0.361304271040795\n",
      "k=9;max_iter=1000;init=k-means++;tol=1e-05 670487 0.3272839242750194\n",
      "k=10;max_iter=1000;init=k-means++;tol=1e-05 670487 0.3887857116449982\n",
      "k=11;max_iter=1000;init=k-means++;tol=1e-05 670487 0.3731945665059493\n",
      "k=12;max_iter=1000;init=k-means++;tol=1e-05 670487 0.30700351922916835\n",
      "k=13;max_iter=1000;init=k-means++;tol=1e-05 670487 0.25087223014976895\n",
      "k=14;max_iter=1000;init=k-means++;tol=1e-05 670487 0.23914210849343026\n",
      "k=15;max_iter=1000;init=k-means++;tol=1e-05 670487 0.20953987237737032\n",
      "k=16;max_iter=1000;init=k-means++;tol=1e-05 670487 0.2015322885295008\n",
      "k=17;max_iter=1000;init=k-means++;tol=1e-05 670487 0.17441076188140137\n",
      "k=18;max_iter=1000;init=k-means++;tol=1e-05 670487 0.17398974549177076\n",
      "k=19;max_iter=1000;init=k-means++;tol=1e-05 670487 0.2453465804700442\n",
      "k=20;max_iter=1000;init=k-means++;tol=1e-05 670487 0.21182566767276859\n",
      "k=2;max_iter=1000;init=k-means++;tol=0.001 116739 0.5778080519260934\n",
      "k=3;max_iter=1000;init=k-means++;tol=0.001 116739 0.5292529899833144\n",
      "k=4;max_iter=1000;init=k-means++;tol=0.001 116739 0.48000795507850125\n",
      "k=5;max_iter=1000;init=k-means++;tol=0.001 116739 0.4700988432417838\n",
      "k=6;max_iter=1000;init=k-means++;tol=0.001 116739 0.4936838449166714\n",
      "k=7;max_iter=1000;init=k-means++;tol=0.001 116739 0.3761000286421021\n",
      "k=8;max_iter=1000;init=k-means++;tol=0.001 116739 0.4847721648556925\n",
      "k=9;max_iter=1000;init=k-means++;tol=0.001 116739 0.32560684007403334\n",
      "k=10;max_iter=1000;init=k-means++;tol=0.001 116739 0.22876905751140936\n",
      "k=11;max_iter=1000;init=k-means++;tol=0.001 116739 0.24396222109922017\n",
      "k=12;max_iter=1000;init=k-means++;tol=0.001 116739 0.2730502391025734\n",
      "k=13;max_iter=1000;init=k-means++;tol=0.001 116739 0.22082795435494929\n",
      "k=14;max_iter=1000;init=k-means++;tol=0.001 116739 0.2259140729751815\n",
      "k=15;max_iter=1000;init=k-means++;tol=0.001 116739 0.23105683726747392\n"
     ]
    },
    {
     "name": "stdout",
     "output_type": "stream",
     "text": [
      "k=16;max_iter=1000;init=k-means++;tol=0.001 116739 0.24851497961690155\n",
      "k=17;max_iter=1000;init=k-means++;tol=0.001 116739 0.24761159324183374\n",
      "k=18;max_iter=1000;init=k-means++;tol=0.001 116739 0.21105299256861232\n",
      "k=19;max_iter=1000;init=k-means++;tol=0.001 116739 0.19908613203315784\n",
      "k=20;max_iter=1000;init=k-means++;tol=0.001 116739 0.18092559565063826\n",
      "k=2;max_iter=1000;init=k-means++;tol=0.0001 116739 0.5778080519260934\n",
      "k=3;max_iter=1000;init=k-means++;tol=0.0001 116739 0.5292529899833144\n",
      "k=4;max_iter=1000;init=k-means++;tol=0.0001 116739 0.48000795507850125\n",
      "k=5;max_iter=1000;init=k-means++;tol=0.0001 116739 0.4700988432417838\n",
      "k=6;max_iter=1000;init=k-means++;tol=0.0001 116739 0.4936838449166714\n",
      "k=7;max_iter=1000;init=k-means++;tol=0.0001 116739 0.3761000286421021\n",
      "k=8;max_iter=1000;init=k-means++;tol=0.0001 116739 0.4847721648556925\n",
      "k=9;max_iter=1000;init=k-means++;tol=0.0001 116739 0.32560684007403334\n",
      "k=10;max_iter=1000;init=k-means++;tol=0.0001 116739 0.22876905751140936\n",
      "k=11;max_iter=1000;init=k-means++;tol=0.0001 116739 0.24396222109922017\n",
      "k=12;max_iter=1000;init=k-means++;tol=0.0001 116739 0.2730502391025734\n",
      "k=13;max_iter=1000;init=k-means++;tol=0.0001 116739 0.22082795435494929\n",
      "k=14;max_iter=1000;init=k-means++;tol=0.0001 116739 0.2259140729751815\n",
      "k=15;max_iter=1000;init=k-means++;tol=0.0001 116739 0.23105683726747392\n",
      "k=16;max_iter=1000;init=k-means++;tol=0.0001 116739 0.24851497961690155\n",
      "k=17;max_iter=1000;init=k-means++;tol=0.0001 116739 0.24761159324183374\n",
      "k=18;max_iter=1000;init=k-means++;tol=0.0001 116739 0.21105299256861232\n",
      "k=19;max_iter=1000;init=k-means++;tol=0.0001 116739 0.19908613203315784\n",
      "k=20;max_iter=1000;init=k-means++;tol=0.0001 116739 0.18092559565063826\n",
      "k=2;max_iter=1000;init=k-means++;tol=1e-05 116739 0.5778080519260934\n",
      "k=3;max_iter=1000;init=k-means++;tol=1e-05 116739 0.5292529899833144\n",
      "k=4;max_iter=1000;init=k-means++;tol=1e-05 116739 0.48000795507850125\n",
      "k=5;max_iter=1000;init=k-means++;tol=1e-05 116739 0.4700988432417838\n",
      "k=6;max_iter=1000;init=k-means++;tol=1e-05 116739 0.4936838449166714\n",
      "k=7;max_iter=1000;init=k-means++;tol=1e-05 116739 0.3761000286421021\n",
      "k=8;max_iter=1000;init=k-means++;tol=1e-05 116739 0.4847721648556925\n",
      "k=9;max_iter=1000;init=k-means++;tol=1e-05 116739 0.32560684007403334\n",
      "k=10;max_iter=1000;init=k-means++;tol=1e-05 116739 0.22876905751140936\n",
      "k=11;max_iter=1000;init=k-means++;tol=1e-05 116739 0.24396222109922017\n",
      "k=12;max_iter=1000;init=k-means++;tol=1e-05 116739 0.2730502391025734\n",
      "k=13;max_iter=1000;init=k-means++;tol=1e-05 116739 0.22082795435494929\n",
      "k=14;max_iter=1000;init=k-means++;tol=1e-05 116739 0.2259140729751815\n",
      "k=15;max_iter=1000;init=k-means++;tol=1e-05 116739 0.23105683726747392\n",
      "k=16;max_iter=1000;init=k-means++;tol=1e-05 116739 0.24851497961690155\n",
      "k=17;max_iter=1000;init=k-means++;tol=1e-05 116739 0.24761159324183374\n",
      "k=18;max_iter=1000;init=k-means++;tol=1e-05 116739 0.21105299256861232\n",
      "k=19;max_iter=1000;init=k-means++;tol=1e-05 116739 0.19908613203315784\n",
      "k=20;max_iter=1000;init=k-means++;tol=1e-05 116739 0.18092559565063826\n",
      "k=2;max_iter=1000;init=k-means++;tol=0.001 26225 0.4231466434101364\n",
      "k=3;max_iter=1000;init=k-means++;tol=0.001 26225 0.5007088925953518\n",
      "k=4;max_iter=1000;init=k-means++;tol=0.001 26225 0.4872136706915132\n",
      "k=5;max_iter=1000;init=k-means++;tol=0.001 26225 0.5003072078865929\n",
      "k=6;max_iter=1000;init=k-means++;tol=0.001 26225 0.46471728285401515\n",
      "k=7;max_iter=1000;init=k-means++;tol=0.001 26225 0.4990205998158106\n",
      "k=8;max_iter=1000;init=k-means++;tol=0.001 26225 0.36363255119092136\n",
      "k=9;max_iter=1000;init=k-means++;tol=0.001 26225 0.3131158605380072\n",
      "k=10;max_iter=1000;init=k-means++;tol=0.001 26225 0.3816232918046123\n",
      "k=11;max_iter=1000;init=k-means++;tol=0.001 26225 0.2954130809836477\n",
      "k=12;max_iter=1000;init=k-means++;tol=0.001 26225 0.2795676359693252\n",
      "k=13;max_iter=1000;init=k-means++;tol=0.001 26225 0.25569122629571395\n",
      "k=14;max_iter=1000;init=k-means++;tol=0.001 26225 0.22700954070153517\n",
      "k=15;max_iter=1000;init=k-means++;tol=0.001 26225 0.23521311970028225\n",
      "k=16;max_iter=1000;init=k-means++;tol=0.001 26225 0.16322574395899903\n",
      "k=17;max_iter=1000;init=k-means++;tol=0.001 26225 0.21887737364155574\n",
      "k=18;max_iter=1000;init=k-means++;tol=0.001 26225 0.21242983709321847\n",
      "k=19;max_iter=1000;init=k-means++;tol=0.001 26225 0.2566226635762301\n",
      "k=20;max_iter=1000;init=k-means++;tol=0.001 26225 0.17479639968210547\n",
      "k=2;max_iter=1000;init=k-means++;tol=0.0001 26225 0.4231466434101364\n",
      "k=3;max_iter=1000;init=k-means++;tol=0.0001 26225 0.5007088925953518\n",
      "k=4;max_iter=1000;init=k-means++;tol=0.0001 26225 0.4872136706915132\n",
      "k=5;max_iter=1000;init=k-means++;tol=0.0001 26225 0.5003072078865929\n",
      "k=6;max_iter=1000;init=k-means++;tol=0.0001 26225 0.46471728285401515\n",
      "k=7;max_iter=1000;init=k-means++;tol=0.0001 26225 0.4990205998158106\n",
      "k=8;max_iter=1000;init=k-means++;tol=0.0001 26225 0.36363255119092136\n",
      "k=9;max_iter=1000;init=k-means++;tol=0.0001 26225 0.3131158605380072\n",
      "k=10;max_iter=1000;init=k-means++;tol=0.0001 26225 0.3816232918046123\n",
      "k=11;max_iter=1000;init=k-means++;tol=0.0001 26225 0.2954130809836477\n",
      "k=12;max_iter=1000;init=k-means++;tol=0.0001 26225 0.2795676359693252\n",
      "k=13;max_iter=1000;init=k-means++;tol=0.0001 26225 0.25569122629571395\n",
      "k=14;max_iter=1000;init=k-means++;tol=0.0001 26225 0.22700954070153517\n",
      "k=15;max_iter=1000;init=k-means++;tol=0.0001 26225 0.23521311970028225\n",
      "k=16;max_iter=1000;init=k-means++;tol=0.0001 26225 0.16322574395899903\n",
      "k=17;max_iter=1000;init=k-means++;tol=0.0001 26225 0.21887737364155574\n",
      "k=18;max_iter=1000;init=k-means++;tol=0.0001 26225 0.21242983709321847\n",
      "k=19;max_iter=1000;init=k-means++;tol=0.0001 26225 0.2566226635762301\n",
      "k=20;max_iter=1000;init=k-means++;tol=0.0001 26225 0.17479639968210547\n",
      "k=2;max_iter=1000;init=k-means++;tol=1e-05 26225 0.4231466434101364\n",
      "k=3;max_iter=1000;init=k-means++;tol=1e-05 26225 0.5007088925953518\n",
      "k=4;max_iter=1000;init=k-means++;tol=1e-05 26225 0.4872136706915132\n",
      "k=5;max_iter=1000;init=k-means++;tol=1e-05 26225 0.5003072078865929\n",
      "k=6;max_iter=1000;init=k-means++;tol=1e-05 26225 0.46471728285401515\n",
      "k=7;max_iter=1000;init=k-means++;tol=1e-05 26225 0.4990205998158106\n",
      "k=8;max_iter=1000;init=k-means++;tol=1e-05 26225 0.36363255119092136\n",
      "k=9;max_iter=1000;init=k-means++;tol=1e-05 26225 0.3131158605380072\n",
      "k=10;max_iter=1000;init=k-means++;tol=1e-05 26225 0.3816232918046123\n",
      "k=11;max_iter=1000;init=k-means++;tol=1e-05 26225 0.2954130809836477\n",
      "k=12;max_iter=1000;init=k-means++;tol=1e-05 26225 0.2795676359693252\n",
      "k=13;max_iter=1000;init=k-means++;tol=1e-05 26225 0.25569122629571395\n",
      "k=14;max_iter=1000;init=k-means++;tol=1e-05 26225 0.22700954070153517\n",
      "k=15;max_iter=1000;init=k-means++;tol=1e-05 26225 0.23521311970028225\n",
      "k=16;max_iter=1000;init=k-means++;tol=1e-05 26225 0.16322574395899903\n",
      "k=17;max_iter=1000;init=k-means++;tol=1e-05 26225 0.21887737364155574\n",
      "k=18;max_iter=1000;init=k-means++;tol=1e-05 26225 0.21242983709321847\n",
      "k=19;max_iter=1000;init=k-means++;tol=1e-05 26225 0.2566226635762301\n",
      "k=20;max_iter=1000;init=k-means++;tol=1e-05 26225 0.17479639968210547\n",
      "k=2;max_iter=1000;init=k-means++;tol=0.001 777572 0.41631732537741156\n",
      "k=3;max_iter=1000;init=k-means++;tol=0.001 777572 0.5116550905596369\n",
      "k=4;max_iter=1000;init=k-means++;tol=0.001 777572 0.47726334822138305\n",
      "k=5;max_iter=1000;init=k-means++;tol=0.001 777572 0.48631849203017186\n",
      "k=6;max_iter=1000;init=k-means++;tol=0.001 777572 0.4824733828829334\n",
      "k=7;max_iter=1000;init=k-means++;tol=0.001 777572 0.4942736166798346\n",
      "k=8;max_iter=1000;init=k-means++;tol=0.001 777572 0.36190871220290166\n",
      "k=9;max_iter=1000;init=k-means++;tol=0.001 777572 0.2995750749685797\n",
      "k=10;max_iter=1000;init=k-means++;tol=0.001 777572 0.3870011672774454\n",
      "k=11;max_iter=1000;init=k-means++;tol=0.001 777572 0.3846072954662195\n",
      "k=12;max_iter=1000;init=k-means++;tol=0.001 777572 0.3104585226609029\n",
      "k=13;max_iter=1000;init=k-means++;tol=0.001 777572 0.24416438244324992\n",
      "k=14;max_iter=1000;init=k-means++;tol=0.001 777572 0.1876997787481284\n",
      "k=15;max_iter=1000;init=k-means++;tol=0.001 777572 0.23036154487064223\n",
      "k=16;max_iter=1000;init=k-means++;tol=0.001 777572 0.23222512532470807\n",
      "k=17;max_iter=1000;init=k-means++;tol=0.001 777572 0.27150049145638944\n",
      "k=18;max_iter=1000;init=k-means++;tol=0.001 777572 0.19981279221391784\n",
      "k=19;max_iter=1000;init=k-means++;tol=0.001 777572 0.23511845619072086\n"
     ]
    },
    {
     "name": "stdout",
     "output_type": "stream",
     "text": [
      "k=20;max_iter=1000;init=k-means++;tol=0.001 777572 0.18545139268816396\n",
      "k=2;max_iter=1000;init=k-means++;tol=0.0001 777572 0.41631732537741156\n",
      "k=3;max_iter=1000;init=k-means++;tol=0.0001 777572 0.5116550905596369\n",
      "k=4;max_iter=1000;init=k-means++;tol=0.0001 777572 0.47726334822138305\n",
      "k=5;max_iter=1000;init=k-means++;tol=0.0001 777572 0.48631849203017186\n",
      "k=6;max_iter=1000;init=k-means++;tol=0.0001 777572 0.4824733828829334\n",
      "k=7;max_iter=1000;init=k-means++;tol=0.0001 777572 0.4942736166798346\n",
      "k=8;max_iter=1000;init=k-means++;tol=0.0001 777572 0.36190871220290166\n",
      "k=9;max_iter=1000;init=k-means++;tol=0.0001 777572 0.2995750749685797\n",
      "k=10;max_iter=1000;init=k-means++;tol=0.0001 777572 0.3870011672774454\n",
      "k=11;max_iter=1000;init=k-means++;tol=0.0001 777572 0.3846072954662195\n",
      "k=12;max_iter=1000;init=k-means++;tol=0.0001 777572 0.3104585226609029\n",
      "k=13;max_iter=1000;init=k-means++;tol=0.0001 777572 0.24416438244324992\n",
      "k=14;max_iter=1000;init=k-means++;tol=0.0001 777572 0.1876997787481284\n",
      "k=15;max_iter=1000;init=k-means++;tol=0.0001 777572 0.23036154487064223\n",
      "k=16;max_iter=1000;init=k-means++;tol=0.0001 777572 0.23222512532470807\n",
      "k=17;max_iter=1000;init=k-means++;tol=0.0001 777572 0.27150049145638944\n",
      "k=18;max_iter=1000;init=k-means++;tol=0.0001 777572 0.19981279221391784\n",
      "k=19;max_iter=1000;init=k-means++;tol=0.0001 777572 0.23511845619072086\n",
      "k=20;max_iter=1000;init=k-means++;tol=0.0001 777572 0.18545139268816396\n",
      "k=2;max_iter=1000;init=k-means++;tol=1e-05 777572 0.41631732537741156\n",
      "k=3;max_iter=1000;init=k-means++;tol=1e-05 777572 0.5116550905596369\n",
      "k=4;max_iter=1000;init=k-means++;tol=1e-05 777572 0.47726334822138305\n",
      "k=5;max_iter=1000;init=k-means++;tol=1e-05 777572 0.48631849203017186\n",
      "k=6;max_iter=1000;init=k-means++;tol=1e-05 777572 0.4824733828829334\n",
      "k=7;max_iter=1000;init=k-means++;tol=1e-05 777572 0.4942736166798346\n",
      "k=8;max_iter=1000;init=k-means++;tol=1e-05 777572 0.36190871220290166\n",
      "k=9;max_iter=1000;init=k-means++;tol=1e-05 777572 0.2995750749685797\n",
      "k=10;max_iter=1000;init=k-means++;tol=1e-05 777572 0.3870011672774454\n",
      "k=11;max_iter=1000;init=k-means++;tol=1e-05 777572 0.3846072954662195\n",
      "k=12;max_iter=1000;init=k-means++;tol=1e-05 777572 0.3104585226609029\n",
      "k=13;max_iter=1000;init=k-means++;tol=1e-05 777572 0.24416438244324992\n",
      "k=14;max_iter=1000;init=k-means++;tol=1e-05 777572 0.1876997787481284\n",
      "k=15;max_iter=1000;init=k-means++;tol=1e-05 777572 0.23036154487064223\n",
      "k=16;max_iter=1000;init=k-means++;tol=1e-05 777572 0.23222512532470807\n",
      "k=17;max_iter=1000;init=k-means++;tol=1e-05 777572 0.27150049145638944\n",
      "k=18;max_iter=1000;init=k-means++;tol=1e-05 777572 0.19981279221391784\n",
      "k=19;max_iter=1000;init=k-means++;tol=1e-05 777572 0.23511845619072086\n",
      "k=20;max_iter=1000;init=k-means++;tol=1e-05 777572 0.18545139268816396\n",
      "k=2;max_iter=1000;init=k-means++;tol=0.001 288389 0.4231466434101364\n",
      "k=3;max_iter=1000;init=k-means++;tol=0.001 288389 0.5254176670027062\n",
      "k=4;max_iter=1000;init=k-means++;tol=0.001 288389 0.47694135325648757\n",
      "k=5;max_iter=1000;init=k-means++;tol=0.001 288389 0.46767091275851724\n",
      "k=6;max_iter=1000;init=k-means++;tol=0.001 288389 0.4770923868119825\n",
      "k=7;max_iter=1000;init=k-means++;tol=0.001 288389 0.4836706805555041\n",
      "k=8;max_iter=1000;init=k-means++;tol=0.001 288389 0.3796275030772811\n",
      "k=9;max_iter=1000;init=k-means++;tol=0.001 288389 0.3228257309905457\n",
      "k=10;max_iter=1000;init=k-means++;tol=0.001 288389 0.228015391761756\n",
      "k=11;max_iter=1000;init=k-means++;tol=0.001 288389 0.35563699391475967\n",
      "k=12;max_iter=1000;init=k-means++;tol=0.001 288389 0.23843939084863064\n",
      "k=13;max_iter=1000;init=k-means++;tol=0.001 288389 0.277859854487182\n",
      "k=14;max_iter=1000;init=k-means++;tol=0.001 288389 0.22718988990047273\n",
      "k=15;max_iter=1000;init=k-means++;tol=0.001 288389 0.23067423397302672\n",
      "k=16;max_iter=1000;init=k-means++;tol=0.001 288389 0.20991816218098186\n",
      "k=17;max_iter=1000;init=k-means++;tol=0.001 288389 0.3215455254717931\n",
      "k=18;max_iter=1000;init=k-means++;tol=0.001 288389 0.20618155416118863\n",
      "k=19;max_iter=1000;init=k-means++;tol=0.001 288389 0.2571931666119668\n",
      "k=20;max_iter=1000;init=k-means++;tol=0.001 288389 0.20414901093470023\n",
      "k=2;max_iter=1000;init=k-means++;tol=0.0001 288389 0.4231466434101364\n",
      "k=3;max_iter=1000;init=k-means++;tol=0.0001 288389 0.5254176670027062\n",
      "k=4;max_iter=1000;init=k-means++;tol=0.0001 288389 0.47694135325648757\n",
      "k=5;max_iter=1000;init=k-means++;tol=0.0001 288389 0.46767091275851724\n",
      "k=6;max_iter=1000;init=k-means++;tol=0.0001 288389 0.4770923868119825\n",
      "k=7;max_iter=1000;init=k-means++;tol=0.0001 288389 0.4836706805555041\n",
      "k=8;max_iter=1000;init=k-means++;tol=0.0001 288389 0.3796275030772811\n",
      "k=9;max_iter=1000;init=k-means++;tol=0.0001 288389 0.3228257309905457\n",
      "k=10;max_iter=1000;init=k-means++;tol=0.0001 288389 0.228015391761756\n",
      "k=11;max_iter=1000;init=k-means++;tol=0.0001 288389 0.35563699391475967\n",
      "k=12;max_iter=1000;init=k-means++;tol=0.0001 288389 0.23843939084863064\n",
      "k=13;max_iter=1000;init=k-means++;tol=0.0001 288389 0.277859854487182\n",
      "k=14;max_iter=1000;init=k-means++;tol=0.0001 288389 0.22718988990047273\n",
      "k=15;max_iter=1000;init=k-means++;tol=0.0001 288389 0.23067423397302672\n",
      "k=16;max_iter=1000;init=k-means++;tol=0.0001 288389 0.20991816218098186\n",
      "k=17;max_iter=1000;init=k-means++;tol=0.0001 288389 0.3215455254717931\n",
      "k=18;max_iter=1000;init=k-means++;tol=0.0001 288389 0.20618155416118863\n",
      "k=19;max_iter=1000;init=k-means++;tol=0.0001 288389 0.2571931666119668\n",
      "k=20;max_iter=1000;init=k-means++;tol=0.0001 288389 0.20414901093470023\n",
      "k=2;max_iter=1000;init=k-means++;tol=1e-05 288389 0.4231466434101364\n",
      "k=3;max_iter=1000;init=k-means++;tol=1e-05 288389 0.5254176670027062\n",
      "k=4;max_iter=1000;init=k-means++;tol=1e-05 288389 0.47694135325648757\n",
      "k=5;max_iter=1000;init=k-means++;tol=1e-05 288389 0.46767091275851724\n",
      "k=6;max_iter=1000;init=k-means++;tol=1e-05 288389 0.4770923868119825\n",
      "k=7;max_iter=1000;init=k-means++;tol=1e-05 288389 0.4836706805555041\n",
      "k=8;max_iter=1000;init=k-means++;tol=1e-05 288389 0.3796275030772811\n",
      "k=9;max_iter=1000;init=k-means++;tol=1e-05 288389 0.3228257309905457\n",
      "k=10;max_iter=1000;init=k-means++;tol=1e-05 288389 0.228015391761756\n",
      "k=11;max_iter=1000;init=k-means++;tol=1e-05 288389 0.35563699391475967\n",
      "k=12;max_iter=1000;init=k-means++;tol=1e-05 288389 0.23843939084863064\n",
      "k=13;max_iter=1000;init=k-means++;tol=1e-05 288389 0.277859854487182\n",
      "k=14;max_iter=1000;init=k-means++;tol=1e-05 288389 0.22718988990047273\n",
      "k=15;max_iter=1000;init=k-means++;tol=1e-05 288389 0.23067423397302672\n",
      "k=16;max_iter=1000;init=k-means++;tol=1e-05 288389 0.20991816218098186\n",
      "k=17;max_iter=1000;init=k-means++;tol=1e-05 288389 0.3215455254717931\n",
      "k=18;max_iter=1000;init=k-means++;tol=1e-05 288389 0.20618155416118863\n",
      "k=19;max_iter=1000;init=k-means++;tol=1e-05 288389 0.2571931666119668\n",
      "k=20;max_iter=1000;init=k-means++;tol=1e-05 288389 0.20414901093470023\n",
      "k=2;max_iter=300;init=random;tol=0.001 670487 0.4219665687804293\n",
      "k=3;max_iter=300;init=random;tol=0.001 670487 0.514692217837621\n",
      "k=4;max_iter=300;init=random;tol=0.001 670487 0.4786748192984515\n",
      "k=5;max_iter=300;init=random;tol=0.001 670487 0.45608225748159326\n",
      "k=6;max_iter=300;init=random;tol=0.001 670487 0.48767140491493705\n",
      "k=7;max_iter=300;init=random;tol=0.001 670487 0.48253363337095656\n",
      "k=8;max_iter=300;init=random;tol=0.001 670487 0.3520953238439611\n",
      "k=9;max_iter=300;init=random;tol=0.001 670487 0.4532161258580707\n",
      "k=10;max_iter=300;init=random;tol=0.001 670487 0.23332340013421562\n",
      "k=11;max_iter=300;init=random;tol=0.001 670487 0.34861089301186876\n",
      "k=12;max_iter=300;init=random;tol=0.001 670487 0.23984541141784016\n",
      "k=13;max_iter=300;init=random;tol=0.001 670487 0.23984541141784016\n",
      "k=14;max_iter=300;init=random;tol=0.001 670487 0.2874923685227689\n",
      "k=15;max_iter=300;init=random;tol=0.001 670487 0.22531372573065733\n",
      "k=16;max_iter=300;init=random;tol=0.001 670487 0.3496821737662815\n",
      "k=17;max_iter=300;init=random;tol=0.001 670487 0.21485631497178803\n",
      "k=18;max_iter=300;init=random;tol=0.001 670487 0.21845303087358003\n",
      "k=19;max_iter=300;init=random;tol=0.001 670487 0.20873580138870526\n",
      "k=20;max_iter=300;init=random;tol=0.001 670487 0.2064958974119615\n",
      "k=2;max_iter=300;init=random;tol=0.0001 670487 0.4219665687804293\n",
      "k=3;max_iter=300;init=random;tol=0.0001 670487 0.514692217837621\n",
      "k=4;max_iter=300;init=random;tol=0.0001 670487 0.4786748192984515\n"
     ]
    },
    {
     "name": "stdout",
     "output_type": "stream",
     "text": [
      "k=5;max_iter=300;init=random;tol=0.0001 670487 0.45608225748159326\n",
      "k=6;max_iter=300;init=random;tol=0.0001 670487 0.48767140491493705\n",
      "k=7;max_iter=300;init=random;tol=0.0001 670487 0.48253363337095656\n",
      "k=8;max_iter=300;init=random;tol=0.0001 670487 0.3520953238439611\n",
      "k=9;max_iter=300;init=random;tol=0.0001 670487 0.4532161258580707\n",
      "k=10;max_iter=300;init=random;tol=0.0001 670487 0.23332340013421562\n",
      "k=11;max_iter=300;init=random;tol=0.0001 670487 0.34861089301186876\n",
      "k=12;max_iter=300;init=random;tol=0.0001 670487 0.23984541141784016\n",
      "k=13;max_iter=300;init=random;tol=0.0001 670487 0.23984541141784016\n",
      "k=14;max_iter=300;init=random;tol=0.0001 670487 0.2874923685227689\n",
      "k=15;max_iter=300;init=random;tol=0.0001 670487 0.22531372573065733\n",
      "k=16;max_iter=300;init=random;tol=0.0001 670487 0.3496821737662815\n",
      "k=17;max_iter=300;init=random;tol=0.0001 670487 0.21485631497178803\n",
      "k=18;max_iter=300;init=random;tol=0.0001 670487 0.21845303087358003\n",
      "k=19;max_iter=300;init=random;tol=0.0001 670487 0.20873580138870526\n",
      "k=20;max_iter=300;init=random;tol=0.0001 670487 0.2064958974119615\n",
      "k=2;max_iter=300;init=random;tol=1e-05 670487 0.4219665687804293\n",
      "k=3;max_iter=300;init=random;tol=1e-05 670487 0.514692217837621\n",
      "k=4;max_iter=300;init=random;tol=1e-05 670487 0.4786748192984515\n",
      "k=5;max_iter=300;init=random;tol=1e-05 670487 0.45608225748159326\n",
      "k=6;max_iter=300;init=random;tol=1e-05 670487 0.48767140491493705\n",
      "k=7;max_iter=300;init=random;tol=1e-05 670487 0.48253363337095656\n",
      "k=8;max_iter=300;init=random;tol=1e-05 670487 0.3520953238439611\n",
      "k=9;max_iter=300;init=random;tol=1e-05 670487 0.4532161258580707\n",
      "k=10;max_iter=300;init=random;tol=1e-05 670487 0.23332340013421562\n",
      "k=11;max_iter=300;init=random;tol=1e-05 670487 0.34861089301186876\n",
      "k=12;max_iter=300;init=random;tol=1e-05 670487 0.23984541141784016\n",
      "k=13;max_iter=300;init=random;tol=1e-05 670487 0.23984541141784016\n",
      "k=14;max_iter=300;init=random;tol=1e-05 670487 0.2874923685227689\n",
      "k=15;max_iter=300;init=random;tol=1e-05 670487 0.22531372573065733\n",
      "k=16;max_iter=300;init=random;tol=1e-05 670487 0.3496821737662815\n",
      "k=17;max_iter=300;init=random;tol=1e-05 670487 0.21485631497178803\n",
      "k=18;max_iter=300;init=random;tol=1e-05 670487 0.21845303087358003\n",
      "k=19;max_iter=300;init=random;tol=1e-05 670487 0.20873580138870526\n",
      "k=20;max_iter=300;init=random;tol=1e-05 670487 0.2064958974119615\n",
      "k=2;max_iter=300;init=random;tol=0.001 116739 0.41368232197113114\n",
      "k=3;max_iter=300;init=random;tol=0.001 116739 0.5086002475665681\n",
      "k=4;max_iter=300;init=random;tol=0.001 116739 0.501659366196868\n",
      "k=5;max_iter=300;init=random;tol=0.001 116739 0.4974356752234913\n",
      "k=6;max_iter=300;init=random;tol=0.001 116739 0.5029231675125048\n",
      "k=7;max_iter=300;init=random;tol=0.001 116739 0.48811923763632914\n",
      "k=8;max_iter=300;init=random;tol=0.001 116739 0.37519098873985657\n",
      "k=9;max_iter=300;init=random;tol=0.001 116739 0.48125267412619627\n",
      "k=10;max_iter=300;init=random;tol=0.001 116739 0.2187915890084447\n",
      "k=11;max_iter=300;init=random;tol=0.001 116739 0.22408450270598257\n",
      "k=12;max_iter=300;init=random;tol=0.001 116739 0.2003199001089094\n",
      "k=13;max_iter=300;init=random;tol=0.001 116739 0.27075151960608557\n",
      "k=14;max_iter=300;init=random;tol=0.001 116739 0.23727607242706922\n",
      "k=15;max_iter=300;init=random;tol=0.001 116739 0.23972675139090405\n",
      "k=16;max_iter=300;init=random;tol=0.001 116739 0.2410562938409902\n",
      "k=17;max_iter=300;init=random;tol=0.001 116739 0.24376133642474912\n",
      "k=18;max_iter=300;init=random;tol=0.001 116739 0.18598586956571347\n",
      "k=19;max_iter=300;init=random;tol=0.001 116739 0.23793355237172814\n",
      "k=20;max_iter=300;init=random;tol=0.001 116739 0.22807294781986204\n",
      "k=2;max_iter=300;init=random;tol=0.0001 116739 0.41368232197113114\n",
      "k=3;max_iter=300;init=random;tol=0.0001 116739 0.5086002475665681\n",
      "k=4;max_iter=300;init=random;tol=0.0001 116739 0.501659366196868\n",
      "k=5;max_iter=300;init=random;tol=0.0001 116739 0.4974356752234913\n",
      "k=6;max_iter=300;init=random;tol=0.0001 116739 0.5029231675125048\n",
      "k=7;max_iter=300;init=random;tol=0.0001 116739 0.48811923763632914\n",
      "k=8;max_iter=300;init=random;tol=0.0001 116739 0.37519098873985657\n",
      "k=9;max_iter=300;init=random;tol=0.0001 116739 0.48125267412619627\n",
      "k=10;max_iter=300;init=random;tol=0.0001 116739 0.2187915890084447\n",
      "k=11;max_iter=300;init=random;tol=0.0001 116739 0.22408450270598257\n",
      "k=12;max_iter=300;init=random;tol=0.0001 116739 0.2003199001089094\n",
      "k=13;max_iter=300;init=random;tol=0.0001 116739 0.27075151960608557\n",
      "k=14;max_iter=300;init=random;tol=0.0001 116739 0.23727607242706922\n",
      "k=15;max_iter=300;init=random;tol=0.0001 116739 0.23972675139090405\n",
      "k=16;max_iter=300;init=random;tol=0.0001 116739 0.2410562938409902\n",
      "k=17;max_iter=300;init=random;tol=0.0001 116739 0.24376133642474912\n",
      "k=18;max_iter=300;init=random;tol=0.0001 116739 0.18598586956571347\n",
      "k=19;max_iter=300;init=random;tol=0.0001 116739 0.23793355237172814\n",
      "k=20;max_iter=300;init=random;tol=0.0001 116739 0.22807294781986204\n",
      "k=2;max_iter=300;init=random;tol=1e-05 116739 0.41368232197113114\n",
      "k=3;max_iter=300;init=random;tol=1e-05 116739 0.5086002475665681\n",
      "k=4;max_iter=300;init=random;tol=1e-05 116739 0.501659366196868\n",
      "k=5;max_iter=300;init=random;tol=1e-05 116739 0.4974356752234913\n",
      "k=6;max_iter=300;init=random;tol=1e-05 116739 0.5029231675125048\n",
      "k=7;max_iter=300;init=random;tol=1e-05 116739 0.48811923763632914\n",
      "k=8;max_iter=300;init=random;tol=1e-05 116739 0.37519098873985657\n",
      "k=9;max_iter=300;init=random;tol=1e-05 116739 0.48125267412619627\n",
      "k=10;max_iter=300;init=random;tol=1e-05 116739 0.2187915890084447\n",
      "k=11;max_iter=300;init=random;tol=1e-05 116739 0.22408450270598257\n",
      "k=12;max_iter=300;init=random;tol=1e-05 116739 0.2003199001089094\n",
      "k=13;max_iter=300;init=random;tol=1e-05 116739 0.27075151960608557\n",
      "k=14;max_iter=300;init=random;tol=1e-05 116739 0.23727607242706922\n",
      "k=15;max_iter=300;init=random;tol=1e-05 116739 0.23972675139090405\n",
      "k=16;max_iter=300;init=random;tol=1e-05 116739 0.2410562938409902\n",
      "k=17;max_iter=300;init=random;tol=1e-05 116739 0.24376133642474912\n",
      "k=18;max_iter=300;init=random;tol=1e-05 116739 0.18598586956571347\n",
      "k=19;max_iter=300;init=random;tol=1e-05 116739 0.23793355237172814\n",
      "k=20;max_iter=300;init=random;tol=1e-05 116739 0.22807294781986204\n",
      "k=2;max_iter=300;init=random;tol=0.001 26225 0.5614308607697318\n",
      "k=3;max_iter=300;init=random;tol=0.001 26225 0.5256893548969211\n",
      "k=4;max_iter=300;init=random;tol=0.001 26225 0.502699898726736\n",
      "k=5;max_iter=300;init=random;tol=0.001 26225 0.49038387230216085\n",
      "k=6;max_iter=300;init=random;tol=0.001 26225 0.48948837018272273\n",
      "k=7;max_iter=300;init=random;tol=0.001 26225 0.48435267930148995\n",
      "k=8;max_iter=300;init=random;tol=0.001 26225 0.3433309240566177\n",
      "k=9;max_iter=300;init=random;tol=0.001 26225 0.2874865161910125\n",
      "k=10;max_iter=300;init=random;tol=0.001 26225 0.3501767857202956\n",
      "k=11;max_iter=300;init=random;tol=0.001 26225 0.3658274968608313\n",
      "k=12;max_iter=300;init=random;tol=0.001 26225 0.3629906909694174\n",
      "k=13;max_iter=300;init=random;tol=0.001 26225 0.3726190807723436\n",
      "k=14;max_iter=300;init=random;tol=0.001 26225 0.27075424682651994\n",
      "k=15;max_iter=300;init=random;tol=0.001 26225 0.22777448404511902\n",
      "k=16;max_iter=300;init=random;tol=0.001 26225 0.23241940382853465\n",
      "k=17;max_iter=300;init=random;tol=0.001 26225 0.23789628553414022\n",
      "k=18;max_iter=300;init=random;tol=0.001 26225 0.23026577401303386\n",
      "k=19;max_iter=300;init=random;tol=0.001 26225 0.22129061266851174\n",
      "k=20;max_iter=300;init=random;tol=0.001 26225 0.21597014306179912\n",
      "k=2;max_iter=300;init=random;tol=0.0001 26225 0.5614308607697318\n",
      "k=3;max_iter=300;init=random;tol=0.0001 26225 0.5256893548969211\n",
      "k=4;max_iter=300;init=random;tol=0.0001 26225 0.502699898726736\n",
      "k=5;max_iter=300;init=random;tol=0.0001 26225 0.49038387230216085\n",
      "k=6;max_iter=300;init=random;tol=0.0001 26225 0.48948837018272273\n",
      "k=7;max_iter=300;init=random;tol=0.0001 26225 0.48435267930148995\n",
      "k=8;max_iter=300;init=random;tol=0.0001 26225 0.3433309240566177\n",
      "k=9;max_iter=300;init=random;tol=0.0001 26225 0.2874865161910125\n",
      "k=10;max_iter=300;init=random;tol=0.0001 26225 0.3501767857202956\n",
      "k=11;max_iter=300;init=random;tol=0.0001 26225 0.3658274968608313\n",
      "k=12;max_iter=300;init=random;tol=0.0001 26225 0.3629906909694174\n",
      "k=13;max_iter=300;init=random;tol=0.0001 26225 0.3726190807723436\n",
      "k=14;max_iter=300;init=random;tol=0.0001 26225 0.27075424682651994\n"
     ]
    },
    {
     "name": "stdout",
     "output_type": "stream",
     "text": [
      "k=15;max_iter=300;init=random;tol=0.0001 26225 0.22777448404511902\n",
      "k=16;max_iter=300;init=random;tol=0.0001 26225 0.23241940382853465\n",
      "k=17;max_iter=300;init=random;tol=0.0001 26225 0.23789628553414022\n",
      "k=18;max_iter=300;init=random;tol=0.0001 26225 0.23026577401303386\n",
      "k=19;max_iter=300;init=random;tol=0.0001 26225 0.22129061266851174\n",
      "k=20;max_iter=300;init=random;tol=0.0001 26225 0.21597014306179912\n",
      "k=2;max_iter=300;init=random;tol=1e-05 26225 0.5614308607697318\n",
      "k=3;max_iter=300;init=random;tol=1e-05 26225 0.5256893548969211\n",
      "k=4;max_iter=300;init=random;tol=1e-05 26225 0.502699898726736\n",
      "k=5;max_iter=300;init=random;tol=1e-05 26225 0.49038387230216085\n",
      "k=6;max_iter=300;init=random;tol=1e-05 26225 0.48948837018272273\n",
      "k=7;max_iter=300;init=random;tol=1e-05 26225 0.48435267930148995\n",
      "k=8;max_iter=300;init=random;tol=1e-05 26225 0.3433309240566177\n",
      "k=9;max_iter=300;init=random;tol=1e-05 26225 0.2874865161910125\n",
      "k=10;max_iter=300;init=random;tol=1e-05 26225 0.3501767857202956\n",
      "k=11;max_iter=300;init=random;tol=1e-05 26225 0.3658274968608313\n",
      "k=12;max_iter=300;init=random;tol=1e-05 26225 0.3629906909694174\n",
      "k=13;max_iter=300;init=random;tol=1e-05 26225 0.3726190807723436\n",
      "k=14;max_iter=300;init=random;tol=1e-05 26225 0.27075424682651994\n",
      "k=15;max_iter=300;init=random;tol=1e-05 26225 0.22777448404511902\n",
      "k=16;max_iter=300;init=random;tol=1e-05 26225 0.23241940382853465\n",
      "k=17;max_iter=300;init=random;tol=1e-05 26225 0.23789628553414022\n",
      "k=18;max_iter=300;init=random;tol=1e-05 26225 0.23026577401303386\n",
      "k=19;max_iter=300;init=random;tol=1e-05 26225 0.22129061266851174\n",
      "k=20;max_iter=300;init=random;tol=1e-05 26225 0.21597014306179912\n",
      "k=2;max_iter=300;init=random;tol=0.001 777572 0.4219665687804293\n",
      "k=3;max_iter=300;init=random;tol=0.001 777572 0.5189025746534727\n",
      "k=4;max_iter=300;init=random;tol=0.001 777572 0.48000795507850125\n",
      "k=5;max_iter=300;init=random;tol=0.001 777572 0.4744872614587103\n",
      "k=6;max_iter=300;init=random;tol=0.001 777572 0.508115198838637\n",
      "k=7;max_iter=300;init=random;tol=0.001 777572 0.4959263108020712\n",
      "k=8;max_iter=300;init=random;tol=0.001 777572 0.38197480161370234\n",
      "k=9;max_iter=300;init=random;tol=0.001 777572 0.3140380790040058\n",
      "k=10;max_iter=300;init=random;tol=0.001 777572 0.3856972947800093\n",
      "k=11;max_iter=300;init=random;tol=0.001 777572 0.30012407340891983\n",
      "k=12;max_iter=300;init=random;tol=0.001 777572 0.35080861149845577\n",
      "k=13;max_iter=300;init=random;tol=0.001 777572 0.2901834375925662\n",
      "k=14;max_iter=300;init=random;tol=0.001 777572 0.22468533071004565\n",
      "k=15;max_iter=300;init=random;tol=0.001 777572 0.22157965639020966\n",
      "k=16;max_iter=300;init=random;tol=0.001 777572 0.19712061140403248\n",
      "k=17;max_iter=300;init=random;tol=0.001 777572 0.22463332939024236\n",
      "k=18;max_iter=300;init=random;tol=0.001 777572 0.2261880104281197\n",
      "k=19;max_iter=300;init=random;tol=0.001 777572 0.18227192498020933\n",
      "k=20;max_iter=300;init=random;tol=0.001 777572 0.17847071472189832\n",
      "k=2;max_iter=300;init=random;tol=0.0001 777572 0.4219665687804293\n",
      "k=3;max_iter=300;init=random;tol=0.0001 777572 0.5189025746534727\n",
      "k=4;max_iter=300;init=random;tol=0.0001 777572 0.48000795507850125\n",
      "k=5;max_iter=300;init=random;tol=0.0001 777572 0.4744872614587103\n",
      "k=6;max_iter=300;init=random;tol=0.0001 777572 0.508115198838637\n",
      "k=7;max_iter=300;init=random;tol=0.0001 777572 0.4959263108020712\n",
      "k=8;max_iter=300;init=random;tol=0.0001 777572 0.38197480161370234\n",
      "k=9;max_iter=300;init=random;tol=0.0001 777572 0.3140380790040058\n",
      "k=10;max_iter=300;init=random;tol=0.0001 777572 0.3856972947800093\n",
      "k=11;max_iter=300;init=random;tol=0.0001 777572 0.30012407340891983\n",
      "k=12;max_iter=300;init=random;tol=0.0001 777572 0.35080861149845577\n",
      "k=13;max_iter=300;init=random;tol=0.0001 777572 0.2901834375925662\n",
      "k=14;max_iter=300;init=random;tol=0.0001 777572 0.22468533071004565\n",
      "k=15;max_iter=300;init=random;tol=0.0001 777572 0.22157965639020966\n",
      "k=16;max_iter=300;init=random;tol=0.0001 777572 0.19712061140403248\n",
      "k=17;max_iter=300;init=random;tol=0.0001 777572 0.22463332939024236\n",
      "k=18;max_iter=300;init=random;tol=0.0001 777572 0.2261880104281197\n",
      "k=19;max_iter=300;init=random;tol=0.0001 777572 0.18227192498020933\n",
      "k=20;max_iter=300;init=random;tol=0.0001 777572 0.17847071472189832\n",
      "k=2;max_iter=300;init=random;tol=1e-05 777572 0.4219665687804293\n",
      "k=3;max_iter=300;init=random;tol=1e-05 777572 0.5189025746534727\n",
      "k=4;max_iter=300;init=random;tol=1e-05 777572 0.48000795507850125\n",
      "k=5;max_iter=300;init=random;tol=1e-05 777572 0.4744872614587103\n",
      "k=6;max_iter=300;init=random;tol=1e-05 777572 0.508115198838637\n",
      "k=7;max_iter=300;init=random;tol=1e-05 777572 0.4959263108020712\n",
      "k=8;max_iter=300;init=random;tol=1e-05 777572 0.38197480161370234\n",
      "k=9;max_iter=300;init=random;tol=1e-05 777572 0.3140380790040058\n",
      "k=10;max_iter=300;init=random;tol=1e-05 777572 0.3856972947800093\n",
      "k=11;max_iter=300;init=random;tol=1e-05 777572 0.30012407340891983\n",
      "k=12;max_iter=300;init=random;tol=1e-05 777572 0.35080861149845577\n",
      "k=13;max_iter=300;init=random;tol=1e-05 777572 0.2901834375925662\n",
      "k=14;max_iter=300;init=random;tol=1e-05 777572 0.22468533071004565\n",
      "k=15;max_iter=300;init=random;tol=1e-05 777572 0.22157965639020966\n",
      "k=16;max_iter=300;init=random;tol=1e-05 777572 0.19712061140403248\n",
      "k=17;max_iter=300;init=random;tol=1e-05 777572 0.22463332939024236\n",
      "k=18;max_iter=300;init=random;tol=1e-05 777572 0.2261880104281197\n",
      "k=19;max_iter=300;init=random;tol=1e-05 777572 0.18227192498020933\n",
      "k=20;max_iter=300;init=random;tol=1e-05 777572 0.17847071472189832\n",
      "k=2;max_iter=300;init=random;tol=0.001 288389 0.5584187526224931\n",
      "k=3;max_iter=300;init=random;tol=0.001 288389 0.5152998454505502\n",
      "k=4;max_iter=300;init=random;tol=0.001 288389 0.48290041617512425\n",
      "k=5;max_iter=300;init=random;tol=0.001 288389 0.49884956156987714\n",
      "k=6;max_iter=300;init=random;tol=0.001 288389 0.46183788541099113\n",
      "k=7;max_iter=300;init=random;tol=0.001 288389 0.4891524194144218\n",
      "k=8;max_iter=300;init=random;tol=0.001 288389 0.4838737820325937\n",
      "k=9;max_iter=300;init=random;tol=0.001 288389 0.4832980944680245\n",
      "k=10;max_iter=300;init=random;tol=0.001 288389 0.4840734791077145\n",
      "k=11;max_iter=300;init=random;tol=0.001 288389 0.31768884667194763\n",
      "k=12;max_iter=300;init=random;tol=0.001 288389 0.30702553194042226\n",
      "k=13;max_iter=300;init=random;tol=0.001 288389 0.2713378925583187\n",
      "k=14;max_iter=300;init=random;tol=0.001 288389 0.2659767674219479\n",
      "k=15;max_iter=300;init=random;tol=0.001 288389 0.2635905265831965\n",
      "k=16;max_iter=300;init=random;tol=0.001 288389 0.27037388333767154\n",
      "k=17;max_iter=300;init=random;tol=0.001 288389 0.24759562921790942\n",
      "k=18;max_iter=300;init=random;tol=0.001 288389 0.2395293305094488\n",
      "k=19;max_iter=300;init=random;tol=0.001 288389 0.24133054098269355\n",
      "k=20;max_iter=300;init=random;tol=0.001 288389 0.24380265786387106\n",
      "k=2;max_iter=300;init=random;tol=0.0001 288389 0.5584187526224931\n",
      "k=3;max_iter=300;init=random;tol=0.0001 288389 0.5152998454505502\n",
      "k=4;max_iter=300;init=random;tol=0.0001 288389 0.48290041617512425\n",
      "k=5;max_iter=300;init=random;tol=0.0001 288389 0.49884956156987714\n",
      "k=6;max_iter=300;init=random;tol=0.0001 288389 0.46183788541099113\n",
      "k=7;max_iter=300;init=random;tol=0.0001 288389 0.4891524194144218\n",
      "k=8;max_iter=300;init=random;tol=0.0001 288389 0.4838737820325937\n",
      "k=9;max_iter=300;init=random;tol=0.0001 288389 0.4832980944680245\n",
      "k=10;max_iter=300;init=random;tol=0.0001 288389 0.4840734791077145\n",
      "k=11;max_iter=300;init=random;tol=0.0001 288389 0.31768884667194763\n",
      "k=12;max_iter=300;init=random;tol=0.0001 288389 0.30702553194042226\n",
      "k=13;max_iter=300;init=random;tol=0.0001 288389 0.2713378925583187\n",
      "k=14;max_iter=300;init=random;tol=0.0001 288389 0.2659767674219479\n",
      "k=15;max_iter=300;init=random;tol=0.0001 288389 0.2635905265831965\n",
      "k=16;max_iter=300;init=random;tol=0.0001 288389 0.27037388333767154\n",
      "k=17;max_iter=300;init=random;tol=0.0001 288389 0.24759562921790942\n",
      "k=18;max_iter=300;init=random;tol=0.0001 288389 0.2395293305094488\n",
      "k=19;max_iter=300;init=random;tol=0.0001 288389 0.24133054098269355\n",
      "k=20;max_iter=300;init=random;tol=0.0001 288389 0.24380265786387106\n",
      "k=2;max_iter=300;init=random;tol=1e-05 288389 0.5584187526224931\n",
      "k=3;max_iter=300;init=random;tol=1e-05 288389 0.5152998454505502\n",
      "k=4;max_iter=300;init=random;tol=1e-05 288389 0.48290041617512425\n",
      "k=5;max_iter=300;init=random;tol=1e-05 288389 0.49884956156987714\n"
     ]
    },
    {
     "name": "stdout",
     "output_type": "stream",
     "text": [
      "k=6;max_iter=300;init=random;tol=1e-05 288389 0.46183788541099113\n",
      "k=7;max_iter=300;init=random;tol=1e-05 288389 0.4891524194144218\n",
      "k=8;max_iter=300;init=random;tol=1e-05 288389 0.4838737820325937\n",
      "k=9;max_iter=300;init=random;tol=1e-05 288389 0.4832980944680245\n",
      "k=10;max_iter=300;init=random;tol=1e-05 288389 0.4840734791077145\n",
      "k=11;max_iter=300;init=random;tol=1e-05 288389 0.31768884667194763\n",
      "k=12;max_iter=300;init=random;tol=1e-05 288389 0.30702553194042226\n",
      "k=13;max_iter=300;init=random;tol=1e-05 288389 0.2713378925583187\n",
      "k=14;max_iter=300;init=random;tol=1e-05 288389 0.2659767674219479\n",
      "k=15;max_iter=300;init=random;tol=1e-05 288389 0.2635905265831965\n",
      "k=16;max_iter=300;init=random;tol=1e-05 288389 0.27037388333767154\n",
      "k=17;max_iter=300;init=random;tol=1e-05 288389 0.24759562921790942\n",
      "k=18;max_iter=300;init=random;tol=1e-05 288389 0.2395293305094488\n",
      "k=19;max_iter=300;init=random;tol=1e-05 288389 0.24133054098269355\n",
      "k=20;max_iter=300;init=random;tol=1e-05 288389 0.24380265786387106\n",
      "k=2;max_iter=1000;init=random;tol=0.001 670487 0.4219665687804293\n",
      "k=3;max_iter=1000;init=random;tol=0.001 670487 0.514692217837621\n",
      "k=4;max_iter=1000;init=random;tol=0.001 670487 0.4786748192984515\n",
      "k=5;max_iter=1000;init=random;tol=0.001 670487 0.45608225748159326\n",
      "k=6;max_iter=1000;init=random;tol=0.001 670487 0.48767140491493705\n",
      "k=7;max_iter=1000;init=random;tol=0.001 670487 0.48253363337095656\n",
      "k=8;max_iter=1000;init=random;tol=0.001 670487 0.3520953238439611\n",
      "k=9;max_iter=1000;init=random;tol=0.001 670487 0.4532161258580707\n",
      "k=10;max_iter=1000;init=random;tol=0.001 670487 0.23332340013421562\n",
      "k=11;max_iter=1000;init=random;tol=0.001 670487 0.34861089301186876\n",
      "k=12;max_iter=1000;init=random;tol=0.001 670487 0.23984541141784016\n",
      "k=13;max_iter=1000;init=random;tol=0.001 670487 0.23984541141784016\n",
      "k=14;max_iter=1000;init=random;tol=0.001 670487 0.2874923685227689\n",
      "k=15;max_iter=1000;init=random;tol=0.001 670487 0.22531372573065733\n",
      "k=16;max_iter=1000;init=random;tol=0.001 670487 0.3496821737662815\n",
      "k=17;max_iter=1000;init=random;tol=0.001 670487 0.21485631497178803\n",
      "k=18;max_iter=1000;init=random;tol=0.001 670487 0.21845303087358003\n",
      "k=19;max_iter=1000;init=random;tol=0.001 670487 0.20873580138870526\n",
      "k=20;max_iter=1000;init=random;tol=0.001 670487 0.2064958974119615\n",
      "k=2;max_iter=1000;init=random;tol=0.0001 670487 0.4219665687804293\n",
      "k=3;max_iter=1000;init=random;tol=0.0001 670487 0.514692217837621\n",
      "k=4;max_iter=1000;init=random;tol=0.0001 670487 0.4786748192984515\n",
      "k=5;max_iter=1000;init=random;tol=0.0001 670487 0.45608225748159326\n",
      "k=6;max_iter=1000;init=random;tol=0.0001 670487 0.48767140491493705\n",
      "k=7;max_iter=1000;init=random;tol=0.0001 670487 0.48253363337095656\n",
      "k=8;max_iter=1000;init=random;tol=0.0001 670487 0.3520953238439611\n",
      "k=9;max_iter=1000;init=random;tol=0.0001 670487 0.4532161258580707\n",
      "k=10;max_iter=1000;init=random;tol=0.0001 670487 0.23332340013421562\n",
      "k=11;max_iter=1000;init=random;tol=0.0001 670487 0.34861089301186876\n",
      "k=12;max_iter=1000;init=random;tol=0.0001 670487 0.23984541141784016\n",
      "k=13;max_iter=1000;init=random;tol=0.0001 670487 0.23984541141784016\n",
      "k=14;max_iter=1000;init=random;tol=0.0001 670487 0.2874923685227689\n",
      "k=15;max_iter=1000;init=random;tol=0.0001 670487 0.22531372573065733\n",
      "k=16;max_iter=1000;init=random;tol=0.0001 670487 0.3496821737662815\n",
      "k=17;max_iter=1000;init=random;tol=0.0001 670487 0.21485631497178803\n",
      "k=18;max_iter=1000;init=random;tol=0.0001 670487 0.21845303087358003\n",
      "k=19;max_iter=1000;init=random;tol=0.0001 670487 0.20873580138870526\n",
      "k=20;max_iter=1000;init=random;tol=0.0001 670487 0.2064958974119615\n",
      "k=2;max_iter=1000;init=random;tol=1e-05 670487 0.4219665687804293\n",
      "k=3;max_iter=1000;init=random;tol=1e-05 670487 0.514692217837621\n",
      "k=4;max_iter=1000;init=random;tol=1e-05 670487 0.4786748192984515\n",
      "k=5;max_iter=1000;init=random;tol=1e-05 670487 0.45608225748159326\n",
      "k=6;max_iter=1000;init=random;tol=1e-05 670487 0.48767140491493705\n",
      "k=7;max_iter=1000;init=random;tol=1e-05 670487 0.48253363337095656\n",
      "k=8;max_iter=1000;init=random;tol=1e-05 670487 0.3520953238439611\n",
      "k=9;max_iter=1000;init=random;tol=1e-05 670487 0.4532161258580707\n",
      "k=10;max_iter=1000;init=random;tol=1e-05 670487 0.23332340013421562\n",
      "k=11;max_iter=1000;init=random;tol=1e-05 670487 0.34861089301186876\n",
      "k=12;max_iter=1000;init=random;tol=1e-05 670487 0.23984541141784016\n",
      "k=13;max_iter=1000;init=random;tol=1e-05 670487 0.23984541141784016\n",
      "k=14;max_iter=1000;init=random;tol=1e-05 670487 0.2874923685227689\n",
      "k=15;max_iter=1000;init=random;tol=1e-05 670487 0.22531372573065733\n",
      "k=16;max_iter=1000;init=random;tol=1e-05 670487 0.3496821737662815\n",
      "k=17;max_iter=1000;init=random;tol=1e-05 670487 0.21485631497178803\n",
      "k=18;max_iter=1000;init=random;tol=1e-05 670487 0.21845303087358003\n",
      "k=19;max_iter=1000;init=random;tol=1e-05 670487 0.20873580138870526\n",
      "k=20;max_iter=1000;init=random;tol=1e-05 670487 0.2064958974119615\n",
      "k=2;max_iter=1000;init=random;tol=0.001 116739 0.41368232197113114\n",
      "k=3;max_iter=1000;init=random;tol=0.001 116739 0.5086002475665681\n",
      "k=4;max_iter=1000;init=random;tol=0.001 116739 0.501659366196868\n",
      "k=5;max_iter=1000;init=random;tol=0.001 116739 0.4974356752234913\n",
      "k=6;max_iter=1000;init=random;tol=0.001 116739 0.5029231675125048\n",
      "k=7;max_iter=1000;init=random;tol=0.001 116739 0.48811923763632914\n",
      "k=8;max_iter=1000;init=random;tol=0.001 116739 0.37519098873985657\n",
      "k=9;max_iter=1000;init=random;tol=0.001 116739 0.48125267412619627\n",
      "k=10;max_iter=1000;init=random;tol=0.001 116739 0.2187915890084447\n",
      "k=11;max_iter=1000;init=random;tol=0.001 116739 0.22408450270598257\n",
      "k=12;max_iter=1000;init=random;tol=0.001 116739 0.2003199001089094\n",
      "k=13;max_iter=1000;init=random;tol=0.001 116739 0.27075151960608557\n",
      "k=14;max_iter=1000;init=random;tol=0.001 116739 0.23727607242706922\n",
      "k=15;max_iter=1000;init=random;tol=0.001 116739 0.23972675139090405\n",
      "k=16;max_iter=1000;init=random;tol=0.001 116739 0.2410562938409902\n",
      "k=17;max_iter=1000;init=random;tol=0.001 116739 0.24376133642474912\n",
      "k=18;max_iter=1000;init=random;tol=0.001 116739 0.18598586956571347\n",
      "k=19;max_iter=1000;init=random;tol=0.001 116739 0.23793355237172814\n",
      "k=20;max_iter=1000;init=random;tol=0.001 116739 0.22807294781986204\n",
      "k=2;max_iter=1000;init=random;tol=0.0001 116739 0.41368232197113114\n",
      "k=3;max_iter=1000;init=random;tol=0.0001 116739 0.5086002475665681\n",
      "k=4;max_iter=1000;init=random;tol=0.0001 116739 0.501659366196868\n",
      "k=5;max_iter=1000;init=random;tol=0.0001 116739 0.4974356752234913\n",
      "k=6;max_iter=1000;init=random;tol=0.0001 116739 0.5029231675125048\n",
      "k=7;max_iter=1000;init=random;tol=0.0001 116739 0.48811923763632914\n",
      "k=8;max_iter=1000;init=random;tol=0.0001 116739 0.37519098873985657\n",
      "k=9;max_iter=1000;init=random;tol=0.0001 116739 0.48125267412619627\n",
      "k=10;max_iter=1000;init=random;tol=0.0001 116739 0.2187915890084447\n",
      "k=11;max_iter=1000;init=random;tol=0.0001 116739 0.22408450270598257\n",
      "k=12;max_iter=1000;init=random;tol=0.0001 116739 0.2003199001089094\n",
      "k=13;max_iter=1000;init=random;tol=0.0001 116739 0.27075151960608557\n",
      "k=14;max_iter=1000;init=random;tol=0.0001 116739 0.23727607242706922\n",
      "k=15;max_iter=1000;init=random;tol=0.0001 116739 0.23972675139090405\n",
      "k=16;max_iter=1000;init=random;tol=0.0001 116739 0.2410562938409902\n",
      "k=17;max_iter=1000;init=random;tol=0.0001 116739 0.24376133642474912\n",
      "k=18;max_iter=1000;init=random;tol=0.0001 116739 0.18598586956571347\n",
      "k=19;max_iter=1000;init=random;tol=0.0001 116739 0.23793355237172814\n",
      "k=20;max_iter=1000;init=random;tol=0.0001 116739 0.22807294781986204\n",
      "k=2;max_iter=1000;init=random;tol=1e-05 116739 0.41368232197113114\n",
      "k=3;max_iter=1000;init=random;tol=1e-05 116739 0.5086002475665681\n",
      "k=4;max_iter=1000;init=random;tol=1e-05 116739 0.501659366196868\n",
      "k=5;max_iter=1000;init=random;tol=1e-05 116739 0.4974356752234913\n",
      "k=6;max_iter=1000;init=random;tol=1e-05 116739 0.5029231675125048\n",
      "k=7;max_iter=1000;init=random;tol=1e-05 116739 0.48811923763632914\n",
      "k=8;max_iter=1000;init=random;tol=1e-05 116739 0.37519098873985657\n",
      "k=9;max_iter=1000;init=random;tol=1e-05 116739 0.48125267412619627\n",
      "k=10;max_iter=1000;init=random;tol=1e-05 116739 0.2187915890084447\n",
      "k=11;max_iter=1000;init=random;tol=1e-05 116739 0.22408450270598257\n",
      "k=12;max_iter=1000;init=random;tol=1e-05 116739 0.2003199001089094\n",
      "k=13;max_iter=1000;init=random;tol=1e-05 116739 0.27075151960608557\n"
     ]
    },
    {
     "name": "stdout",
     "output_type": "stream",
     "text": [
      "k=14;max_iter=1000;init=random;tol=1e-05 116739 0.23727607242706922\n",
      "k=15;max_iter=1000;init=random;tol=1e-05 116739 0.23972675139090405\n",
      "k=16;max_iter=1000;init=random;tol=1e-05 116739 0.2410562938409902\n",
      "k=17;max_iter=1000;init=random;tol=1e-05 116739 0.24376133642474912\n",
      "k=18;max_iter=1000;init=random;tol=1e-05 116739 0.18598586956571347\n",
      "k=19;max_iter=1000;init=random;tol=1e-05 116739 0.23793355237172814\n",
      "k=20;max_iter=1000;init=random;tol=1e-05 116739 0.22807294781986204\n",
      "k=2;max_iter=1000;init=random;tol=0.001 26225 0.5614308607697318\n",
      "k=3;max_iter=1000;init=random;tol=0.001 26225 0.5256893548969211\n",
      "k=4;max_iter=1000;init=random;tol=0.001 26225 0.502699898726736\n",
      "k=5;max_iter=1000;init=random;tol=0.001 26225 0.49038387230216085\n",
      "k=6;max_iter=1000;init=random;tol=0.001 26225 0.48948837018272273\n",
      "k=7;max_iter=1000;init=random;tol=0.001 26225 0.48435267930148995\n",
      "k=8;max_iter=1000;init=random;tol=0.001 26225 0.3433309240566177\n",
      "k=9;max_iter=1000;init=random;tol=0.001 26225 0.2874865161910125\n",
      "k=10;max_iter=1000;init=random;tol=0.001 26225 0.3501767857202956\n",
      "k=11;max_iter=1000;init=random;tol=0.001 26225 0.3658274968608313\n",
      "k=12;max_iter=1000;init=random;tol=0.001 26225 0.3629906909694174\n",
      "k=13;max_iter=1000;init=random;tol=0.001 26225 0.3726190807723436\n",
      "k=14;max_iter=1000;init=random;tol=0.001 26225 0.27075424682651994\n",
      "k=15;max_iter=1000;init=random;tol=0.001 26225 0.22777448404511902\n",
      "k=16;max_iter=1000;init=random;tol=0.001 26225 0.23241940382853465\n",
      "k=17;max_iter=1000;init=random;tol=0.001 26225 0.23789628553414022\n",
      "k=18;max_iter=1000;init=random;tol=0.001 26225 0.23026577401303386\n",
      "k=19;max_iter=1000;init=random;tol=0.001 26225 0.22129061266851174\n",
      "k=20;max_iter=1000;init=random;tol=0.001 26225 0.21597014306179912\n",
      "k=2;max_iter=1000;init=random;tol=0.0001 26225 0.5614308607697318\n",
      "k=3;max_iter=1000;init=random;tol=0.0001 26225 0.5256893548969211\n",
      "k=4;max_iter=1000;init=random;tol=0.0001 26225 0.502699898726736\n",
      "k=5;max_iter=1000;init=random;tol=0.0001 26225 0.49038387230216085\n",
      "k=6;max_iter=1000;init=random;tol=0.0001 26225 0.48948837018272273\n",
      "k=7;max_iter=1000;init=random;tol=0.0001 26225 0.48435267930148995\n",
      "k=8;max_iter=1000;init=random;tol=0.0001 26225 0.3433309240566177\n",
      "k=9;max_iter=1000;init=random;tol=0.0001 26225 0.2874865161910125\n",
      "k=10;max_iter=1000;init=random;tol=0.0001 26225 0.3501767857202956\n",
      "k=11;max_iter=1000;init=random;tol=0.0001 26225 0.3658274968608313\n",
      "k=12;max_iter=1000;init=random;tol=0.0001 26225 0.3629906909694174\n",
      "k=13;max_iter=1000;init=random;tol=0.0001 26225 0.3726190807723436\n",
      "k=14;max_iter=1000;init=random;tol=0.0001 26225 0.27075424682651994\n",
      "k=15;max_iter=1000;init=random;tol=0.0001 26225 0.22777448404511902\n",
      "k=16;max_iter=1000;init=random;tol=0.0001 26225 0.23241940382853465\n",
      "k=17;max_iter=1000;init=random;tol=0.0001 26225 0.23789628553414022\n",
      "k=18;max_iter=1000;init=random;tol=0.0001 26225 0.23026577401303386\n",
      "k=19;max_iter=1000;init=random;tol=0.0001 26225 0.22129061266851174\n",
      "k=20;max_iter=1000;init=random;tol=0.0001 26225 0.21597014306179912\n",
      "k=2;max_iter=1000;init=random;tol=1e-05 26225 0.5614308607697318\n",
      "k=3;max_iter=1000;init=random;tol=1e-05 26225 0.5256893548969211\n",
      "k=4;max_iter=1000;init=random;tol=1e-05 26225 0.502699898726736\n",
      "k=5;max_iter=1000;init=random;tol=1e-05 26225 0.49038387230216085\n",
      "k=6;max_iter=1000;init=random;tol=1e-05 26225 0.48948837018272273\n",
      "k=7;max_iter=1000;init=random;tol=1e-05 26225 0.48435267930148995\n",
      "k=8;max_iter=1000;init=random;tol=1e-05 26225 0.3433309240566177\n",
      "k=9;max_iter=1000;init=random;tol=1e-05 26225 0.2874865161910125\n",
      "k=10;max_iter=1000;init=random;tol=1e-05 26225 0.3501767857202956\n",
      "k=11;max_iter=1000;init=random;tol=1e-05 26225 0.3658274968608313\n",
      "k=12;max_iter=1000;init=random;tol=1e-05 26225 0.3629906909694174\n",
      "k=13;max_iter=1000;init=random;tol=1e-05 26225 0.3726190807723436\n",
      "k=14;max_iter=1000;init=random;tol=1e-05 26225 0.27075424682651994\n",
      "k=15;max_iter=1000;init=random;tol=1e-05 26225 0.22777448404511902\n",
      "k=16;max_iter=1000;init=random;tol=1e-05 26225 0.23241940382853465\n",
      "k=17;max_iter=1000;init=random;tol=1e-05 26225 0.23789628553414022\n",
      "k=18;max_iter=1000;init=random;tol=1e-05 26225 0.23026577401303386\n",
      "k=19;max_iter=1000;init=random;tol=1e-05 26225 0.22129061266851174\n",
      "k=20;max_iter=1000;init=random;tol=1e-05 26225 0.21597014306179912\n",
      "k=2;max_iter=1000;init=random;tol=0.001 777572 0.4219665687804293\n",
      "k=3;max_iter=1000;init=random;tol=0.001 777572 0.5189025746534727\n",
      "k=4;max_iter=1000;init=random;tol=0.001 777572 0.48000795507850125\n",
      "k=5;max_iter=1000;init=random;tol=0.001 777572 0.4744872614587103\n",
      "k=6;max_iter=1000;init=random;tol=0.001 777572 0.508115198838637\n",
      "k=7;max_iter=1000;init=random;tol=0.001 777572 0.4959263108020712\n",
      "k=8;max_iter=1000;init=random;tol=0.001 777572 0.38197480161370234\n",
      "k=9;max_iter=1000;init=random;tol=0.001 777572 0.3140380790040058\n",
      "k=10;max_iter=1000;init=random;tol=0.001 777572 0.3856972947800093\n",
      "k=11;max_iter=1000;init=random;tol=0.001 777572 0.30012407340891983\n",
      "k=12;max_iter=1000;init=random;tol=0.001 777572 0.35080861149845577\n",
      "k=13;max_iter=1000;init=random;tol=0.001 777572 0.2901834375925662\n",
      "k=14;max_iter=1000;init=random;tol=0.001 777572 0.22468533071004565\n",
      "k=15;max_iter=1000;init=random;tol=0.001 777572 0.22157965639020966\n",
      "k=16;max_iter=1000;init=random;tol=0.001 777572 0.19712061140403248\n",
      "k=17;max_iter=1000;init=random;tol=0.001 777572 0.22463332939024236\n",
      "k=18;max_iter=1000;init=random;tol=0.001 777572 0.2261880104281197\n",
      "k=19;max_iter=1000;init=random;tol=0.001 777572 0.18227192498020933\n",
      "k=20;max_iter=1000;init=random;tol=0.001 777572 0.17847071472189832\n",
      "k=2;max_iter=1000;init=random;tol=0.0001 777572 0.4219665687804293\n",
      "k=3;max_iter=1000;init=random;tol=0.0001 777572 0.5189025746534727\n",
      "k=4;max_iter=1000;init=random;tol=0.0001 777572 0.48000795507850125\n",
      "k=5;max_iter=1000;init=random;tol=0.0001 777572 0.4744872614587103\n",
      "k=6;max_iter=1000;init=random;tol=0.0001 777572 0.508115198838637\n",
      "k=7;max_iter=1000;init=random;tol=0.0001 777572 0.4959263108020712\n",
      "k=8;max_iter=1000;init=random;tol=0.0001 777572 0.38197480161370234\n",
      "k=9;max_iter=1000;init=random;tol=0.0001 777572 0.3140380790040058\n",
      "k=10;max_iter=1000;init=random;tol=0.0001 777572 0.3856972947800093\n",
      "k=11;max_iter=1000;init=random;tol=0.0001 777572 0.30012407340891983\n",
      "k=12;max_iter=1000;init=random;tol=0.0001 777572 0.35080861149845577\n",
      "k=13;max_iter=1000;init=random;tol=0.0001 777572 0.2901834375925662\n",
      "k=14;max_iter=1000;init=random;tol=0.0001 777572 0.22468533071004565\n",
      "k=15;max_iter=1000;init=random;tol=0.0001 777572 0.22157965639020966\n",
      "k=16;max_iter=1000;init=random;tol=0.0001 777572 0.19712061140403248\n",
      "k=17;max_iter=1000;init=random;tol=0.0001 777572 0.22463332939024236\n",
      "k=18;max_iter=1000;init=random;tol=0.0001 777572 0.2261880104281197\n",
      "k=19;max_iter=1000;init=random;tol=0.0001 777572 0.18227192498020933\n",
      "k=20;max_iter=1000;init=random;tol=0.0001 777572 0.17847071472189832\n",
      "k=2;max_iter=1000;init=random;tol=1e-05 777572 0.4219665687804293\n",
      "k=3;max_iter=1000;init=random;tol=1e-05 777572 0.5189025746534727\n",
      "k=4;max_iter=1000;init=random;tol=1e-05 777572 0.48000795507850125\n",
      "k=5;max_iter=1000;init=random;tol=1e-05 777572 0.4744872614587103\n",
      "k=6;max_iter=1000;init=random;tol=1e-05 777572 0.508115198838637\n",
      "k=7;max_iter=1000;init=random;tol=1e-05 777572 0.4959263108020712\n",
      "k=8;max_iter=1000;init=random;tol=1e-05 777572 0.38197480161370234\n",
      "k=9;max_iter=1000;init=random;tol=1e-05 777572 0.3140380790040058\n",
      "k=10;max_iter=1000;init=random;tol=1e-05 777572 0.3856972947800093\n",
      "k=11;max_iter=1000;init=random;tol=1e-05 777572 0.30012407340891983\n",
      "k=12;max_iter=1000;init=random;tol=1e-05 777572 0.35080861149845577\n",
      "k=13;max_iter=1000;init=random;tol=1e-05 777572 0.2901834375925662\n",
      "k=14;max_iter=1000;init=random;tol=1e-05 777572 0.22468533071004565\n",
      "k=15;max_iter=1000;init=random;tol=1e-05 777572 0.22157965639020966\n",
      "k=16;max_iter=1000;init=random;tol=1e-05 777572 0.19712061140403248\n",
      "k=17;max_iter=1000;init=random;tol=1e-05 777572 0.22463332939024236\n",
      "k=18;max_iter=1000;init=random;tol=1e-05 777572 0.2261880104281197\n",
      "k=19;max_iter=1000;init=random;tol=1e-05 777572 0.18227192498020933\n",
      "k=20;max_iter=1000;init=random;tol=1e-05 777572 0.17847071472189832\n",
      "k=2;max_iter=1000;init=random;tol=0.001 288389 0.5584187526224931\n",
      "k=3;max_iter=1000;init=random;tol=0.001 288389 0.5152998454505502\n"
     ]
    },
    {
     "name": "stdout",
     "output_type": "stream",
     "text": [
      "k=4;max_iter=1000;init=random;tol=0.001 288389 0.48290041617512425\n",
      "k=5;max_iter=1000;init=random;tol=0.001 288389 0.49884956156987714\n",
      "k=6;max_iter=1000;init=random;tol=0.001 288389 0.46183788541099113\n",
      "k=7;max_iter=1000;init=random;tol=0.001 288389 0.4891524194144218\n",
      "k=8;max_iter=1000;init=random;tol=0.001 288389 0.4838737820325937\n",
      "k=9;max_iter=1000;init=random;tol=0.001 288389 0.4832980944680245\n",
      "k=10;max_iter=1000;init=random;tol=0.001 288389 0.4840734791077145\n",
      "k=11;max_iter=1000;init=random;tol=0.001 288389 0.31768884667194763\n",
      "k=12;max_iter=1000;init=random;tol=0.001 288389 0.30702553194042226\n",
      "k=13;max_iter=1000;init=random;tol=0.001 288389 0.2713378925583187\n",
      "k=14;max_iter=1000;init=random;tol=0.001 288389 0.2659767674219479\n",
      "k=15;max_iter=1000;init=random;tol=0.001 288389 0.2635905265831965\n",
      "k=16;max_iter=1000;init=random;tol=0.001 288389 0.27037388333767154\n",
      "k=17;max_iter=1000;init=random;tol=0.001 288389 0.24759562921790942\n",
      "k=18;max_iter=1000;init=random;tol=0.001 288389 0.2395293305094488\n",
      "k=19;max_iter=1000;init=random;tol=0.001 288389 0.24133054098269355\n",
      "k=20;max_iter=1000;init=random;tol=0.001 288389 0.24380265786387106\n",
      "k=2;max_iter=1000;init=random;tol=0.0001 288389 0.5584187526224931\n",
      "k=3;max_iter=1000;init=random;tol=0.0001 288389 0.5152998454505502\n",
      "k=4;max_iter=1000;init=random;tol=0.0001 288389 0.48290041617512425\n",
      "k=5;max_iter=1000;init=random;tol=0.0001 288389 0.49884956156987714\n",
      "k=6;max_iter=1000;init=random;tol=0.0001 288389 0.46183788541099113\n",
      "k=7;max_iter=1000;init=random;tol=0.0001 288389 0.4891524194144218\n",
      "k=8;max_iter=1000;init=random;tol=0.0001 288389 0.4838737820325937\n",
      "k=9;max_iter=1000;init=random;tol=0.0001 288389 0.4832980944680245\n",
      "k=10;max_iter=1000;init=random;tol=0.0001 288389 0.4840734791077145\n",
      "k=11;max_iter=1000;init=random;tol=0.0001 288389 0.31768884667194763\n",
      "k=12;max_iter=1000;init=random;tol=0.0001 288389 0.30702553194042226\n",
      "k=13;max_iter=1000;init=random;tol=0.0001 288389 0.2713378925583187\n",
      "k=14;max_iter=1000;init=random;tol=0.0001 288389 0.2659767674219479\n",
      "k=15;max_iter=1000;init=random;tol=0.0001 288389 0.2635905265831965\n",
      "k=16;max_iter=1000;init=random;tol=0.0001 288389 0.27037388333767154\n",
      "k=17;max_iter=1000;init=random;tol=0.0001 288389 0.24759562921790942\n",
      "k=18;max_iter=1000;init=random;tol=0.0001 288389 0.2395293305094488\n",
      "k=19;max_iter=1000;init=random;tol=0.0001 288389 0.24133054098269355\n",
      "k=20;max_iter=1000;init=random;tol=0.0001 288389 0.24380265786387106\n",
      "k=2;max_iter=1000;init=random;tol=1e-05 288389 0.5584187526224931\n",
      "k=3;max_iter=1000;init=random;tol=1e-05 288389 0.5152998454505502\n",
      "k=4;max_iter=1000;init=random;tol=1e-05 288389 0.48290041617512425\n",
      "k=5;max_iter=1000;init=random;tol=1e-05 288389 0.49884956156987714\n",
      "k=6;max_iter=1000;init=random;tol=1e-05 288389 0.46183788541099113\n",
      "k=7;max_iter=1000;init=random;tol=1e-05 288389 0.4891524194144218\n",
      "k=8;max_iter=1000;init=random;tol=1e-05 288389 0.4838737820325937\n",
      "k=9;max_iter=1000;init=random;tol=1e-05 288389 0.4832980944680245\n",
      "k=10;max_iter=1000;init=random;tol=1e-05 288389 0.4840734791077145\n",
      "k=11;max_iter=1000;init=random;tol=1e-05 288389 0.31768884667194763\n",
      "k=12;max_iter=1000;init=random;tol=1e-05 288389 0.30702553194042226\n",
      "k=13;max_iter=1000;init=random;tol=1e-05 288389 0.2713378925583187\n",
      "k=14;max_iter=1000;init=random;tol=1e-05 288389 0.2659767674219479\n",
      "k=15;max_iter=1000;init=random;tol=1e-05 288389 0.2635905265831965\n",
      "k=16;max_iter=1000;init=random;tol=1e-05 288389 0.27037388333767154\n",
      "k=17;max_iter=1000;init=random;tol=1e-05 288389 0.24759562921790942\n",
      "k=18;max_iter=1000;init=random;tol=1e-05 288389 0.2395293305094488\n",
      "k=19;max_iter=1000;init=random;tol=1e-05 288389 0.24133054098269355\n",
      "k=20;max_iter=1000;init=random;tol=1e-05 288389 0.24380265786387106\n"
     ]
    },
    {
     "data": {
      "text/html": [
       "<div>\n",
       "<style scoped>\n",
       "    .dataframe tbody tr th:only-of-type {\n",
       "        vertical-align: middle;\n",
       "    }\n",
       "\n",
       "    .dataframe tbody tr th {\n",
       "        vertical-align: top;\n",
       "    }\n",
       "\n",
       "    .dataframe thead th {\n",
       "        text-align: right;\n",
       "    }\n",
       "</style>\n",
       "<table border=\"1\" class=\"dataframe\">\n",
       "  <thead>\n",
       "    <tr style=\"text-align: right;\">\n",
       "      <th></th>\n",
       "      <th>PAM50</th>\n",
       "      <th>Intrinsic</th>\n",
       "      <th>PAM50_AB</th>\n",
       "      <th>SCMOD2</th>\n",
       "      <th>IHC</th>\n",
       "      <th>Luminal</th>\n",
       "      <th>Basal</th>\n",
       "      <th>Her2</th>\n",
       "      <th>LumA</th>\n",
       "      <th>LumB</th>\n",
       "      <th>Normal</th>\n",
       "      <th>Claudin-low</th>\n",
       "      <th>IHC_HER2</th>\n",
       "      <th>IHC_ER</th>\n",
       "      <th>IHC_PR</th>\n",
       "      <th>IHC_TNBC</th>\n",
       "      <th>NET_kmeans</th>\n",
       "      <th>NET_ward</th>\n",
       "      <th>seed</th>\n",
       "      <th>parameters</th>\n",
       "    </tr>\n",
       "  </thead>\n",
       "  <tbody>\n",
       "    <tr>\n",
       "      <th>95</th>\n",
       "      <td>0.577808</td>\n",
       "      <td>0.557845</td>\n",
       "      <td>0.149836</td>\n",
       "      <td>0.154611</td>\n",
       "      <td>0.421438</td>\n",
       "      <td>0.62703</td>\n",
       "      <td>0.765629</td>\n",
       "      <td>0.070804</td>\n",
       "      <td>0.049438</td>\n",
       "      <td>-0.05136</td>\n",
       "      <td>0.0</td>\n",
       "      <td>0.079185</td>\n",
       "      <td>0.0</td>\n",
       "      <td>0.547174</td>\n",
       "      <td>0.375323</td>\n",
       "      <td>0.410084</td>\n",
       "      <td>-0.043854</td>\n",
       "      <td>-0.032562</td>\n",
       "      <td>116739</td>\n",
       "      <td>k=2;max_iter=300;init=k-means++;tol=1e-05</td>\n",
       "    </tr>\n",
       "    <tr>\n",
       "      <th>380</th>\n",
       "      <td>0.577808</td>\n",
       "      <td>0.557845</td>\n",
       "      <td>0.149836</td>\n",
       "      <td>0.154611</td>\n",
       "      <td>0.421438</td>\n",
       "      <td>0.62703</td>\n",
       "      <td>0.765629</td>\n",
       "      <td>0.070804</td>\n",
       "      <td>0.049438</td>\n",
       "      <td>-0.05136</td>\n",
       "      <td>0.0</td>\n",
       "      <td>0.079185</td>\n",
       "      <td>0.0</td>\n",
       "      <td>0.547174</td>\n",
       "      <td>0.375323</td>\n",
       "      <td>0.410084</td>\n",
       "      <td>-0.043854</td>\n",
       "      <td>-0.032562</td>\n",
       "      <td>116739</td>\n",
       "      <td>k=2;max_iter=1000;init=k-means++;tol=1e-05</td>\n",
       "    </tr>\n",
       "    <tr>\n",
       "      <th>342</th>\n",
       "      <td>0.577808</td>\n",
       "      <td>0.557845</td>\n",
       "      <td>0.149836</td>\n",
       "      <td>0.154611</td>\n",
       "      <td>0.421438</td>\n",
       "      <td>0.62703</td>\n",
       "      <td>0.765629</td>\n",
       "      <td>0.070804</td>\n",
       "      <td>0.049438</td>\n",
       "      <td>-0.05136</td>\n",
       "      <td>0.0</td>\n",
       "      <td>0.079185</td>\n",
       "      <td>0.0</td>\n",
       "      <td>0.547174</td>\n",
       "      <td>0.375323</td>\n",
       "      <td>0.410084</td>\n",
       "      <td>-0.043854</td>\n",
       "      <td>-0.032562</td>\n",
       "      <td>116739</td>\n",
       "      <td>k=2;max_iter=1000;init=k-means++;tol=0.001</td>\n",
       "    </tr>\n",
       "    <tr>\n",
       "      <th>76</th>\n",
       "      <td>0.577808</td>\n",
       "      <td>0.557845</td>\n",
       "      <td>0.149836</td>\n",
       "      <td>0.154611</td>\n",
       "      <td>0.421438</td>\n",
       "      <td>0.62703</td>\n",
       "      <td>0.765629</td>\n",
       "      <td>0.070804</td>\n",
       "      <td>0.049438</td>\n",
       "      <td>-0.05136</td>\n",
       "      <td>0.0</td>\n",
       "      <td>0.079185</td>\n",
       "      <td>0.0</td>\n",
       "      <td>0.547174</td>\n",
       "      <td>0.375323</td>\n",
       "      <td>0.410084</td>\n",
       "      <td>-0.043854</td>\n",
       "      <td>-0.032562</td>\n",
       "      <td>116739</td>\n",
       "      <td>k=2;max_iter=300;init=k-means++;tol=0.0001</td>\n",
       "    </tr>\n",
       "    <tr>\n",
       "      <th>57</th>\n",
       "      <td>0.577808</td>\n",
       "      <td>0.557845</td>\n",
       "      <td>0.149836</td>\n",
       "      <td>0.154611</td>\n",
       "      <td>0.421438</td>\n",
       "      <td>0.62703</td>\n",
       "      <td>0.765629</td>\n",
       "      <td>0.070804</td>\n",
       "      <td>0.049438</td>\n",
       "      <td>-0.05136</td>\n",
       "      <td>0.0</td>\n",
       "      <td>0.079185</td>\n",
       "      <td>0.0</td>\n",
       "      <td>0.547174</td>\n",
       "      <td>0.375323</td>\n",
       "      <td>0.410084</td>\n",
       "      <td>-0.043854</td>\n",
       "      <td>-0.032562</td>\n",
       "      <td>116739</td>\n",
       "      <td>k=2;max_iter=300;init=k-means++;tol=0.001</td>\n",
       "    </tr>\n",
       "    <tr>\n",
       "      <th>...</th>\n",
       "      <td>...</td>\n",
       "      <td>...</td>\n",
       "      <td>...</td>\n",
       "      <td>...</td>\n",
       "      <td>...</td>\n",
       "      <td>...</td>\n",
       "      <td>...</td>\n",
       "      <td>...</td>\n",
       "      <td>...</td>\n",
       "      <td>...</td>\n",
       "      <td>...</td>\n",
       "      <td>...</td>\n",
       "      <td>...</td>\n",
       "      <td>...</td>\n",
       "      <td>...</td>\n",
       "      <td>...</td>\n",
       "      <td>...</td>\n",
       "      <td>...</td>\n",
       "      <td>...</td>\n",
       "      <td>...</td>\n",
       "    </tr>\n",
       "    <tr>\n",
       "      <th>147</th>\n",
       "      <td>0.163226</td>\n",
       "      <td>0.161852</td>\n",
       "      <td>0.191018</td>\n",
       "      <td>0.176292</td>\n",
       "      <td>0.115067</td>\n",
       "      <td>0.109247</td>\n",
       "      <td>0.280274</td>\n",
       "      <td>0.326962</td>\n",
       "      <td>0.125868</td>\n",
       "      <td>0.181282</td>\n",
       "      <td>0.152357</td>\n",
       "      <td>0.128921</td>\n",
       "      <td>0.204949</td>\n",
       "      <td>0.126072</td>\n",
       "      <td>0.05887</td>\n",
       "      <td>0.248534</td>\n",
       "      <td>0.150399</td>\n",
       "      <td>0.135788</td>\n",
       "      <td>26225</td>\n",
       "      <td>k=16;max_iter=300;init=k-means++;tol=0.0001</td>\n",
       "    </tr>\n",
       "    <tr>\n",
       "      <th>413</th>\n",
       "      <td>0.163226</td>\n",
       "      <td>0.161852</td>\n",
       "      <td>0.191018</td>\n",
       "      <td>0.176292</td>\n",
       "      <td>0.115067</td>\n",
       "      <td>0.109247</td>\n",
       "      <td>0.280274</td>\n",
       "      <td>0.326962</td>\n",
       "      <td>0.125868</td>\n",
       "      <td>0.181282</td>\n",
       "      <td>0.152357</td>\n",
       "      <td>0.128921</td>\n",
       "      <td>0.204949</td>\n",
       "      <td>0.126072</td>\n",
       "      <td>0.05887</td>\n",
       "      <td>0.248534</td>\n",
       "      <td>0.150399</td>\n",
       "      <td>0.135788</td>\n",
       "      <td>26225</td>\n",
       "      <td>k=16;max_iter=1000;init=k-means++;tol=0.001</td>\n",
       "    </tr>\n",
       "    <tr>\n",
       "      <th>432</th>\n",
       "      <td>0.163226</td>\n",
       "      <td>0.161852</td>\n",
       "      <td>0.191018</td>\n",
       "      <td>0.176292</td>\n",
       "      <td>0.115067</td>\n",
       "      <td>0.109247</td>\n",
       "      <td>0.280274</td>\n",
       "      <td>0.326962</td>\n",
       "      <td>0.125868</td>\n",
       "      <td>0.181282</td>\n",
       "      <td>0.152357</td>\n",
       "      <td>0.128921</td>\n",
       "      <td>0.204949</td>\n",
       "      <td>0.126072</td>\n",
       "      <td>0.05887</td>\n",
       "      <td>0.248534</td>\n",
       "      <td>0.150399</td>\n",
       "      <td>0.135788</td>\n",
       "      <td>26225</td>\n",
       "      <td>k=16;max_iter=1000;init=k-means++;tol=0.0001</td>\n",
       "    </tr>\n",
       "    <tr>\n",
       "      <th>128</th>\n",
       "      <td>0.163226</td>\n",
       "      <td>0.161852</td>\n",
       "      <td>0.191018</td>\n",
       "      <td>0.176292</td>\n",
       "      <td>0.115067</td>\n",
       "      <td>0.109247</td>\n",
       "      <td>0.280274</td>\n",
       "      <td>0.326962</td>\n",
       "      <td>0.125868</td>\n",
       "      <td>0.181282</td>\n",
       "      <td>0.152357</td>\n",
       "      <td>0.128921</td>\n",
       "      <td>0.204949</td>\n",
       "      <td>0.126072</td>\n",
       "      <td>0.05887</td>\n",
       "      <td>0.248534</td>\n",
       "      <td>0.150399</td>\n",
       "      <td>0.135788</td>\n",
       "      <td>26225</td>\n",
       "      <td>k=16;max_iter=300;init=k-means++;tol=0.001</td>\n",
       "    </tr>\n",
       "    <tr>\n",
       "      <th>451</th>\n",
       "      <td>0.163226</td>\n",
       "      <td>0.161852</td>\n",
       "      <td>0.191018</td>\n",
       "      <td>0.176292</td>\n",
       "      <td>0.115067</td>\n",
       "      <td>0.109247</td>\n",
       "      <td>0.280274</td>\n",
       "      <td>0.326962</td>\n",
       "      <td>0.125868</td>\n",
       "      <td>0.181282</td>\n",
       "      <td>0.152357</td>\n",
       "      <td>0.128921</td>\n",
       "      <td>0.204949</td>\n",
       "      <td>0.126072</td>\n",
       "      <td>0.05887</td>\n",
       "      <td>0.248534</td>\n",
       "      <td>0.150399</td>\n",
       "      <td>0.135788</td>\n",
       "      <td>26225</td>\n",
       "      <td>k=16;max_iter=1000;init=k-means++;tol=1e-05</td>\n",
       "    </tr>\n",
       "  </tbody>\n",
       "</table>\n",
       "<p>1140 rows × 20 columns</p>\n",
       "</div>"
      ],
      "text/plain": [
       "        PAM50 Intrinsic  PAM50_AB    SCMOD2       IHC   Luminal     Basal  \\\n",
       "95   0.577808  0.557845  0.149836  0.154611  0.421438   0.62703  0.765629   \n",
       "380  0.577808  0.557845  0.149836  0.154611  0.421438   0.62703  0.765629   \n",
       "342  0.577808  0.557845  0.149836  0.154611  0.421438   0.62703  0.765629   \n",
       "76   0.577808  0.557845  0.149836  0.154611  0.421438   0.62703  0.765629   \n",
       "57   0.577808  0.557845  0.149836  0.154611  0.421438   0.62703  0.765629   \n",
       "..        ...       ...       ...       ...       ...       ...       ...   \n",
       "147  0.163226  0.161852  0.191018  0.176292  0.115067  0.109247  0.280274   \n",
       "413  0.163226  0.161852  0.191018  0.176292  0.115067  0.109247  0.280274   \n",
       "432  0.163226  0.161852  0.191018  0.176292  0.115067  0.109247  0.280274   \n",
       "128  0.163226  0.161852  0.191018  0.176292  0.115067  0.109247  0.280274   \n",
       "451  0.163226  0.161852  0.191018  0.176292  0.115067  0.109247  0.280274   \n",
       "\n",
       "         Her2      LumA      LumB    Normal Claudin-low  IHC_HER2    IHC_ER  \\\n",
       "95   0.070804  0.049438  -0.05136       0.0    0.079185       0.0  0.547174   \n",
       "380  0.070804  0.049438  -0.05136       0.0    0.079185       0.0  0.547174   \n",
       "342  0.070804  0.049438  -0.05136       0.0    0.079185       0.0  0.547174   \n",
       "76   0.070804  0.049438  -0.05136       0.0    0.079185       0.0  0.547174   \n",
       "57   0.070804  0.049438  -0.05136       0.0    0.079185       0.0  0.547174   \n",
       "..        ...       ...       ...       ...         ...       ...       ...   \n",
       "147  0.326962  0.125868  0.181282  0.152357    0.128921  0.204949  0.126072   \n",
       "413  0.326962  0.125868  0.181282  0.152357    0.128921  0.204949  0.126072   \n",
       "432  0.326962  0.125868  0.181282  0.152357    0.128921  0.204949  0.126072   \n",
       "128  0.326962  0.125868  0.181282  0.152357    0.128921  0.204949  0.126072   \n",
       "451  0.326962  0.125868  0.181282  0.152357    0.128921  0.204949  0.126072   \n",
       "\n",
       "       IHC_PR  IHC_TNBC NET_kmeans  NET_ward    seed  \\\n",
       "95   0.375323  0.410084  -0.043854 -0.032562  116739   \n",
       "380  0.375323  0.410084  -0.043854 -0.032562  116739   \n",
       "342  0.375323  0.410084  -0.043854 -0.032562  116739   \n",
       "76   0.375323  0.410084  -0.043854 -0.032562  116739   \n",
       "57   0.375323  0.410084  -0.043854 -0.032562  116739   \n",
       "..        ...       ...        ...       ...     ...   \n",
       "147   0.05887  0.248534   0.150399  0.135788   26225   \n",
       "413   0.05887  0.248534   0.150399  0.135788   26225   \n",
       "432   0.05887  0.248534   0.150399  0.135788   26225   \n",
       "128   0.05887  0.248534   0.150399  0.135788   26225   \n",
       "451   0.05887  0.248534   0.150399  0.135788   26225   \n",
       "\n",
       "                                       parameters  \n",
       "95      k=2;max_iter=300;init=k-means++;tol=1e-05  \n",
       "380    k=2;max_iter=1000;init=k-means++;tol=1e-05  \n",
       "342    k=2;max_iter=1000;init=k-means++;tol=0.001  \n",
       "76     k=2;max_iter=300;init=k-means++;tol=0.0001  \n",
       "57      k=2;max_iter=300;init=k-means++;tol=0.001  \n",
       "..                                            ...  \n",
       "147   k=16;max_iter=300;init=k-means++;tol=0.0001  \n",
       "413   k=16;max_iter=1000;init=k-means++;tol=0.001  \n",
       "432  k=16;max_iter=1000;init=k-means++;tol=0.0001  \n",
       "128    k=16;max_iter=300;init=k-means++;tol=0.001  \n",
       "451   k=16;max_iter=1000;init=k-means++;tol=1e-05  \n",
       "\n",
       "[1140 rows x 20 columns]"
      ]
     },
     "execution_count": 26,
     "metadata": {},
     "output_type": "execute_result"
    }
   ],
   "source": [
    "stats = {}\n",
    "i=0\n",
    "\n",
    "method = \"kmeans\"\n",
    "if not os.path.exists(basedir+\"/\"+method+\"/\"):\n",
    "    os.mkdir(basedir+\"/\"+method+\"/\")\n",
    "    \n",
    "for init in inits:\n",
    "    for n_iters in max_iters:\n",
    "        for seed in seeds:\n",
    "            for tol in tols:\n",
    "                for k in ks:\n",
    "                    params = \"k=\"+str(k)+\";max_iter=\"+str(n_iters)+\";init=\"+str(init)+\";tol=\"+str(tol)\n",
    "                    labels = KMeans(n_clusters=k,  init=init, \n",
    "                           n_init=10, max_iter=n_iters, \n",
    "                           tol=tol,\n",
    "                           random_state=seed,\n",
    "                           algorithm='lloyd').fit_predict(exprs.T)\n",
    "                    clusters = labels_to_clsuters(labels,  exprs.columns)\n",
    "                    clusters = clusters.loc[clusters[\"n_samples\"]>=5,:]\n",
    "                    performances, best_matches = calculate_perfromance(clusters, known_groups,all_samples,\n",
    "                                                                      performance_measure = \"ARI\")\n",
    "                    stats[i] = performances.to_dict()\n",
    "                    stats[i][\"seed\"]=seed\n",
    "                    stats[i][\"parameters\"]=params\n",
    "                    print(params,seed,stats[i][\"PAM50\"])\n",
    "                    # saving clusters \n",
    "                    clusters[\"samples\"] = clusters[\"samples\"].apply(lambda row: \" \".join(sorted(row)))\n",
    "                    clusters = clusters.loc[:,[\"n_samples\",\"samples\"]] \n",
    "                    clusters.to_csv(basedir+\"/\"+method+\"/\"+dataset+\".\"+method+\".\"+params+\".seed=\"+str(seed)+\".clusters.tsv\",sep=\"\\t\")\n",
    "                    i+=1\n",
    "stats = pd.DataFrame.from_dict(stats).T\n",
    "# saving performances\n",
    "stats.to_csv(basedir +\"/\"+method+\"_\"+dataset+\".tsv\",sep=\"\\t\")\n",
    "stats.sort_values(by = \"PAM50\",ascending=False)"
   ]
  },
  {
   "cell_type": "code",
   "execution_count": null,
   "id": "global-dress",
   "metadata": {},
   "outputs": [],
   "source": []
  },
  {
   "cell_type": "markdown",
   "id": "duplicate-mentor",
   "metadata": {},
   "source": [
    "# GMM"
   ]
  },
  {
   "cell_type": "code",
   "execution_count": 1,
   "id": "deadly-rwanda",
   "metadata": {},
   "outputs": [
    {
     "data": {
      "text/plain": [
       "456"
      ]
     },
     "execution_count": 1,
     "metadata": {},
     "output_type": "execute_result"
    }
   ],
   "source": [
    "from sklearn.mixture import GaussianMixture\n",
    "\n",
    "#init_params = ['kmeans','k-means++','random','random_from_data']\n",
    "covariance_types = [\"full\", \"spherical\"]\n",
    "n_inits = [1,10]\n",
    "tols = [1e-3,1e-4,1e-5]\n",
    "max_iters=[100,1000]\n",
    "ks = list(range(2,21))\n",
    "len(ks)*len(max_iters)*len(tols)*len(n_inits)*len(covariance_types)"
   ]
  },
  {
   "cell_type": "code",
   "execution_count": null,
   "id": "protecting-silicon",
   "metadata": {},
   "outputs": [],
   "source": [
    "stats = {}\n",
    "i=0\n",
    "\n",
    "method = \"GMM\"\n",
    "if not os.path.exists(basedir+\"/\"+method+\"/\"):\n",
    "    os.mkdir(basedir+\"/\"+method+\"/\")\n",
    "    \n",
    "for k in ks:\n",
    "    for max_iter in max_iters:\n",
    "        for tol in tols:\n",
    "            for n_init in n_inits:\n",
    "                for cov_type in covariance_types:\n",
    "                    for seed in seeds:\n",
    "                        params = \"k=\"+str(k)+\";max_iter=\"+str(max_iter)+\";tol=\"+str(tol)\n",
    "                        params += \";n_inits=\"+str(n_init)+\";cov_type=\"+str(cov_type)\n",
    "                        labels = GaussianMixture(n_components=k, \n",
    "                                        covariance_type=cov_type, \n",
    "                                        tol=tol, \n",
    "                                        max_iter=max_iter, \n",
    "                                        n_init=n_init, \n",
    "                                        #init_params='kmeans', \n",
    "                                        random_state=seed).fit_predict(exprs.T)\n",
    "                        clusters = labels_to_clsuters(labels,  exprs.columns)\n",
    "                        clusters = clusters.loc[clusters[\"n_samples\"]>=5,:]\n",
    "                        performances, best_matches = calculate_perfromance(clusters, known_groups,all_samples,\n",
    "                                                                          performance_measure = \"ARI\")\n",
    "                        stats[i] = performances.to_dict()\n",
    "                        stats[i][\"seed\"]=seed\n",
    "                        stats[i][\"parameters\"]=params\n",
    "                        print(params,seed,stats[i][\"PAM50\"])\n",
    "                        # saving clusters \n",
    "                        clusters[\"samples\"] = clusters[\"samples\"].apply(lambda row: \" \".join(sorted(row)))\n",
    "                        clusters = clusters.loc[:,[\"n_samples\",\"samples\"]] \n",
    "                        clusters.to_csv(basedir+\"/\"+method+\"/\"+dataset+\".\"+method+\".\"+params+\".seed=\"+str(seed)+\".clusters.tsv\",sep=\"\\t\")\n",
    "                        i+=1\n",
    "stats = pd.DataFrame.from_dict(stats).T\n",
    "# saving performances\n",
    "stats.to_csv(basedir +\"/\"+method+\"_\"+dataset+\".tsv\",sep=\"\\t\")\n",
    "stats.sort_values(by = \"PAM50\",ascending=False)"
   ]
  },
  {
   "cell_type": "code",
   "execution_count": null,
   "id": "unexpected-procedure",
   "metadata": {},
   "outputs": [],
   "source": []
  },
  {
   "cell_type": "markdown",
   "id": "demanding-baking",
   "metadata": {},
   "source": [
    "# DBSCAN"
   ]
  },
  {
   "cell_type": "code",
   "execution_count": 21,
   "id": "metropolitan-norman",
   "metadata": {},
   "outputs": [],
   "source": [
    "from sklearn.cluster import DBSCAN"
   ]
  },
  {
   "cell_type": "code",
   "execution_count": 22,
   "id": "northern-creativity",
   "metadata": {},
   "outputs": [
    {
     "data": {
      "text/plain": [
       "100"
      ]
     },
     "execution_count": 22,
     "metadata": {},
     "output_type": "execute_result"
    }
   ],
   "source": [
    "epsilons = [0.1,0.5,1,2,5] + list(np.arange(10,210,10))\n",
    "min_samples = [3,5,10,20]\n",
    "len(epsilons) * len(min_samples)"
   ]
  },
  {
   "cell_type": "code",
   "execution_count": 23,
   "id": "ultimate-webster",
   "metadata": {
    "scrolled": true
   },
   "outputs": [
    {
     "name": "stdout",
     "output_type": "stream",
     "text": [
      "eps=0.1;min_samples=3 0.0\n",
      "eps=0.1;min_samples=5 0.0\n",
      "eps=0.1;min_samples=10 0.0\n",
      "eps=0.1;min_samples=20 0.0\n",
      "eps=0.5;min_samples=3 0.0\n",
      "eps=0.5;min_samples=5 0.0\n",
      "eps=0.5;min_samples=10 0.0\n",
      "eps=0.5;min_samples=20 0.0\n",
      "eps=1;min_samples=3 0.0\n",
      "eps=1;min_samples=5 0.0\n",
      "eps=1;min_samples=10 0.0\n",
      "eps=1;min_samples=20 0.0\n",
      "eps=2;min_samples=3 0.0\n",
      "eps=2;min_samples=5 0.0\n",
      "eps=2;min_samples=10 0.0\n",
      "eps=2;min_samples=20 0.0\n",
      "eps=5;min_samples=3 0.0\n",
      "eps=5;min_samples=5 0.0\n",
      "eps=5;min_samples=10 0.0\n",
      "eps=5;min_samples=20 0.0\n",
      "eps=10;min_samples=3 0.0\n",
      "eps=10;min_samples=5 0.0\n",
      "eps=10;min_samples=10 0.0\n",
      "eps=10;min_samples=20 0.0\n",
      "eps=20;min_samples=3 0.0\n",
      "eps=20;min_samples=5 0.0\n",
      "eps=20;min_samples=10 0.0\n",
      "eps=20;min_samples=20 0.0\n",
      "eps=30;min_samples=3 0.0\n",
      "eps=30;min_samples=5 0.0\n",
      "eps=30;min_samples=10 0.0\n",
      "eps=30;min_samples=20 0.0\n",
      "eps=40;min_samples=3 0.0\n",
      "eps=40;min_samples=5 0.0\n",
      "eps=40;min_samples=10 0.0\n",
      "eps=40;min_samples=20 0.0\n",
      "eps=50;min_samples=3 0.0\n",
      "eps=50;min_samples=5 0.0\n",
      "eps=50;min_samples=10 0.0\n",
      "eps=50;min_samples=20 0.0\n",
      "eps=60;min_samples=3 0.0\n",
      "eps=60;min_samples=5 0.0\n",
      "eps=60;min_samples=10 0.0\n",
      "eps=60;min_samples=20 0.0\n",
      "eps=70;min_samples=3 0.0\n",
      "eps=70;min_samples=5 0.0\n",
      "eps=70;min_samples=10 0.0\n",
      "eps=70;min_samples=20 0.0\n",
      "eps=80;min_samples=3 0.0\n",
      "eps=80;min_samples=5 0.0\n",
      "eps=80;min_samples=10 0.0\n",
      "eps=80;min_samples=20 0.0\n",
      "eps=90;min_samples=3 -0.0014540612290555918\n",
      "eps=90;min_samples=5 0.0\n",
      "eps=90;min_samples=10 0.0\n",
      "eps=90;min_samples=20 0.0\n",
      "eps=100;min_samples=3 -0.05902368880724104\n",
      "eps=100;min_samples=5 -0.055639103385213266\n",
      "eps=100;min_samples=10 -0.053316761649837396\n",
      "eps=100;min_samples=20 -0.05108437517654714\n",
      "eps=110;min_samples=3 -0.04732642244863494\n",
      "eps=110;min_samples=5 -0.048447272196074934\n",
      "eps=110;min_samples=10 -0.05428484254121407\n",
      "eps=110;min_samples=20 -0.058241919366224804\n",
      "eps=120;min_samples=3 0.022842324022260843\n",
      "eps=120;min_samples=5 0.017505438844741324\n",
      "eps=120;min_samples=10 0.01520517928196204\n",
      "eps=120;min_samples=20 0.013644512377232177\n",
      "eps=130;min_samples=3 0.13815975195592878\n",
      "eps=130;min_samples=5 0.13665018044740124\n",
      "eps=130;min_samples=10 0.1333318352203648\n",
      "eps=130;min_samples=20 0.12655522058925833\n",
      "eps=140;min_samples=3 0.1927700119997347\n",
      "eps=140;min_samples=5 0.18717996807161066\n",
      "eps=140;min_samples=10 0.1956602562335668\n",
      "eps=140;min_samples=20 0.21726307599756828\n",
      "eps=150;min_samples=3 0.20805571912551624\n",
      "eps=150;min_samples=5 0.20012443822429135\n",
      "eps=150;min_samples=10 0.19769864718327992\n",
      "eps=150;min_samples=20 0.1968369015592764\n",
      "eps=160;min_samples=3 0.1394946726089521\n",
      "eps=160;min_samples=5 0.1394946726089521\n",
      "eps=160;min_samples=10 0.13767410560655155\n",
      "eps=160;min_samples=20 0.13767410560655155\n",
      "eps=170;min_samples=3 0.10079833120228959\n",
      "eps=170;min_samples=5 0.10340839148058537\n",
      "eps=170;min_samples=10 0.10465996743818018\n",
      "eps=170;min_samples=20 0.10590029447963405\n",
      "eps=180;min_samples=3 0.053820459719196995\n",
      "eps=180;min_samples=5 0.053820459719196995\n",
      "eps=180;min_samples=10 0.05909981481467707\n",
      "eps=180;min_samples=20 0.05909981481467707\n",
      "eps=190;min_samples=3 0.03436975305289288\n",
      "eps=190;min_samples=5 0.03436975305289288\n",
      "eps=190;min_samples=10 0.03436975305289288\n",
      "eps=190;min_samples=20 0.03707735899152372\n",
      "eps=200;min_samples=3 0.00235646018430768\n",
      "eps=200;min_samples=5 0.00235646018430768\n",
      "eps=200;min_samples=10 0.00235646018430768\n",
      "eps=200;min_samples=20 0.00235646018430768\n"
     ]
    },
    {
     "data": {
      "text/html": [
       "<div>\n",
       "<style scoped>\n",
       "    .dataframe tbody tr th:only-of-type {\n",
       "        vertical-align: middle;\n",
       "    }\n",
       "\n",
       "    .dataframe tbody tr th {\n",
       "        vertical-align: top;\n",
       "    }\n",
       "\n",
       "    .dataframe thead th {\n",
       "        text-align: right;\n",
       "    }\n",
       "</style>\n",
       "<table border=\"1\" class=\"dataframe\">\n",
       "  <thead>\n",
       "    <tr style=\"text-align: right;\">\n",
       "      <th></th>\n",
       "      <th>PAM50</th>\n",
       "      <th>Intrinsic</th>\n",
       "      <th>PAM50_AB</th>\n",
       "      <th>SCMOD2</th>\n",
       "      <th>IHC</th>\n",
       "      <th>Luminal</th>\n",
       "      <th>Basal</th>\n",
       "      <th>Her2</th>\n",
       "      <th>LumA</th>\n",
       "      <th>LumB</th>\n",
       "      <th>Normal</th>\n",
       "      <th>Claudin-low</th>\n",
       "      <th>IHC_HER2</th>\n",
       "      <th>IHC_ER</th>\n",
       "      <th>IHC_PR</th>\n",
       "      <th>IHC_TNBC</th>\n",
       "      <th>NET_kmeans</th>\n",
       "      <th>NET_ward</th>\n",
       "      <th>parameters</th>\n",
       "    </tr>\n",
       "  </thead>\n",
       "  <tbody>\n",
       "    <tr>\n",
       "      <th>75</th>\n",
       "      <td>0.217263</td>\n",
       "      <td>0.208565</td>\n",
       "      <td>0.088068</td>\n",
       "      <td>0.065293</td>\n",
       "      <td>0.191332</td>\n",
       "      <td>0.237341</td>\n",
       "      <td>0.277705</td>\n",
       "      <td>0.03419</td>\n",
       "      <td>0.087278</td>\n",
       "      <td>0.0</td>\n",
       "      <td>0.0</td>\n",
       "      <td>0.0</td>\n",
       "      <td>0.0</td>\n",
       "      <td>0.22075</td>\n",
       "      <td>0.210752</td>\n",
       "      <td>0.137233</td>\n",
       "      <td>0.03596</td>\n",
       "      <td>0.026728</td>\n",
       "      <td>eps=140;min_samples=20</td>\n",
       "    </tr>\n",
       "    <tr>\n",
       "      <th>76</th>\n",
       "      <td>0.208056</td>\n",
       "      <td>0.199726</td>\n",
       "      <td>0.063817</td>\n",
       "      <td>0.037913</td>\n",
       "      <td>0.162408</td>\n",
       "      <td>0.212049</td>\n",
       "      <td>0.342193</td>\n",
       "      <td>0.0</td>\n",
       "      <td>0.005003</td>\n",
       "      <td>0.0</td>\n",
       "      <td>0.0</td>\n",
       "      <td>0.0</td>\n",
       "      <td>0.0</td>\n",
       "      <td>0.199343</td>\n",
       "      <td>0.151218</td>\n",
       "      <td>0.198001</td>\n",
       "      <td>0.055248</td>\n",
       "      <td>0.042462</td>\n",
       "      <td>eps=150;min_samples=3</td>\n",
       "    </tr>\n",
       "    <tr>\n",
       "      <th>77</th>\n",
       "      <td>0.200124</td>\n",
       "      <td>0.192112</td>\n",
       "      <td>0.054538</td>\n",
       "      <td>0.035653</td>\n",
       "      <td>0.155291</td>\n",
       "      <td>0.203481</td>\n",
       "      <td>0.330998</td>\n",
       "      <td>0.0</td>\n",
       "      <td>-0.013375</td>\n",
       "      <td>0.0</td>\n",
       "      <td>0.0</td>\n",
       "      <td>0.0</td>\n",
       "      <td>0.0</td>\n",
       "      <td>0.191018</td>\n",
       "      <td>0.143991</td>\n",
       "      <td>0.190061</td>\n",
       "      <td>0.051975</td>\n",
       "      <td>0.039981</td>\n",
       "      <td>eps=150;min_samples=5</td>\n",
       "    </tr>\n",
       "    <tr>\n",
       "      <th>78</th>\n",
       "      <td>0.197699</td>\n",
       "      <td>0.189784</td>\n",
       "      <td>0.054708</td>\n",
       "      <td>0.035919</td>\n",
       "      <td>0.153987</td>\n",
       "      <td>0.200696</td>\n",
       "      <td>0.328201</td>\n",
       "      <td>0.0</td>\n",
       "      <td>-0.011666</td>\n",
       "      <td>0.0</td>\n",
       "      <td>0.0</td>\n",
       "      <td>0.0</td>\n",
       "      <td>0.0</td>\n",
       "      <td>0.188593</td>\n",
       "      <td>0.144505</td>\n",
       "      <td>0.183909</td>\n",
       "      <td>0.04947</td>\n",
       "      <td>0.0</td>\n",
       "      <td>eps=150;min_samples=10</td>\n",
       "    </tr>\n",
       "    <tr>\n",
       "      <th>79</th>\n",
       "      <td>0.196837</td>\n",
       "      <td>0.188956</td>\n",
       "      <td>0.055133</td>\n",
       "      <td>0.04163</td>\n",
       "      <td>0.154507</td>\n",
       "      <td>0.199604</td>\n",
       "      <td>0.3276</td>\n",
       "      <td>0.0</td>\n",
       "      <td>-0.010314</td>\n",
       "      <td>0.0</td>\n",
       "      <td>0.0</td>\n",
       "      <td>0.0</td>\n",
       "      <td>0.0</td>\n",
       "      <td>0.187807</td>\n",
       "      <td>0.146445</td>\n",
       "      <td>0.18568</td>\n",
       "      <td>0.047656</td>\n",
       "      <td>0.0</td>\n",
       "      <td>eps=150;min_samples=20</td>\n",
       "    </tr>\n",
       "    <tr>\n",
       "      <th>...</th>\n",
       "      <td>...</td>\n",
       "      <td>...</td>\n",
       "      <td>...</td>\n",
       "      <td>...</td>\n",
       "      <td>...</td>\n",
       "      <td>...</td>\n",
       "      <td>...</td>\n",
       "      <td>...</td>\n",
       "      <td>...</td>\n",
       "      <td>...</td>\n",
       "      <td>...</td>\n",
       "      <td>...</td>\n",
       "      <td>...</td>\n",
       "      <td>...</td>\n",
       "      <td>...</td>\n",
       "      <td>...</td>\n",
       "      <td>...</td>\n",
       "      <td>...</td>\n",
       "      <td>...</td>\n",
       "    </tr>\n",
       "    <tr>\n",
       "      <th>58</th>\n",
       "      <td>-0.053317</td>\n",
       "      <td>-0.051182</td>\n",
       "      <td>-0.003389</td>\n",
       "      <td>0.020198</td>\n",
       "      <td>-0.052856</td>\n",
       "      <td>-0.046396</td>\n",
       "      <td>-0.089214</td>\n",
       "      <td>-0.081512</td>\n",
       "      <td>0.092455</td>\n",
       "      <td>-0.062997</td>\n",
       "      <td>0.099691</td>\n",
       "      <td>0.0</td>\n",
       "      <td>-0.058883</td>\n",
       "      <td>-0.066855</td>\n",
       "      <td>-0.031436</td>\n",
       "      <td>-0.075279</td>\n",
       "      <td>-0.055336</td>\n",
       "      <td>0.0</td>\n",
       "      <td>eps=100;min_samples=10</td>\n",
       "    </tr>\n",
       "    <tr>\n",
       "      <th>62</th>\n",
       "      <td>-0.054285</td>\n",
       "      <td>-0.052112</td>\n",
       "      <td>0.06502</td>\n",
       "      <td>0.084589</td>\n",
       "      <td>-0.040375</td>\n",
       "      <td>-0.043206</td>\n",
       "      <td>-0.097009</td>\n",
       "      <td>-0.084153</td>\n",
       "      <td>0.264416</td>\n",
       "      <td>-0.050493</td>\n",
       "      <td>0.049298</td>\n",
       "      <td>0.0</td>\n",
       "      <td>-0.057974</td>\n",
       "      <td>-0.058092</td>\n",
       "      <td>-0.008451</td>\n",
       "      <td>-0.083541</td>\n",
       "      <td>-0.048148</td>\n",
       "      <td>-0.032516</td>\n",
       "      <td>eps=110;min_samples=10</td>\n",
       "    </tr>\n",
       "    <tr>\n",
       "      <th>57</th>\n",
       "      <td>-0.055639</td>\n",
       "      <td>-0.053412</td>\n",
       "      <td>0.004273</td>\n",
       "      <td>0.028652</td>\n",
       "      <td>-0.043864</td>\n",
       "      <td>-0.048419</td>\n",
       "      <td>-0.093199</td>\n",
       "      <td>-0.084288</td>\n",
       "      <td>0.116604</td>\n",
       "      <td>-0.066203</td>\n",
       "      <td>0.102078</td>\n",
       "      <td>0.0</td>\n",
       "      <td>-0.058267</td>\n",
       "      <td>-0.068266</td>\n",
       "      <td>-0.006357</td>\n",
       "      <td>-0.078622</td>\n",
       "      <td>-0.056288</td>\n",
       "      <td>0.0</td>\n",
       "      <td>eps=100;min_samples=5</td>\n",
       "    </tr>\n",
       "    <tr>\n",
       "      <th>63</th>\n",
       "      <td>-0.058242</td>\n",
       "      <td>-0.05591</td>\n",
       "      <td>0.0639</td>\n",
       "      <td>0.078591</td>\n",
       "      <td>-0.044113</td>\n",
       "      <td>-0.047235</td>\n",
       "      <td>-0.099847</td>\n",
       "      <td>-0.089081</td>\n",
       "      <td>0.267583</td>\n",
       "      <td>-0.054533</td>\n",
       "      <td>0.043456</td>\n",
       "      <td>0.0</td>\n",
       "      <td>-0.065071</td>\n",
       "      <td>-0.062175</td>\n",
       "      <td>-0.011403</td>\n",
       "      <td>-0.08496</td>\n",
       "      <td>-0.048986</td>\n",
       "      <td>-0.033025</td>\n",
       "      <td>eps=110;min_samples=20</td>\n",
       "    </tr>\n",
       "    <tr>\n",
       "      <th>56</th>\n",
       "      <td>-0.059024</td>\n",
       "      <td>-0.056661</td>\n",
       "      <td>0.006552</td>\n",
       "      <td>0.034459</td>\n",
       "      <td>-0.054079</td>\n",
       "      <td>-0.051544</td>\n",
       "      <td>-0.098031</td>\n",
       "      <td>-0.087537</td>\n",
       "      <td>0.128237</td>\n",
       "      <td>-0.069879</td>\n",
       "      <td>0.101021</td>\n",
       "      <td>0.0</td>\n",
       "      <td>-0.064158</td>\n",
       "      <td>-0.067586</td>\n",
       "      <td>-0.031955</td>\n",
       "      <td>-0.078479</td>\n",
       "      <td>-0.057263</td>\n",
       "      <td>0.0</td>\n",
       "      <td>eps=100;min_samples=3</td>\n",
       "    </tr>\n",
       "  </tbody>\n",
       "</table>\n",
       "<p>100 rows × 19 columns</p>\n",
       "</div>"
      ],
      "text/plain": [
       "       PAM50 Intrinsic  PAM50_AB    SCMOD2       IHC   Luminal     Basal  \\\n",
       "75  0.217263  0.208565  0.088068  0.065293  0.191332  0.237341  0.277705   \n",
       "76  0.208056  0.199726  0.063817  0.037913  0.162408  0.212049  0.342193   \n",
       "77  0.200124  0.192112  0.054538  0.035653  0.155291  0.203481  0.330998   \n",
       "78  0.197699  0.189784  0.054708  0.035919  0.153987  0.200696  0.328201   \n",
       "79  0.196837  0.188956  0.055133   0.04163  0.154507  0.199604    0.3276   \n",
       "..       ...       ...       ...       ...       ...       ...       ...   \n",
       "58 -0.053317 -0.051182 -0.003389  0.020198 -0.052856 -0.046396 -0.089214   \n",
       "62 -0.054285 -0.052112   0.06502  0.084589 -0.040375 -0.043206 -0.097009   \n",
       "57 -0.055639 -0.053412  0.004273  0.028652 -0.043864 -0.048419 -0.093199   \n",
       "63 -0.058242  -0.05591    0.0639  0.078591 -0.044113 -0.047235 -0.099847   \n",
       "56 -0.059024 -0.056661  0.006552  0.034459 -0.054079 -0.051544 -0.098031   \n",
       "\n",
       "        Her2      LumA      LumB    Normal Claudin-low  IHC_HER2    IHC_ER  \\\n",
       "75   0.03419  0.087278       0.0       0.0         0.0       0.0   0.22075   \n",
       "76       0.0  0.005003       0.0       0.0         0.0       0.0  0.199343   \n",
       "77       0.0 -0.013375       0.0       0.0         0.0       0.0  0.191018   \n",
       "78       0.0 -0.011666       0.0       0.0         0.0       0.0  0.188593   \n",
       "79       0.0 -0.010314       0.0       0.0         0.0       0.0  0.187807   \n",
       "..       ...       ...       ...       ...         ...       ...       ...   \n",
       "58 -0.081512  0.092455 -0.062997  0.099691         0.0 -0.058883 -0.066855   \n",
       "62 -0.084153  0.264416 -0.050493  0.049298         0.0 -0.057974 -0.058092   \n",
       "57 -0.084288  0.116604 -0.066203  0.102078         0.0 -0.058267 -0.068266   \n",
       "63 -0.089081  0.267583 -0.054533  0.043456         0.0 -0.065071 -0.062175   \n",
       "56 -0.087537  0.128237 -0.069879  0.101021         0.0 -0.064158 -0.067586   \n",
       "\n",
       "      IHC_PR  IHC_TNBC NET_kmeans  NET_ward              parameters  \n",
       "75  0.210752  0.137233    0.03596  0.026728  eps=140;min_samples=20  \n",
       "76  0.151218  0.198001   0.055248  0.042462   eps=150;min_samples=3  \n",
       "77  0.143991  0.190061   0.051975  0.039981   eps=150;min_samples=5  \n",
       "78  0.144505  0.183909    0.04947       0.0  eps=150;min_samples=10  \n",
       "79  0.146445   0.18568   0.047656       0.0  eps=150;min_samples=20  \n",
       "..       ...       ...        ...       ...                     ...  \n",
       "58 -0.031436 -0.075279  -0.055336       0.0  eps=100;min_samples=10  \n",
       "62 -0.008451 -0.083541  -0.048148 -0.032516  eps=110;min_samples=10  \n",
       "57 -0.006357 -0.078622  -0.056288       0.0   eps=100;min_samples=5  \n",
       "63 -0.011403  -0.08496  -0.048986 -0.033025  eps=110;min_samples=20  \n",
       "56 -0.031955 -0.078479  -0.057263       0.0   eps=100;min_samples=3  \n",
       "\n",
       "[100 rows x 19 columns]"
      ]
     },
     "execution_count": 23,
     "metadata": {},
     "output_type": "execute_result"
    }
   ],
   "source": [
    "stats = {}\n",
    "i=0\n",
    "method = \"DBSCAN\"\n",
    "if not os.path.exists(basedir+\"/\"+method+\"/\"):\n",
    "    os.mkdir(basedir+\"/\"+method+\"/\")\n",
    "\n",
    "for eps in epsilons:\n",
    "    for min_s in min_samples:\n",
    "        labels = DBSCAN(eps=eps, min_samples=min_s).fit_predict(exprs.T)\n",
    "        params = \"eps=\"+str(eps)+\";min_samples=\"+str(min_s)\n",
    "        clusters = labels_to_clsuters(labels,  exprs.columns)\n",
    "        clusters = clusters.loc[clusters[\"n_samples\"]>=5,:]\n",
    "        performances, best_matches = calculate_perfromance(clusters, known_groups,all_samples,\n",
    "                                                          performance_measure = \"ARI\")\n",
    "        stats[i] = performances.to_dict()\n",
    "        stats[i][\"parameters\"]=params\n",
    "        print(params,stats[i][\"PAM50\"])\n",
    "        # saving clusters \n",
    "        clusters[\"samples\"] = clusters[\"samples\"].apply(lambda row: \" \".join(sorted(row)))\n",
    "        clusters = clusters.loc[:,[\"n_samples\",\"samples\"]] \n",
    "        clusters.to_csv(basedir+\"/\"+method+\"/\"+dataset+\".\"+method+\".\"+params+\".clusters.tsv\",sep=\"\\t\")\n",
    "        i+=1\n",
    "stats = pd.DataFrame.from_dict(stats).T\n",
    "# saving performances\n",
    "stats.to_csv(basedir +\"/\"+method+\"_\"+dataset+\".tsv\",sep=\"\\t\")\n",
    "stats.sort_values(by = \"PAM50\",ascending=False)"
   ]
  },
  {
   "cell_type": "markdown",
   "id": "serious-section",
   "metadata": {},
   "source": [
    "# HDBSCAN"
   ]
  },
  {
   "cell_type": "code",
   "execution_count": 43,
   "id": "chicken-champion",
   "metadata": {},
   "outputs": [
    {
     "ename": "ImportError",
     "evalue": "cannot import name 'HDBSCAN' from 'sklearn.cluster' (/home/olya/anaconda3/lib/python3.8/site-packages/sklearn/cluster/__init__.py)",
     "output_type": "error",
     "traceback": [
      "\u001b[0;31m---------------------------------------------------------------------------\u001b[0m",
      "\u001b[0;31mImportError\u001b[0m                               Traceback (most recent call last)",
      "\u001b[0;32m<ipython-input-43-3359491e4cd4>\u001b[0m in \u001b[0;36m<module>\u001b[0;34m\u001b[0m\n\u001b[0;32m----> 1\u001b[0;31m \u001b[0;32mfrom\u001b[0m \u001b[0msklearn\u001b[0m\u001b[0;34m.\u001b[0m\u001b[0mcluster\u001b[0m \u001b[0;32mimport\u001b[0m \u001b[0mHDBSCAN\u001b[0m\u001b[0;34m\u001b[0m\u001b[0;34m\u001b[0m\u001b[0m\n\u001b[0m\u001b[1;32m      2\u001b[0m \u001b[0;34m\u001b[0m\u001b[0m\n\u001b[1;32m      3\u001b[0m \u001b[0mmin_samples\u001b[0m \u001b[0;34m=\u001b[0m \u001b[0;34m[\u001b[0m\u001b[0;36m5\u001b[0m\u001b[0;34m]\u001b[0m\u001b[0;31m#[3,5,10,20]\u001b[0m\u001b[0;34m\u001b[0m\u001b[0;34m\u001b[0m\u001b[0m\n\u001b[1;32m      4\u001b[0m \u001b[0mcluster_selection_epsilon\u001b[0m \u001b[0;34m=\u001b[0m \u001b[0;34m[\u001b[0m\u001b[0;36m0.0\u001b[0m\u001b[0;34m,\u001b[0m\u001b[0;36m150\u001b[0m\u001b[0;34m]\u001b[0m\u001b[0;34m\u001b[0m\u001b[0;34m\u001b[0m\u001b[0m\n\u001b[1;32m      5\u001b[0m \u001b[0malphas\u001b[0m \u001b[0;34m=\u001b[0m \u001b[0;34m[\u001b[0m\u001b[0;36m1.0\u001b[0m\u001b[0;34m]\u001b[0m\u001b[0;31m#[1.0,0.5,1.5]\u001b[0m\u001b[0;34m\u001b[0m\u001b[0;34m\u001b[0m\u001b[0m\n",
      "\u001b[0;31mImportError\u001b[0m: cannot import name 'HDBSCAN' from 'sklearn.cluster' (/home/olya/anaconda3/lib/python3.8/site-packages/sklearn/cluster/__init__.py)"
     ]
    }
   ],
   "source": [
    "from sklearn.cluster import HDBSCAN\n",
    "\n",
    "min_samples = [5]#[3,5,10,20]\n",
    "cluster_selection_epsilon = [0.0,150]\n",
    "alphas = [1.0]#[1.0,0.5,1.5]\n",
    "\n",
    "len(min_samples)*len(alphas)"
   ]
  },
  {
   "cell_type": "code",
   "execution_count": null,
   "id": "radical-assistant",
   "metadata": {},
   "outputs": [],
   "source": [
    "stats = {}\n",
    "i=0\n",
    "method = \"HDBSCAN\"\n",
    "if not os.path.exists(basedir+\"/\"+method+\"/\"):\n",
    "    os.mkdir(basedir+\"/\"+method+\"/\")\n",
    "\n",
    "for eps in epsilons:\n",
    "    for min_s in cluster_selection_epsilon:\n",
    "        for alpha in alphas:\n",
    "            \n",
    "            labels = HDBSCAN(min_samples=5, \n",
    "                    cluster_selection_epsilon=0.0, \n",
    "                    max_cluster_size=None, \n",
    "                    alpha=1.0, \n",
    "                    algorithm='auto').fit_predict(exprs.T)\n",
    "            \n",
    "            params = \"cluster_selection_epsilon=\"+str(eps)+\";min_samples=\"+str(min_s)+\";alpha=\"+str(alpha)\n",
    "            clusters = labels_to_clsuters(labels,  exprs.columns)\n",
    "            clusters = clusters.loc[clusters[\"n_samples\"]>=5,:]\n",
    "            performances, best_matches = calculate_perfromance(clusters, known_groups,all_samples,\n",
    "                                                              performance_measure = \"ARI\")\n",
    "            stats[i] = performances.to_dict()\n",
    "            stats[i][\"parameters\"]=params\n",
    "            print(params,stats[i][\"PAM50\"])\n",
    "            # saving clusters \n",
    "            clusters[\"samples\"] = clusters[\"samples\"].apply(lambda row: \" \".join(sorted(row)))\n",
    "            clusters = clusters.loc[:,[\"n_samples\",\"samples\"]] \n",
    "            clusters.to_csv(basedir+\"/\"+method+\"/\"+dataset+\".\"+method+\".\"+params+\".clusters.tsv\",sep=\"\\t\")\n",
    "            i+=1\n",
    "stats = pd.DataFrame.from_dict(stats).T\n",
    "# saving performances\n",
    "stats.to_csv(basedir +\"/\"+method+\"_\"+dataset+\".tsv\",sep=\"\\t\")\n",
    "stats.sort_values(by = \"PAM50\",ascending=False)"
   ]
  },
  {
   "cell_type": "markdown",
   "id": "polar-airplane",
   "metadata": {},
   "source": [
    "### OPTICS - not working?"
   ]
  },
  {
   "cell_type": "code",
   "execution_count": 148,
   "id": "immediate-textbook",
   "metadata": {},
   "outputs": [],
   "source": [
    "from sklearn.cluster import OPTICS"
   ]
  },
  {
   "cell_type": "code",
   "execution_count": 149,
   "id": "opened-world",
   "metadata": {},
   "outputs": [],
   "source": [
    "min_samples = [3,5,10,20]\n",
    "clust_methods = [\"dbscan\",\"xi\"]\n",
    "xi_params = [0.01,0.05,0.1,0.5] #float between 0 and 1, default=0.05"
   ]
  },
  {
   "cell_type": "code",
   "execution_count": null,
   "id": "basic-willow",
   "metadata": {},
   "outputs": [],
   "source": [
    "labels = OPTICS(min_samples =5,\n",
    "       metric='euclidean', \n",
    "       cluster_method='xi', xi=0.5, \n",
    "                min_cluster_size=5).fit_predict(exprs.T)\n",
    "clusters = labels_to_clsuters(labels,  exprs.columns)\n",
    "clusters = clusters.loc[clusters[\"n_samples\"]>5,:]\n",
    "performances, best_matches = calculate_perfromance(clusters, known_groups,all_samples)\n",
    "performances"
   ]
  },
  {
   "cell_type": "markdown",
   "id": "threaded-receipt",
   "metadata": {},
   "source": [
    "# Spectral"
   ]
  },
  {
   "cell_type": "code",
   "execution_count": 13,
   "id": "magnetic-spice",
   "metadata": {
    "scrolled": true
   },
   "outputs": [
    {
     "data": {
      "text/plain": [
       "228"
      ]
     },
     "execution_count": 13,
     "metadata": {},
     "output_type": "execute_result"
    }
   ],
   "source": [
    "from sklearn.cluster import SpectralClustering\n",
    "\n",
    "assign_labels = [\"kmeans\", \"discretize\", \"cluster_qr\"]\n",
    "affinity = 'nearest_neighbors' # \"rbf\"\n",
    "n_inits = [10]\n",
    "n_neighbors = [3,5,10,20]\n",
    "ks = list(range(2,21))\n",
    "len(ks)*len(assign_labels)*len(n_inits)*len(n_neighbors)"
   ]
  },
  {
   "cell_type": "code",
   "execution_count": 14,
   "id": "african-drilling",
   "metadata": {
    "scrolled": true
   },
   "outputs": [
    {
     "name": "stderr",
     "output_type": "stream",
     "text": [
      "/home/olya/anaconda3/lib/python3.8/site-packages/sklearn/manifold/_spectral_embedding.py:274: UserWarning: Graph is not fully connected, spectral embedding may not work as expected.\n",
      "  warnings.warn(\n"
     ]
    },
    {
     "name": "stdout",
     "output_type": "stream",
     "text": [
      "0 k=2;n_neighbors=3;assign_labels=kmeans;n_inits=10 670487 0.0\n"
     ]
    },
    {
     "name": "stderr",
     "output_type": "stream",
     "text": [
      "/home/olya/anaconda3/lib/python3.8/site-packages/sklearn/manifold/_spectral_embedding.py:274: UserWarning: Graph is not fully connected, spectral embedding may not work as expected.\n",
      "  warnings.warn(\n"
     ]
    },
    {
     "name": "stdout",
     "output_type": "stream",
     "text": [
      "1 k=2;n_neighbors=3;assign_labels=kmeans;n_inits=10 116739 0.0\n"
     ]
    },
    {
     "name": "stderr",
     "output_type": "stream",
     "text": [
      "/home/olya/anaconda3/lib/python3.8/site-packages/sklearn/manifold/_spectral_embedding.py:274: UserWarning: Graph is not fully connected, spectral embedding may not work as expected.\n",
      "  warnings.warn(\n"
     ]
    },
    {
     "name": "stdout",
     "output_type": "stream",
     "text": [
      "2 k=2;n_neighbors=3;assign_labels=kmeans;n_inits=10 26225 0.0\n"
     ]
    },
    {
     "name": "stderr",
     "output_type": "stream",
     "text": [
      "/home/olya/anaconda3/lib/python3.8/site-packages/sklearn/manifold/_spectral_embedding.py:274: UserWarning: Graph is not fully connected, spectral embedding may not work as expected.\n",
      "  warnings.warn(\n"
     ]
    },
    {
     "name": "stdout",
     "output_type": "stream",
     "text": [
      "3 k=2;n_neighbors=3;assign_labels=kmeans;n_inits=10 777572 0.0\n"
     ]
    },
    {
     "name": "stderr",
     "output_type": "stream",
     "text": [
      "/home/olya/anaconda3/lib/python3.8/site-packages/sklearn/manifold/_spectral_embedding.py:274: UserWarning: Graph is not fully connected, spectral embedding may not work as expected.\n",
      "  warnings.warn(\n"
     ]
    },
    {
     "name": "stdout",
     "output_type": "stream",
     "text": [
      "4 k=2;n_neighbors=3;assign_labels=kmeans;n_inits=10 288389 0.0\n",
      "5 k=2;n_neighbors=5;assign_labels=kmeans;n_inits=10 670487 0.0\n",
      "6 k=2;n_neighbors=5;assign_labels=kmeans;n_inits=10 116739 0.0\n",
      "7 k=2;n_neighbors=5;assign_labels=kmeans;n_inits=10 26225 0.0\n",
      "8 k=2;n_neighbors=5;assign_labels=kmeans;n_inits=10 777572 0.0\n",
      "9 k=2;n_neighbors=5;assign_labels=kmeans;n_inits=10 288389 0.0\n",
      "10 k=2;n_neighbors=10;assign_labels=kmeans;n_inits=10 670487 0.0\n",
      "11 k=2;n_neighbors=10;assign_labels=kmeans;n_inits=10 116739 0.0\n",
      "12 k=2;n_neighbors=10;assign_labels=kmeans;n_inits=10 26225 0.0\n",
      "13 k=2;n_neighbors=10;assign_labels=kmeans;n_inits=10 777572 0.0\n",
      "14 k=2;n_neighbors=10;assign_labels=kmeans;n_inits=10 288389 0.0\n",
      "15 k=2;n_neighbors=20;assign_labels=kmeans;n_inits=10 670487 0.39228157850935025\n",
      "16 k=2;n_neighbors=20;assign_labels=kmeans;n_inits=10 116739 0.39228157850935025\n",
      "17 k=2;n_neighbors=20;assign_labels=kmeans;n_inits=10 26225 0.39228157850935025\n",
      "18 k=2;n_neighbors=20;assign_labels=kmeans;n_inits=10 777572 0.39228157850935025\n",
      "19 k=2;n_neighbors=20;assign_labels=kmeans;n_inits=10 288389 0.39228157850935025\n"
     ]
    },
    {
     "name": "stderr",
     "output_type": "stream",
     "text": [
      "/home/olya/anaconda3/lib/python3.8/site-packages/sklearn/manifold/_spectral_embedding.py:274: UserWarning: Graph is not fully connected, spectral embedding may not work as expected.\n",
      "  warnings.warn(\n"
     ]
    },
    {
     "name": "stdout",
     "output_type": "stream",
     "text": [
      "20 k=2;n_neighbors=3;assign_labels=discretize;n_inits=10 670487 0.0\n"
     ]
    },
    {
     "name": "stderr",
     "output_type": "stream",
     "text": [
      "/home/olya/anaconda3/lib/python3.8/site-packages/sklearn/manifold/_spectral_embedding.py:274: UserWarning: Graph is not fully connected, spectral embedding may not work as expected.\n",
      "  warnings.warn(\n"
     ]
    },
    {
     "name": "stdout",
     "output_type": "stream",
     "text": [
      "21 k=2;n_neighbors=3;assign_labels=discretize;n_inits=10 116739 0.0\n"
     ]
    },
    {
     "name": "stderr",
     "output_type": "stream",
     "text": [
      "/home/olya/anaconda3/lib/python3.8/site-packages/sklearn/manifold/_spectral_embedding.py:274: UserWarning: Graph is not fully connected, spectral embedding may not work as expected.\n",
      "  warnings.warn(\n"
     ]
    },
    {
     "name": "stdout",
     "output_type": "stream",
     "text": [
      "22 k=2;n_neighbors=3;assign_labels=discretize;n_inits=10 26225 0.0\n"
     ]
    },
    {
     "name": "stderr",
     "output_type": "stream",
     "text": [
      "/home/olya/anaconda3/lib/python3.8/site-packages/sklearn/manifold/_spectral_embedding.py:274: UserWarning: Graph is not fully connected, spectral embedding may not work as expected.\n",
      "  warnings.warn(\n"
     ]
    },
    {
     "name": "stdout",
     "output_type": "stream",
     "text": [
      "23 k=2;n_neighbors=3;assign_labels=discretize;n_inits=10 777572 0.0\n"
     ]
    },
    {
     "name": "stderr",
     "output_type": "stream",
     "text": [
      "/home/olya/anaconda3/lib/python3.8/site-packages/sklearn/manifold/_spectral_embedding.py:274: UserWarning: Graph is not fully connected, spectral embedding may not work as expected.\n",
      "  warnings.warn(\n"
     ]
    },
    {
     "name": "stdout",
     "output_type": "stream",
     "text": [
      "24 k=2;n_neighbors=3;assign_labels=discretize;n_inits=10 288389 0.0\n",
      "25 k=2;n_neighbors=5;assign_labels=discretize;n_inits=10 670487 0.0\n",
      "26 k=2;n_neighbors=5;assign_labels=discretize;n_inits=10 116739 0.0\n",
      "27 k=2;n_neighbors=5;assign_labels=discretize;n_inits=10 26225 0.0\n",
      "28 k=2;n_neighbors=5;assign_labels=discretize;n_inits=10 777572 0.0\n",
      "29 k=2;n_neighbors=5;assign_labels=discretize;n_inits=10 288389 0.0\n",
      "30 k=2;n_neighbors=10;assign_labels=discretize;n_inits=10 670487 -0.007164426699995744\n",
      "31 k=2;n_neighbors=10;assign_labels=discretize;n_inits=10 116739 -0.007164426699995744\n",
      "32 k=2;n_neighbors=10;assign_labels=discretize;n_inits=10 26225 -0.007164426699995744\n",
      "33 k=2;n_neighbors=10;assign_labels=discretize;n_inits=10 777572 -0.007164426699995744\n",
      "34 k=2;n_neighbors=10;assign_labels=discretize;n_inits=10 288389 -0.007164426699995744\n",
      "35 k=2;n_neighbors=20;assign_labels=discretize;n_inits=10 670487 0.39849686833617176\n",
      "36 k=2;n_neighbors=20;assign_labels=discretize;n_inits=10 116739 0.396872894084298\n",
      "37 k=2;n_neighbors=20;assign_labels=discretize;n_inits=10 26225 0.396872894084298\n",
      "38 k=2;n_neighbors=20;assign_labels=discretize;n_inits=10 777572 0.396872894084298\n",
      "39 k=2;n_neighbors=20;assign_labels=discretize;n_inits=10 288389 0.39849686833617176\n"
     ]
    },
    {
     "name": "stderr",
     "output_type": "stream",
     "text": [
      "/home/olya/anaconda3/lib/python3.8/site-packages/sklearn/manifold/_spectral_embedding.py:274: UserWarning: Graph is not fully connected, spectral embedding may not work as expected.\n",
      "  warnings.warn(\n"
     ]
    },
    {
     "name": "stdout",
     "output_type": "stream",
     "text": [
      "40 k=2;n_neighbors=3;assign_labels=cluster_qr;n_inits=10 670487 0.0\n"
     ]
    },
    {
     "name": "stderr",
     "output_type": "stream",
     "text": [
      "/home/olya/anaconda3/lib/python3.8/site-packages/sklearn/manifold/_spectral_embedding.py:274: UserWarning: Graph is not fully connected, spectral embedding may not work as expected.\n",
      "  warnings.warn(\n"
     ]
    },
    {
     "name": "stdout",
     "output_type": "stream",
     "text": [
      "41 k=2;n_neighbors=3;assign_labels=cluster_qr;n_inits=10 116739 0.0\n"
     ]
    },
    {
     "name": "stderr",
     "output_type": "stream",
     "text": [
      "/home/olya/anaconda3/lib/python3.8/site-packages/sklearn/manifold/_spectral_embedding.py:274: UserWarning: Graph is not fully connected, spectral embedding may not work as expected.\n",
      "  warnings.warn(\n"
     ]
    },
    {
     "name": "stdout",
     "output_type": "stream",
     "text": [
      "42 k=2;n_neighbors=3;assign_labels=cluster_qr;n_inits=10 26225 0.0\n"
     ]
    },
    {
     "name": "stderr",
     "output_type": "stream",
     "text": [
      "/home/olya/anaconda3/lib/python3.8/site-packages/sklearn/manifold/_spectral_embedding.py:274: UserWarning: Graph is not fully connected, spectral embedding may not work as expected.\n",
      "  warnings.warn(\n"
     ]
    },
    {
     "name": "stdout",
     "output_type": "stream",
     "text": [
      "43 k=2;n_neighbors=3;assign_labels=cluster_qr;n_inits=10 777572 0.0\n"
     ]
    },
    {
     "name": "stderr",
     "output_type": "stream",
     "text": [
      "/home/olya/anaconda3/lib/python3.8/site-packages/sklearn/manifold/_spectral_embedding.py:274: UserWarning: Graph is not fully connected, spectral embedding may not work as expected.\n",
      "  warnings.warn(\n"
     ]
    },
    {
     "name": "stdout",
     "output_type": "stream",
     "text": [
      "44 k=2;n_neighbors=3;assign_labels=cluster_qr;n_inits=10 288389 0.0\n",
      "45 k=2;n_neighbors=5;assign_labels=cluster_qr;n_inits=10 670487 0.0\n",
      "46 k=2;n_neighbors=5;assign_labels=cluster_qr;n_inits=10 116739 0.0\n",
      "47 k=2;n_neighbors=5;assign_labels=cluster_qr;n_inits=10 26225 0.0\n",
      "48 k=2;n_neighbors=5;assign_labels=cluster_qr;n_inits=10 777572 0.0\n",
      "49 k=2;n_neighbors=5;assign_labels=cluster_qr;n_inits=10 288389 0.0\n",
      "50 k=2;n_neighbors=10;assign_labels=cluster_qr;n_inits=10 670487 -0.007164426699995744\n",
      "51 k=2;n_neighbors=10;assign_labels=cluster_qr;n_inits=10 116739 -0.007164426699995744\n",
      "52 k=2;n_neighbors=10;assign_labels=cluster_qr;n_inits=10 26225 -0.007164426699995744\n",
      "53 k=2;n_neighbors=10;assign_labels=cluster_qr;n_inits=10 777572 -0.007164426699995744\n",
      "54 k=2;n_neighbors=10;assign_labels=cluster_qr;n_inits=10 288389 -0.007164426699995744\n",
      "55 k=2;n_neighbors=20;assign_labels=cluster_qr;n_inits=10 670487 0.27234386943168654\n",
      "56 k=2;n_neighbors=20;assign_labels=cluster_qr;n_inits=10 116739 0.27234386943168654\n",
      "57 k=2;n_neighbors=20;assign_labels=cluster_qr;n_inits=10 26225 0.27234386943168654\n",
      "58 k=2;n_neighbors=20;assign_labels=cluster_qr;n_inits=10 777572 0.27234386943168654\n",
      "59 k=2;n_neighbors=20;assign_labels=cluster_qr;n_inits=10 288389 0.27234386943168654\n"
     ]
    },
    {
     "name": "stderr",
     "output_type": "stream",
     "text": [
      "/home/olya/anaconda3/lib/python3.8/site-packages/sklearn/manifold/_spectral_embedding.py:274: UserWarning: Graph is not fully connected, spectral embedding may not work as expected.\n",
      "  warnings.warn(\n"
     ]
    },
    {
     "name": "stdout",
     "output_type": "stream",
     "text": [
      "60 k=3;n_neighbors=3;assign_labels=kmeans;n_inits=10 670487 0.3844284224435476\n"
     ]
    },
    {
     "name": "stderr",
     "output_type": "stream",
     "text": [
      "/home/olya/anaconda3/lib/python3.8/site-packages/sklearn/manifold/_spectral_embedding.py:274: UserWarning: Graph is not fully connected, spectral embedding may not work as expected.\n",
      "  warnings.warn(\n"
     ]
    },
    {
     "name": "stdout",
     "output_type": "stream",
     "text": [
      "61 k=3;n_neighbors=3;assign_labels=kmeans;n_inits=10 116739 0.3844284224435476\n"
     ]
    },
    {
     "name": "stderr",
     "output_type": "stream",
     "text": [
      "/home/olya/anaconda3/lib/python3.8/site-packages/sklearn/manifold/_spectral_embedding.py:274: UserWarning: Graph is not fully connected, spectral embedding may not work as expected.\n",
      "  warnings.warn(\n"
     ]
    },
    {
     "name": "stdout",
     "output_type": "stream",
     "text": [
      "62 k=3;n_neighbors=3;assign_labels=kmeans;n_inits=10 26225 0.3844284224435476\n"
     ]
    },
    {
     "name": "stderr",
     "output_type": "stream",
     "text": [
      "/home/olya/anaconda3/lib/python3.8/site-packages/sklearn/manifold/_spectral_embedding.py:274: UserWarning: Graph is not fully connected, spectral embedding may not work as expected.\n",
      "  warnings.warn(\n"
     ]
    },
    {
     "name": "stdout",
     "output_type": "stream",
     "text": [
      "63 k=3;n_neighbors=3;assign_labels=kmeans;n_inits=10 777572 0.3844284224435476\n"
     ]
    },
    {
     "name": "stderr",
     "output_type": "stream",
     "text": [
      "/home/olya/anaconda3/lib/python3.8/site-packages/sklearn/manifold/_spectral_embedding.py:274: UserWarning: Graph is not fully connected, spectral embedding may not work as expected.\n",
      "  warnings.warn(\n"
     ]
    },
    {
     "name": "stdout",
     "output_type": "stream",
     "text": [
      "64 k=3;n_neighbors=3;assign_labels=kmeans;n_inits=10 288389 0.3844284224435476\n",
      "65 k=3;n_neighbors=5;assign_labels=kmeans;n_inits=10 670487 0.3913297381696849\n",
      "66 k=3;n_neighbors=5;assign_labels=kmeans;n_inits=10 116739 0.3913297381696849\n",
      "67 k=3;n_neighbors=5;assign_labels=kmeans;n_inits=10 26225 0.3913297381696849\n",
      "68 k=3;n_neighbors=5;assign_labels=kmeans;n_inits=10 777572 0.3913297381696849\n",
      "69 k=3;n_neighbors=5;assign_labels=kmeans;n_inits=10 288389 0.3913297381696849\n",
      "70 k=3;n_neighbors=10;assign_labels=kmeans;n_inits=10 670487 0.3970910331992783\n",
      "71 k=3;n_neighbors=10;assign_labels=kmeans;n_inits=10 116739 0.3970910331992783\n",
      "72 k=3;n_neighbors=10;assign_labels=kmeans;n_inits=10 26225 0.3970910331992783\n",
      "73 k=3;n_neighbors=10;assign_labels=kmeans;n_inits=10 777572 0.3970910331992783\n",
      "74 k=3;n_neighbors=10;assign_labels=kmeans;n_inits=10 288389 0.3970910331992783\n",
      "75 k=3;n_neighbors=20;assign_labels=kmeans;n_inits=10 670487 0.4003566439927625\n",
      "76 k=3;n_neighbors=20;assign_labels=kmeans;n_inits=10 116739 0.4003566439927625\n",
      "77 k=3;n_neighbors=20;assign_labels=kmeans;n_inits=10 26225 0.4003566439927625\n",
      "78 k=3;n_neighbors=20;assign_labels=kmeans;n_inits=10 777572 0.4003566439927625\n",
      "79 k=3;n_neighbors=20;assign_labels=kmeans;n_inits=10 288389 0.4003566439927625\n"
     ]
    },
    {
     "name": "stderr",
     "output_type": "stream",
     "text": [
      "/home/olya/anaconda3/lib/python3.8/site-packages/sklearn/manifold/_spectral_embedding.py:274: UserWarning: Graph is not fully connected, spectral embedding may not work as expected.\n",
      "  warnings.warn(\n"
     ]
    },
    {
     "name": "stdout",
     "output_type": "stream",
     "text": [
      "80 k=3;n_neighbors=3;assign_labels=discretize;n_inits=10 670487 0.39391541030006244\n"
     ]
    },
    {
     "name": "stderr",
     "output_type": "stream",
     "text": [
      "/home/olya/anaconda3/lib/python3.8/site-packages/sklearn/manifold/_spectral_embedding.py:274: UserWarning: Graph is not fully connected, spectral embedding may not work as expected.\n",
      "  warnings.warn(\n"
     ]
    },
    {
     "name": "stdout",
     "output_type": "stream",
     "text": [
      "81 k=3;n_neighbors=3;assign_labels=discretize;n_inits=10 116739 0.39391541030006244\n"
     ]
    },
    {
     "name": "stderr",
     "output_type": "stream",
     "text": [
      "/home/olya/anaconda3/lib/python3.8/site-packages/sklearn/manifold/_spectral_embedding.py:274: UserWarning: Graph is not fully connected, spectral embedding may not work as expected.\n",
      "  warnings.warn(\n"
     ]
    },
    {
     "name": "stdout",
     "output_type": "stream",
     "text": [
      "82 k=3;n_neighbors=3;assign_labels=discretize;n_inits=10 26225 0.39391541030006244\n"
     ]
    },
    {
     "name": "stderr",
     "output_type": "stream",
     "text": [
      "/home/olya/anaconda3/lib/python3.8/site-packages/sklearn/manifold/_spectral_embedding.py:274: UserWarning: Graph is not fully connected, spectral embedding may not work as expected.\n",
      "  warnings.warn(\n"
     ]
    },
    {
     "name": "stdout",
     "output_type": "stream",
     "text": [
      "83 k=3;n_neighbors=3;assign_labels=discretize;n_inits=10 777572 0.39391541030006244\n"
     ]
    },
    {
     "name": "stderr",
     "output_type": "stream",
     "text": [
      "/home/olya/anaconda3/lib/python3.8/site-packages/sklearn/manifold/_spectral_embedding.py:274: UserWarning: Graph is not fully connected, spectral embedding may not work as expected.\n",
      "  warnings.warn(\n"
     ]
    },
    {
     "name": "stdout",
     "output_type": "stream",
     "text": [
      "84 k=3;n_neighbors=3;assign_labels=discretize;n_inits=10 288389 0.39391541030006244\n",
      "85 k=3;n_neighbors=5;assign_labels=discretize;n_inits=10 670487 0.4095265639623821\n",
      "86 k=3;n_neighbors=5;assign_labels=discretize;n_inits=10 116739 0.4095265639623821\n",
      "87 k=3;n_neighbors=5;assign_labels=discretize;n_inits=10 26225 0.4095265639623821\n",
      "88 k=3;n_neighbors=5;assign_labels=discretize;n_inits=10 777572 0.4095265639623821\n",
      "89 k=3;n_neighbors=5;assign_labels=discretize;n_inits=10 288389 0.4095265639623821\n",
      "90 k=3;n_neighbors=10;assign_labels=discretize;n_inits=10 670487 0.43583816543841924\n",
      "91 k=3;n_neighbors=10;assign_labels=discretize;n_inits=10 116739 0.43583816543841924\n",
      "92 k=3;n_neighbors=10;assign_labels=discretize;n_inits=10 26225 0.43583816543841924\n",
      "93 k=3;n_neighbors=10;assign_labels=discretize;n_inits=10 777572 0.43583816543841924\n",
      "94 k=3;n_neighbors=10;assign_labels=discretize;n_inits=10 288389 0.43583816543841924\n",
      "95 k=3;n_neighbors=20;assign_labels=discretize;n_inits=10 670487 0.43970889009433983\n",
      "96 k=3;n_neighbors=20;assign_labels=discretize;n_inits=10 116739 0.4397003572721804\n",
      "97 k=3;n_neighbors=20;assign_labels=discretize;n_inits=10 26225 0.4397003572721804\n",
      "98 k=3;n_neighbors=20;assign_labels=discretize;n_inits=10 777572 0.4395834331749968\n",
      "99 k=3;n_neighbors=20;assign_labels=discretize;n_inits=10 288389 0.4397003572721804\n"
     ]
    },
    {
     "name": "stderr",
     "output_type": "stream",
     "text": [
      "/home/olya/anaconda3/lib/python3.8/site-packages/sklearn/manifold/_spectral_embedding.py:274: UserWarning: Graph is not fully connected, spectral embedding may not work as expected.\n",
      "  warnings.warn(\n"
     ]
    },
    {
     "name": "stdout",
     "output_type": "stream",
     "text": [
      "100 k=3;n_neighbors=3;assign_labels=cluster_qr;n_inits=10 670487 0.39391541030006244\n"
     ]
    },
    {
     "name": "stderr",
     "output_type": "stream",
     "text": [
      "/home/olya/anaconda3/lib/python3.8/site-packages/sklearn/manifold/_spectral_embedding.py:274: UserWarning: Graph is not fully connected, spectral embedding may not work as expected.\n",
      "  warnings.warn(\n"
     ]
    },
    {
     "name": "stdout",
     "output_type": "stream",
     "text": [
      "101 k=3;n_neighbors=3;assign_labels=cluster_qr;n_inits=10 116739 0.39391541030006244\n"
     ]
    },
    {
     "name": "stderr",
     "output_type": "stream",
     "text": [
      "/home/olya/anaconda3/lib/python3.8/site-packages/sklearn/manifold/_spectral_embedding.py:274: UserWarning: Graph is not fully connected, spectral embedding may not work as expected.\n",
      "  warnings.warn(\n"
     ]
    },
    {
     "name": "stdout",
     "output_type": "stream",
     "text": [
      "102 k=3;n_neighbors=3;assign_labels=cluster_qr;n_inits=10 26225 0.39391541030006244\n"
     ]
    },
    {
     "name": "stderr",
     "output_type": "stream",
     "text": [
      "/home/olya/anaconda3/lib/python3.8/site-packages/sklearn/manifold/_spectral_embedding.py:274: UserWarning: Graph is not fully connected, spectral embedding may not work as expected.\n",
      "  warnings.warn(\n"
     ]
    },
    {
     "name": "stdout",
     "output_type": "stream",
     "text": [
      "103 k=3;n_neighbors=3;assign_labels=cluster_qr;n_inits=10 777572 0.39391541030006244\n"
     ]
    },
    {
     "name": "stderr",
     "output_type": "stream",
     "text": [
      "/home/olya/anaconda3/lib/python3.8/site-packages/sklearn/manifold/_spectral_embedding.py:274: UserWarning: Graph is not fully connected, spectral embedding may not work as expected.\n",
      "  warnings.warn(\n"
     ]
    },
    {
     "name": "stdout",
     "output_type": "stream",
     "text": [
      "104 k=3;n_neighbors=3;assign_labels=cluster_qr;n_inits=10 288389 0.39391541030006244\n",
      "105 k=3;n_neighbors=5;assign_labels=cluster_qr;n_inits=10 670487 0.4278242528248099\n",
      "106 k=3;n_neighbors=5;assign_labels=cluster_qr;n_inits=10 116739 0.4278242528248099\n",
      "107 k=3;n_neighbors=5;assign_labels=cluster_qr;n_inits=10 26225 0.4278242528248099\n",
      "108 k=3;n_neighbors=5;assign_labels=cluster_qr;n_inits=10 777572 0.4278242528248099\n",
      "109 k=3;n_neighbors=5;assign_labels=cluster_qr;n_inits=10 288389 0.4278242528248099\n",
      "110 k=3;n_neighbors=10;assign_labels=cluster_qr;n_inits=10 670487 0.4644643089630927\n",
      "111 k=3;n_neighbors=10;assign_labels=cluster_qr;n_inits=10 116739 0.4644643089630927\n",
      "112 k=3;n_neighbors=10;assign_labels=cluster_qr;n_inits=10 26225 0.4644643089630927\n",
      "113 k=3;n_neighbors=10;assign_labels=cluster_qr;n_inits=10 777572 0.4644643089630927\n",
      "114 k=3;n_neighbors=10;assign_labels=cluster_qr;n_inits=10 288389 0.4644643089630927\n",
      "115 k=3;n_neighbors=20;assign_labels=cluster_qr;n_inits=10 670487 0.4494149414748673\n",
      "116 k=3;n_neighbors=20;assign_labels=cluster_qr;n_inits=10 116739 0.4494149414748673\n",
      "117 k=3;n_neighbors=20;assign_labels=cluster_qr;n_inits=10 26225 0.4494149414748673\n",
      "118 k=3;n_neighbors=20;assign_labels=cluster_qr;n_inits=10 777572 0.4494149414748673\n",
      "119 k=3;n_neighbors=20;assign_labels=cluster_qr;n_inits=10 288389 0.4494149414748673\n"
     ]
    },
    {
     "name": "stderr",
     "output_type": "stream",
     "text": [
      "/home/olya/anaconda3/lib/python3.8/site-packages/sklearn/manifold/_spectral_embedding.py:274: UserWarning: Graph is not fully connected, spectral embedding may not work as expected.\n",
      "  warnings.warn(\n"
     ]
    },
    {
     "name": "stdout",
     "output_type": "stream",
     "text": [
      "120 k=4;n_neighbors=3;assign_labels=kmeans;n_inits=10 670487 0.3871656452433148\n"
     ]
    },
    {
     "name": "stderr",
     "output_type": "stream",
     "text": [
      "/home/olya/anaconda3/lib/python3.8/site-packages/sklearn/manifold/_spectral_embedding.py:274: UserWarning: Graph is not fully connected, spectral embedding may not work as expected.\n",
      "  warnings.warn(\n"
     ]
    },
    {
     "name": "stdout",
     "output_type": "stream",
     "text": [
      "121 k=4;n_neighbors=3;assign_labels=kmeans;n_inits=10 116739 0.3871656452433148\n"
     ]
    },
    {
     "name": "stderr",
     "output_type": "stream",
     "text": [
      "/home/olya/anaconda3/lib/python3.8/site-packages/sklearn/manifold/_spectral_embedding.py:274: UserWarning: Graph is not fully connected, spectral embedding may not work as expected.\n",
      "  warnings.warn(\n"
     ]
    },
    {
     "name": "stdout",
     "output_type": "stream",
     "text": [
      "122 k=4;n_neighbors=3;assign_labels=kmeans;n_inits=10 26225 0.3871656452433148\n"
     ]
    },
    {
     "name": "stderr",
     "output_type": "stream",
     "text": [
      "/home/olya/anaconda3/lib/python3.8/site-packages/sklearn/manifold/_spectral_embedding.py:274: UserWarning: Graph is not fully connected, spectral embedding may not work as expected.\n",
      "  warnings.warn(\n"
     ]
    },
    {
     "name": "stdout",
     "output_type": "stream",
     "text": [
      "123 k=4;n_neighbors=3;assign_labels=kmeans;n_inits=10 777572 0.3871656452433148\n"
     ]
    },
    {
     "name": "stderr",
     "output_type": "stream",
     "text": [
      "/home/olya/anaconda3/lib/python3.8/site-packages/sklearn/manifold/_spectral_embedding.py:274: UserWarning: Graph is not fully connected, spectral embedding may not work as expected.\n",
      "  warnings.warn(\n"
     ]
    },
    {
     "name": "stdout",
     "output_type": "stream",
     "text": [
      "124 k=4;n_neighbors=3;assign_labels=kmeans;n_inits=10 288389 0.3871656452433148\n",
      "125 k=4;n_neighbors=5;assign_labels=kmeans;n_inits=10 670487 0.40026305826686703\n",
      "126 k=4;n_neighbors=5;assign_labels=kmeans;n_inits=10 116739 0.39931569440444037\n",
      "127 k=4;n_neighbors=5;assign_labels=kmeans;n_inits=10 26225 0.4005936470628758\n",
      "128 k=4;n_neighbors=5;assign_labels=kmeans;n_inits=10 777572 0.39931569440444037\n",
      "129 k=4;n_neighbors=5;assign_labels=kmeans;n_inits=10 288389 0.4005936470628758\n",
      "130 k=4;n_neighbors=10;assign_labels=kmeans;n_inits=10 670487 0.40688168027026483\n",
      "131 k=4;n_neighbors=10;assign_labels=kmeans;n_inits=10 116739 0.40688168027026483\n",
      "132 k=4;n_neighbors=10;assign_labels=kmeans;n_inits=10 26225 0.40688168027026483\n",
      "133 k=4;n_neighbors=10;assign_labels=kmeans;n_inits=10 777572 0.40688168027026483\n",
      "134 k=4;n_neighbors=10;assign_labels=kmeans;n_inits=10 288389 0.40688168027026483\n",
      "135 k=4;n_neighbors=20;assign_labels=kmeans;n_inits=10 670487 0.40221223970232217\n",
      "136 k=4;n_neighbors=20;assign_labels=kmeans;n_inits=10 116739 0.40221223970232217\n",
      "137 k=4;n_neighbors=20;assign_labels=kmeans;n_inits=10 26225 0.40221223970232217\n",
      "138 k=4;n_neighbors=20;assign_labels=kmeans;n_inits=10 777572 0.40221223970232217\n",
      "139 k=4;n_neighbors=20;assign_labels=kmeans;n_inits=10 288389 0.40221223970232217\n"
     ]
    },
    {
     "name": "stderr",
     "output_type": "stream",
     "text": [
      "/home/olya/anaconda3/lib/python3.8/site-packages/sklearn/manifold/_spectral_embedding.py:274: UserWarning: Graph is not fully connected, spectral embedding may not work as expected.\n",
      "  warnings.warn(\n"
     ]
    },
    {
     "name": "stdout",
     "output_type": "stream",
     "text": [
      "140 k=4;n_neighbors=3;assign_labels=discretize;n_inits=10 670487 0.39901945587638804\n"
     ]
    },
    {
     "name": "stderr",
     "output_type": "stream",
     "text": [
      "/home/olya/anaconda3/lib/python3.8/site-packages/sklearn/manifold/_spectral_embedding.py:274: UserWarning: Graph is not fully connected, spectral embedding may not work as expected.\n",
      "  warnings.warn(\n"
     ]
    },
    {
     "name": "stdout",
     "output_type": "stream",
     "text": [
      "141 k=4;n_neighbors=3;assign_labels=discretize;n_inits=10 116739 0.39901945587638804\n"
     ]
    },
    {
     "name": "stderr",
     "output_type": "stream",
     "text": [
      "/home/olya/anaconda3/lib/python3.8/site-packages/sklearn/manifold/_spectral_embedding.py:274: UserWarning: Graph is not fully connected, spectral embedding may not work as expected.\n",
      "  warnings.warn(\n"
     ]
    },
    {
     "name": "stdout",
     "output_type": "stream",
     "text": [
      "142 k=4;n_neighbors=3;assign_labels=discretize;n_inits=10 26225 0.39901945587638804\n"
     ]
    },
    {
     "name": "stderr",
     "output_type": "stream",
     "text": [
      "/home/olya/anaconda3/lib/python3.8/site-packages/sklearn/manifold/_spectral_embedding.py:274: UserWarning: Graph is not fully connected, spectral embedding may not work as expected.\n",
      "  warnings.warn(\n"
     ]
    },
    {
     "name": "stdout",
     "output_type": "stream",
     "text": [
      "143 k=4;n_neighbors=3;assign_labels=discretize;n_inits=10 777572 0.39956435633767995\n"
     ]
    },
    {
     "name": "stderr",
     "output_type": "stream",
     "text": [
      "/home/olya/anaconda3/lib/python3.8/site-packages/sklearn/manifold/_spectral_embedding.py:274: UserWarning: Graph is not fully connected, spectral embedding may not work as expected.\n",
      "  warnings.warn(\n"
     ]
    },
    {
     "name": "stdout",
     "output_type": "stream",
     "text": [
      "144 k=4;n_neighbors=3;assign_labels=discretize;n_inits=10 288389 0.39901945587638804\n",
      "145 k=4;n_neighbors=5;assign_labels=discretize;n_inits=10 670487 0.43772313744085173\n",
      "146 k=4;n_neighbors=5;assign_labels=discretize;n_inits=10 116739 0.43772313744085173\n",
      "147 k=4;n_neighbors=5;assign_labels=discretize;n_inits=10 26225 0.43772313744085173\n",
      "148 k=4;n_neighbors=5;assign_labels=discretize;n_inits=10 777572 0.43772313744085173\n",
      "149 k=4;n_neighbors=5;assign_labels=discretize;n_inits=10 288389 0.43772313744085173\n",
      "150 k=4;n_neighbors=10;assign_labels=discretize;n_inits=10 670487 0.4470682089149194\n",
      "151 k=4;n_neighbors=10;assign_labels=discretize;n_inits=10 116739 0.4470682089149194\n",
      "152 k=4;n_neighbors=10;assign_labels=discretize;n_inits=10 26225 0.4470682089149194\n",
      "153 k=4;n_neighbors=10;assign_labels=discretize;n_inits=10 777572 0.4470682089149194\n",
      "154 k=4;n_neighbors=10;assign_labels=discretize;n_inits=10 288389 0.4470682089149194\n",
      "155 k=4;n_neighbors=20;assign_labels=discretize;n_inits=10 670487 0.4403917442048635\n",
      "156 k=4;n_neighbors=20;assign_labels=discretize;n_inits=10 116739 0.4403917442048635\n",
      "157 k=4;n_neighbors=20;assign_labels=discretize;n_inits=10 26225 0.4403917442048635\n",
      "158 k=4;n_neighbors=20;assign_labels=discretize;n_inits=10 777572 0.4403917442048635\n",
      "159 k=4;n_neighbors=20;assign_labels=discretize;n_inits=10 288389 0.4403917442048635\n"
     ]
    },
    {
     "name": "stderr",
     "output_type": "stream",
     "text": [
      "/home/olya/anaconda3/lib/python3.8/site-packages/sklearn/manifold/_spectral_embedding.py:274: UserWarning: Graph is not fully connected, spectral embedding may not work as expected.\n",
      "  warnings.warn(\n"
     ]
    },
    {
     "name": "stdout",
     "output_type": "stream",
     "text": [
      "160 k=4;n_neighbors=3;assign_labels=cluster_qr;n_inits=10 670487 0.3976925838475281\n"
     ]
    },
    {
     "name": "stderr",
     "output_type": "stream",
     "text": [
      "/home/olya/anaconda3/lib/python3.8/site-packages/sklearn/manifold/_spectral_embedding.py:274: UserWarning: Graph is not fully connected, spectral embedding may not work as expected.\n",
      "  warnings.warn(\n"
     ]
    },
    {
     "name": "stdout",
     "output_type": "stream",
     "text": [
      "161 k=4;n_neighbors=3;assign_labels=cluster_qr;n_inits=10 116739 0.3976925838475281\n"
     ]
    },
    {
     "name": "stderr",
     "output_type": "stream",
     "text": [
      "/home/olya/anaconda3/lib/python3.8/site-packages/sklearn/manifold/_spectral_embedding.py:274: UserWarning: Graph is not fully connected, spectral embedding may not work as expected.\n",
      "  warnings.warn(\n"
     ]
    },
    {
     "name": "stdout",
     "output_type": "stream",
     "text": [
      "162 k=4;n_neighbors=3;assign_labels=cluster_qr;n_inits=10 26225 0.3976925838475281\n"
     ]
    },
    {
     "name": "stderr",
     "output_type": "stream",
     "text": [
      "/home/olya/anaconda3/lib/python3.8/site-packages/sklearn/manifold/_spectral_embedding.py:274: UserWarning: Graph is not fully connected, spectral embedding may not work as expected.\n",
      "  warnings.warn(\n"
     ]
    },
    {
     "name": "stdout",
     "output_type": "stream",
     "text": [
      "163 k=4;n_neighbors=3;assign_labels=cluster_qr;n_inits=10 777572 0.3976925838475281\n"
     ]
    },
    {
     "name": "stderr",
     "output_type": "stream",
     "text": [
      "/home/olya/anaconda3/lib/python3.8/site-packages/sklearn/manifold/_spectral_embedding.py:274: UserWarning: Graph is not fully connected, spectral embedding may not work as expected.\n",
      "  warnings.warn(\n"
     ]
    },
    {
     "name": "stdout",
     "output_type": "stream",
     "text": [
      "164 k=4;n_neighbors=3;assign_labels=cluster_qr;n_inits=10 288389 0.3976925838475281\n",
      "165 k=4;n_neighbors=5;assign_labels=cluster_qr;n_inits=10 670487 0.46374524486342494\n",
      "166 k=4;n_neighbors=5;assign_labels=cluster_qr;n_inits=10 116739 0.46374524486342494\n",
      "167 k=4;n_neighbors=5;assign_labels=cluster_qr;n_inits=10 26225 0.46374524486342494\n",
      "168 k=4;n_neighbors=5;assign_labels=cluster_qr;n_inits=10 777572 0.46374524486342494\n",
      "169 k=4;n_neighbors=5;assign_labels=cluster_qr;n_inits=10 288389 0.46374524486342494\n",
      "170 k=4;n_neighbors=10;assign_labels=cluster_qr;n_inits=10 670487 0.4632304859580431\n",
      "171 k=4;n_neighbors=10;assign_labels=cluster_qr;n_inits=10 116739 0.4632304859580431\n",
      "172 k=4;n_neighbors=10;assign_labels=cluster_qr;n_inits=10 26225 0.4632304859580431\n",
      "173 k=4;n_neighbors=10;assign_labels=cluster_qr;n_inits=10 777572 0.4632304859580431\n",
      "174 k=4;n_neighbors=10;assign_labels=cluster_qr;n_inits=10 288389 0.4632304859580431\n",
      "175 k=4;n_neighbors=20;assign_labels=cluster_qr;n_inits=10 670487 0.4455585771483337\n",
      "176 k=4;n_neighbors=20;assign_labels=cluster_qr;n_inits=10 116739 0.4455585771483337\n",
      "177 k=4;n_neighbors=20;assign_labels=cluster_qr;n_inits=10 26225 0.4455585771483337\n",
      "178 k=4;n_neighbors=20;assign_labels=cluster_qr;n_inits=10 777572 0.4455585771483337\n",
      "179 k=4;n_neighbors=20;assign_labels=cluster_qr;n_inits=10 288389 0.4455585771483337\n"
     ]
    },
    {
     "name": "stderr",
     "output_type": "stream",
     "text": [
      "/home/olya/anaconda3/lib/python3.8/site-packages/sklearn/manifold/_spectral_embedding.py:274: UserWarning: Graph is not fully connected, spectral embedding may not work as expected.\n",
      "  warnings.warn(\n"
     ]
    },
    {
     "name": "stdout",
     "output_type": "stream",
     "text": [
      "180 k=5;n_neighbors=3;assign_labels=kmeans;n_inits=10 670487 0.3822448330605928\n"
     ]
    },
    {
     "name": "stderr",
     "output_type": "stream",
     "text": [
      "/home/olya/anaconda3/lib/python3.8/site-packages/sklearn/manifold/_spectral_embedding.py:274: UserWarning: Graph is not fully connected, spectral embedding may not work as expected.\n",
      "  warnings.warn(\n"
     ]
    },
    {
     "name": "stdout",
     "output_type": "stream",
     "text": [
      "181 k=5;n_neighbors=3;assign_labels=kmeans;n_inits=10 116739 0.3822448330605928\n"
     ]
    },
    {
     "name": "stderr",
     "output_type": "stream",
     "text": [
      "/home/olya/anaconda3/lib/python3.8/site-packages/sklearn/manifold/_spectral_embedding.py:274: UserWarning: Graph is not fully connected, spectral embedding may not work as expected.\n",
      "  warnings.warn(\n"
     ]
    },
    {
     "name": "stdout",
     "output_type": "stream",
     "text": [
      "182 k=5;n_neighbors=3;assign_labels=kmeans;n_inits=10 26225 0.3822448330605928\n"
     ]
    },
    {
     "name": "stderr",
     "output_type": "stream",
     "text": [
      "/home/olya/anaconda3/lib/python3.8/site-packages/sklearn/manifold/_spectral_embedding.py:274: UserWarning: Graph is not fully connected, spectral embedding may not work as expected.\n",
      "  warnings.warn(\n"
     ]
    },
    {
     "name": "stdout",
     "output_type": "stream",
     "text": [
      "183 k=5;n_neighbors=3;assign_labels=kmeans;n_inits=10 777572 0.3822448330605928\n"
     ]
    },
    {
     "name": "stderr",
     "output_type": "stream",
     "text": [
      "/home/olya/anaconda3/lib/python3.8/site-packages/sklearn/manifold/_spectral_embedding.py:274: UserWarning: Graph is not fully connected, spectral embedding may not work as expected.\n",
      "  warnings.warn(\n"
     ]
    },
    {
     "name": "stdout",
     "output_type": "stream",
     "text": [
      "184 k=5;n_neighbors=3;assign_labels=kmeans;n_inits=10 288389 0.3822448330605928\n",
      "185 k=5;n_neighbors=5;assign_labels=kmeans;n_inits=10 670487 0.3945336902006512\n",
      "186 k=5;n_neighbors=5;assign_labels=kmeans;n_inits=10 116739 0.3945336902006512\n",
      "187 k=5;n_neighbors=5;assign_labels=kmeans;n_inits=10 26225 0.39475474967490215\n",
      "188 k=5;n_neighbors=5;assign_labels=kmeans;n_inits=10 777572 0.3945336902006512\n",
      "189 k=5;n_neighbors=5;assign_labels=kmeans;n_inits=10 288389 0.3945336902006512\n",
      "190 k=5;n_neighbors=10;assign_labels=kmeans;n_inits=10 670487 0.3891908131725539\n",
      "191 k=5;n_neighbors=10;assign_labels=kmeans;n_inits=10 116739 0.3891908131725539\n",
      "192 k=5;n_neighbors=10;assign_labels=kmeans;n_inits=10 26225 0.3891908131725539\n",
      "193 k=5;n_neighbors=10;assign_labels=kmeans;n_inits=10 777572 0.3891908131725539\n",
      "194 k=5;n_neighbors=10;assign_labels=kmeans;n_inits=10 288389 0.3891908131725539\n",
      "195 k=5;n_neighbors=20;assign_labels=kmeans;n_inits=10 670487 0.3556153811446793\n",
      "196 k=5;n_neighbors=20;assign_labels=kmeans;n_inits=10 116739 0.35548728244844374\n",
      "197 k=5;n_neighbors=20;assign_labels=kmeans;n_inits=10 26225 0.35548728244844374\n",
      "198 k=5;n_neighbors=20;assign_labels=kmeans;n_inits=10 777572 0.35548728244844374\n",
      "199 k=5;n_neighbors=20;assign_labels=kmeans;n_inits=10 288389 0.35548728244844374\n"
     ]
    },
    {
     "name": "stderr",
     "output_type": "stream",
     "text": [
      "/home/olya/anaconda3/lib/python3.8/site-packages/sklearn/manifold/_spectral_embedding.py:274: UserWarning: Graph is not fully connected, spectral embedding may not work as expected.\n",
      "  warnings.warn(\n"
     ]
    },
    {
     "name": "stdout",
     "output_type": "stream",
     "text": [
      "200 k=5;n_neighbors=3;assign_labels=discretize;n_inits=10 670487 0.3906056417588117\n"
     ]
    },
    {
     "name": "stderr",
     "output_type": "stream",
     "text": [
      "/home/olya/anaconda3/lib/python3.8/site-packages/sklearn/manifold/_spectral_embedding.py:274: UserWarning: Graph is not fully connected, spectral embedding may not work as expected.\n",
      "  warnings.warn(\n"
     ]
    },
    {
     "name": "stdout",
     "output_type": "stream",
     "text": [
      "201 k=5;n_neighbors=3;assign_labels=discretize;n_inits=10 116739 0.3906056417588117\n"
     ]
    },
    {
     "name": "stderr",
     "output_type": "stream",
     "text": [
      "/home/olya/anaconda3/lib/python3.8/site-packages/sklearn/manifold/_spectral_embedding.py:274: UserWarning: Graph is not fully connected, spectral embedding may not work as expected.\n",
      "  warnings.warn(\n"
     ]
    },
    {
     "name": "stdout",
     "output_type": "stream",
     "text": [
      "202 k=5;n_neighbors=3;assign_labels=discretize;n_inits=10 26225 0.3906056417588117\n"
     ]
    },
    {
     "name": "stderr",
     "output_type": "stream",
     "text": [
      "/home/olya/anaconda3/lib/python3.8/site-packages/sklearn/manifold/_spectral_embedding.py:274: UserWarning: Graph is not fully connected, spectral embedding may not work as expected.\n",
      "  warnings.warn(\n"
     ]
    },
    {
     "name": "stdout",
     "output_type": "stream",
     "text": [
      "203 k=5;n_neighbors=3;assign_labels=discretize;n_inits=10 777572 0.3906056417588117\n"
     ]
    },
    {
     "name": "stderr",
     "output_type": "stream",
     "text": [
      "/home/olya/anaconda3/lib/python3.8/site-packages/sklearn/manifold/_spectral_embedding.py:274: UserWarning: Graph is not fully connected, spectral embedding may not work as expected.\n",
      "  warnings.warn(\n"
     ]
    },
    {
     "name": "stdout",
     "output_type": "stream",
     "text": [
      "204 k=5;n_neighbors=3;assign_labels=discretize;n_inits=10 288389 0.3906056417588117\n",
      "205 k=5;n_neighbors=5;assign_labels=discretize;n_inits=10 670487 0.4368791145183558\n",
      "206 k=5;n_neighbors=5;assign_labels=discretize;n_inits=10 116739 0.4368791145183558\n",
      "207 k=5;n_neighbors=5;assign_labels=discretize;n_inits=10 26225 0.4368791145183558\n",
      "208 k=5;n_neighbors=5;assign_labels=discretize;n_inits=10 777572 0.4368791145183558\n",
      "209 k=5;n_neighbors=5;assign_labels=discretize;n_inits=10 288389 0.4368791145183558\n",
      "210 k=5;n_neighbors=10;assign_labels=discretize;n_inits=10 670487 0.43709047532860656\n",
      "211 k=5;n_neighbors=10;assign_labels=discretize;n_inits=10 116739 0.4289409921582689\n",
      "212 k=5;n_neighbors=10;assign_labels=discretize;n_inits=10 26225 0.42792160396740214\n",
      "213 k=5;n_neighbors=10;assign_labels=discretize;n_inits=10 777572 0.4279134256191306\n",
      "214 k=5;n_neighbors=10;assign_labels=discretize;n_inits=10 288389 0.42986184258152693\n",
      "215 k=5;n_neighbors=20;assign_labels=discretize;n_inits=10 670487 0.4233872807857866\n",
      "216 k=5;n_neighbors=20;assign_labels=discretize;n_inits=10 116739 0.42241556317909495\n",
      "217 k=5;n_neighbors=20;assign_labels=discretize;n_inits=10 26225 0.4233872807857866\n",
      "218 k=5;n_neighbors=20;assign_labels=discretize;n_inits=10 777572 0.4233872807857866\n",
      "219 k=5;n_neighbors=20;assign_labels=discretize;n_inits=10 288389 0.4233872807857866\n"
     ]
    },
    {
     "name": "stderr",
     "output_type": "stream",
     "text": [
      "/home/olya/anaconda3/lib/python3.8/site-packages/sklearn/manifold/_spectral_embedding.py:274: UserWarning: Graph is not fully connected, spectral embedding may not work as expected.\n",
      "  warnings.warn(\n"
     ]
    },
    {
     "name": "stdout",
     "output_type": "stream",
     "text": [
      "220 k=5;n_neighbors=3;assign_labels=cluster_qr;n_inits=10 670487 0.3927786260019673\n"
     ]
    },
    {
     "name": "stderr",
     "output_type": "stream",
     "text": [
      "/home/olya/anaconda3/lib/python3.8/site-packages/sklearn/manifold/_spectral_embedding.py:274: UserWarning: Graph is not fully connected, spectral embedding may not work as expected.\n",
      "  warnings.warn(\n"
     ]
    },
    {
     "name": "stdout",
     "output_type": "stream",
     "text": [
      "221 k=5;n_neighbors=3;assign_labels=cluster_qr;n_inits=10 116739 0.3927786260019673\n"
     ]
    },
    {
     "name": "stderr",
     "output_type": "stream",
     "text": [
      "/home/olya/anaconda3/lib/python3.8/site-packages/sklearn/manifold/_spectral_embedding.py:274: UserWarning: Graph is not fully connected, spectral embedding may not work as expected.\n",
      "  warnings.warn(\n"
     ]
    },
    {
     "name": "stdout",
     "output_type": "stream",
     "text": [
      "222 k=5;n_neighbors=3;assign_labels=cluster_qr;n_inits=10 26225 0.3927786260019673\n"
     ]
    },
    {
     "name": "stderr",
     "output_type": "stream",
     "text": [
      "/home/olya/anaconda3/lib/python3.8/site-packages/sklearn/manifold/_spectral_embedding.py:274: UserWarning: Graph is not fully connected, spectral embedding may not work as expected.\n",
      "  warnings.warn(\n"
     ]
    },
    {
     "name": "stdout",
     "output_type": "stream",
     "text": [
      "223 k=5;n_neighbors=3;assign_labels=cluster_qr;n_inits=10 777572 0.3927786260019673\n"
     ]
    },
    {
     "name": "stderr",
     "output_type": "stream",
     "text": [
      "/home/olya/anaconda3/lib/python3.8/site-packages/sklearn/manifold/_spectral_embedding.py:274: UserWarning: Graph is not fully connected, spectral embedding may not work as expected.\n",
      "  warnings.warn(\n"
     ]
    },
    {
     "name": "stdout",
     "output_type": "stream",
     "text": [
      "224 k=5;n_neighbors=3;assign_labels=cluster_qr;n_inits=10 288389 0.3927786260019673\n",
      "225 k=5;n_neighbors=5;assign_labels=cluster_qr;n_inits=10 670487 0.4450855345090282\n",
      "226 k=5;n_neighbors=5;assign_labels=cluster_qr;n_inits=10 116739 0.4450855345090282\n",
      "227 k=5;n_neighbors=5;assign_labels=cluster_qr;n_inits=10 26225 0.4450855345090282\n",
      "228 k=5;n_neighbors=5;assign_labels=cluster_qr;n_inits=10 777572 0.4450855345090282\n",
      "229 k=5;n_neighbors=5;assign_labels=cluster_qr;n_inits=10 288389 0.4450855345090282\n",
      "230 k=5;n_neighbors=10;assign_labels=cluster_qr;n_inits=10 670487 0.42041263884139696\n",
      "231 k=5;n_neighbors=10;assign_labels=cluster_qr;n_inits=10 116739 0.42041263884139696\n",
      "232 k=5;n_neighbors=10;assign_labels=cluster_qr;n_inits=10 26225 0.42041263884139696\n",
      "233 k=5;n_neighbors=10;assign_labels=cluster_qr;n_inits=10 777572 0.42041263884139696\n",
      "234 k=5;n_neighbors=10;assign_labels=cluster_qr;n_inits=10 288389 0.42041263884139696\n",
      "235 k=5;n_neighbors=20;assign_labels=cluster_qr;n_inits=10 670487 0.4021072811925678\n",
      "236 k=5;n_neighbors=20;assign_labels=cluster_qr;n_inits=10 116739 0.4021072811925678\n",
      "237 k=5;n_neighbors=20;assign_labels=cluster_qr;n_inits=10 26225 0.4021072811925678\n",
      "238 k=5;n_neighbors=20;assign_labels=cluster_qr;n_inits=10 777572 0.4021072811925678\n",
      "239 k=5;n_neighbors=20;assign_labels=cluster_qr;n_inits=10 288389 0.4021072811925678\n"
     ]
    },
    {
     "name": "stderr",
     "output_type": "stream",
     "text": [
      "/home/olya/anaconda3/lib/python3.8/site-packages/sklearn/manifold/_spectral_embedding.py:274: UserWarning: Graph is not fully connected, spectral embedding may not work as expected.\n",
      "  warnings.warn(\n"
     ]
    },
    {
     "name": "stdout",
     "output_type": "stream",
     "text": [
      "240 k=6;n_neighbors=3;assign_labels=kmeans;n_inits=10 670487 0.3739745363269561\n"
     ]
    },
    {
     "name": "stderr",
     "output_type": "stream",
     "text": [
      "/home/olya/anaconda3/lib/python3.8/site-packages/sklearn/manifold/_spectral_embedding.py:274: UserWarning: Graph is not fully connected, spectral embedding may not work as expected.\n",
      "  warnings.warn(\n"
     ]
    },
    {
     "name": "stdout",
     "output_type": "stream",
     "text": [
      "241 k=6;n_neighbors=3;assign_labels=kmeans;n_inits=10 116739 0.3739745363269561\n"
     ]
    },
    {
     "name": "stderr",
     "output_type": "stream",
     "text": [
      "/home/olya/anaconda3/lib/python3.8/site-packages/sklearn/manifold/_spectral_embedding.py:274: UserWarning: Graph is not fully connected, spectral embedding may not work as expected.\n",
      "  warnings.warn(\n"
     ]
    },
    {
     "name": "stdout",
     "output_type": "stream",
     "text": [
      "242 k=6;n_neighbors=3;assign_labels=kmeans;n_inits=10 26225 0.3739745363269561\n"
     ]
    },
    {
     "name": "stderr",
     "output_type": "stream",
     "text": [
      "/home/olya/anaconda3/lib/python3.8/site-packages/sklearn/manifold/_spectral_embedding.py:274: UserWarning: Graph is not fully connected, spectral embedding may not work as expected.\n",
      "  warnings.warn(\n"
     ]
    },
    {
     "name": "stdout",
     "output_type": "stream",
     "text": [
      "243 k=6;n_neighbors=3;assign_labels=kmeans;n_inits=10 777572 0.3739745363269561\n"
     ]
    },
    {
     "name": "stderr",
     "output_type": "stream",
     "text": [
      "/home/olya/anaconda3/lib/python3.8/site-packages/sklearn/manifold/_spectral_embedding.py:274: UserWarning: Graph is not fully connected, spectral embedding may not work as expected.\n",
      "  warnings.warn(\n"
     ]
    },
    {
     "name": "stdout",
     "output_type": "stream",
     "text": [
      "244 k=6;n_neighbors=3;assign_labels=kmeans;n_inits=10 288389 0.3739745363269561\n",
      "245 k=6;n_neighbors=5;assign_labels=kmeans;n_inits=10 670487 0.38923754913315833\n",
      "246 k=6;n_neighbors=5;assign_labels=kmeans;n_inits=10 116739 0.39182771469854494\n",
      "247 k=6;n_neighbors=5;assign_labels=kmeans;n_inits=10 26225 0.38923754913315833\n",
      "248 k=6;n_neighbors=5;assign_labels=kmeans;n_inits=10 777572 0.38923754913315833\n",
      "249 k=6;n_neighbors=5;assign_labels=kmeans;n_inits=10 288389 0.38923754913315833\n",
      "250 k=6;n_neighbors=10;assign_labels=kmeans;n_inits=10 670487 0.38495147007211206\n",
      "251 k=6;n_neighbors=10;assign_labels=kmeans;n_inits=10 116739 0.38495147007211206\n",
      "252 k=6;n_neighbors=10;assign_labels=kmeans;n_inits=10 26225 0.38495147007211206\n",
      "253 k=6;n_neighbors=10;assign_labels=kmeans;n_inits=10 777572 0.38495147007211206\n",
      "254 k=6;n_neighbors=10;assign_labels=kmeans;n_inits=10 288389 0.38495147007211206\n",
      "255 k=6;n_neighbors=20;assign_labels=kmeans;n_inits=10 670487 0.35911879101440847\n",
      "256 k=6;n_neighbors=20;assign_labels=kmeans;n_inits=10 116739 0.35911879101440847\n",
      "257 k=6;n_neighbors=20;assign_labels=kmeans;n_inits=10 26225 0.35911879101440847\n",
      "258 k=6;n_neighbors=20;assign_labels=kmeans;n_inits=10 777572 0.35911879101440847\n",
      "259 k=6;n_neighbors=20;assign_labels=kmeans;n_inits=10 288389 0.35911879101440847\n"
     ]
    },
    {
     "name": "stderr",
     "output_type": "stream",
     "text": [
      "/home/olya/anaconda3/lib/python3.8/site-packages/sklearn/manifold/_spectral_embedding.py:274: UserWarning: Graph is not fully connected, spectral embedding may not work as expected.\n",
      "  warnings.warn(\n"
     ]
    },
    {
     "name": "stdout",
     "output_type": "stream",
     "text": [
      "260 k=6;n_neighbors=3;assign_labels=discretize;n_inits=10 670487 0.38667976950827354\n"
     ]
    },
    {
     "name": "stderr",
     "output_type": "stream",
     "text": [
      "/home/olya/anaconda3/lib/python3.8/site-packages/sklearn/manifold/_spectral_embedding.py:274: UserWarning: Graph is not fully connected, spectral embedding may not work as expected.\n",
      "  warnings.warn(\n"
     ]
    },
    {
     "name": "stdout",
     "output_type": "stream",
     "text": [
      "261 k=6;n_neighbors=3;assign_labels=discretize;n_inits=10 116739 0.38667976950827354\n"
     ]
    },
    {
     "name": "stderr",
     "output_type": "stream",
     "text": [
      "/home/olya/anaconda3/lib/python3.8/site-packages/sklearn/manifold/_spectral_embedding.py:274: UserWarning: Graph is not fully connected, spectral embedding may not work as expected.\n",
      "  warnings.warn(\n"
     ]
    },
    {
     "name": "stdout",
     "output_type": "stream",
     "text": [
      "262 k=6;n_neighbors=3;assign_labels=discretize;n_inits=10 26225 0.38667976950827354\n"
     ]
    },
    {
     "name": "stderr",
     "output_type": "stream",
     "text": [
      "/home/olya/anaconda3/lib/python3.8/site-packages/sklearn/manifold/_spectral_embedding.py:274: UserWarning: Graph is not fully connected, spectral embedding may not work as expected.\n",
      "  warnings.warn(\n"
     ]
    },
    {
     "name": "stdout",
     "output_type": "stream",
     "text": [
      "263 k=6;n_neighbors=3;assign_labels=discretize;n_inits=10 777572 0.38667976950827354\n"
     ]
    },
    {
     "name": "stderr",
     "output_type": "stream",
     "text": [
      "/home/olya/anaconda3/lib/python3.8/site-packages/sklearn/manifold/_spectral_embedding.py:274: UserWarning: Graph is not fully connected, spectral embedding may not work as expected.\n",
      "  warnings.warn(\n"
     ]
    },
    {
     "name": "stdout",
     "output_type": "stream",
     "text": [
      "264 k=6;n_neighbors=3;assign_labels=discretize;n_inits=10 288389 0.38667976950827354\n",
      "265 k=6;n_neighbors=5;assign_labels=discretize;n_inits=10 670487 0.4307773747469027\n",
      "266 k=6;n_neighbors=5;assign_labels=discretize;n_inits=10 116739 0.4307773747469027\n",
      "267 k=6;n_neighbors=5;assign_labels=discretize;n_inits=10 26225 0.4307773747469027\n",
      "268 k=6;n_neighbors=5;assign_labels=discretize;n_inits=10 777572 0.4307773747469027\n",
      "269 k=6;n_neighbors=5;assign_labels=discretize;n_inits=10 288389 0.4307773747469027\n",
      "270 k=6;n_neighbors=10;assign_labels=discretize;n_inits=10 670487 0.4244934370855481\n",
      "271 k=6;n_neighbors=10;assign_labels=discretize;n_inits=10 116739 0.42978343045820333\n",
      "272 k=6;n_neighbors=10;assign_labels=discretize;n_inits=10 26225 0.4244934370855481\n",
      "273 k=6;n_neighbors=10;assign_labels=discretize;n_inits=10 777572 0.42978343045820333\n",
      "274 k=6;n_neighbors=10;assign_labels=discretize;n_inits=10 288389 0.421519938376556\n",
      "275 k=6;n_neighbors=20;assign_labels=discretize;n_inits=10 670487 0.3934049883415923\n",
      "276 k=6;n_neighbors=20;assign_labels=discretize;n_inits=10 116739 0.3935178645109011\n",
      "277 k=6;n_neighbors=20;assign_labels=discretize;n_inits=10 26225 0.3934049883415923\n",
      "278 k=6;n_neighbors=20;assign_labels=discretize;n_inits=10 777572 0.3935178645109011\n",
      "279 k=6;n_neighbors=20;assign_labels=discretize;n_inits=10 288389 0.3865841885131097\n"
     ]
    },
    {
     "name": "stderr",
     "output_type": "stream",
     "text": [
      "/home/olya/anaconda3/lib/python3.8/site-packages/sklearn/manifold/_spectral_embedding.py:274: UserWarning: Graph is not fully connected, spectral embedding may not work as expected.\n",
      "  warnings.warn(\n"
     ]
    },
    {
     "name": "stdout",
     "output_type": "stream",
     "text": [
      "280 k=6;n_neighbors=3;assign_labels=cluster_qr;n_inits=10 670487 0.38619443015719124\n"
     ]
    },
    {
     "name": "stderr",
     "output_type": "stream",
     "text": [
      "/home/olya/anaconda3/lib/python3.8/site-packages/sklearn/manifold/_spectral_embedding.py:274: UserWarning: Graph is not fully connected, spectral embedding may not work as expected.\n",
      "  warnings.warn(\n"
     ]
    },
    {
     "name": "stdout",
     "output_type": "stream",
     "text": [
      "281 k=6;n_neighbors=3;assign_labels=cluster_qr;n_inits=10 116739 0.38619443015719124\n"
     ]
    },
    {
     "name": "stderr",
     "output_type": "stream",
     "text": [
      "/home/olya/anaconda3/lib/python3.8/site-packages/sklearn/manifold/_spectral_embedding.py:274: UserWarning: Graph is not fully connected, spectral embedding may not work as expected.\n",
      "  warnings.warn(\n"
     ]
    },
    {
     "name": "stdout",
     "output_type": "stream",
     "text": [
      "282 k=6;n_neighbors=3;assign_labels=cluster_qr;n_inits=10 26225 0.38619443015719124\n"
     ]
    },
    {
     "name": "stderr",
     "output_type": "stream",
     "text": [
      "/home/olya/anaconda3/lib/python3.8/site-packages/sklearn/manifold/_spectral_embedding.py:274: UserWarning: Graph is not fully connected, spectral embedding may not work as expected.\n",
      "  warnings.warn(\n"
     ]
    },
    {
     "name": "stdout",
     "output_type": "stream",
     "text": [
      "283 k=6;n_neighbors=3;assign_labels=cluster_qr;n_inits=10 777572 0.38619443015719124\n"
     ]
    },
    {
     "name": "stderr",
     "output_type": "stream",
     "text": [
      "/home/olya/anaconda3/lib/python3.8/site-packages/sklearn/manifold/_spectral_embedding.py:274: UserWarning: Graph is not fully connected, spectral embedding may not work as expected.\n",
      "  warnings.warn(\n"
     ]
    },
    {
     "name": "stdout",
     "output_type": "stream",
     "text": [
      "284 k=6;n_neighbors=3;assign_labels=cluster_qr;n_inits=10 288389 0.38619443015719124\n",
      "285 k=6;n_neighbors=5;assign_labels=cluster_qr;n_inits=10 670487 0.42156781243739744\n",
      "286 k=6;n_neighbors=5;assign_labels=cluster_qr;n_inits=10 116739 0.42156781243739744\n",
      "287 k=6;n_neighbors=5;assign_labels=cluster_qr;n_inits=10 26225 0.42156781243739744\n",
      "288 k=6;n_neighbors=5;assign_labels=cluster_qr;n_inits=10 777572 0.42156781243739744\n",
      "289 k=6;n_neighbors=5;assign_labels=cluster_qr;n_inits=10 288389 0.42156781243739744\n",
      "290 k=6;n_neighbors=10;assign_labels=cluster_qr;n_inits=10 670487 0.39782648395503073\n",
      "291 k=6;n_neighbors=10;assign_labels=cluster_qr;n_inits=10 116739 0.39782648395503073\n",
      "292 k=6;n_neighbors=10;assign_labels=cluster_qr;n_inits=10 26225 0.39782648395503073\n",
      "293 k=6;n_neighbors=10;assign_labels=cluster_qr;n_inits=10 777572 0.39782648395503073\n",
      "294 k=6;n_neighbors=10;assign_labels=cluster_qr;n_inits=10 288389 0.39782648395503073\n",
      "295 k=6;n_neighbors=20;assign_labels=cluster_qr;n_inits=10 670487 0.4002752702278869\n",
      "296 k=6;n_neighbors=20;assign_labels=cluster_qr;n_inits=10 116739 0.4002752702278869\n",
      "297 k=6;n_neighbors=20;assign_labels=cluster_qr;n_inits=10 26225 0.4002752702278869\n",
      "298 k=6;n_neighbors=20;assign_labels=cluster_qr;n_inits=10 777572 0.4002752702278869\n",
      "299 k=6;n_neighbors=20;assign_labels=cluster_qr;n_inits=10 288389 0.4002752702278869\n"
     ]
    },
    {
     "name": "stderr",
     "output_type": "stream",
     "text": [
      "/home/olya/anaconda3/lib/python3.8/site-packages/sklearn/manifold/_spectral_embedding.py:274: UserWarning: Graph is not fully connected, spectral embedding may not work as expected.\n",
      "  warnings.warn(\n"
     ]
    },
    {
     "name": "stdout",
     "output_type": "stream",
     "text": [
      "300 k=7;n_neighbors=3;assign_labels=kmeans;n_inits=10 670487 0.37656400874035717\n"
     ]
    },
    {
     "name": "stderr",
     "output_type": "stream",
     "text": [
      "/home/olya/anaconda3/lib/python3.8/site-packages/sklearn/manifold/_spectral_embedding.py:274: UserWarning: Graph is not fully connected, spectral embedding may not work as expected.\n",
      "  warnings.warn(\n"
     ]
    },
    {
     "name": "stdout",
     "output_type": "stream",
     "text": [
      "301 k=7;n_neighbors=3;assign_labels=kmeans;n_inits=10 116739 0.37656400874035717\n"
     ]
    },
    {
     "name": "stderr",
     "output_type": "stream",
     "text": [
      "/home/olya/anaconda3/lib/python3.8/site-packages/sklearn/manifold/_spectral_embedding.py:274: UserWarning: Graph is not fully connected, spectral embedding may not work as expected.\n",
      "  warnings.warn(\n"
     ]
    },
    {
     "name": "stdout",
     "output_type": "stream",
     "text": [
      "302 k=7;n_neighbors=3;assign_labels=kmeans;n_inits=10 26225 0.37656400874035717\n"
     ]
    },
    {
     "name": "stderr",
     "output_type": "stream",
     "text": [
      "/home/olya/anaconda3/lib/python3.8/site-packages/sklearn/manifold/_spectral_embedding.py:274: UserWarning: Graph is not fully connected, spectral embedding may not work as expected.\n",
      "  warnings.warn(\n"
     ]
    },
    {
     "name": "stdout",
     "output_type": "stream",
     "text": [
      "303 k=7;n_neighbors=3;assign_labels=kmeans;n_inits=10 777572 0.37656400874035717\n"
     ]
    },
    {
     "name": "stderr",
     "output_type": "stream",
     "text": [
      "/home/olya/anaconda3/lib/python3.8/site-packages/sklearn/manifold/_spectral_embedding.py:274: UserWarning: Graph is not fully connected, spectral embedding may not work as expected.\n",
      "  warnings.warn(\n"
     ]
    },
    {
     "name": "stdout",
     "output_type": "stream",
     "text": [
      "304 k=7;n_neighbors=3;assign_labels=kmeans;n_inits=10 288389 0.37656400874035717\n",
      "305 k=7;n_neighbors=5;assign_labels=kmeans;n_inits=10 670487 0.38675711714093036\n",
      "306 k=7;n_neighbors=5;assign_labels=kmeans;n_inits=10 116739 0.38675711714093036\n",
      "307 k=7;n_neighbors=5;assign_labels=kmeans;n_inits=10 26225 0.38675711714093036\n",
      "308 k=7;n_neighbors=5;assign_labels=kmeans;n_inits=10 777572 0.38675711714093036\n",
      "309 k=7;n_neighbors=5;assign_labels=kmeans;n_inits=10 288389 0.38675711714093036\n",
      "310 k=7;n_neighbors=10;assign_labels=kmeans;n_inits=10 670487 0.38262303432930883\n",
      "311 k=7;n_neighbors=10;assign_labels=kmeans;n_inits=10 116739 0.38262303432930883\n",
      "312 k=7;n_neighbors=10;assign_labels=kmeans;n_inits=10 26225 0.38262303432930883\n",
      "313 k=7;n_neighbors=10;assign_labels=kmeans;n_inits=10 777572 0.37779719508532794\n",
      "314 k=7;n_neighbors=10;assign_labels=kmeans;n_inits=10 288389 0.38262303432930883\n",
      "315 k=7;n_neighbors=20;assign_labels=kmeans;n_inits=10 670487 0.34648840315988844\n",
      "316 k=7;n_neighbors=20;assign_labels=kmeans;n_inits=10 116739 0.34648840315988844\n",
      "317 k=7;n_neighbors=20;assign_labels=kmeans;n_inits=10 26225 0.34648840315988844\n",
      "318 k=7;n_neighbors=20;assign_labels=kmeans;n_inits=10 777572 0.34648840315988844\n",
      "319 k=7;n_neighbors=20;assign_labels=kmeans;n_inits=10 288389 0.34648840315988844\n"
     ]
    },
    {
     "name": "stderr",
     "output_type": "stream",
     "text": [
      "/home/olya/anaconda3/lib/python3.8/site-packages/sklearn/manifold/_spectral_embedding.py:274: UserWarning: Graph is not fully connected, spectral embedding may not work as expected.\n",
      "  warnings.warn(\n"
     ]
    },
    {
     "name": "stdout",
     "output_type": "stream",
     "text": [
      "320 k=7;n_neighbors=3;assign_labels=discretize;n_inits=10 670487 0.3823873830203569\n"
     ]
    },
    {
     "name": "stderr",
     "output_type": "stream",
     "text": [
      "/home/olya/anaconda3/lib/python3.8/site-packages/sklearn/manifold/_spectral_embedding.py:274: UserWarning: Graph is not fully connected, spectral embedding may not work as expected.\n",
      "  warnings.warn(\n"
     ]
    },
    {
     "name": "stdout",
     "output_type": "stream",
     "text": [
      "321 k=7;n_neighbors=3;assign_labels=discretize;n_inits=10 116739 0.3823873830203569\n"
     ]
    },
    {
     "name": "stderr",
     "output_type": "stream",
     "text": [
      "/home/olya/anaconda3/lib/python3.8/site-packages/sklearn/manifold/_spectral_embedding.py:274: UserWarning: Graph is not fully connected, spectral embedding may not work as expected.\n",
      "  warnings.warn(\n"
     ]
    },
    {
     "name": "stdout",
     "output_type": "stream",
     "text": [
      "322 k=7;n_neighbors=3;assign_labels=discretize;n_inits=10 26225 0.3823873830203569\n"
     ]
    },
    {
     "name": "stderr",
     "output_type": "stream",
     "text": [
      "/home/olya/anaconda3/lib/python3.8/site-packages/sklearn/manifold/_spectral_embedding.py:274: UserWarning: Graph is not fully connected, spectral embedding may not work as expected.\n",
      "  warnings.warn(\n"
     ]
    },
    {
     "name": "stdout",
     "output_type": "stream",
     "text": [
      "323 k=7;n_neighbors=3;assign_labels=discretize;n_inits=10 777572 0.3823873830203569\n"
     ]
    },
    {
     "name": "stderr",
     "output_type": "stream",
     "text": [
      "/home/olya/anaconda3/lib/python3.8/site-packages/sklearn/manifold/_spectral_embedding.py:274: UserWarning: Graph is not fully connected, spectral embedding may not work as expected.\n",
      "  warnings.warn(\n"
     ]
    },
    {
     "name": "stdout",
     "output_type": "stream",
     "text": [
      "324 k=7;n_neighbors=3;assign_labels=discretize;n_inits=10 288389 0.38333273961472847\n",
      "325 k=7;n_neighbors=5;assign_labels=discretize;n_inits=10 670487 0.41253394043897046\n",
      "326 k=7;n_neighbors=5;assign_labels=discretize;n_inits=10 116739 0.41253394043897046\n",
      "327 k=7;n_neighbors=5;assign_labels=discretize;n_inits=10 26225 0.41253394043897046\n",
      "328 k=7;n_neighbors=5;assign_labels=discretize;n_inits=10 777572 0.41239894139087524\n",
      "329 k=7;n_neighbors=5;assign_labels=discretize;n_inits=10 288389 0.41253394043897046\n",
      "330 k=7;n_neighbors=10;assign_labels=discretize;n_inits=10 670487 0.41241659259880864\n",
      "331 k=7;n_neighbors=10;assign_labels=discretize;n_inits=10 116739 0.41241659259880864\n",
      "332 k=7;n_neighbors=10;assign_labels=discretize;n_inits=10 26225 0.4107300547296455\n",
      "333 k=7;n_neighbors=10;assign_labels=discretize;n_inits=10 777572 0.4107300547296455\n",
      "334 k=7;n_neighbors=10;assign_labels=discretize;n_inits=10 288389 0.41241659259880864\n",
      "335 k=7;n_neighbors=20;assign_labels=discretize;n_inits=10 670487 0.3742032313364533\n",
      "336 k=7;n_neighbors=20;assign_labels=discretize;n_inits=10 116739 0.37556872827404797\n",
      "337 k=7;n_neighbors=20;assign_labels=discretize;n_inits=10 26225 0.3774257052406056\n",
      "338 k=7;n_neighbors=20;assign_labels=discretize;n_inits=10 777572 0.37457808887169\n",
      "339 k=7;n_neighbors=20;assign_labels=discretize;n_inits=10 288389 0.3742032313364533\n"
     ]
    },
    {
     "name": "stderr",
     "output_type": "stream",
     "text": [
      "/home/olya/anaconda3/lib/python3.8/site-packages/sklearn/manifold/_spectral_embedding.py:274: UserWarning: Graph is not fully connected, spectral embedding may not work as expected.\n",
      "  warnings.warn(\n"
     ]
    },
    {
     "name": "stdout",
     "output_type": "stream",
     "text": [
      "340 k=7;n_neighbors=3;assign_labels=cluster_qr;n_inits=10 670487 0.38534125534728375\n"
     ]
    },
    {
     "name": "stderr",
     "output_type": "stream",
     "text": [
      "/home/olya/anaconda3/lib/python3.8/site-packages/sklearn/manifold/_spectral_embedding.py:274: UserWarning: Graph is not fully connected, spectral embedding may not work as expected.\n",
      "  warnings.warn(\n"
     ]
    },
    {
     "name": "stdout",
     "output_type": "stream",
     "text": [
      "341 k=7;n_neighbors=3;assign_labels=cluster_qr;n_inits=10 116739 0.38534125534728375\n"
     ]
    },
    {
     "name": "stderr",
     "output_type": "stream",
     "text": [
      "/home/olya/anaconda3/lib/python3.8/site-packages/sklearn/manifold/_spectral_embedding.py:274: UserWarning: Graph is not fully connected, spectral embedding may not work as expected.\n",
      "  warnings.warn(\n"
     ]
    },
    {
     "name": "stdout",
     "output_type": "stream",
     "text": [
      "342 k=7;n_neighbors=3;assign_labels=cluster_qr;n_inits=10 26225 0.38534125534728375\n"
     ]
    },
    {
     "name": "stderr",
     "output_type": "stream",
     "text": [
      "/home/olya/anaconda3/lib/python3.8/site-packages/sklearn/manifold/_spectral_embedding.py:274: UserWarning: Graph is not fully connected, spectral embedding may not work as expected.\n",
      "  warnings.warn(\n"
     ]
    },
    {
     "name": "stdout",
     "output_type": "stream",
     "text": [
      "343 k=7;n_neighbors=3;assign_labels=cluster_qr;n_inits=10 777572 0.38534125534728375\n"
     ]
    },
    {
     "name": "stderr",
     "output_type": "stream",
     "text": [
      "/home/olya/anaconda3/lib/python3.8/site-packages/sklearn/manifold/_spectral_embedding.py:274: UserWarning: Graph is not fully connected, spectral embedding may not work as expected.\n",
      "  warnings.warn(\n"
     ]
    },
    {
     "name": "stdout",
     "output_type": "stream",
     "text": [
      "344 k=7;n_neighbors=3;assign_labels=cluster_qr;n_inits=10 288389 0.38534125534728375\n",
      "345 k=7;n_neighbors=5;assign_labels=cluster_qr;n_inits=10 670487 0.39903974998022973\n",
      "346 k=7;n_neighbors=5;assign_labels=cluster_qr;n_inits=10 116739 0.39903974998022973\n",
      "347 k=7;n_neighbors=5;assign_labels=cluster_qr;n_inits=10 26225 0.39903974998022973\n",
      "348 k=7;n_neighbors=5;assign_labels=cluster_qr;n_inits=10 777572 0.39903974998022973\n",
      "349 k=7;n_neighbors=5;assign_labels=cluster_qr;n_inits=10 288389 0.39903974998022973\n",
      "350 k=7;n_neighbors=10;assign_labels=cluster_qr;n_inits=10 670487 0.3932972800255611\n",
      "351 k=7;n_neighbors=10;assign_labels=cluster_qr;n_inits=10 116739 0.3932972800255611\n",
      "352 k=7;n_neighbors=10;assign_labels=cluster_qr;n_inits=10 26225 0.3932972800255611\n",
      "353 k=7;n_neighbors=10;assign_labels=cluster_qr;n_inits=10 777572 0.3932972800255611\n",
      "354 k=7;n_neighbors=10;assign_labels=cluster_qr;n_inits=10 288389 0.3932972800255611\n",
      "355 k=7;n_neighbors=20;assign_labels=cluster_qr;n_inits=10 670487 0.3387982400532429\n",
      "356 k=7;n_neighbors=20;assign_labels=cluster_qr;n_inits=10 116739 0.3387982400532429\n",
      "357 k=7;n_neighbors=20;assign_labels=cluster_qr;n_inits=10 26225 0.3387982400532429\n",
      "358 k=7;n_neighbors=20;assign_labels=cluster_qr;n_inits=10 777572 0.3387982400532429\n",
      "359 k=7;n_neighbors=20;assign_labels=cluster_qr;n_inits=10 288389 0.3387982400532429\n"
     ]
    },
    {
     "name": "stderr",
     "output_type": "stream",
     "text": [
      "/home/olya/anaconda3/lib/python3.8/site-packages/sklearn/manifold/_spectral_embedding.py:274: UserWarning: Graph is not fully connected, spectral embedding may not work as expected.\n",
      "  warnings.warn(\n"
     ]
    },
    {
     "name": "stdout",
     "output_type": "stream",
     "text": [
      "360 k=8;n_neighbors=3;assign_labels=kmeans;n_inits=10 670487 0.3795880124174044\n"
     ]
    },
    {
     "name": "stderr",
     "output_type": "stream",
     "text": [
      "/home/olya/anaconda3/lib/python3.8/site-packages/sklearn/manifold/_spectral_embedding.py:274: UserWarning: Graph is not fully connected, spectral embedding may not work as expected.\n",
      "  warnings.warn(\n"
     ]
    },
    {
     "name": "stdout",
     "output_type": "stream",
     "text": [
      "361 k=8;n_neighbors=3;assign_labels=kmeans;n_inits=10 116739 0.3795880124174044\n"
     ]
    },
    {
     "name": "stderr",
     "output_type": "stream",
     "text": [
      "/home/olya/anaconda3/lib/python3.8/site-packages/sklearn/manifold/_spectral_embedding.py:274: UserWarning: Graph is not fully connected, spectral embedding may not work as expected.\n",
      "  warnings.warn(\n"
     ]
    },
    {
     "name": "stdout",
     "output_type": "stream",
     "text": [
      "362 k=8;n_neighbors=3;assign_labels=kmeans;n_inits=10 26225 0.3795880124174044\n"
     ]
    },
    {
     "name": "stderr",
     "output_type": "stream",
     "text": [
      "/home/olya/anaconda3/lib/python3.8/site-packages/sklearn/manifold/_spectral_embedding.py:274: UserWarning: Graph is not fully connected, spectral embedding may not work as expected.\n",
      "  warnings.warn(\n"
     ]
    },
    {
     "name": "stdout",
     "output_type": "stream",
     "text": [
      "363 k=8;n_neighbors=3;assign_labels=kmeans;n_inits=10 777572 0.3795880124174044\n"
     ]
    },
    {
     "name": "stderr",
     "output_type": "stream",
     "text": [
      "/home/olya/anaconda3/lib/python3.8/site-packages/sklearn/manifold/_spectral_embedding.py:274: UserWarning: Graph is not fully connected, spectral embedding may not work as expected.\n",
      "  warnings.warn(\n"
     ]
    },
    {
     "name": "stdout",
     "output_type": "stream",
     "text": [
      "364 k=8;n_neighbors=3;assign_labels=kmeans;n_inits=10 288389 0.3795880124174044\n",
      "365 k=8;n_neighbors=5;assign_labels=kmeans;n_inits=10 670487 0.38305448550948806\n",
      "366 k=8;n_neighbors=5;assign_labels=kmeans;n_inits=10 116739 0.38305448550948806\n",
      "367 k=8;n_neighbors=5;assign_labels=kmeans;n_inits=10 26225 0.38305448550948806\n",
      "368 k=8;n_neighbors=5;assign_labels=kmeans;n_inits=10 777572 0.38305448550948806\n",
      "369 k=8;n_neighbors=5;assign_labels=kmeans;n_inits=10 288389 0.38305448550948806\n",
      "370 k=8;n_neighbors=10;assign_labels=kmeans;n_inits=10 670487 0.38126906914379227\n",
      "371 k=8;n_neighbors=10;assign_labels=kmeans;n_inits=10 116739 0.38126906914379227\n",
      "372 k=8;n_neighbors=10;assign_labels=kmeans;n_inits=10 26225 0.38126906914379227\n",
      "373 k=8;n_neighbors=10;assign_labels=kmeans;n_inits=10 777572 0.38126906914379227\n",
      "374 k=8;n_neighbors=10;assign_labels=kmeans;n_inits=10 288389 0.38126906914379227\n",
      "375 k=8;n_neighbors=20;assign_labels=kmeans;n_inits=10 670487 0.33992068185659474\n",
      "376 k=8;n_neighbors=20;assign_labels=kmeans;n_inits=10 116739 0.33992068185659474\n",
      "377 k=8;n_neighbors=20;assign_labels=kmeans;n_inits=10 26225 0.33964142961460175\n",
      "378 k=8;n_neighbors=20;assign_labels=kmeans;n_inits=10 777572 0.3431456273540111\n",
      "379 k=8;n_neighbors=20;assign_labels=kmeans;n_inits=10 288389 0.338122925422615\n"
     ]
    },
    {
     "name": "stderr",
     "output_type": "stream",
     "text": [
      "/home/olya/anaconda3/lib/python3.8/site-packages/sklearn/manifold/_spectral_embedding.py:274: UserWarning: Graph is not fully connected, spectral embedding may not work as expected.\n",
      "  warnings.warn(\n"
     ]
    },
    {
     "name": "stdout",
     "output_type": "stream",
     "text": [
      "380 k=8;n_neighbors=3;assign_labels=discretize;n_inits=10 670487 0.3909907656961251\n"
     ]
    },
    {
     "name": "stderr",
     "output_type": "stream",
     "text": [
      "/home/olya/anaconda3/lib/python3.8/site-packages/sklearn/manifold/_spectral_embedding.py:274: UserWarning: Graph is not fully connected, spectral embedding may not work as expected.\n",
      "  warnings.warn(\n"
     ]
    },
    {
     "name": "stdout",
     "output_type": "stream",
     "text": [
      "381 k=8;n_neighbors=3;assign_labels=discretize;n_inits=10 116739 0.3909907656961251\n"
     ]
    },
    {
     "name": "stderr",
     "output_type": "stream",
     "text": [
      "/home/olya/anaconda3/lib/python3.8/site-packages/sklearn/manifold/_spectral_embedding.py:274: UserWarning: Graph is not fully connected, spectral embedding may not work as expected.\n",
      "  warnings.warn(\n"
     ]
    },
    {
     "name": "stdout",
     "output_type": "stream",
     "text": [
      "382 k=8;n_neighbors=3;assign_labels=discretize;n_inits=10 26225 0.3909907656961251\n"
     ]
    },
    {
     "name": "stderr",
     "output_type": "stream",
     "text": [
      "/home/olya/anaconda3/lib/python3.8/site-packages/sklearn/manifold/_spectral_embedding.py:274: UserWarning: Graph is not fully connected, spectral embedding may not work as expected.\n",
      "  warnings.warn(\n"
     ]
    },
    {
     "name": "stdout",
     "output_type": "stream",
     "text": [
      "383 k=8;n_neighbors=3;assign_labels=discretize;n_inits=10 777572 0.3909907656961251\n"
     ]
    },
    {
     "name": "stderr",
     "output_type": "stream",
     "text": [
      "/home/olya/anaconda3/lib/python3.8/site-packages/sklearn/manifold/_spectral_embedding.py:274: UserWarning: Graph is not fully connected, spectral embedding may not work as expected.\n",
      "  warnings.warn(\n"
     ]
    },
    {
     "name": "stdout",
     "output_type": "stream",
     "text": [
      "384 k=8;n_neighbors=3;assign_labels=discretize;n_inits=10 288389 0.3909907656961251\n",
      "385 k=8;n_neighbors=5;assign_labels=discretize;n_inits=10 670487 0.41879745219068487\n",
      "386 k=8;n_neighbors=5;assign_labels=discretize;n_inits=10 116739 0.41974383466649834\n",
      "387 k=8;n_neighbors=5;assign_labels=discretize;n_inits=10 26225 0.41879745219068487\n",
      "388 k=8;n_neighbors=5;assign_labels=discretize;n_inits=10 777572 0.41800038680107027\n",
      "389 k=8;n_neighbors=5;assign_labels=discretize;n_inits=10 288389 0.41879745219068487\n",
      "390 k=8;n_neighbors=10;assign_labels=discretize;n_inits=10 670487 0.3877138237762904\n",
      "391 k=8;n_neighbors=10;assign_labels=discretize;n_inits=10 116739 0.3877138237762904\n",
      "392 k=8;n_neighbors=10;assign_labels=discretize;n_inits=10 26225 0.3877138237762904\n",
      "393 k=8;n_neighbors=10;assign_labels=discretize;n_inits=10 777572 0.3860127563087522\n",
      "394 k=8;n_neighbors=10;assign_labels=discretize;n_inits=10 288389 0.3877138237762904\n",
      "395 k=8;n_neighbors=20;assign_labels=discretize;n_inits=10 670487 0.3654673852255914\n",
      "396 k=8;n_neighbors=20;assign_labels=discretize;n_inits=10 116739 0.3651228525297096\n",
      "397 k=8;n_neighbors=20;assign_labels=discretize;n_inits=10 26225 0.365081110090835\n",
      "398 k=8;n_neighbors=20;assign_labels=discretize;n_inits=10 777572 0.365081110090835\n",
      "399 k=8;n_neighbors=20;assign_labels=discretize;n_inits=10 288389 0.365081110090835\n"
     ]
    },
    {
     "name": "stderr",
     "output_type": "stream",
     "text": [
      "/home/olya/anaconda3/lib/python3.8/site-packages/sklearn/manifold/_spectral_embedding.py:274: UserWarning: Graph is not fully connected, spectral embedding may not work as expected.\n",
      "  warnings.warn(\n"
     ]
    },
    {
     "name": "stdout",
     "output_type": "stream",
     "text": [
      "400 k=8;n_neighbors=3;assign_labels=cluster_qr;n_inits=10 670487 0.38833372496264223\n"
     ]
    },
    {
     "name": "stderr",
     "output_type": "stream",
     "text": [
      "/home/olya/anaconda3/lib/python3.8/site-packages/sklearn/manifold/_spectral_embedding.py:274: UserWarning: Graph is not fully connected, spectral embedding may not work as expected.\n",
      "  warnings.warn(\n"
     ]
    },
    {
     "name": "stdout",
     "output_type": "stream",
     "text": [
      "401 k=8;n_neighbors=3;assign_labels=cluster_qr;n_inits=10 116739 0.38833372496264223\n"
     ]
    },
    {
     "name": "stderr",
     "output_type": "stream",
     "text": [
      "/home/olya/anaconda3/lib/python3.8/site-packages/sklearn/manifold/_spectral_embedding.py:274: UserWarning: Graph is not fully connected, spectral embedding may not work as expected.\n",
      "  warnings.warn(\n"
     ]
    },
    {
     "name": "stdout",
     "output_type": "stream",
     "text": [
      "402 k=8;n_neighbors=3;assign_labels=cluster_qr;n_inits=10 26225 0.38833372496264223\n"
     ]
    },
    {
     "name": "stderr",
     "output_type": "stream",
     "text": [
      "/home/olya/anaconda3/lib/python3.8/site-packages/sklearn/manifold/_spectral_embedding.py:274: UserWarning: Graph is not fully connected, spectral embedding may not work as expected.\n",
      "  warnings.warn(\n"
     ]
    },
    {
     "name": "stdout",
     "output_type": "stream",
     "text": [
      "403 k=8;n_neighbors=3;assign_labels=cluster_qr;n_inits=10 777572 0.38833372496264223\n"
     ]
    },
    {
     "name": "stderr",
     "output_type": "stream",
     "text": [
      "/home/olya/anaconda3/lib/python3.8/site-packages/sklearn/manifold/_spectral_embedding.py:274: UserWarning: Graph is not fully connected, spectral embedding may not work as expected.\n",
      "  warnings.warn(\n"
     ]
    },
    {
     "name": "stdout",
     "output_type": "stream",
     "text": [
      "404 k=8;n_neighbors=3;assign_labels=cluster_qr;n_inits=10 288389 0.38833372496264223\n",
      "405 k=8;n_neighbors=5;assign_labels=cluster_qr;n_inits=10 670487 0.40810641748310933\n",
      "406 k=8;n_neighbors=5;assign_labels=cluster_qr;n_inits=10 116739 0.40810641748310933\n",
      "407 k=8;n_neighbors=5;assign_labels=cluster_qr;n_inits=10 26225 0.40810641748310933\n",
      "408 k=8;n_neighbors=5;assign_labels=cluster_qr;n_inits=10 777572 0.40810641748310933\n",
      "409 k=8;n_neighbors=5;assign_labels=cluster_qr;n_inits=10 288389 0.40810641748310933\n",
      "410 k=8;n_neighbors=10;assign_labels=cluster_qr;n_inits=10 670487 0.4180959001454777\n",
      "411 k=8;n_neighbors=10;assign_labels=cluster_qr;n_inits=10 116739 0.4180959001454777\n",
      "412 k=8;n_neighbors=10;assign_labels=cluster_qr;n_inits=10 26225 0.4180959001454777\n",
      "413 k=8;n_neighbors=10;assign_labels=cluster_qr;n_inits=10 777572 0.4180959001454777\n",
      "414 k=8;n_neighbors=10;assign_labels=cluster_qr;n_inits=10 288389 0.4180959001454777\n",
      "415 k=8;n_neighbors=20;assign_labels=cluster_qr;n_inits=10 670487 0.3556738827199224\n",
      "416 k=8;n_neighbors=20;assign_labels=cluster_qr;n_inits=10 116739 0.3556738827199224\n",
      "417 k=8;n_neighbors=20;assign_labels=cluster_qr;n_inits=10 26225 0.3556738827199224\n",
      "418 k=8;n_neighbors=20;assign_labels=cluster_qr;n_inits=10 777572 0.3556738827199224\n",
      "419 k=8;n_neighbors=20;assign_labels=cluster_qr;n_inits=10 288389 0.3556738827199224\n"
     ]
    },
    {
     "name": "stderr",
     "output_type": "stream",
     "text": [
      "/home/olya/anaconda3/lib/python3.8/site-packages/sklearn/manifold/_spectral_embedding.py:274: UserWarning: Graph is not fully connected, spectral embedding may not work as expected.\n",
      "  warnings.warn(\n"
     ]
    },
    {
     "name": "stdout",
     "output_type": "stream",
     "text": [
      "420 k=9;n_neighbors=3;assign_labels=kmeans;n_inits=10 670487 0.35707687280842376\n"
     ]
    },
    {
     "name": "stderr",
     "output_type": "stream",
     "text": [
      "/home/olya/anaconda3/lib/python3.8/site-packages/sklearn/manifold/_spectral_embedding.py:274: UserWarning: Graph is not fully connected, spectral embedding may not work as expected.\n",
      "  warnings.warn(\n"
     ]
    },
    {
     "name": "stdout",
     "output_type": "stream",
     "text": [
      "421 k=9;n_neighbors=3;assign_labels=kmeans;n_inits=10 116739 0.35707687280842376\n"
     ]
    },
    {
     "name": "stderr",
     "output_type": "stream",
     "text": [
      "/home/olya/anaconda3/lib/python3.8/site-packages/sklearn/manifold/_spectral_embedding.py:274: UserWarning: Graph is not fully connected, spectral embedding may not work as expected.\n",
      "  warnings.warn(\n"
     ]
    },
    {
     "name": "stdout",
     "output_type": "stream",
     "text": [
      "422 k=9;n_neighbors=3;assign_labels=kmeans;n_inits=10 26225 0.35707687280842376\n"
     ]
    },
    {
     "name": "stderr",
     "output_type": "stream",
     "text": [
      "/home/olya/anaconda3/lib/python3.8/site-packages/sklearn/manifold/_spectral_embedding.py:274: UserWarning: Graph is not fully connected, spectral embedding may not work as expected.\n",
      "  warnings.warn(\n"
     ]
    },
    {
     "name": "stdout",
     "output_type": "stream",
     "text": [
      "423 k=9;n_neighbors=3;assign_labels=kmeans;n_inits=10 777572 0.35707687280842376\n"
     ]
    },
    {
     "name": "stderr",
     "output_type": "stream",
     "text": [
      "/home/olya/anaconda3/lib/python3.8/site-packages/sklearn/manifold/_spectral_embedding.py:274: UserWarning: Graph is not fully connected, spectral embedding may not work as expected.\n",
      "  warnings.warn(\n"
     ]
    },
    {
     "name": "stdout",
     "output_type": "stream",
     "text": [
      "424 k=9;n_neighbors=3;assign_labels=kmeans;n_inits=10 288389 0.35707687280842376\n",
      "425 k=9;n_neighbors=5;assign_labels=kmeans;n_inits=10 670487 0.3444466252809289\n",
      "426 k=9;n_neighbors=5;assign_labels=kmeans;n_inits=10 116739 0.34481747312742583\n",
      "427 k=9;n_neighbors=5;assign_labels=kmeans;n_inits=10 26225 0.34481747312742583\n",
      "428 k=9;n_neighbors=5;assign_labels=kmeans;n_inits=10 777572 0.3444466252809289\n",
      "429 k=9;n_neighbors=5;assign_labels=kmeans;n_inits=10 288389 0.3444466252809289\n",
      "430 k=9;n_neighbors=10;assign_labels=kmeans;n_inits=10 670487 0.3378658648307843\n",
      "431 k=9;n_neighbors=10;assign_labels=kmeans;n_inits=10 116739 0.337930491115141\n",
      "432 k=9;n_neighbors=10;assign_labels=kmeans;n_inits=10 26225 0.337930491115141\n",
      "433 k=9;n_neighbors=10;assign_labels=kmeans;n_inits=10 777572 0.3378658648307843\n",
      "434 k=9;n_neighbors=10;assign_labels=kmeans;n_inits=10 288389 0.337930491115141\n",
      "435 k=9;n_neighbors=20;assign_labels=kmeans;n_inits=10 670487 0.32789705944537306\n",
      "436 k=9;n_neighbors=20;assign_labels=kmeans;n_inits=10 116739 0.3273652124385461\n",
      "437 k=9;n_neighbors=20;assign_labels=kmeans;n_inits=10 26225 0.3277375888963592\n",
      "438 k=9;n_neighbors=20;assign_labels=kmeans;n_inits=10 777572 0.3273652124385461\n",
      "439 k=9;n_neighbors=20;assign_labels=kmeans;n_inits=10 288389 0.32810643519651156\n"
     ]
    },
    {
     "name": "stderr",
     "output_type": "stream",
     "text": [
      "/home/olya/anaconda3/lib/python3.8/site-packages/sklearn/manifold/_spectral_embedding.py:274: UserWarning: Graph is not fully connected, spectral embedding may not work as expected.\n",
      "  warnings.warn(\n"
     ]
    },
    {
     "name": "stdout",
     "output_type": "stream",
     "text": [
      "440 k=9;n_neighbors=3;assign_labels=discretize;n_inits=10 670487 0.3675776737759635\n"
     ]
    },
    {
     "name": "stderr",
     "output_type": "stream",
     "text": [
      "/home/olya/anaconda3/lib/python3.8/site-packages/sklearn/manifold/_spectral_embedding.py:274: UserWarning: Graph is not fully connected, spectral embedding may not work as expected.\n",
      "  warnings.warn(\n"
     ]
    },
    {
     "name": "stdout",
     "output_type": "stream",
     "text": [
      "441 k=9;n_neighbors=3;assign_labels=discretize;n_inits=10 116739 0.36930738899256904\n"
     ]
    },
    {
     "name": "stderr",
     "output_type": "stream",
     "text": [
      "/home/olya/anaconda3/lib/python3.8/site-packages/sklearn/manifold/_spectral_embedding.py:274: UserWarning: Graph is not fully connected, spectral embedding may not work as expected.\n",
      "  warnings.warn(\n"
     ]
    },
    {
     "name": "stdout",
     "output_type": "stream",
     "text": [
      "442 k=9;n_neighbors=3;assign_labels=discretize;n_inits=10 26225 0.36930738899256904\n"
     ]
    },
    {
     "name": "stderr",
     "output_type": "stream",
     "text": [
      "/home/olya/anaconda3/lib/python3.8/site-packages/sklearn/manifold/_spectral_embedding.py:274: UserWarning: Graph is not fully connected, spectral embedding may not work as expected.\n",
      "  warnings.warn(\n"
     ]
    },
    {
     "name": "stdout",
     "output_type": "stream",
     "text": [
      "443 k=9;n_neighbors=3;assign_labels=discretize;n_inits=10 777572 0.36930738899256904\n"
     ]
    },
    {
     "name": "stderr",
     "output_type": "stream",
     "text": [
      "/home/olya/anaconda3/lib/python3.8/site-packages/sklearn/manifold/_spectral_embedding.py:274: UserWarning: Graph is not fully connected, spectral embedding may not work as expected.\n",
      "  warnings.warn(\n"
     ]
    },
    {
     "name": "stdout",
     "output_type": "stream",
     "text": [
      "444 k=9;n_neighbors=3;assign_labels=discretize;n_inits=10 288389 0.36930738899256904\n",
      "445 k=9;n_neighbors=5;assign_labels=discretize;n_inits=10 670487 0.3716465412133854\n",
      "446 k=9;n_neighbors=5;assign_labels=discretize;n_inits=10 116739 0.37153332120449\n",
      "447 k=9;n_neighbors=5;assign_labels=discretize;n_inits=10 26225 0.3716465412133854\n",
      "448 k=9;n_neighbors=5;assign_labels=discretize;n_inits=10 777572 0.3716084788698474\n",
      "449 k=9;n_neighbors=5;assign_labels=discretize;n_inits=10 288389 0.3716465412133854\n",
      "450 k=9;n_neighbors=10;assign_labels=discretize;n_inits=10 670487 0.3758365987828688\n",
      "451 k=9;n_neighbors=10;assign_labels=discretize;n_inits=10 116739 0.37413438419958345\n",
      "452 k=9;n_neighbors=10;assign_labels=discretize;n_inits=10 26225 0.3739381668226359\n",
      "453 k=9;n_neighbors=10;assign_labels=discretize;n_inits=10 777572 0.37607845683769886\n",
      "454 k=9;n_neighbors=10;assign_labels=discretize;n_inits=10 288389 0.3758365987828688\n",
      "455 k=9;n_neighbors=20;assign_labels=discretize;n_inits=10 670487 0.3513499665227334\n",
      "456 k=9;n_neighbors=20;assign_labels=discretize;n_inits=10 116739 0.3513499665227334\n",
      "457 k=9;n_neighbors=20;assign_labels=discretize;n_inits=10 26225 0.3513499665227334\n",
      "458 k=9;n_neighbors=20;assign_labels=discretize;n_inits=10 777572 0.3513499665227334\n",
      "459 k=9;n_neighbors=20;assign_labels=discretize;n_inits=10 288389 0.3513499665227334\n"
     ]
    },
    {
     "name": "stderr",
     "output_type": "stream",
     "text": [
      "/home/olya/anaconda3/lib/python3.8/site-packages/sklearn/manifold/_spectral_embedding.py:274: UserWarning: Graph is not fully connected, spectral embedding may not work as expected.\n",
      "  warnings.warn(\n"
     ]
    },
    {
     "name": "stdout",
     "output_type": "stream",
     "text": [
      "460 k=9;n_neighbors=3;assign_labels=cluster_qr;n_inits=10 670487 0.36843110241186094\n"
     ]
    },
    {
     "name": "stderr",
     "output_type": "stream",
     "text": [
      "/home/olya/anaconda3/lib/python3.8/site-packages/sklearn/manifold/_spectral_embedding.py:274: UserWarning: Graph is not fully connected, spectral embedding may not work as expected.\n",
      "  warnings.warn(\n"
     ]
    },
    {
     "name": "stdout",
     "output_type": "stream",
     "text": [
      "461 k=9;n_neighbors=3;assign_labels=cluster_qr;n_inits=10 116739 0.36843110241186094\n"
     ]
    },
    {
     "name": "stderr",
     "output_type": "stream",
     "text": [
      "/home/olya/anaconda3/lib/python3.8/site-packages/sklearn/manifold/_spectral_embedding.py:274: UserWarning: Graph is not fully connected, spectral embedding may not work as expected.\n",
      "  warnings.warn(\n"
     ]
    },
    {
     "name": "stdout",
     "output_type": "stream",
     "text": [
      "462 k=9;n_neighbors=3;assign_labels=cluster_qr;n_inits=10 26225 0.36843110241186094\n"
     ]
    },
    {
     "name": "stderr",
     "output_type": "stream",
     "text": [
      "/home/olya/anaconda3/lib/python3.8/site-packages/sklearn/manifold/_spectral_embedding.py:274: UserWarning: Graph is not fully connected, spectral embedding may not work as expected.\n",
      "  warnings.warn(\n"
     ]
    },
    {
     "name": "stdout",
     "output_type": "stream",
     "text": [
      "463 k=9;n_neighbors=3;assign_labels=cluster_qr;n_inits=10 777572 0.36843110241186094\n"
     ]
    },
    {
     "name": "stderr",
     "output_type": "stream",
     "text": [
      "/home/olya/anaconda3/lib/python3.8/site-packages/sklearn/manifold/_spectral_embedding.py:274: UserWarning: Graph is not fully connected, spectral embedding may not work as expected.\n",
      "  warnings.warn(\n"
     ]
    },
    {
     "name": "stdout",
     "output_type": "stream",
     "text": [
      "464 k=9;n_neighbors=3;assign_labels=cluster_qr;n_inits=10 288389 0.36843110241186094\n",
      "465 k=9;n_neighbors=5;assign_labels=cluster_qr;n_inits=10 670487 0.3837496988959347\n",
      "466 k=9;n_neighbors=5;assign_labels=cluster_qr;n_inits=10 116739 0.3837496988959347\n",
      "467 k=9;n_neighbors=5;assign_labels=cluster_qr;n_inits=10 26225 0.3837496988959347\n",
      "468 k=9;n_neighbors=5;assign_labels=cluster_qr;n_inits=10 777572 0.3837496988959347\n",
      "469 k=9;n_neighbors=5;assign_labels=cluster_qr;n_inits=10 288389 0.3837496988959347\n",
      "470 k=9;n_neighbors=10;assign_labels=cluster_qr;n_inits=10 670487 0.37662160179392856\n",
      "471 k=9;n_neighbors=10;assign_labels=cluster_qr;n_inits=10 116739 0.37662160179392856\n",
      "472 k=9;n_neighbors=10;assign_labels=cluster_qr;n_inits=10 26225 0.37662160179392856\n",
      "473 k=9;n_neighbors=10;assign_labels=cluster_qr;n_inits=10 777572 0.37662160179392856\n",
      "474 k=9;n_neighbors=10;assign_labels=cluster_qr;n_inits=10 288389 0.37662160179392856\n",
      "475 k=9;n_neighbors=20;assign_labels=cluster_qr;n_inits=10 670487 0.34519434160241647\n",
      "476 k=9;n_neighbors=20;assign_labels=cluster_qr;n_inits=10 116739 0.34519434160241647\n",
      "477 k=9;n_neighbors=20;assign_labels=cluster_qr;n_inits=10 26225 0.34519434160241647\n",
      "478 k=9;n_neighbors=20;assign_labels=cluster_qr;n_inits=10 777572 0.34519434160241647\n",
      "479 k=9;n_neighbors=20;assign_labels=cluster_qr;n_inits=10 288389 0.34519434160241647\n"
     ]
    },
    {
     "name": "stderr",
     "output_type": "stream",
     "text": [
      "/home/olya/anaconda3/lib/python3.8/site-packages/sklearn/manifold/_spectral_embedding.py:274: UserWarning: Graph is not fully connected, spectral embedding may not work as expected.\n",
      "  warnings.warn(\n"
     ]
    },
    {
     "name": "stdout",
     "output_type": "stream",
     "text": [
      "480 k=10;n_neighbors=3;assign_labels=kmeans;n_inits=10 670487 0.3713352827542305\n"
     ]
    },
    {
     "name": "stderr",
     "output_type": "stream",
     "text": [
      "/home/olya/anaconda3/lib/python3.8/site-packages/sklearn/manifold/_spectral_embedding.py:274: UserWarning: Graph is not fully connected, spectral embedding may not work as expected.\n",
      "  warnings.warn(\n"
     ]
    },
    {
     "name": "stdout",
     "output_type": "stream",
     "text": [
      "481 k=10;n_neighbors=3;assign_labels=kmeans;n_inits=10 116739 0.37217479377954277\n"
     ]
    },
    {
     "name": "stderr",
     "output_type": "stream",
     "text": [
      "/home/olya/anaconda3/lib/python3.8/site-packages/sklearn/manifold/_spectral_embedding.py:274: UserWarning: Graph is not fully connected, spectral embedding may not work as expected.\n",
      "  warnings.warn(\n"
     ]
    },
    {
     "name": "stdout",
     "output_type": "stream",
     "text": [
      "482 k=10;n_neighbors=3;assign_labels=kmeans;n_inits=10 26225 0.3715993997071458\n"
     ]
    },
    {
     "name": "stderr",
     "output_type": "stream",
     "text": [
      "/home/olya/anaconda3/lib/python3.8/site-packages/sklearn/manifold/_spectral_embedding.py:274: UserWarning: Graph is not fully connected, spectral embedding may not work as expected.\n",
      "  warnings.warn(\n"
     ]
    },
    {
     "name": "stdout",
     "output_type": "stream",
     "text": [
      "483 k=10;n_neighbors=3;assign_labels=kmeans;n_inits=10 777572 0.3724905062066809\n"
     ]
    },
    {
     "name": "stderr",
     "output_type": "stream",
     "text": [
      "/home/olya/anaconda3/lib/python3.8/site-packages/sklearn/manifold/_spectral_embedding.py:274: UserWarning: Graph is not fully connected, spectral embedding may not work as expected.\n",
      "  warnings.warn(\n"
     ]
    },
    {
     "name": "stdout",
     "output_type": "stream",
     "text": [
      "484 k=10;n_neighbors=3;assign_labels=kmeans;n_inits=10 288389 0.3724905062066809\n",
      "485 k=10;n_neighbors=5;assign_labels=kmeans;n_inits=10 670487 0.3432034634598643\n",
      "486 k=10;n_neighbors=5;assign_labels=kmeans;n_inits=10 116739 0.347269578476868\n",
      "487 k=10;n_neighbors=5;assign_labels=kmeans;n_inits=10 26225 0.3432034634598643\n",
      "488 k=10;n_neighbors=5;assign_labels=kmeans;n_inits=10 777572 0.3432034634598643\n",
      "489 k=10;n_neighbors=5;assign_labels=kmeans;n_inits=10 288389 0.3432034634598643\n",
      "490 k=10;n_neighbors=10;assign_labels=kmeans;n_inits=10 670487 0.3358315875395189\n",
      "491 k=10;n_neighbors=10;assign_labels=kmeans;n_inits=10 116739 0.3358315875395189\n",
      "492 k=10;n_neighbors=10;assign_labels=kmeans;n_inits=10 26225 0.3358315875395189\n",
      "493 k=10;n_neighbors=10;assign_labels=kmeans;n_inits=10 777572 0.3358315875395189\n",
      "494 k=10;n_neighbors=10;assign_labels=kmeans;n_inits=10 288389 0.3358315875395189\n",
      "495 k=10;n_neighbors=20;assign_labels=kmeans;n_inits=10 670487 0.3558154530668657\n",
      "496 k=10;n_neighbors=20;assign_labels=kmeans;n_inits=10 116739 0.3560313987942157\n",
      "497 k=10;n_neighbors=20;assign_labels=kmeans;n_inits=10 26225 0.3555496838075384\n",
      "498 k=10;n_neighbors=20;assign_labels=kmeans;n_inits=10 777572 0.3555496838075384\n",
      "499 k=10;n_neighbors=20;assign_labels=kmeans;n_inits=10 288389 0.3555496838075384\n"
     ]
    },
    {
     "name": "stderr",
     "output_type": "stream",
     "text": [
      "/home/olya/anaconda3/lib/python3.8/site-packages/sklearn/manifold/_spectral_embedding.py:274: UserWarning: Graph is not fully connected, spectral embedding may not work as expected.\n",
      "  warnings.warn(\n"
     ]
    },
    {
     "name": "stdout",
     "output_type": "stream",
     "text": [
      "500 k=10;n_neighbors=3;assign_labels=discretize;n_inits=10 670487 0.3726280635648733\n"
     ]
    },
    {
     "name": "stderr",
     "output_type": "stream",
     "text": [
      "/home/olya/anaconda3/lib/python3.8/site-packages/sklearn/manifold/_spectral_embedding.py:274: UserWarning: Graph is not fully connected, spectral embedding may not work as expected.\n",
      "  warnings.warn(\n"
     ]
    },
    {
     "name": "stdout",
     "output_type": "stream",
     "text": [
      "501 k=10;n_neighbors=3;assign_labels=discretize;n_inits=10 116739 0.3726280635648733\n"
     ]
    },
    {
     "name": "stderr",
     "output_type": "stream",
     "text": [
      "/home/olya/anaconda3/lib/python3.8/site-packages/sklearn/manifold/_spectral_embedding.py:274: UserWarning: Graph is not fully connected, spectral embedding may not work as expected.\n",
      "  warnings.warn(\n"
     ]
    },
    {
     "name": "stdout",
     "output_type": "stream",
     "text": [
      "502 k=10;n_neighbors=3;assign_labels=discretize;n_inits=10 26225 0.3726280635648733\n"
     ]
    },
    {
     "name": "stderr",
     "output_type": "stream",
     "text": [
      "/home/olya/anaconda3/lib/python3.8/site-packages/sklearn/manifold/_spectral_embedding.py:274: UserWarning: Graph is not fully connected, spectral embedding may not work as expected.\n",
      "  warnings.warn(\n"
     ]
    },
    {
     "name": "stdout",
     "output_type": "stream",
     "text": [
      "503 k=10;n_neighbors=3;assign_labels=discretize;n_inits=10 777572 0.3726280635648733\n"
     ]
    },
    {
     "name": "stderr",
     "output_type": "stream",
     "text": [
      "/home/olya/anaconda3/lib/python3.8/site-packages/sklearn/manifold/_spectral_embedding.py:274: UserWarning: Graph is not fully connected, spectral embedding may not work as expected.\n",
      "  warnings.warn(\n"
     ]
    },
    {
     "name": "stdout",
     "output_type": "stream",
     "text": [
      "504 k=10;n_neighbors=3;assign_labels=discretize;n_inits=10 288389 0.3726280635648733\n",
      "505 k=10;n_neighbors=5;assign_labels=discretize;n_inits=10 670487 0.3848821902929325\n",
      "506 k=10;n_neighbors=5;assign_labels=discretize;n_inits=10 116739 0.3848821902929325\n",
      "507 k=10;n_neighbors=5;assign_labels=discretize;n_inits=10 26225 0.3851328970007198\n",
      "508 k=10;n_neighbors=5;assign_labels=discretize;n_inits=10 777572 0.3845921808004783\n",
      "509 k=10;n_neighbors=5;assign_labels=discretize;n_inits=10 288389 0.3851328970007198\n",
      "510 k=10;n_neighbors=10;assign_labels=discretize;n_inits=10 670487 0.37320408614628037\n",
      "511 k=10;n_neighbors=10;assign_labels=discretize;n_inits=10 116739 0.37264219784096153\n",
      "512 k=10;n_neighbors=10;assign_labels=discretize;n_inits=10 26225 0.37320408614628037\n",
      "513 k=10;n_neighbors=10;assign_labels=discretize;n_inits=10 777572 0.37207844692306075\n",
      "514 k=10;n_neighbors=10;assign_labels=discretize;n_inits=10 288389 0.37207844692306075\n",
      "515 k=10;n_neighbors=20;assign_labels=discretize;n_inits=10 670487 0.36000535939278555\n",
      "516 k=10;n_neighbors=20;assign_labels=discretize;n_inits=10 116739 0.3599620188361906\n",
      "517 k=10;n_neighbors=20;assign_labels=discretize;n_inits=10 26225 0.3599620188361906\n",
      "518 k=10;n_neighbors=20;assign_labels=discretize;n_inits=10 777572 0.3599190898382566\n",
      "519 k=10;n_neighbors=20;assign_labels=discretize;n_inits=10 288389 0.3599620188361906\n"
     ]
    },
    {
     "name": "stderr",
     "output_type": "stream",
     "text": [
      "/home/olya/anaconda3/lib/python3.8/site-packages/sklearn/manifold/_spectral_embedding.py:274: UserWarning: Graph is not fully connected, spectral embedding may not work as expected.\n",
      "  warnings.warn(\n"
     ]
    },
    {
     "name": "stdout",
     "output_type": "stream",
     "text": [
      "520 k=10;n_neighbors=3;assign_labels=cluster_qr;n_inits=10 670487 0.37113753663757587\n"
     ]
    },
    {
     "name": "stderr",
     "output_type": "stream",
     "text": [
      "/home/olya/anaconda3/lib/python3.8/site-packages/sklearn/manifold/_spectral_embedding.py:274: UserWarning: Graph is not fully connected, spectral embedding may not work as expected.\n",
      "  warnings.warn(\n"
     ]
    },
    {
     "name": "stdout",
     "output_type": "stream",
     "text": [
      "521 k=10;n_neighbors=3;assign_labels=cluster_qr;n_inits=10 116739 0.37113753663757587\n"
     ]
    },
    {
     "name": "stderr",
     "output_type": "stream",
     "text": [
      "/home/olya/anaconda3/lib/python3.8/site-packages/sklearn/manifold/_spectral_embedding.py:274: UserWarning: Graph is not fully connected, spectral embedding may not work as expected.\n",
      "  warnings.warn(\n"
     ]
    },
    {
     "name": "stdout",
     "output_type": "stream",
     "text": [
      "522 k=10;n_neighbors=3;assign_labels=cluster_qr;n_inits=10 26225 0.37113753663757587\n"
     ]
    },
    {
     "name": "stderr",
     "output_type": "stream",
     "text": [
      "/home/olya/anaconda3/lib/python3.8/site-packages/sklearn/manifold/_spectral_embedding.py:274: UserWarning: Graph is not fully connected, spectral embedding may not work as expected.\n",
      "  warnings.warn(\n"
     ]
    },
    {
     "name": "stdout",
     "output_type": "stream",
     "text": [
      "523 k=10;n_neighbors=3;assign_labels=cluster_qr;n_inits=10 777572 0.37113753663757587\n"
     ]
    },
    {
     "name": "stderr",
     "output_type": "stream",
     "text": [
      "/home/olya/anaconda3/lib/python3.8/site-packages/sklearn/manifold/_spectral_embedding.py:274: UserWarning: Graph is not fully connected, spectral embedding may not work as expected.\n",
      "  warnings.warn(\n"
     ]
    },
    {
     "name": "stdout",
     "output_type": "stream",
     "text": [
      "524 k=10;n_neighbors=3;assign_labels=cluster_qr;n_inits=10 288389 0.37113753663757587\n",
      "525 k=10;n_neighbors=5;assign_labels=cluster_qr;n_inits=10 670487 0.39401296126343527\n",
      "526 k=10;n_neighbors=5;assign_labels=cluster_qr;n_inits=10 116739 0.39401296126343527\n",
      "527 k=10;n_neighbors=5;assign_labels=cluster_qr;n_inits=10 26225 0.39401296126343527\n",
      "528 k=10;n_neighbors=5;assign_labels=cluster_qr;n_inits=10 777572 0.39401296126343527\n",
      "529 k=10;n_neighbors=5;assign_labels=cluster_qr;n_inits=10 288389 0.39401296126343527\n",
      "530 k=10;n_neighbors=10;assign_labels=cluster_qr;n_inits=10 670487 0.36510601967849987\n",
      "531 k=10;n_neighbors=10;assign_labels=cluster_qr;n_inits=10 116739 0.36510601967849987\n",
      "532 k=10;n_neighbors=10;assign_labels=cluster_qr;n_inits=10 26225 0.36510601967849987\n",
      "533 k=10;n_neighbors=10;assign_labels=cluster_qr;n_inits=10 777572 0.36510601967849987\n",
      "534 k=10;n_neighbors=10;assign_labels=cluster_qr;n_inits=10 288389 0.36510601967849987\n",
      "535 k=10;n_neighbors=20;assign_labels=cluster_qr;n_inits=10 670487 0.36116049061206157\n",
      "536 k=10;n_neighbors=20;assign_labels=cluster_qr;n_inits=10 116739 0.36116049061206157\n",
      "537 k=10;n_neighbors=20;assign_labels=cluster_qr;n_inits=10 26225 0.36116049061206157\n",
      "538 k=10;n_neighbors=20;assign_labels=cluster_qr;n_inits=10 777572 0.36116049061206157\n",
      "539 k=10;n_neighbors=20;assign_labels=cluster_qr;n_inits=10 288389 0.36116049061206157\n"
     ]
    },
    {
     "name": "stderr",
     "output_type": "stream",
     "text": [
      "/home/olya/anaconda3/lib/python3.8/site-packages/sklearn/manifold/_spectral_embedding.py:274: UserWarning: Graph is not fully connected, spectral embedding may not work as expected.\n",
      "  warnings.warn(\n"
     ]
    },
    {
     "name": "stdout",
     "output_type": "stream",
     "text": [
      "540 k=11;n_neighbors=3;assign_labels=kmeans;n_inits=10 670487 0.4107784748019416\n"
     ]
    },
    {
     "name": "stderr",
     "output_type": "stream",
     "text": [
      "/home/olya/anaconda3/lib/python3.8/site-packages/sklearn/manifold/_spectral_embedding.py:274: UserWarning: Graph is not fully connected, spectral embedding may not work as expected.\n",
      "  warnings.warn(\n"
     ]
    },
    {
     "name": "stdout",
     "output_type": "stream",
     "text": [
      "541 k=11;n_neighbors=3;assign_labels=kmeans;n_inits=10 116739 0.4104206248627541\n"
     ]
    },
    {
     "name": "stderr",
     "output_type": "stream",
     "text": [
      "/home/olya/anaconda3/lib/python3.8/site-packages/sklearn/manifold/_spectral_embedding.py:274: UserWarning: Graph is not fully connected, spectral embedding may not work as expected.\n",
      "  warnings.warn(\n"
     ]
    },
    {
     "name": "stdout",
     "output_type": "stream",
     "text": [
      "542 k=11;n_neighbors=3;assign_labels=kmeans;n_inits=10 26225 0.4103343500108192\n"
     ]
    },
    {
     "name": "stderr",
     "output_type": "stream",
     "text": [
      "/home/olya/anaconda3/lib/python3.8/site-packages/sklearn/manifold/_spectral_embedding.py:274: UserWarning: Graph is not fully connected, spectral embedding may not work as expected.\n",
      "  warnings.warn(\n"
     ]
    },
    {
     "name": "stdout",
     "output_type": "stream",
     "text": [
      "543 k=11;n_neighbors=3;assign_labels=kmeans;n_inits=10 777572 0.4103343500108192\n"
     ]
    },
    {
     "name": "stderr",
     "output_type": "stream",
     "text": [
      "/home/olya/anaconda3/lib/python3.8/site-packages/sklearn/manifold/_spectral_embedding.py:274: UserWarning: Graph is not fully connected, spectral embedding may not work as expected.\n",
      "  warnings.warn(\n"
     ]
    },
    {
     "name": "stdout",
     "output_type": "stream",
     "text": [
      "544 k=11;n_neighbors=3;assign_labels=kmeans;n_inits=10 288389 0.4098939979478651\n",
      "545 k=11;n_neighbors=5;assign_labels=kmeans;n_inits=10 670487 0.34279204849839584\n",
      "546 k=11;n_neighbors=5;assign_labels=kmeans;n_inits=10 116739 0.34279204849839584\n",
      "547 k=11;n_neighbors=5;assign_labels=kmeans;n_inits=10 26225 0.34279204849839584\n",
      "548 k=11;n_neighbors=5;assign_labels=kmeans;n_inits=10 777572 0.34279204849839584\n",
      "549 k=11;n_neighbors=5;assign_labels=kmeans;n_inits=10 288389 0.34279204849839584\n",
      "550 k=11;n_neighbors=10;assign_labels=kmeans;n_inits=10 670487 0.34313139967935313\n",
      "551 k=11;n_neighbors=10;assign_labels=kmeans;n_inits=10 116739 0.34313139967935313\n",
      "552 k=11;n_neighbors=10;assign_labels=kmeans;n_inits=10 26225 0.34313139967935313\n",
      "553 k=11;n_neighbors=10;assign_labels=kmeans;n_inits=10 777572 0.34313139967935313\n",
      "554 k=11;n_neighbors=10;assign_labels=kmeans;n_inits=10 288389 0.34313139967935313\n",
      "555 k=11;n_neighbors=20;assign_labels=kmeans;n_inits=10 670487 0.3418510499055848\n",
      "556 k=11;n_neighbors=20;assign_labels=kmeans;n_inits=10 116739 0.34179335107424325\n",
      "557 k=11;n_neighbors=20;assign_labels=kmeans;n_inits=10 26225 0.34025460990144263\n",
      "558 k=11;n_neighbors=20;assign_labels=kmeans;n_inits=10 777572 0.3428040249456398\n",
      "559 k=11;n_neighbors=20;assign_labels=kmeans;n_inits=10 288389 0.3401137770386151\n"
     ]
    },
    {
     "name": "stderr",
     "output_type": "stream",
     "text": [
      "/home/olya/anaconda3/lib/python3.8/site-packages/sklearn/manifold/_spectral_embedding.py:274: UserWarning: Graph is not fully connected, spectral embedding may not work as expected.\n",
      "  warnings.warn(\n"
     ]
    },
    {
     "name": "stdout",
     "output_type": "stream",
     "text": [
      "560 k=11;n_neighbors=3;assign_labels=discretize;n_inits=10 670487 0.40025324646271954\n"
     ]
    },
    {
     "name": "stderr",
     "output_type": "stream",
     "text": [
      "/home/olya/anaconda3/lib/python3.8/site-packages/sklearn/manifold/_spectral_embedding.py:274: UserWarning: Graph is not fully connected, spectral embedding may not work as expected.\n",
      "  warnings.warn(\n"
     ]
    },
    {
     "name": "stdout",
     "output_type": "stream",
     "text": [
      "561 k=11;n_neighbors=3;assign_labels=discretize;n_inits=10 116739 0.40025324646271954\n"
     ]
    },
    {
     "name": "stderr",
     "output_type": "stream",
     "text": [
      "/home/olya/anaconda3/lib/python3.8/site-packages/sklearn/manifold/_spectral_embedding.py:274: UserWarning: Graph is not fully connected, spectral embedding may not work as expected.\n",
      "  warnings.warn(\n"
     ]
    },
    {
     "name": "stdout",
     "output_type": "stream",
     "text": [
      "562 k=11;n_neighbors=3;assign_labels=discretize;n_inits=10 26225 0.40025324646271954\n"
     ]
    },
    {
     "name": "stderr",
     "output_type": "stream",
     "text": [
      "/home/olya/anaconda3/lib/python3.8/site-packages/sklearn/manifold/_spectral_embedding.py:274: UserWarning: Graph is not fully connected, spectral embedding may not work as expected.\n",
      "  warnings.warn(\n"
     ]
    },
    {
     "name": "stdout",
     "output_type": "stream",
     "text": [
      "563 k=11;n_neighbors=3;assign_labels=discretize;n_inits=10 777572 0.40025324646271954\n"
     ]
    },
    {
     "name": "stderr",
     "output_type": "stream",
     "text": [
      "/home/olya/anaconda3/lib/python3.8/site-packages/sklearn/manifold/_spectral_embedding.py:274: UserWarning: Graph is not fully connected, spectral embedding may not work as expected.\n",
      "  warnings.warn(\n"
     ]
    },
    {
     "name": "stdout",
     "output_type": "stream",
     "text": [
      "564 k=11;n_neighbors=3;assign_labels=discretize;n_inits=10 288389 0.40025324646271954\n",
      "565 k=11;n_neighbors=5;assign_labels=discretize;n_inits=10 670487 0.3825191625671155\n",
      "566 k=11;n_neighbors=5;assign_labels=discretize;n_inits=10 116739 0.3825191625671155\n",
      "567 k=11;n_neighbors=5;assign_labels=discretize;n_inits=10 26225 0.3825191625671155\n",
      "568 k=11;n_neighbors=5;assign_labels=discretize;n_inits=10 777572 0.3825191625671155\n",
      "569 k=11;n_neighbors=5;assign_labels=discretize;n_inits=10 288389 0.3825191625671155\n",
      "570 k=11;n_neighbors=10;assign_labels=discretize;n_inits=10 670487 0.3543035785638328\n",
      "571 k=11;n_neighbors=10;assign_labels=discretize;n_inits=10 116739 0.35404363056824417\n",
      "572 k=11;n_neighbors=10;assign_labels=discretize;n_inits=10 26225 0.3541183739597185\n",
      "573 k=11;n_neighbors=10;assign_labels=discretize;n_inits=10 777572 0.3540020782310034\n",
      "574 k=11;n_neighbors=10;assign_labels=discretize;n_inits=10 288389 0.3541183739597185\n",
      "575 k=11;n_neighbors=20;assign_labels=discretize;n_inits=10 670487 0.3365579541516258\n",
      "576 k=11;n_neighbors=20;assign_labels=discretize;n_inits=10 116739 0.3363768348458526\n",
      "577 k=11;n_neighbors=20;assign_labels=discretize;n_inits=10 26225 0.3370909198245785\n",
      "578 k=11;n_neighbors=20;assign_labels=discretize;n_inits=10 777572 0.3363768348458526\n",
      "579 k=11;n_neighbors=20;assign_labels=discretize;n_inits=10 288389 0.3418705464334736\n"
     ]
    },
    {
     "name": "stderr",
     "output_type": "stream",
     "text": [
      "/home/olya/anaconda3/lib/python3.8/site-packages/sklearn/manifold/_spectral_embedding.py:274: UserWarning: Graph is not fully connected, spectral embedding may not work as expected.\n",
      "  warnings.warn(\n"
     ]
    },
    {
     "name": "stdout",
     "output_type": "stream",
     "text": [
      "580 k=11;n_neighbors=3;assign_labels=cluster_qr;n_inits=10 670487 0.4008442894398293\n"
     ]
    },
    {
     "name": "stderr",
     "output_type": "stream",
     "text": [
      "/home/olya/anaconda3/lib/python3.8/site-packages/sklearn/manifold/_spectral_embedding.py:274: UserWarning: Graph is not fully connected, spectral embedding may not work as expected.\n",
      "  warnings.warn(\n"
     ]
    },
    {
     "name": "stdout",
     "output_type": "stream",
     "text": [
      "581 k=11;n_neighbors=3;assign_labels=cluster_qr;n_inits=10 116739 0.4008442894398293\n"
     ]
    },
    {
     "name": "stderr",
     "output_type": "stream",
     "text": [
      "/home/olya/anaconda3/lib/python3.8/site-packages/sklearn/manifold/_spectral_embedding.py:274: UserWarning: Graph is not fully connected, spectral embedding may not work as expected.\n",
      "  warnings.warn(\n"
     ]
    },
    {
     "name": "stdout",
     "output_type": "stream",
     "text": [
      "582 k=11;n_neighbors=3;assign_labels=cluster_qr;n_inits=10 26225 0.4008442894398293\n"
     ]
    },
    {
     "name": "stderr",
     "output_type": "stream",
     "text": [
      "/home/olya/anaconda3/lib/python3.8/site-packages/sklearn/manifold/_spectral_embedding.py:274: UserWarning: Graph is not fully connected, spectral embedding may not work as expected.\n",
      "  warnings.warn(\n"
     ]
    },
    {
     "name": "stdout",
     "output_type": "stream",
     "text": [
      "583 k=11;n_neighbors=3;assign_labels=cluster_qr;n_inits=10 777572 0.4008442894398293\n"
     ]
    },
    {
     "name": "stderr",
     "output_type": "stream",
     "text": [
      "/home/olya/anaconda3/lib/python3.8/site-packages/sklearn/manifold/_spectral_embedding.py:274: UserWarning: Graph is not fully connected, spectral embedding may not work as expected.\n",
      "  warnings.warn(\n"
     ]
    },
    {
     "name": "stdout",
     "output_type": "stream",
     "text": [
      "584 k=11;n_neighbors=3;assign_labels=cluster_qr;n_inits=10 288389 0.4008442894398293\n",
      "585 k=11;n_neighbors=5;assign_labels=cluster_qr;n_inits=10 670487 0.38306801621867853\n",
      "586 k=11;n_neighbors=5;assign_labels=cluster_qr;n_inits=10 116739 0.38306801621867853\n",
      "587 k=11;n_neighbors=5;assign_labels=cluster_qr;n_inits=10 26225 0.38306801621867853\n",
      "588 k=11;n_neighbors=5;assign_labels=cluster_qr;n_inits=10 777572 0.38306801621867853\n",
      "589 k=11;n_neighbors=5;assign_labels=cluster_qr;n_inits=10 288389 0.38306801621867853\n",
      "590 k=11;n_neighbors=10;assign_labels=cluster_qr;n_inits=10 670487 0.347468730686897\n",
      "591 k=11;n_neighbors=10;assign_labels=cluster_qr;n_inits=10 116739 0.347468730686897\n",
      "592 k=11;n_neighbors=10;assign_labels=cluster_qr;n_inits=10 26225 0.347468730686897\n",
      "593 k=11;n_neighbors=10;assign_labels=cluster_qr;n_inits=10 777572 0.347468730686897\n",
      "594 k=11;n_neighbors=10;assign_labels=cluster_qr;n_inits=10 288389 0.347468730686897\n",
      "595 k=11;n_neighbors=20;assign_labels=cluster_qr;n_inits=10 670487 0.3266587971835209\n",
      "596 k=11;n_neighbors=20;assign_labels=cluster_qr;n_inits=10 116739 0.3266587971835209\n",
      "597 k=11;n_neighbors=20;assign_labels=cluster_qr;n_inits=10 26225 0.3266587971835209\n",
      "598 k=11;n_neighbors=20;assign_labels=cluster_qr;n_inits=10 777572 0.3266587971835209\n",
      "599 k=11;n_neighbors=20;assign_labels=cluster_qr;n_inits=10 288389 0.3266587971835209\n"
     ]
    },
    {
     "name": "stderr",
     "output_type": "stream",
     "text": [
      "/home/olya/anaconda3/lib/python3.8/site-packages/sklearn/manifold/_spectral_embedding.py:274: UserWarning: Graph is not fully connected, spectral embedding may not work as expected.\n",
      "  warnings.warn(\n"
     ]
    },
    {
     "name": "stdout",
     "output_type": "stream",
     "text": [
      "600 k=12;n_neighbors=3;assign_labels=kmeans;n_inits=10 670487 0.4087981459986585\n"
     ]
    },
    {
     "name": "stderr",
     "output_type": "stream",
     "text": [
      "/home/olya/anaconda3/lib/python3.8/site-packages/sklearn/manifold/_spectral_embedding.py:274: UserWarning: Graph is not fully connected, spectral embedding may not work as expected.\n",
      "  warnings.warn(\n"
     ]
    },
    {
     "name": "stdout",
     "output_type": "stream",
     "text": [
      "601 k=12;n_neighbors=3;assign_labels=kmeans;n_inits=10 116739 0.4087981459986585\n"
     ]
    },
    {
     "name": "stderr",
     "output_type": "stream",
     "text": [
      "/home/olya/anaconda3/lib/python3.8/site-packages/sklearn/manifold/_spectral_embedding.py:274: UserWarning: Graph is not fully connected, spectral embedding may not work as expected.\n",
      "  warnings.warn(\n"
     ]
    },
    {
     "name": "stdout",
     "output_type": "stream",
     "text": [
      "602 k=12;n_neighbors=3;assign_labels=kmeans;n_inits=10 26225 0.4087503924890753\n"
     ]
    },
    {
     "name": "stderr",
     "output_type": "stream",
     "text": [
      "/home/olya/anaconda3/lib/python3.8/site-packages/sklearn/manifold/_spectral_embedding.py:274: UserWarning: Graph is not fully connected, spectral embedding may not work as expected.\n",
      "  warnings.warn(\n"
     ]
    },
    {
     "name": "stdout",
     "output_type": "stream",
     "text": [
      "603 k=12;n_neighbors=3;assign_labels=kmeans;n_inits=10 777572 0.4087981459986585\n"
     ]
    },
    {
     "name": "stderr",
     "output_type": "stream",
     "text": [
      "/home/olya/anaconda3/lib/python3.8/site-packages/sklearn/manifold/_spectral_embedding.py:274: UserWarning: Graph is not fully connected, spectral embedding may not work as expected.\n",
      "  warnings.warn(\n"
     ]
    },
    {
     "name": "stdout",
     "output_type": "stream",
     "text": [
      "604 k=12;n_neighbors=3;assign_labels=kmeans;n_inits=10 288389 0.4092533838069673\n",
      "605 k=12;n_neighbors=5;assign_labels=kmeans;n_inits=10 670487 0.34704025080538614\n",
      "606 k=12;n_neighbors=5;assign_labels=kmeans;n_inits=10 116739 0.3454921671410264\n",
      "607 k=12;n_neighbors=5;assign_labels=kmeans;n_inits=10 26225 0.3456280312633661\n",
      "608 k=12;n_neighbors=5;assign_labels=kmeans;n_inits=10 777572 0.34691083945456924\n",
      "609 k=12;n_neighbors=5;assign_labels=kmeans;n_inits=10 288389 0.34704025080538614\n",
      "610 k=12;n_neighbors=10;assign_labels=kmeans;n_inits=10 670487 0.3625753438625204\n",
      "611 k=12;n_neighbors=10;assign_labels=kmeans;n_inits=10 116739 0.3623785347733244\n",
      "612 k=12;n_neighbors=10;assign_labels=kmeans;n_inits=10 26225 0.3623785347733244\n",
      "613 k=12;n_neighbors=10;assign_labels=kmeans;n_inits=10 777572 0.36149256145304515\n",
      "614 k=12;n_neighbors=10;assign_labels=kmeans;n_inits=10 288389 0.3616893705422412\n",
      "615 k=12;n_neighbors=20;assign_labels=kmeans;n_inits=10 670487 0.3512690912654089\n",
      "616 k=12;n_neighbors=20;assign_labels=kmeans;n_inits=10 116739 0.3512690912654089\n",
      "617 k=12;n_neighbors=20;assign_labels=kmeans;n_inits=10 26225 0.3519075570059085\n",
      "618 k=12;n_neighbors=20;assign_labels=kmeans;n_inits=10 777572 0.3512690912654089\n",
      "619 k=12;n_neighbors=20;assign_labels=kmeans;n_inits=10 288389 0.3512690912654089\n"
     ]
    },
    {
     "name": "stderr",
     "output_type": "stream",
     "text": [
      "/home/olya/anaconda3/lib/python3.8/site-packages/sklearn/manifold/_spectral_embedding.py:274: UserWarning: Graph is not fully connected, spectral embedding may not work as expected.\n",
      "  warnings.warn(\n"
     ]
    },
    {
     "name": "stdout",
     "output_type": "stream",
     "text": [
      "620 k=12;n_neighbors=3;assign_labels=discretize;n_inits=10 670487 0.399602282299069\n"
     ]
    },
    {
     "name": "stderr",
     "output_type": "stream",
     "text": [
      "/home/olya/anaconda3/lib/python3.8/site-packages/sklearn/manifold/_spectral_embedding.py:274: UserWarning: Graph is not fully connected, spectral embedding may not work as expected.\n",
      "  warnings.warn(\n"
     ]
    },
    {
     "name": "stdout",
     "output_type": "stream",
     "text": [
      "621 k=12;n_neighbors=3;assign_labels=discretize;n_inits=10 116739 0.39962896398212777\n"
     ]
    },
    {
     "name": "stderr",
     "output_type": "stream",
     "text": [
      "/home/olya/anaconda3/lib/python3.8/site-packages/sklearn/manifold/_spectral_embedding.py:274: UserWarning: Graph is not fully connected, spectral embedding may not work as expected.\n",
      "  warnings.warn(\n"
     ]
    },
    {
     "name": "stdout",
     "output_type": "stream",
     "text": [
      "622 k=12;n_neighbors=3;assign_labels=discretize;n_inits=10 26225 0.4018210256595861\n"
     ]
    },
    {
     "name": "stderr",
     "output_type": "stream",
     "text": [
      "/home/olya/anaconda3/lib/python3.8/site-packages/sklearn/manifold/_spectral_embedding.py:274: UserWarning: Graph is not fully connected, spectral embedding may not work as expected.\n",
      "  warnings.warn(\n"
     ]
    },
    {
     "name": "stdout",
     "output_type": "stream",
     "text": [
      "623 k=12;n_neighbors=3;assign_labels=discretize;n_inits=10 777572 0.39938718173583776\n"
     ]
    },
    {
     "name": "stderr",
     "output_type": "stream",
     "text": [
      "/home/olya/anaconda3/lib/python3.8/site-packages/sklearn/manifold/_spectral_embedding.py:274: UserWarning: Graph is not fully connected, spectral embedding may not work as expected.\n",
      "  warnings.warn(\n"
     ]
    },
    {
     "name": "stdout",
     "output_type": "stream",
     "text": [
      "624 k=12;n_neighbors=3;assign_labels=discretize;n_inits=10 288389 0.4003716215717697\n",
      "625 k=12;n_neighbors=5;assign_labels=discretize;n_inits=10 670487 0.36037509909023013\n",
      "626 k=12;n_neighbors=5;assign_labels=discretize;n_inits=10 116739 0.38033028775672373\n",
      "627 k=12;n_neighbors=5;assign_labels=discretize;n_inits=10 26225 0.34159109662854165\n",
      "628 k=12;n_neighbors=5;assign_labels=discretize;n_inits=10 777572 0.3453946352564467\n",
      "629 k=12;n_neighbors=5;assign_labels=discretize;n_inits=10 288389 0.3453946352564467\n",
      "630 k=12;n_neighbors=10;assign_labels=discretize;n_inits=10 670487 0.35506882540016316\n",
      "631 k=12;n_neighbors=10;assign_labels=discretize;n_inits=10 116739 0.35506882540016316\n",
      "632 k=12;n_neighbors=10;assign_labels=discretize;n_inits=10 26225 0.35506882540016316\n",
      "633 k=12;n_neighbors=10;assign_labels=discretize;n_inits=10 777572 0.35506882540016316\n",
      "634 k=12;n_neighbors=10;assign_labels=discretize;n_inits=10 288389 0.35506882540016316\n",
      "635 k=12;n_neighbors=20;assign_labels=discretize;n_inits=10 670487 0.3424251431510619\n",
      "636 k=12;n_neighbors=20;assign_labels=discretize;n_inits=10 116739 0.34112695580722646\n",
      "637 k=12;n_neighbors=20;assign_labels=discretize;n_inits=10 26225 0.342482750761102\n",
      "638 k=12;n_neighbors=20;assign_labels=discretize;n_inits=10 777572 0.34230752180541246\n",
      "639 k=12;n_neighbors=20;assign_labels=discretize;n_inits=10 288389 0.34215753417167466\n"
     ]
    },
    {
     "name": "stderr",
     "output_type": "stream",
     "text": [
      "/home/olya/anaconda3/lib/python3.8/site-packages/sklearn/manifold/_spectral_embedding.py:274: UserWarning: Graph is not fully connected, spectral embedding may not work as expected.\n",
      "  warnings.warn(\n"
     ]
    },
    {
     "name": "stdout",
     "output_type": "stream",
     "text": [
      "640 k=12;n_neighbors=3;assign_labels=cluster_qr;n_inits=10 670487 0.3978802573181198\n"
     ]
    },
    {
     "name": "stderr",
     "output_type": "stream",
     "text": [
      "/home/olya/anaconda3/lib/python3.8/site-packages/sklearn/manifold/_spectral_embedding.py:274: UserWarning: Graph is not fully connected, spectral embedding may not work as expected.\n",
      "  warnings.warn(\n"
     ]
    },
    {
     "name": "stdout",
     "output_type": "stream",
     "text": [
      "641 k=12;n_neighbors=3;assign_labels=cluster_qr;n_inits=10 116739 0.3978802573181198\n"
     ]
    },
    {
     "name": "stderr",
     "output_type": "stream",
     "text": [
      "/home/olya/anaconda3/lib/python3.8/site-packages/sklearn/manifold/_spectral_embedding.py:274: UserWarning: Graph is not fully connected, spectral embedding may not work as expected.\n",
      "  warnings.warn(\n"
     ]
    },
    {
     "name": "stdout",
     "output_type": "stream",
     "text": [
      "642 k=12;n_neighbors=3;assign_labels=cluster_qr;n_inits=10 26225 0.3978802573181198\n"
     ]
    },
    {
     "name": "stderr",
     "output_type": "stream",
     "text": [
      "/home/olya/anaconda3/lib/python3.8/site-packages/sklearn/manifold/_spectral_embedding.py:274: UserWarning: Graph is not fully connected, spectral embedding may not work as expected.\n",
      "  warnings.warn(\n"
     ]
    },
    {
     "name": "stdout",
     "output_type": "stream",
     "text": [
      "643 k=12;n_neighbors=3;assign_labels=cluster_qr;n_inits=10 777572 0.3978802573181198\n"
     ]
    },
    {
     "name": "stderr",
     "output_type": "stream",
     "text": [
      "/home/olya/anaconda3/lib/python3.8/site-packages/sklearn/manifold/_spectral_embedding.py:274: UserWarning: Graph is not fully connected, spectral embedding may not work as expected.\n",
      "  warnings.warn(\n"
     ]
    },
    {
     "name": "stdout",
     "output_type": "stream",
     "text": [
      "644 k=12;n_neighbors=3;assign_labels=cluster_qr;n_inits=10 288389 0.3978802573181198\n",
      "645 k=12;n_neighbors=5;assign_labels=cluster_qr;n_inits=10 670487 0.3558464352338001\n",
      "646 k=12;n_neighbors=5;assign_labels=cluster_qr;n_inits=10 116739 0.3558464352338001\n",
      "647 k=12;n_neighbors=5;assign_labels=cluster_qr;n_inits=10 26225 0.3558464352338001\n",
      "648 k=12;n_neighbors=5;assign_labels=cluster_qr;n_inits=10 777572 0.3558464352338001\n",
      "649 k=12;n_neighbors=5;assign_labels=cluster_qr;n_inits=10 288389 0.3558464352338001\n",
      "650 k=12;n_neighbors=10;assign_labels=cluster_qr;n_inits=10 670487 0.35521511370133363\n",
      "651 k=12;n_neighbors=10;assign_labels=cluster_qr;n_inits=10 116739 0.35521511370133363\n",
      "652 k=12;n_neighbors=10;assign_labels=cluster_qr;n_inits=10 26225 0.35521511370133363\n",
      "653 k=12;n_neighbors=10;assign_labels=cluster_qr;n_inits=10 777572 0.35521511370133363\n",
      "654 k=12;n_neighbors=10;assign_labels=cluster_qr;n_inits=10 288389 0.35521511370133363\n",
      "655 k=12;n_neighbors=20;assign_labels=cluster_qr;n_inits=10 670487 0.33557456314473705\n",
      "656 k=12;n_neighbors=20;assign_labels=cluster_qr;n_inits=10 116739 0.33557456314473705\n",
      "657 k=12;n_neighbors=20;assign_labels=cluster_qr;n_inits=10 26225 0.33557456314473705\n",
      "658 k=12;n_neighbors=20;assign_labels=cluster_qr;n_inits=10 777572 0.33557456314473705\n",
      "659 k=12;n_neighbors=20;assign_labels=cluster_qr;n_inits=10 288389 0.33557456314473705\n"
     ]
    },
    {
     "name": "stderr",
     "output_type": "stream",
     "text": [
      "/home/olya/anaconda3/lib/python3.8/site-packages/sklearn/manifold/_spectral_embedding.py:274: UserWarning: Graph is not fully connected, spectral embedding may not work as expected.\n",
      "  warnings.warn(\n"
     ]
    },
    {
     "name": "stdout",
     "output_type": "stream",
     "text": [
      "660 k=13;n_neighbors=3;assign_labels=kmeans;n_inits=10 670487 0.4078129012468532\n"
     ]
    },
    {
     "name": "stderr",
     "output_type": "stream",
     "text": [
      "/home/olya/anaconda3/lib/python3.8/site-packages/sklearn/manifold/_spectral_embedding.py:274: UserWarning: Graph is not fully connected, spectral embedding may not work as expected.\n",
      "  warnings.warn(\n"
     ]
    },
    {
     "name": "stdout",
     "output_type": "stream",
     "text": [
      "661 k=13;n_neighbors=3;assign_labels=kmeans;n_inits=10 116739 0.4047006974285431\n"
     ]
    },
    {
     "name": "stderr",
     "output_type": "stream",
     "text": [
      "/home/olya/anaconda3/lib/python3.8/site-packages/sklearn/manifold/_spectral_embedding.py:274: UserWarning: Graph is not fully connected, spectral embedding may not work as expected.\n",
      "  warnings.warn(\n"
     ]
    },
    {
     "name": "stdout",
     "output_type": "stream",
     "text": [
      "662 k=13;n_neighbors=3;assign_labels=kmeans;n_inits=10 26225 0.4096499026292587\n"
     ]
    },
    {
     "name": "stderr",
     "output_type": "stream",
     "text": [
      "/home/olya/anaconda3/lib/python3.8/site-packages/sklearn/manifold/_spectral_embedding.py:274: UserWarning: Graph is not fully connected, spectral embedding may not work as expected.\n",
      "  warnings.warn(\n"
     ]
    },
    {
     "name": "stdout",
     "output_type": "stream",
     "text": [
      "663 k=13;n_neighbors=3;assign_labels=kmeans;n_inits=10 777572 0.4067906428686259\n"
     ]
    },
    {
     "name": "stderr",
     "output_type": "stream",
     "text": [
      "/home/olya/anaconda3/lib/python3.8/site-packages/sklearn/manifold/_spectral_embedding.py:274: UserWarning: Graph is not fully connected, spectral embedding may not work as expected.\n",
      "  warnings.warn(\n"
     ]
    },
    {
     "name": "stdout",
     "output_type": "stream",
     "text": [
      "664 k=13;n_neighbors=3;assign_labels=kmeans;n_inits=10 288389 0.405148171285456\n",
      "665 k=13;n_neighbors=5;assign_labels=kmeans;n_inits=10 670487 0.36981034748808417\n",
      "666 k=13;n_neighbors=5;assign_labels=kmeans;n_inits=10 116739 0.36981034748808417\n",
      "667 k=13;n_neighbors=5;assign_labels=kmeans;n_inits=10 26225 0.3714685213683686\n",
      "668 k=13;n_neighbors=5;assign_labels=kmeans;n_inits=10 777572 0.36981034748808417\n",
      "669 k=13;n_neighbors=5;assign_labels=kmeans;n_inits=10 288389 0.36981034748808417\n",
      "670 k=13;n_neighbors=10;assign_labels=kmeans;n_inits=10 670487 0.343079636082509\n",
      "671 k=13;n_neighbors=10;assign_labels=kmeans;n_inits=10 116739 0.36011062049348147\n",
      "672 k=13;n_neighbors=10;assign_labels=kmeans;n_inits=10 26225 0.36011062049348147\n",
      "673 k=13;n_neighbors=10;assign_labels=kmeans;n_inits=10 777572 0.35843516127370667\n",
      "674 k=13;n_neighbors=10;assign_labels=kmeans;n_inits=10 288389 0.36011062049348147\n",
      "675 k=13;n_neighbors=20;assign_labels=kmeans;n_inits=10 670487 0.3191335373183965\n",
      "676 k=13;n_neighbors=20;assign_labels=kmeans;n_inits=10 116739 0.3199772001627501\n",
      "677 k=13;n_neighbors=20;assign_labels=kmeans;n_inits=10 26225 0.3195095687911479\n",
      "678 k=13;n_neighbors=20;assign_labels=kmeans;n_inits=10 777572 0.3199108993740598\n",
      "679 k=13;n_neighbors=20;assign_labels=kmeans;n_inits=10 288389 0.32137161053850416\n"
     ]
    },
    {
     "name": "stderr",
     "output_type": "stream",
     "text": [
      "/home/olya/anaconda3/lib/python3.8/site-packages/sklearn/manifold/_spectral_embedding.py:274: UserWarning: Graph is not fully connected, spectral embedding may not work as expected.\n",
      "  warnings.warn(\n"
     ]
    },
    {
     "name": "stdout",
     "output_type": "stream",
     "text": [
      "680 k=13;n_neighbors=3;assign_labels=discretize;n_inits=10 670487 0.39891307247814856\n"
     ]
    },
    {
     "name": "stderr",
     "output_type": "stream",
     "text": [
      "/home/olya/anaconda3/lib/python3.8/site-packages/sklearn/manifold/_spectral_embedding.py:274: UserWarning: Graph is not fully connected, spectral embedding may not work as expected.\n",
      "  warnings.warn(\n"
     ]
    },
    {
     "name": "stdout",
     "output_type": "stream",
     "text": [
      "681 k=13;n_neighbors=3;assign_labels=discretize;n_inits=10 116739 0.39891307247814856\n"
     ]
    },
    {
     "name": "stderr",
     "output_type": "stream",
     "text": [
      "/home/olya/anaconda3/lib/python3.8/site-packages/sklearn/manifold/_spectral_embedding.py:274: UserWarning: Graph is not fully connected, spectral embedding may not work as expected.\n",
      "  warnings.warn(\n"
     ]
    },
    {
     "name": "stdout",
     "output_type": "stream",
     "text": [
      "682 k=13;n_neighbors=3;assign_labels=discretize;n_inits=10 26225 0.39891307247814856\n"
     ]
    },
    {
     "name": "stderr",
     "output_type": "stream",
     "text": [
      "/home/olya/anaconda3/lib/python3.8/site-packages/sklearn/manifold/_spectral_embedding.py:274: UserWarning: Graph is not fully connected, spectral embedding may not work as expected.\n",
      "  warnings.warn(\n"
     ]
    },
    {
     "name": "stdout",
     "output_type": "stream",
     "text": [
      "683 k=13;n_neighbors=3;assign_labels=discretize;n_inits=10 777572 0.39891307247814856\n"
     ]
    },
    {
     "name": "stderr",
     "output_type": "stream",
     "text": [
      "/home/olya/anaconda3/lib/python3.8/site-packages/sklearn/manifold/_spectral_embedding.py:274: UserWarning: Graph is not fully connected, spectral embedding may not work as expected.\n",
      "  warnings.warn(\n"
     ]
    },
    {
     "name": "stdout",
     "output_type": "stream",
     "text": [
      "684 k=13;n_neighbors=3;assign_labels=discretize;n_inits=10 288389 0.39891307247814856\n",
      "685 k=13;n_neighbors=5;assign_labels=discretize;n_inits=10 670487 0.35796876840175995\n",
      "686 k=13;n_neighbors=5;assign_labels=discretize;n_inits=10 116739 0.357026440055772\n",
      "687 k=13;n_neighbors=5;assign_labels=discretize;n_inits=10 26225 0.3572173794827791\n",
      "688 k=13;n_neighbors=5;assign_labels=discretize;n_inits=10 777572 0.35850626669337327\n",
      "689 k=13;n_neighbors=5;assign_labels=discretize;n_inits=10 288389 0.35964222609956353\n",
      "690 k=13;n_neighbors=10;assign_labels=discretize;n_inits=10 670487 0.34949142468824684\n",
      "691 k=13;n_neighbors=10;assign_labels=discretize;n_inits=10 116739 0.34949142468824684\n",
      "692 k=13;n_neighbors=10;assign_labels=discretize;n_inits=10 26225 0.3494459621652317\n",
      "693 k=13;n_neighbors=10;assign_labels=discretize;n_inits=10 777572 0.34949142468824684\n",
      "694 k=13;n_neighbors=10;assign_labels=discretize;n_inits=10 288389 0.349537369000631\n",
      "695 k=13;n_neighbors=20;assign_labels=discretize;n_inits=10 670487 0.3297626801170738\n",
      "696 k=13;n_neighbors=20;assign_labels=discretize;n_inits=10 116739 0.32866325426363785\n",
      "697 k=13;n_neighbors=20;assign_labels=discretize;n_inits=10 26225 0.32950856376011145\n",
      "698 k=13;n_neighbors=20;assign_labels=discretize;n_inits=10 777572 0.33244675123622236\n",
      "699 k=13;n_neighbors=20;assign_labels=discretize;n_inits=10 288389 0.3308683726507501\n"
     ]
    },
    {
     "name": "stderr",
     "output_type": "stream",
     "text": [
      "/home/olya/anaconda3/lib/python3.8/site-packages/sklearn/manifold/_spectral_embedding.py:274: UserWarning: Graph is not fully connected, spectral embedding may not work as expected.\n",
      "  warnings.warn(\n"
     ]
    },
    {
     "name": "stdout",
     "output_type": "stream",
     "text": [
      "700 k=13;n_neighbors=3;assign_labels=cluster_qr;n_inits=10 670487 0.399903892284595\n"
     ]
    },
    {
     "name": "stderr",
     "output_type": "stream",
     "text": [
      "/home/olya/anaconda3/lib/python3.8/site-packages/sklearn/manifold/_spectral_embedding.py:274: UserWarning: Graph is not fully connected, spectral embedding may not work as expected.\n",
      "  warnings.warn(\n"
     ]
    },
    {
     "name": "stdout",
     "output_type": "stream",
     "text": [
      "701 k=13;n_neighbors=3;assign_labels=cluster_qr;n_inits=10 116739 0.399903892284595\n"
     ]
    },
    {
     "name": "stderr",
     "output_type": "stream",
     "text": [
      "/home/olya/anaconda3/lib/python3.8/site-packages/sklearn/manifold/_spectral_embedding.py:274: UserWarning: Graph is not fully connected, spectral embedding may not work as expected.\n",
      "  warnings.warn(\n"
     ]
    },
    {
     "name": "stdout",
     "output_type": "stream",
     "text": [
      "702 k=13;n_neighbors=3;assign_labels=cluster_qr;n_inits=10 26225 0.399903892284595\n"
     ]
    },
    {
     "name": "stderr",
     "output_type": "stream",
     "text": [
      "/home/olya/anaconda3/lib/python3.8/site-packages/sklearn/manifold/_spectral_embedding.py:274: UserWarning: Graph is not fully connected, spectral embedding may not work as expected.\n",
      "  warnings.warn(\n"
     ]
    },
    {
     "name": "stdout",
     "output_type": "stream",
     "text": [
      "703 k=13;n_neighbors=3;assign_labels=cluster_qr;n_inits=10 777572 0.399903892284595\n"
     ]
    },
    {
     "name": "stderr",
     "output_type": "stream",
     "text": [
      "/home/olya/anaconda3/lib/python3.8/site-packages/sklearn/manifold/_spectral_embedding.py:274: UserWarning: Graph is not fully connected, spectral embedding may not work as expected.\n",
      "  warnings.warn(\n"
     ]
    },
    {
     "name": "stdout",
     "output_type": "stream",
     "text": [
      "704 k=13;n_neighbors=3;assign_labels=cluster_qr;n_inits=10 288389 0.399903892284595\n",
      "705 k=13;n_neighbors=5;assign_labels=cluster_qr;n_inits=10 670487 0.36680543385842224\n",
      "706 k=13;n_neighbors=5;assign_labels=cluster_qr;n_inits=10 116739 0.36680543385842224\n",
      "707 k=13;n_neighbors=5;assign_labels=cluster_qr;n_inits=10 26225 0.36680543385842224\n",
      "708 k=13;n_neighbors=5;assign_labels=cluster_qr;n_inits=10 777572 0.36680543385842224\n",
      "709 k=13;n_neighbors=5;assign_labels=cluster_qr;n_inits=10 288389 0.36680543385842224\n",
      "710 k=13;n_neighbors=10;assign_labels=cluster_qr;n_inits=10 670487 0.33342000112771664\n",
      "711 k=13;n_neighbors=10;assign_labels=cluster_qr;n_inits=10 116739 0.33342000112771664\n",
      "712 k=13;n_neighbors=10;assign_labels=cluster_qr;n_inits=10 26225 0.33342000112771664\n",
      "713 k=13;n_neighbors=10;assign_labels=cluster_qr;n_inits=10 777572 0.33342000112771664\n",
      "714 k=13;n_neighbors=10;assign_labels=cluster_qr;n_inits=10 288389 0.33342000112771664\n",
      "715 k=13;n_neighbors=20;assign_labels=cluster_qr;n_inits=10 670487 0.33038951524773863\n",
      "716 k=13;n_neighbors=20;assign_labels=cluster_qr;n_inits=10 116739 0.33038951524773863\n",
      "717 k=13;n_neighbors=20;assign_labels=cluster_qr;n_inits=10 26225 0.33038951524773863\n",
      "718 k=13;n_neighbors=20;assign_labels=cluster_qr;n_inits=10 777572 0.33038951524773863\n",
      "719 k=13;n_neighbors=20;assign_labels=cluster_qr;n_inits=10 288389 0.33038951524773863\n"
     ]
    },
    {
     "name": "stderr",
     "output_type": "stream",
     "text": [
      "/home/olya/anaconda3/lib/python3.8/site-packages/sklearn/manifold/_spectral_embedding.py:274: UserWarning: Graph is not fully connected, spectral embedding may not work as expected.\n",
      "  warnings.warn(\n"
     ]
    },
    {
     "name": "stdout",
     "output_type": "stream",
     "text": [
      "720 k=14;n_neighbors=3;assign_labels=kmeans;n_inits=10 670487 0.39945836548637714\n"
     ]
    },
    {
     "name": "stderr",
     "output_type": "stream",
     "text": [
      "/home/olya/anaconda3/lib/python3.8/site-packages/sklearn/manifold/_spectral_embedding.py:274: UserWarning: Graph is not fully connected, spectral embedding may not work as expected.\n",
      "  warnings.warn(\n"
     ]
    },
    {
     "name": "stdout",
     "output_type": "stream",
     "text": [
      "721 k=14;n_neighbors=3;assign_labels=kmeans;n_inits=10 116739 0.3999336965051916\n"
     ]
    },
    {
     "name": "stderr",
     "output_type": "stream",
     "text": [
      "/home/olya/anaconda3/lib/python3.8/site-packages/sklearn/manifold/_spectral_embedding.py:274: UserWarning: Graph is not fully connected, spectral embedding may not work as expected.\n",
      "  warnings.warn(\n"
     ]
    },
    {
     "name": "stdout",
     "output_type": "stream",
     "text": [
      "722 k=14;n_neighbors=3;assign_labels=kmeans;n_inits=10 26225 0.39937622810327955\n"
     ]
    },
    {
     "name": "stderr",
     "output_type": "stream",
     "text": [
      "/home/olya/anaconda3/lib/python3.8/site-packages/sklearn/manifold/_spectral_embedding.py:274: UserWarning: Graph is not fully connected, spectral embedding may not work as expected.\n",
      "  warnings.warn(\n"
     ]
    },
    {
     "name": "stdout",
     "output_type": "stream",
     "text": [
      "723 k=14;n_neighbors=3;assign_labels=kmeans;n_inits=10 777572 0.3999983443249824\n"
     ]
    },
    {
     "name": "stderr",
     "output_type": "stream",
     "text": [
      "/home/olya/anaconda3/lib/python3.8/site-packages/sklearn/manifold/_spectral_embedding.py:274: UserWarning: Graph is not fully connected, spectral embedding may not work as expected.\n",
      "  warnings.warn(\n"
     ]
    },
    {
     "name": "stdout",
     "output_type": "stream",
     "text": [
      "724 k=14;n_neighbors=3;assign_labels=kmeans;n_inits=10 288389 0.40002835083139054\n",
      "725 k=14;n_neighbors=5;assign_labels=kmeans;n_inits=10 670487 0.36725331693666385\n",
      "726 k=14;n_neighbors=5;assign_labels=kmeans;n_inits=10 116739 0.3667414210408912\n",
      "727 k=14;n_neighbors=5;assign_labels=kmeans;n_inits=10 26225 0.3668210640872314\n",
      "728 k=14;n_neighbors=5;assign_labels=kmeans;n_inits=10 777572 0.3667414210408912\n",
      "729 k=14;n_neighbors=5;assign_labels=kmeans;n_inits=10 288389 0.3668210640872314\n",
      "730 k=14;n_neighbors=10;assign_labels=kmeans;n_inits=10 670487 0.3612731254489999\n",
      "731 k=14;n_neighbors=10;assign_labels=kmeans;n_inits=10 116739 0.36092910055513006\n",
      "732 k=14;n_neighbors=10;assign_labels=kmeans;n_inits=10 26225 0.3592788706783316\n",
      "733 k=14;n_neighbors=10;assign_labels=kmeans;n_inits=10 777572 0.3592788706783316\n",
      "734 k=14;n_neighbors=10;assign_labels=kmeans;n_inits=10 288389 0.36155979675301286\n",
      "735 k=14;n_neighbors=20;assign_labels=kmeans;n_inits=10 670487 0.3515466819790989\n",
      "736 k=14;n_neighbors=20;assign_labels=kmeans;n_inits=10 116739 0.35046040887571916\n",
      "737 k=14;n_neighbors=20;assign_labels=kmeans;n_inits=10 26225 0.3532486947006208\n",
      "738 k=14;n_neighbors=20;assign_labels=kmeans;n_inits=10 777572 0.3515466819790989\n",
      "739 k=14;n_neighbors=20;assign_labels=kmeans;n_inits=10 288389 0.34946311537803076\n"
     ]
    },
    {
     "name": "stderr",
     "output_type": "stream",
     "text": [
      "/home/olya/anaconda3/lib/python3.8/site-packages/sklearn/manifold/_spectral_embedding.py:274: UserWarning: Graph is not fully connected, spectral embedding may not work as expected.\n",
      "  warnings.warn(\n"
     ]
    },
    {
     "name": "stdout",
     "output_type": "stream",
     "text": [
      "740 k=14;n_neighbors=3;assign_labels=discretize;n_inits=10 670487 0.3978290161188319\n"
     ]
    },
    {
     "name": "stderr",
     "output_type": "stream",
     "text": [
      "/home/olya/anaconda3/lib/python3.8/site-packages/sklearn/manifold/_spectral_embedding.py:274: UserWarning: Graph is not fully connected, spectral embedding may not work as expected.\n",
      "  warnings.warn(\n"
     ]
    },
    {
     "name": "stdout",
     "output_type": "stream",
     "text": [
      "741 k=14;n_neighbors=3;assign_labels=discretize;n_inits=10 116739 0.39757289702927906\n"
     ]
    },
    {
     "name": "stderr",
     "output_type": "stream",
     "text": [
      "/home/olya/anaconda3/lib/python3.8/site-packages/sklearn/manifold/_spectral_embedding.py:274: UserWarning: Graph is not fully connected, spectral embedding may not work as expected.\n",
      "  warnings.warn(\n"
     ]
    },
    {
     "name": "stdout",
     "output_type": "stream",
     "text": [
      "742 k=14;n_neighbors=3;assign_labels=discretize;n_inits=10 26225 0.3982678235588484\n"
     ]
    },
    {
     "name": "stderr",
     "output_type": "stream",
     "text": [
      "/home/olya/anaconda3/lib/python3.8/site-packages/sklearn/manifold/_spectral_embedding.py:274: UserWarning: Graph is not fully connected, spectral embedding may not work as expected.\n",
      "  warnings.warn(\n"
     ]
    },
    {
     "name": "stdout",
     "output_type": "stream",
     "text": [
      "743 k=14;n_neighbors=3;assign_labels=discretize;n_inits=10 777572 0.3940434907504289\n"
     ]
    },
    {
     "name": "stderr",
     "output_type": "stream",
     "text": [
      "/home/olya/anaconda3/lib/python3.8/site-packages/sklearn/manifold/_spectral_embedding.py:274: UserWarning: Graph is not fully connected, spectral embedding may not work as expected.\n",
      "  warnings.warn(\n"
     ]
    },
    {
     "name": "stdout",
     "output_type": "stream",
     "text": [
      "744 k=14;n_neighbors=3;assign_labels=discretize;n_inits=10 288389 0.39734920535063567\n",
      "745 k=14;n_neighbors=5;assign_labels=discretize;n_inits=10 670487 0.35991335617693\n",
      "746 k=14;n_neighbors=5;assign_labels=discretize;n_inits=10 116739 0.3586365296778165\n",
      "747 k=14;n_neighbors=5;assign_labels=discretize;n_inits=10 26225 0.358279097231621\n",
      "748 k=14;n_neighbors=5;assign_labels=discretize;n_inits=10 777572 0.3586365296778165\n",
      "749 k=14;n_neighbors=5;assign_labels=discretize;n_inits=10 288389 0.3586755662775395\n",
      "750 k=14;n_neighbors=10;assign_labels=discretize;n_inits=10 670487 0.3506912477217704\n",
      "751 k=14;n_neighbors=10;assign_labels=discretize;n_inits=10 116739 0.34801502999297856\n",
      "752 k=14;n_neighbors=10;assign_labels=discretize;n_inits=10 26225 0.34880342996160696\n",
      "753 k=14;n_neighbors=10;assign_labels=discretize;n_inits=10 777572 0.3501165575802363\n",
      "754 k=14;n_neighbors=10;assign_labels=discretize;n_inits=10 288389 0.3506912477217704\n",
      "755 k=14;n_neighbors=20;assign_labels=discretize;n_inits=10 670487 0.32516650241698153\n",
      "756 k=14;n_neighbors=20;assign_labels=discretize;n_inits=10 116739 0.3370051431169492\n",
      "757 k=14;n_neighbors=20;assign_labels=discretize;n_inits=10 26225 0.349396005196842\n",
      "758 k=14;n_neighbors=20;assign_labels=discretize;n_inits=10 777572 0.3472466231116536\n",
      "759 k=14;n_neighbors=20;assign_labels=discretize;n_inits=10 288389 0.33968230179881526\n"
     ]
    },
    {
     "name": "stderr",
     "output_type": "stream",
     "text": [
      "/home/olya/anaconda3/lib/python3.8/site-packages/sklearn/manifold/_spectral_embedding.py:274: UserWarning: Graph is not fully connected, spectral embedding may not work as expected.\n",
      "  warnings.warn(\n"
     ]
    },
    {
     "name": "stdout",
     "output_type": "stream",
     "text": [
      "760 k=14;n_neighbors=3;assign_labels=cluster_qr;n_inits=10 670487 0.3919817518342096\n"
     ]
    },
    {
     "name": "stderr",
     "output_type": "stream",
     "text": [
      "/home/olya/anaconda3/lib/python3.8/site-packages/sklearn/manifold/_spectral_embedding.py:274: UserWarning: Graph is not fully connected, spectral embedding may not work as expected.\n",
      "  warnings.warn(\n"
     ]
    },
    {
     "name": "stdout",
     "output_type": "stream",
     "text": [
      "761 k=14;n_neighbors=3;assign_labels=cluster_qr;n_inits=10 116739 0.3919817518342096\n"
     ]
    },
    {
     "name": "stderr",
     "output_type": "stream",
     "text": [
      "/home/olya/anaconda3/lib/python3.8/site-packages/sklearn/manifold/_spectral_embedding.py:274: UserWarning: Graph is not fully connected, spectral embedding may not work as expected.\n",
      "  warnings.warn(\n"
     ]
    },
    {
     "name": "stdout",
     "output_type": "stream",
     "text": [
      "762 k=14;n_neighbors=3;assign_labels=cluster_qr;n_inits=10 26225 0.3919817518342096\n"
     ]
    },
    {
     "name": "stderr",
     "output_type": "stream",
     "text": [
      "/home/olya/anaconda3/lib/python3.8/site-packages/sklearn/manifold/_spectral_embedding.py:274: UserWarning: Graph is not fully connected, spectral embedding may not work as expected.\n",
      "  warnings.warn(\n"
     ]
    },
    {
     "name": "stdout",
     "output_type": "stream",
     "text": [
      "763 k=14;n_neighbors=3;assign_labels=cluster_qr;n_inits=10 777572 0.3919817518342096\n"
     ]
    },
    {
     "name": "stderr",
     "output_type": "stream",
     "text": [
      "/home/olya/anaconda3/lib/python3.8/site-packages/sklearn/manifold/_spectral_embedding.py:274: UserWarning: Graph is not fully connected, spectral embedding may not work as expected.\n",
      "  warnings.warn(\n"
     ]
    },
    {
     "name": "stdout",
     "output_type": "stream",
     "text": [
      "764 k=14;n_neighbors=3;assign_labels=cluster_qr;n_inits=10 288389 0.3919817518342096\n",
      "765 k=14;n_neighbors=5;assign_labels=cluster_qr;n_inits=10 670487 0.3496657371596198\n",
      "766 k=14;n_neighbors=5;assign_labels=cluster_qr;n_inits=10 116739 0.3496657371596198\n",
      "767 k=14;n_neighbors=5;assign_labels=cluster_qr;n_inits=10 26225 0.3496657371596198\n",
      "768 k=14;n_neighbors=5;assign_labels=cluster_qr;n_inits=10 777572 0.3496657371596198\n",
      "769 k=14;n_neighbors=5;assign_labels=cluster_qr;n_inits=10 288389 0.3496657371596198\n",
      "770 k=14;n_neighbors=10;assign_labels=cluster_qr;n_inits=10 670487 0.35212371616443006\n",
      "771 k=14;n_neighbors=10;assign_labels=cluster_qr;n_inits=10 116739 0.35212371616443006\n",
      "772 k=14;n_neighbors=10;assign_labels=cluster_qr;n_inits=10 26225 0.35212371616443006\n",
      "773 k=14;n_neighbors=10;assign_labels=cluster_qr;n_inits=10 777572 0.35212371616443006\n",
      "774 k=14;n_neighbors=10;assign_labels=cluster_qr;n_inits=10 288389 0.35212371616443006\n",
      "775 k=14;n_neighbors=20;assign_labels=cluster_qr;n_inits=10 670487 0.33983269195038934\n",
      "776 k=14;n_neighbors=20;assign_labels=cluster_qr;n_inits=10 116739 0.33983269195038934\n",
      "777 k=14;n_neighbors=20;assign_labels=cluster_qr;n_inits=10 26225 0.33983269195038934\n",
      "778 k=14;n_neighbors=20;assign_labels=cluster_qr;n_inits=10 777572 0.33983269195038934\n",
      "779 k=14;n_neighbors=20;assign_labels=cluster_qr;n_inits=10 288389 0.33983269195038934\n"
     ]
    },
    {
     "name": "stderr",
     "output_type": "stream",
     "text": [
      "/home/olya/anaconda3/lib/python3.8/site-packages/sklearn/manifold/_spectral_embedding.py:274: UserWarning: Graph is not fully connected, spectral embedding may not work as expected.\n",
      "  warnings.warn(\n"
     ]
    },
    {
     "name": "stdout",
     "output_type": "stream",
     "text": [
      "780 k=15;n_neighbors=3;assign_labels=kmeans;n_inits=10 670487 0.3963487171108495\n"
     ]
    },
    {
     "name": "stderr",
     "output_type": "stream",
     "text": [
      "/home/olya/anaconda3/lib/python3.8/site-packages/sklearn/manifold/_spectral_embedding.py:274: UserWarning: Graph is not fully connected, spectral embedding may not work as expected.\n",
      "  warnings.warn(\n"
     ]
    },
    {
     "name": "stdout",
     "output_type": "stream",
     "text": [
      "781 k=15;n_neighbors=3;assign_labels=kmeans;n_inits=10 116739 0.40035106461559467\n"
     ]
    },
    {
     "name": "stderr",
     "output_type": "stream",
     "text": [
      "/home/olya/anaconda3/lib/python3.8/site-packages/sklearn/manifold/_spectral_embedding.py:274: UserWarning: Graph is not fully connected, spectral embedding may not work as expected.\n",
      "  warnings.warn(\n"
     ]
    },
    {
     "name": "stdout",
     "output_type": "stream",
     "text": [
      "782 k=15;n_neighbors=3;assign_labels=kmeans;n_inits=10 26225 0.3963872297653957\n"
     ]
    },
    {
     "name": "stderr",
     "output_type": "stream",
     "text": [
      "/home/olya/anaconda3/lib/python3.8/site-packages/sklearn/manifold/_spectral_embedding.py:274: UserWarning: Graph is not fully connected, spectral embedding may not work as expected.\n",
      "  warnings.warn(\n"
     ]
    },
    {
     "name": "stdout",
     "output_type": "stream",
     "text": [
      "783 k=15;n_neighbors=3;assign_labels=kmeans;n_inits=10 777572 0.39617823333864344\n"
     ]
    },
    {
     "name": "stderr",
     "output_type": "stream",
     "text": [
      "/home/olya/anaconda3/lib/python3.8/site-packages/sklearn/manifold/_spectral_embedding.py:274: UserWarning: Graph is not fully connected, spectral embedding may not work as expected.\n",
      "  warnings.warn(\n"
     ]
    },
    {
     "name": "stdout",
     "output_type": "stream",
     "text": [
      "784 k=15;n_neighbors=3;assign_labels=kmeans;n_inits=10 288389 0.39617823333864344\n",
      "785 k=15;n_neighbors=5;assign_labels=kmeans;n_inits=10 670487 0.368736656972833\n",
      "786 k=15;n_neighbors=5;assign_labels=kmeans;n_inits=10 116739 0.3670606620246164\n",
      "787 k=15;n_neighbors=5;assign_labels=kmeans;n_inits=10 26225 0.36911567958337466\n",
      "788 k=15;n_neighbors=5;assign_labels=kmeans;n_inits=10 777572 0.3673800626997122\n",
      "789 k=15;n_neighbors=5;assign_labels=kmeans;n_inits=10 288389 0.3688923545984344\n",
      "790 k=15;n_neighbors=10;assign_labels=kmeans;n_inits=10 670487 0.3529959968220442\n",
      "791 k=15;n_neighbors=10;assign_labels=kmeans;n_inits=10 116739 0.3584651273414252\n",
      "792 k=15;n_neighbors=10;assign_labels=kmeans;n_inits=10 26225 0.3519447027992549\n",
      "793 k=15;n_neighbors=10;assign_labels=kmeans;n_inits=10 777572 0.3550093140649391\n",
      "794 k=15;n_neighbors=10;assign_labels=kmeans;n_inits=10 288389 0.3586344863173744\n",
      "795 k=15;n_neighbors=20;assign_labels=kmeans;n_inits=10 670487 0.335116323670575\n",
      "796 k=15;n_neighbors=20;assign_labels=kmeans;n_inits=10 116739 0.3356951531912664\n",
      "797 k=15;n_neighbors=20;assign_labels=kmeans;n_inits=10 26225 0.3356951531912664\n",
      "798 k=15;n_neighbors=20;assign_labels=kmeans;n_inits=10 777572 0.3349348167861528\n",
      "799 k=15;n_neighbors=20;assign_labels=kmeans;n_inits=10 288389 0.33383676492889414\n"
     ]
    },
    {
     "name": "stderr",
     "output_type": "stream",
     "text": [
      "/home/olya/anaconda3/lib/python3.8/site-packages/sklearn/manifold/_spectral_embedding.py:274: UserWarning: Graph is not fully connected, spectral embedding may not work as expected.\n",
      "  warnings.warn(\n"
     ]
    },
    {
     "name": "stdout",
     "output_type": "stream",
     "text": [
      "800 k=15;n_neighbors=3;assign_labels=discretize;n_inits=10 670487 0.3978577451505595\n"
     ]
    },
    {
     "name": "stderr",
     "output_type": "stream",
     "text": [
      "/home/olya/anaconda3/lib/python3.8/site-packages/sklearn/manifold/_spectral_embedding.py:274: UserWarning: Graph is not fully connected, spectral embedding may not work as expected.\n",
      "  warnings.warn(\n"
     ]
    },
    {
     "name": "stdout",
     "output_type": "stream",
     "text": [
      "801 k=15;n_neighbors=3;assign_labels=discretize;n_inits=10 116739 0.39525720804082654\n"
     ]
    },
    {
     "name": "stderr",
     "output_type": "stream",
     "text": [
      "/home/olya/anaconda3/lib/python3.8/site-packages/sklearn/manifold/_spectral_embedding.py:274: UserWarning: Graph is not fully connected, spectral embedding may not work as expected.\n",
      "  warnings.warn(\n"
     ]
    },
    {
     "name": "stdout",
     "output_type": "stream",
     "text": [
      "802 k=15;n_neighbors=3;assign_labels=discretize;n_inits=10 26225 0.3976018375726378\n"
     ]
    },
    {
     "name": "stderr",
     "output_type": "stream",
     "text": [
      "/home/olya/anaconda3/lib/python3.8/site-packages/sklearn/manifold/_spectral_embedding.py:274: UserWarning: Graph is not fully connected, spectral embedding may not work as expected.\n",
      "  warnings.warn(\n"
     ]
    },
    {
     "name": "stdout",
     "output_type": "stream",
     "text": [
      "803 k=15;n_neighbors=3;assign_labels=discretize;n_inits=10 777572 0.3976018375726378\n"
     ]
    },
    {
     "name": "stderr",
     "output_type": "stream",
     "text": [
      "/home/olya/anaconda3/lib/python3.8/site-packages/sklearn/manifold/_spectral_embedding.py:274: UserWarning: Graph is not fully connected, spectral embedding may not work as expected.\n",
      "  warnings.warn(\n"
     ]
    },
    {
     "name": "stdout",
     "output_type": "stream",
     "text": [
      "804 k=15;n_neighbors=3;assign_labels=discretize;n_inits=10 288389 0.3974052617117054\n",
      "805 k=15;n_neighbors=5;assign_labels=discretize;n_inits=10 670487 0.35642643434608057\n",
      "806 k=15;n_neighbors=5;assign_labels=discretize;n_inits=10 116739 0.35900901359172394\n",
      "807 k=15;n_neighbors=5;assign_labels=discretize;n_inits=10 26225 0.3594583897753353\n",
      "808 k=15;n_neighbors=5;assign_labels=discretize;n_inits=10 777572 0.36001904313467137\n",
      "809 k=15;n_neighbors=5;assign_labels=discretize;n_inits=10 288389 0.35471317683269366\n",
      "810 k=15;n_neighbors=10;assign_labels=discretize;n_inits=10 670487 0.3430281938602542\n",
      "811 k=15;n_neighbors=10;assign_labels=discretize;n_inits=10 116739 0.34465304805636854\n",
      "812 k=15;n_neighbors=10;assign_labels=discretize;n_inits=10 26225 0.34597748324721317\n",
      "813 k=15;n_neighbors=10;assign_labels=discretize;n_inits=10 777572 0.34234942744272834\n",
      "814 k=15;n_neighbors=10;assign_labels=discretize;n_inits=10 288389 0.341595906631139\n",
      "815 k=15;n_neighbors=20;assign_labels=discretize;n_inits=10 670487 0.33460975996306863\n",
      "816 k=15;n_neighbors=20;assign_labels=discretize;n_inits=10 116739 0.33376716109707594\n",
      "817 k=15;n_neighbors=20;assign_labels=discretize;n_inits=10 26225 0.33568323221148605\n",
      "818 k=15;n_neighbors=20;assign_labels=discretize;n_inits=10 777572 0.3353737012895125\n",
      "819 k=15;n_neighbors=20;assign_labels=discretize;n_inits=10 288389 0.3344755948582767\n"
     ]
    },
    {
     "name": "stderr",
     "output_type": "stream",
     "text": [
      "/home/olya/anaconda3/lib/python3.8/site-packages/sklearn/manifold/_spectral_embedding.py:274: UserWarning: Graph is not fully connected, spectral embedding may not work as expected.\n",
      "  warnings.warn(\n"
     ]
    },
    {
     "name": "stdout",
     "output_type": "stream",
     "text": [
      "820 k=15;n_neighbors=3;assign_labels=cluster_qr;n_inits=10 670487 0.38666332811236415\n"
     ]
    },
    {
     "name": "stderr",
     "output_type": "stream",
     "text": [
      "/home/olya/anaconda3/lib/python3.8/site-packages/sklearn/manifold/_spectral_embedding.py:274: UserWarning: Graph is not fully connected, spectral embedding may not work as expected.\n",
      "  warnings.warn(\n"
     ]
    },
    {
     "name": "stdout",
     "output_type": "stream",
     "text": [
      "821 k=15;n_neighbors=3;assign_labels=cluster_qr;n_inits=10 116739 0.38666332811236415\n"
     ]
    },
    {
     "name": "stderr",
     "output_type": "stream",
     "text": [
      "/home/olya/anaconda3/lib/python3.8/site-packages/sklearn/manifold/_spectral_embedding.py:274: UserWarning: Graph is not fully connected, spectral embedding may not work as expected.\n",
      "  warnings.warn(\n"
     ]
    },
    {
     "name": "stdout",
     "output_type": "stream",
     "text": [
      "822 k=15;n_neighbors=3;assign_labels=cluster_qr;n_inits=10 26225 0.38666332811236415\n"
     ]
    },
    {
     "name": "stderr",
     "output_type": "stream",
     "text": [
      "/home/olya/anaconda3/lib/python3.8/site-packages/sklearn/manifold/_spectral_embedding.py:274: UserWarning: Graph is not fully connected, spectral embedding may not work as expected.\n",
      "  warnings.warn(\n"
     ]
    },
    {
     "name": "stdout",
     "output_type": "stream",
     "text": [
      "823 k=15;n_neighbors=3;assign_labels=cluster_qr;n_inits=10 777572 0.38666332811236415\n"
     ]
    },
    {
     "name": "stderr",
     "output_type": "stream",
     "text": [
      "/home/olya/anaconda3/lib/python3.8/site-packages/sklearn/manifold/_spectral_embedding.py:274: UserWarning: Graph is not fully connected, spectral embedding may not work as expected.\n",
      "  warnings.warn(\n"
     ]
    },
    {
     "name": "stdout",
     "output_type": "stream",
     "text": [
      "824 k=15;n_neighbors=3;assign_labels=cluster_qr;n_inits=10 288389 0.38666332811236415\n",
      "825 k=15;n_neighbors=5;assign_labels=cluster_qr;n_inits=10 670487 0.36539926376556375\n",
      "826 k=15;n_neighbors=5;assign_labels=cluster_qr;n_inits=10 116739 0.36539926376556375\n",
      "827 k=15;n_neighbors=5;assign_labels=cluster_qr;n_inits=10 26225 0.36539926376556375\n",
      "828 k=15;n_neighbors=5;assign_labels=cluster_qr;n_inits=10 777572 0.36539926376556375\n",
      "829 k=15;n_neighbors=5;assign_labels=cluster_qr;n_inits=10 288389 0.36539926376556375\n",
      "830 k=15;n_neighbors=10;assign_labels=cluster_qr;n_inits=10 670487 0.3507465090310078\n",
      "831 k=15;n_neighbors=10;assign_labels=cluster_qr;n_inits=10 116739 0.3507465090310078\n",
      "832 k=15;n_neighbors=10;assign_labels=cluster_qr;n_inits=10 26225 0.3507465090310078\n",
      "833 k=15;n_neighbors=10;assign_labels=cluster_qr;n_inits=10 777572 0.3507465090310078\n",
      "834 k=15;n_neighbors=10;assign_labels=cluster_qr;n_inits=10 288389 0.3507465090310078\n",
      "835 k=15;n_neighbors=20;assign_labels=cluster_qr;n_inits=10 670487 0.33705086196515005\n",
      "836 k=15;n_neighbors=20;assign_labels=cluster_qr;n_inits=10 116739 0.33705086196515005\n",
      "837 k=15;n_neighbors=20;assign_labels=cluster_qr;n_inits=10 26225 0.33705086196515005\n",
      "838 k=15;n_neighbors=20;assign_labels=cluster_qr;n_inits=10 777572 0.33705086196515005\n",
      "839 k=15;n_neighbors=20;assign_labels=cluster_qr;n_inits=10 288389 0.33705086196515005\n"
     ]
    },
    {
     "name": "stderr",
     "output_type": "stream",
     "text": [
      "/home/olya/anaconda3/lib/python3.8/site-packages/sklearn/manifold/_spectral_embedding.py:274: UserWarning: Graph is not fully connected, spectral embedding may not work as expected.\n",
      "  warnings.warn(\n"
     ]
    },
    {
     "name": "stdout",
     "output_type": "stream",
     "text": [
      "840 k=16;n_neighbors=3;assign_labels=kmeans;n_inits=10 670487 0.4041782288998466\n"
     ]
    },
    {
     "name": "stderr",
     "output_type": "stream",
     "text": [
      "/home/olya/anaconda3/lib/python3.8/site-packages/sklearn/manifold/_spectral_embedding.py:274: UserWarning: Graph is not fully connected, spectral embedding may not work as expected.\n",
      "  warnings.warn(\n"
     ]
    },
    {
     "name": "stdout",
     "output_type": "stream",
     "text": [
      "841 k=16;n_neighbors=3;assign_labels=kmeans;n_inits=10 116739 0.40430360375792596\n"
     ]
    },
    {
     "name": "stderr",
     "output_type": "stream",
     "text": [
      "/home/olya/anaconda3/lib/python3.8/site-packages/sklearn/manifold/_spectral_embedding.py:274: UserWarning: Graph is not fully connected, spectral embedding may not work as expected.\n",
      "  warnings.warn(\n"
     ]
    },
    {
     "name": "stdout",
     "output_type": "stream",
     "text": [
      "842 k=16;n_neighbors=3;assign_labels=kmeans;n_inits=10 26225 0.40123665452142865\n"
     ]
    },
    {
     "name": "stderr",
     "output_type": "stream",
     "text": [
      "/home/olya/anaconda3/lib/python3.8/site-packages/sklearn/manifold/_spectral_embedding.py:274: UserWarning: Graph is not fully connected, spectral embedding may not work as expected.\n",
      "  warnings.warn(\n"
     ]
    },
    {
     "name": "stdout",
     "output_type": "stream",
     "text": [
      "843 k=16;n_neighbors=3;assign_labels=kmeans;n_inits=10 777572 0.40403430088362957\n"
     ]
    },
    {
     "name": "stderr",
     "output_type": "stream",
     "text": [
      "/home/olya/anaconda3/lib/python3.8/site-packages/sklearn/manifold/_spectral_embedding.py:274: UserWarning: Graph is not fully connected, spectral embedding may not work as expected.\n",
      "  warnings.warn(\n"
     ]
    },
    {
     "name": "stdout",
     "output_type": "stream",
     "text": [
      "844 k=16;n_neighbors=3;assign_labels=kmeans;n_inits=10 288389 0.4046563211424271\n",
      "845 k=16;n_neighbors=5;assign_labels=kmeans;n_inits=10 670487 0.361629081360185\n",
      "846 k=16;n_neighbors=5;assign_labels=kmeans;n_inits=10 116739 0.36687294723281105\n",
      "847 k=16;n_neighbors=5;assign_labels=kmeans;n_inits=10 26225 0.3611689867442038\n",
      "848 k=16;n_neighbors=5;assign_labels=kmeans;n_inits=10 777572 0.361629081360185\n",
      "849 k=16;n_neighbors=5;assign_labels=kmeans;n_inits=10 288389 0.3620604356583489\n",
      "850 k=16;n_neighbors=10;assign_labels=kmeans;n_inits=10 670487 0.3680881962065822\n",
      "851 k=16;n_neighbors=10;assign_labels=kmeans;n_inits=10 116739 0.3690850299427625\n",
      "852 k=16;n_neighbors=10;assign_labels=kmeans;n_inits=10 26225 0.36929248278134186\n",
      "853 k=16;n_neighbors=10;assign_labels=kmeans;n_inits=10 777572 0.3694890460790259\n",
      "854 k=16;n_neighbors=10;assign_labels=kmeans;n_inits=10 288389 0.36867285449677156\n",
      "855 k=16;n_neighbors=20;assign_labels=kmeans;n_inits=10 670487 0.33815507084710983\n",
      "856 k=16;n_neighbors=20;assign_labels=kmeans;n_inits=10 116739 0.3373548759554791\n",
      "857 k=16;n_neighbors=20;assign_labels=kmeans;n_inits=10 26225 0.3366659846960914\n",
      "858 k=16;n_neighbors=20;assign_labels=kmeans;n_inits=10 777572 0.33646822414113076\n",
      "859 k=16;n_neighbors=20;assign_labels=kmeans;n_inits=10 288389 0.33627764264066873\n"
     ]
    },
    {
     "name": "stderr",
     "output_type": "stream",
     "text": [
      "/home/olya/anaconda3/lib/python3.8/site-packages/sklearn/manifold/_spectral_embedding.py:274: UserWarning: Graph is not fully connected, spectral embedding may not work as expected.\n",
      "  warnings.warn(\n"
     ]
    },
    {
     "name": "stdout",
     "output_type": "stream",
     "text": [
      "860 k=16;n_neighbors=3;assign_labels=discretize;n_inits=10 670487 0.39126279973100503\n"
     ]
    },
    {
     "name": "stderr",
     "output_type": "stream",
     "text": [
      "/home/olya/anaconda3/lib/python3.8/site-packages/sklearn/manifold/_spectral_embedding.py:274: UserWarning: Graph is not fully connected, spectral embedding may not work as expected.\n",
      "  warnings.warn(\n"
     ]
    },
    {
     "name": "stdout",
     "output_type": "stream",
     "text": [
      "861 k=16;n_neighbors=3;assign_labels=discretize;n_inits=10 116739 0.39126279973100503\n"
     ]
    },
    {
     "name": "stderr",
     "output_type": "stream",
     "text": [
      "/home/olya/anaconda3/lib/python3.8/site-packages/sklearn/manifold/_spectral_embedding.py:274: UserWarning: Graph is not fully connected, spectral embedding may not work as expected.\n",
      "  warnings.warn(\n"
     ]
    },
    {
     "name": "stdout",
     "output_type": "stream",
     "text": [
      "862 k=16;n_neighbors=3;assign_labels=discretize;n_inits=10 26225 0.39006766984616204\n"
     ]
    },
    {
     "name": "stderr",
     "output_type": "stream",
     "text": [
      "/home/olya/anaconda3/lib/python3.8/site-packages/sklearn/manifold/_spectral_embedding.py:274: UserWarning: Graph is not fully connected, spectral embedding may not work as expected.\n",
      "  warnings.warn(\n"
     ]
    },
    {
     "name": "stdout",
     "output_type": "stream",
     "text": [
      "863 k=16;n_neighbors=3;assign_labels=discretize;n_inits=10 777572 0.3615228455484704\n"
     ]
    },
    {
     "name": "stderr",
     "output_type": "stream",
     "text": [
      "/home/olya/anaconda3/lib/python3.8/site-packages/sklearn/manifold/_spectral_embedding.py:274: UserWarning: Graph is not fully connected, spectral embedding may not work as expected.\n",
      "  warnings.warn(\n"
     ]
    },
    {
     "name": "stdout",
     "output_type": "stream",
     "text": [
      "864 k=16;n_neighbors=3;assign_labels=discretize;n_inits=10 288389 0.39126279973100503\n",
      "865 k=16;n_neighbors=5;assign_labels=discretize;n_inits=10 670487 0.35350846757149035\n",
      "866 k=16;n_neighbors=5;assign_labels=discretize;n_inits=10 116739 0.35404493292348316\n",
      "867 k=16;n_neighbors=5;assign_labels=discretize;n_inits=10 26225 0.35388698726409323\n",
      "868 k=16;n_neighbors=5;assign_labels=discretize;n_inits=10 777572 0.3525584223170172\n",
      "869 k=16;n_neighbors=5;assign_labels=discretize;n_inits=10 288389 0.35486570126024586\n",
      "870 k=16;n_neighbors=10;assign_labels=discretize;n_inits=10 670487 0.3423130542160647\n",
      "871 k=16;n_neighbors=10;assign_labels=discretize;n_inits=10 116739 0.3460790233797645\n",
      "872 k=16;n_neighbors=10;assign_labels=discretize;n_inits=10 26225 0.3397748821389259\n",
      "873 k=16;n_neighbors=10;assign_labels=discretize;n_inits=10 777572 0.34380377468892\n",
      "874 k=16;n_neighbors=10;assign_labels=discretize;n_inits=10 288389 0.33888127071794893\n",
      "875 k=16;n_neighbors=20;assign_labels=discretize;n_inits=10 670487 0.33601266882268027\n",
      "876 k=16;n_neighbors=20;assign_labels=discretize;n_inits=10 116739 0.33582276730554395\n",
      "877 k=16;n_neighbors=20;assign_labels=discretize;n_inits=10 26225 0.34801715409127104\n",
      "878 k=16;n_neighbors=20;assign_labels=discretize;n_inits=10 777572 0.33669643625942886\n",
      "879 k=16;n_neighbors=20;assign_labels=discretize;n_inits=10 288389 0.33727435594253197\n"
     ]
    },
    {
     "name": "stderr",
     "output_type": "stream",
     "text": [
      "/home/olya/anaconda3/lib/python3.8/site-packages/sklearn/manifold/_spectral_embedding.py:274: UserWarning: Graph is not fully connected, spectral embedding may not work as expected.\n",
      "  warnings.warn(\n"
     ]
    },
    {
     "name": "stdout",
     "output_type": "stream",
     "text": [
      "880 k=16;n_neighbors=3;assign_labels=cluster_qr;n_inits=10 670487 0.3868773688338343\n"
     ]
    },
    {
     "name": "stderr",
     "output_type": "stream",
     "text": [
      "/home/olya/anaconda3/lib/python3.8/site-packages/sklearn/manifold/_spectral_embedding.py:274: UserWarning: Graph is not fully connected, spectral embedding may not work as expected.\n",
      "  warnings.warn(\n"
     ]
    },
    {
     "name": "stdout",
     "output_type": "stream",
     "text": [
      "881 k=16;n_neighbors=3;assign_labels=cluster_qr;n_inits=10 116739 0.3868773688338343\n"
     ]
    },
    {
     "name": "stderr",
     "output_type": "stream",
     "text": [
      "/home/olya/anaconda3/lib/python3.8/site-packages/sklearn/manifold/_spectral_embedding.py:274: UserWarning: Graph is not fully connected, spectral embedding may not work as expected.\n",
      "  warnings.warn(\n"
     ]
    },
    {
     "name": "stdout",
     "output_type": "stream",
     "text": [
      "882 k=16;n_neighbors=3;assign_labels=cluster_qr;n_inits=10 26225 0.3868773688338343\n"
     ]
    },
    {
     "name": "stderr",
     "output_type": "stream",
     "text": [
      "/home/olya/anaconda3/lib/python3.8/site-packages/sklearn/manifold/_spectral_embedding.py:274: UserWarning: Graph is not fully connected, spectral embedding may not work as expected.\n",
      "  warnings.warn(\n"
     ]
    },
    {
     "name": "stdout",
     "output_type": "stream",
     "text": [
      "883 k=16;n_neighbors=3;assign_labels=cluster_qr;n_inits=10 777572 0.3868773688338343\n"
     ]
    },
    {
     "name": "stderr",
     "output_type": "stream",
     "text": [
      "/home/olya/anaconda3/lib/python3.8/site-packages/sklearn/manifold/_spectral_embedding.py:274: UserWarning: Graph is not fully connected, spectral embedding may not work as expected.\n",
      "  warnings.warn(\n"
     ]
    },
    {
     "name": "stdout",
     "output_type": "stream",
     "text": [
      "884 k=16;n_neighbors=3;assign_labels=cluster_qr;n_inits=10 288389 0.3868773688338343\n",
      "885 k=16;n_neighbors=5;assign_labels=cluster_qr;n_inits=10 670487 0.36569671362556705\n",
      "886 k=16;n_neighbors=5;assign_labels=cluster_qr;n_inits=10 116739 0.36569671362556705\n",
      "887 k=16;n_neighbors=5;assign_labels=cluster_qr;n_inits=10 26225 0.36569671362556705\n",
      "888 k=16;n_neighbors=5;assign_labels=cluster_qr;n_inits=10 777572 0.36569671362556705\n",
      "889 k=16;n_neighbors=5;assign_labels=cluster_qr;n_inits=10 288389 0.36569671362556705\n",
      "890 k=16;n_neighbors=10;assign_labels=cluster_qr;n_inits=10 670487 0.35459711510331027\n",
      "891 k=16;n_neighbors=10;assign_labels=cluster_qr;n_inits=10 116739 0.35459711510331027\n",
      "892 k=16;n_neighbors=10;assign_labels=cluster_qr;n_inits=10 26225 0.35459711510331027\n",
      "893 k=16;n_neighbors=10;assign_labels=cluster_qr;n_inits=10 777572 0.35459711510331027\n",
      "894 k=16;n_neighbors=10;assign_labels=cluster_qr;n_inits=10 288389 0.35459711510331027\n",
      "895 k=16;n_neighbors=20;assign_labels=cluster_qr;n_inits=10 670487 0.340867152559006\n",
      "896 k=16;n_neighbors=20;assign_labels=cluster_qr;n_inits=10 116739 0.340867152559006\n",
      "897 k=16;n_neighbors=20;assign_labels=cluster_qr;n_inits=10 26225 0.340867152559006\n",
      "898 k=16;n_neighbors=20;assign_labels=cluster_qr;n_inits=10 777572 0.340867152559006\n",
      "899 k=16;n_neighbors=20;assign_labels=cluster_qr;n_inits=10 288389 0.340867152559006\n"
     ]
    },
    {
     "name": "stderr",
     "output_type": "stream",
     "text": [
      "/home/olya/anaconda3/lib/python3.8/site-packages/sklearn/manifold/_spectral_embedding.py:274: UserWarning: Graph is not fully connected, spectral embedding may not work as expected.\n",
      "  warnings.warn(\n"
     ]
    },
    {
     "name": "stdout",
     "output_type": "stream",
     "text": [
      "900 k=17;n_neighbors=3;assign_labels=kmeans;n_inits=10 670487 0.38053187966167323\n"
     ]
    },
    {
     "name": "stderr",
     "output_type": "stream",
     "text": [
      "/home/olya/anaconda3/lib/python3.8/site-packages/sklearn/manifold/_spectral_embedding.py:274: UserWarning: Graph is not fully connected, spectral embedding may not work as expected.\n",
      "  warnings.warn(\n"
     ]
    },
    {
     "name": "stdout",
     "output_type": "stream",
     "text": [
      "901 k=17;n_neighbors=3;assign_labels=kmeans;n_inits=10 116739 0.3802835474499872\n"
     ]
    },
    {
     "name": "stderr",
     "output_type": "stream",
     "text": [
      "/home/olya/anaconda3/lib/python3.8/site-packages/sklearn/manifold/_spectral_embedding.py:274: UserWarning: Graph is not fully connected, spectral embedding may not work as expected.\n",
      "  warnings.warn(\n"
     ]
    },
    {
     "name": "stdout",
     "output_type": "stream",
     "text": [
      "902 k=17;n_neighbors=3;assign_labels=kmeans;n_inits=10 26225 0.3771912954956726\n"
     ]
    },
    {
     "name": "stderr",
     "output_type": "stream",
     "text": [
      "/home/olya/anaconda3/lib/python3.8/site-packages/sklearn/manifold/_spectral_embedding.py:274: UserWarning: Graph is not fully connected, spectral embedding may not work as expected.\n",
      "  warnings.warn(\n"
     ]
    },
    {
     "name": "stdout",
     "output_type": "stream",
     "text": [
      "903 k=17;n_neighbors=3;assign_labels=kmeans;n_inits=10 777572 0.37552074175301575\n"
     ]
    },
    {
     "name": "stderr",
     "output_type": "stream",
     "text": [
      "/home/olya/anaconda3/lib/python3.8/site-packages/sklearn/manifold/_spectral_embedding.py:274: UserWarning: Graph is not fully connected, spectral embedding may not work as expected.\n",
      "  warnings.warn(\n"
     ]
    },
    {
     "name": "stdout",
     "output_type": "stream",
     "text": [
      "904 k=17;n_neighbors=3;assign_labels=kmeans;n_inits=10 288389 0.3752724095413297\n",
      "905 k=17;n_neighbors=5;assign_labels=kmeans;n_inits=10 670487 0.3669670653243893\n",
      "906 k=17;n_neighbors=5;assign_labels=kmeans;n_inits=10 116739 0.35889300224828424\n",
      "907 k=17;n_neighbors=5;assign_labels=kmeans;n_inits=10 26225 0.36717846357816597\n",
      "908 k=17;n_neighbors=5;assign_labels=kmeans;n_inits=10 777572 0.35946323587855955\n",
      "909 k=17;n_neighbors=5;assign_labels=kmeans;n_inits=10 288389 0.35965788601068344\n",
      "910 k=17;n_neighbors=10;assign_labels=kmeans;n_inits=10 670487 0.35804381644750727\n",
      "911 k=17;n_neighbors=10;assign_labels=kmeans;n_inits=10 116739 0.36395078150397003\n",
      "912 k=17;n_neighbors=10;assign_labels=kmeans;n_inits=10 26225 0.36395078150397003\n",
      "913 k=17;n_neighbors=10;assign_labels=kmeans;n_inits=10 777572 0.36345719164228174\n",
      "914 k=17;n_neighbors=10;assign_labels=kmeans;n_inits=10 288389 0.36395078150397003\n",
      "915 k=17;n_neighbors=20;assign_labels=kmeans;n_inits=10 670487 0.34143624831015373\n",
      "916 k=17;n_neighbors=20;assign_labels=kmeans;n_inits=10 116739 0.34128862516853176\n",
      "917 k=17;n_neighbors=20;assign_labels=kmeans;n_inits=10 26225 0.33952509161513844\n",
      "918 k=17;n_neighbors=20;assign_labels=kmeans;n_inits=10 777572 0.34325137644035386\n",
      "919 k=17;n_neighbors=20;assign_labels=kmeans;n_inits=10 288389 0.3432823692487824\n"
     ]
    },
    {
     "name": "stderr",
     "output_type": "stream",
     "text": [
      "/home/olya/anaconda3/lib/python3.8/site-packages/sklearn/manifold/_spectral_embedding.py:274: UserWarning: Graph is not fully connected, spectral embedding may not work as expected.\n",
      "  warnings.warn(\n"
     ]
    },
    {
     "name": "stdout",
     "output_type": "stream",
     "text": [
      "920 k=17;n_neighbors=3;assign_labels=discretize;n_inits=10 670487 0.3641786671337951\n"
     ]
    },
    {
     "name": "stderr",
     "output_type": "stream",
     "text": [
      "/home/olya/anaconda3/lib/python3.8/site-packages/sklearn/manifold/_spectral_embedding.py:274: UserWarning: Graph is not fully connected, spectral embedding may not work as expected.\n",
      "  warnings.warn(\n"
     ]
    },
    {
     "name": "stdout",
     "output_type": "stream",
     "text": [
      "921 k=17;n_neighbors=3;assign_labels=discretize;n_inits=10 116739 0.35760770000202224\n"
     ]
    },
    {
     "name": "stderr",
     "output_type": "stream",
     "text": [
      "/home/olya/anaconda3/lib/python3.8/site-packages/sklearn/manifold/_spectral_embedding.py:274: UserWarning: Graph is not fully connected, spectral embedding may not work as expected.\n",
      "  warnings.warn(\n"
     ]
    },
    {
     "name": "stdout",
     "output_type": "stream",
     "text": [
      "922 k=17;n_neighbors=3;assign_labels=discretize;n_inits=10 26225 0.3632982425999929\n"
     ]
    },
    {
     "name": "stderr",
     "output_type": "stream",
     "text": [
      "/home/olya/anaconda3/lib/python3.8/site-packages/sklearn/manifold/_spectral_embedding.py:274: UserWarning: Graph is not fully connected, spectral embedding may not work as expected.\n",
      "  warnings.warn(\n"
     ]
    },
    {
     "name": "stdout",
     "output_type": "stream",
     "text": [
      "923 k=17;n_neighbors=3;assign_labels=discretize;n_inits=10 777572 0.3622047911501296\n"
     ]
    },
    {
     "name": "stderr",
     "output_type": "stream",
     "text": [
      "/home/olya/anaconda3/lib/python3.8/site-packages/sklearn/manifold/_spectral_embedding.py:274: UserWarning: Graph is not fully connected, spectral embedding may not work as expected.\n",
      "  warnings.warn(\n"
     ]
    },
    {
     "name": "stdout",
     "output_type": "stream",
     "text": [
      "924 k=17;n_neighbors=3;assign_labels=discretize;n_inits=10 288389 0.36274665669230544\n",
      "925 k=17;n_neighbors=5;assign_labels=discretize;n_inits=10 670487 0.35464243452807864\n",
      "926 k=17;n_neighbors=5;assign_labels=discretize;n_inits=10 116739 0.34860915195462583\n",
      "927 k=17;n_neighbors=5;assign_labels=discretize;n_inits=10 26225 0.3528387204778064\n",
      "928 k=17;n_neighbors=5;assign_labels=discretize;n_inits=10 777572 0.354991408276001\n",
      "929 k=17;n_neighbors=5;assign_labels=discretize;n_inits=10 288389 0.3562297987024152\n",
      "930 k=17;n_neighbors=10;assign_labels=discretize;n_inits=10 670487 0.3508938883166717\n",
      "931 k=17;n_neighbors=10;assign_labels=discretize;n_inits=10 116739 0.3516626680162682\n",
      "932 k=17;n_neighbors=10;assign_labels=discretize;n_inits=10 26225 0.34790481003330254\n",
      "933 k=17;n_neighbors=10;assign_labels=discretize;n_inits=10 777572 0.3436320585739327\n",
      "934 k=17;n_neighbors=10;assign_labels=discretize;n_inits=10 288389 0.3438488329644967\n",
      "935 k=17;n_neighbors=20;assign_labels=discretize;n_inits=10 670487 0.3391442306770767\n",
      "936 k=17;n_neighbors=20;assign_labels=discretize;n_inits=10 116739 0.33865593465567123\n",
      "937 k=17;n_neighbors=20;assign_labels=discretize;n_inits=10 26225 0.34000826489948593\n",
      "938 k=17;n_neighbors=20;assign_labels=discretize;n_inits=10 777572 0.3420100618046347\n",
      "939 k=17;n_neighbors=20;assign_labels=discretize;n_inits=10 288389 0.34279780944854593\n"
     ]
    },
    {
     "name": "stderr",
     "output_type": "stream",
     "text": [
      "/home/olya/anaconda3/lib/python3.8/site-packages/sklearn/manifold/_spectral_embedding.py:274: UserWarning: Graph is not fully connected, spectral embedding may not work as expected.\n",
      "  warnings.warn(\n"
     ]
    },
    {
     "name": "stdout",
     "output_type": "stream",
     "text": [
      "940 k=17;n_neighbors=3;assign_labels=cluster_qr;n_inits=10 670487 0.35764697936368095\n"
     ]
    },
    {
     "name": "stderr",
     "output_type": "stream",
     "text": [
      "/home/olya/anaconda3/lib/python3.8/site-packages/sklearn/manifold/_spectral_embedding.py:274: UserWarning: Graph is not fully connected, spectral embedding may not work as expected.\n",
      "  warnings.warn(\n"
     ]
    },
    {
     "name": "stdout",
     "output_type": "stream",
     "text": [
      "941 k=17;n_neighbors=3;assign_labels=cluster_qr;n_inits=10 116739 0.35764697936368095\n"
     ]
    },
    {
     "name": "stderr",
     "output_type": "stream",
     "text": [
      "/home/olya/anaconda3/lib/python3.8/site-packages/sklearn/manifold/_spectral_embedding.py:274: UserWarning: Graph is not fully connected, spectral embedding may not work as expected.\n",
      "  warnings.warn(\n"
     ]
    },
    {
     "name": "stdout",
     "output_type": "stream",
     "text": [
      "942 k=17;n_neighbors=3;assign_labels=cluster_qr;n_inits=10 26225 0.35764697936368095\n"
     ]
    },
    {
     "name": "stderr",
     "output_type": "stream",
     "text": [
      "/home/olya/anaconda3/lib/python3.8/site-packages/sklearn/manifold/_spectral_embedding.py:274: UserWarning: Graph is not fully connected, spectral embedding may not work as expected.\n",
      "  warnings.warn(\n"
     ]
    },
    {
     "name": "stdout",
     "output_type": "stream",
     "text": [
      "943 k=17;n_neighbors=3;assign_labels=cluster_qr;n_inits=10 777572 0.35764697936368095\n"
     ]
    },
    {
     "name": "stderr",
     "output_type": "stream",
     "text": [
      "/home/olya/anaconda3/lib/python3.8/site-packages/sklearn/manifold/_spectral_embedding.py:274: UserWarning: Graph is not fully connected, spectral embedding may not work as expected.\n",
      "  warnings.warn(\n"
     ]
    },
    {
     "name": "stdout",
     "output_type": "stream",
     "text": [
      "944 k=17;n_neighbors=3;assign_labels=cluster_qr;n_inits=10 288389 0.35764697936368095\n",
      "945 k=17;n_neighbors=5;assign_labels=cluster_qr;n_inits=10 670487 0.3394943648299149\n",
      "946 k=17;n_neighbors=5;assign_labels=cluster_qr;n_inits=10 116739 0.3394943648299149\n",
      "947 k=17;n_neighbors=5;assign_labels=cluster_qr;n_inits=10 26225 0.3394943648299149\n",
      "948 k=17;n_neighbors=5;assign_labels=cluster_qr;n_inits=10 777572 0.3394943648299149\n",
      "949 k=17;n_neighbors=5;assign_labels=cluster_qr;n_inits=10 288389 0.3394943648299149\n",
      "950 k=17;n_neighbors=10;assign_labels=cluster_qr;n_inits=10 670487 0.3525440416968393\n",
      "951 k=17;n_neighbors=10;assign_labels=cluster_qr;n_inits=10 116739 0.3525440416968393\n",
      "952 k=17;n_neighbors=10;assign_labels=cluster_qr;n_inits=10 26225 0.3525440416968393\n",
      "953 k=17;n_neighbors=10;assign_labels=cluster_qr;n_inits=10 777572 0.3525440416968393\n",
      "954 k=17;n_neighbors=10;assign_labels=cluster_qr;n_inits=10 288389 0.3525440416968393\n",
      "955 k=17;n_neighbors=20;assign_labels=cluster_qr;n_inits=10 670487 0.34558648786332746\n",
      "956 k=17;n_neighbors=20;assign_labels=cluster_qr;n_inits=10 116739 0.34558648786332746\n",
      "957 k=17;n_neighbors=20;assign_labels=cluster_qr;n_inits=10 26225 0.34558648786332746\n",
      "958 k=17;n_neighbors=20;assign_labels=cluster_qr;n_inits=10 777572 0.34558648786332746\n",
      "959 k=17;n_neighbors=20;assign_labels=cluster_qr;n_inits=10 288389 0.34558648786332746\n"
     ]
    },
    {
     "name": "stderr",
     "output_type": "stream",
     "text": [
      "/home/olya/anaconda3/lib/python3.8/site-packages/sklearn/manifold/_spectral_embedding.py:274: UserWarning: Graph is not fully connected, spectral embedding may not work as expected.\n",
      "  warnings.warn(\n"
     ]
    },
    {
     "name": "stdout",
     "output_type": "stream",
     "text": [
      "960 k=18;n_neighbors=3;assign_labels=kmeans;n_inits=10 670487 0.3766571876762742\n"
     ]
    },
    {
     "name": "stderr",
     "output_type": "stream",
     "text": [
      "/home/olya/anaconda3/lib/python3.8/site-packages/sklearn/manifold/_spectral_embedding.py:274: UserWarning: Graph is not fully connected, spectral embedding may not work as expected.\n",
      "  warnings.warn(\n"
     ]
    },
    {
     "name": "stdout",
     "output_type": "stream",
     "text": [
      "961 k=18;n_neighbors=3;assign_labels=kmeans;n_inits=10 116739 0.3766571876762742\n"
     ]
    },
    {
     "name": "stderr",
     "output_type": "stream",
     "text": [
      "/home/olya/anaconda3/lib/python3.8/site-packages/sklearn/manifold/_spectral_embedding.py:274: UserWarning: Graph is not fully connected, spectral embedding may not work as expected.\n",
      "  warnings.warn(\n"
     ]
    },
    {
     "name": "stdout",
     "output_type": "stream",
     "text": [
      "962 k=18;n_neighbors=3;assign_labels=kmeans;n_inits=10 26225 0.37620771879700876\n"
     ]
    },
    {
     "name": "stderr",
     "output_type": "stream",
     "text": [
      "/home/olya/anaconda3/lib/python3.8/site-packages/sklearn/manifold/_spectral_embedding.py:274: UserWarning: Graph is not fully connected, spectral embedding may not work as expected.\n",
      "  warnings.warn(\n"
     ]
    },
    {
     "name": "stdout",
     "output_type": "stream",
     "text": [
      "963 k=18;n_neighbors=3;assign_labels=kmeans;n_inits=10 777572 0.37698023708407535\n"
     ]
    },
    {
     "name": "stderr",
     "output_type": "stream",
     "text": [
      "/home/olya/anaconda3/lib/python3.8/site-packages/sklearn/manifold/_spectral_embedding.py:274: UserWarning: Graph is not fully connected, spectral embedding may not work as expected.\n",
      "  warnings.warn(\n"
     ]
    },
    {
     "name": "stdout",
     "output_type": "stream",
     "text": [
      "964 k=18;n_neighbors=3;assign_labels=kmeans;n_inits=10 288389 0.37620771879700876\n",
      "965 k=18;n_neighbors=5;assign_labels=kmeans;n_inits=10 670487 0.375382916413433\n",
      "966 k=18;n_neighbors=5;assign_labels=kmeans;n_inits=10 116739 0.3720808480394248\n",
      "967 k=18;n_neighbors=5;assign_labels=kmeans;n_inits=10 26225 0.3684157210442395\n",
      "968 k=18;n_neighbors=5;assign_labels=kmeans;n_inits=10 777572 0.3673042997113628\n",
      "969 k=18;n_neighbors=5;assign_labels=kmeans;n_inits=10 288389 0.37272618041400624\n",
      "970 k=18;n_neighbors=10;assign_labels=kmeans;n_inits=10 670487 0.37351140740565447\n",
      "971 k=18;n_neighbors=10;assign_labels=kmeans;n_inits=10 116739 0.3725419651991978\n",
      "972 k=18;n_neighbors=10;assign_labels=kmeans;n_inits=10 26225 0.3761140594504825\n",
      "973 k=18;n_neighbors=10;assign_labels=kmeans;n_inits=10 777572 0.3741091782178514\n",
      "974 k=18;n_neighbors=10;assign_labels=kmeans;n_inits=10 288389 0.37496277615435863\n",
      "975 k=18;n_neighbors=20;assign_labels=kmeans;n_inits=10 670487 0.3425974985887415\n",
      "976 k=18;n_neighbors=20;assign_labels=kmeans;n_inits=10 116739 0.344209872739162\n",
      "977 k=18;n_neighbors=20;assign_labels=kmeans;n_inits=10 26225 0.3460023300166142\n",
      "978 k=18;n_neighbors=20;assign_labels=kmeans;n_inits=10 777572 0.3465560079644814\n",
      "979 k=18;n_neighbors=20;assign_labels=kmeans;n_inits=10 288389 0.3444140668908545\n"
     ]
    },
    {
     "name": "stderr",
     "output_type": "stream",
     "text": [
      "/home/olya/anaconda3/lib/python3.8/site-packages/sklearn/manifold/_spectral_embedding.py:274: UserWarning: Graph is not fully connected, spectral embedding may not work as expected.\n",
      "  warnings.warn(\n"
     ]
    },
    {
     "name": "stdout",
     "output_type": "stream",
     "text": [
      "980 k=18;n_neighbors=3;assign_labels=discretize;n_inits=10 670487 0.34896253295473534\n"
     ]
    },
    {
     "name": "stderr",
     "output_type": "stream",
     "text": [
      "/home/olya/anaconda3/lib/python3.8/site-packages/sklearn/manifold/_spectral_embedding.py:274: UserWarning: Graph is not fully connected, spectral embedding may not work as expected.\n",
      "  warnings.warn(\n"
     ]
    },
    {
     "name": "stdout",
     "output_type": "stream",
     "text": [
      "981 k=18;n_neighbors=3;assign_labels=discretize;n_inits=10 116739 0.34896253295473534\n"
     ]
    },
    {
     "name": "stderr",
     "output_type": "stream",
     "text": [
      "/home/olya/anaconda3/lib/python3.8/site-packages/sklearn/manifold/_spectral_embedding.py:274: UserWarning: Graph is not fully connected, spectral embedding may not work as expected.\n",
      "  warnings.warn(\n"
     ]
    },
    {
     "name": "stdout",
     "output_type": "stream",
     "text": [
      "982 k=18;n_neighbors=3;assign_labels=discretize;n_inits=10 26225 0.34896253295473534\n"
     ]
    },
    {
     "name": "stderr",
     "output_type": "stream",
     "text": [
      "/home/olya/anaconda3/lib/python3.8/site-packages/sklearn/manifold/_spectral_embedding.py:274: UserWarning: Graph is not fully connected, spectral embedding may not work as expected.\n",
      "  warnings.warn(\n"
     ]
    },
    {
     "name": "stdout",
     "output_type": "stream",
     "text": [
      "983 k=18;n_neighbors=3;assign_labels=discretize;n_inits=10 777572 0.3488013391312717\n"
     ]
    },
    {
     "name": "stderr",
     "output_type": "stream",
     "text": [
      "/home/olya/anaconda3/lib/python3.8/site-packages/sklearn/manifold/_spectral_embedding.py:274: UserWarning: Graph is not fully connected, spectral embedding may not work as expected.\n",
      "  warnings.warn(\n"
     ]
    },
    {
     "name": "stdout",
     "output_type": "stream",
     "text": [
      "984 k=18;n_neighbors=3;assign_labels=discretize;n_inits=10 288389 0.34896253295473534\n",
      "985 k=18;n_neighbors=5;assign_labels=discretize;n_inits=10 670487 0.358136539929619\n",
      "986 k=18;n_neighbors=5;assign_labels=discretize;n_inits=10 116739 0.3502307566116811\n",
      "987 k=18;n_neighbors=5;assign_labels=discretize;n_inits=10 26225 0.3498036384402149\n",
      "988 k=18;n_neighbors=5;assign_labels=discretize;n_inits=10 777572 0.35089130388585343\n",
      "989 k=18;n_neighbors=5;assign_labels=discretize;n_inits=10 288389 0.35338548744366793\n",
      "990 k=18;n_neighbors=10;assign_labels=discretize;n_inits=10 670487 0.3679299388024241\n",
      "991 k=18;n_neighbors=10;assign_labels=discretize;n_inits=10 116739 0.36250938607046723\n",
      "992 k=18;n_neighbors=10;assign_labels=discretize;n_inits=10 26225 0.3629800536248418\n",
      "993 k=18;n_neighbors=10;assign_labels=discretize;n_inits=10 777572 0.36188955787663\n",
      "994 k=18;n_neighbors=10;assign_labels=discretize;n_inits=10 288389 0.36138796309094723\n",
      "995 k=18;n_neighbors=20;assign_labels=discretize;n_inits=10 670487 0.34497635369505475\n",
      "996 k=18;n_neighbors=20;assign_labels=discretize;n_inits=10 116739 0.3452794743386578\n",
      "997 k=18;n_neighbors=20;assign_labels=discretize;n_inits=10 26225 0.34642803307979525\n",
      "998 k=18;n_neighbors=20;assign_labels=discretize;n_inits=10 777572 0.3447986855229215\n",
      "999 k=18;n_neighbors=20;assign_labels=discretize;n_inits=10 288389 0.3446445376031922\n"
     ]
    },
    {
     "name": "stderr",
     "output_type": "stream",
     "text": [
      "/home/olya/anaconda3/lib/python3.8/site-packages/sklearn/manifold/_spectral_embedding.py:274: UserWarning: Graph is not fully connected, spectral embedding may not work as expected.\n",
      "  warnings.warn(\n"
     ]
    },
    {
     "name": "stdout",
     "output_type": "stream",
     "text": [
      "1000 k=18;n_neighbors=3;assign_labels=cluster_qr;n_inits=10 670487 0.34585886488838513\n"
     ]
    },
    {
     "name": "stderr",
     "output_type": "stream",
     "text": [
      "/home/olya/anaconda3/lib/python3.8/site-packages/sklearn/manifold/_spectral_embedding.py:274: UserWarning: Graph is not fully connected, spectral embedding may not work as expected.\n",
      "  warnings.warn(\n"
     ]
    },
    {
     "name": "stdout",
     "output_type": "stream",
     "text": [
      "1001 k=18;n_neighbors=3;assign_labels=cluster_qr;n_inits=10 116739 0.34585886488838513\n"
     ]
    },
    {
     "name": "stderr",
     "output_type": "stream",
     "text": [
      "/home/olya/anaconda3/lib/python3.8/site-packages/sklearn/manifold/_spectral_embedding.py:274: UserWarning: Graph is not fully connected, spectral embedding may not work as expected.\n",
      "  warnings.warn(\n"
     ]
    },
    {
     "name": "stdout",
     "output_type": "stream",
     "text": [
      "1002 k=18;n_neighbors=3;assign_labels=cluster_qr;n_inits=10 26225 0.34585886488838513\n"
     ]
    },
    {
     "name": "stderr",
     "output_type": "stream",
     "text": [
      "/home/olya/anaconda3/lib/python3.8/site-packages/sklearn/manifold/_spectral_embedding.py:274: UserWarning: Graph is not fully connected, spectral embedding may not work as expected.\n",
      "  warnings.warn(\n"
     ]
    },
    {
     "name": "stdout",
     "output_type": "stream",
     "text": [
      "1003 k=18;n_neighbors=3;assign_labels=cluster_qr;n_inits=10 777572 0.34585886488838513\n"
     ]
    },
    {
     "name": "stderr",
     "output_type": "stream",
     "text": [
      "/home/olya/anaconda3/lib/python3.8/site-packages/sklearn/manifold/_spectral_embedding.py:274: UserWarning: Graph is not fully connected, spectral embedding may not work as expected.\n",
      "  warnings.warn(\n"
     ]
    },
    {
     "name": "stdout",
     "output_type": "stream",
     "text": [
      "1004 k=18;n_neighbors=3;assign_labels=cluster_qr;n_inits=10 288389 0.34585886488838513\n",
      "1005 k=18;n_neighbors=5;assign_labels=cluster_qr;n_inits=10 670487 0.33491899286741417\n",
      "1006 k=18;n_neighbors=5;assign_labels=cluster_qr;n_inits=10 116739 0.33491899286741417\n",
      "1007 k=18;n_neighbors=5;assign_labels=cluster_qr;n_inits=10 26225 0.33491899286741417\n",
      "1008 k=18;n_neighbors=5;assign_labels=cluster_qr;n_inits=10 777572 0.33491899286741417\n",
      "1009 k=18;n_neighbors=5;assign_labels=cluster_qr;n_inits=10 288389 0.33491899286741417\n",
      "1010 k=18;n_neighbors=10;assign_labels=cluster_qr;n_inits=10 670487 0.3466779022690756\n",
      "1011 k=18;n_neighbors=10;assign_labels=cluster_qr;n_inits=10 116739 0.3466779022690756\n",
      "1012 k=18;n_neighbors=10;assign_labels=cluster_qr;n_inits=10 26225 0.3466779022690756\n",
      "1013 k=18;n_neighbors=10;assign_labels=cluster_qr;n_inits=10 777572 0.3466779022690756\n",
      "1014 k=18;n_neighbors=10;assign_labels=cluster_qr;n_inits=10 288389 0.3466779022690756\n",
      "1015 k=18;n_neighbors=20;assign_labels=cluster_qr;n_inits=10 670487 0.34629363879181846\n",
      "1016 k=18;n_neighbors=20;assign_labels=cluster_qr;n_inits=10 116739 0.34629363879181846\n",
      "1017 k=18;n_neighbors=20;assign_labels=cluster_qr;n_inits=10 26225 0.34629363879181846\n",
      "1018 k=18;n_neighbors=20;assign_labels=cluster_qr;n_inits=10 777572 0.34629363879181846\n",
      "1019 k=18;n_neighbors=20;assign_labels=cluster_qr;n_inits=10 288389 0.34629363879181846\n"
     ]
    },
    {
     "name": "stderr",
     "output_type": "stream",
     "text": [
      "/home/olya/anaconda3/lib/python3.8/site-packages/sklearn/manifold/_spectral_embedding.py:274: UserWarning: Graph is not fully connected, spectral embedding may not work as expected.\n",
      "  warnings.warn(\n"
     ]
    },
    {
     "name": "stdout",
     "output_type": "stream",
     "text": [
      "1020 k=19;n_neighbors=3;assign_labels=kmeans;n_inits=10 670487 0.37641252146577137\n"
     ]
    },
    {
     "name": "stderr",
     "output_type": "stream",
     "text": [
      "/home/olya/anaconda3/lib/python3.8/site-packages/sklearn/manifold/_spectral_embedding.py:274: UserWarning: Graph is not fully connected, spectral embedding may not work as expected.\n",
      "  warnings.warn(\n"
     ]
    },
    {
     "name": "stdout",
     "output_type": "stream",
     "text": [
      "1021 k=19;n_neighbors=3;assign_labels=kmeans;n_inits=10 116739 0.376700162139354\n"
     ]
    },
    {
     "name": "stderr",
     "output_type": "stream",
     "text": [
      "/home/olya/anaconda3/lib/python3.8/site-packages/sklearn/manifold/_spectral_embedding.py:274: UserWarning: Graph is not fully connected, spectral embedding may not work as expected.\n",
      "  warnings.warn(\n"
     ]
    },
    {
     "name": "stdout",
     "output_type": "stream",
     "text": [
      "1022 k=19;n_neighbors=3;assign_labels=kmeans;n_inits=10 26225 0.37738847338222575\n"
     ]
    },
    {
     "name": "stderr",
     "output_type": "stream",
     "text": [
      "/home/olya/anaconda3/lib/python3.8/site-packages/sklearn/manifold/_spectral_embedding.py:274: UserWarning: Graph is not fully connected, spectral embedding may not work as expected.\n",
      "  warnings.warn(\n"
     ]
    },
    {
     "name": "stdout",
     "output_type": "stream",
     "text": [
      "1023 k=19;n_neighbors=3;assign_labels=kmeans;n_inits=10 777572 0.3762546632858823\n"
     ]
    },
    {
     "name": "stderr",
     "output_type": "stream",
     "text": [
      "/home/olya/anaconda3/lib/python3.8/site-packages/sklearn/manifold/_spectral_embedding.py:274: UserWarning: Graph is not fully connected, spectral embedding may not work as expected.\n",
      "  warnings.warn(\n"
     ]
    },
    {
     "name": "stdout",
     "output_type": "stream",
     "text": [
      "1024 k=19;n_neighbors=3;assign_labels=kmeans;n_inits=10 288389 0.37776638246147054\n",
      "1025 k=19;n_neighbors=5;assign_labels=kmeans;n_inits=10 670487 0.36720703012782596\n",
      "1026 k=19;n_neighbors=5;assign_labels=kmeans;n_inits=10 116739 0.3615866804727357\n",
      "1027 k=19;n_neighbors=5;assign_labels=kmeans;n_inits=10 26225 0.36514973687393176\n",
      "1028 k=19;n_neighbors=5;assign_labels=kmeans;n_inits=10 777572 0.3616489411853084\n",
      "1029 k=19;n_neighbors=5;assign_labels=kmeans;n_inits=10 288389 0.36564281895985534\n",
      "1030 k=19;n_neighbors=10;assign_labels=kmeans;n_inits=10 670487 0.36832794291190185\n",
      "1031 k=19;n_neighbors=10;assign_labels=kmeans;n_inits=10 116739 0.365035869229856\n",
      "1032 k=19;n_neighbors=10;assign_labels=kmeans;n_inits=10 26225 0.370910302854972\n",
      "1033 k=19;n_neighbors=10;assign_labels=kmeans;n_inits=10 777572 0.370149009750908\n",
      "1034 k=19;n_neighbors=10;assign_labels=kmeans;n_inits=10 288389 0.369656741460752\n",
      "1035 k=19;n_neighbors=20;assign_labels=kmeans;n_inits=10 670487 0.32926202810306615\n",
      "1036 k=19;n_neighbors=20;assign_labels=kmeans;n_inits=10 116739 0.26312698188261485\n",
      "1037 k=19;n_neighbors=20;assign_labels=kmeans;n_inits=10 26225 0.3393544299491136\n",
      "1038 k=19;n_neighbors=20;assign_labels=kmeans;n_inits=10 777572 0.32826649021539633\n",
      "1039 k=19;n_neighbors=20;assign_labels=kmeans;n_inits=10 288389 0.2632884430320517\n"
     ]
    },
    {
     "name": "stderr",
     "output_type": "stream",
     "text": [
      "/home/olya/anaconda3/lib/python3.8/site-packages/sklearn/manifold/_spectral_embedding.py:274: UserWarning: Graph is not fully connected, spectral embedding may not work as expected.\n",
      "  warnings.warn(\n"
     ]
    },
    {
     "name": "stdout",
     "output_type": "stream",
     "text": [
      "1040 k=19;n_neighbors=3;assign_labels=discretize;n_inits=10 670487 0.345543415399029\n"
     ]
    },
    {
     "name": "stderr",
     "output_type": "stream",
     "text": [
      "/home/olya/anaconda3/lib/python3.8/site-packages/sklearn/manifold/_spectral_embedding.py:274: UserWarning: Graph is not fully connected, spectral embedding may not work as expected.\n",
      "  warnings.warn(\n"
     ]
    },
    {
     "name": "stdout",
     "output_type": "stream",
     "text": [
      "1041 k=19;n_neighbors=3;assign_labels=discretize;n_inits=10 116739 0.3472176141616059\n"
     ]
    },
    {
     "name": "stderr",
     "output_type": "stream",
     "text": [
      "/home/olya/anaconda3/lib/python3.8/site-packages/sklearn/manifold/_spectral_embedding.py:274: UserWarning: Graph is not fully connected, spectral embedding may not work as expected.\n",
      "  warnings.warn(\n"
     ]
    },
    {
     "name": "stdout",
     "output_type": "stream",
     "text": [
      "1042 k=19;n_neighbors=3;assign_labels=discretize;n_inits=10 26225 0.34699383539355083\n"
     ]
    },
    {
     "name": "stderr",
     "output_type": "stream",
     "text": [
      "/home/olya/anaconda3/lib/python3.8/site-packages/sklearn/manifold/_spectral_embedding.py:274: UserWarning: Graph is not fully connected, spectral embedding may not work as expected.\n",
      "  warnings.warn(\n"
     ]
    },
    {
     "name": "stdout",
     "output_type": "stream",
     "text": [
      "1043 k=19;n_neighbors=3;assign_labels=discretize;n_inits=10 777572 0.3472176141616059\n"
     ]
    },
    {
     "name": "stderr",
     "output_type": "stream",
     "text": [
      "/home/olya/anaconda3/lib/python3.8/site-packages/sklearn/manifold/_spectral_embedding.py:274: UserWarning: Graph is not fully connected, spectral embedding may not work as expected.\n",
      "  warnings.warn(\n"
     ]
    },
    {
     "name": "stdout",
     "output_type": "stream",
     "text": [
      "1044 k=19;n_neighbors=3;assign_labels=discretize;n_inits=10 288389 0.345543415399029\n",
      "1045 k=19;n_neighbors=5;assign_labels=discretize;n_inits=10 670487 0.3598547045488052\n",
      "1046 k=19;n_neighbors=5;assign_labels=discretize;n_inits=10 116739 0.36341890346733274\n",
      "1047 k=19;n_neighbors=5;assign_labels=discretize;n_inits=10 26225 0.35941720555336865\n",
      "1048 k=19;n_neighbors=5;assign_labels=discretize;n_inits=10 777572 0.3536589845501067\n",
      "1049 k=19;n_neighbors=5;assign_labels=discretize;n_inits=10 288389 0.36277365044880294\n",
      "1050 k=19;n_neighbors=10;assign_labels=discretize;n_inits=10 670487 0.36167366250969174\n",
      "1051 k=19;n_neighbors=10;assign_labels=discretize;n_inits=10 116739 0.3631373424406096\n",
      "1052 k=19;n_neighbors=10;assign_labels=discretize;n_inits=10 26225 0.3570672780255387\n",
      "1053 k=19;n_neighbors=10;assign_labels=discretize;n_inits=10 777572 0.36329096903204916\n",
      "1054 k=19;n_neighbors=10;assign_labels=discretize;n_inits=10 288389 0.3597036263522706\n",
      "1055 k=19;n_neighbors=20;assign_labels=discretize;n_inits=10 670487 0.3119015807090201\n",
      "1056 k=19;n_neighbors=20;assign_labels=discretize;n_inits=10 116739 0.3177980559565611\n",
      "1057 k=19;n_neighbors=20;assign_labels=discretize;n_inits=10 26225 0.31927902486076554\n",
      "1058 k=19;n_neighbors=20;assign_labels=discretize;n_inits=10 777572 0.3126228145597442\n",
      "1059 k=19;n_neighbors=20;assign_labels=discretize;n_inits=10 288389 0.2974648088217492\n"
     ]
    },
    {
     "name": "stderr",
     "output_type": "stream",
     "text": [
      "/home/olya/anaconda3/lib/python3.8/site-packages/sklearn/manifold/_spectral_embedding.py:274: UserWarning: Graph is not fully connected, spectral embedding may not work as expected.\n",
      "  warnings.warn(\n"
     ]
    },
    {
     "name": "stdout",
     "output_type": "stream",
     "text": [
      "1060 k=19;n_neighbors=3;assign_labels=cluster_qr;n_inits=10 670487 0.3466069580263652\n"
     ]
    },
    {
     "name": "stderr",
     "output_type": "stream",
     "text": [
      "/home/olya/anaconda3/lib/python3.8/site-packages/sklearn/manifold/_spectral_embedding.py:274: UserWarning: Graph is not fully connected, spectral embedding may not work as expected.\n",
      "  warnings.warn(\n"
     ]
    },
    {
     "name": "stdout",
     "output_type": "stream",
     "text": [
      "1061 k=19;n_neighbors=3;assign_labels=cluster_qr;n_inits=10 116739 0.3466069580263652\n"
     ]
    },
    {
     "name": "stderr",
     "output_type": "stream",
     "text": [
      "/home/olya/anaconda3/lib/python3.8/site-packages/sklearn/manifold/_spectral_embedding.py:274: UserWarning: Graph is not fully connected, spectral embedding may not work as expected.\n",
      "  warnings.warn(\n"
     ]
    },
    {
     "name": "stdout",
     "output_type": "stream",
     "text": [
      "1062 k=19;n_neighbors=3;assign_labels=cluster_qr;n_inits=10 26225 0.3466069580263652\n"
     ]
    },
    {
     "name": "stderr",
     "output_type": "stream",
     "text": [
      "/home/olya/anaconda3/lib/python3.8/site-packages/sklearn/manifold/_spectral_embedding.py:274: UserWarning: Graph is not fully connected, spectral embedding may not work as expected.\n",
      "  warnings.warn(\n"
     ]
    },
    {
     "name": "stdout",
     "output_type": "stream",
     "text": [
      "1063 k=19;n_neighbors=3;assign_labels=cluster_qr;n_inits=10 777572 0.3466069580263652\n"
     ]
    },
    {
     "name": "stderr",
     "output_type": "stream",
     "text": [
      "/home/olya/anaconda3/lib/python3.8/site-packages/sklearn/manifold/_spectral_embedding.py:274: UserWarning: Graph is not fully connected, spectral embedding may not work as expected.\n",
      "  warnings.warn(\n"
     ]
    },
    {
     "name": "stdout",
     "output_type": "stream",
     "text": [
      "1064 k=19;n_neighbors=3;assign_labels=cluster_qr;n_inits=10 288389 0.3466069580263652\n",
      "1065 k=19;n_neighbors=5;assign_labels=cluster_qr;n_inits=10 670487 0.3208634326315313\n",
      "1066 k=19;n_neighbors=5;assign_labels=cluster_qr;n_inits=10 116739 0.3208634326315313\n",
      "1067 k=19;n_neighbors=5;assign_labels=cluster_qr;n_inits=10 26225 0.3208634326315313\n",
      "1068 k=19;n_neighbors=5;assign_labels=cluster_qr;n_inits=10 777572 0.3208634326315313\n",
      "1069 k=19;n_neighbors=5;assign_labels=cluster_qr;n_inits=10 288389 0.3208634326315313\n",
      "1070 k=19;n_neighbors=10;assign_labels=cluster_qr;n_inits=10 670487 0.34959948150576947\n",
      "1071 k=19;n_neighbors=10;assign_labels=cluster_qr;n_inits=10 116739 0.34959948150576947\n",
      "1072 k=19;n_neighbors=10;assign_labels=cluster_qr;n_inits=10 26225 0.34959948150576947\n",
      "1073 k=19;n_neighbors=10;assign_labels=cluster_qr;n_inits=10 777572 0.34959948150576947\n",
      "1074 k=19;n_neighbors=10;assign_labels=cluster_qr;n_inits=10 288389 0.34959948150576947\n",
      "1075 k=19;n_neighbors=20;assign_labels=cluster_qr;n_inits=10 670487 0.2520779587099753\n",
      "1076 k=19;n_neighbors=20;assign_labels=cluster_qr;n_inits=10 116739 0.2520779587099753\n",
      "1077 k=19;n_neighbors=20;assign_labels=cluster_qr;n_inits=10 26225 0.2520779587099753\n",
      "1078 k=19;n_neighbors=20;assign_labels=cluster_qr;n_inits=10 777572 0.2520779587099753\n",
      "1079 k=19;n_neighbors=20;assign_labels=cluster_qr;n_inits=10 288389 0.2520779587099753\n"
     ]
    },
    {
     "name": "stderr",
     "output_type": "stream",
     "text": [
      "/home/olya/anaconda3/lib/python3.8/site-packages/sklearn/manifold/_spectral_embedding.py:274: UserWarning: Graph is not fully connected, spectral embedding may not work as expected.\n",
      "  warnings.warn(\n"
     ]
    },
    {
     "name": "stdout",
     "output_type": "stream",
     "text": [
      "1080 k=20;n_neighbors=3;assign_labels=kmeans;n_inits=10 670487 0.37850550473820666\n"
     ]
    },
    {
     "name": "stderr",
     "output_type": "stream",
     "text": [
      "/home/olya/anaconda3/lib/python3.8/site-packages/sklearn/manifold/_spectral_embedding.py:274: UserWarning: Graph is not fully connected, spectral embedding may not work as expected.\n",
      "  warnings.warn(\n"
     ]
    },
    {
     "name": "stdout",
     "output_type": "stream",
     "text": [
      "1081 k=20;n_neighbors=3;assign_labels=kmeans;n_inits=10 116739 0.38182923821181347\n"
     ]
    },
    {
     "name": "stderr",
     "output_type": "stream",
     "text": [
      "/home/olya/anaconda3/lib/python3.8/site-packages/sklearn/manifold/_spectral_embedding.py:274: UserWarning: Graph is not fully connected, spectral embedding may not work as expected.\n",
      "  warnings.warn(\n"
     ]
    },
    {
     "name": "stdout",
     "output_type": "stream",
     "text": [
      "1082 k=20;n_neighbors=3;assign_labels=kmeans;n_inits=10 26225 0.37941748061276226\n"
     ]
    },
    {
     "name": "stderr",
     "output_type": "stream",
     "text": [
      "/home/olya/anaconda3/lib/python3.8/site-packages/sklearn/manifold/_spectral_embedding.py:274: UserWarning: Graph is not fully connected, spectral embedding may not work as expected.\n",
      "  warnings.warn(\n"
     ]
    },
    {
     "name": "stdout",
     "output_type": "stream",
     "text": [
      "1083 k=20;n_neighbors=3;assign_labels=kmeans;n_inits=10 777572 0.3790271851600793\n"
     ]
    },
    {
     "name": "stderr",
     "output_type": "stream",
     "text": [
      "/home/olya/anaconda3/lib/python3.8/site-packages/sklearn/manifold/_spectral_embedding.py:274: UserWarning: Graph is not fully connected, spectral embedding may not work as expected.\n",
      "  warnings.warn(\n"
     ]
    },
    {
     "name": "stdout",
     "output_type": "stream",
     "text": [
      "1084 k=20;n_neighbors=3;assign_labels=kmeans;n_inits=10 288389 0.3789529986969468\n",
      "1085 k=20;n_neighbors=5;assign_labels=kmeans;n_inits=10 670487 0.35389474886330374\n",
      "1086 k=20;n_neighbors=5;assign_labels=kmeans;n_inits=10 116739 0.3545020981163718\n",
      "1087 k=20;n_neighbors=5;assign_labels=kmeans;n_inits=10 26225 0.35396922715144674\n",
      "1088 k=20;n_neighbors=5;assign_labels=kmeans;n_inits=10 777572 0.3620860045283105\n",
      "1089 k=20;n_neighbors=5;assign_labels=kmeans;n_inits=10 288389 0.35446258167886335\n",
      "1090 k=20;n_neighbors=10;assign_labels=kmeans;n_inits=10 670487 0.34458463397589323\n",
      "1091 k=20;n_neighbors=10;assign_labels=kmeans;n_inits=10 116739 0.28519245405562477\n",
      "1092 k=20;n_neighbors=10;assign_labels=kmeans;n_inits=10 26225 0.34830111286281307\n",
      "1093 k=20;n_neighbors=10;assign_labels=kmeans;n_inits=10 777572 0.34479235682120357\n",
      "1094 k=20;n_neighbors=10;assign_labels=kmeans;n_inits=10 288389 0.342899743608706\n",
      "1095 k=20;n_neighbors=20;assign_labels=kmeans;n_inits=10 670487 0.32843872607985747\n",
      "1096 k=20;n_neighbors=20;assign_labels=kmeans;n_inits=10 116739 0.24104661343469508\n",
      "1097 k=20;n_neighbors=20;assign_labels=kmeans;n_inits=10 26225 0.3202434649154392\n",
      "1098 k=20;n_neighbors=20;assign_labels=kmeans;n_inits=10 777572 0.3241667332037207\n",
      "1099 k=20;n_neighbors=20;assign_labels=kmeans;n_inits=10 288389 0.32411421449240735\n"
     ]
    },
    {
     "name": "stderr",
     "output_type": "stream",
     "text": [
      "/home/olya/anaconda3/lib/python3.8/site-packages/sklearn/manifold/_spectral_embedding.py:274: UserWarning: Graph is not fully connected, spectral embedding may not work as expected.\n",
      "  warnings.warn(\n"
     ]
    },
    {
     "name": "stdout",
     "output_type": "stream",
     "text": [
      "1100 k=20;n_neighbors=3;assign_labels=discretize;n_inits=10 670487 0.3443409329115577\n"
     ]
    },
    {
     "name": "stderr",
     "output_type": "stream",
     "text": [
      "/home/olya/anaconda3/lib/python3.8/site-packages/sklearn/manifold/_spectral_embedding.py:274: UserWarning: Graph is not fully connected, spectral embedding may not work as expected.\n",
      "  warnings.warn(\n"
     ]
    },
    {
     "name": "stdout",
     "output_type": "stream",
     "text": [
      "1101 k=20;n_neighbors=3;assign_labels=discretize;n_inits=10 116739 0.3443409329115577\n"
     ]
    },
    {
     "name": "stderr",
     "output_type": "stream",
     "text": [
      "/home/olya/anaconda3/lib/python3.8/site-packages/sklearn/manifold/_spectral_embedding.py:274: UserWarning: Graph is not fully connected, spectral embedding may not work as expected.\n",
      "  warnings.warn(\n"
     ]
    },
    {
     "name": "stdout",
     "output_type": "stream",
     "text": [
      "1102 k=20;n_neighbors=3;assign_labels=discretize;n_inits=10 26225 0.3464814423679996\n"
     ]
    },
    {
     "name": "stderr",
     "output_type": "stream",
     "text": [
      "/home/olya/anaconda3/lib/python3.8/site-packages/sklearn/manifold/_spectral_embedding.py:274: UserWarning: Graph is not fully connected, spectral embedding may not work as expected.\n",
      "  warnings.warn(\n"
     ]
    },
    {
     "name": "stdout",
     "output_type": "stream",
     "text": [
      "1103 k=20;n_neighbors=3;assign_labels=discretize;n_inits=10 777572 0.3443409329115577\n"
     ]
    },
    {
     "name": "stderr",
     "output_type": "stream",
     "text": [
      "/home/olya/anaconda3/lib/python3.8/site-packages/sklearn/manifold/_spectral_embedding.py:274: UserWarning: Graph is not fully connected, spectral embedding may not work as expected.\n",
      "  warnings.warn(\n"
     ]
    },
    {
     "name": "stdout",
     "output_type": "stream",
     "text": [
      "1104 k=20;n_neighbors=3;assign_labels=discretize;n_inits=10 288389 0.3464814423679996\n",
      "1105 k=20;n_neighbors=5;assign_labels=discretize;n_inits=10 670487 0.34961543573133724\n",
      "1106 k=20;n_neighbors=5;assign_labels=discretize;n_inits=10 116739 0.3499451563508674\n",
      "1107 k=20;n_neighbors=5;assign_labels=discretize;n_inits=10 26225 0.34892579481427566\n",
      "1108 k=20;n_neighbors=5;assign_labels=discretize;n_inits=10 777572 0.3238276575211048\n",
      "1109 k=20;n_neighbors=5;assign_labels=discretize;n_inits=10 288389 0.34751903477469104\n",
      "1110 k=20;n_neighbors=10;assign_labels=discretize;n_inits=10 670487 0.3425661716365991\n",
      "1111 k=20;n_neighbors=10;assign_labels=discretize;n_inits=10 116739 0.34801630775128667\n",
      "1112 k=20;n_neighbors=10;assign_labels=discretize;n_inits=10 26225 0.34105821861536023\n",
      "1113 k=20;n_neighbors=10;assign_labels=discretize;n_inits=10 777572 0.30904857329794455\n",
      "1114 k=20;n_neighbors=10;assign_labels=discretize;n_inits=10 288389 0.3470759747303539\n",
      "1115 k=20;n_neighbors=20;assign_labels=discretize;n_inits=10 670487 0.308580010067289\n",
      "1116 k=20;n_neighbors=20;assign_labels=discretize;n_inits=10 116739 0.3136420977449891\n",
      "1117 k=20;n_neighbors=20;assign_labels=discretize;n_inits=10 26225 0.26591277500679866\n",
      "1118 k=20;n_neighbors=20;assign_labels=discretize;n_inits=10 777572 0.31387224104326117\n",
      "1119 k=20;n_neighbors=20;assign_labels=discretize;n_inits=10 288389 0.2959089479559562\n"
     ]
    },
    {
     "name": "stderr",
     "output_type": "stream",
     "text": [
      "/home/olya/anaconda3/lib/python3.8/site-packages/sklearn/manifold/_spectral_embedding.py:274: UserWarning: Graph is not fully connected, spectral embedding may not work as expected.\n",
      "  warnings.warn(\n"
     ]
    },
    {
     "name": "stdout",
     "output_type": "stream",
     "text": [
      "1120 k=20;n_neighbors=3;assign_labels=cluster_qr;n_inits=10 670487 0.3480500215836192\n"
     ]
    },
    {
     "name": "stderr",
     "output_type": "stream",
     "text": [
      "/home/olya/anaconda3/lib/python3.8/site-packages/sklearn/manifold/_spectral_embedding.py:274: UserWarning: Graph is not fully connected, spectral embedding may not work as expected.\n",
      "  warnings.warn(\n"
     ]
    },
    {
     "name": "stdout",
     "output_type": "stream",
     "text": [
      "1121 k=20;n_neighbors=3;assign_labels=cluster_qr;n_inits=10 116739 0.3480500215836192\n"
     ]
    },
    {
     "name": "stderr",
     "output_type": "stream",
     "text": [
      "/home/olya/anaconda3/lib/python3.8/site-packages/sklearn/manifold/_spectral_embedding.py:274: UserWarning: Graph is not fully connected, spectral embedding may not work as expected.\n",
      "  warnings.warn(\n"
     ]
    },
    {
     "name": "stdout",
     "output_type": "stream",
     "text": [
      "1122 k=20;n_neighbors=3;assign_labels=cluster_qr;n_inits=10 26225 0.3480500215836192\n"
     ]
    },
    {
     "name": "stderr",
     "output_type": "stream",
     "text": [
      "/home/olya/anaconda3/lib/python3.8/site-packages/sklearn/manifold/_spectral_embedding.py:274: UserWarning: Graph is not fully connected, spectral embedding may not work as expected.\n",
      "  warnings.warn(\n"
     ]
    },
    {
     "name": "stdout",
     "output_type": "stream",
     "text": [
      "1123 k=20;n_neighbors=3;assign_labels=cluster_qr;n_inits=10 777572 0.3480500215836192\n"
     ]
    },
    {
     "name": "stderr",
     "output_type": "stream",
     "text": [
      "/home/olya/anaconda3/lib/python3.8/site-packages/sklearn/manifold/_spectral_embedding.py:274: UserWarning: Graph is not fully connected, spectral embedding may not work as expected.\n",
      "  warnings.warn(\n"
     ]
    },
    {
     "name": "stdout",
     "output_type": "stream",
     "text": [
      "1124 k=20;n_neighbors=3;assign_labels=cluster_qr;n_inits=10 288389 0.3480500215836192\n",
      "1125 k=20;n_neighbors=5;assign_labels=cluster_qr;n_inits=10 670487 0.22984911401384978\n",
      "1126 k=20;n_neighbors=5;assign_labels=cluster_qr;n_inits=10 116739 0.22984911401384978\n",
      "1127 k=20;n_neighbors=5;assign_labels=cluster_qr;n_inits=10 26225 0.22984911401384978\n",
      "1128 k=20;n_neighbors=5;assign_labels=cluster_qr;n_inits=10 777572 0.22984911401384978\n",
      "1129 k=20;n_neighbors=5;assign_labels=cluster_qr;n_inits=10 288389 0.22984911401384978\n",
      "1130 k=20;n_neighbors=10;assign_labels=cluster_qr;n_inits=10 670487 0.25073298821426937\n",
      "1131 k=20;n_neighbors=10;assign_labels=cluster_qr;n_inits=10 116739 0.25073298821426937\n",
      "1132 k=20;n_neighbors=10;assign_labels=cluster_qr;n_inits=10 26225 0.25073298821426937\n",
      "1133 k=20;n_neighbors=10;assign_labels=cluster_qr;n_inits=10 777572 0.25073298821426937\n",
      "1134 k=20;n_neighbors=10;assign_labels=cluster_qr;n_inits=10 288389 0.25073298821426937\n",
      "1135 k=20;n_neighbors=20;assign_labels=cluster_qr;n_inits=10 670487 0.23568013502800966\n",
      "1136 k=20;n_neighbors=20;assign_labels=cluster_qr;n_inits=10 116739 0.23568013502800966\n",
      "1137 k=20;n_neighbors=20;assign_labels=cluster_qr;n_inits=10 26225 0.23568013502800966\n",
      "1138 k=20;n_neighbors=20;assign_labels=cluster_qr;n_inits=10 777572 0.23568013502800966\n",
      "1139 k=20;n_neighbors=20;assign_labels=cluster_qr;n_inits=10 288389 0.23568013502800966\n"
     ]
    },
    {
     "data": {
      "text/html": [
       "<div>\n",
       "<style scoped>\n",
       "    .dataframe tbody tr th:only-of-type {\n",
       "        vertical-align: middle;\n",
       "    }\n",
       "\n",
       "    .dataframe tbody tr th {\n",
       "        vertical-align: top;\n",
       "    }\n",
       "\n",
       "    .dataframe thead th {\n",
       "        text-align: right;\n",
       "    }\n",
       "</style>\n",
       "<table border=\"1\" class=\"dataframe\">\n",
       "  <thead>\n",
       "    <tr style=\"text-align: right;\">\n",
       "      <th></th>\n",
       "      <th>PAM50</th>\n",
       "      <th>Intrinsic</th>\n",
       "      <th>PAM50_AB</th>\n",
       "      <th>SCMOD2</th>\n",
       "      <th>IHC</th>\n",
       "      <th>Luminal</th>\n",
       "      <th>Basal</th>\n",
       "      <th>Her2</th>\n",
       "      <th>LumA</th>\n",
       "      <th>LumB</th>\n",
       "      <th>Normal</th>\n",
       "      <th>Claudin-low</th>\n",
       "      <th>IHC_HER2</th>\n",
       "      <th>IHC_ER</th>\n",
       "      <th>IHC_PR</th>\n",
       "      <th>IHC_TNBC</th>\n",
       "      <th>NET_kmeans</th>\n",
       "      <th>NET_ward</th>\n",
       "      <th>seed</th>\n",
       "      <th>parameters</th>\n",
       "    </tr>\n",
       "  </thead>\n",
       "  <tbody>\n",
       "    <tr>\n",
       "      <th>114</th>\n",
       "      <td>0.464464</td>\n",
       "      <td>0.450479</td>\n",
       "      <td>0.082747</td>\n",
       "      <td>0.118875</td>\n",
       "      <td>0.364162</td>\n",
       "      <td>0.546893</td>\n",
       "      <td>0.421379</td>\n",
       "      <td>0.13564</td>\n",
       "      <td>-0.023273</td>\n",
       "      <td>0.041879</td>\n",
       "      <td>0.0659</td>\n",
       "      <td>0.140856</td>\n",
       "      <td>0.066582</td>\n",
       "      <td>0.534716</td>\n",
       "      <td>0.164248</td>\n",
       "      <td>0.441435</td>\n",
       "      <td>-0.036821</td>\n",
       "      <td>-0.02962</td>\n",
       "      <td>288389</td>\n",
       "      <td>k=3;n_neighbors=10;assign_labels=cluster_qr;n_...</td>\n",
       "    </tr>\n",
       "    <tr>\n",
       "      <th>110</th>\n",
       "      <td>0.464464</td>\n",
       "      <td>0.450479</td>\n",
       "      <td>0.082747</td>\n",
       "      <td>0.118875</td>\n",
       "      <td>0.364162</td>\n",
       "      <td>0.546893</td>\n",
       "      <td>0.421379</td>\n",
       "      <td>0.13564</td>\n",
       "      <td>-0.023273</td>\n",
       "      <td>0.041879</td>\n",
       "      <td>0.0659</td>\n",
       "      <td>0.140856</td>\n",
       "      <td>0.066582</td>\n",
       "      <td>0.534716</td>\n",
       "      <td>0.164248</td>\n",
       "      <td>0.441435</td>\n",
       "      <td>-0.036821</td>\n",
       "      <td>-0.02962</td>\n",
       "      <td>670487</td>\n",
       "      <td>k=3;n_neighbors=10;assign_labels=cluster_qr;n_...</td>\n",
       "    </tr>\n",
       "    <tr>\n",
       "      <th>111</th>\n",
       "      <td>0.464464</td>\n",
       "      <td>0.450479</td>\n",
       "      <td>0.082747</td>\n",
       "      <td>0.118875</td>\n",
       "      <td>0.364162</td>\n",
       "      <td>0.546893</td>\n",
       "      <td>0.421379</td>\n",
       "      <td>0.13564</td>\n",
       "      <td>-0.023273</td>\n",
       "      <td>0.041879</td>\n",
       "      <td>0.0659</td>\n",
       "      <td>0.140856</td>\n",
       "      <td>0.066582</td>\n",
       "      <td>0.534716</td>\n",
       "      <td>0.164248</td>\n",
       "      <td>0.441435</td>\n",
       "      <td>-0.036821</td>\n",
       "      <td>-0.02962</td>\n",
       "      <td>116739</td>\n",
       "      <td>k=3;n_neighbors=10;assign_labels=cluster_qr;n_...</td>\n",
       "    </tr>\n",
       "    <tr>\n",
       "      <th>112</th>\n",
       "      <td>0.464464</td>\n",
       "      <td>0.450479</td>\n",
       "      <td>0.082747</td>\n",
       "      <td>0.118875</td>\n",
       "      <td>0.364162</td>\n",
       "      <td>0.546893</td>\n",
       "      <td>0.421379</td>\n",
       "      <td>0.13564</td>\n",
       "      <td>-0.023273</td>\n",
       "      <td>0.041879</td>\n",
       "      <td>0.0659</td>\n",
       "      <td>0.140856</td>\n",
       "      <td>0.066582</td>\n",
       "      <td>0.534716</td>\n",
       "      <td>0.164248</td>\n",
       "      <td>0.441435</td>\n",
       "      <td>-0.036821</td>\n",
       "      <td>-0.02962</td>\n",
       "      <td>26225</td>\n",
       "      <td>k=3;n_neighbors=10;assign_labels=cluster_qr;n_...</td>\n",
       "    </tr>\n",
       "    <tr>\n",
       "      <th>113</th>\n",
       "      <td>0.464464</td>\n",
       "      <td>0.450479</td>\n",
       "      <td>0.082747</td>\n",
       "      <td>0.118875</td>\n",
       "      <td>0.364162</td>\n",
       "      <td>0.546893</td>\n",
       "      <td>0.421379</td>\n",
       "      <td>0.13564</td>\n",
       "      <td>-0.023273</td>\n",
       "      <td>0.041879</td>\n",
       "      <td>0.0659</td>\n",
       "      <td>0.140856</td>\n",
       "      <td>0.066582</td>\n",
       "      <td>0.534716</td>\n",
       "      <td>0.164248</td>\n",
       "      <td>0.441435</td>\n",
       "      <td>-0.036821</td>\n",
       "      <td>-0.02962</td>\n",
       "      <td>777572</td>\n",
       "      <td>k=3;n_neighbors=10;assign_labels=cluster_qr;n_...</td>\n",
       "    </tr>\n",
       "    <tr>\n",
       "      <th>...</th>\n",
       "      <td>...</td>\n",
       "      <td>...</td>\n",
       "      <td>...</td>\n",
       "      <td>...</td>\n",
       "      <td>...</td>\n",
       "      <td>...</td>\n",
       "      <td>...</td>\n",
       "      <td>...</td>\n",
       "      <td>...</td>\n",
       "      <td>...</td>\n",
       "      <td>...</td>\n",
       "      <td>...</td>\n",
       "      <td>...</td>\n",
       "      <td>...</td>\n",
       "      <td>...</td>\n",
       "      <td>...</td>\n",
       "      <td>...</td>\n",
       "      <td>...</td>\n",
       "      <td>...</td>\n",
       "      <td>...</td>\n",
       "    </tr>\n",
       "    <tr>\n",
       "      <th>50</th>\n",
       "      <td>-0.007164</td>\n",
       "      <td>-0.006855</td>\n",
       "      <td>0.000665</td>\n",
       "      <td>0.0</td>\n",
       "      <td>0.0</td>\n",
       "      <td>-0.010015</td>\n",
       "      <td>0.0</td>\n",
       "      <td>0.0</td>\n",
       "      <td>-0.009193</td>\n",
       "      <td>0.008852</td>\n",
       "      <td>0.0</td>\n",
       "      <td>0.0</td>\n",
       "      <td>0.0</td>\n",
       "      <td>0.0</td>\n",
       "      <td>0.0</td>\n",
       "      <td>0.0</td>\n",
       "      <td>0.0</td>\n",
       "      <td>0.0</td>\n",
       "      <td>670487</td>\n",
       "      <td>k=2;n_neighbors=10;assign_labels=cluster_qr;n_...</td>\n",
       "    </tr>\n",
       "    <tr>\n",
       "      <th>51</th>\n",
       "      <td>-0.007164</td>\n",
       "      <td>-0.006855</td>\n",
       "      <td>0.000665</td>\n",
       "      <td>0.0</td>\n",
       "      <td>0.0</td>\n",
       "      <td>-0.010015</td>\n",
       "      <td>0.0</td>\n",
       "      <td>0.0</td>\n",
       "      <td>-0.009193</td>\n",
       "      <td>0.008852</td>\n",
       "      <td>0.0</td>\n",
       "      <td>0.0</td>\n",
       "      <td>0.0</td>\n",
       "      <td>0.0</td>\n",
       "      <td>0.0</td>\n",
       "      <td>0.0</td>\n",
       "      <td>0.0</td>\n",
       "      <td>0.0</td>\n",
       "      <td>116739</td>\n",
       "      <td>k=2;n_neighbors=10;assign_labels=cluster_qr;n_...</td>\n",
       "    </tr>\n",
       "    <tr>\n",
       "      <th>52</th>\n",
       "      <td>-0.007164</td>\n",
       "      <td>-0.006855</td>\n",
       "      <td>0.000665</td>\n",
       "      <td>0.0</td>\n",
       "      <td>0.0</td>\n",
       "      <td>-0.010015</td>\n",
       "      <td>0.0</td>\n",
       "      <td>0.0</td>\n",
       "      <td>-0.009193</td>\n",
       "      <td>0.008852</td>\n",
       "      <td>0.0</td>\n",
       "      <td>0.0</td>\n",
       "      <td>0.0</td>\n",
       "      <td>0.0</td>\n",
       "      <td>0.0</td>\n",
       "      <td>0.0</td>\n",
       "      <td>0.0</td>\n",
       "      <td>0.0</td>\n",
       "      <td>26225</td>\n",
       "      <td>k=2;n_neighbors=10;assign_labels=cluster_qr;n_...</td>\n",
       "    </tr>\n",
       "    <tr>\n",
       "      <th>53</th>\n",
       "      <td>-0.007164</td>\n",
       "      <td>-0.006855</td>\n",
       "      <td>0.000665</td>\n",
       "      <td>0.0</td>\n",
       "      <td>0.0</td>\n",
       "      <td>-0.010015</td>\n",
       "      <td>0.0</td>\n",
       "      <td>0.0</td>\n",
       "      <td>-0.009193</td>\n",
       "      <td>0.008852</td>\n",
       "      <td>0.0</td>\n",
       "      <td>0.0</td>\n",
       "      <td>0.0</td>\n",
       "      <td>0.0</td>\n",
       "      <td>0.0</td>\n",
       "      <td>0.0</td>\n",
       "      <td>0.0</td>\n",
       "      <td>0.0</td>\n",
       "      <td>777572</td>\n",
       "      <td>k=2;n_neighbors=10;assign_labels=cluster_qr;n_...</td>\n",
       "    </tr>\n",
       "    <tr>\n",
       "      <th>54</th>\n",
       "      <td>-0.007164</td>\n",
       "      <td>-0.006855</td>\n",
       "      <td>0.000665</td>\n",
       "      <td>0.0</td>\n",
       "      <td>0.0</td>\n",
       "      <td>-0.010015</td>\n",
       "      <td>0.0</td>\n",
       "      <td>0.0</td>\n",
       "      <td>-0.009193</td>\n",
       "      <td>0.008852</td>\n",
       "      <td>0.0</td>\n",
       "      <td>0.0</td>\n",
       "      <td>0.0</td>\n",
       "      <td>0.0</td>\n",
       "      <td>0.0</td>\n",
       "      <td>0.0</td>\n",
       "      <td>0.0</td>\n",
       "      <td>0.0</td>\n",
       "      <td>288389</td>\n",
       "      <td>k=2;n_neighbors=10;assign_labels=cluster_qr;n_...</td>\n",
       "    </tr>\n",
       "  </tbody>\n",
       "</table>\n",
       "<p>1140 rows × 20 columns</p>\n",
       "</div>"
      ],
      "text/plain": [
       "        PAM50 Intrinsic  PAM50_AB    SCMOD2       IHC   Luminal     Basal  \\\n",
       "114  0.464464  0.450479  0.082747  0.118875  0.364162  0.546893  0.421379   \n",
       "110  0.464464  0.450479  0.082747  0.118875  0.364162  0.546893  0.421379   \n",
       "111  0.464464  0.450479  0.082747  0.118875  0.364162  0.546893  0.421379   \n",
       "112  0.464464  0.450479  0.082747  0.118875  0.364162  0.546893  0.421379   \n",
       "113  0.464464  0.450479  0.082747  0.118875  0.364162  0.546893  0.421379   \n",
       "..        ...       ...       ...       ...       ...       ...       ...   \n",
       "50  -0.007164 -0.006855  0.000665       0.0       0.0 -0.010015       0.0   \n",
       "51  -0.007164 -0.006855  0.000665       0.0       0.0 -0.010015       0.0   \n",
       "52  -0.007164 -0.006855  0.000665       0.0       0.0 -0.010015       0.0   \n",
       "53  -0.007164 -0.006855  0.000665       0.0       0.0 -0.010015       0.0   \n",
       "54  -0.007164 -0.006855  0.000665       0.0       0.0 -0.010015       0.0   \n",
       "\n",
       "        Her2      LumA      LumB  Normal Claudin-low  IHC_HER2    IHC_ER  \\\n",
       "114  0.13564 -0.023273  0.041879  0.0659    0.140856  0.066582  0.534716   \n",
       "110  0.13564 -0.023273  0.041879  0.0659    0.140856  0.066582  0.534716   \n",
       "111  0.13564 -0.023273  0.041879  0.0659    0.140856  0.066582  0.534716   \n",
       "112  0.13564 -0.023273  0.041879  0.0659    0.140856  0.066582  0.534716   \n",
       "113  0.13564 -0.023273  0.041879  0.0659    0.140856  0.066582  0.534716   \n",
       "..       ...       ...       ...     ...         ...       ...       ...   \n",
       "50       0.0 -0.009193  0.008852     0.0         0.0       0.0       0.0   \n",
       "51       0.0 -0.009193  0.008852     0.0         0.0       0.0       0.0   \n",
       "52       0.0 -0.009193  0.008852     0.0         0.0       0.0       0.0   \n",
       "53       0.0 -0.009193  0.008852     0.0         0.0       0.0       0.0   \n",
       "54       0.0 -0.009193  0.008852     0.0         0.0       0.0       0.0   \n",
       "\n",
       "       IHC_PR  IHC_TNBC NET_kmeans NET_ward    seed  \\\n",
       "114  0.164248  0.441435  -0.036821 -0.02962  288389   \n",
       "110  0.164248  0.441435  -0.036821 -0.02962  670487   \n",
       "111  0.164248  0.441435  -0.036821 -0.02962  116739   \n",
       "112  0.164248  0.441435  -0.036821 -0.02962   26225   \n",
       "113  0.164248  0.441435  -0.036821 -0.02962  777572   \n",
       "..        ...       ...        ...      ...     ...   \n",
       "50        0.0       0.0        0.0      0.0  670487   \n",
       "51        0.0       0.0        0.0      0.0  116739   \n",
       "52        0.0       0.0        0.0      0.0   26225   \n",
       "53        0.0       0.0        0.0      0.0  777572   \n",
       "54        0.0       0.0        0.0      0.0  288389   \n",
       "\n",
       "                                            parameters  \n",
       "114  k=3;n_neighbors=10;assign_labels=cluster_qr;n_...  \n",
       "110  k=3;n_neighbors=10;assign_labels=cluster_qr;n_...  \n",
       "111  k=3;n_neighbors=10;assign_labels=cluster_qr;n_...  \n",
       "112  k=3;n_neighbors=10;assign_labels=cluster_qr;n_...  \n",
       "113  k=3;n_neighbors=10;assign_labels=cluster_qr;n_...  \n",
       "..                                                 ...  \n",
       "50   k=2;n_neighbors=10;assign_labels=cluster_qr;n_...  \n",
       "51   k=2;n_neighbors=10;assign_labels=cluster_qr;n_...  \n",
       "52   k=2;n_neighbors=10;assign_labels=cluster_qr;n_...  \n",
       "53   k=2;n_neighbors=10;assign_labels=cluster_qr;n_...  \n",
       "54   k=2;n_neighbors=10;assign_labels=cluster_qr;n_...  \n",
       "\n",
       "[1140 rows x 20 columns]"
      ]
     },
     "execution_count": 14,
     "metadata": {},
     "output_type": "execute_result"
    }
   ],
   "source": [
    "stats = {}\n",
    "i=0\n",
    "method = \"SpectralClustering\"\n",
    "if not os.path.exists(basedir+\"/\"+method+\"/\"):\n",
    "    os.mkdir(basedir+\"/\"+method+\"/\")\n",
    "\n",
    "\n",
    "for k in ks:\n",
    "    for al in assign_labels:\n",
    "        for n_init in n_inits:\n",
    "            for n_neigh in n_neighbors:\n",
    "                for seed in seeds:\n",
    "                    params = \"k=\"+str(k)+\";n_neighbors=\"+str(n_neigh)\n",
    "                    params += \";assign_labels=\"+str(al)+\";n_inits=\"+str(n_init)\n",
    "                    labels =  SpectralClustering(n_clusters=k,  n_init=n_init, \n",
    "                                       affinity='nearest_neighbors', \n",
    "                                       n_neighbors=n_neigh, \n",
    "                                       assign_labels=al,\n",
    "                                       random_state=seed).fit_predict(exprs.T)\n",
    "                    clusters = labels_to_clsuters(labels,  exprs.columns)\n",
    "                    clusters = clusters.loc[clusters[\"n_samples\"]>=5,:]\n",
    "                    performances, best_matches = calculate_perfromance(clusters, known_groups,all_samples,\n",
    "                                                                       performance_measure = \"ARI\")\n",
    "                    stats[i] = performances.to_dict()\n",
    "                    stats[i][\"seed\"]=seed\n",
    "                    stats[i][\"parameters\"]=params\n",
    "                    print(i,params,seed,stats[i][\"PAM50\"])\n",
    "                    # saving clusters \n",
    "                    clusters[\"samples\"] = clusters[\"samples\"].apply(lambda row: \" \".join(sorted(row)))\n",
    "                    clusters = clusters.loc[:,[\"n_samples\",\"samples\"]] \n",
    "                    clusters.to_csv(basedir+\"/\"+method+\"/\"+dataset+\".\"+method+\".\"+params+\".seed=\"+str(seed)+\".clusters.tsv\",sep=\"\\t\")\n",
    "                    i+=1\n",
    "stats = pd.DataFrame.from_dict(stats).T\n",
    "# saving performances\n",
    "stats.to_csv(basedir +\"/\"+method+\"_\"+dataset+\".tsv\",sep=\"\\t\")\n",
    "stats.sort_values(by = \"PAM50\",ascending=False)"
   ]
  },
  {
   "cell_type": "code",
   "execution_count": null,
   "id": "whole-prisoner",
   "metadata": {},
   "outputs": [],
   "source": []
  },
  {
   "cell_type": "markdown",
   "id": "virgin-brief",
   "metadata": {},
   "source": [
    "# BIRCH\n"
   ]
  },
  {
   "cell_type": "code",
   "execution_count": 12,
   "id": "separate-start",
   "metadata": {},
   "outputs": [
    {
     "data": {
      "text/plain": [
       "171"
      ]
     },
     "execution_count": 12,
     "metadata": {},
     "output_type": "execute_result"
    }
   ],
   "source": [
    "from sklearn.cluster import Birch\n",
    "ks = list(range(2,21))\n",
    "branching_factors= [10,50,100] \n",
    "thresholds =[0.1,0.5,0.95]\n",
    "len(ks)*len(branching_factors)*len(thresholds)"
   ]
  },
  {
   "cell_type": "code",
   "execution_count": 13,
   "id": "complimentary-ability",
   "metadata": {
    "scrolled": true
   },
   "outputs": [
    {
     "name": "stdout",
     "output_type": "stream",
     "text": [
      "0 k=2;branching_factor=10;threshold=0.1 0.008537957262166858\n",
      "1 k=2;branching_factor=10;threshold=0.5 0.008537957262166858\n",
      "2 k=2;branching_factor=10;threshold=0.95 0.008537957262166858\n",
      "3 k=2;branching_factor=50;threshold=0.1 0.008537957262166858\n",
      "4 k=2;branching_factor=50;threshold=0.5 0.008537957262166858\n",
      "5 k=2;branching_factor=50;threshold=0.95 0.008537957262166858\n",
      "6 k=2;branching_factor=100;threshold=0.1 0.008537957262166858\n",
      "7 k=2;branching_factor=100;threshold=0.5 0.008537957262166858\n",
      "8 k=2;branching_factor=100;threshold=0.95 0.008537957262166858\n",
      "9 k=3;branching_factor=10;threshold=0.1 0.48119671974942824\n",
      "10 k=3;branching_factor=10;threshold=0.5 0.48119671974942824\n",
      "11 k=3;branching_factor=10;threshold=0.95 0.48119671974942824\n",
      "12 k=3;branching_factor=50;threshold=0.1 0.48119671974942824\n",
      "13 k=3;branching_factor=50;threshold=0.5 0.48119671974942824\n",
      "14 k=3;branching_factor=50;threshold=0.95 0.48119671974942824\n",
      "15 k=3;branching_factor=100;threshold=0.1 0.48119671974942824\n",
      "16 k=3;branching_factor=100;threshold=0.5 0.48119671974942824\n",
      "17 k=3;branching_factor=100;threshold=0.95 0.48119671974942824\n",
      "18 k=4;branching_factor=10;threshold=0.1 0.48247670305782214\n",
      "19 k=4;branching_factor=10;threshold=0.5 0.48247670305782214\n",
      "20 k=4;branching_factor=10;threshold=0.95 0.48247670305782214\n",
      "21 k=4;branching_factor=50;threshold=0.1 0.48247670305782214\n",
      "22 k=4;branching_factor=50;threshold=0.5 0.48247670305782214\n",
      "23 k=4;branching_factor=50;threshold=0.95 0.48247670305782214\n",
      "24 k=4;branching_factor=100;threshold=0.1 0.48247670305782214\n",
      "25 k=4;branching_factor=100;threshold=0.5 0.48247670305782214\n",
      "26 k=4;branching_factor=100;threshold=0.95 0.48247670305782214\n",
      "27 k=5;branching_factor=10;threshold=0.1 0.48258852273234243\n",
      "28 k=5;branching_factor=10;threshold=0.5 0.48258852273234243\n",
      "29 k=5;branching_factor=10;threshold=0.95 0.48258852273234243\n",
      "30 k=5;branching_factor=50;threshold=0.1 0.48258852273234243\n",
      "31 k=5;branching_factor=50;threshold=0.5 0.48258852273234243\n",
      "32 k=5;branching_factor=50;threshold=0.95 0.48258852273234243\n",
      "33 k=5;branching_factor=100;threshold=0.1 0.48258852273234243\n",
      "34 k=5;branching_factor=100;threshold=0.5 0.48258852273234243\n",
      "35 k=5;branching_factor=100;threshold=0.95 0.48258852273234243\n",
      "36 k=6;branching_factor=10;threshold=0.1 0.48258852273234243\n",
      "37 k=6;branching_factor=10;threshold=0.5 0.48258852273234243\n",
      "38 k=6;branching_factor=10;threshold=0.95 0.48258852273234243\n",
      "39 k=6;branching_factor=50;threshold=0.1 0.48258852273234243\n",
      "40 k=6;branching_factor=50;threshold=0.5 0.48258852273234243\n",
      "41 k=6;branching_factor=50;threshold=0.95 0.48258852273234243\n",
      "42 k=6;branching_factor=100;threshold=0.1 0.48258852273234243\n",
      "43 k=6;branching_factor=100;threshold=0.5 0.48258852273234243\n",
      "44 k=6;branching_factor=100;threshold=0.95 0.48258852273234243\n",
      "45 k=7;branching_factor=10;threshold=0.1 0.4299464216366041\n",
      "46 k=7;branching_factor=10;threshold=0.5 0.4299464216366041\n",
      "47 k=7;branching_factor=10;threshold=0.95 0.4299464216366041\n",
      "48 k=7;branching_factor=50;threshold=0.1 0.4299464216366041\n",
      "49 k=7;branching_factor=50;threshold=0.5 0.4299464216366041\n",
      "50 k=7;branching_factor=50;threshold=0.95 0.4299464216366041\n",
      "51 k=7;branching_factor=100;threshold=0.1 0.4299464216366041\n",
      "52 k=7;branching_factor=100;threshold=0.5 0.4299464216366041\n",
      "53 k=7;branching_factor=100;threshold=0.95 0.4299464216366041\n",
      "54 k=8;branching_factor=10;threshold=0.1 0.3035351585610917\n",
      "55 k=8;branching_factor=10;threshold=0.5 0.3035351585610917\n",
      "56 k=8;branching_factor=10;threshold=0.95 0.3035351585610917\n",
      "57 k=8;branching_factor=50;threshold=0.1 0.3035351585610917\n",
      "58 k=8;branching_factor=50;threshold=0.5 0.3035351585610917\n",
      "59 k=8;branching_factor=50;threshold=0.95 0.3035351585610917\n",
      "60 k=8;branching_factor=100;threshold=0.1 0.3035351585610917\n",
      "61 k=8;branching_factor=100;threshold=0.5 0.3035351585610917\n",
      "62 k=8;branching_factor=100;threshold=0.95 0.3035351585610917\n",
      "63 k=9;branching_factor=10;threshold=0.1 0.3123305764269823\n",
      "64 k=9;branching_factor=10;threshold=0.5 0.3123305764269823\n",
      "65 k=9;branching_factor=10;threshold=0.95 0.3123305764269823\n",
      "66 k=9;branching_factor=50;threshold=0.1 0.3123305764269823\n",
      "67 k=9;branching_factor=50;threshold=0.5 0.3123305764269823\n",
      "68 k=9;branching_factor=50;threshold=0.95 0.3123305764269823\n",
      "69 k=9;branching_factor=100;threshold=0.1 0.3123305764269823\n",
      "70 k=9;branching_factor=100;threshold=0.5 0.3123305764269823\n",
      "71 k=9;branching_factor=100;threshold=0.95 0.3123305764269823\n",
      "72 k=10;branching_factor=10;threshold=0.1 0.3123305764269823\n",
      "73 k=10;branching_factor=10;threshold=0.5 0.3123305764269823\n",
      "74 k=10;branching_factor=10;threshold=0.95 0.3123305764269823\n",
      "75 k=10;branching_factor=50;threshold=0.1 0.3123305764269823\n",
      "76 k=10;branching_factor=50;threshold=0.5 0.3123305764269823\n",
      "77 k=10;branching_factor=50;threshold=0.95 0.3123305764269823\n",
      "78 k=10;branching_factor=100;threshold=0.1 0.3123305764269823\n",
      "79 k=10;branching_factor=100;threshold=0.5 0.3123305764269823\n",
      "80 k=10;branching_factor=100;threshold=0.95 0.3123305764269823\n",
      "81 k=11;branching_factor=10;threshold=0.1 0.3123305764269823\n",
      "82 k=11;branching_factor=10;threshold=0.5 0.3123305764269823\n",
      "83 k=11;branching_factor=10;threshold=0.95 0.3123305764269823\n",
      "84 k=11;branching_factor=50;threshold=0.1 0.3123305764269823\n",
      "85 k=11;branching_factor=50;threshold=0.5 0.3123305764269823\n",
      "86 k=11;branching_factor=50;threshold=0.95 0.3123305764269823\n",
      "87 k=11;branching_factor=100;threshold=0.1 0.3123305764269823\n",
      "88 k=11;branching_factor=100;threshold=0.5 0.3123305764269823\n",
      "89 k=11;branching_factor=100;threshold=0.95 0.3123305764269823\n",
      "90 k=12;branching_factor=10;threshold=0.1 0.3123305764269823\n",
      "91 k=12;branching_factor=10;threshold=0.5 0.3123305764269823\n",
      "92 k=12;branching_factor=10;threshold=0.95 0.3123305764269823\n",
      "93 k=12;branching_factor=50;threshold=0.1 0.3123305764269823\n",
      "94 k=12;branching_factor=50;threshold=0.5 0.3123305764269823\n",
      "95 k=12;branching_factor=50;threshold=0.95 0.3123305764269823\n",
      "96 k=12;branching_factor=100;threshold=0.1 0.3123305764269823\n",
      "97 k=12;branching_factor=100;threshold=0.5 0.3123305764269823\n",
      "98 k=12;branching_factor=100;threshold=0.95 0.3123305764269823\n",
      "99 k=13;branching_factor=10;threshold=0.1 0.3123305764269823\n",
      "100 k=13;branching_factor=10;threshold=0.5 0.3123305764269823\n",
      "101 k=13;branching_factor=10;threshold=0.95 0.3123305764269823\n",
      "102 k=13;branching_factor=50;threshold=0.1 0.3123305764269823\n",
      "103 k=13;branching_factor=50;threshold=0.5 0.3123305764269823\n",
      "104 k=13;branching_factor=50;threshold=0.95 0.3123305764269823\n",
      "105 k=13;branching_factor=100;threshold=0.1 0.3123305764269823\n",
      "106 k=13;branching_factor=100;threshold=0.5 0.3123305764269823\n",
      "107 k=13;branching_factor=100;threshold=0.95 0.3123305764269823\n",
      "108 k=14;branching_factor=10;threshold=0.1 0.3123305764269823\n",
      "109 k=14;branching_factor=10;threshold=0.5 0.3123305764269823\n",
      "110 k=14;branching_factor=10;threshold=0.95 0.3123305764269823\n",
      "111 k=14;branching_factor=50;threshold=0.1 0.3123305764269823\n",
      "112 k=14;branching_factor=50;threshold=0.5 0.3123305764269823\n",
      "113 k=14;branching_factor=50;threshold=0.95 0.3123305764269823\n",
      "114 k=14;branching_factor=100;threshold=0.1 0.3123305764269823\n",
      "115 k=14;branching_factor=100;threshold=0.5 0.3123305764269823\n",
      "116 k=14;branching_factor=100;threshold=0.95 0.3123305764269823\n",
      "117 k=15;branching_factor=10;threshold=0.1 0.3123305764269823\n",
      "118 k=15;branching_factor=10;threshold=0.5 0.3123305764269823\n",
      "119 k=15;branching_factor=10;threshold=0.95 0.3123305764269823\n",
      "120 k=15;branching_factor=50;threshold=0.1 0.3123305764269823\n",
      "121 k=15;branching_factor=50;threshold=0.5 0.3123305764269823\n",
      "122 k=15;branching_factor=50;threshold=0.95 0.3123305764269823\n",
      "123 k=15;branching_factor=100;threshold=0.1 0.3123305764269823\n",
      "124 k=15;branching_factor=100;threshold=0.5 0.3123305764269823\n",
      "125 k=15;branching_factor=100;threshold=0.95 0.3123305764269823\n",
      "126 k=16;branching_factor=10;threshold=0.1 0.3123305764269823\n",
      "127 k=16;branching_factor=10;threshold=0.5 0.3123305764269823\n",
      "128 k=16;branching_factor=10;threshold=0.95 0.3123305764269823\n",
      "129 k=16;branching_factor=50;threshold=0.1 0.3123305764269823\n",
      "130 k=16;branching_factor=50;threshold=0.5 0.3123305764269823\n",
      "131 k=16;branching_factor=50;threshold=0.95 0.3123305764269823\n",
      "132 k=16;branching_factor=100;threshold=0.1 0.3123305764269823\n"
     ]
    },
    {
     "name": "stdout",
     "output_type": "stream",
     "text": [
      "133 k=16;branching_factor=100;threshold=0.5 0.3123305764269823\n",
      "134 k=16;branching_factor=100;threshold=0.95 0.3123305764269823\n",
      "135 k=17;branching_factor=10;threshold=0.1 0.3123305764269823\n",
      "136 k=17;branching_factor=10;threshold=0.5 0.3123305764269823\n",
      "137 k=17;branching_factor=10;threshold=0.95 0.3123305764269823\n",
      "138 k=17;branching_factor=50;threshold=0.1 0.3123305764269823\n",
      "139 k=17;branching_factor=50;threshold=0.5 0.3123305764269823\n",
      "140 k=17;branching_factor=50;threshold=0.95 0.3123305764269823\n",
      "141 k=17;branching_factor=100;threshold=0.1 0.3123305764269823\n",
      "142 k=17;branching_factor=100;threshold=0.5 0.3123305764269823\n",
      "143 k=17;branching_factor=100;threshold=0.95 0.3123305764269823\n",
      "144 k=18;branching_factor=10;threshold=0.1 0.3123305764269823\n",
      "145 k=18;branching_factor=10;threshold=0.5 0.3123305764269823\n",
      "146 k=18;branching_factor=10;threshold=0.95 0.3123305764269823\n",
      "147 k=18;branching_factor=50;threshold=0.1 0.3123305764269823\n",
      "148 k=18;branching_factor=50;threshold=0.5 0.3123305764269823\n",
      "149 k=18;branching_factor=50;threshold=0.95 0.3123305764269823\n",
      "150 k=18;branching_factor=100;threshold=0.1 0.3123305764269823\n",
      "151 k=18;branching_factor=100;threshold=0.5 0.3123305764269823\n",
      "152 k=18;branching_factor=100;threshold=0.95 0.3123305764269823\n",
      "153 k=19;branching_factor=10;threshold=0.1 0.3123305764269823\n",
      "154 k=19;branching_factor=10;threshold=0.5 0.3123305764269823\n",
      "155 k=19;branching_factor=10;threshold=0.95 0.3123305764269823\n",
      "156 k=19;branching_factor=50;threshold=0.1 0.3123305764269823\n",
      "157 k=19;branching_factor=50;threshold=0.5 0.3123305764269823\n",
      "158 k=19;branching_factor=50;threshold=0.95 0.3123305764269823\n",
      "159 k=19;branching_factor=100;threshold=0.1 0.3123305764269823\n",
      "160 k=19;branching_factor=100;threshold=0.5 0.3123305764269823\n",
      "161 k=19;branching_factor=100;threshold=0.95 0.3123305764269823\n",
      "162 k=20;branching_factor=10;threshold=0.1 0.3123305764269823\n",
      "163 k=20;branching_factor=10;threshold=0.5 0.3123305764269823\n",
      "164 k=20;branching_factor=10;threshold=0.95 0.3123305764269823\n",
      "165 k=20;branching_factor=50;threshold=0.1 0.3123305764269823\n",
      "166 k=20;branching_factor=50;threshold=0.5 0.3123305764269823\n",
      "167 k=20;branching_factor=50;threshold=0.95 0.3123305764269823\n",
      "168 k=20;branching_factor=100;threshold=0.1 0.3123305764269823\n",
      "169 k=20;branching_factor=100;threshold=0.5 0.3123305764269823\n",
      "170 k=20;branching_factor=100;threshold=0.95 0.3123305764269823\n"
     ]
    },
    {
     "data": {
      "text/html": [
       "<div>\n",
       "<style scoped>\n",
       "    .dataframe tbody tr th:only-of-type {\n",
       "        vertical-align: middle;\n",
       "    }\n",
       "\n",
       "    .dataframe tbody tr th {\n",
       "        vertical-align: top;\n",
       "    }\n",
       "\n",
       "    .dataframe thead th {\n",
       "        text-align: right;\n",
       "    }\n",
       "</style>\n",
       "<table border=\"1\" class=\"dataframe\">\n",
       "  <thead>\n",
       "    <tr style=\"text-align: right;\">\n",
       "      <th></th>\n",
       "      <th>PAM50</th>\n",
       "      <th>Intrinsic</th>\n",
       "      <th>PAM50_AB</th>\n",
       "      <th>SCMOD2</th>\n",
       "      <th>IHC</th>\n",
       "      <th>Luminal</th>\n",
       "      <th>Basal</th>\n",
       "      <th>Her2</th>\n",
       "      <th>LumA</th>\n",
       "      <th>LumB</th>\n",
       "      <th>Normal</th>\n",
       "      <th>Claudin-low</th>\n",
       "      <th>IHC_HER2</th>\n",
       "      <th>IHC_ER</th>\n",
       "      <th>IHC_PR</th>\n",
       "      <th>IHC_TNBC</th>\n",
       "      <th>NET_kmeans</th>\n",
       "      <th>NET_ward</th>\n",
       "      <th>parameters</th>\n",
       "    </tr>\n",
       "  </thead>\n",
       "  <tbody>\n",
       "    <tr>\n",
       "      <th>38</th>\n",
       "      <td>0.482589</td>\n",
       "      <td>0.464339</td>\n",
       "      <td>0.181933</td>\n",
       "      <td>0.198069</td>\n",
       "      <td>0.403205</td>\n",
       "      <td>0.542279</td>\n",
       "      <td>0.538211</td>\n",
       "      <td>0.189716</td>\n",
       "      <td>0.106853</td>\n",
       "      <td>0.13382</td>\n",
       "      <td>0.049074</td>\n",
       "      <td>0.06031</td>\n",
       "      <td>0.0924</td>\n",
       "      <td>0.595563</td>\n",
       "      <td>0.15715</td>\n",
       "      <td>0.540227</td>\n",
       "      <td>0.13158</td>\n",
       "      <td>0.095657</td>\n",
       "      <td>k=6;branching_factor=10;threshold=0.95</td>\n",
       "    </tr>\n",
       "    <tr>\n",
       "      <th>36</th>\n",
       "      <td>0.482589</td>\n",
       "      <td>0.464339</td>\n",
       "      <td>0.181933</td>\n",
       "      <td>0.198069</td>\n",
       "      <td>0.403205</td>\n",
       "      <td>0.542279</td>\n",
       "      <td>0.538211</td>\n",
       "      <td>0.189716</td>\n",
       "      <td>0.106853</td>\n",
       "      <td>0.13382</td>\n",
       "      <td>0.049074</td>\n",
       "      <td>0.06031</td>\n",
       "      <td>0.0924</td>\n",
       "      <td>0.595563</td>\n",
       "      <td>0.15715</td>\n",
       "      <td>0.540227</td>\n",
       "      <td>0.13158</td>\n",
       "      <td>0.095657</td>\n",
       "      <td>k=6;branching_factor=10;threshold=0.1</td>\n",
       "    </tr>\n",
       "    <tr>\n",
       "      <th>29</th>\n",
       "      <td>0.482589</td>\n",
       "      <td>0.464339</td>\n",
       "      <td>0.176157</td>\n",
       "      <td>0.19207</td>\n",
       "      <td>0.403205</td>\n",
       "      <td>0.542279</td>\n",
       "      <td>0.538211</td>\n",
       "      <td>0.189716</td>\n",
       "      <td>0.106853</td>\n",
       "      <td>0.119424</td>\n",
       "      <td>0.049074</td>\n",
       "      <td>0.06031</td>\n",
       "      <td>0.0924</td>\n",
       "      <td>0.595563</td>\n",
       "      <td>0.15715</td>\n",
       "      <td>0.540227</td>\n",
       "      <td>0.015075</td>\n",
       "      <td>0.010863</td>\n",
       "      <td>k=5;branching_factor=10;threshold=0.95</td>\n",
       "    </tr>\n",
       "    <tr>\n",
       "      <th>31</th>\n",
       "      <td>0.482589</td>\n",
       "      <td>0.464339</td>\n",
       "      <td>0.176157</td>\n",
       "      <td>0.19207</td>\n",
       "      <td>0.403205</td>\n",
       "      <td>0.542279</td>\n",
       "      <td>0.538211</td>\n",
       "      <td>0.189716</td>\n",
       "      <td>0.106853</td>\n",
       "      <td>0.119424</td>\n",
       "      <td>0.049074</td>\n",
       "      <td>0.06031</td>\n",
       "      <td>0.0924</td>\n",
       "      <td>0.595563</td>\n",
       "      <td>0.15715</td>\n",
       "      <td>0.540227</td>\n",
       "      <td>0.015075</td>\n",
       "      <td>0.010863</td>\n",
       "      <td>k=5;branching_factor=50;threshold=0.5</td>\n",
       "    </tr>\n",
       "    <tr>\n",
       "      <th>32</th>\n",
       "      <td>0.482589</td>\n",
       "      <td>0.464339</td>\n",
       "      <td>0.176157</td>\n",
       "      <td>0.19207</td>\n",
       "      <td>0.403205</td>\n",
       "      <td>0.542279</td>\n",
       "      <td>0.538211</td>\n",
       "      <td>0.189716</td>\n",
       "      <td>0.106853</td>\n",
       "      <td>0.119424</td>\n",
       "      <td>0.049074</td>\n",
       "      <td>0.06031</td>\n",
       "      <td>0.0924</td>\n",
       "      <td>0.595563</td>\n",
       "      <td>0.15715</td>\n",
       "      <td>0.540227</td>\n",
       "      <td>0.015075</td>\n",
       "      <td>0.010863</td>\n",
       "      <td>k=5;branching_factor=50;threshold=0.95</td>\n",
       "    </tr>\n",
       "    <tr>\n",
       "      <th>...</th>\n",
       "      <td>...</td>\n",
       "      <td>...</td>\n",
       "      <td>...</td>\n",
       "      <td>...</td>\n",
       "      <td>...</td>\n",
       "      <td>...</td>\n",
       "      <td>...</td>\n",
       "      <td>...</td>\n",
       "      <td>...</td>\n",
       "      <td>...</td>\n",
       "      <td>...</td>\n",
       "      <td>...</td>\n",
       "      <td>...</td>\n",
       "      <td>...</td>\n",
       "      <td>...</td>\n",
       "      <td>...</td>\n",
       "      <td>...</td>\n",
       "      <td>...</td>\n",
       "      <td>...</td>\n",
       "    </tr>\n",
       "    <tr>\n",
       "      <th>1</th>\n",
       "      <td>0.008538</td>\n",
       "      <td>0.008169</td>\n",
       "      <td>0.008538</td>\n",
       "      <td>0.0</td>\n",
       "      <td>0.0</td>\n",
       "      <td>0.0</td>\n",
       "      <td>0.0</td>\n",
       "      <td>0.066624</td>\n",
       "      <td>0.0</td>\n",
       "      <td>0.0</td>\n",
       "      <td>0.0</td>\n",
       "      <td>0.0</td>\n",
       "      <td>0.0</td>\n",
       "      <td>0.0</td>\n",
       "      <td>0.0</td>\n",
       "      <td>0.0</td>\n",
       "      <td>0.0</td>\n",
       "      <td>0.0</td>\n",
       "      <td>k=2;branching_factor=10;threshold=0.5</td>\n",
       "    </tr>\n",
       "    <tr>\n",
       "      <th>6</th>\n",
       "      <td>0.008538</td>\n",
       "      <td>0.008169</td>\n",
       "      <td>0.008538</td>\n",
       "      <td>0.0</td>\n",
       "      <td>0.0</td>\n",
       "      <td>0.0</td>\n",
       "      <td>0.0</td>\n",
       "      <td>0.066624</td>\n",
       "      <td>0.0</td>\n",
       "      <td>0.0</td>\n",
       "      <td>0.0</td>\n",
       "      <td>0.0</td>\n",
       "      <td>0.0</td>\n",
       "      <td>0.0</td>\n",
       "      <td>0.0</td>\n",
       "      <td>0.0</td>\n",
       "      <td>0.0</td>\n",
       "      <td>0.0</td>\n",
       "      <td>k=2;branching_factor=100;threshold=0.1</td>\n",
       "    </tr>\n",
       "    <tr>\n",
       "      <th>7</th>\n",
       "      <td>0.008538</td>\n",
       "      <td>0.008169</td>\n",
       "      <td>0.008538</td>\n",
       "      <td>0.0</td>\n",
       "      <td>0.0</td>\n",
       "      <td>0.0</td>\n",
       "      <td>0.0</td>\n",
       "      <td>0.066624</td>\n",
       "      <td>0.0</td>\n",
       "      <td>0.0</td>\n",
       "      <td>0.0</td>\n",
       "      <td>0.0</td>\n",
       "      <td>0.0</td>\n",
       "      <td>0.0</td>\n",
       "      <td>0.0</td>\n",
       "      <td>0.0</td>\n",
       "      <td>0.0</td>\n",
       "      <td>0.0</td>\n",
       "      <td>k=2;branching_factor=100;threshold=0.5</td>\n",
       "    </tr>\n",
       "    <tr>\n",
       "      <th>8</th>\n",
       "      <td>0.008538</td>\n",
       "      <td>0.008169</td>\n",
       "      <td>0.008538</td>\n",
       "      <td>0.0</td>\n",
       "      <td>0.0</td>\n",
       "      <td>0.0</td>\n",
       "      <td>0.0</td>\n",
       "      <td>0.066624</td>\n",
       "      <td>0.0</td>\n",
       "      <td>0.0</td>\n",
       "      <td>0.0</td>\n",
       "      <td>0.0</td>\n",
       "      <td>0.0</td>\n",
       "      <td>0.0</td>\n",
       "      <td>0.0</td>\n",
       "      <td>0.0</td>\n",
       "      <td>0.0</td>\n",
       "      <td>0.0</td>\n",
       "      <td>k=2;branching_factor=100;threshold=0.95</td>\n",
       "    </tr>\n",
       "    <tr>\n",
       "      <th>0</th>\n",
       "      <td>0.008538</td>\n",
       "      <td>0.008169</td>\n",
       "      <td>0.008538</td>\n",
       "      <td>0.0</td>\n",
       "      <td>0.0</td>\n",
       "      <td>0.0</td>\n",
       "      <td>0.0</td>\n",
       "      <td>0.066624</td>\n",
       "      <td>0.0</td>\n",
       "      <td>0.0</td>\n",
       "      <td>0.0</td>\n",
       "      <td>0.0</td>\n",
       "      <td>0.0</td>\n",
       "      <td>0.0</td>\n",
       "      <td>0.0</td>\n",
       "      <td>0.0</td>\n",
       "      <td>0.0</td>\n",
       "      <td>0.0</td>\n",
       "      <td>k=2;branching_factor=10;threshold=0.1</td>\n",
       "    </tr>\n",
       "  </tbody>\n",
       "</table>\n",
       "<p>171 rows × 19 columns</p>\n",
       "</div>"
      ],
      "text/plain": [
       "       PAM50 Intrinsic  PAM50_AB    SCMOD2       IHC   Luminal     Basal  \\\n",
       "38  0.482589  0.464339  0.181933  0.198069  0.403205  0.542279  0.538211   \n",
       "36  0.482589  0.464339  0.181933  0.198069  0.403205  0.542279  0.538211   \n",
       "29  0.482589  0.464339  0.176157   0.19207  0.403205  0.542279  0.538211   \n",
       "31  0.482589  0.464339  0.176157   0.19207  0.403205  0.542279  0.538211   \n",
       "32  0.482589  0.464339  0.176157   0.19207  0.403205  0.542279  0.538211   \n",
       "..       ...       ...       ...       ...       ...       ...       ...   \n",
       "1   0.008538  0.008169  0.008538       0.0       0.0       0.0       0.0   \n",
       "6   0.008538  0.008169  0.008538       0.0       0.0       0.0       0.0   \n",
       "7   0.008538  0.008169  0.008538       0.0       0.0       0.0       0.0   \n",
       "8   0.008538  0.008169  0.008538       0.0       0.0       0.0       0.0   \n",
       "0   0.008538  0.008169  0.008538       0.0       0.0       0.0       0.0   \n",
       "\n",
       "        Her2      LumA      LumB    Normal Claudin-low IHC_HER2    IHC_ER  \\\n",
       "38  0.189716  0.106853   0.13382  0.049074     0.06031   0.0924  0.595563   \n",
       "36  0.189716  0.106853   0.13382  0.049074     0.06031   0.0924  0.595563   \n",
       "29  0.189716  0.106853  0.119424  0.049074     0.06031   0.0924  0.595563   \n",
       "31  0.189716  0.106853  0.119424  0.049074     0.06031   0.0924  0.595563   \n",
       "32  0.189716  0.106853  0.119424  0.049074     0.06031   0.0924  0.595563   \n",
       "..       ...       ...       ...       ...         ...      ...       ...   \n",
       "1   0.066624       0.0       0.0       0.0         0.0      0.0       0.0   \n",
       "6   0.066624       0.0       0.0       0.0         0.0      0.0       0.0   \n",
       "7   0.066624       0.0       0.0       0.0         0.0      0.0       0.0   \n",
       "8   0.066624       0.0       0.0       0.0         0.0      0.0       0.0   \n",
       "0   0.066624       0.0       0.0       0.0         0.0      0.0       0.0   \n",
       "\n",
       "     IHC_PR  IHC_TNBC NET_kmeans  NET_ward  \\\n",
       "38  0.15715  0.540227    0.13158  0.095657   \n",
       "36  0.15715  0.540227    0.13158  0.095657   \n",
       "29  0.15715  0.540227   0.015075  0.010863   \n",
       "31  0.15715  0.540227   0.015075  0.010863   \n",
       "32  0.15715  0.540227   0.015075  0.010863   \n",
       "..      ...       ...        ...       ...   \n",
       "1       0.0       0.0        0.0       0.0   \n",
       "6       0.0       0.0        0.0       0.0   \n",
       "7       0.0       0.0        0.0       0.0   \n",
       "8       0.0       0.0        0.0       0.0   \n",
       "0       0.0       0.0        0.0       0.0   \n",
       "\n",
       "                                 parameters  \n",
       "38   k=6;branching_factor=10;threshold=0.95  \n",
       "36    k=6;branching_factor=10;threshold=0.1  \n",
       "29   k=5;branching_factor=10;threshold=0.95  \n",
       "31    k=5;branching_factor=50;threshold=0.5  \n",
       "32   k=5;branching_factor=50;threshold=0.95  \n",
       "..                                      ...  \n",
       "1     k=2;branching_factor=10;threshold=0.5  \n",
       "6    k=2;branching_factor=100;threshold=0.1  \n",
       "7    k=2;branching_factor=100;threshold=0.5  \n",
       "8   k=2;branching_factor=100;threshold=0.95  \n",
       "0     k=2;branching_factor=10;threshold=0.1  \n",
       "\n",
       "[171 rows x 19 columns]"
      ]
     },
     "execution_count": 13,
     "metadata": {},
     "output_type": "execute_result"
    }
   ],
   "source": [
    "stats = {}\n",
    "i=0\n",
    "method = \"BIRCH\"\n",
    "\n",
    "for k in ks:\n",
    "    for bf in branching_factors:\n",
    "        for t in thresholds:\n",
    "            params = \"k=\"+str(k)+\";branching_factor=\"+str(bf)+\";threshold=\"+str(t)\n",
    "            if os.path.exists(basedir+\"/\"+method+\"/\"+dataset+\".\"+method+\".\"+params+\".clusters.tsv\"):\n",
    "                clusters = pd.read_csv(basedir+\"/\"+method+\"/\"+dataset+\".\"+method+\".\"+params+\".clusters.tsv\",sep=\"\\t\",index_col=0)\n",
    "                clusters[\"samples\"] = clusters[\"samples\"].apply(lambda row: set(row.split(\" \")))\n",
    "            else:\n",
    "                labels = Birch(n_clusters=k, branching_factor=bf, threshold=t).fit_predict(exprs.T)\n",
    "                clusters = labels_to_clsuters(labels,  exprs.columns)\n",
    "            performances, best_matches = calculate_perfromance(clusters, known_groups,all_samples,\n",
    "                                                              performance_measure = \"ARI\")\n",
    "            stats[i] = performances.to_dict()\n",
    "            stats[i][\"parameters\"]=params\n",
    "            print(i,params,stats[i][\"PAM50\"])\n",
    "            # saving clusters \n",
    "            clusters[\"samples\"] = clusters[\"samples\"].apply(lambda row: \" \".join(sorted(row)))\n",
    "            clusters = clusters.loc[:,[\"n_samples\",\"samples\"]] \n",
    "            clusters.to_csv(basedir+\"/\"+method+\"/\"+dataset+\".\"+method+\".\"+params+\".clusters.tsv\",sep=\"\\t\")\n",
    "            i+=1\n",
    "stats = pd.DataFrame.from_dict(stats).T\n",
    "# saving performances\n",
    "stats.to_csv(basedir +\"/\"+method+\"_\"+dataset+\".tsv\",sep=\"\\t\")\n",
    "stats.sort_values(by = \"PAM50\",ascending=False)"
   ]
  },
  {
   "cell_type": "markdown",
   "id": "expensive-mystery",
   "metadata": {},
   "source": [
    "# MeanShift"
   ]
  },
  {
   "cell_type": "code",
   "execution_count": 25,
   "id": "visible-announcement",
   "metadata": {
    "scrolled": true
   },
   "outputs": [
    {
     "data": {
      "text/plain": [
       "16"
      ]
     },
     "execution_count": 25,
     "metadata": {},
     "output_type": "execute_result"
    }
   ],
   "source": [
    "from sklearn.cluster import MeanShift\n",
    "\n",
    "bandwidth=None\n",
    "max_iters=[300,1000]\n",
    "cluster_all= [True, False]\n",
    "min_bin_freq = [1,2,5,10]\n",
    "len(max_iters)*len(cluster_all)*len(min_bin_freq)"
   ]
  },
  {
   "cell_type": "code",
   "execution_count": 26,
   "id": "beginning-syracuse",
   "metadata": {},
   "outputs": [
    {
     "name": "stdout",
     "output_type": "stream",
     "text": [
      "0 max_iters=300;cluster_all=True;min_bin_freq=1 0.0518907757525554\n",
      "1 max_iters=300;cluster_all=True;min_bin_freq=2 0.0518907757525554\n",
      "2 max_iters=300;cluster_all=True;min_bin_freq=5 0.0518907757525554\n",
      "3 max_iters=300;cluster_all=True;min_bin_freq=10 0.0518907757525554\n",
      "4 max_iters=300;cluster_all=False;min_bin_freq=1 0.049857047673299876\n",
      "5 max_iters=300;cluster_all=False;min_bin_freq=2 0.049857047673299876\n",
      "6 max_iters=300;cluster_all=False;min_bin_freq=5 0.049857047673299876\n",
      "7 max_iters=300;cluster_all=False;min_bin_freq=10 0.049857047673299876\n",
      "8 max_iters=1000;cluster_all=True;min_bin_freq=1 0.0518907757525554\n",
      "9 max_iters=1000;cluster_all=True;min_bin_freq=2 0.0518907757525554\n",
      "10 max_iters=1000;cluster_all=True;min_bin_freq=5 0.0518907757525554\n",
      "11 max_iters=1000;cluster_all=True;min_bin_freq=10 0.0518907757525554\n",
      "12 max_iters=1000;cluster_all=False;min_bin_freq=1 0.049857047673299876\n",
      "13 max_iters=1000;cluster_all=False;min_bin_freq=2 0.049857047673299876\n",
      "14 max_iters=1000;cluster_all=False;min_bin_freq=5 0.049857047673299876\n",
      "15 max_iters=1000;cluster_all=False;min_bin_freq=10 0.049857047673299876\n"
     ]
    },
    {
     "data": {
      "text/html": [
       "<div>\n",
       "<style scoped>\n",
       "    .dataframe tbody tr th:only-of-type {\n",
       "        vertical-align: middle;\n",
       "    }\n",
       "\n",
       "    .dataframe tbody tr th {\n",
       "        vertical-align: top;\n",
       "    }\n",
       "\n",
       "    .dataframe thead th {\n",
       "        text-align: right;\n",
       "    }\n",
       "</style>\n",
       "<table border=\"1\" class=\"dataframe\">\n",
       "  <thead>\n",
       "    <tr style=\"text-align: right;\">\n",
       "      <th></th>\n",
       "      <th>PAM50</th>\n",
       "      <th>Intrinsic</th>\n",
       "      <th>PAM50_AB</th>\n",
       "      <th>SCMOD2</th>\n",
       "      <th>IHC</th>\n",
       "      <th>Luminal</th>\n",
       "      <th>Basal</th>\n",
       "      <th>Her2</th>\n",
       "      <th>LumA</th>\n",
       "      <th>LumB</th>\n",
       "      <th>Normal</th>\n",
       "      <th>Claudin-low</th>\n",
       "      <th>IHC_HER2</th>\n",
       "      <th>IHC_ER</th>\n",
       "      <th>IHC_PR</th>\n",
       "      <th>IHC_TNBC</th>\n",
       "      <th>NET_kmeans</th>\n",
       "      <th>NET_ward</th>\n",
       "      <th>parameters</th>\n",
       "    </tr>\n",
       "  </thead>\n",
       "  <tbody>\n",
       "    <tr>\n",
       "      <th>0</th>\n",
       "      <td>0.051891</td>\n",
       "      <td>0.049648</td>\n",
       "      <td>0.011445</td>\n",
       "      <td>0.008239</td>\n",
       "      <td>0.045074</td>\n",
       "      <td>0.049137</td>\n",
       "      <td>0.106493</td>\n",
       "      <td>0.024146</td>\n",
       "      <td>-0.024279</td>\n",
       "      <td>0.005803</td>\n",
       "      <td>0.0</td>\n",
       "      <td>0.0</td>\n",
       "      <td>0.0</td>\n",
       "      <td>0.067079</td>\n",
       "      <td>0.004907</td>\n",
       "      <td>0.108822</td>\n",
       "      <td>0.0</td>\n",
       "      <td>0.0</td>\n",
       "      <td>max_iters=300;cluster_all=True;min_bin_freq=1</td>\n",
       "    </tr>\n",
       "    <tr>\n",
       "      <th>1</th>\n",
       "      <td>0.051891</td>\n",
       "      <td>0.049648</td>\n",
       "      <td>0.011445</td>\n",
       "      <td>0.008239</td>\n",
       "      <td>0.045074</td>\n",
       "      <td>0.049137</td>\n",
       "      <td>0.106493</td>\n",
       "      <td>0.024146</td>\n",
       "      <td>-0.024279</td>\n",
       "      <td>0.005803</td>\n",
       "      <td>0.0</td>\n",
       "      <td>0.0</td>\n",
       "      <td>0.0</td>\n",
       "      <td>0.067079</td>\n",
       "      <td>0.004907</td>\n",
       "      <td>0.108822</td>\n",
       "      <td>0.0</td>\n",
       "      <td>0.0</td>\n",
       "      <td>max_iters=300;cluster_all=True;min_bin_freq=2</td>\n",
       "    </tr>\n",
       "    <tr>\n",
       "      <th>2</th>\n",
       "      <td>0.051891</td>\n",
       "      <td>0.049648</td>\n",
       "      <td>0.011445</td>\n",
       "      <td>0.008239</td>\n",
       "      <td>0.045074</td>\n",
       "      <td>0.049137</td>\n",
       "      <td>0.106493</td>\n",
       "      <td>0.024146</td>\n",
       "      <td>-0.024279</td>\n",
       "      <td>0.005803</td>\n",
       "      <td>0.0</td>\n",
       "      <td>0.0</td>\n",
       "      <td>0.0</td>\n",
       "      <td>0.067079</td>\n",
       "      <td>0.004907</td>\n",
       "      <td>0.108822</td>\n",
       "      <td>0.0</td>\n",
       "      <td>0.0</td>\n",
       "      <td>max_iters=300;cluster_all=True;min_bin_freq=5</td>\n",
       "    </tr>\n",
       "    <tr>\n",
       "      <th>3</th>\n",
       "      <td>0.051891</td>\n",
       "      <td>0.049648</td>\n",
       "      <td>0.011445</td>\n",
       "      <td>0.008239</td>\n",
       "      <td>0.045074</td>\n",
       "      <td>0.049137</td>\n",
       "      <td>0.106493</td>\n",
       "      <td>0.024146</td>\n",
       "      <td>-0.024279</td>\n",
       "      <td>0.005803</td>\n",
       "      <td>0.0</td>\n",
       "      <td>0.0</td>\n",
       "      <td>0.0</td>\n",
       "      <td>0.067079</td>\n",
       "      <td>0.004907</td>\n",
       "      <td>0.108822</td>\n",
       "      <td>0.0</td>\n",
       "      <td>0.0</td>\n",
       "      <td>max_iters=300;cluster_all=True;min_bin_freq=10</td>\n",
       "    </tr>\n",
       "    <tr>\n",
       "      <th>8</th>\n",
       "      <td>0.051891</td>\n",
       "      <td>0.049648</td>\n",
       "      <td>0.011445</td>\n",
       "      <td>0.008239</td>\n",
       "      <td>0.045074</td>\n",
       "      <td>0.049137</td>\n",
       "      <td>0.106493</td>\n",
       "      <td>0.024146</td>\n",
       "      <td>-0.024279</td>\n",
       "      <td>0.005803</td>\n",
       "      <td>0.0</td>\n",
       "      <td>0.0</td>\n",
       "      <td>0.0</td>\n",
       "      <td>0.067079</td>\n",
       "      <td>0.004907</td>\n",
       "      <td>0.108822</td>\n",
       "      <td>0.0</td>\n",
       "      <td>0.0</td>\n",
       "      <td>max_iters=1000;cluster_all=True;min_bin_freq=1</td>\n",
       "    </tr>\n",
       "    <tr>\n",
       "      <th>9</th>\n",
       "      <td>0.051891</td>\n",
       "      <td>0.049648</td>\n",
       "      <td>0.011445</td>\n",
       "      <td>0.008239</td>\n",
       "      <td>0.045074</td>\n",
       "      <td>0.049137</td>\n",
       "      <td>0.106493</td>\n",
       "      <td>0.024146</td>\n",
       "      <td>-0.024279</td>\n",
       "      <td>0.005803</td>\n",
       "      <td>0.0</td>\n",
       "      <td>0.0</td>\n",
       "      <td>0.0</td>\n",
       "      <td>0.067079</td>\n",
       "      <td>0.004907</td>\n",
       "      <td>0.108822</td>\n",
       "      <td>0.0</td>\n",
       "      <td>0.0</td>\n",
       "      <td>max_iters=1000;cluster_all=True;min_bin_freq=2</td>\n",
       "    </tr>\n",
       "    <tr>\n",
       "      <th>10</th>\n",
       "      <td>0.051891</td>\n",
       "      <td>0.049648</td>\n",
       "      <td>0.011445</td>\n",
       "      <td>0.008239</td>\n",
       "      <td>0.045074</td>\n",
       "      <td>0.049137</td>\n",
       "      <td>0.106493</td>\n",
       "      <td>0.024146</td>\n",
       "      <td>-0.024279</td>\n",
       "      <td>0.005803</td>\n",
       "      <td>0.0</td>\n",
       "      <td>0.0</td>\n",
       "      <td>0.0</td>\n",
       "      <td>0.067079</td>\n",
       "      <td>0.004907</td>\n",
       "      <td>0.108822</td>\n",
       "      <td>0.0</td>\n",
       "      <td>0.0</td>\n",
       "      <td>max_iters=1000;cluster_all=True;min_bin_freq=5</td>\n",
       "    </tr>\n",
       "    <tr>\n",
       "      <th>11</th>\n",
       "      <td>0.051891</td>\n",
       "      <td>0.049648</td>\n",
       "      <td>0.011445</td>\n",
       "      <td>0.008239</td>\n",
       "      <td>0.045074</td>\n",
       "      <td>0.049137</td>\n",
       "      <td>0.106493</td>\n",
       "      <td>0.024146</td>\n",
       "      <td>-0.024279</td>\n",
       "      <td>0.005803</td>\n",
       "      <td>0.0</td>\n",
       "      <td>0.0</td>\n",
       "      <td>0.0</td>\n",
       "      <td>0.067079</td>\n",
       "      <td>0.004907</td>\n",
       "      <td>0.108822</td>\n",
       "      <td>0.0</td>\n",
       "      <td>0.0</td>\n",
       "      <td>max_iters=1000;cluster_all=True;min_bin_freq=10</td>\n",
       "    </tr>\n",
       "    <tr>\n",
       "      <th>4</th>\n",
       "      <td>0.049857</td>\n",
       "      <td>0.047702</td>\n",
       "      <td>0.004544</td>\n",
       "      <td>0.008091</td>\n",
       "      <td>0.0472</td>\n",
       "      <td>0.051156</td>\n",
       "      <td>0.103499</td>\n",
       "      <td>0.0</td>\n",
       "      <td>-0.027761</td>\n",
       "      <td>0.0</td>\n",
       "      <td>0.0</td>\n",
       "      <td>0.0</td>\n",
       "      <td>0.0</td>\n",
       "      <td>0.06927</td>\n",
       "      <td>0.005591</td>\n",
       "      <td>0.11717</td>\n",
       "      <td>0.0</td>\n",
       "      <td>0.0</td>\n",
       "      <td>max_iters=300;cluster_all=False;min_bin_freq=1</td>\n",
       "    </tr>\n",
       "    <tr>\n",
       "      <th>5</th>\n",
       "      <td>0.049857</td>\n",
       "      <td>0.047702</td>\n",
       "      <td>0.004544</td>\n",
       "      <td>0.008091</td>\n",
       "      <td>0.0472</td>\n",
       "      <td>0.051156</td>\n",
       "      <td>0.103499</td>\n",
       "      <td>0.0</td>\n",
       "      <td>-0.027761</td>\n",
       "      <td>0.0</td>\n",
       "      <td>0.0</td>\n",
       "      <td>0.0</td>\n",
       "      <td>0.0</td>\n",
       "      <td>0.06927</td>\n",
       "      <td>0.005591</td>\n",
       "      <td>0.11717</td>\n",
       "      <td>0.0</td>\n",
       "      <td>0.0</td>\n",
       "      <td>max_iters=300;cluster_all=False;min_bin_freq=2</td>\n",
       "    </tr>\n",
       "    <tr>\n",
       "      <th>6</th>\n",
       "      <td>0.049857</td>\n",
       "      <td>0.047702</td>\n",
       "      <td>0.004544</td>\n",
       "      <td>0.008091</td>\n",
       "      <td>0.0472</td>\n",
       "      <td>0.051156</td>\n",
       "      <td>0.103499</td>\n",
       "      <td>0.0</td>\n",
       "      <td>-0.027761</td>\n",
       "      <td>0.0</td>\n",
       "      <td>0.0</td>\n",
       "      <td>0.0</td>\n",
       "      <td>0.0</td>\n",
       "      <td>0.06927</td>\n",
       "      <td>0.005591</td>\n",
       "      <td>0.11717</td>\n",
       "      <td>0.0</td>\n",
       "      <td>0.0</td>\n",
       "      <td>max_iters=300;cluster_all=False;min_bin_freq=5</td>\n",
       "    </tr>\n",
       "    <tr>\n",
       "      <th>7</th>\n",
       "      <td>0.049857</td>\n",
       "      <td>0.047702</td>\n",
       "      <td>0.004544</td>\n",
       "      <td>0.008091</td>\n",
       "      <td>0.0472</td>\n",
       "      <td>0.051156</td>\n",
       "      <td>0.103499</td>\n",
       "      <td>0.0</td>\n",
       "      <td>-0.027761</td>\n",
       "      <td>0.0</td>\n",
       "      <td>0.0</td>\n",
       "      <td>0.0</td>\n",
       "      <td>0.0</td>\n",
       "      <td>0.06927</td>\n",
       "      <td>0.005591</td>\n",
       "      <td>0.11717</td>\n",
       "      <td>0.0</td>\n",
       "      <td>0.0</td>\n",
       "      <td>max_iters=300;cluster_all=False;min_bin_freq=10</td>\n",
       "    </tr>\n",
       "    <tr>\n",
       "      <th>12</th>\n",
       "      <td>0.049857</td>\n",
       "      <td>0.047702</td>\n",
       "      <td>0.004544</td>\n",
       "      <td>0.008091</td>\n",
       "      <td>0.0472</td>\n",
       "      <td>0.051156</td>\n",
       "      <td>0.103499</td>\n",
       "      <td>0.0</td>\n",
       "      <td>-0.027761</td>\n",
       "      <td>0.0</td>\n",
       "      <td>0.0</td>\n",
       "      <td>0.0</td>\n",
       "      <td>0.0</td>\n",
       "      <td>0.06927</td>\n",
       "      <td>0.005591</td>\n",
       "      <td>0.11717</td>\n",
       "      <td>0.0</td>\n",
       "      <td>0.0</td>\n",
       "      <td>max_iters=1000;cluster_all=False;min_bin_freq=1</td>\n",
       "    </tr>\n",
       "    <tr>\n",
       "      <th>13</th>\n",
       "      <td>0.049857</td>\n",
       "      <td>0.047702</td>\n",
       "      <td>0.004544</td>\n",
       "      <td>0.008091</td>\n",
       "      <td>0.0472</td>\n",
       "      <td>0.051156</td>\n",
       "      <td>0.103499</td>\n",
       "      <td>0.0</td>\n",
       "      <td>-0.027761</td>\n",
       "      <td>0.0</td>\n",
       "      <td>0.0</td>\n",
       "      <td>0.0</td>\n",
       "      <td>0.0</td>\n",
       "      <td>0.06927</td>\n",
       "      <td>0.005591</td>\n",
       "      <td>0.11717</td>\n",
       "      <td>0.0</td>\n",
       "      <td>0.0</td>\n",
       "      <td>max_iters=1000;cluster_all=False;min_bin_freq=2</td>\n",
       "    </tr>\n",
       "    <tr>\n",
       "      <th>14</th>\n",
       "      <td>0.049857</td>\n",
       "      <td>0.047702</td>\n",
       "      <td>0.004544</td>\n",
       "      <td>0.008091</td>\n",
       "      <td>0.0472</td>\n",
       "      <td>0.051156</td>\n",
       "      <td>0.103499</td>\n",
       "      <td>0.0</td>\n",
       "      <td>-0.027761</td>\n",
       "      <td>0.0</td>\n",
       "      <td>0.0</td>\n",
       "      <td>0.0</td>\n",
       "      <td>0.0</td>\n",
       "      <td>0.06927</td>\n",
       "      <td>0.005591</td>\n",
       "      <td>0.11717</td>\n",
       "      <td>0.0</td>\n",
       "      <td>0.0</td>\n",
       "      <td>max_iters=1000;cluster_all=False;min_bin_freq=5</td>\n",
       "    </tr>\n",
       "    <tr>\n",
       "      <th>15</th>\n",
       "      <td>0.049857</td>\n",
       "      <td>0.047702</td>\n",
       "      <td>0.004544</td>\n",
       "      <td>0.008091</td>\n",
       "      <td>0.0472</td>\n",
       "      <td>0.051156</td>\n",
       "      <td>0.103499</td>\n",
       "      <td>0.0</td>\n",
       "      <td>-0.027761</td>\n",
       "      <td>0.0</td>\n",
       "      <td>0.0</td>\n",
       "      <td>0.0</td>\n",
       "      <td>0.0</td>\n",
       "      <td>0.06927</td>\n",
       "      <td>0.005591</td>\n",
       "      <td>0.11717</td>\n",
       "      <td>0.0</td>\n",
       "      <td>0.0</td>\n",
       "      <td>max_iters=1000;cluster_all=False;min_bin_freq=10</td>\n",
       "    </tr>\n",
       "  </tbody>\n",
       "</table>\n",
       "</div>"
      ],
      "text/plain": [
       "       PAM50 Intrinsic  PAM50_AB    SCMOD2       IHC   Luminal     Basal  \\\n",
       "0   0.051891  0.049648  0.011445  0.008239  0.045074  0.049137  0.106493   \n",
       "1   0.051891  0.049648  0.011445  0.008239  0.045074  0.049137  0.106493   \n",
       "2   0.051891  0.049648  0.011445  0.008239  0.045074  0.049137  0.106493   \n",
       "3   0.051891  0.049648  0.011445  0.008239  0.045074  0.049137  0.106493   \n",
       "8   0.051891  0.049648  0.011445  0.008239  0.045074  0.049137  0.106493   \n",
       "9   0.051891  0.049648  0.011445  0.008239  0.045074  0.049137  0.106493   \n",
       "10  0.051891  0.049648  0.011445  0.008239  0.045074  0.049137  0.106493   \n",
       "11  0.051891  0.049648  0.011445  0.008239  0.045074  0.049137  0.106493   \n",
       "4   0.049857  0.047702  0.004544  0.008091    0.0472  0.051156  0.103499   \n",
       "5   0.049857  0.047702  0.004544  0.008091    0.0472  0.051156  0.103499   \n",
       "6   0.049857  0.047702  0.004544  0.008091    0.0472  0.051156  0.103499   \n",
       "7   0.049857  0.047702  0.004544  0.008091    0.0472  0.051156  0.103499   \n",
       "12  0.049857  0.047702  0.004544  0.008091    0.0472  0.051156  0.103499   \n",
       "13  0.049857  0.047702  0.004544  0.008091    0.0472  0.051156  0.103499   \n",
       "14  0.049857  0.047702  0.004544  0.008091    0.0472  0.051156  0.103499   \n",
       "15  0.049857  0.047702  0.004544  0.008091    0.0472  0.051156  0.103499   \n",
       "\n",
       "        Her2      LumA      LumB Normal Claudin-low IHC_HER2    IHC_ER  \\\n",
       "0   0.024146 -0.024279  0.005803    0.0         0.0      0.0  0.067079   \n",
       "1   0.024146 -0.024279  0.005803    0.0         0.0      0.0  0.067079   \n",
       "2   0.024146 -0.024279  0.005803    0.0         0.0      0.0  0.067079   \n",
       "3   0.024146 -0.024279  0.005803    0.0         0.0      0.0  0.067079   \n",
       "8   0.024146 -0.024279  0.005803    0.0         0.0      0.0  0.067079   \n",
       "9   0.024146 -0.024279  0.005803    0.0         0.0      0.0  0.067079   \n",
       "10  0.024146 -0.024279  0.005803    0.0         0.0      0.0  0.067079   \n",
       "11  0.024146 -0.024279  0.005803    0.0         0.0      0.0  0.067079   \n",
       "4        0.0 -0.027761       0.0    0.0         0.0      0.0   0.06927   \n",
       "5        0.0 -0.027761       0.0    0.0         0.0      0.0   0.06927   \n",
       "6        0.0 -0.027761       0.0    0.0         0.0      0.0   0.06927   \n",
       "7        0.0 -0.027761       0.0    0.0         0.0      0.0   0.06927   \n",
       "12       0.0 -0.027761       0.0    0.0         0.0      0.0   0.06927   \n",
       "13       0.0 -0.027761       0.0    0.0         0.0      0.0   0.06927   \n",
       "14       0.0 -0.027761       0.0    0.0         0.0      0.0   0.06927   \n",
       "15       0.0 -0.027761       0.0    0.0         0.0      0.0   0.06927   \n",
       "\n",
       "      IHC_PR  IHC_TNBC NET_kmeans NET_ward  \\\n",
       "0   0.004907  0.108822        0.0      0.0   \n",
       "1   0.004907  0.108822        0.0      0.0   \n",
       "2   0.004907  0.108822        0.0      0.0   \n",
       "3   0.004907  0.108822        0.0      0.0   \n",
       "8   0.004907  0.108822        0.0      0.0   \n",
       "9   0.004907  0.108822        0.0      0.0   \n",
       "10  0.004907  0.108822        0.0      0.0   \n",
       "11  0.004907  0.108822        0.0      0.0   \n",
       "4   0.005591   0.11717        0.0      0.0   \n",
       "5   0.005591   0.11717        0.0      0.0   \n",
       "6   0.005591   0.11717        0.0      0.0   \n",
       "7   0.005591   0.11717        0.0      0.0   \n",
       "12  0.005591   0.11717        0.0      0.0   \n",
       "13  0.005591   0.11717        0.0      0.0   \n",
       "14  0.005591   0.11717        0.0      0.0   \n",
       "15  0.005591   0.11717        0.0      0.0   \n",
       "\n",
       "                                          parameters  \n",
       "0      max_iters=300;cluster_all=True;min_bin_freq=1  \n",
       "1      max_iters=300;cluster_all=True;min_bin_freq=2  \n",
       "2      max_iters=300;cluster_all=True;min_bin_freq=5  \n",
       "3     max_iters=300;cluster_all=True;min_bin_freq=10  \n",
       "8     max_iters=1000;cluster_all=True;min_bin_freq=1  \n",
       "9     max_iters=1000;cluster_all=True;min_bin_freq=2  \n",
       "10    max_iters=1000;cluster_all=True;min_bin_freq=5  \n",
       "11   max_iters=1000;cluster_all=True;min_bin_freq=10  \n",
       "4     max_iters=300;cluster_all=False;min_bin_freq=1  \n",
       "5     max_iters=300;cluster_all=False;min_bin_freq=2  \n",
       "6     max_iters=300;cluster_all=False;min_bin_freq=5  \n",
       "7    max_iters=300;cluster_all=False;min_bin_freq=10  \n",
       "12   max_iters=1000;cluster_all=False;min_bin_freq=1  \n",
       "13   max_iters=1000;cluster_all=False;min_bin_freq=2  \n",
       "14   max_iters=1000;cluster_all=False;min_bin_freq=5  \n",
       "15  max_iters=1000;cluster_all=False;min_bin_freq=10  "
      ]
     },
     "execution_count": 26,
     "metadata": {},
     "output_type": "execute_result"
    }
   ],
   "source": [
    "stats = {}\n",
    "i=0\n",
    "method = \"MeanShift\"\n",
    "\n",
    "if not os.path.exists(basedir+\"/\"+method+\"/\"):\n",
    "    os.mkdir(basedir+\"/\"+method+\"/\")\n",
    "\n",
    "for max_iter in max_iters:\n",
    "    for ca in cluster_all:\n",
    "        for bf in min_bin_freq:\n",
    "            params = \"max_iters=\"+str(max_iter)+\";cluster_all=\"+str(ca)+\";min_bin_freq=\"+str(bf)\n",
    "            if os.path.exists(basedir+\"/\"+method+\"/\"+dataset+\".\"+method+\".\"+params+\".clusters.tsv\"):\n",
    "                clusters = pd.read_csv(basedir+\"/\"+method+\"/\"+dataset+\".\"+method+\".\"+params+\".clusters.tsv\",sep=\"\\t\",index_col=0)\n",
    "                clusters[\"samples\"] = clusters[\"samples\"].apply(lambda row: set(row.split(\" \")))\n",
    "            else:\n",
    "                labels = MeanShift(min_bin_freq= bf, cluster_all=ca, max_iter=max_iter).fit_predict(exprs.T)\n",
    "                clusters = labels_to_clsuters(labels,  exprs.columns)\n",
    "            performances, best_matches = calculate_perfromance(clusters, known_groups,all_samples,\n",
    "                                                              performance_measure = \"ARI\")\n",
    "            stats[i] = performances.to_dict()\n",
    "            stats[i][\"parameters\"]=params\n",
    "            print(i,params,stats[i][\"PAM50\"])\n",
    "            # saving clusters \n",
    "            clusters[\"samples\"] = clusters[\"samples\"].apply(lambda row: \" \".join(sorted(row)))\n",
    "            clusters = clusters.loc[:,[\"n_samples\",\"samples\"]] \n",
    "            clusters.to_csv(basedir+\"/\"+method+\"/\"+dataset+\".\"+method+\".\"+params+\".clusters.tsv\",sep=\"\\t\")\n",
    "            i+=1\n",
    "stats = pd.DataFrame.from_dict(stats).T\n",
    "# saving performances\n",
    "stats.to_csv(basedir +\"/\"+method+\"_\"+dataset+\".tsv\",sep=\"\\t\")\n",
    "stats.sort_values(by = \"PAM50\",ascending=False)"
   ]
  },
  {
   "cell_type": "markdown",
   "id": "immediate-corps",
   "metadata": {},
   "source": [
    "# Bisecting K-Means"
   ]
  },
  {
   "cell_type": "code",
   "execution_count": 21,
   "id": "golden-pasta",
   "metadata": {},
   "outputs": [
    {
     "data": {
      "text/plain": [
       "38"
      ]
     },
     "execution_count": 21,
     "metadata": {},
     "output_type": "execute_result"
    }
   ],
   "source": [
    "from sklearn.cluster import BisectingKMeans\n",
    "\n",
    "ks = list(range(2,21))\n",
    "inits = ['k-means++']#['k-means++','random']\n",
    "max_iters= [300] #[300,1000]\n",
    "tols = [0.0001] #[1e-3,1e-4,1e-5]\n",
    "bisecting_strategy = [\"biggest_inertia\", \"largest_cluster\"]\n",
    "len(ks)*len(inits)*len(max_iters)*len(tols)*len(bisecting_strategy)"
   ]
  },
  {
   "cell_type": "code",
   "execution_count": 22,
   "id": "front-explorer",
   "metadata": {
    "scrolled": true
   },
   "outputs": [
    {
     "name": "stdout",
     "output_type": "stream",
     "text": [
      "k=2;max_iter=300;tol=0.0001;bisecting_strategy=biggest_inertia 670487 0.41123148150788613\n",
      "k=2;max_iter=300;tol=0.0001;bisecting_strategy=biggest_inertia 116739 0.5778080519260934\n",
      "k=2;max_iter=300;tol=0.0001;bisecting_strategy=biggest_inertia 26225 0.4231466434101364\n",
      "k=2;max_iter=300;tol=0.0001;bisecting_strategy=biggest_inertia 777572 0.41631732537741156\n",
      "k=2;max_iter=300;tol=0.0001;bisecting_strategy=biggest_inertia 288389 0.4231466434101364\n",
      "k=2;max_iter=300;tol=0.0001;bisecting_strategy=largest_cluster 670487 0.41123148150788613\n",
      "k=2;max_iter=300;tol=0.0001;bisecting_strategy=largest_cluster 116739 0.5778080519260934\n",
      "k=2;max_iter=300;tol=0.0001;bisecting_strategy=largest_cluster 26225 0.4231466434101364\n",
      "k=2;max_iter=300;tol=0.0001;bisecting_strategy=largest_cluster 777572 0.41631732537741156\n",
      "k=2;max_iter=300;tol=0.0001;bisecting_strategy=largest_cluster 288389 0.4231466434101364\n",
      "k=3;max_iter=300;tol=0.0001;bisecting_strategy=biggest_inertia 670487 0.4087092855276737\n",
      "k=3;max_iter=300;tol=0.0001;bisecting_strategy=biggest_inertia 116739 0.5778080519260934\n",
      "k=3;max_iter=300;tol=0.0001;bisecting_strategy=biggest_inertia 26225 0.4206750931096378\n",
      "k=3;max_iter=300;tol=0.0001;bisecting_strategy=biggest_inertia 777572 0.4139107946474418\n",
      "k=3;max_iter=300;tol=0.0001;bisecting_strategy=biggest_inertia 288389 0.42066703937091743\n",
      "k=3;max_iter=300;tol=0.0001;bisecting_strategy=largest_cluster 670487 0.4087092855276737\n",
      "k=3;max_iter=300;tol=0.0001;bisecting_strategy=largest_cluster 116739 0.5778080519260934\n",
      "k=3;max_iter=300;tol=0.0001;bisecting_strategy=largest_cluster 26225 0.4206750931096378\n",
      "k=3;max_iter=300;tol=0.0001;bisecting_strategy=largest_cluster 777572 0.4139107946474418\n",
      "k=3;max_iter=300;tol=0.0001;bisecting_strategy=largest_cluster 288389 0.42066703937091743\n",
      "k=4;max_iter=300;tol=0.0001;bisecting_strategy=biggest_inertia 670487 0.4597261510105701\n",
      "k=4;max_iter=300;tol=0.0001;bisecting_strategy=biggest_inertia 116739 0.5793340157740059\n",
      "k=4;max_iter=300;tol=0.0001;bisecting_strategy=biggest_inertia 26225 0.46621044484205637\n",
      "k=4;max_iter=300;tol=0.0001;bisecting_strategy=biggest_inertia 777572 0.46176687922654786\n",
      "k=4;max_iter=300;tol=0.0001;bisecting_strategy=biggest_inertia 288389 0.4592687096994109\n",
      "k=4;max_iter=300;tol=0.0001;bisecting_strategy=largest_cluster 670487 0.41460011112514794\n",
      "k=4;max_iter=300;tol=0.0001;bisecting_strategy=largest_cluster 116739 0.5793340157740059\n",
      "k=4;max_iter=300;tol=0.0001;bisecting_strategy=largest_cluster 26225 0.41372601029607203\n",
      "k=4;max_iter=300;tol=0.0001;bisecting_strategy=largest_cluster 777572 0.41911730663817315\n",
      "k=4;max_iter=300;tol=0.0001;bisecting_strategy=largest_cluster 288389 0.41495265442452145\n",
      "k=5;max_iter=300;tol=0.0001;bisecting_strategy=biggest_inertia 670487 0.4597261510105701\n",
      "k=5;max_iter=300;tol=0.0001;bisecting_strategy=biggest_inertia 116739 0.3834218314684948\n",
      "k=5;max_iter=300;tol=0.0001;bisecting_strategy=biggest_inertia 26225 0.46621044484205637\n",
      "k=5;max_iter=300;tol=0.0001;bisecting_strategy=biggest_inertia 777572 0.46176687922654786\n",
      "k=5;max_iter=300;tol=0.0001;bisecting_strategy=biggest_inertia 288389 0.4592687096994109\n",
      "k=5;max_iter=300;tol=0.0001;bisecting_strategy=largest_cluster 670487 0.4147180665018007\n",
      "k=5;max_iter=300;tol=0.0001;bisecting_strategy=largest_cluster 116739 0.5935197067205311\n",
      "k=5;max_iter=300;tol=0.0001;bisecting_strategy=largest_cluster 26225 0.4161186307332\n",
      "k=5;max_iter=300;tol=0.0001;bisecting_strategy=largest_cluster 777572 0.4192338588911115\n",
      "k=5;max_iter=300;tol=0.0001;bisecting_strategy=largest_cluster 288389 0.4130272379004025\n",
      "k=6;max_iter=300;tol=0.0001;bisecting_strategy=biggest_inertia 670487 0.4598441063872229\n",
      "k=6;max_iter=300;tol=0.0001;bisecting_strategy=biggest_inertia 116739 0.3885792050231799\n",
      "k=6;max_iter=300;tol=0.0001;bisecting_strategy=biggest_inertia 26225 0.4667855553862081\n",
      "k=6;max_iter=300;tol=0.0001;bisecting_strategy=biggest_inertia 777572 0.4618834314794862\n",
      "k=6;max_iter=300;tol=0.0001;bisecting_strategy=biggest_inertia 288389 0.45734751632191506\n",
      "k=6;max_iter=300;tol=0.0001;bisecting_strategy=largest_cluster 670487 0.41542055916253245\n",
      "k=6;max_iter=300;tol=0.0001;bisecting_strategy=largest_cluster 116739 0.5937582271682408\n",
      "k=6;max_iter=300;tol=0.0001;bisecting_strategy=largest_cluster 26225 0.46669368476778866\n",
      "k=6;max_iter=300;tol=0.0001;bisecting_strategy=largest_cluster 777572 0.41987874975860406\n",
      "k=6;max_iter=300;tol=0.0001;bisecting_strategy=largest_cluster 288389 0.46195541411350716\n",
      "k=7;max_iter=300;tol=0.0001;bisecting_strategy=biggest_inertia 670487 0.4605465990479546\n",
      "k=7;max_iter=300;tol=0.0001;bisecting_strategy=biggest_inertia 116739 0.38883966084693755\n",
      "k=7;max_iter=300;tol=0.0001;bisecting_strategy=biggest_inertia 26225 0.4718301460751817\n",
      "k=7;max_iter=300;tol=0.0001;bisecting_strategy=biggest_inertia 777572 0.4631720332309496\n",
      "k=7;max_iter=300;tol=0.0001;bisecting_strategy=biggest_inertia 288389 0.4651373452726756\n",
      "k=7;max_iter=300;tol=0.0001;bisecting_strategy=largest_cluster 670487 0.4605465990479546\n",
      "k=7;max_iter=300;tol=0.0001;bisecting_strategy=largest_cluster 116739 0.5937582271682408\n",
      "k=7;max_iter=300;tol=0.0001;bisecting_strategy=largest_cluster 26225 0.47276667002204664\n",
      "k=7;max_iter=300;tol=0.0001;bisecting_strategy=largest_cluster 777572 0.46252832234697877\n",
      "k=7;max_iter=300;tol=0.0001;bisecting_strategy=largest_cluster 288389 0.4679536759056924\n",
      "k=8;max_iter=300;tol=0.0001;bisecting_strategy=biggest_inertia 670487 0.46633520326122635\n",
      "k=8;max_iter=300;tol=0.0001;bisecting_strategy=biggest_inertia 116739 0.37494320126459224\n",
      "k=8;max_iter=300;tol=0.0001;bisecting_strategy=biggest_inertia 26225 0.2528492819536067\n",
      "k=8;max_iter=300;tol=0.0001;bisecting_strategy=biggest_inertia 777572 0.46984666451360163\n",
      "k=8;max_iter=300;tol=0.0001;bisecting_strategy=biggest_inertia 288389 0.27102130152622783\n",
      "k=8;max_iter=300;tol=0.0001;bisecting_strategy=largest_cluster 670487 0.46755232378228445\n",
      "k=8;max_iter=300;tol=0.0001;bisecting_strategy=largest_cluster 116739 0.5942274641496667\n",
      "k=8;max_iter=300;tol=0.0001;bisecting_strategy=largest_cluster 26225 0.47447561220748646\n",
      "k=8;max_iter=300;tol=0.0001;bisecting_strategy=largest_cluster 777572 0.4697529052458809\n",
      "k=8;max_iter=300;tol=0.0001;bisecting_strategy=largest_cluster 288389 0.47045061656482023\n",
      "k=9;max_iter=300;tol=0.0001;bisecting_strategy=biggest_inertia 670487 0.25524963783314075\n",
      "k=9;max_iter=300;tol=0.0001;bisecting_strategy=biggest_inertia 116739 0.37494320126459224\n",
      "k=9;max_iter=300;tol=0.0001;bisecting_strategy=biggest_inertia 26225 0.2528492819536067\n",
      "k=9;max_iter=300;tol=0.0001;bisecting_strategy=biggest_inertia 777572 0.27336198609034007\n",
      "k=9;max_iter=300;tol=0.0001;bisecting_strategy=biggest_inertia 288389 0.2726099424314422\n",
      "k=9;max_iter=300;tol=0.0001;bisecting_strategy=largest_cluster 670487 0.47226218420050653\n",
      "k=9;max_iter=300;tol=0.0001;bisecting_strategy=largest_cluster 116739 0.40869154749210446\n",
      "k=9;max_iter=300;tol=0.0001;bisecting_strategy=largest_cluster 26225 0.2758790927524392\n",
      "k=9;max_iter=300;tol=0.0001;bisecting_strategy=largest_cluster 777572 0.4754067014490581\n",
      "k=9;max_iter=300;tol=0.0001;bisecting_strategy=largest_cluster 288389 0.2585815683238685\n",
      "k=10;max_iter=300;tol=0.0001;bisecting_strategy=biggest_inertia 670487 0.25524963783314075\n",
      "k=10;max_iter=300;tol=0.0001;bisecting_strategy=biggest_inertia 116739 0.23784884461576716\n",
      "k=10;max_iter=300;tol=0.0001;bisecting_strategy=biggest_inertia 26225 0.2528492819536067\n",
      "k=10;max_iter=300;tol=0.0001;bisecting_strategy=biggest_inertia 777572 0.27336198609034007\n",
      "k=10;max_iter=300;tol=0.0001;bisecting_strategy=biggest_inertia 288389 0.2726099424314422\n",
      "k=10;max_iter=300;tol=0.0001;bisecting_strategy=largest_cluster 670487 0.47226218420050653\n",
      "k=10;max_iter=300;tol=0.0001;bisecting_strategy=largest_cluster 116739 0.40869154749210446\n",
      "k=10;max_iter=300;tol=0.0001;bisecting_strategy=largest_cluster 26225 0.2758790927524392\n",
      "k=10;max_iter=300;tol=0.0001;bisecting_strategy=largest_cluster 777572 0.28567273007773586\n",
      "k=10;max_iter=300;tol=0.0001;bisecting_strategy=largest_cluster 288389 0.2585815683238685\n",
      "k=11;max_iter=300;tol=0.0001;bisecting_strategy=biggest_inertia 670487 0.25598984410700876\n",
      "k=11;max_iter=300;tol=0.0001;bisecting_strategy=biggest_inertia 116739 0.23862087879211852\n"
     ]
    },
    {
     "name": "stdout",
     "output_type": "stream",
     "text": [
      "k=11;max_iter=300;tol=0.0001;bisecting_strategy=biggest_inertia 26225 0.2543402180473662\n",
      "k=11;max_iter=300;tol=0.0001;bisecting_strategy=biggest_inertia 777572 0.2806715051488485\n",
      "k=11;max_iter=300;tol=0.0001;bisecting_strategy=biggest_inertia 288389 0.27102130152622783\n",
      "k=11;max_iter=300;tol=0.0001;bisecting_strategy=largest_cluster 670487 0.2979779607116787\n",
      "k=11;max_iter=300;tol=0.0001;bisecting_strategy=largest_cluster 116739 0.23626329371365873\n",
      "k=11;max_iter=300;tol=0.0001;bisecting_strategy=largest_cluster 26225 0.2758790927524392\n",
      "k=11;max_iter=300;tol=0.0001;bisecting_strategy=largest_cluster 777572 0.28567273007773586\n",
      "k=11;max_iter=300;tol=0.0001;bisecting_strategy=largest_cluster 288389 0.26012410032358046\n",
      "k=12;max_iter=300;tol=0.0001;bisecting_strategy=biggest_inertia 670487 0.25598984410700876\n",
      "k=12;max_iter=300;tol=0.0001;bisecting_strategy=biggest_inertia 116739 0.23862087879211852\n",
      "k=12;max_iter=300;tol=0.0001;bisecting_strategy=biggest_inertia 26225 0.2543402180473662\n",
      "k=12;max_iter=300;tol=0.0001;bisecting_strategy=biggest_inertia 777572 0.2806715051488485\n",
      "k=12;max_iter=300;tol=0.0001;bisecting_strategy=biggest_inertia 288389 0.27102130152622783\n",
      "k=12;max_iter=300;tol=0.0001;bisecting_strategy=largest_cluster 670487 0.2983732528324815\n",
      "k=12;max_iter=300;tol=0.0001;bisecting_strategy=largest_cluster 116739 0.23626329371365873\n",
      "k=12;max_iter=300;tol=0.0001;bisecting_strategy=largest_cluster 26225 0.2758790927524392\n",
      "k=12;max_iter=300;tol=0.0001;bisecting_strategy=largest_cluster 777572 0.28567273007773586\n",
      "k=12;max_iter=300;tol=0.0001;bisecting_strategy=largest_cluster 288389 0.26012410032358046\n",
      "k=13;max_iter=300;tol=0.0001;bisecting_strategy=biggest_inertia 670487 0.25598984410700876\n",
      "k=13;max_iter=300;tol=0.0001;bisecting_strategy=biggest_inertia 116739 0.23862087879211852\n",
      "k=13;max_iter=300;tol=0.0001;bisecting_strategy=biggest_inertia 26225 0.24102153878109384\n",
      "k=13;max_iter=300;tol=0.0001;bisecting_strategy=biggest_inertia 777572 0.2806715051488485\n",
      "k=13;max_iter=300;tol=0.0001;bisecting_strategy=biggest_inertia 288389 0.27102130152622783\n",
      "k=13;max_iter=300;tol=0.0001;bisecting_strategy=largest_cluster 670487 0.2998443301943995\n",
      "k=13;max_iter=300;tol=0.0001;bisecting_strategy=largest_cluster 116739 0.23604870116885812\n",
      "k=13;max_iter=300;tol=0.0001;bisecting_strategy=largest_cluster 26225 0.27927710380394\n",
      "k=13;max_iter=300;tol=0.0001;bisecting_strategy=largest_cluster 777572 0.2872116939479465\n",
      "k=13;max_iter=300;tol=0.0001;bisecting_strategy=largest_cluster 288389 0.26012410032358046\n",
      "k=14;max_iter=300;tol=0.0001;bisecting_strategy=biggest_inertia 670487 0.2606664108798517\n",
      "k=14;max_iter=300;tol=0.0001;bisecting_strategy=biggest_inertia 116739 0.2237674804632253\n",
      "k=14;max_iter=300;tol=0.0001;bisecting_strategy=biggest_inertia 26225 0.24102153878109384\n",
      "k=14;max_iter=300;tol=0.0001;bisecting_strategy=biggest_inertia 777572 0.2806715051488485\n",
      "k=14;max_iter=300;tol=0.0001;bisecting_strategy=biggest_inertia 288389 0.20918109172051097\n",
      "k=14;max_iter=300;tol=0.0001;bisecting_strategy=largest_cluster 670487 0.2998443301943995\n",
      "k=14;max_iter=300;tol=0.0001;bisecting_strategy=largest_cluster 116739 0.23604870116885812\n",
      "k=14;max_iter=300;tol=0.0001;bisecting_strategy=largest_cluster 26225 0.27927710380394\n",
      "k=14;max_iter=300;tol=0.0001;bisecting_strategy=largest_cluster 777572 0.2872116939479465\n",
      "k=14;max_iter=300;tol=0.0001;bisecting_strategy=largest_cluster 288389 0.26012410032358046\n",
      "k=15;max_iter=300;tol=0.0001;bisecting_strategy=biggest_inertia 670487 0.2513333693470479\n",
      "k=15;max_iter=300;tol=0.0001;bisecting_strategy=biggest_inertia 116739 0.2237674804632253\n",
      "k=15;max_iter=300;tol=0.0001;bisecting_strategy=biggest_inertia 26225 0.25042546512111485\n",
      "k=15;max_iter=300;tol=0.0001;bisecting_strategy=biggest_inertia 777572 0.2784391533596633\n",
      "k=15;max_iter=300;tol=0.0001;bisecting_strategy=biggest_inertia 288389 0.21279390069250328\n",
      "k=15;max_iter=300;tol=0.0001;bisecting_strategy=largest_cluster 670487 0.2998443301943995\n",
      "k=15;max_iter=300;tol=0.0001;bisecting_strategy=largest_cluster 116739 0.23604870116885812\n",
      "k=15;max_iter=300;tol=0.0001;bisecting_strategy=largest_cluster 26225 0.27927710380394\n",
      "k=15;max_iter=300;tol=0.0001;bisecting_strategy=largest_cluster 777572 0.2872116939479465\n",
      "k=15;max_iter=300;tol=0.0001;bisecting_strategy=largest_cluster 288389 0.26012410032358046\n",
      "k=16;max_iter=300;tol=0.0001;bisecting_strategy=biggest_inertia 670487 0.2513333693470479\n",
      "k=16;max_iter=300;tol=0.0001;bisecting_strategy=biggest_inertia 116739 0.2237674804632253\n",
      "k=16;max_iter=300;tol=0.0001;bisecting_strategy=biggest_inertia 26225 0.25042546512111485\n",
      "k=16;max_iter=300;tol=0.0001;bisecting_strategy=biggest_inertia 777572 0.2784391533596633\n",
      "k=16;max_iter=300;tol=0.0001;bisecting_strategy=biggest_inertia 288389 0.20995757216584704\n",
      "k=16;max_iter=300;tol=0.0001;bisecting_strategy=largest_cluster 670487 0.19560347345111517\n",
      "k=16;max_iter=300;tol=0.0001;bisecting_strategy=largest_cluster 116739 0.23796833730518596\n",
      "k=16;max_iter=300;tol=0.0001;bisecting_strategy=largest_cluster 26225 0.27927710380394\n",
      "k=16;max_iter=300;tol=0.0001;bisecting_strategy=largest_cluster 777572 0.2872116939479465\n",
      "k=16;max_iter=300;tol=0.0001;bisecting_strategy=largest_cluster 288389 0.26602668149683634\n",
      "k=17;max_iter=300;tol=0.0001;bisecting_strategy=biggest_inertia 670487 0.2513333693470479\n",
      "k=17;max_iter=300;tol=0.0001;bisecting_strategy=biggest_inertia 116739 0.2237674804632253\n",
      "k=17;max_iter=300;tol=0.0001;bisecting_strategy=biggest_inertia 26225 0.19043275719104807\n",
      "k=17;max_iter=300;tol=0.0001;bisecting_strategy=biggest_inertia 777572 0.21524847398558847\n",
      "k=17;max_iter=300;tol=0.0001;bisecting_strategy=biggest_inertia 288389 0.17228130652907728\n",
      "k=17;max_iter=300;tol=0.0001;bisecting_strategy=largest_cluster 670487 0.19560347345111517\n",
      "k=17;max_iter=300;tol=0.0001;bisecting_strategy=largest_cluster 116739 0.23238819148123113\n",
      "k=17;max_iter=300;tol=0.0001;bisecting_strategy=largest_cluster 26225 0.217512902115524\n",
      "k=17;max_iter=300;tol=0.0001;bisecting_strategy=largest_cluster 777572 0.2872116939479465\n",
      "k=17;max_iter=300;tol=0.0001;bisecting_strategy=largest_cluster 288389 0.2642148117995487\n",
      "k=18;max_iter=300;tol=0.0001;bisecting_strategy=biggest_inertia 670487 0.14405525342698872\n",
      "k=18;max_iter=300;tol=0.0001;bisecting_strategy=biggest_inertia 116739 0.2237674804632253\n",
      "k=18;max_iter=300;tol=0.0001;bisecting_strategy=biggest_inertia 26225 0.19043275719104807\n",
      "k=18;max_iter=300;tol=0.0001;bisecting_strategy=biggest_inertia 777572 0.1797643931148339\n",
      "k=18;max_iter=300;tol=0.0001;bisecting_strategy=biggest_inertia 288389 0.17519904486825721\n",
      "k=18;max_iter=300;tol=0.0001;bisecting_strategy=largest_cluster 670487 0.19560347345111517\n",
      "k=18;max_iter=300;tol=0.0001;bisecting_strategy=largest_cluster 116739 0.23238819148123113\n",
      "k=18;max_iter=300;tol=0.0001;bisecting_strategy=largest_cluster 26225 0.217512902115524\n",
      "k=18;max_iter=300;tol=0.0001;bisecting_strategy=largest_cluster 777572 0.21065267884488187\n",
      "k=18;max_iter=300;tol=0.0001;bisecting_strategy=largest_cluster 288389 0.2664999011371425\n",
      "k=19;max_iter=300;tol=0.0001;bisecting_strategy=biggest_inertia 670487 0.14178546684607635\n",
      "k=19;max_iter=300;tol=0.0001;bisecting_strategy=biggest_inertia 116739 0.2256185553325195\n",
      "k=19;max_iter=300;tol=0.0001;bisecting_strategy=biggest_inertia 26225 0.19043275719104807\n",
      "k=19;max_iter=300;tol=0.0001;bisecting_strategy=biggest_inertia 777572 0.1797643931148339\n",
      "k=19;max_iter=300;tol=0.0001;bisecting_strategy=biggest_inertia 288389 0.17519904486825721\n",
      "k=19;max_iter=300;tol=0.0001;bisecting_strategy=largest_cluster 670487 0.19560347345111517\n",
      "k=19;max_iter=300;tol=0.0001;bisecting_strategy=largest_cluster 116739 0.23238819148123113\n",
      "k=19;max_iter=300;tol=0.0001;bisecting_strategy=largest_cluster 26225 0.21896466768749856\n",
      "k=19;max_iter=300;tol=0.0001;bisecting_strategy=largest_cluster 777572 0.21080236298309038\n",
      "k=19;max_iter=300;tol=0.0001;bisecting_strategy=largest_cluster 288389 0.24387950175931145\n",
      "k=20;max_iter=300;tol=0.0001;bisecting_strategy=biggest_inertia 670487 0.14178546684607635\n",
      "k=20;max_iter=300;tol=0.0001;bisecting_strategy=biggest_inertia 116739 0.2256185553325195\n",
      "k=20;max_iter=300;tol=0.0001;bisecting_strategy=biggest_inertia 26225 0.1850333378083257\n"
     ]
    },
    {
     "name": "stdout",
     "output_type": "stream",
     "text": [
      "k=20;max_iter=300;tol=0.0001;bisecting_strategy=biggest_inertia 777572 0.1797643931148339\n",
      "k=20;max_iter=300;tol=0.0001;bisecting_strategy=biggest_inertia 288389 0.16177876394564453\n",
      "k=20;max_iter=300;tol=0.0001;bisecting_strategy=largest_cluster 670487 0.19560347345111517\n",
      "k=20;max_iter=300;tol=0.0001;bisecting_strategy=largest_cluster 116739 0.23238819148123113\n",
      "k=20;max_iter=300;tol=0.0001;bisecting_strategy=largest_cluster 26225 0.21896466768749856\n",
      "k=20;max_iter=300;tol=0.0001;bisecting_strategy=largest_cluster 777572 0.21080236298309038\n",
      "k=20;max_iter=300;tol=0.0001;bisecting_strategy=largest_cluster 288389 0.24387950175931145\n"
     ]
    },
    {
     "data": {
      "text/html": [
       "<div>\n",
       "<style scoped>\n",
       "    .dataframe tbody tr th:only-of-type {\n",
       "        vertical-align: middle;\n",
       "    }\n",
       "\n",
       "    .dataframe tbody tr th {\n",
       "        vertical-align: top;\n",
       "    }\n",
       "\n",
       "    .dataframe thead th {\n",
       "        text-align: right;\n",
       "    }\n",
       "</style>\n",
       "<table border=\"1\" class=\"dataframe\">\n",
       "  <thead>\n",
       "    <tr style=\"text-align: right;\">\n",
       "      <th></th>\n",
       "      <th>PAM50</th>\n",
       "      <th>Intrinsic</th>\n",
       "      <th>PAM50_AB</th>\n",
       "      <th>SCMOD2</th>\n",
       "      <th>IHC</th>\n",
       "      <th>Luminal</th>\n",
       "      <th>Basal</th>\n",
       "      <th>Her2</th>\n",
       "      <th>LumA</th>\n",
       "      <th>LumB</th>\n",
       "      <th>Normal</th>\n",
       "      <th>Claudin-low</th>\n",
       "      <th>IHC_HER2</th>\n",
       "      <th>IHC_ER</th>\n",
       "      <th>IHC_PR</th>\n",
       "      <th>IHC_TNBC</th>\n",
       "      <th>NET_kmeans</th>\n",
       "      <th>NET_ward</th>\n",
       "      <th>seed</th>\n",
       "      <th>parameters</th>\n",
       "    </tr>\n",
       "  </thead>\n",
       "  <tbody>\n",
       "    <tr>\n",
       "      <th>66</th>\n",
       "      <td>0.594227</td>\n",
       "      <td>0.573987</td>\n",
       "      <td>0.245366</td>\n",
       "      <td>0.274381</td>\n",
       "      <td>0.440605</td>\n",
       "      <td>0.62703</td>\n",
       "      <td>0.765629</td>\n",
       "      <td>0.21253</td>\n",
       "      <td>0.108606</td>\n",
       "      <td>0.137808</td>\n",
       "      <td>0.075318</td>\n",
       "      <td>0.088663</td>\n",
       "      <td>0.211695</td>\n",
       "      <td>0.547174</td>\n",
       "      <td>0.375323</td>\n",
       "      <td>0.410084</td>\n",
       "      <td>0.118669</td>\n",
       "      <td>0.083416</td>\n",
       "      <td>116739</td>\n",
       "      <td>k=8;max_iter=300;tol=0.0001;bisecting_strategy...</td>\n",
       "    </tr>\n",
       "    <tr>\n",
       "      <th>56</th>\n",
       "      <td>0.593758</td>\n",
       "      <td>0.573157</td>\n",
       "      <td>0.272915</td>\n",
       "      <td>0.305478</td>\n",
       "      <td>0.440605</td>\n",
       "      <td>0.62703</td>\n",
       "      <td>0.765629</td>\n",
       "      <td>0.21253</td>\n",
       "      <td>0.179572</td>\n",
       "      <td>0.137808</td>\n",
       "      <td>0.059496</td>\n",
       "      <td>0.079185</td>\n",
       "      <td>0.211695</td>\n",
       "      <td>0.547174</td>\n",
       "      <td>0.375323</td>\n",
       "      <td>0.410084</td>\n",
       "      <td>0.118669</td>\n",
       "      <td>0.083416</td>\n",
       "      <td>116739</td>\n",
       "      <td>k=7;max_iter=300;tol=0.0001;bisecting_strategy...</td>\n",
       "    </tr>\n",
       "    <tr>\n",
       "      <th>46</th>\n",
       "      <td>0.593758</td>\n",
       "      <td>0.573157</td>\n",
       "      <td>0.278403</td>\n",
       "      <td>0.305917</td>\n",
       "      <td>0.440605</td>\n",
       "      <td>0.62703</td>\n",
       "      <td>0.765629</td>\n",
       "      <td>0.21253</td>\n",
       "      <td>0.193472</td>\n",
       "      <td>0.137808</td>\n",
       "      <td>0.059496</td>\n",
       "      <td>0.079185</td>\n",
       "      <td>0.211695</td>\n",
       "      <td>0.547174</td>\n",
       "      <td>0.375323</td>\n",
       "      <td>0.410084</td>\n",
       "      <td>0.118669</td>\n",
       "      <td>0.083416</td>\n",
       "      <td>116739</td>\n",
       "      <td>k=6;max_iter=300;tol=0.0001;bisecting_strategy...</td>\n",
       "    </tr>\n",
       "    <tr>\n",
       "      <th>36</th>\n",
       "      <td>0.59352</td>\n",
       "      <td>0.572928</td>\n",
       "      <td>0.278165</td>\n",
       "      <td>0.305917</td>\n",
       "      <td>0.440605</td>\n",
       "      <td>0.62703</td>\n",
       "      <td>0.765629</td>\n",
       "      <td>0.21253</td>\n",
       "      <td>0.193472</td>\n",
       "      <td>0.137808</td>\n",
       "      <td>0.051454</td>\n",
       "      <td>0.079185</td>\n",
       "      <td>0.211695</td>\n",
       "      <td>0.547174</td>\n",
       "      <td>0.375323</td>\n",
       "      <td>0.410084</td>\n",
       "      <td>0.096049</td>\n",
       "      <td>0.083416</td>\n",
       "      <td>116739</td>\n",
       "      <td>k=5;max_iter=300;tol=0.0001;bisecting_strategy...</td>\n",
       "    </tr>\n",
       "    <tr>\n",
       "      <th>26</th>\n",
       "      <td>0.579334</td>\n",
       "      <td>0.55931</td>\n",
       "      <td>0.288035</td>\n",
       "      <td>0.326877</td>\n",
       "      <td>0.428036</td>\n",
       "      <td>0.62703</td>\n",
       "      <td>0.765629</td>\n",
       "      <td>0.070804</td>\n",
       "      <td>0.193472</td>\n",
       "      <td>0.219433</td>\n",
       "      <td>0.051454</td>\n",
       "      <td>0.079185</td>\n",
       "      <td>0.072867</td>\n",
       "      <td>0.547174</td>\n",
       "      <td>0.375323</td>\n",
       "      <td>0.410084</td>\n",
       "      <td>0.049356</td>\n",
       "      <td>0.034194</td>\n",
       "      <td>116739</td>\n",
       "      <td>k=4;max_iter=300;tol=0.0001;bisecting_strategy...</td>\n",
       "    </tr>\n",
       "    <tr>\n",
       "      <th>...</th>\n",
       "      <td>...</td>\n",
       "      <td>...</td>\n",
       "      <td>...</td>\n",
       "      <td>...</td>\n",
       "      <td>...</td>\n",
       "      <td>...</td>\n",
       "      <td>...</td>\n",
       "      <td>...</td>\n",
       "      <td>...</td>\n",
       "      <td>...</td>\n",
       "      <td>...</td>\n",
       "      <td>...</td>\n",
       "      <td>...</td>\n",
       "      <td>...</td>\n",
       "      <td>...</td>\n",
       "      <td>...</td>\n",
       "      <td>...</td>\n",
       "      <td>...</td>\n",
       "      <td>...</td>\n",
       "      <td>...</td>\n",
       "    </tr>\n",
       "    <tr>\n",
       "      <th>154</th>\n",
       "      <td>0.172281</td>\n",
       "      <td>0.171736</td>\n",
       "      <td>0.148284</td>\n",
       "      <td>0.146348</td>\n",
       "      <td>0.127904</td>\n",
       "      <td>0.138858</td>\n",
       "      <td>0.32152</td>\n",
       "      <td>0.14802</td>\n",
       "      <td>0.079143</td>\n",
       "      <td>0.13743</td>\n",
       "      <td>0.121819</td>\n",
       "      <td>0.158664</td>\n",
       "      <td>0.111772</td>\n",
       "      <td>0.152069</td>\n",
       "      <td>0.07592</td>\n",
       "      <td>0.291528</td>\n",
       "      <td>0.186798</td>\n",
       "      <td>0.166959</td>\n",
       "      <td>288389</td>\n",
       "      <td>k=17;max_iter=300;tol=0.0001;bisecting_strateg...</td>\n",
       "    </tr>\n",
       "    <tr>\n",
       "      <th>184</th>\n",
       "      <td>0.161779</td>\n",
       "      <td>0.161654</td>\n",
       "      <td>0.138694</td>\n",
       "      <td>0.144968</td>\n",
       "      <td>0.122552</td>\n",
       "      <td>0.137535</td>\n",
       "      <td>0.25231</td>\n",
       "      <td>0.17717</td>\n",
       "      <td>0.079143</td>\n",
       "      <td>0.13743</td>\n",
       "      <td>0.121819</td>\n",
       "      <td>0.158664</td>\n",
       "      <td>0.111772</td>\n",
       "      <td>0.152069</td>\n",
       "      <td>0.07438</td>\n",
       "      <td>0.219723</td>\n",
       "      <td>0.354863</td>\n",
       "      <td>0.372533</td>\n",
       "      <td>288389</td>\n",
       "      <td>k=20;max_iter=300;tol=0.0001;bisecting_strateg...</td>\n",
       "    </tr>\n",
       "    <tr>\n",
       "      <th>160</th>\n",
       "      <td>0.144055</td>\n",
       "      <td>0.145178</td>\n",
       "      <td>0.140567</td>\n",
       "      <td>0.136845</td>\n",
       "      <td>0.111963</td>\n",
       "      <td>0.109247</td>\n",
       "      <td>0.25301</td>\n",
       "      <td>0.207128</td>\n",
       "      <td>0.090803</td>\n",
       "      <td>0.122119</td>\n",
       "      <td>0.076534</td>\n",
       "      <td>0.172094</td>\n",
       "      <td>0.177042</td>\n",
       "      <td>0.126072</td>\n",
       "      <td>0.057392</td>\n",
       "      <td>0.248534</td>\n",
       "      <td>0.217684</td>\n",
       "      <td>0.196905</td>\n",
       "      <td>670487</td>\n",
       "      <td>k=18;max_iter=300;tol=0.0001;bisecting_strateg...</td>\n",
       "    </tr>\n",
       "    <tr>\n",
       "      <th>180</th>\n",
       "      <td>0.141785</td>\n",
       "      <td>0.142999</td>\n",
       "      <td>0.138297</td>\n",
       "      <td>0.139296</td>\n",
       "      <td>0.111963</td>\n",
       "      <td>0.109247</td>\n",
       "      <td>0.25301</td>\n",
       "      <td>0.207128</td>\n",
       "      <td>0.090803</td>\n",
       "      <td>0.122119</td>\n",
       "      <td>0.0</td>\n",
       "      <td>0.172094</td>\n",
       "      <td>0.177042</td>\n",
       "      <td>0.126072</td>\n",
       "      <td>0.057392</td>\n",
       "      <td>0.248534</td>\n",
       "      <td>0.217684</td>\n",
       "      <td>0.196905</td>\n",
       "      <td>670487</td>\n",
       "      <td>k=20;max_iter=300;tol=0.0001;bisecting_strateg...</td>\n",
       "    </tr>\n",
       "    <tr>\n",
       "      <th>170</th>\n",
       "      <td>0.141785</td>\n",
       "      <td>0.142999</td>\n",
       "      <td>0.138297</td>\n",
       "      <td>0.139296</td>\n",
       "      <td>0.111963</td>\n",
       "      <td>0.109247</td>\n",
       "      <td>0.25301</td>\n",
       "      <td>0.207128</td>\n",
       "      <td>0.090803</td>\n",
       "      <td>0.122119</td>\n",
       "      <td>0.0</td>\n",
       "      <td>0.172094</td>\n",
       "      <td>0.177042</td>\n",
       "      <td>0.126072</td>\n",
       "      <td>0.057392</td>\n",
       "      <td>0.248534</td>\n",
       "      <td>0.217684</td>\n",
       "      <td>0.196905</td>\n",
       "      <td>670487</td>\n",
       "      <td>k=19;max_iter=300;tol=0.0001;bisecting_strateg...</td>\n",
       "    </tr>\n",
       "  </tbody>\n",
       "</table>\n",
       "<p>190 rows × 20 columns</p>\n",
       "</div>"
      ],
      "text/plain": [
       "        PAM50 Intrinsic  PAM50_AB    SCMOD2       IHC   Luminal     Basal  \\\n",
       "66   0.594227  0.573987  0.245366  0.274381  0.440605   0.62703  0.765629   \n",
       "56   0.593758  0.573157  0.272915  0.305478  0.440605   0.62703  0.765629   \n",
       "46   0.593758  0.573157  0.278403  0.305917  0.440605   0.62703  0.765629   \n",
       "36    0.59352  0.572928  0.278165  0.305917  0.440605   0.62703  0.765629   \n",
       "26   0.579334   0.55931  0.288035  0.326877  0.428036   0.62703  0.765629   \n",
       "..        ...       ...       ...       ...       ...       ...       ...   \n",
       "154  0.172281  0.171736  0.148284  0.146348  0.127904  0.138858   0.32152   \n",
       "184  0.161779  0.161654  0.138694  0.144968  0.122552  0.137535   0.25231   \n",
       "160  0.144055  0.145178  0.140567  0.136845  0.111963  0.109247   0.25301   \n",
       "180  0.141785  0.142999  0.138297  0.139296  0.111963  0.109247   0.25301   \n",
       "170  0.141785  0.142999  0.138297  0.139296  0.111963  0.109247   0.25301   \n",
       "\n",
       "         Her2      LumA      LumB    Normal Claudin-low  IHC_HER2    IHC_ER  \\\n",
       "66    0.21253  0.108606  0.137808  0.075318    0.088663  0.211695  0.547174   \n",
       "56    0.21253  0.179572  0.137808  0.059496    0.079185  0.211695  0.547174   \n",
       "46    0.21253  0.193472  0.137808  0.059496    0.079185  0.211695  0.547174   \n",
       "36    0.21253  0.193472  0.137808  0.051454    0.079185  0.211695  0.547174   \n",
       "26   0.070804  0.193472  0.219433  0.051454    0.079185  0.072867  0.547174   \n",
       "..        ...       ...       ...       ...         ...       ...       ...   \n",
       "154   0.14802  0.079143   0.13743  0.121819    0.158664  0.111772  0.152069   \n",
       "184   0.17717  0.079143   0.13743  0.121819    0.158664  0.111772  0.152069   \n",
       "160  0.207128  0.090803  0.122119  0.076534    0.172094  0.177042  0.126072   \n",
       "180  0.207128  0.090803  0.122119       0.0    0.172094  0.177042  0.126072   \n",
       "170  0.207128  0.090803  0.122119       0.0    0.172094  0.177042  0.126072   \n",
       "\n",
       "       IHC_PR  IHC_TNBC NET_kmeans  NET_ward    seed  \\\n",
       "66   0.375323  0.410084   0.118669  0.083416  116739   \n",
       "56   0.375323  0.410084   0.118669  0.083416  116739   \n",
       "46   0.375323  0.410084   0.118669  0.083416  116739   \n",
       "36   0.375323  0.410084   0.096049  0.083416  116739   \n",
       "26   0.375323  0.410084   0.049356  0.034194  116739   \n",
       "..        ...       ...        ...       ...     ...   \n",
       "154   0.07592  0.291528   0.186798  0.166959  288389   \n",
       "184   0.07438  0.219723   0.354863  0.372533  288389   \n",
       "160  0.057392  0.248534   0.217684  0.196905  670487   \n",
       "180  0.057392  0.248534   0.217684  0.196905  670487   \n",
       "170  0.057392  0.248534   0.217684  0.196905  670487   \n",
       "\n",
       "                                            parameters  \n",
       "66   k=8;max_iter=300;tol=0.0001;bisecting_strategy...  \n",
       "56   k=7;max_iter=300;tol=0.0001;bisecting_strategy...  \n",
       "46   k=6;max_iter=300;tol=0.0001;bisecting_strategy...  \n",
       "36   k=5;max_iter=300;tol=0.0001;bisecting_strategy...  \n",
       "26   k=4;max_iter=300;tol=0.0001;bisecting_strategy...  \n",
       "..                                                 ...  \n",
       "154  k=17;max_iter=300;tol=0.0001;bisecting_strateg...  \n",
       "184  k=20;max_iter=300;tol=0.0001;bisecting_strateg...  \n",
       "160  k=18;max_iter=300;tol=0.0001;bisecting_strateg...  \n",
       "180  k=20;max_iter=300;tol=0.0001;bisecting_strateg...  \n",
       "170  k=19;max_iter=300;tol=0.0001;bisecting_strateg...  \n",
       "\n",
       "[190 rows x 20 columns]"
      ]
     },
     "execution_count": 22,
     "metadata": {},
     "output_type": "execute_result"
    }
   ],
   "source": [
    "stats = {}\n",
    "i=0\n",
    "\n",
    "method = \"BisectingKMeans\"\n",
    "if not os.path.exists(basedir+\"/\"+method+\"/\"):\n",
    "    os.mkdir(basedir+\"/\"+method+\"/\")\n",
    "    \n",
    "for k in ks:\n",
    "    for max_iter in max_iters:\n",
    "        for tol in tols:\n",
    "            for bs in bisecting_strategy:\n",
    "                for seed in seeds:\n",
    "                    params = \"k=\"+str(k)+\";max_iter=\"+str(max_iter)+\";tol=\"+str(tol)+\";bisecting_strategy=\"+str(bs)\n",
    "                    labels = BisectingKMeans(n_clusters=k, init='k-means++', n_init=10, \n",
    "                           random_state=seed, max_iter= max_iter, tol=tol,\n",
    "                           bisecting_strategy=bs).fit_predict(exprs.T)\n",
    "                    clusters = labels_to_clsuters(labels,  exprs.columns)\n",
    "                    clusters = clusters.loc[clusters[\"n_samples\"]>=5,:]\n",
    "                    performances, best_matches = calculate_perfromance(clusters, known_groups,all_samples,\n",
    "                                                                      performance_measure = \"ARI\")\n",
    "                    stats[i] = performances.to_dict()\n",
    "                    stats[i][\"seed\"]=seed\n",
    "                    stats[i][\"parameters\"]=params\n",
    "                    print(params,seed,stats[i][\"PAM50\"])\n",
    "                    # saving clusters \n",
    "                    clusters[\"samples\"] = clusters[\"samples\"].apply(lambda row: \" \".join(sorted(row)))\n",
    "                    clusters = clusters.loc[:,[\"n_samples\",\"samples\"]] \n",
    "                    clusters.to_csv(basedir+\"/\"+method+\"/\"+dataset+\".\"+method+\".\"+params+\".seed=\"+str(seed)+\".clusters.tsv\",sep=\"\\t\")\n",
    "                    i+=1\n",
    "stats = pd.DataFrame.from_dict(stats).T\n",
    "# saving performances\n",
    "stats.to_csv(basedir +\"/\"+method+\"_\"+dataset+\".tsv\",sep=\"\\t\")\n",
    "stats.sort_values(by = \"PAM50\",ascending=False)    \n",
    "                    "
   ]
  },
  {
   "cell_type": "markdown",
   "id": "colored-health",
   "metadata": {},
   "source": [
    "#  Mini-Batch K-Means"
   ]
  },
  {
   "cell_type": "code",
   "execution_count": 18,
   "id": "sunrise-constant",
   "metadata": {},
   "outputs": [
    {
     "data": {
      "text/plain": [
       "342"
      ]
     },
     "execution_count": 18,
     "metadata": {},
     "output_type": "execute_result"
    }
   ],
   "source": [
    "from sklearn.cluster import MiniBatchKMeans\n",
    "\n",
    "inits = ['k-means++']#['k-means++','random']\n",
    "max_iters= [300]\n",
    "max_no_improvements = [10,20]\n",
    "ks = list(range(2,21))\n",
    "batch_sizes = [100,500,1024]\n",
    "reassignment_ratios = [0.005,0.01,0.1]\n",
    "len(ks)*len(inits)*len(max_iters)*len(max_no_improvements)*len(batch_sizes)*len(reassignment_ratios)"
   ]
  },
  {
   "cell_type": "code",
   "execution_count": 19,
   "id": "transsexual-korean",
   "metadata": {
    "scrolled": true
   },
   "outputs": [
    {
     "name": "stdout",
     "output_type": "stream",
     "text": [
      "k=2;max_iter=300;batch_size=100;max_no_improvement=10;reassignment_ratio=0.005 670487 0.549350632689851\n",
      "k=2;max_iter=300;batch_size=100;max_no_improvement=10;reassignment_ratio=0.005 116739 0.026004171230874652\n",
      "k=2;max_iter=300;batch_size=100;max_no_improvement=10;reassignment_ratio=0.005 26225 0.020533201156199797\n",
      "k=2;max_iter=300;batch_size=100;max_no_improvement=10;reassignment_ratio=0.005 777572 0.16624736106666435\n",
      "k=2;max_iter=300;batch_size=100;max_no_improvement=10;reassignment_ratio=0.005 288389 0.5507951793920857\n",
      "k=2;max_iter=300;batch_size=100;max_no_improvement=10;reassignment_ratio=0.01 670487 0.549350632689851\n",
      "k=2;max_iter=300;batch_size=100;max_no_improvement=10;reassignment_ratio=0.01 116739 0.026004171230874652\n",
      "k=2;max_iter=300;batch_size=100;max_no_improvement=10;reassignment_ratio=0.01 26225 0.020533201156199797\n",
      "k=2;max_iter=300;batch_size=100;max_no_improvement=10;reassignment_ratio=0.01 777572 0.16624736106666435\n",
      "k=2;max_iter=300;batch_size=100;max_no_improvement=10;reassignment_ratio=0.01 288389 0.5507951793920857\n",
      "k=2;max_iter=300;batch_size=100;max_no_improvement=10;reassignment_ratio=0.1 670487 0.549350632689851\n",
      "k=2;max_iter=300;batch_size=100;max_no_improvement=10;reassignment_ratio=0.1 116739 0.0\n",
      "k=2;max_iter=300;batch_size=100;max_no_improvement=10;reassignment_ratio=0.1 26225 0.020533201156199797\n",
      "k=2;max_iter=300;batch_size=100;max_no_improvement=10;reassignment_ratio=0.1 777572 -0.03564028082102403\n",
      "k=2;max_iter=300;batch_size=100;max_no_improvement=10;reassignment_ratio=0.1 288389 0.0\n",
      "k=2;max_iter=300;batch_size=100;max_no_improvement=20;reassignment_ratio=0.005 670487 0.5490730188078249\n",
      "k=2;max_iter=300;batch_size=100;max_no_improvement=20;reassignment_ratio=0.005 116739 0.03506678106216801\n",
      "k=2;max_iter=300;batch_size=100;max_no_improvement=20;reassignment_ratio=0.005 26225 0.029144161261032978\n",
      "k=2;max_iter=300;batch_size=100;max_no_improvement=20;reassignment_ratio=0.005 777572 0.17762281375281908\n",
      "k=2;max_iter=300;batch_size=100;max_no_improvement=20;reassignment_ratio=0.005 288389 0.5507951793920857\n",
      "k=2;max_iter=300;batch_size=100;max_no_improvement=20;reassignment_ratio=0.01 670487 0.5490730188078249\n",
      "k=2;max_iter=300;batch_size=100;max_no_improvement=20;reassignment_ratio=0.01 116739 0.03506678106216801\n",
      "k=2;max_iter=300;batch_size=100;max_no_improvement=20;reassignment_ratio=0.01 26225 0.029144161261032978\n",
      "k=2;max_iter=300;batch_size=100;max_no_improvement=20;reassignment_ratio=0.01 777572 0.17762281375281908\n",
      "k=2;max_iter=300;batch_size=100;max_no_improvement=20;reassignment_ratio=0.01 288389 0.5507951793920857\n",
      "k=2;max_iter=300;batch_size=100;max_no_improvement=20;reassignment_ratio=0.1 670487 0.5490730188078249\n",
      "k=2;max_iter=300;batch_size=100;max_no_improvement=20;reassignment_ratio=0.1 116739 0.0\n",
      "k=2;max_iter=300;batch_size=100;max_no_improvement=20;reassignment_ratio=0.1 26225 0.029144161261032978\n",
      "k=2;max_iter=300;batch_size=100;max_no_improvement=20;reassignment_ratio=0.1 777572 -0.03634833038045722\n",
      "k=2;max_iter=300;batch_size=100;max_no_improvement=20;reassignment_ratio=0.1 288389 0.0\n",
      "k=2;max_iter=300;batch_size=500;max_no_improvement=10;reassignment_ratio=0.005 670487 0.45263100576022997\n",
      "k=2;max_iter=300;batch_size=500;max_no_improvement=10;reassignment_ratio=0.005 116739 0.30587325017817385\n",
      "k=2;max_iter=300;batch_size=500;max_no_improvement=10;reassignment_ratio=0.005 26225 0.10675822642794977\n",
      "k=2;max_iter=300;batch_size=500;max_no_improvement=10;reassignment_ratio=0.005 777572 0.04430137044093837\n",
      "k=2;max_iter=300;batch_size=500;max_no_improvement=10;reassignment_ratio=0.005 288389 0.20310131092944272\n",
      "k=2;max_iter=300;batch_size=500;max_no_improvement=10;reassignment_ratio=0.01 670487 0.45263100576022997\n",
      "k=2;max_iter=300;batch_size=500;max_no_improvement=10;reassignment_ratio=0.01 116739 0.30587325017817385\n",
      "k=2;max_iter=300;batch_size=500;max_no_improvement=10;reassignment_ratio=0.01 26225 0.10675822642794977\n",
      "k=2;max_iter=300;batch_size=500;max_no_improvement=10;reassignment_ratio=0.01 777572 0.04430137044093837\n",
      "k=2;max_iter=300;batch_size=500;max_no_improvement=10;reassignment_ratio=0.01 288389 0.20310131092944272\n",
      "k=2;max_iter=300;batch_size=500;max_no_improvement=10;reassignment_ratio=0.1 670487 0.45263100576022997\n",
      "k=2;max_iter=300;batch_size=500;max_no_improvement=10;reassignment_ratio=0.1 116739 0.30587325017817385\n",
      "k=2;max_iter=300;batch_size=500;max_no_improvement=10;reassignment_ratio=0.1 26225 0.10675822642794977\n",
      "k=2;max_iter=300;batch_size=500;max_no_improvement=10;reassignment_ratio=0.1 777572 0.04430137044093837\n",
      "k=2;max_iter=300;batch_size=500;max_no_improvement=10;reassignment_ratio=0.1 288389 0.20310131092944272\n",
      "k=2;max_iter=300;batch_size=500;max_no_improvement=20;reassignment_ratio=0.005 670487 0.4612240464786619\n",
      "k=2;max_iter=300;batch_size=500;max_no_improvement=20;reassignment_ratio=0.005 116739 0.30230592220082797\n",
      "k=2;max_iter=300;batch_size=500;max_no_improvement=20;reassignment_ratio=0.005 26225 0.10255221776380613\n",
      "k=2;max_iter=300;batch_size=500;max_no_improvement=20;reassignment_ratio=0.005 777572 0.047269662219739245\n",
      "k=2;max_iter=300;batch_size=500;max_no_improvement=20;reassignment_ratio=0.005 288389 0.2111260550679378\n",
      "k=2;max_iter=300;batch_size=500;max_no_improvement=20;reassignment_ratio=0.01 670487 0.4612240464786619\n",
      "k=2;max_iter=300;batch_size=500;max_no_improvement=20;reassignment_ratio=0.01 116739 0.30230592220082797\n",
      "k=2;max_iter=300;batch_size=500;max_no_improvement=20;reassignment_ratio=0.01 26225 0.10255221776380613\n",
      "k=2;max_iter=300;batch_size=500;max_no_improvement=20;reassignment_ratio=0.01 777572 0.047269662219739245\n",
      "k=2;max_iter=300;batch_size=500;max_no_improvement=20;reassignment_ratio=0.01 288389 0.2111260550679378\n",
      "k=2;max_iter=300;batch_size=500;max_no_improvement=20;reassignment_ratio=0.1 670487 0.4612240464786619\n",
      "k=2;max_iter=300;batch_size=500;max_no_improvement=20;reassignment_ratio=0.1 116739 0.30230592220082797\n",
      "k=2;max_iter=300;batch_size=500;max_no_improvement=20;reassignment_ratio=0.1 26225 0.10255221776380613\n",
      "k=2;max_iter=300;batch_size=500;max_no_improvement=20;reassignment_ratio=0.1 777572 0.047269662219739245\n",
      "k=2;max_iter=300;batch_size=500;max_no_improvement=20;reassignment_ratio=0.1 288389 0.2111260550679378\n",
      "k=2;max_iter=300;batch_size=1024;max_no_improvement=10;reassignment_ratio=0.005 670487 0.43696579682560244\n",
      "k=2;max_iter=300;batch_size=1024;max_no_improvement=10;reassignment_ratio=0.005 116739 0.31908547633121753\n",
      "k=2;max_iter=300;batch_size=1024;max_no_improvement=10;reassignment_ratio=0.005 26225 0.11105667859128918\n",
      "k=2;max_iter=300;batch_size=1024;max_no_improvement=10;reassignment_ratio=0.005 777572 0.05012695739266719\n",
      "k=2;max_iter=300;batch_size=1024;max_no_improvement=10;reassignment_ratio=0.005 288389 0.13863575065730466\n",
      "k=2;max_iter=300;batch_size=1024;max_no_improvement=10;reassignment_ratio=0.01 670487 0.43696579682560244\n",
      "k=2;max_iter=300;batch_size=1024;max_no_improvement=10;reassignment_ratio=0.01 116739 0.31908547633121753\n",
      "k=2;max_iter=300;batch_size=1024;max_no_improvement=10;reassignment_ratio=0.01 26225 0.11105667859128918\n",
      "k=2;max_iter=300;batch_size=1024;max_no_improvement=10;reassignment_ratio=0.01 777572 0.05012695739266719\n",
      "k=2;max_iter=300;batch_size=1024;max_no_improvement=10;reassignment_ratio=0.01 288389 0.13863575065730466\n",
      "k=2;max_iter=300;batch_size=1024;max_no_improvement=10;reassignment_ratio=0.1 670487 0.43696579682560244\n",
      "k=2;max_iter=300;batch_size=1024;max_no_improvement=10;reassignment_ratio=0.1 116739 0.31908547633121753\n",
      "k=2;max_iter=300;batch_size=1024;max_no_improvement=10;reassignment_ratio=0.1 26225 0.11105667859128918\n",
      "k=2;max_iter=300;batch_size=1024;max_no_improvement=10;reassignment_ratio=0.1 777572 0.05012695739266719\n",
      "k=2;max_iter=300;batch_size=1024;max_no_improvement=10;reassignment_ratio=0.1 288389 0.13863575065730466\n",
      "k=2;max_iter=300;batch_size=1024;max_no_improvement=20;reassignment_ratio=0.005 670487 0.44754307156637996\n",
      "k=2;max_iter=300;batch_size=1024;max_no_improvement=20;reassignment_ratio=0.005 116739 0.31908547633121753\n",
      "k=2;max_iter=300;batch_size=1024;max_no_improvement=20;reassignment_ratio=0.005 26225 0.10829889436305287\n",
      "k=2;max_iter=300;batch_size=1024;max_no_improvement=20;reassignment_ratio=0.005 777572 0.05292723716257573\n"
     ]
    },
    {
     "name": "stdout",
     "output_type": "stream",
     "text": [
      "k=2;max_iter=300;batch_size=1024;max_no_improvement=20;reassignment_ratio=0.005 288389 0.13142982830488814\n",
      "k=2;max_iter=300;batch_size=1024;max_no_improvement=20;reassignment_ratio=0.01 670487 0.44754307156637996\n",
      "k=2;max_iter=300;batch_size=1024;max_no_improvement=20;reassignment_ratio=0.01 116739 0.31908547633121753\n",
      "k=2;max_iter=300;batch_size=1024;max_no_improvement=20;reassignment_ratio=0.01 26225 0.10829889436305287\n",
      "k=2;max_iter=300;batch_size=1024;max_no_improvement=20;reassignment_ratio=0.01 777572 0.05292723716257573\n",
      "k=2;max_iter=300;batch_size=1024;max_no_improvement=20;reassignment_ratio=0.01 288389 0.13142982830488814\n",
      "k=2;max_iter=300;batch_size=1024;max_no_improvement=20;reassignment_ratio=0.1 670487 0.44754307156637996\n",
      "k=2;max_iter=300;batch_size=1024;max_no_improvement=20;reassignment_ratio=0.1 116739 0.31908547633121753\n",
      "k=2;max_iter=300;batch_size=1024;max_no_improvement=20;reassignment_ratio=0.1 26225 0.10829889436305287\n",
      "k=2;max_iter=300;batch_size=1024;max_no_improvement=20;reassignment_ratio=0.1 777572 0.05292723716257573\n",
      "k=2;max_iter=300;batch_size=1024;max_no_improvement=20;reassignment_ratio=0.1 288389 0.13142982830488814\n",
      "k=3;max_iter=300;batch_size=100;max_no_improvement=10;reassignment_ratio=0.005 670487 0.037603995866677474\n",
      "k=3;max_iter=300;batch_size=100;max_no_improvement=10;reassignment_ratio=0.005 116739 0.06640112125340594\n",
      "k=3;max_iter=300;batch_size=100;max_no_improvement=10;reassignment_ratio=0.005 26225 0.14423273044120036\n",
      "k=3;max_iter=300;batch_size=100;max_no_improvement=10;reassignment_ratio=0.005 777572 0.4870213556728018\n",
      "k=3;max_iter=300;batch_size=100;max_no_improvement=10;reassignment_ratio=0.005 288389 0.4929132159717592\n",
      "k=3;max_iter=300;batch_size=100;max_no_improvement=10;reassignment_ratio=0.01 670487 0.037603995866677474\n",
      "k=3;max_iter=300;batch_size=100;max_no_improvement=10;reassignment_ratio=0.01 116739 0.06640112125340594\n",
      "k=3;max_iter=300;batch_size=100;max_no_improvement=10;reassignment_ratio=0.01 26225 0.14423273044120036\n",
      "k=3;max_iter=300;batch_size=100;max_no_improvement=10;reassignment_ratio=0.01 777572 0.4870213556728018\n",
      "k=3;max_iter=300;batch_size=100;max_no_improvement=10;reassignment_ratio=0.01 288389 0.5178843800361795\n",
      "k=3;max_iter=300;batch_size=100;max_no_improvement=10;reassignment_ratio=0.1 670487 0.037603995866677474\n",
      "k=3;max_iter=300;batch_size=100;max_no_improvement=10;reassignment_ratio=0.1 116739 0.06640112125340594\n",
      "k=3;max_iter=300;batch_size=100;max_no_improvement=10;reassignment_ratio=0.1 26225 0.14423273044120036\n",
      "k=3;max_iter=300;batch_size=100;max_no_improvement=10;reassignment_ratio=0.1 777572 0.4870213556728018\n",
      "k=3;max_iter=300;batch_size=100;max_no_improvement=10;reassignment_ratio=0.1 288389 0.5507951793920857\n",
      "k=3;max_iter=300;batch_size=100;max_no_improvement=20;reassignment_ratio=0.005 670487 0.03556213719210648\n",
      "k=3;max_iter=300;batch_size=100;max_no_improvement=20;reassignment_ratio=0.005 116739 0.06885359392984156\n",
      "k=3;max_iter=300;batch_size=100;max_no_improvement=20;reassignment_ratio=0.005 26225 0.1631065808480434\n",
      "k=3;max_iter=300;batch_size=100;max_no_improvement=20;reassignment_ratio=0.005 777572 0.5083475028596146\n",
      "k=3;max_iter=300;batch_size=100;max_no_improvement=20;reassignment_ratio=0.005 288389 0.4986463484945117\n",
      "k=3;max_iter=300;batch_size=100;max_no_improvement=20;reassignment_ratio=0.01 670487 0.03556213719210648\n",
      "k=3;max_iter=300;batch_size=100;max_no_improvement=20;reassignment_ratio=0.01 116739 0.06885359392984156\n",
      "k=3;max_iter=300;batch_size=100;max_no_improvement=20;reassignment_ratio=0.01 26225 0.1631065808480434\n",
      "k=3;max_iter=300;batch_size=100;max_no_improvement=20;reassignment_ratio=0.01 777572 0.5083475028596146\n",
      "k=3;max_iter=300;batch_size=100;max_no_improvement=20;reassignment_ratio=0.01 288389 0.5224899320359494\n",
      "k=3;max_iter=300;batch_size=100;max_no_improvement=20;reassignment_ratio=0.1 670487 0.03556213719210648\n",
      "k=3;max_iter=300;batch_size=100;max_no_improvement=20;reassignment_ratio=0.1 116739 0.06885359392984156\n",
      "k=3;max_iter=300;batch_size=100;max_no_improvement=20;reassignment_ratio=0.1 26225 0.1631065808480434\n",
      "k=3;max_iter=300;batch_size=100;max_no_improvement=20;reassignment_ratio=0.1 777572 0.5083475028596146\n",
      "k=3;max_iter=300;batch_size=100;max_no_improvement=20;reassignment_ratio=0.1 288389 0.5507951793920857\n",
      "k=3;max_iter=300;batch_size=500;max_no_improvement=10;reassignment_ratio=0.005 670487 0.15076780779771898\n",
      "k=3;max_iter=300;batch_size=500;max_no_improvement=10;reassignment_ratio=0.005 116739 0.5280922064461003\n",
      "k=3;max_iter=300;batch_size=500;max_no_improvement=10;reassignment_ratio=0.005 26225 0.475239669465113\n",
      "k=3;max_iter=300;batch_size=500;max_no_improvement=10;reassignment_ratio=0.005 777572 0.5332625028481685\n",
      "k=3;max_iter=300;batch_size=500;max_no_improvement=10;reassignment_ratio=0.005 288389 0.3751420685723127\n",
      "k=3;max_iter=300;batch_size=500;max_no_improvement=10;reassignment_ratio=0.01 670487 0.15076780779771898\n",
      "k=3;max_iter=300;batch_size=500;max_no_improvement=10;reassignment_ratio=0.01 116739 0.5280922064461003\n",
      "k=3;max_iter=300;batch_size=500;max_no_improvement=10;reassignment_ratio=0.01 26225 0.475239669465113\n",
      "k=3;max_iter=300;batch_size=500;max_no_improvement=10;reassignment_ratio=0.01 777572 0.5332625028481685\n",
      "k=3;max_iter=300;batch_size=500;max_no_improvement=10;reassignment_ratio=0.01 288389 0.3751420685723127\n",
      "k=3;max_iter=300;batch_size=500;max_no_improvement=10;reassignment_ratio=0.1 670487 0.15076780779771898\n",
      "k=3;max_iter=300;batch_size=500;max_no_improvement=10;reassignment_ratio=0.1 116739 0.5280922064461003\n",
      "k=3;max_iter=300;batch_size=500;max_no_improvement=10;reassignment_ratio=0.1 26225 0.475239669465113\n",
      "k=3;max_iter=300;batch_size=500;max_no_improvement=10;reassignment_ratio=0.1 777572 0.5332625028481685\n",
      "k=3;max_iter=300;batch_size=500;max_no_improvement=10;reassignment_ratio=0.1 288389 0.38618780241682255\n",
      "k=3;max_iter=300;batch_size=500;max_no_improvement=20;reassignment_ratio=0.005 670487 0.13689829105862047\n",
      "k=3;max_iter=300;batch_size=500;max_no_improvement=20;reassignment_ratio=0.005 116739 0.5343788067937657\n",
      "k=3;max_iter=300;batch_size=500;max_no_improvement=20;reassignment_ratio=0.005 26225 0.4687301940083859\n",
      "k=3;max_iter=300;batch_size=500;max_no_improvement=20;reassignment_ratio=0.005 777572 0.5385572031554469\n",
      "k=3;max_iter=300;batch_size=500;max_no_improvement=20;reassignment_ratio=0.005 288389 0.3761059276780335\n",
      "k=3;max_iter=300;batch_size=500;max_no_improvement=20;reassignment_ratio=0.01 670487 0.13689829105862047\n",
      "k=3;max_iter=300;batch_size=500;max_no_improvement=20;reassignment_ratio=0.01 116739 0.5343788067937657\n",
      "k=3;max_iter=300;batch_size=500;max_no_improvement=20;reassignment_ratio=0.01 26225 0.4687301940083859\n",
      "k=3;max_iter=300;batch_size=500;max_no_improvement=20;reassignment_ratio=0.01 777572 0.5385572031554469\n",
      "k=3;max_iter=300;batch_size=500;max_no_improvement=20;reassignment_ratio=0.01 288389 0.3761059276780335\n",
      "k=3;max_iter=300;batch_size=500;max_no_improvement=20;reassignment_ratio=0.1 670487 0.13689829105862047\n",
      "k=3;max_iter=300;batch_size=500;max_no_improvement=20;reassignment_ratio=0.1 116739 0.5343788067937657\n",
      "k=3;max_iter=300;batch_size=500;max_no_improvement=20;reassignment_ratio=0.1 26225 0.4687301940083859\n",
      "k=3;max_iter=300;batch_size=500;max_no_improvement=20;reassignment_ratio=0.1 777572 0.5385572031554469\n",
      "k=3;max_iter=300;batch_size=500;max_no_improvement=20;reassignment_ratio=0.1 288389 0.38189436844951435\n",
      "k=3;max_iter=300;batch_size=1024;max_no_improvement=10;reassignment_ratio=0.005 670487 0.09156579535867632\n",
      "k=3;max_iter=300;batch_size=1024;max_no_improvement=10;reassignment_ratio=0.005 116739 0.5368289827488446\n",
      "k=3;max_iter=300;batch_size=1024;max_no_improvement=10;reassignment_ratio=0.005 26225 0.2859683820385769\n",
      "k=3;max_iter=300;batch_size=1024;max_no_improvement=10;reassignment_ratio=0.005 777572 0.5340035506876831\n",
      "k=3;max_iter=300;batch_size=1024;max_no_improvement=10;reassignment_ratio=0.005 288389 0.3813266288155972\n",
      "k=3;max_iter=300;batch_size=1024;max_no_improvement=10;reassignment_ratio=0.01 670487 0.09156579535867632\n",
      "k=3;max_iter=300;batch_size=1024;max_no_improvement=10;reassignment_ratio=0.01 116739 0.5368289827488446\n",
      "k=3;max_iter=300;batch_size=1024;max_no_improvement=10;reassignment_ratio=0.01 26225 0.2859683820385769\n"
     ]
    },
    {
     "name": "stdout",
     "output_type": "stream",
     "text": [
      "k=3;max_iter=300;batch_size=1024;max_no_improvement=10;reassignment_ratio=0.01 777572 0.5340035506876831\n",
      "k=3;max_iter=300;batch_size=1024;max_no_improvement=10;reassignment_ratio=0.01 288389 0.3877426180622155\n",
      "k=3;max_iter=300;batch_size=1024;max_no_improvement=10;reassignment_ratio=0.1 670487 0.09156579535867632\n",
      "k=3;max_iter=300;batch_size=1024;max_no_improvement=10;reassignment_ratio=0.1 116739 0.5368289827488446\n",
      "k=3;max_iter=300;batch_size=1024;max_no_improvement=10;reassignment_ratio=0.1 26225 0.2859683820385769\n",
      "k=3;max_iter=300;batch_size=1024;max_no_improvement=10;reassignment_ratio=0.1 777572 0.5340035506876831\n",
      "k=3;max_iter=300;batch_size=1024;max_no_improvement=10;reassignment_ratio=0.1 288389 0.3999785545150426\n",
      "k=3;max_iter=300;batch_size=1024;max_no_improvement=20;reassignment_ratio=0.005 670487 0.08977389246734058\n",
      "k=3;max_iter=300;batch_size=1024;max_no_improvement=20;reassignment_ratio=0.005 116739 0.5329266119363103\n",
      "k=3;max_iter=300;batch_size=1024;max_no_improvement=20;reassignment_ratio=0.005 26225 0.3370168345885784\n",
      "k=3;max_iter=300;batch_size=1024;max_no_improvement=20;reassignment_ratio=0.005 777572 0.5344658448295851\n",
      "k=3;max_iter=300;batch_size=1024;max_no_improvement=20;reassignment_ratio=0.005 288389 0.4061298809565064\n",
      "k=3;max_iter=300;batch_size=1024;max_no_improvement=20;reassignment_ratio=0.01 670487 0.08977389246734058\n",
      "k=3;max_iter=300;batch_size=1024;max_no_improvement=20;reassignment_ratio=0.01 116739 0.5329266119363103\n",
      "k=3;max_iter=300;batch_size=1024;max_no_improvement=20;reassignment_ratio=0.01 26225 0.3370168345885784\n",
      "k=3;max_iter=300;batch_size=1024;max_no_improvement=20;reassignment_ratio=0.01 777572 0.5344658448295851\n",
      "k=3;max_iter=300;batch_size=1024;max_no_improvement=20;reassignment_ratio=0.01 288389 0.38391104805628495\n",
      "k=3;max_iter=300;batch_size=1024;max_no_improvement=20;reassignment_ratio=0.1 670487 0.08977389246734058\n",
      "k=3;max_iter=300;batch_size=1024;max_no_improvement=20;reassignment_ratio=0.1 116739 0.5329266119363103\n",
      "k=3;max_iter=300;batch_size=1024;max_no_improvement=20;reassignment_ratio=0.1 26225 0.3370168345885784\n",
      "k=3;max_iter=300;batch_size=1024;max_no_improvement=20;reassignment_ratio=0.1 777572 0.5344658448295851\n",
      "k=3;max_iter=300;batch_size=1024;max_no_improvement=20;reassignment_ratio=0.1 288389 0.42598994364434073\n",
      "k=4;max_iter=300;batch_size=100;max_no_improvement=10;reassignment_ratio=0.005 670487 0.40142962518686326\n",
      "k=4;max_iter=300;batch_size=100;max_no_improvement=10;reassignment_ratio=0.005 116739 0.45716350844834996\n",
      "k=4;max_iter=300;batch_size=100;max_no_improvement=10;reassignment_ratio=0.005 26225 0.3379591316941454\n",
      "k=4;max_iter=300;batch_size=100;max_no_improvement=10;reassignment_ratio=0.005 777572 0.5189142376858742\n",
      "k=4;max_iter=300;batch_size=100;max_no_improvement=10;reassignment_ratio=0.005 288389 0.48690247259211444\n",
      "k=4;max_iter=300;batch_size=100;max_no_improvement=10;reassignment_ratio=0.01 670487 0.40142962518686326\n",
      "k=4;max_iter=300;batch_size=100;max_no_improvement=10;reassignment_ratio=0.01 116739 0.45716350844834996\n",
      "k=4;max_iter=300;batch_size=100;max_no_improvement=10;reassignment_ratio=0.01 26225 0.33661867151338454\n",
      "k=4;max_iter=300;batch_size=100;max_no_improvement=10;reassignment_ratio=0.01 777572 0.5189142376858742\n",
      "k=4;max_iter=300;batch_size=100;max_no_improvement=10;reassignment_ratio=0.01 288389 0.48589032131289533\n",
      "k=4;max_iter=300;batch_size=100;max_no_improvement=10;reassignment_ratio=0.1 670487 0.40142962518686326\n",
      "k=4;max_iter=300;batch_size=100;max_no_improvement=10;reassignment_ratio=0.1 116739 0.45716350844834996\n",
      "k=4;max_iter=300;batch_size=100;max_no_improvement=10;reassignment_ratio=0.1 26225 0.10396894159555205\n",
      "k=4;max_iter=300;batch_size=100;max_no_improvement=10;reassignment_ratio=0.1 777572 0.5189142376858742\n",
      "k=4;max_iter=300;batch_size=100;max_no_improvement=10;reassignment_ratio=0.1 288389 0.4874116291374134\n",
      "k=4;max_iter=300;batch_size=100;max_no_improvement=20;reassignment_ratio=0.005 670487 0.41297618458311636\n",
      "k=4;max_iter=300;batch_size=100;max_no_improvement=20;reassignment_ratio=0.005 116739 0.4642931838944553\n",
      "k=4;max_iter=300;batch_size=100;max_no_improvement=20;reassignment_ratio=0.005 26225 0.37651127400417816\n",
      "k=4;max_iter=300;batch_size=100;max_no_improvement=20;reassignment_ratio=0.005 777572 0.5216461495076388\n",
      "k=4;max_iter=300;batch_size=100;max_no_improvement=20;reassignment_ratio=0.005 288389 0.48877542969907506\n",
      "k=4;max_iter=300;batch_size=100;max_no_improvement=20;reassignment_ratio=0.01 670487 0.41297618458311636\n",
      "k=4;max_iter=300;batch_size=100;max_no_improvement=20;reassignment_ratio=0.01 116739 0.4642931838944553\n",
      "k=4;max_iter=300;batch_size=100;max_no_improvement=20;reassignment_ratio=0.01 26225 0.38952880222536906\n",
      "k=4;max_iter=300;batch_size=100;max_no_improvement=20;reassignment_ratio=0.01 777572 0.5216461495076388\n",
      "k=4;max_iter=300;batch_size=100;max_no_improvement=20;reassignment_ratio=0.01 288389 0.48589032131289533\n",
      "k=4;max_iter=300;batch_size=100;max_no_improvement=20;reassignment_ratio=0.1 670487 0.41297618458311636\n",
      "k=4;max_iter=300;batch_size=100;max_no_improvement=20;reassignment_ratio=0.1 116739 0.4642931838944553\n",
      "k=4;max_iter=300;batch_size=100;max_no_improvement=20;reassignment_ratio=0.1 26225 0.12600026036123707\n",
      "k=4;max_iter=300;batch_size=100;max_no_improvement=20;reassignment_ratio=0.1 777572 0.5216461495076388\n",
      "k=4;max_iter=300;batch_size=100;max_no_improvement=20;reassignment_ratio=0.1 288389 0.48877542969907506\n",
      "k=4;max_iter=300;batch_size=500;max_no_improvement=10;reassignment_ratio=0.005 670487 0.48628616792366935\n",
      "k=4;max_iter=300;batch_size=500;max_no_improvement=10;reassignment_ratio=0.005 116739 0.5551318785353816\n",
      "k=4;max_iter=300;batch_size=500;max_no_improvement=10;reassignment_ratio=0.005 26225 0.49427775524148215\n",
      "k=4;max_iter=300;batch_size=500;max_no_improvement=10;reassignment_ratio=0.005 777572 0.4864664254330241\n",
      "k=4;max_iter=300;batch_size=500;max_no_improvement=10;reassignment_ratio=0.005 288389 0.47050872686504985\n",
      "k=4;max_iter=300;batch_size=500;max_no_improvement=10;reassignment_ratio=0.01 670487 0.48628616792366935\n",
      "k=4;max_iter=300;batch_size=500;max_no_improvement=10;reassignment_ratio=0.01 116739 0.5551318785353816\n",
      "k=4;max_iter=300;batch_size=500;max_no_improvement=10;reassignment_ratio=0.01 26225 0.49427775524148215\n",
      "k=4;max_iter=300;batch_size=500;max_no_improvement=10;reassignment_ratio=0.01 777572 0.4551918920263882\n",
      "k=4;max_iter=300;batch_size=500;max_no_improvement=10;reassignment_ratio=0.01 288389 0.47050872686504985\n",
      "k=4;max_iter=300;batch_size=500;max_no_improvement=10;reassignment_ratio=0.1 670487 0.49703762541041074\n",
      "k=4;max_iter=300;batch_size=500;max_no_improvement=10;reassignment_ratio=0.1 116739 0.5339342154890265\n",
      "k=4;max_iter=300;batch_size=500;max_no_improvement=10;reassignment_ratio=0.1 26225 0.1059166433362175\n",
      "k=4;max_iter=300;batch_size=500;max_no_improvement=10;reassignment_ratio=0.1 777572 0.43949979389303984\n",
      "k=4;max_iter=300;batch_size=500;max_no_improvement=10;reassignment_ratio=0.1 288389 0.5367238375858844\n",
      "k=4;max_iter=300;batch_size=500;max_no_improvement=20;reassignment_ratio=0.005 670487 0.48975526144389925\n",
      "k=4;max_iter=300;batch_size=500;max_no_improvement=20;reassignment_ratio=0.005 116739 0.5553184432059008\n",
      "k=4;max_iter=300;batch_size=500;max_no_improvement=20;reassignment_ratio=0.005 26225 0.5000659701391492\n",
      "k=4;max_iter=300;batch_size=500;max_no_improvement=20;reassignment_ratio=0.005 777572 0.4906187755310956\n",
      "k=4;max_iter=300;batch_size=500;max_no_improvement=20;reassignment_ratio=0.005 288389 0.47693448049952364\n",
      "k=4;max_iter=300;batch_size=500;max_no_improvement=20;reassignment_ratio=0.01 670487 0.48975526144389925\n",
      "k=4;max_iter=300;batch_size=500;max_no_improvement=20;reassignment_ratio=0.01 116739 0.5553184432059008\n",
      "k=4;max_iter=300;batch_size=500;max_no_improvement=20;reassignment_ratio=0.01 26225 0.5000659701391492\n",
      "k=4;max_iter=300;batch_size=500;max_no_improvement=20;reassignment_ratio=0.01 777572 0.478849168785156\n",
      "k=4;max_iter=300;batch_size=500;max_no_improvement=20;reassignment_ratio=0.01 288389 0.47693448049952364\n",
      "k=4;max_iter=300;batch_size=500;max_no_improvement=20;reassignment_ratio=0.1 670487 0.498202495459964\n",
      "k=4;max_iter=300;batch_size=500;max_no_improvement=20;reassignment_ratio=0.1 116739 0.5189427003883063\n"
     ]
    },
    {
     "name": "stdout",
     "output_type": "stream",
     "text": [
      "k=4;max_iter=300;batch_size=500;max_no_improvement=20;reassignment_ratio=0.1 26225 0.11302294161727142\n",
      "k=4;max_iter=300;batch_size=500;max_no_improvement=20;reassignment_ratio=0.1 777572 0.46639332189283783\n",
      "k=4;max_iter=300;batch_size=500;max_no_improvement=20;reassignment_ratio=0.1 288389 0.5365804106096039\n",
      "k=4;max_iter=300;batch_size=1024;max_no_improvement=10;reassignment_ratio=0.005 670487 0.49548925104328856\n",
      "k=4;max_iter=300;batch_size=1024;max_no_improvement=10;reassignment_ratio=0.005 116739 0.5221254925546379\n",
      "k=4;max_iter=300;batch_size=1024;max_no_improvement=10;reassignment_ratio=0.005 26225 0.45152509410640074\n",
      "k=4;max_iter=300;batch_size=1024;max_no_improvement=10;reassignment_ratio=0.005 777572 0.4888122699200871\n",
      "k=4;max_iter=300;batch_size=1024;max_no_improvement=10;reassignment_ratio=0.005 288389 0.45692701038426886\n",
      "k=4;max_iter=300;batch_size=1024;max_no_improvement=10;reassignment_ratio=0.01 670487 0.49548925104328856\n",
      "k=4;max_iter=300;batch_size=1024;max_no_improvement=10;reassignment_ratio=0.01 116739 0.5221254925546379\n",
      "k=4;max_iter=300;batch_size=1024;max_no_improvement=10;reassignment_ratio=0.01 26225 0.45152509410640074\n",
      "k=4;max_iter=300;batch_size=1024;max_no_improvement=10;reassignment_ratio=0.01 777572 0.4631208934712537\n",
      "k=4;max_iter=300;batch_size=1024;max_no_improvement=10;reassignment_ratio=0.01 288389 0.45692701038426886\n",
      "k=4;max_iter=300;batch_size=1024;max_no_improvement=10;reassignment_ratio=0.1 670487 0.5005795735818613\n",
      "k=4;max_iter=300;batch_size=1024;max_no_improvement=10;reassignment_ratio=0.1 116739 0.5363500142359965\n",
      "k=4;max_iter=300;batch_size=1024;max_no_improvement=10;reassignment_ratio=0.1 26225 0.07521981420231832\n",
      "k=4;max_iter=300;batch_size=1024;max_no_improvement=10;reassignment_ratio=0.1 777572 0.4987671621439208\n",
      "k=4;max_iter=300;batch_size=1024;max_no_improvement=10;reassignment_ratio=0.1 288389 0.45692701038426886\n",
      "k=4;max_iter=300;batch_size=1024;max_no_improvement=20;reassignment_ratio=0.005 670487 0.4984155828131186\n",
      "k=4;max_iter=300;batch_size=1024;max_no_improvement=20;reassignment_ratio=0.005 116739 0.5212617517685959\n",
      "k=4;max_iter=300;batch_size=1024;max_no_improvement=20;reassignment_ratio=0.005 26225 0.4769713633425763\n",
      "k=4;max_iter=300;batch_size=1024;max_no_improvement=20;reassignment_ratio=0.005 777572 0.4969267134683356\n",
      "k=4;max_iter=300;batch_size=1024;max_no_improvement=20;reassignment_ratio=0.005 288389 0.47017593641253325\n",
      "k=4;max_iter=300;batch_size=1024;max_no_improvement=20;reassignment_ratio=0.01 670487 0.4984155828131186\n",
      "k=4;max_iter=300;batch_size=1024;max_no_improvement=20;reassignment_ratio=0.01 116739 0.5212617517685959\n",
      "k=4;max_iter=300;batch_size=1024;max_no_improvement=20;reassignment_ratio=0.01 26225 0.4769713633425763\n",
      "k=4;max_iter=300;batch_size=1024;max_no_improvement=20;reassignment_ratio=0.01 777572 0.5192844910733897\n",
      "k=4;max_iter=300;batch_size=1024;max_no_improvement=20;reassignment_ratio=0.01 288389 0.47017593641253325\n",
      "k=4;max_iter=300;batch_size=1024;max_no_improvement=20;reassignment_ratio=0.1 670487 0.5065510345139741\n",
      "k=4;max_iter=300;batch_size=1024;max_no_improvement=20;reassignment_ratio=0.1 116739 0.5349847877296179\n",
      "k=4;max_iter=300;batch_size=1024;max_no_improvement=20;reassignment_ratio=0.1 26225 0.08332554937503184\n",
      "k=4;max_iter=300;batch_size=1024;max_no_improvement=20;reassignment_ratio=0.1 777572 0.516737562636562\n",
      "k=4;max_iter=300;batch_size=1024;max_no_improvement=20;reassignment_ratio=0.1 288389 0.47017593641253325\n",
      "k=5;max_iter=300;batch_size=100;max_no_improvement=10;reassignment_ratio=0.005 670487 0.5046223649922137\n",
      "k=5;max_iter=300;batch_size=100;max_no_improvement=10;reassignment_ratio=0.005 116739 0.49921591072716365\n",
      "k=5;max_iter=300;batch_size=100;max_no_improvement=10;reassignment_ratio=0.005 26225 0.36687243432885186\n",
      "k=5;max_iter=300;batch_size=100;max_no_improvement=10;reassignment_ratio=0.005 777572 0.5180919516053185\n",
      "k=5;max_iter=300;batch_size=100;max_no_improvement=10;reassignment_ratio=0.005 288389 0.35282287384398925\n",
      "k=5;max_iter=300;batch_size=100;max_no_improvement=10;reassignment_ratio=0.01 670487 0.4993896314109676\n",
      "k=5;max_iter=300;batch_size=100;max_no_improvement=10;reassignment_ratio=0.01 116739 0.49921591072716365\n",
      "k=5;max_iter=300;batch_size=100;max_no_improvement=10;reassignment_ratio=0.01 26225 0.36687243432885186\n",
      "k=5;max_iter=300;batch_size=100;max_no_improvement=10;reassignment_ratio=0.01 777572 0.49812672182517537\n",
      "k=5;max_iter=300;batch_size=100;max_no_improvement=10;reassignment_ratio=0.01 288389 0.35282287384398925\n",
      "k=5;max_iter=300;batch_size=100;max_no_improvement=10;reassignment_ratio=0.1 670487 0.25573899252623433\n",
      "k=5;max_iter=300;batch_size=100;max_no_improvement=10;reassignment_ratio=0.1 116739 0.5011760148825324\n",
      "k=5;max_iter=300;batch_size=100;max_no_improvement=10;reassignment_ratio=0.1 26225 0.36687243432885186\n",
      "k=5;max_iter=300;batch_size=100;max_no_improvement=10;reassignment_ratio=0.1 777572 0.5041061232232462\n",
      "k=5;max_iter=300;batch_size=100;max_no_improvement=10;reassignment_ratio=0.1 288389 0.3815874605164234\n",
      "k=5;max_iter=300;batch_size=100;max_no_improvement=20;reassignment_ratio=0.005 670487 0.5045271930881159\n",
      "k=5;max_iter=300;batch_size=100;max_no_improvement=20;reassignment_ratio=0.005 116739 0.49948347957680256\n",
      "k=5;max_iter=300;batch_size=100;max_no_improvement=20;reassignment_ratio=0.005 26225 0.35901824205752414\n",
      "k=5;max_iter=300;batch_size=100;max_no_improvement=20;reassignment_ratio=0.005 777572 0.5195982375929121\n",
      "k=5;max_iter=300;batch_size=100;max_no_improvement=20;reassignment_ratio=0.005 288389 0.34750939145250426\n",
      "k=5;max_iter=300;batch_size=100;max_no_improvement=20;reassignment_ratio=0.01 670487 0.4967006097037653\n",
      "k=5;max_iter=300;batch_size=100;max_no_improvement=20;reassignment_ratio=0.01 116739 0.49948347957680256\n",
      "k=5;max_iter=300;batch_size=100;max_no_improvement=20;reassignment_ratio=0.01 26225 0.35901824205752414\n",
      "k=5;max_iter=300;batch_size=100;max_no_improvement=20;reassignment_ratio=0.01 777572 0.5037213711997909\n",
      "k=5;max_iter=300;batch_size=100;max_no_improvement=20;reassignment_ratio=0.01 288389 0.34750939145250426\n",
      "k=5;max_iter=300;batch_size=100;max_no_improvement=20;reassignment_ratio=0.1 670487 0.39926480543452414\n",
      "k=5;max_iter=300;batch_size=100;max_no_improvement=20;reassignment_ratio=0.1 116739 0.5119525086024401\n",
      "k=5;max_iter=300;batch_size=100;max_no_improvement=20;reassignment_ratio=0.1 26225 0.35901824205752414\n",
      "k=5;max_iter=300;batch_size=100;max_no_improvement=20;reassignment_ratio=0.1 777572 0.5041058776657528\n",
      "k=5;max_iter=300;batch_size=100;max_no_improvement=20;reassignment_ratio=0.1 288389 0.3997187655016534\n",
      "k=5;max_iter=300;batch_size=500;max_no_improvement=10;reassignment_ratio=0.005 670487 0.48254471387725884\n",
      "k=5;max_iter=300;batch_size=500;max_no_improvement=10;reassignment_ratio=0.005 116739 0.46481361261083454\n",
      "k=5;max_iter=300;batch_size=500;max_no_improvement=10;reassignment_ratio=0.005 26225 0.4721850516553266\n",
      "k=5;max_iter=300;batch_size=500;max_no_improvement=10;reassignment_ratio=0.005 777572 0.45670520317231555\n",
      "k=5;max_iter=300;batch_size=500;max_no_improvement=10;reassignment_ratio=0.005 288389 0.5114108060534385\n",
      "k=5;max_iter=300;batch_size=500;max_no_improvement=10;reassignment_ratio=0.01 670487 0.48254471387725884\n",
      "k=5;max_iter=300;batch_size=500;max_no_improvement=10;reassignment_ratio=0.01 116739 0.46481361261083454\n",
      "k=5;max_iter=300;batch_size=500;max_no_improvement=10;reassignment_ratio=0.01 26225 0.4721850516553266\n",
      "k=5;max_iter=300;batch_size=500;max_no_improvement=10;reassignment_ratio=0.01 777572 0.45670520317231555\n",
      "k=5;max_iter=300;batch_size=500;max_no_improvement=10;reassignment_ratio=0.01 288389 0.5114108060534385\n",
      "k=5;max_iter=300;batch_size=500;max_no_improvement=10;reassignment_ratio=0.1 670487 0.48254471387725884\n",
      "k=5;max_iter=300;batch_size=500;max_no_improvement=10;reassignment_ratio=0.1 116739 0.46481361261083454\n",
      "k=5;max_iter=300;batch_size=500;max_no_improvement=10;reassignment_ratio=0.1 26225 0.4721850516553266\n",
      "k=5;max_iter=300;batch_size=500;max_no_improvement=10;reassignment_ratio=0.1 777572 0.461517183773353\n",
      "k=5;max_iter=300;batch_size=500;max_no_improvement=10;reassignment_ratio=0.1 288389 0.5114108060534385\n",
      "k=5;max_iter=300;batch_size=500;max_no_improvement=20;reassignment_ratio=0.005 670487 0.4808605356120349\n"
     ]
    },
    {
     "name": "stdout",
     "output_type": "stream",
     "text": [
      "k=5;max_iter=300;batch_size=500;max_no_improvement=20;reassignment_ratio=0.005 116739 0.46813652733148636\n",
      "k=5;max_iter=300;batch_size=500;max_no_improvement=20;reassignment_ratio=0.005 26225 0.47355913040419567\n",
      "k=5;max_iter=300;batch_size=500;max_no_improvement=20;reassignment_ratio=0.005 777572 0.4567217288482447\n",
      "k=5;max_iter=300;batch_size=500;max_no_improvement=20;reassignment_ratio=0.005 288389 0.5111097551631902\n",
      "k=5;max_iter=300;batch_size=500;max_no_improvement=20;reassignment_ratio=0.01 670487 0.4808605356120349\n",
      "k=5;max_iter=300;batch_size=500;max_no_improvement=20;reassignment_ratio=0.01 116739 0.46813652733148636\n",
      "k=5;max_iter=300;batch_size=500;max_no_improvement=20;reassignment_ratio=0.01 26225 0.47355913040419567\n",
      "k=5;max_iter=300;batch_size=500;max_no_improvement=20;reassignment_ratio=0.01 777572 0.4567217288482447\n",
      "k=5;max_iter=300;batch_size=500;max_no_improvement=20;reassignment_ratio=0.01 288389 0.5111097551631902\n",
      "k=5;max_iter=300;batch_size=500;max_no_improvement=20;reassignment_ratio=0.1 670487 0.4808605356120349\n",
      "k=5;max_iter=300;batch_size=500;max_no_improvement=20;reassignment_ratio=0.1 116739 0.46813652733148636\n",
      "k=5;max_iter=300;batch_size=500;max_no_improvement=20;reassignment_ratio=0.1 26225 0.47355913040419567\n",
      "k=5;max_iter=300;batch_size=500;max_no_improvement=20;reassignment_ratio=0.1 777572 0.4695165015166024\n",
      "k=5;max_iter=300;batch_size=500;max_no_improvement=20;reassignment_ratio=0.1 288389 0.5111097551631902\n",
      "k=5;max_iter=300;batch_size=1024;max_no_improvement=10;reassignment_ratio=0.005 670487 0.48381007558402117\n",
      "k=5;max_iter=300;batch_size=1024;max_no_improvement=10;reassignment_ratio=0.005 116739 0.469078613420693\n",
      "k=5;max_iter=300;batch_size=1024;max_no_improvement=10;reassignment_ratio=0.005 26225 0.47962114278975043\n",
      "k=5;max_iter=300;batch_size=1024;max_no_improvement=10;reassignment_ratio=0.005 777572 0.45549201854637683\n",
      "k=5;max_iter=300;batch_size=1024;max_no_improvement=10;reassignment_ratio=0.005 288389 0.5072626426432657\n",
      "k=5;max_iter=300;batch_size=1024;max_no_improvement=10;reassignment_ratio=0.01 670487 0.48381007558402117\n",
      "k=5;max_iter=300;batch_size=1024;max_no_improvement=10;reassignment_ratio=0.01 116739 0.469078613420693\n",
      "k=5;max_iter=300;batch_size=1024;max_no_improvement=10;reassignment_ratio=0.01 26225 0.47962114278975043\n",
      "k=5;max_iter=300;batch_size=1024;max_no_improvement=10;reassignment_ratio=0.01 777572 0.45549201854637683\n",
      "k=5;max_iter=300;batch_size=1024;max_no_improvement=10;reassignment_ratio=0.01 288389 0.5072626426432657\n",
      "k=5;max_iter=300;batch_size=1024;max_no_improvement=10;reassignment_ratio=0.1 670487 0.48381007558402117\n",
      "k=5;max_iter=300;batch_size=1024;max_no_improvement=10;reassignment_ratio=0.1 116739 0.469078613420693\n",
      "k=5;max_iter=300;batch_size=1024;max_no_improvement=10;reassignment_ratio=0.1 26225 0.47962114278975043\n",
      "k=5;max_iter=300;batch_size=1024;max_no_improvement=10;reassignment_ratio=0.1 777572 0.44643468388176905\n",
      "k=5;max_iter=300;batch_size=1024;max_no_improvement=10;reassignment_ratio=0.1 288389 0.5072626426432657\n",
      "k=5;max_iter=300;batch_size=1024;max_no_improvement=20;reassignment_ratio=0.005 670487 0.4755124061890757\n",
      "k=5;max_iter=300;batch_size=1024;max_no_improvement=20;reassignment_ratio=0.005 116739 0.46937476677967516\n",
      "k=5;max_iter=300;batch_size=1024;max_no_improvement=20;reassignment_ratio=0.005 26225 0.4767623054269351\n",
      "k=5;max_iter=300;batch_size=1024;max_no_improvement=20;reassignment_ratio=0.005 777572 0.4554049707805796\n",
      "k=5;max_iter=300;batch_size=1024;max_no_improvement=20;reassignment_ratio=0.005 288389 0.509876987276025\n",
      "k=5;max_iter=300;batch_size=1024;max_no_improvement=20;reassignment_ratio=0.01 670487 0.4755124061890757\n",
      "k=5;max_iter=300;batch_size=1024;max_no_improvement=20;reassignment_ratio=0.01 116739 0.46937476677967516\n",
      "k=5;max_iter=300;batch_size=1024;max_no_improvement=20;reassignment_ratio=0.01 26225 0.4767623054269351\n",
      "k=5;max_iter=300;batch_size=1024;max_no_improvement=20;reassignment_ratio=0.01 777572 0.4554049707805796\n",
      "k=5;max_iter=300;batch_size=1024;max_no_improvement=20;reassignment_ratio=0.01 288389 0.509876987276025\n",
      "k=5;max_iter=300;batch_size=1024;max_no_improvement=20;reassignment_ratio=0.1 670487 0.4755124061890757\n",
      "k=5;max_iter=300;batch_size=1024;max_no_improvement=20;reassignment_ratio=0.1 116739 0.46937476677967516\n",
      "k=5;max_iter=300;batch_size=1024;max_no_improvement=20;reassignment_ratio=0.1 26225 0.4767623054269351\n",
      "k=5;max_iter=300;batch_size=1024;max_no_improvement=20;reassignment_ratio=0.1 777572 0.4544838328399783\n",
      "k=5;max_iter=300;batch_size=1024;max_no_improvement=20;reassignment_ratio=0.1 288389 0.509876987276025\n",
      "k=6;max_iter=300;batch_size=100;max_no_improvement=10;reassignment_ratio=0.005 670487 0.44343563198735714\n",
      "k=6;max_iter=300;batch_size=100;max_no_improvement=10;reassignment_ratio=0.005 116739 0.42068029779677346\n",
      "k=6;max_iter=300;batch_size=100;max_no_improvement=10;reassignment_ratio=0.005 26225 0.4426381707803694\n",
      "k=6;max_iter=300;batch_size=100;max_no_improvement=10;reassignment_ratio=0.005 777572 0.4585975150678688\n",
      "k=6;max_iter=300;batch_size=100;max_no_improvement=10;reassignment_ratio=0.005 288389 0.413219215562684\n",
      "k=6;max_iter=300;batch_size=100;max_no_improvement=10;reassignment_ratio=0.01 670487 0.44343563198735714\n",
      "k=6;max_iter=300;batch_size=100;max_no_improvement=10;reassignment_ratio=0.01 116739 0.42068029779677346\n",
      "k=6;max_iter=300;batch_size=100;max_no_improvement=10;reassignment_ratio=0.01 26225 0.44550050030833677\n",
      "k=6;max_iter=300;batch_size=100;max_no_improvement=10;reassignment_ratio=0.01 777572 0.46020960656464094\n",
      "k=6;max_iter=300;batch_size=100;max_no_improvement=10;reassignment_ratio=0.01 288389 0.413219215562684\n",
      "k=6;max_iter=300;batch_size=100;max_no_improvement=10;reassignment_ratio=0.1 670487 0.4506549343497279\n",
      "k=6;max_iter=300;batch_size=100;max_no_improvement=10;reassignment_ratio=0.1 116739 0.42068029779677346\n",
      "k=6;max_iter=300;batch_size=100;max_no_improvement=10;reassignment_ratio=0.1 26225 0.41105398275071003\n",
      "k=6;max_iter=300;batch_size=100;max_no_improvement=10;reassignment_ratio=0.1 777572 0.4373998672089112\n",
      "k=6;max_iter=300;batch_size=100;max_no_improvement=10;reassignment_ratio=0.1 288389 0.413219215562684\n",
      "k=6;max_iter=300;batch_size=100;max_no_improvement=20;reassignment_ratio=0.005 670487 0.46351668194354007\n",
      "k=6;max_iter=300;batch_size=100;max_no_improvement=20;reassignment_ratio=0.005 116739 0.4464681903375407\n",
      "k=6;max_iter=300;batch_size=100;max_no_improvement=20;reassignment_ratio=0.005 26225 0.44774069742236\n",
      "k=6;max_iter=300;batch_size=100;max_no_improvement=20;reassignment_ratio=0.005 777572 0.45900094158564797\n",
      "k=6;max_iter=300;batch_size=100;max_no_improvement=20;reassignment_ratio=0.005 288389 0.4120279062056351\n",
      "k=6;max_iter=300;batch_size=100;max_no_improvement=20;reassignment_ratio=0.01 670487 0.46350513443756103\n",
      "k=6;max_iter=300;batch_size=100;max_no_improvement=20;reassignment_ratio=0.01 116739 0.4464681903375407\n",
      "k=6;max_iter=300;batch_size=100;max_no_improvement=20;reassignment_ratio=0.01 26225 0.4478198853673834\n",
      "k=6;max_iter=300;batch_size=100;max_no_improvement=20;reassignment_ratio=0.01 777572 0.4644289047937182\n",
      "k=6;max_iter=300;batch_size=100;max_no_improvement=20;reassignment_ratio=0.01 288389 0.4120279062056351\n",
      "k=6;max_iter=300;batch_size=100;max_no_improvement=20;reassignment_ratio=0.1 670487 0.45770666725592285\n",
      "k=6;max_iter=300;batch_size=100;max_no_improvement=20;reassignment_ratio=0.1 116739 0.4464681903375407\n",
      "k=6;max_iter=300;batch_size=100;max_no_improvement=20;reassignment_ratio=0.1 26225 0.43121788405459094\n",
      "k=6;max_iter=300;batch_size=100;max_no_improvement=20;reassignment_ratio=0.1 777572 0.4430773265622689\n",
      "k=6;max_iter=300;batch_size=100;max_no_improvement=20;reassignment_ratio=0.1 288389 0.4120279062056351\n",
      "k=6;max_iter=300;batch_size=500;max_no_improvement=10;reassignment_ratio=0.005 670487 0.45319792441523865\n",
      "k=6;max_iter=300;batch_size=500;max_no_improvement=10;reassignment_ratio=0.005 116739 0.4679783771946502\n",
      "k=6;max_iter=300;batch_size=500;max_no_improvement=10;reassignment_ratio=0.005 26225 0.497287113171498\n",
      "k=6;max_iter=300;batch_size=500;max_no_improvement=10;reassignment_ratio=0.005 777572 0.28026100209334376\n",
      "k=6;max_iter=300;batch_size=500;max_no_improvement=10;reassignment_ratio=0.005 288389 0.5029259394189989\n"
     ]
    },
    {
     "name": "stdout",
     "output_type": "stream",
     "text": [
      "k=6;max_iter=300;batch_size=500;max_no_improvement=10;reassignment_ratio=0.01 670487 0.45319792441523865\n",
      "k=6;max_iter=300;batch_size=500;max_no_improvement=10;reassignment_ratio=0.01 116739 0.4679783771946502\n",
      "k=6;max_iter=300;batch_size=500;max_no_improvement=10;reassignment_ratio=0.01 26225 0.5034060389176824\n",
      "k=6;max_iter=300;batch_size=500;max_no_improvement=10;reassignment_ratio=0.01 777572 0.28026100209334376\n",
      "k=6;max_iter=300;batch_size=500;max_no_improvement=10;reassignment_ratio=0.01 288389 0.5029259394189989\n",
      "k=6;max_iter=300;batch_size=500;max_no_improvement=10;reassignment_ratio=0.1 670487 0.47129486950253763\n",
      "k=6;max_iter=300;batch_size=500;max_no_improvement=10;reassignment_ratio=0.1 116739 0.4679783771946502\n",
      "k=6;max_iter=300;batch_size=500;max_no_improvement=10;reassignment_ratio=0.1 26225 0.5041732938107658\n",
      "k=6;max_iter=300;batch_size=500;max_no_improvement=10;reassignment_ratio=0.1 777572 0.28026100209334376\n",
      "k=6;max_iter=300;batch_size=500;max_no_improvement=10;reassignment_ratio=0.1 288389 0.5029932746735799\n",
      "k=6;max_iter=300;batch_size=500;max_no_improvement=20;reassignment_ratio=0.005 670487 0.4511434387088446\n",
      "k=6;max_iter=300;batch_size=500;max_no_improvement=20;reassignment_ratio=0.005 116739 0.478488836346325\n",
      "k=6;max_iter=300;batch_size=500;max_no_improvement=20;reassignment_ratio=0.005 26225 0.4995135364206583\n",
      "k=6;max_iter=300;batch_size=500;max_no_improvement=20;reassignment_ratio=0.005 777572 0.2712845432616308\n",
      "k=6;max_iter=300;batch_size=500;max_no_improvement=20;reassignment_ratio=0.005 288389 0.5020682471210173\n",
      "k=6;max_iter=300;batch_size=500;max_no_improvement=20;reassignment_ratio=0.01 670487 0.4511434387088446\n",
      "k=6;max_iter=300;batch_size=500;max_no_improvement=20;reassignment_ratio=0.01 116739 0.478488836346325\n",
      "k=6;max_iter=300;batch_size=500;max_no_improvement=20;reassignment_ratio=0.01 26225 0.5033031277041186\n",
      "k=6;max_iter=300;batch_size=500;max_no_improvement=20;reassignment_ratio=0.01 777572 0.2712845432616308\n",
      "k=6;max_iter=300;batch_size=500;max_no_improvement=20;reassignment_ratio=0.01 288389 0.5020682471210173\n",
      "k=6;max_iter=300;batch_size=500;max_no_improvement=20;reassignment_ratio=0.1 670487 0.473586881909507\n",
      "k=6;max_iter=300;batch_size=500;max_no_improvement=20;reassignment_ratio=0.1 116739 0.478488836346325\n",
      "k=6;max_iter=300;batch_size=500;max_no_improvement=20;reassignment_ratio=0.1 26225 0.5036677641068904\n",
      "k=6;max_iter=300;batch_size=500;max_no_improvement=20;reassignment_ratio=0.1 777572 0.2712845432616308\n",
      "k=6;max_iter=300;batch_size=500;max_no_improvement=20;reassignment_ratio=0.1 288389 0.5059162246114359\n",
      "k=6;max_iter=300;batch_size=1024;max_no_improvement=10;reassignment_ratio=0.005 670487 0.46736743118516877\n",
      "k=6;max_iter=300;batch_size=1024;max_no_improvement=10;reassignment_ratio=0.005 116739 0.4860518327119227\n",
      "k=6;max_iter=300;batch_size=1024;max_no_improvement=10;reassignment_ratio=0.005 26225 0.5046235145942481\n",
      "k=6;max_iter=300;batch_size=1024;max_no_improvement=10;reassignment_ratio=0.005 777572 0.28150486538548214\n",
      "k=6;max_iter=300;batch_size=1024;max_no_improvement=10;reassignment_ratio=0.005 288389 0.5044817781409761\n",
      "k=6;max_iter=300;batch_size=1024;max_no_improvement=10;reassignment_ratio=0.01 670487 0.46736743118516877\n",
      "k=6;max_iter=300;batch_size=1024;max_no_improvement=10;reassignment_ratio=0.01 116739 0.4860518327119227\n",
      "k=6;max_iter=300;batch_size=1024;max_no_improvement=10;reassignment_ratio=0.01 26225 0.4963771075088672\n",
      "k=6;max_iter=300;batch_size=1024;max_no_improvement=10;reassignment_ratio=0.01 777572 0.28150486538548214\n",
      "k=6;max_iter=300;batch_size=1024;max_no_improvement=10;reassignment_ratio=0.01 288389 0.5044817781409761\n",
      "k=6;max_iter=300;batch_size=1024;max_no_improvement=10;reassignment_ratio=0.1 670487 0.4618458479417107\n",
      "k=6;max_iter=300;batch_size=1024;max_no_improvement=10;reassignment_ratio=0.1 116739 0.4860518327119227\n",
      "k=6;max_iter=300;batch_size=1024;max_no_improvement=10;reassignment_ratio=0.1 26225 0.5077994544999631\n",
      "k=6;max_iter=300;batch_size=1024;max_no_improvement=10;reassignment_ratio=0.1 777572 0.4679844552723964\n",
      "k=6;max_iter=300;batch_size=1024;max_no_improvement=10;reassignment_ratio=0.1 288389 0.5063137467359028\n",
      "k=6;max_iter=300;batch_size=1024;max_no_improvement=20;reassignment_ratio=0.005 670487 0.46714248812649084\n",
      "k=6;max_iter=300;batch_size=1024;max_no_improvement=20;reassignment_ratio=0.005 116739 0.4883461938748027\n",
      "k=6;max_iter=300;batch_size=1024;max_no_improvement=20;reassignment_ratio=0.005 26225 0.5026249611711415\n",
      "k=6;max_iter=300;batch_size=1024;max_no_improvement=20;reassignment_ratio=0.005 777572 0.2759391831611472\n",
      "k=6;max_iter=300;batch_size=1024;max_no_improvement=20;reassignment_ratio=0.005 288389 0.506752645426845\n",
      "k=6;max_iter=300;batch_size=1024;max_no_improvement=20;reassignment_ratio=0.01 670487 0.46714248812649084\n",
      "k=6;max_iter=300;batch_size=1024;max_no_improvement=20;reassignment_ratio=0.01 116739 0.4883461938748027\n",
      "k=6;max_iter=300;batch_size=1024;max_no_improvement=20;reassignment_ratio=0.01 26225 0.49290376107401257\n",
      "k=6;max_iter=300;batch_size=1024;max_no_improvement=20;reassignment_ratio=0.01 777572 0.2759391831611472\n",
      "k=6;max_iter=300;batch_size=1024;max_no_improvement=20;reassignment_ratio=0.01 288389 0.506752645426845\n",
      "k=6;max_iter=300;batch_size=1024;max_no_improvement=20;reassignment_ratio=0.1 670487 0.4670402408251875\n",
      "k=6;max_iter=300;batch_size=1024;max_no_improvement=20;reassignment_ratio=0.1 116739 0.4883461938748027\n",
      "k=6;max_iter=300;batch_size=1024;max_no_improvement=20;reassignment_ratio=0.1 26225 0.5062436795677439\n",
      "k=6;max_iter=300;batch_size=1024;max_no_improvement=20;reassignment_ratio=0.1 777572 0.4692981919836148\n",
      "k=6;max_iter=300;batch_size=1024;max_no_improvement=20;reassignment_ratio=0.1 288389 0.5093916529577993\n",
      "k=7;max_iter=300;batch_size=100;max_no_improvement=10;reassignment_ratio=0.005 670487 0.5035008271386222\n",
      "k=7;max_iter=300;batch_size=100;max_no_improvement=10;reassignment_ratio=0.005 116739 0.34178844703078165\n",
      "k=7;max_iter=300;batch_size=100;max_no_improvement=10;reassignment_ratio=0.005 26225 0.47272338127227426\n",
      "k=7;max_iter=300;batch_size=100;max_no_improvement=10;reassignment_ratio=0.005 777572 0.49017827149813653\n",
      "k=7;max_iter=300;batch_size=100;max_no_improvement=10;reassignment_ratio=0.005 288389 0.42965274423153876\n",
      "k=7;max_iter=300;batch_size=100;max_no_improvement=10;reassignment_ratio=0.01 670487 0.5035008271386222\n",
      "k=7;max_iter=300;batch_size=100;max_no_improvement=10;reassignment_ratio=0.01 116739 0.3436206741739194\n",
      "k=7;max_iter=300;batch_size=100;max_no_improvement=10;reassignment_ratio=0.01 26225 0.47272338127227426\n",
      "k=7;max_iter=300;batch_size=100;max_no_improvement=10;reassignment_ratio=0.01 777572 0.5029637706997487\n",
      "k=7;max_iter=300;batch_size=100;max_no_improvement=10;reassignment_ratio=0.01 288389 0.42965274423153876\n",
      "k=7;max_iter=300;batch_size=100;max_no_improvement=10;reassignment_ratio=0.1 670487 0.5076839488074953\n",
      "k=7;max_iter=300;batch_size=100;max_no_improvement=10;reassignment_ratio=0.1 116739 0.46423109228424675\n",
      "k=7;max_iter=300;batch_size=100;max_no_improvement=10;reassignment_ratio=0.1 26225 0.47272338127227426\n",
      "k=7;max_iter=300;batch_size=100;max_no_improvement=10;reassignment_ratio=0.1 777572 0.5154753971576718\n",
      "k=7;max_iter=300;batch_size=100;max_no_improvement=10;reassignment_ratio=0.1 288389 0.42965274423153876\n",
      "k=7;max_iter=300;batch_size=100;max_no_improvement=20;reassignment_ratio=0.005 670487 0.5079667565777339\n",
      "k=7;max_iter=300;batch_size=100;max_no_improvement=20;reassignment_ratio=0.005 116739 0.33812917977501344\n",
      "k=7;max_iter=300;batch_size=100;max_no_improvement=20;reassignment_ratio=0.005 26225 0.4775683137616707\n",
      "k=7;max_iter=300;batch_size=100;max_no_improvement=20;reassignment_ratio=0.005 777572 0.49215142453636185\n",
      "k=7;max_iter=300;batch_size=100;max_no_improvement=20;reassignment_ratio=0.005 288389 0.4293976694246753\n",
      "k=7;max_iter=300;batch_size=100;max_no_improvement=20;reassignment_ratio=0.01 670487 0.5079667565777339\n",
      "k=7;max_iter=300;batch_size=100;max_no_improvement=20;reassignment_ratio=0.01 116739 0.33817815057538925\n",
      "k=7;max_iter=300;batch_size=100;max_no_improvement=20;reassignment_ratio=0.01 26225 0.4775683137616707\n",
      "k=7;max_iter=300;batch_size=100;max_no_improvement=20;reassignment_ratio=0.01 777572 0.502991036670889\n"
     ]
    },
    {
     "name": "stdout",
     "output_type": "stream",
     "text": [
      "k=7;max_iter=300;batch_size=100;max_no_improvement=20;reassignment_ratio=0.01 288389 0.4293976694246753\n",
      "k=7;max_iter=300;batch_size=100;max_no_improvement=20;reassignment_ratio=0.1 670487 0.5036714077196153\n",
      "k=7;max_iter=300;batch_size=100;max_no_improvement=20;reassignment_ratio=0.1 116739 0.4728070964686891\n",
      "k=7;max_iter=300;batch_size=100;max_no_improvement=20;reassignment_ratio=0.1 26225 0.4775683137616707\n",
      "k=7;max_iter=300;batch_size=100;max_no_improvement=20;reassignment_ratio=0.1 777572 0.5224059331278581\n",
      "k=7;max_iter=300;batch_size=100;max_no_improvement=20;reassignment_ratio=0.1 288389 0.4293976694246753\n",
      "k=7;max_iter=300;batch_size=500;max_no_improvement=10;reassignment_ratio=0.005 670487 0.4151526760068969\n",
      "k=7;max_iter=300;batch_size=500;max_no_improvement=10;reassignment_ratio=0.005 116739 0.45737283046516464\n",
      "k=7;max_iter=300;batch_size=500;max_no_improvement=10;reassignment_ratio=0.005 26225 0.3684573651527719\n",
      "k=7;max_iter=300;batch_size=500;max_no_improvement=10;reassignment_ratio=0.005 777572 0.47138025827283114\n",
      "k=7;max_iter=300;batch_size=500;max_no_improvement=10;reassignment_ratio=0.005 288389 0.4901676139748495\n",
      "k=7;max_iter=300;batch_size=500;max_no_improvement=10;reassignment_ratio=0.01 670487 0.4151526760068969\n",
      "k=7;max_iter=300;batch_size=500;max_no_improvement=10;reassignment_ratio=0.01 116739 0.45737283046516464\n",
      "k=7;max_iter=300;batch_size=500;max_no_improvement=10;reassignment_ratio=0.01 26225 0.36719766102141316\n",
      "k=7;max_iter=300;batch_size=500;max_no_improvement=10;reassignment_ratio=0.01 777572 0.47138025827283114\n",
      "k=7;max_iter=300;batch_size=500;max_no_improvement=10;reassignment_ratio=0.01 288389 0.4901676139748495\n",
      "k=7;max_iter=300;batch_size=500;max_no_improvement=10;reassignment_ratio=0.1 670487 0.45597743348376496\n",
      "k=7;max_iter=300;batch_size=500;max_no_improvement=10;reassignment_ratio=0.1 116739 0.21091284518157277\n",
      "k=7;max_iter=300;batch_size=500;max_no_improvement=10;reassignment_ratio=0.1 26225 0.38000123075235126\n",
      "k=7;max_iter=300;batch_size=500;max_no_improvement=10;reassignment_ratio=0.1 777572 0.4383402208894259\n",
      "k=7;max_iter=300;batch_size=500;max_no_improvement=10;reassignment_ratio=0.1 288389 0.4945059609498781\n",
      "k=7;max_iter=300;batch_size=500;max_no_improvement=20;reassignment_ratio=0.005 670487 0.4156797215629549\n",
      "k=7;max_iter=300;batch_size=500;max_no_improvement=20;reassignment_ratio=0.005 116739 0.4608101134430308\n",
      "k=7;max_iter=300;batch_size=500;max_no_improvement=20;reassignment_ratio=0.005 26225 0.36450463282579293\n",
      "k=7;max_iter=300;batch_size=500;max_no_improvement=20;reassignment_ratio=0.005 777572 0.4780143963377833\n",
      "k=7;max_iter=300;batch_size=500;max_no_improvement=20;reassignment_ratio=0.005 288389 0.4873023596671278\n",
      "k=7;max_iter=300;batch_size=500;max_no_improvement=20;reassignment_ratio=0.01 670487 0.4156797215629549\n",
      "k=7;max_iter=300;batch_size=500;max_no_improvement=20;reassignment_ratio=0.01 116739 0.4608101134430308\n",
      "k=7;max_iter=300;batch_size=500;max_no_improvement=20;reassignment_ratio=0.01 26225 0.365233229391419\n",
      "k=7;max_iter=300;batch_size=500;max_no_improvement=20;reassignment_ratio=0.01 777572 0.4780143963377833\n",
      "k=7;max_iter=300;batch_size=500;max_no_improvement=20;reassignment_ratio=0.01 288389 0.4873023596671278\n",
      "k=7;max_iter=300;batch_size=500;max_no_improvement=20;reassignment_ratio=0.1 670487 0.457753000267918\n",
      "k=7;max_iter=300;batch_size=500;max_no_improvement=20;reassignment_ratio=0.1 116739 0.25485395742853406\n",
      "k=7;max_iter=300;batch_size=500;max_no_improvement=20;reassignment_ratio=0.1 26225 0.36746142020770156\n",
      "k=7;max_iter=300;batch_size=500;max_no_improvement=20;reassignment_ratio=0.1 777572 0.44194906802806594\n",
      "k=7;max_iter=300;batch_size=500;max_no_improvement=20;reassignment_ratio=0.1 288389 0.4932399616390647\n",
      "k=7;max_iter=300;batch_size=1024;max_no_improvement=10;reassignment_ratio=0.005 670487 0.41321214139839746\n",
      "k=7;max_iter=300;batch_size=1024;max_no_improvement=10;reassignment_ratio=0.005 116739 0.49322414574572565\n",
      "k=7;max_iter=300;batch_size=1024;max_no_improvement=10;reassignment_ratio=0.005 26225 0.3872478228998364\n",
      "k=7;max_iter=300;batch_size=1024;max_no_improvement=10;reassignment_ratio=0.005 777572 0.43781767428556834\n",
      "k=7;max_iter=300;batch_size=1024;max_no_improvement=10;reassignment_ratio=0.005 288389 0.4969953361552301\n",
      "k=7;max_iter=300;batch_size=1024;max_no_improvement=10;reassignment_ratio=0.01 670487 0.41321214139839746\n",
      "k=7;max_iter=300;batch_size=1024;max_no_improvement=10;reassignment_ratio=0.01 116739 0.49322414574572565\n",
      "k=7;max_iter=300;batch_size=1024;max_no_improvement=10;reassignment_ratio=0.01 26225 0.3916177886813309\n",
      "k=7;max_iter=300;batch_size=1024;max_no_improvement=10;reassignment_ratio=0.01 777572 0.43781767428556834\n",
      "k=7;max_iter=300;batch_size=1024;max_no_improvement=10;reassignment_ratio=0.01 288389 0.4969953361552301\n",
      "k=7;max_iter=300;batch_size=1024;max_no_improvement=10;reassignment_ratio=0.1 670487 0.44821030993573885\n",
      "k=7;max_iter=300;batch_size=1024;max_no_improvement=10;reassignment_ratio=0.1 116739 0.08872878296980378\n",
      "k=7;max_iter=300;batch_size=1024;max_no_improvement=10;reassignment_ratio=0.1 26225 0.3878668338632272\n",
      "k=7;max_iter=300;batch_size=1024;max_no_improvement=10;reassignment_ratio=0.1 777572 0.4334357402733806\n",
      "k=7;max_iter=300;batch_size=1024;max_no_improvement=10;reassignment_ratio=0.1 288389 0.5092134438729135\n",
      "k=7;max_iter=300;batch_size=1024;max_no_improvement=20;reassignment_ratio=0.005 670487 0.419525731411014\n",
      "k=7;max_iter=300;batch_size=1024;max_no_improvement=20;reassignment_ratio=0.005 116739 0.49454321977514115\n",
      "k=7;max_iter=300;batch_size=1024;max_no_improvement=20;reassignment_ratio=0.005 26225 0.381365695647465\n",
      "k=7;max_iter=300;batch_size=1024;max_no_improvement=20;reassignment_ratio=0.005 777572 0.4373546280849209\n",
      "k=7;max_iter=300;batch_size=1024;max_no_improvement=20;reassignment_ratio=0.005 288389 0.4947723259941901\n",
      "k=7;max_iter=300;batch_size=1024;max_no_improvement=20;reassignment_ratio=0.01 670487 0.419525731411014\n",
      "k=7;max_iter=300;batch_size=1024;max_no_improvement=20;reassignment_ratio=0.01 116739 0.49454321977514115\n",
      "k=7;max_iter=300;batch_size=1024;max_no_improvement=20;reassignment_ratio=0.01 26225 0.3837657063494971\n",
      "k=7;max_iter=300;batch_size=1024;max_no_improvement=20;reassignment_ratio=0.01 777572 0.4373546280849209\n",
      "k=7;max_iter=300;batch_size=1024;max_no_improvement=20;reassignment_ratio=0.01 288389 0.4947723259941901\n",
      "k=7;max_iter=300;batch_size=1024;max_no_improvement=20;reassignment_ratio=0.1 670487 0.454447170376832\n",
      "k=7;max_iter=300;batch_size=1024;max_no_improvement=20;reassignment_ratio=0.1 116739 0.0994309388661967\n",
      "k=7;max_iter=300;batch_size=1024;max_no_improvement=20;reassignment_ratio=0.1 26225 0.38506145063221686\n",
      "k=7;max_iter=300;batch_size=1024;max_no_improvement=20;reassignment_ratio=0.1 777572 0.4460068164551284\n",
      "k=7;max_iter=300;batch_size=1024;max_no_improvement=20;reassignment_ratio=0.1 288389 0.5017110375265739\n",
      "k=8;max_iter=300;batch_size=100;max_no_improvement=10;reassignment_ratio=0.005 670487 0.2902733067699965\n",
      "k=8;max_iter=300;batch_size=100;max_no_improvement=10;reassignment_ratio=0.005 116739 0.4257463715215879\n",
      "k=8;max_iter=300;batch_size=100;max_no_improvement=10;reassignment_ratio=0.005 26225 0.28747706451271327\n",
      "k=8;max_iter=300;batch_size=100;max_no_improvement=10;reassignment_ratio=0.005 777572 0.4751011587429773\n",
      "k=8;max_iter=300;batch_size=100;max_no_improvement=10;reassignment_ratio=0.005 288389 0.48333130341804126\n",
      "k=8;max_iter=300;batch_size=100;max_no_improvement=10;reassignment_ratio=0.01 670487 0.28791026525136343\n",
      "k=8;max_iter=300;batch_size=100;max_no_improvement=10;reassignment_ratio=0.01 116739 0.4252879694924764\n",
      "k=8;max_iter=300;batch_size=100;max_no_improvement=10;reassignment_ratio=0.01 26225 0.2847431582205625\n",
      "k=8;max_iter=300;batch_size=100;max_no_improvement=10;reassignment_ratio=0.01 777572 0.4751011587429773\n",
      "k=8;max_iter=300;batch_size=100;max_no_improvement=10;reassignment_ratio=0.01 288389 0.47168592785590546\n",
      "k=8;max_iter=300;batch_size=100;max_no_improvement=10;reassignment_ratio=0.1 670487 0.2908482231703067\n",
      "k=8;max_iter=300;batch_size=100;max_no_improvement=10;reassignment_ratio=0.1 116739 0.48995374172708805\n",
      "k=8;max_iter=300;batch_size=100;max_no_improvement=10;reassignment_ratio=0.1 26225 0.46508051229596636\n"
     ]
    },
    {
     "name": "stdout",
     "output_type": "stream",
     "text": [
      "k=8;max_iter=300;batch_size=100;max_no_improvement=10;reassignment_ratio=0.1 777572 0.4669425943126659\n",
      "k=8;max_iter=300;batch_size=100;max_no_improvement=10;reassignment_ratio=0.1 288389 0.47323846311331474\n",
      "k=8;max_iter=300;batch_size=100;max_no_improvement=20;reassignment_ratio=0.005 670487 0.29364734663738756\n",
      "k=8;max_iter=300;batch_size=100;max_no_improvement=20;reassignment_ratio=0.005 116739 0.42072713404283435\n",
      "k=8;max_iter=300;batch_size=100;max_no_improvement=20;reassignment_ratio=0.005 26225 0.29766659444759247\n",
      "k=8;max_iter=300;batch_size=100;max_no_improvement=20;reassignment_ratio=0.005 777572 0.4765129490726927\n",
      "k=8;max_iter=300;batch_size=100;max_no_improvement=20;reassignment_ratio=0.005 288389 0.4836688149955724\n",
      "k=8;max_iter=300;batch_size=100;max_no_improvement=20;reassignment_ratio=0.01 670487 0.2912937460057228\n",
      "k=8;max_iter=300;batch_size=100;max_no_improvement=20;reassignment_ratio=0.01 116739 0.41890694758303004\n",
      "k=8;max_iter=300;batch_size=100;max_no_improvement=20;reassignment_ratio=0.01 26225 0.29766713746142537\n",
      "k=8;max_iter=300;batch_size=100;max_no_improvement=20;reassignment_ratio=0.01 777572 0.4765129490726927\n",
      "k=8;max_iter=300;batch_size=100;max_no_improvement=20;reassignment_ratio=0.01 288389 0.46970014899187323\n",
      "k=8;max_iter=300;batch_size=100;max_no_improvement=20;reassignment_ratio=0.1 670487 0.2937948479227551\n",
      "k=8;max_iter=300;batch_size=100;max_no_improvement=20;reassignment_ratio=0.1 116739 0.48814727292064264\n",
      "k=8;max_iter=300;batch_size=100;max_no_improvement=20;reassignment_ratio=0.1 26225 0.46111162234593145\n",
      "k=8;max_iter=300;batch_size=100;max_no_improvement=20;reassignment_ratio=0.1 777572 0.47321880171002073\n",
      "k=8;max_iter=300;batch_size=100;max_no_improvement=20;reassignment_ratio=0.1 288389 0.47324615628136496\n",
      "k=8;max_iter=300;batch_size=500;max_no_improvement=10;reassignment_ratio=0.005 670487 0.26845949312586254\n",
      "k=8;max_iter=300;batch_size=500;max_no_improvement=10;reassignment_ratio=0.005 116739 0.3310315799272363\n",
      "k=8;max_iter=300;batch_size=500;max_no_improvement=10;reassignment_ratio=0.005 26225 0.31891466127110457\n",
      "k=8;max_iter=300;batch_size=500;max_no_improvement=10;reassignment_ratio=0.005 777572 0.4934560913294651\n",
      "k=8;max_iter=300;batch_size=500;max_no_improvement=10;reassignment_ratio=0.005 288389 0.3822497745640702\n",
      "k=8;max_iter=300;batch_size=500;max_no_improvement=10;reassignment_ratio=0.01 670487 0.26845949312586254\n",
      "k=8;max_iter=300;batch_size=500;max_no_improvement=10;reassignment_ratio=0.01 116739 0.3310315799272363\n",
      "k=8;max_iter=300;batch_size=500;max_no_improvement=10;reassignment_ratio=0.01 26225 0.31891466127110457\n",
      "k=8;max_iter=300;batch_size=500;max_no_improvement=10;reassignment_ratio=0.01 777572 0.4934560913294651\n",
      "k=8;max_iter=300;batch_size=500;max_no_improvement=10;reassignment_ratio=0.01 288389 0.3822497745640702\n",
      "k=8;max_iter=300;batch_size=500;max_no_improvement=10;reassignment_ratio=0.1 670487 0.2955900149640134\n",
      "k=8;max_iter=300;batch_size=500;max_no_improvement=10;reassignment_ratio=0.1 116739 0.32576306560981794\n",
      "k=8;max_iter=300;batch_size=500;max_no_improvement=10;reassignment_ratio=0.1 26225 0.49432494074679156\n",
      "k=8;max_iter=300;batch_size=500;max_no_improvement=10;reassignment_ratio=0.1 777572 0.49815749150872596\n",
      "k=8;max_iter=300;batch_size=500;max_no_improvement=10;reassignment_ratio=0.1 288389 0.5011810036493339\n",
      "k=8;max_iter=300;batch_size=500;max_no_improvement=20;reassignment_ratio=0.005 670487 0.2709951259002198\n",
      "k=8;max_iter=300;batch_size=500;max_no_improvement=20;reassignment_ratio=0.005 116739 0.32914091549635643\n",
      "k=8;max_iter=300;batch_size=500;max_no_improvement=20;reassignment_ratio=0.005 26225 0.3125763937548457\n",
      "k=8;max_iter=300;batch_size=500;max_no_improvement=20;reassignment_ratio=0.005 777572 0.49038709545645115\n",
      "k=8;max_iter=300;batch_size=500;max_no_improvement=20;reassignment_ratio=0.005 288389 0.3749524717685995\n",
      "k=8;max_iter=300;batch_size=500;max_no_improvement=20;reassignment_ratio=0.01 670487 0.2709951259002198\n",
      "k=8;max_iter=300;batch_size=500;max_no_improvement=20;reassignment_ratio=0.01 116739 0.32914091549635643\n",
      "k=8;max_iter=300;batch_size=500;max_no_improvement=20;reassignment_ratio=0.01 26225 0.3125763937548457\n",
      "k=8;max_iter=300;batch_size=500;max_no_improvement=20;reassignment_ratio=0.01 777572 0.49038709545645115\n",
      "k=8;max_iter=300;batch_size=500;max_no_improvement=20;reassignment_ratio=0.01 288389 0.3749524717685995\n",
      "k=8;max_iter=300;batch_size=500;max_no_improvement=20;reassignment_ratio=0.1 670487 0.3001861192335076\n",
      "k=8;max_iter=300;batch_size=500;max_no_improvement=20;reassignment_ratio=0.1 116739 0.32689275829044306\n",
      "k=8;max_iter=300;batch_size=500;max_no_improvement=20;reassignment_ratio=0.1 26225 0.4942166416820106\n",
      "k=8;max_iter=300;batch_size=500;max_no_improvement=20;reassignment_ratio=0.1 777572 0.4982157715694738\n",
      "k=8;max_iter=300;batch_size=500;max_no_improvement=20;reassignment_ratio=0.1 288389 0.5019209931786517\n",
      "k=8;max_iter=300;batch_size=1024;max_no_improvement=10;reassignment_ratio=0.005 670487 0.244821128869886\n",
      "k=8;max_iter=300;batch_size=1024;max_no_improvement=10;reassignment_ratio=0.005 116739 0.3373996940622538\n",
      "k=8;max_iter=300;batch_size=1024;max_no_improvement=10;reassignment_ratio=0.005 26225 0.2711239579078996\n",
      "k=8;max_iter=300;batch_size=1024;max_no_improvement=10;reassignment_ratio=0.005 777572 0.4815739009340203\n",
      "k=8;max_iter=300;batch_size=1024;max_no_improvement=10;reassignment_ratio=0.005 288389 0.36458932139765976\n",
      "k=8;max_iter=300;batch_size=1024;max_no_improvement=10;reassignment_ratio=0.01 670487 0.244821128869886\n",
      "k=8;max_iter=300;batch_size=1024;max_no_improvement=10;reassignment_ratio=0.01 116739 0.3373996940622538\n",
      "k=8;max_iter=300;batch_size=1024;max_no_improvement=10;reassignment_ratio=0.01 26225 0.2711239579078996\n",
      "k=8;max_iter=300;batch_size=1024;max_no_improvement=10;reassignment_ratio=0.01 777572 0.4815739009340203\n",
      "k=8;max_iter=300;batch_size=1024;max_no_improvement=10;reassignment_ratio=0.01 288389 0.36458932139765976\n",
      "k=8;max_iter=300;batch_size=1024;max_no_improvement=10;reassignment_ratio=0.1 670487 0.4745625528319069\n",
      "k=8;max_iter=300;batch_size=1024;max_no_improvement=10;reassignment_ratio=0.1 116739 0.3281728922490702\n",
      "k=8;max_iter=300;batch_size=1024;max_no_improvement=10;reassignment_ratio=0.1 26225 0.49854406164668863\n",
      "k=8;max_iter=300;batch_size=1024;max_no_improvement=10;reassignment_ratio=0.1 777572 0.4962606619209726\n",
      "k=8;max_iter=300;batch_size=1024;max_no_improvement=10;reassignment_ratio=0.1 288389 0.506523183259125\n",
      "k=8;max_iter=300;batch_size=1024;max_no_improvement=20;reassignment_ratio=0.005 670487 0.24685771596550704\n",
      "k=8;max_iter=300;batch_size=1024;max_no_improvement=20;reassignment_ratio=0.005 116739 0.3373996940622538\n",
      "k=8;max_iter=300;batch_size=1024;max_no_improvement=20;reassignment_ratio=0.005 26225 0.28067147314856183\n",
      "k=8;max_iter=300;batch_size=1024;max_no_improvement=20;reassignment_ratio=0.005 777572 0.4849742067228867\n",
      "k=8;max_iter=300;batch_size=1024;max_no_improvement=20;reassignment_ratio=0.005 288389 0.3546378622022955\n",
      "k=8;max_iter=300;batch_size=1024;max_no_improvement=20;reassignment_ratio=0.01 670487 0.24685771596550704\n",
      "k=8;max_iter=300;batch_size=1024;max_no_improvement=20;reassignment_ratio=0.01 116739 0.3373996940622538\n",
      "k=8;max_iter=300;batch_size=1024;max_no_improvement=20;reassignment_ratio=0.01 26225 0.28067147314856183\n",
      "k=8;max_iter=300;batch_size=1024;max_no_improvement=20;reassignment_ratio=0.01 777572 0.4849742067228867\n",
      "k=8;max_iter=300;batch_size=1024;max_no_improvement=20;reassignment_ratio=0.01 288389 0.3546378622022955\n",
      "k=8;max_iter=300;batch_size=1024;max_no_improvement=20;reassignment_ratio=0.1 670487 0.4741626551721481\n",
      "k=8;max_iter=300;batch_size=1024;max_no_improvement=20;reassignment_ratio=0.1 116739 0.32883629786310453\n",
      "k=8;max_iter=300;batch_size=1024;max_no_improvement=20;reassignment_ratio=0.1 26225 0.5021611924855729\n",
      "k=8;max_iter=300;batch_size=1024;max_no_improvement=20;reassignment_ratio=0.1 777572 0.49582514596633154\n",
      "k=8;max_iter=300;batch_size=1024;max_no_improvement=20;reassignment_ratio=0.1 288389 0.5007710864564927\n",
      "k=9;max_iter=300;batch_size=100;max_no_improvement=10;reassignment_ratio=0.005 670487 0.44418139560608577\n",
      "k=9;max_iter=300;batch_size=100;max_no_improvement=10;reassignment_ratio=0.005 116739 0.46309779855777483\n"
     ]
    },
    {
     "name": "stdout",
     "output_type": "stream",
     "text": [
      "k=9;max_iter=300;batch_size=100;max_no_improvement=10;reassignment_ratio=0.005 26225 0.444148641597161\n",
      "k=9;max_iter=300;batch_size=100;max_no_improvement=10;reassignment_ratio=0.005 777572 0.4607962039761178\n",
      "k=9;max_iter=300;batch_size=100;max_no_improvement=10;reassignment_ratio=0.005 288389 0.22325519313617487\n",
      "k=9;max_iter=300;batch_size=100;max_no_improvement=10;reassignment_ratio=0.01 670487 0.4357199575506222\n",
      "k=9;max_iter=300;batch_size=100;max_no_improvement=10;reassignment_ratio=0.01 116739 0.46195324391809484\n",
      "k=9;max_iter=300;batch_size=100;max_no_improvement=10;reassignment_ratio=0.01 26225 0.4477754433711179\n",
      "k=9;max_iter=300;batch_size=100;max_no_improvement=10;reassignment_ratio=0.01 777572 0.4607962039761178\n",
      "k=9;max_iter=300;batch_size=100;max_no_improvement=10;reassignment_ratio=0.01 288389 0.2391466455915452\n",
      "k=9;max_iter=300;batch_size=100;max_no_improvement=10;reassignment_ratio=0.1 670487 0.49756093194779827\n",
      "k=9;max_iter=300;batch_size=100;max_no_improvement=10;reassignment_ratio=0.1 116739 0.4747385900052817\n",
      "k=9;max_iter=300;batch_size=100;max_no_improvement=10;reassignment_ratio=0.1 26225 0.4465739152755681\n",
      "k=9;max_iter=300;batch_size=100;max_no_improvement=10;reassignment_ratio=0.1 777572 0.4619645652465011\n",
      "k=9;max_iter=300;batch_size=100;max_no_improvement=10;reassignment_ratio=0.1 288389 0.324436220327024\n",
      "k=9;max_iter=300;batch_size=100;max_no_improvement=20;reassignment_ratio=0.005 670487 0.44543342082102344\n",
      "k=9;max_iter=300;batch_size=100;max_no_improvement=20;reassignment_ratio=0.005 116739 0.46343050201235636\n",
      "k=9;max_iter=300;batch_size=100;max_no_improvement=20;reassignment_ratio=0.005 26225 0.45933262163423744\n",
      "k=9;max_iter=300;batch_size=100;max_no_improvement=20;reassignment_ratio=0.005 777572 0.4581224468589744\n",
      "k=9;max_iter=300;batch_size=100;max_no_improvement=20;reassignment_ratio=0.005 288389 0.22252466343494448\n",
      "k=9;max_iter=300;batch_size=100;max_no_improvement=20;reassignment_ratio=0.01 670487 0.42832810526429377\n",
      "k=9;max_iter=300;batch_size=100;max_no_improvement=20;reassignment_ratio=0.01 116739 0.46407556026297303\n",
      "k=9;max_iter=300;batch_size=100;max_no_improvement=20;reassignment_ratio=0.01 26225 0.45968155183744297\n",
      "k=9;max_iter=300;batch_size=100;max_no_improvement=20;reassignment_ratio=0.01 777572 0.4581224468589744\n",
      "k=9;max_iter=300;batch_size=100;max_no_improvement=20;reassignment_ratio=0.01 288389 0.23469278403484511\n",
      "k=9;max_iter=300;batch_size=100;max_no_improvement=20;reassignment_ratio=0.1 670487 0.49717435245925934\n",
      "k=9;max_iter=300;batch_size=100;max_no_improvement=20;reassignment_ratio=0.1 116739 0.47621548980953743\n",
      "k=9;max_iter=300;batch_size=100;max_no_improvement=20;reassignment_ratio=0.1 26225 0.4558602477865088\n",
      "k=9;max_iter=300;batch_size=100;max_no_improvement=20;reassignment_ratio=0.1 777572 0.47774978107063226\n",
      "k=9;max_iter=300;batch_size=100;max_no_improvement=20;reassignment_ratio=0.1 288389 0.3199192955888428\n",
      "k=9;max_iter=300;batch_size=500;max_no_improvement=10;reassignment_ratio=0.005 670487 0.2776851250359473\n",
      "k=9;max_iter=300;batch_size=500;max_no_improvement=10;reassignment_ratio=0.005 116739 0.43224793509519477\n",
      "k=9;max_iter=300;batch_size=500;max_no_improvement=10;reassignment_ratio=0.005 26225 0.2634046156439435\n",
      "k=9;max_iter=300;batch_size=500;max_no_improvement=10;reassignment_ratio=0.005 777572 0.29706113563549774\n",
      "k=9;max_iter=300;batch_size=500;max_no_improvement=10;reassignment_ratio=0.005 288389 0.45724095835244866\n",
      "k=9;max_iter=300;batch_size=500;max_no_improvement=10;reassignment_ratio=0.01 670487 0.2776851250359473\n",
      "k=9;max_iter=300;batch_size=500;max_no_improvement=10;reassignment_ratio=0.01 116739 0.43224793509519477\n",
      "k=9;max_iter=300;batch_size=500;max_no_improvement=10;reassignment_ratio=0.01 26225 0.2634046156439435\n",
      "k=9;max_iter=300;batch_size=500;max_no_improvement=10;reassignment_ratio=0.01 777572 0.29706113563549774\n",
      "k=9;max_iter=300;batch_size=500;max_no_improvement=10;reassignment_ratio=0.01 288389 0.45724095835244866\n",
      "k=9;max_iter=300;batch_size=500;max_no_improvement=10;reassignment_ratio=0.1 670487 0.44305504415596414\n",
      "k=9;max_iter=300;batch_size=500;max_no_improvement=10;reassignment_ratio=0.1 116739 0.4520768178931234\n",
      "k=9;max_iter=300;batch_size=500;max_no_improvement=10;reassignment_ratio=0.1 26225 0.43002472484201293\n",
      "k=9;max_iter=300;batch_size=500;max_no_improvement=10;reassignment_ratio=0.1 777572 0.29706113563549774\n",
      "k=9;max_iter=300;batch_size=500;max_no_improvement=10;reassignment_ratio=0.1 288389 0.45515007420408893\n",
      "k=9;max_iter=300;batch_size=500;max_no_improvement=20;reassignment_ratio=0.005 670487 0.2768520728992162\n",
      "k=9;max_iter=300;batch_size=500;max_no_improvement=20;reassignment_ratio=0.005 116739 0.4422171947618321\n",
      "k=9;max_iter=300;batch_size=500;max_no_improvement=20;reassignment_ratio=0.005 26225 0.26438824364458524\n",
      "k=9;max_iter=300;batch_size=500;max_no_improvement=20;reassignment_ratio=0.005 777572 0.3005210424436425\n",
      "k=9;max_iter=300;batch_size=500;max_no_improvement=20;reassignment_ratio=0.005 288389 0.4569102497819373\n",
      "k=9;max_iter=300;batch_size=500;max_no_improvement=20;reassignment_ratio=0.01 670487 0.2768520728992162\n",
      "k=9;max_iter=300;batch_size=500;max_no_improvement=20;reassignment_ratio=0.01 116739 0.4422171947618321\n",
      "k=9;max_iter=300;batch_size=500;max_no_improvement=20;reassignment_ratio=0.01 26225 0.26438824364458524\n",
      "k=9;max_iter=300;batch_size=500;max_no_improvement=20;reassignment_ratio=0.01 777572 0.3005210424436425\n",
      "k=9;max_iter=300;batch_size=500;max_no_improvement=20;reassignment_ratio=0.01 288389 0.4569102497819373\n",
      "k=9;max_iter=300;batch_size=500;max_no_improvement=20;reassignment_ratio=0.1 670487 0.443469791249971\n",
      "k=9;max_iter=300;batch_size=500;max_no_improvement=20;reassignment_ratio=0.1 116739 0.46360780538850277\n",
      "k=9;max_iter=300;batch_size=500;max_no_improvement=20;reassignment_ratio=0.1 26225 0.428791512076836\n",
      "k=9;max_iter=300;batch_size=500;max_no_improvement=20;reassignment_ratio=0.1 777572 0.3005210424436425\n",
      "k=9;max_iter=300;batch_size=500;max_no_improvement=20;reassignment_ratio=0.1 288389 0.46072522532960125\n",
      "k=9;max_iter=300;batch_size=1024;max_no_improvement=10;reassignment_ratio=0.005 670487 0.2883687327668748\n",
      "k=9;max_iter=300;batch_size=1024;max_no_improvement=10;reassignment_ratio=0.005 116739 0.43325000863498586\n",
      "k=9;max_iter=300;batch_size=1024;max_no_improvement=10;reassignment_ratio=0.005 26225 0.2609956522710304\n",
      "k=9;max_iter=300;batch_size=1024;max_no_improvement=10;reassignment_ratio=0.005 777572 0.28889912482387337\n",
      "k=9;max_iter=300;batch_size=1024;max_no_improvement=10;reassignment_ratio=0.005 288389 0.45347300346371877\n",
      "k=9;max_iter=300;batch_size=1024;max_no_improvement=10;reassignment_ratio=0.01 670487 0.3095157227021814\n",
      "k=9;max_iter=300;batch_size=1024;max_no_improvement=10;reassignment_ratio=0.01 116739 0.43325000863498586\n",
      "k=9;max_iter=300;batch_size=1024;max_no_improvement=10;reassignment_ratio=0.01 26225 0.2609956522710304\n",
      "k=9;max_iter=300;batch_size=1024;max_no_improvement=10;reassignment_ratio=0.01 777572 0.28889912482387337\n",
      "k=9;max_iter=300;batch_size=1024;max_no_improvement=10;reassignment_ratio=0.01 288389 0.45347300346371877\n",
      "k=9;max_iter=300;batch_size=1024;max_no_improvement=10;reassignment_ratio=0.1 670487 0.3062736237655818\n",
      "k=9;max_iter=300;batch_size=1024;max_no_improvement=10;reassignment_ratio=0.1 116739 0.4608744646531695\n",
      "k=9;max_iter=300;batch_size=1024;max_no_improvement=10;reassignment_ratio=0.1 26225 0.435903860291744\n",
      "k=9;max_iter=300;batch_size=1024;max_no_improvement=10;reassignment_ratio=0.1 777572 0.28889912482387337\n",
      "k=9;max_iter=300;batch_size=1024;max_no_improvement=10;reassignment_ratio=0.1 288389 0.46038009165432947\n",
      "k=9;max_iter=300;batch_size=1024;max_no_improvement=20;reassignment_ratio=0.005 670487 0.29137324976809903\n",
      "k=9;max_iter=300;batch_size=1024;max_no_improvement=20;reassignment_ratio=0.005 116739 0.4401917777494891\n",
      "k=9;max_iter=300;batch_size=1024;max_no_improvement=20;reassignment_ratio=0.005 26225 0.25342856128510594\n",
      "k=9;max_iter=300;batch_size=1024;max_no_improvement=20;reassignment_ratio=0.005 777572 0.2916277072359059\n",
      "k=9;max_iter=300;batch_size=1024;max_no_improvement=20;reassignment_ratio=0.005 288389 0.45751199033060264\n",
      "k=9;max_iter=300;batch_size=1024;max_no_improvement=20;reassignment_ratio=0.01 670487 0.30308925660993846\n"
     ]
    },
    {
     "name": "stdout",
     "output_type": "stream",
     "text": [
      "k=9;max_iter=300;batch_size=1024;max_no_improvement=20;reassignment_ratio=0.01 116739 0.4401917777494891\n",
      "k=9;max_iter=300;batch_size=1024;max_no_improvement=20;reassignment_ratio=0.01 26225 0.25342856128510594\n",
      "k=9;max_iter=300;batch_size=1024;max_no_improvement=20;reassignment_ratio=0.01 777572 0.2916277072359059\n",
      "k=9;max_iter=300;batch_size=1024;max_no_improvement=20;reassignment_ratio=0.01 288389 0.45751199033060264\n",
      "k=9;max_iter=300;batch_size=1024;max_no_improvement=20;reassignment_ratio=0.1 670487 0.30789367394231537\n",
      "k=9;max_iter=300;batch_size=1024;max_no_improvement=20;reassignment_ratio=0.1 116739 0.464631487846063\n",
      "k=9;max_iter=300;batch_size=1024;max_no_improvement=20;reassignment_ratio=0.1 26225 0.43796733397809773\n",
      "k=9;max_iter=300;batch_size=1024;max_no_improvement=20;reassignment_ratio=0.1 777572 0.2916277072359059\n",
      "k=9;max_iter=300;batch_size=1024;max_no_improvement=20;reassignment_ratio=0.1 288389 0.45714274547965694\n",
      "k=10;max_iter=300;batch_size=100;max_no_improvement=10;reassignment_ratio=0.005 670487 0.43130095640601995\n",
      "k=10;max_iter=300;batch_size=100;max_no_improvement=10;reassignment_ratio=0.005 116739 0.4470288797803119\n",
      "k=10;max_iter=300;batch_size=100;max_no_improvement=10;reassignment_ratio=0.005 26225 0.4977502628237016\n",
      "k=10;max_iter=300;batch_size=100;max_no_improvement=10;reassignment_ratio=0.005 777572 0.3692078883741614\n",
      "k=10;max_iter=300;batch_size=100;max_no_improvement=10;reassignment_ratio=0.005 288389 0.48705905171059977\n",
      "k=10;max_iter=300;batch_size=100;max_no_improvement=10;reassignment_ratio=0.01 670487 0.43154287306849215\n",
      "k=10;max_iter=300;batch_size=100;max_no_improvement=10;reassignment_ratio=0.01 116739 0.4481185059596794\n",
      "k=10;max_iter=300;batch_size=100;max_no_improvement=10;reassignment_ratio=0.01 26225 0.5015761301124348\n",
      "k=10;max_iter=300;batch_size=100;max_no_improvement=10;reassignment_ratio=0.01 777572 0.3748369426768501\n",
      "k=10;max_iter=300;batch_size=100;max_no_improvement=10;reassignment_ratio=0.01 288389 0.4828803318801918\n",
      "k=10;max_iter=300;batch_size=100;max_no_improvement=10;reassignment_ratio=0.1 670487 0.45228256640495285\n",
      "k=10;max_iter=300;batch_size=100;max_no_improvement=10;reassignment_ratio=0.1 116739 0.42695509836010614\n",
      "k=10;max_iter=300;batch_size=100;max_no_improvement=10;reassignment_ratio=0.1 26225 0.5002661096835979\n",
      "k=10;max_iter=300;batch_size=100;max_no_improvement=10;reassignment_ratio=0.1 777572 0.49491701267599086\n",
      "k=10;max_iter=300;batch_size=100;max_no_improvement=10;reassignment_ratio=0.1 288389 0.521206396594522\n",
      "k=10;max_iter=300;batch_size=100;max_no_improvement=20;reassignment_ratio=0.005 670487 0.4342918228050587\n",
      "k=10;max_iter=300;batch_size=100;max_no_improvement=20;reassignment_ratio=0.005 116739 0.4520853428291626\n",
      "k=10;max_iter=300;batch_size=100;max_no_improvement=20;reassignment_ratio=0.005 26225 0.4975671120210619\n",
      "k=10;max_iter=300;batch_size=100;max_no_improvement=20;reassignment_ratio=0.005 777572 0.3707417907233415\n",
      "k=10;max_iter=300;batch_size=100;max_no_improvement=20;reassignment_ratio=0.005 288389 0.48586696944004787\n",
      "k=10;max_iter=300;batch_size=100;max_no_improvement=20;reassignment_ratio=0.01 670487 0.43065070033078445\n",
      "k=10;max_iter=300;batch_size=100;max_no_improvement=20;reassignment_ratio=0.01 116739 0.4399693305430171\n",
      "k=10;max_iter=300;batch_size=100;max_no_improvement=20;reassignment_ratio=0.01 26225 0.5021125674650728\n",
      "k=10;max_iter=300;batch_size=100;max_no_improvement=20;reassignment_ratio=0.01 777572 0.37110001594191533\n",
      "k=10;max_iter=300;batch_size=100;max_no_improvement=20;reassignment_ratio=0.01 288389 0.49508554927049775\n",
      "k=10;max_iter=300;batch_size=100;max_no_improvement=20;reassignment_ratio=0.1 670487 0.44725500262422596\n",
      "k=10;max_iter=300;batch_size=100;max_no_improvement=20;reassignment_ratio=0.1 116739 0.429224052403945\n",
      "k=10;max_iter=300;batch_size=100;max_no_improvement=20;reassignment_ratio=0.1 26225 0.5044353883062866\n",
      "k=10;max_iter=300;batch_size=100;max_no_improvement=20;reassignment_ratio=0.1 777572 0.5032652756672438\n",
      "k=10;max_iter=300;batch_size=100;max_no_improvement=20;reassignment_ratio=0.1 288389 0.521817578440144\n",
      "k=10;max_iter=300;batch_size=500;max_no_improvement=10;reassignment_ratio=0.005 670487 0.2247050223897019\n",
      "k=10;max_iter=300;batch_size=500;max_no_improvement=10;reassignment_ratio=0.005 116739 0.3620189821185521\n",
      "k=10;max_iter=300;batch_size=500;max_no_improvement=10;reassignment_ratio=0.005 26225 0.23190223852986588\n",
      "k=10;max_iter=300;batch_size=500;max_no_improvement=10;reassignment_ratio=0.005 777572 0.3689737355003174\n",
      "k=10;max_iter=300;batch_size=500;max_no_improvement=10;reassignment_ratio=0.005 288389 0.37504359436054957\n",
      "k=10;max_iter=300;batch_size=500;max_no_improvement=10;reassignment_ratio=0.01 670487 0.2247050223897019\n",
      "k=10;max_iter=300;batch_size=500;max_no_improvement=10;reassignment_ratio=0.01 116739 0.3620189821185521\n",
      "k=10;max_iter=300;batch_size=500;max_no_improvement=10;reassignment_ratio=0.01 26225 0.23190223852986588\n",
      "k=10;max_iter=300;batch_size=500;max_no_improvement=10;reassignment_ratio=0.01 777572 0.3689737355003174\n",
      "k=10;max_iter=300;batch_size=500;max_no_improvement=10;reassignment_ratio=0.01 288389 0.37504359436054957\n",
      "k=10;max_iter=300;batch_size=500;max_no_improvement=10;reassignment_ratio=0.1 670487 0.21605209677606738\n",
      "k=10;max_iter=300;batch_size=500;max_no_improvement=10;reassignment_ratio=0.1 116739 0.4612821946671182\n",
      "k=10;max_iter=300;batch_size=500;max_no_improvement=10;reassignment_ratio=0.1 26225 0.25311342297640793\n",
      "k=10;max_iter=300;batch_size=500;max_no_improvement=10;reassignment_ratio=0.1 777572 0.37062131592092606\n",
      "k=10;max_iter=300;batch_size=500;max_no_improvement=10;reassignment_ratio=0.1 288389 0.3793811113611836\n",
      "k=10;max_iter=300;batch_size=500;max_no_improvement=20;reassignment_ratio=0.005 670487 0.22231667132275085\n",
      "k=10;max_iter=300;batch_size=500;max_no_improvement=20;reassignment_ratio=0.005 116739 0.3643265857975754\n",
      "k=10;max_iter=300;batch_size=500;max_no_improvement=20;reassignment_ratio=0.005 26225 0.2340444883032916\n",
      "k=10;max_iter=300;batch_size=500;max_no_improvement=20;reassignment_ratio=0.005 777572 0.36358281304927176\n",
      "k=10;max_iter=300;batch_size=500;max_no_improvement=20;reassignment_ratio=0.005 288389 0.3785749607704686\n",
      "k=10;max_iter=300;batch_size=500;max_no_improvement=20;reassignment_ratio=0.01 670487 0.22231667132275085\n",
      "k=10;max_iter=300;batch_size=500;max_no_improvement=20;reassignment_ratio=0.01 116739 0.3643265857975754\n",
      "k=10;max_iter=300;batch_size=500;max_no_improvement=20;reassignment_ratio=0.01 26225 0.2340444883032916\n",
      "k=10;max_iter=300;batch_size=500;max_no_improvement=20;reassignment_ratio=0.01 777572 0.36358281304927176\n",
      "k=10;max_iter=300;batch_size=500;max_no_improvement=20;reassignment_ratio=0.01 288389 0.3785749607704686\n",
      "k=10;max_iter=300;batch_size=500;max_no_improvement=20;reassignment_ratio=0.1 670487 0.20840806845475432\n",
      "k=10;max_iter=300;batch_size=500;max_no_improvement=20;reassignment_ratio=0.1 116739 0.4651115788081527\n",
      "k=10;max_iter=300;batch_size=500;max_no_improvement=20;reassignment_ratio=0.1 26225 0.2532481493142681\n",
      "k=10;max_iter=300;batch_size=500;max_no_improvement=20;reassignment_ratio=0.1 777572 0.3653494546294821\n",
      "k=10;max_iter=300;batch_size=500;max_no_improvement=20;reassignment_ratio=0.1 288389 0.3792298291750791\n",
      "k=10;max_iter=300;batch_size=1024;max_no_improvement=10;reassignment_ratio=0.005 670487 0.20595535507237747\n",
      "k=10;max_iter=300;batch_size=1024;max_no_improvement=10;reassignment_ratio=0.005 116739 0.2729197509043374\n",
      "k=10;max_iter=300;batch_size=1024;max_no_improvement=10;reassignment_ratio=0.005 26225 0.23930912150348022\n",
      "k=10;max_iter=300;batch_size=1024;max_no_improvement=10;reassignment_ratio=0.005 777572 0.38659294137785016\n",
      "k=10;max_iter=300;batch_size=1024;max_no_improvement=10;reassignment_ratio=0.005 288389 0.3783756236826868\n",
      "k=10;max_iter=300;batch_size=1024;max_no_improvement=10;reassignment_ratio=0.01 670487 0.20595535507237747\n",
      "k=10;max_iter=300;batch_size=1024;max_no_improvement=10;reassignment_ratio=0.01 116739 0.2729197509043374\n",
      "k=10;max_iter=300;batch_size=1024;max_no_improvement=10;reassignment_ratio=0.01 26225 0.23930912150348022\n",
      "k=10;max_iter=300;batch_size=1024;max_no_improvement=10;reassignment_ratio=0.01 777572 0.38659294137785016\n"
     ]
    },
    {
     "name": "stdout",
     "output_type": "stream",
     "text": [
      "k=10;max_iter=300;batch_size=1024;max_no_improvement=10;reassignment_ratio=0.01 288389 0.3783756236826868\n",
      "k=10;max_iter=300;batch_size=1024;max_no_improvement=10;reassignment_ratio=0.1 670487 0.25574640701105616\n",
      "k=10;max_iter=300;batch_size=1024;max_no_improvement=10;reassignment_ratio=0.1 116739 0.4653841781882714\n",
      "k=10;max_iter=300;batch_size=1024;max_no_improvement=10;reassignment_ratio=0.1 26225 0.23930912150348022\n",
      "k=10;max_iter=300;batch_size=1024;max_no_improvement=10;reassignment_ratio=0.1 777572 0.3995343255953977\n",
      "k=10;max_iter=300;batch_size=1024;max_no_improvement=10;reassignment_ratio=0.1 288389 0.3697158747223633\n",
      "k=10;max_iter=300;batch_size=1024;max_no_improvement=20;reassignment_ratio=0.005 670487 0.20092931324589217\n",
      "k=10;max_iter=300;batch_size=1024;max_no_improvement=20;reassignment_ratio=0.005 116739 0.2619069511192316\n",
      "k=10;max_iter=300;batch_size=1024;max_no_improvement=20;reassignment_ratio=0.005 26225 0.24990227248556904\n",
      "k=10;max_iter=300;batch_size=1024;max_no_improvement=20;reassignment_ratio=0.005 777572 0.3780072498041493\n",
      "k=10;max_iter=300;batch_size=1024;max_no_improvement=20;reassignment_ratio=0.005 288389 0.37732885082548373\n",
      "k=10;max_iter=300;batch_size=1024;max_no_improvement=20;reassignment_ratio=0.01 670487 0.20092931324589217\n",
      "k=10;max_iter=300;batch_size=1024;max_no_improvement=20;reassignment_ratio=0.01 116739 0.2619069511192316\n",
      "k=10;max_iter=300;batch_size=1024;max_no_improvement=20;reassignment_ratio=0.01 26225 0.24990227248556904\n",
      "k=10;max_iter=300;batch_size=1024;max_no_improvement=20;reassignment_ratio=0.01 777572 0.3780072498041493\n",
      "k=10;max_iter=300;batch_size=1024;max_no_improvement=20;reassignment_ratio=0.01 288389 0.37732885082548373\n",
      "k=10;max_iter=300;batch_size=1024;max_no_improvement=20;reassignment_ratio=0.1 670487 0.2567433345297835\n",
      "k=10;max_iter=300;batch_size=1024;max_no_improvement=20;reassignment_ratio=0.1 116739 0.46202839380820615\n",
      "k=10;max_iter=300;batch_size=1024;max_no_improvement=20;reassignment_ratio=0.1 26225 0.24990227248556904\n",
      "k=10;max_iter=300;batch_size=1024;max_no_improvement=20;reassignment_ratio=0.1 777572 0.3939612716104448\n",
      "k=10;max_iter=300;batch_size=1024;max_no_improvement=20;reassignment_ratio=0.1 288389 0.3715486063153388\n",
      "k=11;max_iter=300;batch_size=100;max_no_improvement=10;reassignment_ratio=0.005 670487 0.419682230879123\n",
      "k=11;max_iter=300;batch_size=100;max_no_improvement=10;reassignment_ratio=0.005 116739 0.40856512716234905\n",
      "k=11;max_iter=300;batch_size=100;max_no_improvement=10;reassignment_ratio=0.005 26225 0.3855543258400329\n",
      "k=11;max_iter=300;batch_size=100;max_no_improvement=10;reassignment_ratio=0.005 777572 0.28371666636152726\n",
      "k=11;max_iter=300;batch_size=100;max_no_improvement=10;reassignment_ratio=0.005 288389 0.34155750151939124\n",
      "k=11;max_iter=300;batch_size=100;max_no_improvement=10;reassignment_ratio=0.01 670487 0.43130817667567617\n",
      "k=11;max_iter=300;batch_size=100;max_no_improvement=10;reassignment_ratio=0.01 116739 0.4264473615975964\n",
      "k=11;max_iter=300;batch_size=100;max_no_improvement=10;reassignment_ratio=0.01 26225 0.39246951588034557\n",
      "k=11;max_iter=300;batch_size=100;max_no_improvement=10;reassignment_ratio=0.01 777572 0.2767080913881692\n",
      "k=11;max_iter=300;batch_size=100;max_no_improvement=10;reassignment_ratio=0.01 288389 0.3382060393279107\n",
      "k=11;max_iter=300;batch_size=100;max_no_improvement=10;reassignment_ratio=0.1 670487 0.42735068517957797\n",
      "k=11;max_iter=300;batch_size=100;max_no_improvement=10;reassignment_ratio=0.1 116739 0.4896686052926337\n",
      "k=11;max_iter=300;batch_size=100;max_no_improvement=10;reassignment_ratio=0.1 26225 0.39676336782039917\n",
      "k=11;max_iter=300;batch_size=100;max_no_improvement=10;reassignment_ratio=0.1 777572 0.2871420815270125\n",
      "k=11;max_iter=300;batch_size=100;max_no_improvement=10;reassignment_ratio=0.1 288389 0.3420335880985501\n",
      "k=11;max_iter=300;batch_size=100;max_no_improvement=20;reassignment_ratio=0.005 670487 0.4113119212164725\n",
      "k=11;max_iter=300;batch_size=100;max_no_improvement=20;reassignment_ratio=0.005 116739 0.4000434861701462\n",
      "k=11;max_iter=300;batch_size=100;max_no_improvement=20;reassignment_ratio=0.005 26225 0.38521424011365657\n",
      "k=11;max_iter=300;batch_size=100;max_no_improvement=20;reassignment_ratio=0.005 777572 0.2840788758969676\n",
      "k=11;max_iter=300;batch_size=100;max_no_improvement=20;reassignment_ratio=0.005 288389 0.3378570769794311\n",
      "k=11;max_iter=300;batch_size=100;max_no_improvement=20;reassignment_ratio=0.01 670487 0.43509177640642993\n",
      "k=11;max_iter=300;batch_size=100;max_no_improvement=20;reassignment_ratio=0.01 116739 0.41484724182173915\n",
      "k=11;max_iter=300;batch_size=100;max_no_improvement=20;reassignment_ratio=0.01 26225 0.3858629907820416\n",
      "k=11;max_iter=300;batch_size=100;max_no_improvement=20;reassignment_ratio=0.01 777572 0.2796015253531121\n",
      "k=11;max_iter=300;batch_size=100;max_no_improvement=20;reassignment_ratio=0.01 288389 0.3349836245456676\n",
      "k=11;max_iter=300;batch_size=100;max_no_improvement=20;reassignment_ratio=0.1 670487 0.41916965161751923\n",
      "k=11;max_iter=300;batch_size=100;max_no_improvement=20;reassignment_ratio=0.1 116739 0.4798340047751438\n",
      "k=11;max_iter=300;batch_size=100;max_no_improvement=20;reassignment_ratio=0.1 26225 0.39723099109466575\n",
      "k=11;max_iter=300;batch_size=100;max_no_improvement=20;reassignment_ratio=0.1 777572 0.2877509426278738\n",
      "k=11;max_iter=300;batch_size=100;max_no_improvement=20;reassignment_ratio=0.1 288389 0.3286988793365\n",
      "k=11;max_iter=300;batch_size=500;max_no_improvement=10;reassignment_ratio=0.005 670487 0.28056388564049195\n",
      "k=11;max_iter=300;batch_size=500;max_no_improvement=10;reassignment_ratio=0.005 116739 0.3668238586464694\n",
      "k=11;max_iter=300;batch_size=500;max_no_improvement=10;reassignment_ratio=0.005 26225 0.2749432009381251\n",
      "k=11;max_iter=300;batch_size=500;max_no_improvement=10;reassignment_ratio=0.005 777572 0.2732188401826565\n",
      "k=11;max_iter=300;batch_size=500;max_no_improvement=10;reassignment_ratio=0.005 288389 0.33135634502616496\n",
      "k=11;max_iter=300;batch_size=500;max_no_improvement=10;reassignment_ratio=0.01 670487 0.28056388564049195\n",
      "k=11;max_iter=300;batch_size=500;max_no_improvement=10;reassignment_ratio=0.01 116739 0.37168679742076716\n",
      "k=11;max_iter=300;batch_size=500;max_no_improvement=10;reassignment_ratio=0.01 26225 0.2749432009381251\n",
      "k=11;max_iter=300;batch_size=500;max_no_improvement=10;reassignment_ratio=0.01 777572 0.2732188401826565\n",
      "k=11;max_iter=300;batch_size=500;max_no_improvement=10;reassignment_ratio=0.01 288389 0.33135634502616496\n",
      "k=11;max_iter=300;batch_size=500;max_no_improvement=10;reassignment_ratio=0.1 670487 0.30300488263270253\n",
      "k=11;max_iter=300;batch_size=500;max_no_improvement=10;reassignment_ratio=0.1 116739 0.48182413829819926\n",
      "k=11;max_iter=300;batch_size=500;max_no_improvement=10;reassignment_ratio=0.1 26225 0.2749432009381251\n",
      "k=11;max_iter=300;batch_size=500;max_no_improvement=10;reassignment_ratio=0.1 777572 0.29619306574562376\n",
      "k=11;max_iter=300;batch_size=500;max_no_improvement=10;reassignment_ratio=0.1 288389 0.3183205527903541\n",
      "k=11;max_iter=300;batch_size=500;max_no_improvement=20;reassignment_ratio=0.005 670487 0.2722183546719934\n",
      "k=11;max_iter=300;batch_size=500;max_no_improvement=20;reassignment_ratio=0.005 116739 0.3662511890645779\n",
      "k=11;max_iter=300;batch_size=500;max_no_improvement=20;reassignment_ratio=0.005 26225 0.2753642073047494\n",
      "k=11;max_iter=300;batch_size=500;max_no_improvement=20;reassignment_ratio=0.005 777572 0.2765538524130434\n",
      "k=11;max_iter=300;batch_size=500;max_no_improvement=20;reassignment_ratio=0.005 288389 0.3336975601560627\n",
      "k=11;max_iter=300;batch_size=500;max_no_improvement=20;reassignment_ratio=0.01 670487 0.2722183546719934\n",
      "k=11;max_iter=300;batch_size=500;max_no_improvement=20;reassignment_ratio=0.01 116739 0.3707655065423538\n",
      "k=11;max_iter=300;batch_size=500;max_no_improvement=20;reassignment_ratio=0.01 26225 0.2753642073047494\n",
      "k=11;max_iter=300;batch_size=500;max_no_improvement=20;reassignment_ratio=0.01 777572 0.2765538524130434\n",
      "k=11;max_iter=300;batch_size=500;max_no_improvement=20;reassignment_ratio=0.01 288389 0.3336975601560627\n",
      "k=11;max_iter=300;batch_size=500;max_no_improvement=20;reassignment_ratio=0.1 670487 0.3031438613899982\n",
      "k=11;max_iter=300;batch_size=500;max_no_improvement=20;reassignment_ratio=0.1 116739 0.4847479380184571\n"
     ]
    },
    {
     "name": "stdout",
     "output_type": "stream",
     "text": [
      "k=11;max_iter=300;batch_size=500;max_no_improvement=20;reassignment_ratio=0.1 26225 0.2753642073047494\n",
      "k=11;max_iter=300;batch_size=500;max_no_improvement=20;reassignment_ratio=0.1 777572 0.29909434587089767\n",
      "k=11;max_iter=300;batch_size=500;max_no_improvement=20;reassignment_ratio=0.1 288389 0.32196792635179045\n",
      "k=11;max_iter=300;batch_size=1024;max_no_improvement=10;reassignment_ratio=0.005 670487 0.2586379899693325\n",
      "k=11;max_iter=300;batch_size=1024;max_no_improvement=10;reassignment_ratio=0.005 116739 0.3742670092238722\n",
      "k=11;max_iter=300;batch_size=1024;max_no_improvement=10;reassignment_ratio=0.005 26225 0.276826899707869\n",
      "k=11;max_iter=300;batch_size=1024;max_no_improvement=10;reassignment_ratio=0.005 777572 0.24840332811989177\n",
      "k=11;max_iter=300;batch_size=1024;max_no_improvement=10;reassignment_ratio=0.005 288389 0.3316774306638377\n",
      "k=11;max_iter=300;batch_size=1024;max_no_improvement=10;reassignment_ratio=0.01 670487 0.2586379899693325\n",
      "k=11;max_iter=300;batch_size=1024;max_no_improvement=10;reassignment_ratio=0.01 116739 0.3742670092238722\n",
      "k=11;max_iter=300;batch_size=1024;max_no_improvement=10;reassignment_ratio=0.01 26225 0.276826899707869\n",
      "k=11;max_iter=300;batch_size=1024;max_no_improvement=10;reassignment_ratio=0.01 777572 0.24840332811989177\n",
      "k=11;max_iter=300;batch_size=1024;max_no_improvement=10;reassignment_ratio=0.01 288389 0.3316774306638377\n",
      "k=11;max_iter=300;batch_size=1024;max_no_improvement=10;reassignment_ratio=0.1 670487 0.2699369218128954\n",
      "k=11;max_iter=300;batch_size=1024;max_no_improvement=10;reassignment_ratio=0.1 116739 0.4960997690469987\n",
      "k=11;max_iter=300;batch_size=1024;max_no_improvement=10;reassignment_ratio=0.1 26225 0.2604817011123759\n",
      "k=11;max_iter=300;batch_size=1024;max_no_improvement=10;reassignment_ratio=0.1 777572 0.2919481478425025\n",
      "k=11;max_iter=300;batch_size=1024;max_no_improvement=10;reassignment_ratio=0.1 288389 0.3384799914737895\n",
      "k=11;max_iter=300;batch_size=1024;max_no_improvement=20;reassignment_ratio=0.005 670487 0.25811392811080136\n",
      "k=11;max_iter=300;batch_size=1024;max_no_improvement=20;reassignment_ratio=0.005 116739 0.3707491249370915\n",
      "k=11;max_iter=300;batch_size=1024;max_no_improvement=20;reassignment_ratio=0.005 26225 0.27582645134626405\n",
      "k=11;max_iter=300;batch_size=1024;max_no_improvement=20;reassignment_ratio=0.005 777572 0.251472582131547\n",
      "k=11;max_iter=300;batch_size=1024;max_no_improvement=20;reassignment_ratio=0.005 288389 0.32984029659112846\n",
      "k=11;max_iter=300;batch_size=1024;max_no_improvement=20;reassignment_ratio=0.01 670487 0.25811392811080136\n",
      "k=11;max_iter=300;batch_size=1024;max_no_improvement=20;reassignment_ratio=0.01 116739 0.3707491249370915\n",
      "k=11;max_iter=300;batch_size=1024;max_no_improvement=20;reassignment_ratio=0.01 26225 0.27582645134626405\n",
      "k=11;max_iter=300;batch_size=1024;max_no_improvement=20;reassignment_ratio=0.01 777572 0.251472582131547\n",
      "k=11;max_iter=300;batch_size=1024;max_no_improvement=20;reassignment_ratio=0.01 288389 0.32984029659112846\n",
      "k=11;max_iter=300;batch_size=1024;max_no_improvement=20;reassignment_ratio=0.1 670487 0.26789791444589195\n",
      "k=11;max_iter=300;batch_size=1024;max_no_improvement=20;reassignment_ratio=0.1 116739 0.4869828541227196\n",
      "k=11;max_iter=300;batch_size=1024;max_no_improvement=20;reassignment_ratio=0.1 26225 0.2604843713716256\n",
      "k=11;max_iter=300;batch_size=1024;max_no_improvement=20;reassignment_ratio=0.1 777572 0.2912255172066312\n",
      "k=11;max_iter=300;batch_size=1024;max_no_improvement=20;reassignment_ratio=0.1 288389 0.3421508232370908\n",
      "k=12;max_iter=300;batch_size=100;max_no_improvement=10;reassignment_ratio=0.005 670487 0.33282102620171505\n",
      "k=12;max_iter=300;batch_size=100;max_no_improvement=10;reassignment_ratio=0.005 116739 0.46702996498558874\n",
      "k=12;max_iter=300;batch_size=100;max_no_improvement=10;reassignment_ratio=0.005 26225 0.3727947129802248\n",
      "k=12;max_iter=300;batch_size=100;max_no_improvement=10;reassignment_ratio=0.005 777572 0.2676806726101914\n",
      "k=12;max_iter=300;batch_size=100;max_no_improvement=10;reassignment_ratio=0.005 288389 0.410126781709259\n",
      "k=12;max_iter=300;batch_size=100;max_no_improvement=10;reassignment_ratio=0.01 670487 0.33555406574710517\n",
      "k=12;max_iter=300;batch_size=100;max_no_improvement=10;reassignment_ratio=0.01 116739 0.44100531339080573\n",
      "k=12;max_iter=300;batch_size=100;max_no_improvement=10;reassignment_ratio=0.01 26225 0.3781051934594631\n",
      "k=12;max_iter=300;batch_size=100;max_no_improvement=10;reassignment_ratio=0.01 777572 0.27864806990648133\n",
      "k=12;max_iter=300;batch_size=100;max_no_improvement=10;reassignment_ratio=0.01 288389 0.40686926282127994\n",
      "k=12;max_iter=300;batch_size=100;max_no_improvement=10;reassignment_ratio=0.1 670487 0.4435635907068834\n",
      "k=12;max_iter=300;batch_size=100;max_no_improvement=10;reassignment_ratio=0.1 116739 0.4773715226693349\n",
      "k=12;max_iter=300;batch_size=100;max_no_improvement=10;reassignment_ratio=0.1 26225 0.38053405710029065\n",
      "k=12;max_iter=300;batch_size=100;max_no_improvement=10;reassignment_ratio=0.1 777572 0.2682669705928272\n",
      "k=12;max_iter=300;batch_size=100;max_no_improvement=10;reassignment_ratio=0.1 288389 0.48600695553575823\n",
      "k=12;max_iter=300;batch_size=100;max_no_improvement=20;reassignment_ratio=0.005 670487 0.3276784738742776\n",
      "k=12;max_iter=300;batch_size=100;max_no_improvement=20;reassignment_ratio=0.005 116739 0.46475739729105625\n",
      "k=12;max_iter=300;batch_size=100;max_no_improvement=20;reassignment_ratio=0.005 26225 0.3753780485389812\n",
      "k=12;max_iter=300;batch_size=100;max_no_improvement=20;reassignment_ratio=0.005 777572 0.2772344480013017\n",
      "k=12;max_iter=300;batch_size=100;max_no_improvement=20;reassignment_ratio=0.005 288389 0.41066422291849686\n",
      "k=12;max_iter=300;batch_size=100;max_no_improvement=20;reassignment_ratio=0.01 670487 0.341131910875778\n",
      "k=12;max_iter=300;batch_size=100;max_no_improvement=20;reassignment_ratio=0.01 116739 0.4407326013245279\n",
      "k=12;max_iter=300;batch_size=100;max_no_improvement=20;reassignment_ratio=0.01 26225 0.3747992837555686\n",
      "k=12;max_iter=300;batch_size=100;max_no_improvement=20;reassignment_ratio=0.01 777572 0.2813813818544071\n",
      "k=12;max_iter=300;batch_size=100;max_no_improvement=20;reassignment_ratio=0.01 288389 0.4003538133187463\n",
      "k=12;max_iter=300;batch_size=100;max_no_improvement=20;reassignment_ratio=0.1 670487 0.44623813987165106\n",
      "k=12;max_iter=300;batch_size=100;max_no_improvement=20;reassignment_ratio=0.1 116739 0.4722427067367663\n",
      "k=12;max_iter=300;batch_size=100;max_no_improvement=20;reassignment_ratio=0.1 26225 0.38044425934684806\n",
      "k=12;max_iter=300;batch_size=100;max_no_improvement=20;reassignment_ratio=0.1 777572 0.255207716958045\n",
      "k=12;max_iter=300;batch_size=100;max_no_improvement=20;reassignment_ratio=0.1 288389 0.48203642597007385\n",
      "k=12;max_iter=300;batch_size=500;max_no_improvement=10;reassignment_ratio=0.005 670487 0.3954837952605724\n",
      "k=12;max_iter=300;batch_size=500;max_no_improvement=10;reassignment_ratio=0.005 116739 0.27074633977252943\n",
      "k=12;max_iter=300;batch_size=500;max_no_improvement=10;reassignment_ratio=0.005 26225 0.40013465217012445\n",
      "k=12;max_iter=300;batch_size=500;max_no_improvement=10;reassignment_ratio=0.005 777572 0.28073152848020155\n",
      "k=12;max_iter=300;batch_size=500;max_no_improvement=10;reassignment_ratio=0.005 288389 0.33528925132881965\n",
      "k=12;max_iter=300;batch_size=500;max_no_improvement=10;reassignment_ratio=0.01 670487 0.3954837952605724\n",
      "k=12;max_iter=300;batch_size=500;max_no_improvement=10;reassignment_ratio=0.01 116739 0.2562669133492753\n",
      "k=12;max_iter=300;batch_size=500;max_no_improvement=10;reassignment_ratio=0.01 26225 0.40013465217012445\n",
      "k=12;max_iter=300;batch_size=500;max_no_improvement=10;reassignment_ratio=0.01 777572 0.2776756140683826\n",
      "k=12;max_iter=300;batch_size=500;max_no_improvement=10;reassignment_ratio=0.01 288389 0.33528925132881965\n",
      "k=12;max_iter=300;batch_size=500;max_no_improvement=10;reassignment_ratio=0.1 670487 0.38708537930518017\n",
      "k=12;max_iter=300;batch_size=500;max_no_improvement=10;reassignment_ratio=0.1 116739 0.3282829192295904\n",
      "k=12;max_iter=300;batch_size=500;max_no_improvement=10;reassignment_ratio=0.1 26225 0.40013465217012445\n",
      "k=12;max_iter=300;batch_size=500;max_no_improvement=10;reassignment_ratio=0.1 777572 0.29501658302672623\n",
      "k=12;max_iter=300;batch_size=500;max_no_improvement=10;reassignment_ratio=0.1 288389 0.33753103588474864\n"
     ]
    },
    {
     "name": "stdout",
     "output_type": "stream",
     "text": [
      "k=12;max_iter=300;batch_size=500;max_no_improvement=20;reassignment_ratio=0.005 670487 0.3963136126959875\n",
      "k=12;max_iter=300;batch_size=500;max_no_improvement=20;reassignment_ratio=0.005 116739 0.2691054960375211\n",
      "k=12;max_iter=300;batch_size=500;max_no_improvement=20;reassignment_ratio=0.005 26225 0.40231198175568184\n",
      "k=12;max_iter=300;batch_size=500;max_no_improvement=20;reassignment_ratio=0.005 777572 0.28469375921056156\n",
      "k=12;max_iter=300;batch_size=500;max_no_improvement=20;reassignment_ratio=0.005 288389 0.34025361522842246\n",
      "k=12;max_iter=300;batch_size=500;max_no_improvement=20;reassignment_ratio=0.01 670487 0.3963136126959875\n",
      "k=12;max_iter=300;batch_size=500;max_no_improvement=20;reassignment_ratio=0.01 116739 0.2506814681756985\n",
      "k=12;max_iter=300;batch_size=500;max_no_improvement=20;reassignment_ratio=0.01 26225 0.40231198175568184\n",
      "k=12;max_iter=300;batch_size=500;max_no_improvement=20;reassignment_ratio=0.01 777572 0.258298196961917\n",
      "k=12;max_iter=300;batch_size=500;max_no_improvement=20;reassignment_ratio=0.01 288389 0.34025361522842246\n",
      "k=12;max_iter=300;batch_size=500;max_no_improvement=20;reassignment_ratio=0.1 670487 0.3831804511638063\n",
      "k=12;max_iter=300;batch_size=500;max_no_improvement=20;reassignment_ratio=0.1 116739 0.3315557087080424\n",
      "k=12;max_iter=300;batch_size=500;max_no_improvement=20;reassignment_ratio=0.1 26225 0.40231198175568184\n",
      "k=12;max_iter=300;batch_size=500;max_no_improvement=20;reassignment_ratio=0.1 777572 0.29567971858823994\n",
      "k=12;max_iter=300;batch_size=500;max_no_improvement=20;reassignment_ratio=0.1 288389 0.33987618877848635\n",
      "k=12;max_iter=300;batch_size=1024;max_no_improvement=10;reassignment_ratio=0.005 670487 0.3974753911647558\n",
      "k=12;max_iter=300;batch_size=1024;max_no_improvement=10;reassignment_ratio=0.005 116739 0.25953797528827344\n",
      "k=12;max_iter=300;batch_size=1024;max_no_improvement=10;reassignment_ratio=0.005 26225 0.4001702987825496\n",
      "k=12;max_iter=300;batch_size=1024;max_no_improvement=10;reassignment_ratio=0.005 777572 0.29673829113800726\n",
      "k=12;max_iter=300;batch_size=1024;max_no_improvement=10;reassignment_ratio=0.005 288389 0.31964344502734726\n",
      "k=12;max_iter=300;batch_size=1024;max_no_improvement=10;reassignment_ratio=0.01 670487 0.3974753911647558\n",
      "k=12;max_iter=300;batch_size=1024;max_no_improvement=10;reassignment_ratio=0.01 116739 0.2586939862930403\n",
      "k=12;max_iter=300;batch_size=1024;max_no_improvement=10;reassignment_ratio=0.01 26225 0.4001702987825496\n",
      "k=12;max_iter=300;batch_size=1024;max_no_improvement=10;reassignment_ratio=0.01 777572 0.28978682168341363\n",
      "k=12;max_iter=300;batch_size=1024;max_no_improvement=10;reassignment_ratio=0.01 288389 0.33698411464112205\n",
      "k=12;max_iter=300;batch_size=1024;max_no_improvement=10;reassignment_ratio=0.1 670487 0.3898746417885759\n",
      "k=12;max_iter=300;batch_size=1024;max_no_improvement=10;reassignment_ratio=0.1 116739 0.3362137173982427\n",
      "k=12;max_iter=300;batch_size=1024;max_no_improvement=10;reassignment_ratio=0.1 26225 0.4001702987825496\n",
      "k=12;max_iter=300;batch_size=1024;max_no_improvement=10;reassignment_ratio=0.1 777572 0.3046391537246181\n",
      "k=12;max_iter=300;batch_size=1024;max_no_improvement=10;reassignment_ratio=0.1 288389 0.3399657001295545\n",
      "k=12;max_iter=300;batch_size=1024;max_no_improvement=20;reassignment_ratio=0.005 670487 0.4033866771295788\n",
      "k=12;max_iter=300;batch_size=1024;max_no_improvement=20;reassignment_ratio=0.005 116739 0.26029776363852347\n",
      "k=12;max_iter=300;batch_size=1024;max_no_improvement=20;reassignment_ratio=0.005 26225 0.3996331710092894\n",
      "k=12;max_iter=300;batch_size=1024;max_no_improvement=20;reassignment_ratio=0.005 777572 0.3013239415248796\n",
      "k=12;max_iter=300;batch_size=1024;max_no_improvement=20;reassignment_ratio=0.005 288389 0.3026897206467639\n",
      "k=12;max_iter=300;batch_size=1024;max_no_improvement=20;reassignment_ratio=0.01 670487 0.4033866771295788\n",
      "k=12;max_iter=300;batch_size=1024;max_no_improvement=20;reassignment_ratio=0.01 116739 0.2594041536755177\n",
      "k=12;max_iter=300;batch_size=1024;max_no_improvement=20;reassignment_ratio=0.01 26225 0.3996331710092894\n",
      "k=12;max_iter=300;batch_size=1024;max_no_improvement=20;reassignment_ratio=0.01 777572 0.2918128609373578\n",
      "k=12;max_iter=300;batch_size=1024;max_no_improvement=20;reassignment_ratio=0.01 288389 0.3372688232146867\n",
      "k=12;max_iter=300;batch_size=1024;max_no_improvement=20;reassignment_ratio=0.1 670487 0.39009870813705994\n",
      "k=12;max_iter=300;batch_size=1024;max_no_improvement=20;reassignment_ratio=0.1 116739 0.32077180890229584\n",
      "k=12;max_iter=300;batch_size=1024;max_no_improvement=20;reassignment_ratio=0.1 26225 0.3996331710092894\n",
      "k=12;max_iter=300;batch_size=1024;max_no_improvement=20;reassignment_ratio=0.1 777572 0.30336049874489585\n",
      "k=12;max_iter=300;batch_size=1024;max_no_improvement=20;reassignment_ratio=0.1 288389 0.33992145145865194\n",
      "k=13;max_iter=300;batch_size=100;max_no_improvement=10;reassignment_ratio=0.005 670487 0.4492399931040866\n",
      "k=13;max_iter=300;batch_size=100;max_no_improvement=10;reassignment_ratio=0.005 116739 0.3556071887001738\n",
      "k=13;max_iter=300;batch_size=100;max_no_improvement=10;reassignment_ratio=0.005 26225 0.23754246762046072\n",
      "k=13;max_iter=300;batch_size=100;max_no_improvement=10;reassignment_ratio=0.005 777572 0.30956374651341967\n",
      "k=13;max_iter=300;batch_size=100;max_no_improvement=10;reassignment_ratio=0.005 288389 0.3009005509085851\n",
      "k=13;max_iter=300;batch_size=100;max_no_improvement=10;reassignment_ratio=0.01 670487 0.46844437508029535\n",
      "k=13;max_iter=300;batch_size=100;max_no_improvement=10;reassignment_ratio=0.01 116739 0.3769214451222485\n",
      "k=13;max_iter=300;batch_size=100;max_no_improvement=10;reassignment_ratio=0.01 26225 0.23727980586352404\n",
      "k=13;max_iter=300;batch_size=100;max_no_improvement=10;reassignment_ratio=0.01 777572 0.3088197032246187\n",
      "k=13;max_iter=300;batch_size=100;max_no_improvement=10;reassignment_ratio=0.01 288389 0.30264673123448205\n",
      "k=13;max_iter=300;batch_size=100;max_no_improvement=10;reassignment_ratio=0.1 670487 0.4647436119678472\n",
      "k=13;max_iter=300;batch_size=100;max_no_improvement=10;reassignment_ratio=0.1 116739 0.4943843254978644\n",
      "k=13;max_iter=300;batch_size=100;max_no_improvement=10;reassignment_ratio=0.1 26225 0.28513143049723755\n",
      "k=13;max_iter=300;batch_size=100;max_no_improvement=10;reassignment_ratio=0.1 777572 0.31905890434352746\n",
      "k=13;max_iter=300;batch_size=100;max_no_improvement=10;reassignment_ratio=0.1 288389 0.4675850778772115\n",
      "k=13;max_iter=300;batch_size=100;max_no_improvement=20;reassignment_ratio=0.005 670487 0.4307914098695991\n",
      "k=13;max_iter=300;batch_size=100;max_no_improvement=20;reassignment_ratio=0.005 116739 0.3454819070315806\n",
      "k=13;max_iter=300;batch_size=100;max_no_improvement=20;reassignment_ratio=0.005 26225 0.2372128298229096\n",
      "k=13;max_iter=300;batch_size=100;max_no_improvement=20;reassignment_ratio=0.005 777572 0.3339526137067364\n",
      "k=13;max_iter=300;batch_size=100;max_no_improvement=20;reassignment_ratio=0.005 288389 0.2930287892095901\n",
      "k=13;max_iter=300;batch_size=100;max_no_improvement=20;reassignment_ratio=0.01 670487 0.46377155699280764\n",
      "k=13;max_iter=300;batch_size=100;max_no_improvement=20;reassignment_ratio=0.01 116739 0.36612110765207634\n",
      "k=13;max_iter=300;batch_size=100;max_no_improvement=20;reassignment_ratio=0.01 26225 0.23772999961329216\n",
      "k=13;max_iter=300;batch_size=100;max_no_improvement=20;reassignment_ratio=0.01 777572 0.3276886700866258\n",
      "k=13;max_iter=300;batch_size=100;max_no_improvement=20;reassignment_ratio=0.01 288389 0.2944549219620144\n",
      "k=13;max_iter=300;batch_size=100;max_no_improvement=20;reassignment_ratio=0.1 670487 0.464236768245755\n",
      "k=13;max_iter=300;batch_size=100;max_no_improvement=20;reassignment_ratio=0.1 116739 0.48753490884750444\n",
      "k=13;max_iter=300;batch_size=100;max_no_improvement=20;reassignment_ratio=0.1 26225 0.295920660223846\n",
      "k=13;max_iter=300;batch_size=100;max_no_improvement=20;reassignment_ratio=0.1 777572 0.3311017748437034\n",
      "k=13;max_iter=300;batch_size=100;max_no_improvement=20;reassignment_ratio=0.1 288389 0.4706391281096615\n",
      "k=13;max_iter=300;batch_size=500;max_no_improvement=10;reassignment_ratio=0.005 670487 0.40511853112035306\n",
      "k=13;max_iter=300;batch_size=500;max_no_improvement=10;reassignment_ratio=0.005 116739 0.2042482122296102\n",
      "k=13;max_iter=300;batch_size=500;max_no_improvement=10;reassignment_ratio=0.005 26225 0.2773523574322787\n"
     ]
    },
    {
     "name": "stdout",
     "output_type": "stream",
     "text": [
      "k=13;max_iter=300;batch_size=500;max_no_improvement=10;reassignment_ratio=0.005 777572 0.31934511826679857\n",
      "k=13;max_iter=300;batch_size=500;max_no_improvement=10;reassignment_ratio=0.005 288389 0.1923184479349595\n",
      "k=13;max_iter=300;batch_size=500;max_no_improvement=10;reassignment_ratio=0.01 670487 0.40511853112035306\n",
      "k=13;max_iter=300;batch_size=500;max_no_improvement=10;reassignment_ratio=0.01 116739 0.2193633010068831\n",
      "k=13;max_iter=300;batch_size=500;max_no_improvement=10;reassignment_ratio=0.01 26225 0.2773523574322787\n",
      "k=13;max_iter=300;batch_size=500;max_no_improvement=10;reassignment_ratio=0.01 777572 0.31934511826679857\n",
      "k=13;max_iter=300;batch_size=500;max_no_improvement=10;reassignment_ratio=0.01 288389 0.1923184479349595\n",
      "k=13;max_iter=300;batch_size=500;max_no_improvement=10;reassignment_ratio=0.1 670487 0.391808667576501\n",
      "k=13;max_iter=300;batch_size=500;max_no_improvement=10;reassignment_ratio=0.1 116739 0.3155118683175393\n",
      "k=13;max_iter=300;batch_size=500;max_no_improvement=10;reassignment_ratio=0.1 26225 0.27550619131615306\n",
      "k=13;max_iter=300;batch_size=500;max_no_improvement=10;reassignment_ratio=0.1 777572 0.3827939414605621\n",
      "k=13;max_iter=300;batch_size=500;max_no_improvement=10;reassignment_ratio=0.1 288389 0.26723565738020433\n",
      "k=13;max_iter=300;batch_size=500;max_no_improvement=20;reassignment_ratio=0.005 670487 0.40555104249953006\n",
      "k=13;max_iter=300;batch_size=500;max_no_improvement=20;reassignment_ratio=0.005 116739 0.2086756284388228\n",
      "k=13;max_iter=300;batch_size=500;max_no_improvement=20;reassignment_ratio=0.005 26225 0.27721031568119686\n",
      "k=13;max_iter=300;batch_size=500;max_no_improvement=20;reassignment_ratio=0.005 777572 0.3156577882655902\n",
      "k=13;max_iter=300;batch_size=500;max_no_improvement=20;reassignment_ratio=0.005 288389 0.19315867283409596\n",
      "k=13;max_iter=300;batch_size=500;max_no_improvement=20;reassignment_ratio=0.01 670487 0.40555104249953006\n",
      "k=13;max_iter=300;batch_size=500;max_no_improvement=20;reassignment_ratio=0.01 116739 0.2188816953287771\n",
      "k=13;max_iter=300;batch_size=500;max_no_improvement=20;reassignment_ratio=0.01 26225 0.27721031568119686\n",
      "k=13;max_iter=300;batch_size=500;max_no_improvement=20;reassignment_ratio=0.01 777572 0.3156577882655902\n",
      "k=13;max_iter=300;batch_size=500;max_no_improvement=20;reassignment_ratio=0.01 288389 0.19315867283409596\n",
      "k=13;max_iter=300;batch_size=500;max_no_improvement=20;reassignment_ratio=0.1 670487 0.39412138767261623\n",
      "k=13;max_iter=300;batch_size=500;max_no_improvement=20;reassignment_ratio=0.1 116739 0.3105361249103532\n",
      "k=13;max_iter=300;batch_size=500;max_no_improvement=20;reassignment_ratio=0.1 26225 0.27001598660136494\n",
      "k=13;max_iter=300;batch_size=500;max_no_improvement=20;reassignment_ratio=0.1 777572 0.3824799564275924\n",
      "k=13;max_iter=300;batch_size=500;max_no_improvement=20;reassignment_ratio=0.1 288389 0.2599095570184781\n",
      "k=13;max_iter=300;batch_size=1024;max_no_improvement=10;reassignment_ratio=0.005 670487 0.39728219810090176\n",
      "k=13;max_iter=300;batch_size=1024;max_no_improvement=10;reassignment_ratio=0.005 116739 0.19806802480718108\n",
      "k=13;max_iter=300;batch_size=1024;max_no_improvement=10;reassignment_ratio=0.005 26225 0.2709051180815012\n",
      "k=13;max_iter=300;batch_size=1024;max_no_improvement=10;reassignment_ratio=0.005 777572 0.30942150776838273\n",
      "k=13;max_iter=300;batch_size=1024;max_no_improvement=10;reassignment_ratio=0.005 288389 0.1982246774114235\n",
      "k=13;max_iter=300;batch_size=1024;max_no_improvement=10;reassignment_ratio=0.01 670487 0.39728219810090176\n",
      "k=13;max_iter=300;batch_size=1024;max_no_improvement=10;reassignment_ratio=0.01 116739 0.1981913911177723\n",
      "k=13;max_iter=300;batch_size=1024;max_no_improvement=10;reassignment_ratio=0.01 26225 0.2709051180815012\n",
      "k=13;max_iter=300;batch_size=1024;max_no_improvement=10;reassignment_ratio=0.01 777572 0.30942150776838273\n",
      "k=13;max_iter=300;batch_size=1024;max_no_improvement=10;reassignment_ratio=0.01 288389 0.1982246774114235\n",
      "k=13;max_iter=300;batch_size=1024;max_no_improvement=10;reassignment_ratio=0.1 670487 0.3831617253513776\n",
      "k=13;max_iter=300;batch_size=1024;max_no_improvement=10;reassignment_ratio=0.1 116739 0.3308771689661979\n",
      "k=13;max_iter=300;batch_size=1024;max_no_improvement=10;reassignment_ratio=0.1 26225 0.26633785427663037\n",
      "k=13;max_iter=300;batch_size=1024;max_no_improvement=10;reassignment_ratio=0.1 777572 0.3844628302778502\n",
      "k=13;max_iter=300;batch_size=1024;max_no_improvement=10;reassignment_ratio=0.1 288389 0.3741464878207278\n",
      "k=13;max_iter=300;batch_size=1024;max_no_improvement=20;reassignment_ratio=0.005 670487 0.40130670369882515\n",
      "k=13;max_iter=300;batch_size=1024;max_no_improvement=20;reassignment_ratio=0.005 116739 0.19506521246561662\n",
      "k=13;max_iter=300;batch_size=1024;max_no_improvement=20;reassignment_ratio=0.005 26225 0.2676521872257175\n",
      "k=13;max_iter=300;batch_size=1024;max_no_improvement=20;reassignment_ratio=0.005 777572 0.30911099633038597\n",
      "k=13;max_iter=300;batch_size=1024;max_no_improvement=20;reassignment_ratio=0.005 288389 0.18605879811488193\n",
      "k=13;max_iter=300;batch_size=1024;max_no_improvement=20;reassignment_ratio=0.01 670487 0.40130670369882515\n",
      "k=13;max_iter=300;batch_size=1024;max_no_improvement=20;reassignment_ratio=0.01 116739 0.19849491747888803\n",
      "k=13;max_iter=300;batch_size=1024;max_no_improvement=20;reassignment_ratio=0.01 26225 0.2676521872257175\n",
      "k=13;max_iter=300;batch_size=1024;max_no_improvement=20;reassignment_ratio=0.01 777572 0.30911099633038597\n",
      "k=13;max_iter=300;batch_size=1024;max_no_improvement=20;reassignment_ratio=0.01 288389 0.18605879811488193\n",
      "k=13;max_iter=300;batch_size=1024;max_no_improvement=20;reassignment_ratio=0.1 670487 0.37966576919730577\n",
      "k=13;max_iter=300;batch_size=1024;max_no_improvement=20;reassignment_ratio=0.1 116739 0.3239148972026903\n",
      "k=13;max_iter=300;batch_size=1024;max_no_improvement=20;reassignment_ratio=0.1 26225 0.26670798667799944\n",
      "k=13;max_iter=300;batch_size=1024;max_no_improvement=20;reassignment_ratio=0.1 777572 0.3850985389067846\n",
      "k=13;max_iter=300;batch_size=1024;max_no_improvement=20;reassignment_ratio=0.1 288389 0.3776555056467036\n",
      "k=14;max_iter=300;batch_size=100;max_no_improvement=10;reassignment_ratio=0.005 670487 0.27859406908310325\n",
      "k=14;max_iter=300;batch_size=100;max_no_improvement=10;reassignment_ratio=0.005 116739 0.2950895270242427\n",
      "k=14;max_iter=300;batch_size=100;max_no_improvement=10;reassignment_ratio=0.005 26225 0.3237072383301046\n",
      "k=14;max_iter=300;batch_size=100;max_no_improvement=10;reassignment_ratio=0.005 777572 0.24446377859404078\n",
      "k=14;max_iter=300;batch_size=100;max_no_improvement=10;reassignment_ratio=0.005 288389 0.3037468905553332\n",
      "k=14;max_iter=300;batch_size=100;max_no_improvement=10;reassignment_ratio=0.01 670487 0.2643986912420152\n",
      "k=14;max_iter=300;batch_size=100;max_no_improvement=10;reassignment_ratio=0.01 116739 0.2518490627228225\n",
      "k=14;max_iter=300;batch_size=100;max_no_improvement=10;reassignment_ratio=0.01 26225 0.32183798397860314\n",
      "k=14;max_iter=300;batch_size=100;max_no_improvement=10;reassignment_ratio=0.01 777572 0.24538026617692077\n",
      "k=14;max_iter=300;batch_size=100;max_no_improvement=10;reassignment_ratio=0.01 288389 0.3068545100951692\n",
      "k=14;max_iter=300;batch_size=100;max_no_improvement=10;reassignment_ratio=0.1 670487 0.27849564186945464\n",
      "k=14;max_iter=300;batch_size=100;max_no_improvement=10;reassignment_ratio=0.1 116739 0.3546510024352414\n",
      "k=14;max_iter=300;batch_size=100;max_no_improvement=10;reassignment_ratio=0.1 26225 0.390799089247745\n",
      "k=14;max_iter=300;batch_size=100;max_no_improvement=10;reassignment_ratio=0.1 777572 0.23576644155738316\n",
      "k=14;max_iter=300;batch_size=100;max_no_improvement=10;reassignment_ratio=0.1 288389 0.3205205948173755\n",
      "k=14;max_iter=300;batch_size=100;max_no_improvement=20;reassignment_ratio=0.005 670487 0.2718446009174905\n",
      "k=14;max_iter=300;batch_size=100;max_no_improvement=20;reassignment_ratio=0.005 116739 0.292963785164169\n",
      "k=14;max_iter=300;batch_size=100;max_no_improvement=20;reassignment_ratio=0.005 26225 0.32581574008388026\n",
      "k=14;max_iter=300;batch_size=100;max_no_improvement=20;reassignment_ratio=0.005 777572 0.24449947968451163\n",
      "k=14;max_iter=300;batch_size=100;max_no_improvement=20;reassignment_ratio=0.005 288389 0.2916790212681387\n",
      "k=14;max_iter=300;batch_size=100;max_no_improvement=20;reassignment_ratio=0.01 670487 0.26585925629865237\n"
     ]
    },
    {
     "name": "stdout",
     "output_type": "stream",
     "text": [
      "k=14;max_iter=300;batch_size=100;max_no_improvement=20;reassignment_ratio=0.01 116739 0.23967091433194726\n",
      "k=14;max_iter=300;batch_size=100;max_no_improvement=20;reassignment_ratio=0.01 26225 0.32504979974276005\n",
      "k=14;max_iter=300;batch_size=100;max_no_improvement=20;reassignment_ratio=0.01 777572 0.24813546885198473\n",
      "k=14;max_iter=300;batch_size=100;max_no_improvement=20;reassignment_ratio=0.01 288389 0.30202243123219186\n",
      "k=14;max_iter=300;batch_size=100;max_no_improvement=20;reassignment_ratio=0.1 670487 0.2755294348033832\n",
      "k=14;max_iter=300;batch_size=100;max_no_improvement=20;reassignment_ratio=0.1 116739 0.35606378314359\n",
      "k=14;max_iter=300;batch_size=100;max_no_improvement=20;reassignment_ratio=0.1 26225 0.40348601914368154\n",
      "k=14;max_iter=300;batch_size=100;max_no_improvement=20;reassignment_ratio=0.1 777572 0.23227824372438516\n",
      "k=14;max_iter=300;batch_size=100;max_no_improvement=20;reassignment_ratio=0.1 288389 0.3125985609414038\n",
      "k=14;max_iter=300;batch_size=500;max_no_improvement=10;reassignment_ratio=0.005 670487 0.3422706960469041\n",
      "k=14;max_iter=300;batch_size=500;max_no_improvement=10;reassignment_ratio=0.005 116739 0.29046374949575804\n",
      "k=14;max_iter=300;batch_size=500;max_no_improvement=10;reassignment_ratio=0.005 26225 0.20367712535298887\n",
      "k=14;max_iter=300;batch_size=500;max_no_improvement=10;reassignment_ratio=0.005 777572 0.23905366335857756\n",
      "k=14;max_iter=300;batch_size=500;max_no_improvement=10;reassignment_ratio=0.005 288389 0.30937840428919194\n",
      "k=14;max_iter=300;batch_size=500;max_no_improvement=10;reassignment_ratio=0.01 670487 0.3422706960469041\n",
      "k=14;max_iter=300;batch_size=500;max_no_improvement=10;reassignment_ratio=0.01 116739 0.29046374949575804\n",
      "k=14;max_iter=300;batch_size=500;max_no_improvement=10;reassignment_ratio=0.01 26225 0.21361535597805115\n",
      "k=14;max_iter=300;batch_size=500;max_no_improvement=10;reassignment_ratio=0.01 777572 0.2614076290443332\n",
      "k=14;max_iter=300;batch_size=500;max_no_improvement=10;reassignment_ratio=0.01 288389 0.30937840428919194\n",
      "k=14;max_iter=300;batch_size=500;max_no_improvement=10;reassignment_ratio=0.1 670487 0.3166843164813856\n",
      "k=14;max_iter=300;batch_size=500;max_no_improvement=10;reassignment_ratio=0.1 116739 0.45274922576095133\n",
      "k=14;max_iter=300;batch_size=500;max_no_improvement=10;reassignment_ratio=0.1 26225 0.2169795725301637\n",
      "k=14;max_iter=300;batch_size=500;max_no_improvement=10;reassignment_ratio=0.1 777572 0.29195903164413806\n",
      "k=14;max_iter=300;batch_size=500;max_no_improvement=10;reassignment_ratio=0.1 288389 0.4689415702130846\n",
      "k=14;max_iter=300;batch_size=500;max_no_improvement=20;reassignment_ratio=0.005 670487 0.3457107950544104\n",
      "k=14;max_iter=300;batch_size=500;max_no_improvement=20;reassignment_ratio=0.005 116739 0.27649955934458836\n",
      "k=14;max_iter=300;batch_size=500;max_no_improvement=20;reassignment_ratio=0.005 26225 0.2029232838767207\n",
      "k=14;max_iter=300;batch_size=500;max_no_improvement=20;reassignment_ratio=0.005 777572 0.23905241593064977\n",
      "k=14;max_iter=300;batch_size=500;max_no_improvement=20;reassignment_ratio=0.005 288389 0.3034567587000113\n",
      "k=14;max_iter=300;batch_size=500;max_no_improvement=20;reassignment_ratio=0.01 670487 0.3457107950544104\n",
      "k=14;max_iter=300;batch_size=500;max_no_improvement=20;reassignment_ratio=0.01 116739 0.27649955934458836\n",
      "k=14;max_iter=300;batch_size=500;max_no_improvement=20;reassignment_ratio=0.01 26225 0.21328764775117512\n",
      "k=14;max_iter=300;batch_size=500;max_no_improvement=20;reassignment_ratio=0.01 777572 0.2540706448537849\n",
      "k=14;max_iter=300;batch_size=500;max_no_improvement=20;reassignment_ratio=0.01 288389 0.3034567587000113\n",
      "k=14;max_iter=300;batch_size=500;max_no_improvement=20;reassignment_ratio=0.1 670487 0.3112013545671103\n",
      "k=14;max_iter=300;batch_size=500;max_no_improvement=20;reassignment_ratio=0.1 116739 0.43963038138424027\n",
      "k=14;max_iter=300;batch_size=500;max_no_improvement=20;reassignment_ratio=0.1 26225 0.2083092405889025\n",
      "k=14;max_iter=300;batch_size=500;max_no_improvement=20;reassignment_ratio=0.1 777572 0.29310720362572784\n",
      "k=14;max_iter=300;batch_size=500;max_no_improvement=20;reassignment_ratio=0.1 288389 0.4696746078232817\n",
      "k=14;max_iter=300;batch_size=1024;max_no_improvement=10;reassignment_ratio=0.005 670487 0.3872104133961396\n",
      "k=14;max_iter=300;batch_size=1024;max_no_improvement=10;reassignment_ratio=0.005 116739 0.30882368876685473\n",
      "k=14;max_iter=300;batch_size=1024;max_no_improvement=10;reassignment_ratio=0.005 26225 0.20434858489830504\n",
      "k=14;max_iter=300;batch_size=1024;max_no_improvement=10;reassignment_ratio=0.005 777572 0.2328868754928856\n",
      "k=14;max_iter=300;batch_size=1024;max_no_improvement=10;reassignment_ratio=0.005 288389 0.28299723440821933\n",
      "k=14;max_iter=300;batch_size=1024;max_no_improvement=10;reassignment_ratio=0.01 670487 0.3872104133961396\n",
      "k=14;max_iter=300;batch_size=1024;max_no_improvement=10;reassignment_ratio=0.01 116739 0.30882368876685473\n",
      "k=14;max_iter=300;batch_size=1024;max_no_improvement=10;reassignment_ratio=0.01 26225 0.20260522893274518\n",
      "k=14;max_iter=300;batch_size=1024;max_no_improvement=10;reassignment_ratio=0.01 777572 0.23402039544342151\n",
      "k=14;max_iter=300;batch_size=1024;max_no_improvement=10;reassignment_ratio=0.01 288389 0.28299723440821933\n",
      "k=14;max_iter=300;batch_size=1024;max_no_improvement=10;reassignment_ratio=0.1 670487 0.37040202247173903\n",
      "k=14;max_iter=300;batch_size=1024;max_no_improvement=10;reassignment_ratio=0.1 116739 0.47687243845268107\n",
      "k=14;max_iter=300;batch_size=1024;max_no_improvement=10;reassignment_ratio=0.1 26225 0.2751140335284118\n",
      "k=14;max_iter=300;batch_size=1024;max_no_improvement=10;reassignment_ratio=0.1 777572 0.2703275413321208\n",
      "k=14;max_iter=300;batch_size=1024;max_no_improvement=10;reassignment_ratio=0.1 288389 0.3655290822258256\n",
      "k=14;max_iter=300;batch_size=1024;max_no_improvement=20;reassignment_ratio=0.005 670487 0.38978923411127225\n",
      "k=14;max_iter=300;batch_size=1024;max_no_improvement=20;reassignment_ratio=0.005 116739 0.3081305545530152\n",
      "k=14;max_iter=300;batch_size=1024;max_no_improvement=20;reassignment_ratio=0.005 26225 0.2020722423600725\n",
      "k=14;max_iter=300;batch_size=1024;max_no_improvement=20;reassignment_ratio=0.005 777572 0.23239586471585627\n",
      "k=14;max_iter=300;batch_size=1024;max_no_improvement=20;reassignment_ratio=0.005 288389 0.27301331046212224\n",
      "k=14;max_iter=300;batch_size=1024;max_no_improvement=20;reassignment_ratio=0.01 670487 0.38978923411127225\n",
      "k=14;max_iter=300;batch_size=1024;max_no_improvement=20;reassignment_ratio=0.01 116739 0.3081305545530152\n",
      "k=14;max_iter=300;batch_size=1024;max_no_improvement=20;reassignment_ratio=0.01 26225 0.2021539295963215\n",
      "k=14;max_iter=300;batch_size=1024;max_no_improvement=20;reassignment_ratio=0.01 777572 0.23646116722060811\n",
      "k=14;max_iter=300;batch_size=1024;max_no_improvement=20;reassignment_ratio=0.01 288389 0.27301331046212224\n",
      "k=14;max_iter=300;batch_size=1024;max_no_improvement=20;reassignment_ratio=0.1 670487 0.37050679110495083\n",
      "k=14;max_iter=300;batch_size=1024;max_no_improvement=20;reassignment_ratio=0.1 116739 0.4771095100436548\n",
      "k=14;max_iter=300;batch_size=1024;max_no_improvement=20;reassignment_ratio=0.1 26225 0.3071301919014824\n",
      "k=14;max_iter=300;batch_size=1024;max_no_improvement=20;reassignment_ratio=0.1 777572 0.27053802962401813\n",
      "k=14;max_iter=300;batch_size=1024;max_no_improvement=20;reassignment_ratio=0.1 288389 0.371719633991456\n",
      "k=15;max_iter=300;batch_size=100;max_no_improvement=10;reassignment_ratio=0.005 670487 0.30731229100489543\n",
      "k=15;max_iter=300;batch_size=100;max_no_improvement=10;reassignment_ratio=0.005 116739 0.3029827220263166\n",
      "k=15;max_iter=300;batch_size=100;max_no_improvement=10;reassignment_ratio=0.005 26225 0.33679382534547136\n",
      "k=15;max_iter=300;batch_size=100;max_no_improvement=10;reassignment_ratio=0.005 777572 0.2511533681671668\n",
      "k=15;max_iter=300;batch_size=100;max_no_improvement=10;reassignment_ratio=0.005 288389 0.41873879002495507\n",
      "k=15;max_iter=300;batch_size=100;max_no_improvement=10;reassignment_ratio=0.01 670487 0.32368126371421924\n",
      "k=15;max_iter=300;batch_size=100;max_no_improvement=10;reassignment_ratio=0.01 116739 0.29667357872999445\n",
      "k=15;max_iter=300;batch_size=100;max_no_improvement=10;reassignment_ratio=0.01 26225 0.3368531397002326\n",
      "k=15;max_iter=300;batch_size=100;max_no_improvement=10;reassignment_ratio=0.01 777572 0.24562216277017354\n"
     ]
    },
    {
     "name": "stdout",
     "output_type": "stream",
     "text": [
      "k=15;max_iter=300;batch_size=100;max_no_improvement=10;reassignment_ratio=0.01 288389 0.43060121539030516\n",
      "k=15;max_iter=300;batch_size=100;max_no_improvement=10;reassignment_ratio=0.1 670487 0.2758513563183217\n",
      "k=15;max_iter=300;batch_size=100;max_no_improvement=10;reassignment_ratio=0.1 116739 0.29990662364893794\n",
      "k=15;max_iter=300;batch_size=100;max_no_improvement=10;reassignment_ratio=0.1 26225 0.36223581229526747\n",
      "k=15;max_iter=300;batch_size=100;max_no_improvement=10;reassignment_ratio=0.1 777572 0.3031725284436827\n",
      "k=15;max_iter=300;batch_size=100;max_no_improvement=10;reassignment_ratio=0.1 288389 0.41791663405193546\n",
      "k=15;max_iter=300;batch_size=100;max_no_improvement=20;reassignment_ratio=0.005 670487 0.3129129528977449\n",
      "k=15;max_iter=300;batch_size=100;max_no_improvement=20;reassignment_ratio=0.005 116739 0.2922577556028228\n",
      "k=15;max_iter=300;batch_size=100;max_no_improvement=20;reassignment_ratio=0.005 26225 0.34058859419208554\n",
      "k=15;max_iter=300;batch_size=100;max_no_improvement=20;reassignment_ratio=0.005 777572 0.25475280695916547\n",
      "k=15;max_iter=300;batch_size=100;max_no_improvement=20;reassignment_ratio=0.005 288389 0.42057795574772927\n",
      "k=15;max_iter=300;batch_size=100;max_no_improvement=20;reassignment_ratio=0.01 670487 0.3280998023453655\n",
      "k=15;max_iter=300;batch_size=100;max_no_improvement=20;reassignment_ratio=0.01 116739 0.2937321996877862\n",
      "k=15;max_iter=300;batch_size=100;max_no_improvement=20;reassignment_ratio=0.01 26225 0.33795401175638956\n",
      "k=15;max_iter=300;batch_size=100;max_no_improvement=20;reassignment_ratio=0.01 777572 0.25372907108802323\n",
      "k=15;max_iter=300;batch_size=100;max_no_improvement=20;reassignment_ratio=0.01 288389 0.4183600884231932\n",
      "k=15;max_iter=300;batch_size=100;max_no_improvement=20;reassignment_ratio=0.1 670487 0.2728733601456537\n",
      "k=15;max_iter=300;batch_size=100;max_no_improvement=20;reassignment_ratio=0.1 116739 0.28619293385778394\n",
      "k=15;max_iter=300;batch_size=100;max_no_improvement=20;reassignment_ratio=0.1 26225 0.36872933287917037\n",
      "k=15;max_iter=300;batch_size=100;max_no_improvement=20;reassignment_ratio=0.1 777572 0.30337989477332894\n",
      "k=15;max_iter=300;batch_size=100;max_no_improvement=20;reassignment_ratio=0.1 288389 0.4151008554793369\n",
      "k=15;max_iter=300;batch_size=500;max_no_improvement=10;reassignment_ratio=0.005 670487 0.3365960106567325\n",
      "k=15;max_iter=300;batch_size=500;max_no_improvement=10;reassignment_ratio=0.005 116739 0.2535995925819306\n",
      "k=15;max_iter=300;batch_size=500;max_no_improvement=10;reassignment_ratio=0.005 26225 0.2504477485051562\n",
      "k=15;max_iter=300;batch_size=500;max_no_improvement=10;reassignment_ratio=0.005 777572 0.23186386366937917\n",
      "k=15;max_iter=300;batch_size=500;max_no_improvement=10;reassignment_ratio=0.005 288389 0.46108406114003087\n",
      "k=15;max_iter=300;batch_size=500;max_no_improvement=10;reassignment_ratio=0.01 670487 0.3365960106567325\n",
      "k=15;max_iter=300;batch_size=500;max_no_improvement=10;reassignment_ratio=0.01 116739 0.254826642445087\n",
      "k=15;max_iter=300;batch_size=500;max_no_improvement=10;reassignment_ratio=0.01 26225 0.24172758406370876\n",
      "k=15;max_iter=300;batch_size=500;max_no_improvement=10;reassignment_ratio=0.01 777572 0.23186386366937917\n",
      "k=15;max_iter=300;batch_size=500;max_no_improvement=10;reassignment_ratio=0.01 288389 0.4687022835021423\n",
      "k=15;max_iter=300;batch_size=500;max_no_improvement=10;reassignment_ratio=0.1 670487 0.3035737414484775\n",
      "k=15;max_iter=300;batch_size=500;max_no_improvement=10;reassignment_ratio=0.1 116739 0.24443598203794487\n",
      "k=15;max_iter=300;batch_size=500;max_no_improvement=10;reassignment_ratio=0.1 26225 0.24920161491805076\n",
      "k=15;max_iter=300;batch_size=500;max_no_improvement=10;reassignment_ratio=0.1 777572 0.3560909285375995\n",
      "k=15;max_iter=300;batch_size=500;max_no_improvement=10;reassignment_ratio=0.1 288389 0.4520036584478798\n",
      "k=15;max_iter=300;batch_size=500;max_no_improvement=20;reassignment_ratio=0.005 670487 0.3016448213111354\n",
      "k=15;max_iter=300;batch_size=500;max_no_improvement=20;reassignment_ratio=0.005 116739 0.2506887925596808\n",
      "k=15;max_iter=300;batch_size=500;max_no_improvement=20;reassignment_ratio=0.005 26225 0.2547516470272435\n",
      "k=15;max_iter=300;batch_size=500;max_no_improvement=20;reassignment_ratio=0.005 777572 0.23515455007286815\n",
      "k=15;max_iter=300;batch_size=500;max_no_improvement=20;reassignment_ratio=0.005 288389 0.46183246171909365\n",
      "k=15;max_iter=300;batch_size=500;max_no_improvement=20;reassignment_ratio=0.01 670487 0.3016448213111354\n",
      "k=15;max_iter=300;batch_size=500;max_no_improvement=20;reassignment_ratio=0.01 116739 0.25284378422973425\n",
      "k=15;max_iter=300;batch_size=500;max_no_improvement=20;reassignment_ratio=0.01 26225 0.2366750508905872\n",
      "k=15;max_iter=300;batch_size=500;max_no_improvement=20;reassignment_ratio=0.01 777572 0.23515455007286815\n",
      "k=15;max_iter=300;batch_size=500;max_no_improvement=20;reassignment_ratio=0.01 288389 0.47154740283825874\n",
      "k=15;max_iter=300;batch_size=500;max_no_improvement=20;reassignment_ratio=0.1 670487 0.26131297791481883\n",
      "k=15;max_iter=300;batch_size=500;max_no_improvement=20;reassignment_ratio=0.1 116739 0.24181838935381209\n",
      "k=15;max_iter=300;batch_size=500;max_no_improvement=20;reassignment_ratio=0.1 26225 0.251540923847465\n",
      "k=15;max_iter=300;batch_size=500;max_no_improvement=20;reassignment_ratio=0.1 777572 0.3597004448112262\n",
      "k=15;max_iter=300;batch_size=500;max_no_improvement=20;reassignment_ratio=0.1 288389 0.4585028014878713\n",
      "k=15;max_iter=300;batch_size=1024;max_no_improvement=10;reassignment_ratio=0.005 670487 0.3461777395296204\n",
      "k=15;max_iter=300;batch_size=1024;max_no_improvement=10;reassignment_ratio=0.005 116739 0.23103676498829084\n",
      "k=15;max_iter=300;batch_size=1024;max_no_improvement=10;reassignment_ratio=0.005 26225 0.23296059292182975\n",
      "k=15;max_iter=300;batch_size=1024;max_no_improvement=10;reassignment_ratio=0.005 777572 0.21950976038115733\n",
      "k=15;max_iter=300;batch_size=1024;max_no_improvement=10;reassignment_ratio=0.005 288389 0.36269820509827316\n",
      "k=15;max_iter=300;batch_size=1024;max_no_improvement=10;reassignment_ratio=0.01 670487 0.3461777395296204\n",
      "k=15;max_iter=300;batch_size=1024;max_no_improvement=10;reassignment_ratio=0.01 116739 0.23129281502087123\n",
      "k=15;max_iter=300;batch_size=1024;max_no_improvement=10;reassignment_ratio=0.01 26225 0.23296059292182975\n",
      "k=15;max_iter=300;batch_size=1024;max_no_improvement=10;reassignment_ratio=0.01 777572 0.21950976038115733\n",
      "k=15;max_iter=300;batch_size=1024;max_no_improvement=10;reassignment_ratio=0.01 288389 0.3684245743707303\n",
      "k=15;max_iter=300;batch_size=1024;max_no_improvement=10;reassignment_ratio=0.1 670487 0.32606901489861784\n",
      "k=15;max_iter=300;batch_size=1024;max_no_improvement=10;reassignment_ratio=0.1 116739 0.23856148806575134\n",
      "k=15;max_iter=300;batch_size=1024;max_no_improvement=10;reassignment_ratio=0.1 26225 0.2522769098646141\n",
      "k=15;max_iter=300;batch_size=1024;max_no_improvement=10;reassignment_ratio=0.1 777572 0.32886834224483463\n",
      "k=15;max_iter=300;batch_size=1024;max_no_improvement=10;reassignment_ratio=0.1 288389 0.45447253059887444\n",
      "k=15;max_iter=300;batch_size=1024;max_no_improvement=20;reassignment_ratio=0.005 670487 0.3277257428491583\n",
      "k=15;max_iter=300;batch_size=1024;max_no_improvement=20;reassignment_ratio=0.005 116739 0.23040100906083122\n",
      "k=15;max_iter=300;batch_size=1024;max_no_improvement=20;reassignment_ratio=0.005 26225 0.23516350848593448\n",
      "k=15;max_iter=300;batch_size=1024;max_no_improvement=20;reassignment_ratio=0.005 777572 0.2203421438636028\n",
      "k=15;max_iter=300;batch_size=1024;max_no_improvement=20;reassignment_ratio=0.005 288389 0.3529359138667715\n",
      "k=15;max_iter=300;batch_size=1024;max_no_improvement=20;reassignment_ratio=0.01 670487 0.3277257428491583\n",
      "k=15;max_iter=300;batch_size=1024;max_no_improvement=20;reassignment_ratio=0.01 116739 0.2284299368741728\n",
      "k=15;max_iter=300;batch_size=1024;max_no_improvement=20;reassignment_ratio=0.01 26225 0.23516350848593448\n",
      "k=15;max_iter=300;batch_size=1024;max_no_improvement=20;reassignment_ratio=0.01 777572 0.2203421438636028\n",
      "k=15;max_iter=300;batch_size=1024;max_no_improvement=20;reassignment_ratio=0.01 288389 0.36845802715325765\n",
      "k=15;max_iter=300;batch_size=1024;max_no_improvement=20;reassignment_ratio=0.1 670487 0.3178730555025566\n",
      "k=15;max_iter=300;batch_size=1024;max_no_improvement=20;reassignment_ratio=0.1 116739 0.2385918805251267\n"
     ]
    },
    {
     "name": "stdout",
     "output_type": "stream",
     "text": [
      "k=15;max_iter=300;batch_size=1024;max_no_improvement=20;reassignment_ratio=0.1 26225 0.26628570390016715\n",
      "k=15;max_iter=300;batch_size=1024;max_no_improvement=20;reassignment_ratio=0.1 777572 0.3329210492162335\n",
      "k=15;max_iter=300;batch_size=1024;max_no_improvement=20;reassignment_ratio=0.1 288389 0.450702664948529\n",
      "k=16;max_iter=300;batch_size=100;max_no_improvement=10;reassignment_ratio=0.005 670487 0.30582992754894067\n",
      "k=16;max_iter=300;batch_size=100;max_no_improvement=10;reassignment_ratio=0.005 116739 0.36205158674485716\n",
      "k=16;max_iter=300;batch_size=100;max_no_improvement=10;reassignment_ratio=0.005 26225 0.39588209470935737\n",
      "k=16;max_iter=300;batch_size=100;max_no_improvement=10;reassignment_ratio=0.005 777572 0.22937728638414037\n",
      "k=16;max_iter=300;batch_size=100;max_no_improvement=10;reassignment_ratio=0.005 288389 0.3863965962397182\n",
      "k=16;max_iter=300;batch_size=100;max_no_improvement=10;reassignment_ratio=0.01 670487 0.3070615029847211\n",
      "k=16;max_iter=300;batch_size=100;max_no_improvement=10;reassignment_ratio=0.01 116739 0.30477711602799884\n",
      "k=16;max_iter=300;batch_size=100;max_no_improvement=10;reassignment_ratio=0.01 26225 0.4118517444055786\n",
      "k=16;max_iter=300;batch_size=100;max_no_improvement=10;reassignment_ratio=0.01 777572 0.24196337861238734\n",
      "k=16;max_iter=300;batch_size=100;max_no_improvement=10;reassignment_ratio=0.01 288389 0.38476054839866547\n",
      "k=16;max_iter=300;batch_size=100;max_no_improvement=10;reassignment_ratio=0.1 670487 0.347392649919537\n",
      "k=16;max_iter=300;batch_size=100;max_no_improvement=10;reassignment_ratio=0.1 116739 0.358446953350844\n",
      "k=16;max_iter=300;batch_size=100;max_no_improvement=10;reassignment_ratio=0.1 26225 0.38930182164271443\n",
      "k=16;max_iter=300;batch_size=100;max_no_improvement=10;reassignment_ratio=0.1 777572 0.32432423253207654\n",
      "k=16;max_iter=300;batch_size=100;max_no_improvement=10;reassignment_ratio=0.1 288389 0.4843490528788229\n",
      "k=16;max_iter=300;batch_size=100;max_no_improvement=20;reassignment_ratio=0.005 670487 0.29990434061371085\n",
      "k=16;max_iter=300;batch_size=100;max_no_improvement=20;reassignment_ratio=0.005 116739 0.3525377843452945\n",
      "k=16;max_iter=300;batch_size=100;max_no_improvement=20;reassignment_ratio=0.005 26225 0.3958577835401036\n",
      "k=16;max_iter=300;batch_size=100;max_no_improvement=20;reassignment_ratio=0.005 777572 0.23556308848913293\n",
      "k=16;max_iter=300;batch_size=100;max_no_improvement=20;reassignment_ratio=0.005 288389 0.39246224044359657\n",
      "k=16;max_iter=300;batch_size=100;max_no_improvement=20;reassignment_ratio=0.01 670487 0.2989776856819013\n",
      "k=16;max_iter=300;batch_size=100;max_no_improvement=20;reassignment_ratio=0.01 116739 0.30250770593914583\n",
      "k=16;max_iter=300;batch_size=100;max_no_improvement=20;reassignment_ratio=0.01 26225 0.4119870658041166\n",
      "k=16;max_iter=300;batch_size=100;max_no_improvement=20;reassignment_ratio=0.01 777572 0.24344922451708131\n",
      "k=16;max_iter=300;batch_size=100;max_no_improvement=20;reassignment_ratio=0.01 288389 0.39020853744678724\n",
      "k=16;max_iter=300;batch_size=100;max_no_improvement=20;reassignment_ratio=0.1 670487 0.33952218743517026\n",
      "k=16;max_iter=300;batch_size=100;max_no_improvement=20;reassignment_ratio=0.1 116739 0.3583110491594541\n",
      "k=16;max_iter=300;batch_size=100;max_no_improvement=20;reassignment_ratio=0.1 26225 0.3916014433037877\n",
      "k=16;max_iter=300;batch_size=100;max_no_improvement=20;reassignment_ratio=0.1 777572 0.32730146225267054\n",
      "k=16;max_iter=300;batch_size=100;max_no_improvement=20;reassignment_ratio=0.1 288389 0.48455351643106015\n",
      "k=16;max_iter=300;batch_size=500;max_no_improvement=10;reassignment_ratio=0.005 670487 0.32313102349718525\n",
      "k=16;max_iter=300;batch_size=500;max_no_improvement=10;reassignment_ratio=0.005 116739 0.22336428944251124\n",
      "k=16;max_iter=300;batch_size=500;max_no_improvement=10;reassignment_ratio=0.005 26225 0.2471681181833879\n",
      "k=16;max_iter=300;batch_size=500;max_no_improvement=10;reassignment_ratio=0.005 777572 0.40107557944002886\n",
      "k=16;max_iter=300;batch_size=500;max_no_improvement=10;reassignment_ratio=0.005 288389 0.21704157769450955\n",
      "k=16;max_iter=300;batch_size=500;max_no_improvement=10;reassignment_ratio=0.01 670487 0.32313102349718525\n",
      "k=16;max_iter=300;batch_size=500;max_no_improvement=10;reassignment_ratio=0.01 116739 0.22450785245630195\n",
      "k=16;max_iter=300;batch_size=500;max_no_improvement=10;reassignment_ratio=0.01 26225 0.2471681181833879\n",
      "k=16;max_iter=300;batch_size=500;max_no_improvement=10;reassignment_ratio=0.01 777572 0.4038049272972427\n",
      "k=16;max_iter=300;batch_size=500;max_no_improvement=10;reassignment_ratio=0.01 288389 0.19807778004329646\n",
      "k=16;max_iter=300;batch_size=500;max_no_improvement=10;reassignment_ratio=0.1 670487 0.2870821100513705\n",
      "k=16;max_iter=300;batch_size=500;max_no_improvement=10;reassignment_ratio=0.1 116739 0.34041421671745675\n",
      "k=16;max_iter=300;batch_size=500;max_no_improvement=10;reassignment_ratio=0.1 26225 0.24586953086715957\n",
      "k=16;max_iter=300;batch_size=500;max_no_improvement=10;reassignment_ratio=0.1 777572 0.42397603592758437\n",
      "k=16;max_iter=300;batch_size=500;max_no_improvement=10;reassignment_ratio=0.1 288389 0.25470685770911183\n",
      "k=16;max_iter=300;batch_size=500;max_no_improvement=20;reassignment_ratio=0.005 670487 0.2827477271061909\n",
      "k=16;max_iter=300;batch_size=500;max_no_improvement=20;reassignment_ratio=0.005 116739 0.2129312984804459\n",
      "k=16;max_iter=300;batch_size=500;max_no_improvement=20;reassignment_ratio=0.005 26225 0.24548862674893085\n",
      "k=16;max_iter=300;batch_size=500;max_no_improvement=20;reassignment_ratio=0.005 777572 0.4018264504640066\n",
      "k=16;max_iter=300;batch_size=500;max_no_improvement=20;reassignment_ratio=0.005 288389 0.21792184254988406\n",
      "k=16;max_iter=300;batch_size=500;max_no_improvement=20;reassignment_ratio=0.01 670487 0.2827477271061909\n",
      "k=16;max_iter=300;batch_size=500;max_no_improvement=20;reassignment_ratio=0.01 116739 0.22423181058728303\n",
      "k=16;max_iter=300;batch_size=500;max_no_improvement=20;reassignment_ratio=0.01 26225 0.24548862674893085\n",
      "k=16;max_iter=300;batch_size=500;max_no_improvement=20;reassignment_ratio=0.01 777572 0.404598608033986\n",
      "k=16;max_iter=300;batch_size=500;max_no_improvement=20;reassignment_ratio=0.01 288389 0.20346414731848395\n",
      "k=16;max_iter=300;batch_size=500;max_no_improvement=20;reassignment_ratio=0.1 670487 0.2533744340111922\n",
      "k=16;max_iter=300;batch_size=500;max_no_improvement=20;reassignment_ratio=0.1 116739 0.32053299094397014\n",
      "k=16;max_iter=300;batch_size=500;max_no_improvement=20;reassignment_ratio=0.1 26225 0.24054527923181634\n",
      "k=16;max_iter=300;batch_size=500;max_no_improvement=20;reassignment_ratio=0.1 777572 0.4240174146959957\n",
      "k=16;max_iter=300;batch_size=500;max_no_improvement=20;reassignment_ratio=0.1 288389 0.27332964936883286\n",
      "k=16;max_iter=300;batch_size=1024;max_no_improvement=10;reassignment_ratio=0.005 670487 0.34821554407884947\n",
      "k=16;max_iter=300;batch_size=1024;max_no_improvement=10;reassignment_ratio=0.005 116739 0.19994592067576455\n",
      "k=16;max_iter=300;batch_size=1024;max_no_improvement=10;reassignment_ratio=0.005 26225 0.25753938342977506\n",
      "k=16;max_iter=300;batch_size=1024;max_no_improvement=10;reassignment_ratio=0.005 777572 0.3468429049498758\n",
      "k=16;max_iter=300;batch_size=1024;max_no_improvement=10;reassignment_ratio=0.005 288389 0.2347460267987134\n",
      "k=16;max_iter=300;batch_size=1024;max_no_improvement=10;reassignment_ratio=0.01 670487 0.34821554407884947\n",
      "k=16;max_iter=300;batch_size=1024;max_no_improvement=10;reassignment_ratio=0.01 116739 0.19911090236873352\n",
      "k=16;max_iter=300;batch_size=1024;max_no_improvement=10;reassignment_ratio=0.01 26225 0.25753938342977506\n",
      "k=16;max_iter=300;batch_size=1024;max_no_improvement=10;reassignment_ratio=0.01 777572 0.3468429049498758\n",
      "k=16;max_iter=300;batch_size=1024;max_no_improvement=10;reassignment_ratio=0.01 288389 0.22549962758188863\n",
      "k=16;max_iter=300;batch_size=1024;max_no_improvement=10;reassignment_ratio=0.1 670487 0.3227427000174512\n",
      "k=16;max_iter=300;batch_size=1024;max_no_improvement=10;reassignment_ratio=0.1 116739 0.3191018601321205\n",
      "k=16;max_iter=300;batch_size=1024;max_no_improvement=10;reassignment_ratio=0.1 26225 0.3366543694416002\n",
      "k=16;max_iter=300;batch_size=1024;max_no_improvement=10;reassignment_ratio=0.1 777572 0.3937930105788715\n",
      "k=16;max_iter=300;batch_size=1024;max_no_improvement=10;reassignment_ratio=0.1 288389 0.22089293899286216\n"
     ]
    },
    {
     "name": "stdout",
     "output_type": "stream",
     "text": [
      "k=16;max_iter=300;batch_size=1024;max_no_improvement=20;reassignment_ratio=0.005 670487 0.31543331554205023\n",
      "k=16;max_iter=300;batch_size=1024;max_no_improvement=20;reassignment_ratio=0.005 116739 0.20032636540155607\n",
      "k=16;max_iter=300;batch_size=1024;max_no_improvement=20;reassignment_ratio=0.005 26225 0.2584375219147391\n",
      "k=16;max_iter=300;batch_size=1024;max_no_improvement=20;reassignment_ratio=0.005 777572 0.33523322204623995\n",
      "k=16;max_iter=300;batch_size=1024;max_no_improvement=20;reassignment_ratio=0.005 288389 0.23773805250991192\n",
      "k=16;max_iter=300;batch_size=1024;max_no_improvement=20;reassignment_ratio=0.01 670487 0.31543331554205023\n",
      "k=16;max_iter=300;batch_size=1024;max_no_improvement=20;reassignment_ratio=0.01 116739 0.19978735883193524\n",
      "k=16;max_iter=300;batch_size=1024;max_no_improvement=20;reassignment_ratio=0.01 26225 0.2584375219147391\n",
      "k=16;max_iter=300;batch_size=1024;max_no_improvement=20;reassignment_ratio=0.01 777572 0.33523322204623995\n",
      "k=16;max_iter=300;batch_size=1024;max_no_improvement=20;reassignment_ratio=0.01 288389 0.2345320503406068\n",
      "k=16;max_iter=300;batch_size=1024;max_no_improvement=20;reassignment_ratio=0.1 670487 0.316665424753\n",
      "k=16;max_iter=300;batch_size=1024;max_no_improvement=20;reassignment_ratio=0.1 116739 0.3198169031442737\n",
      "k=16;max_iter=300;batch_size=1024;max_no_improvement=20;reassignment_ratio=0.1 26225 0.3367415972237522\n",
      "k=16;max_iter=300;batch_size=1024;max_no_improvement=20;reassignment_ratio=0.1 777572 0.3909925742215229\n",
      "k=16;max_iter=300;batch_size=1024;max_no_improvement=20;reassignment_ratio=0.1 288389 0.23039145480115442\n",
      "k=17;max_iter=300;batch_size=100;max_no_improvement=10;reassignment_ratio=0.005 670487 0.34434478873396834\n",
      "k=17;max_iter=300;batch_size=100;max_no_improvement=10;reassignment_ratio=0.005 116739 0.4571406938749105\n",
      "k=17;max_iter=300;batch_size=100;max_no_improvement=10;reassignment_ratio=0.005 26225 0.25416048743436914\n",
      "k=17;max_iter=300;batch_size=100;max_no_improvement=10;reassignment_ratio=0.005 777572 0.4029712319704363\n",
      "k=17;max_iter=300;batch_size=100;max_no_improvement=10;reassignment_ratio=0.005 288389 0.33439759362492744\n",
      "k=17;max_iter=300;batch_size=100;max_no_improvement=10;reassignment_ratio=0.01 670487 0.3623493763817307\n",
      "k=17;max_iter=300;batch_size=100;max_no_improvement=10;reassignment_ratio=0.01 116739 0.45828761155145664\n",
      "k=17;max_iter=300;batch_size=100;max_no_improvement=10;reassignment_ratio=0.01 26225 0.25732322353390813\n",
      "k=17;max_iter=300;batch_size=100;max_no_improvement=10;reassignment_ratio=0.01 777572 0.3977677402338946\n",
      "k=17;max_iter=300;batch_size=100;max_no_improvement=10;reassignment_ratio=0.01 288389 0.33439759362492744\n",
      "k=17;max_iter=300;batch_size=100;max_no_improvement=10;reassignment_ratio=0.1 670487 0.33760326696685217\n",
      "k=17;max_iter=300;batch_size=100;max_no_improvement=10;reassignment_ratio=0.1 116739 0.47819537065608597\n",
      "k=17;max_iter=300;batch_size=100;max_no_improvement=10;reassignment_ratio=0.1 26225 0.2644637080987333\n",
      "k=17;max_iter=300;batch_size=100;max_no_improvement=10;reassignment_ratio=0.1 777572 0.3902657751075772\n",
      "k=17;max_iter=300;batch_size=100;max_no_improvement=10;reassignment_ratio=0.1 288389 0.38448497589738406\n",
      "k=17;max_iter=300;batch_size=100;max_no_improvement=20;reassignment_ratio=0.005 670487 0.3422818200149409\n",
      "k=17;max_iter=300;batch_size=100;max_no_improvement=20;reassignment_ratio=0.005 116739 0.45726820600475016\n",
      "k=17;max_iter=300;batch_size=100;max_no_improvement=20;reassignment_ratio=0.005 26225 0.2513887606579134\n",
      "k=17;max_iter=300;batch_size=100;max_no_improvement=20;reassignment_ratio=0.005 777572 0.3982902729070882\n",
      "k=17;max_iter=300;batch_size=100;max_no_improvement=20;reassignment_ratio=0.005 288389 0.3320297344093691\n",
      "k=17;max_iter=300;batch_size=100;max_no_improvement=20;reassignment_ratio=0.01 670487 0.35307889247293345\n",
      "k=17;max_iter=300;batch_size=100;max_no_improvement=20;reassignment_ratio=0.01 116739 0.4552182590596917\n",
      "k=17;max_iter=300;batch_size=100;max_no_improvement=20;reassignment_ratio=0.01 26225 0.2546014034341902\n",
      "k=17;max_iter=300;batch_size=100;max_no_improvement=20;reassignment_ratio=0.01 777572 0.39455128721096694\n",
      "k=17;max_iter=300;batch_size=100;max_no_improvement=20;reassignment_ratio=0.01 288389 0.33239985836072183\n",
      "k=17;max_iter=300;batch_size=100;max_no_improvement=20;reassignment_ratio=0.1 670487 0.3335034252100576\n",
      "k=17;max_iter=300;batch_size=100;max_no_improvement=20;reassignment_ratio=0.1 116739 0.47527203340531254\n",
      "k=17;max_iter=300;batch_size=100;max_no_improvement=20;reassignment_ratio=0.1 26225 0.2679695806419645\n",
      "k=17;max_iter=300;batch_size=100;max_no_improvement=20;reassignment_ratio=0.1 777572 0.38296130872990036\n",
      "k=17;max_iter=300;batch_size=100;max_no_improvement=20;reassignment_ratio=0.1 288389 0.39474982349386867\n",
      "k=17;max_iter=300;batch_size=500;max_no_improvement=10;reassignment_ratio=0.005 670487 0.30150834858334347\n",
      "k=17;max_iter=300;batch_size=500;max_no_improvement=10;reassignment_ratio=0.005 116739 0.15946335606721174\n",
      "k=17;max_iter=300;batch_size=500;max_no_improvement=10;reassignment_ratio=0.005 26225 0.22209253072446944\n",
      "k=17;max_iter=300;batch_size=500;max_no_improvement=10;reassignment_ratio=0.005 777572 0.3782097558460359\n",
      "k=17;max_iter=300;batch_size=500;max_no_improvement=10;reassignment_ratio=0.005 288389 0.29787320450755606\n",
      "k=17;max_iter=300;batch_size=500;max_no_improvement=10;reassignment_ratio=0.01 670487 0.27104338264925215\n",
      "k=17;max_iter=300;batch_size=500;max_no_improvement=10;reassignment_ratio=0.01 116739 0.15946335606721174\n",
      "k=17;max_iter=300;batch_size=500;max_no_improvement=10;reassignment_ratio=0.01 26225 0.22203407719823673\n",
      "k=17;max_iter=300;batch_size=500;max_no_improvement=10;reassignment_ratio=0.01 777572 0.40295735402012783\n",
      "k=17;max_iter=300;batch_size=500;max_no_improvement=10;reassignment_ratio=0.01 288389 0.29787320450755606\n",
      "k=17;max_iter=300;batch_size=500;max_no_improvement=10;reassignment_ratio=0.1 670487 0.3238531985840921\n",
      "k=17;max_iter=300;batch_size=500;max_no_improvement=10;reassignment_ratio=0.1 116739 0.3434920262872777\n",
      "k=17;max_iter=300;batch_size=500;max_no_improvement=10;reassignment_ratio=0.1 26225 0.3158880524358915\n",
      "k=17;max_iter=300;batch_size=500;max_no_improvement=10;reassignment_ratio=0.1 777572 0.4726698762803917\n",
      "k=17;max_iter=300;batch_size=500;max_no_improvement=10;reassignment_ratio=0.1 288389 0.28992501651825064\n",
      "k=17;max_iter=300;batch_size=500;max_no_improvement=20;reassignment_ratio=0.005 670487 0.3070069220454873\n",
      "k=17;max_iter=300;batch_size=500;max_no_improvement=20;reassignment_ratio=0.005 116739 0.16114143094120842\n",
      "k=17;max_iter=300;batch_size=500;max_no_improvement=20;reassignment_ratio=0.005 26225 0.2219764394793355\n",
      "k=17;max_iter=300;batch_size=500;max_no_improvement=20;reassignment_ratio=0.005 777572 0.381443378740979\n",
      "k=17;max_iter=300;batch_size=500;max_no_improvement=20;reassignment_ratio=0.005 288389 0.29874025855523606\n",
      "k=17;max_iter=300;batch_size=500;max_no_improvement=20;reassignment_ratio=0.01 670487 0.25532912924762574\n",
      "k=17;max_iter=300;batch_size=500;max_no_improvement=20;reassignment_ratio=0.01 116739 0.16193868177332882\n",
      "k=17;max_iter=300;batch_size=500;max_no_improvement=20;reassignment_ratio=0.01 26225 0.21896356847705478\n",
      "k=17;max_iter=300;batch_size=500;max_no_improvement=20;reassignment_ratio=0.01 777572 0.388435128927154\n",
      "k=17;max_iter=300;batch_size=500;max_no_improvement=20;reassignment_ratio=0.01 288389 0.29874025855523606\n",
      "k=17;max_iter=300;batch_size=500;max_no_improvement=20;reassignment_ratio=0.1 670487 0.3181072573493495\n",
      "k=17;max_iter=300;batch_size=500;max_no_improvement=20;reassignment_ratio=0.1 116739 0.34319985165384226\n",
      "k=17;max_iter=300;batch_size=500;max_no_improvement=20;reassignment_ratio=0.1 26225 0.2946347279729737\n",
      "k=17;max_iter=300;batch_size=500;max_no_improvement=20;reassignment_ratio=0.1 777572 0.48180327217362323\n",
      "k=17;max_iter=300;batch_size=500;max_no_improvement=20;reassignment_ratio=0.1 288389 0.29050500854469546\n",
      "k=17;max_iter=300;batch_size=1024;max_no_improvement=10;reassignment_ratio=0.005 670487 0.2739052997476184\n",
      "k=17;max_iter=300;batch_size=1024;max_no_improvement=10;reassignment_ratio=0.005 116739 0.15424867847750703\n",
      "k=17;max_iter=300;batch_size=1024;max_no_improvement=10;reassignment_ratio=0.005 26225 0.22605291498857027\n"
     ]
    },
    {
     "name": "stdout",
     "output_type": "stream",
     "text": [
      "k=17;max_iter=300;batch_size=1024;max_no_improvement=10;reassignment_ratio=0.005 777572 0.3725263181211924\n",
      "k=17;max_iter=300;batch_size=1024;max_no_improvement=10;reassignment_ratio=0.005 288389 0.3053093284564765\n",
      "k=17;max_iter=300;batch_size=1024;max_no_improvement=10;reassignment_ratio=0.01 670487 0.2855807106753217\n",
      "k=17;max_iter=300;batch_size=1024;max_no_improvement=10;reassignment_ratio=0.01 116739 0.1549819226997366\n",
      "k=17;max_iter=300;batch_size=1024;max_no_improvement=10;reassignment_ratio=0.01 26225 0.2215849161960228\n",
      "k=17;max_iter=300;batch_size=1024;max_no_improvement=10;reassignment_ratio=0.01 777572 0.3838876324977929\n",
      "k=17;max_iter=300;batch_size=1024;max_no_improvement=10;reassignment_ratio=0.01 288389 0.3053093284564765\n",
      "k=17;max_iter=300;batch_size=1024;max_no_improvement=10;reassignment_ratio=0.1 670487 0.3059013652070612\n",
      "k=17;max_iter=300;batch_size=1024;max_no_improvement=10;reassignment_ratio=0.1 116739 0.20884254406834393\n",
      "k=17;max_iter=300;batch_size=1024;max_no_improvement=10;reassignment_ratio=0.1 26225 0.23832725262291599\n",
      "k=17;max_iter=300;batch_size=1024;max_no_improvement=10;reassignment_ratio=0.1 777572 0.4262443546970075\n",
      "k=17;max_iter=300;batch_size=1024;max_no_improvement=10;reassignment_ratio=0.1 288389 0.2986498430846307\n",
      "k=17;max_iter=300;batch_size=1024;max_no_improvement=20;reassignment_ratio=0.005 670487 0.2700978256420845\n",
      "k=17;max_iter=300;batch_size=1024;max_no_improvement=20;reassignment_ratio=0.005 116739 0.1545205028940002\n",
      "k=17;max_iter=300;batch_size=1024;max_no_improvement=20;reassignment_ratio=0.005 26225 0.2206464704169938\n",
      "k=17;max_iter=300;batch_size=1024;max_no_improvement=20;reassignment_ratio=0.005 777572 0.3754500907815408\n",
      "k=17;max_iter=300;batch_size=1024;max_no_improvement=20;reassignment_ratio=0.005 288389 0.3053093284564765\n",
      "k=17;max_iter=300;batch_size=1024;max_no_improvement=20;reassignment_ratio=0.01 670487 0.2835150203746179\n",
      "k=17;max_iter=300;batch_size=1024;max_no_improvement=20;reassignment_ratio=0.01 116739 0.15188144253695118\n",
      "k=17;max_iter=300;batch_size=1024;max_no_improvement=20;reassignment_ratio=0.01 26225 0.22397197466833962\n",
      "k=17;max_iter=300;batch_size=1024;max_no_improvement=20;reassignment_ratio=0.01 777572 0.37559169825098204\n",
      "k=17;max_iter=300;batch_size=1024;max_no_improvement=20;reassignment_ratio=0.01 288389 0.3053093284564765\n",
      "k=17;max_iter=300;batch_size=1024;max_no_improvement=20;reassignment_ratio=0.1 670487 0.30942172588285405\n",
      "k=17;max_iter=300;batch_size=1024;max_no_improvement=20;reassignment_ratio=0.1 116739 0.2092458497430979\n",
      "k=17;max_iter=300;batch_size=1024;max_no_improvement=20;reassignment_ratio=0.1 26225 0.23375990402694669\n",
      "k=17;max_iter=300;batch_size=1024;max_no_improvement=20;reassignment_ratio=0.1 777572 0.4261490064578217\n",
      "k=17;max_iter=300;batch_size=1024;max_no_improvement=20;reassignment_ratio=0.1 288389 0.30040190768705766\n",
      "k=18;max_iter=300;batch_size=100;max_no_improvement=10;reassignment_ratio=0.005 670487 0.3002784522835286\n",
      "k=18;max_iter=300;batch_size=100;max_no_improvement=10;reassignment_ratio=0.005 116739 0.24913847337202571\n",
      "k=18;max_iter=300;batch_size=100;max_no_improvement=10;reassignment_ratio=0.005 26225 0.39340136682938454\n",
      "k=18;max_iter=300;batch_size=100;max_no_improvement=10;reassignment_ratio=0.005 777572 0.23206729006933097\n",
      "k=18;max_iter=300;batch_size=100;max_no_improvement=10;reassignment_ratio=0.005 288389 0.29710617082610274\n",
      "k=18;max_iter=300;batch_size=100;max_no_improvement=10;reassignment_ratio=0.01 670487 0.303209024128486\n",
      "k=18;max_iter=300;batch_size=100;max_no_improvement=10;reassignment_ratio=0.01 116739 0.25753177039513575\n",
      "k=18;max_iter=300;batch_size=100;max_no_improvement=10;reassignment_ratio=0.01 26225 0.33531429030526017\n",
      "k=18;max_iter=300;batch_size=100;max_no_improvement=10;reassignment_ratio=0.01 777572 0.2425943545596237\n",
      "k=18;max_iter=300;batch_size=100;max_no_improvement=10;reassignment_ratio=0.01 288389 0.2634827790000979\n",
      "k=18;max_iter=300;batch_size=100;max_no_improvement=10;reassignment_ratio=0.1 670487 0.4205792545476077\n",
      "k=18;max_iter=300;batch_size=100;max_no_improvement=10;reassignment_ratio=0.1 116739 0.24389818093931642\n",
      "k=18;max_iter=300;batch_size=100;max_no_improvement=10;reassignment_ratio=0.1 26225 0.47511527150879374\n",
      "k=18;max_iter=300;batch_size=100;max_no_improvement=10;reassignment_ratio=0.1 777572 0.2964394936793835\n",
      "k=18;max_iter=300;batch_size=100;max_no_improvement=10;reassignment_ratio=0.1 288389 0.2740539526649935\n",
      "k=18;max_iter=300;batch_size=100;max_no_improvement=20;reassignment_ratio=0.005 670487 0.3003876515737121\n",
      "k=18;max_iter=300;batch_size=100;max_no_improvement=20;reassignment_ratio=0.005 116739 0.24225530709450402\n",
      "k=18;max_iter=300;batch_size=100;max_no_improvement=20;reassignment_ratio=0.005 26225 0.38657676353552006\n",
      "k=18;max_iter=300;batch_size=100;max_no_improvement=20;reassignment_ratio=0.005 777572 0.23371309756665615\n",
      "k=18;max_iter=300;batch_size=100;max_no_improvement=20;reassignment_ratio=0.005 288389 0.2952196581250329\n",
      "k=18;max_iter=300;batch_size=100;max_no_improvement=20;reassignment_ratio=0.01 670487 0.30248791785172047\n",
      "k=18;max_iter=300;batch_size=100;max_no_improvement=20;reassignment_ratio=0.01 116739 0.2523375380374922\n",
      "k=18;max_iter=300;batch_size=100;max_no_improvement=20;reassignment_ratio=0.01 26225 0.33747254508923685\n",
      "k=18;max_iter=300;batch_size=100;max_no_improvement=20;reassignment_ratio=0.01 777572 0.24716708658001868\n",
      "k=18;max_iter=300;batch_size=100;max_no_improvement=20;reassignment_ratio=0.01 288389 0.26652361871741315\n",
      "k=18;max_iter=300;batch_size=100;max_no_improvement=20;reassignment_ratio=0.1 670487 0.4229382909762829\n",
      "k=18;max_iter=300;batch_size=100;max_no_improvement=20;reassignment_ratio=0.1 116739 0.23851975166128597\n",
      "k=18;max_iter=300;batch_size=100;max_no_improvement=20;reassignment_ratio=0.1 26225 0.48645209306418513\n",
      "k=18;max_iter=300;batch_size=100;max_no_improvement=20;reassignment_ratio=0.1 777572 0.30469665080103736\n",
      "k=18;max_iter=300;batch_size=100;max_no_improvement=20;reassignment_ratio=0.1 288389 0.275350800280688\n",
      "k=18;max_iter=300;batch_size=500;max_no_improvement=10;reassignment_ratio=0.005 670487 0.2601768861871809\n",
      "k=18;max_iter=300;batch_size=500;max_no_improvement=10;reassignment_ratio=0.005 116739 0.20397018562889052\n",
      "k=18;max_iter=300;batch_size=500;max_no_improvement=10;reassignment_ratio=0.005 26225 0.21119998919366617\n",
      "k=18;max_iter=300;batch_size=500;max_no_improvement=10;reassignment_ratio=0.005 777572 0.15881406818214677\n",
      "k=18;max_iter=300;batch_size=500;max_no_improvement=10;reassignment_ratio=0.005 288389 0.33479425137880625\n",
      "k=18;max_iter=300;batch_size=500;max_no_improvement=10;reassignment_ratio=0.01 670487 0.25284689758424206\n",
      "k=18;max_iter=300;batch_size=500;max_no_improvement=10;reassignment_ratio=0.01 116739 0.21097258480833309\n",
      "k=18;max_iter=300;batch_size=500;max_no_improvement=10;reassignment_ratio=0.01 26225 0.21119998919366617\n",
      "k=18;max_iter=300;batch_size=500;max_no_improvement=10;reassignment_ratio=0.01 777572 0.16017475187217378\n",
      "k=18;max_iter=300;batch_size=500;max_no_improvement=10;reassignment_ratio=0.01 288389 0.35141252901725384\n",
      "k=18;max_iter=300;batch_size=500;max_no_improvement=10;reassignment_ratio=0.1 670487 0.27429630292024965\n",
      "k=18;max_iter=300;batch_size=500;max_no_improvement=10;reassignment_ratio=0.1 116739 0.47523051333683675\n",
      "k=18;max_iter=300;batch_size=500;max_no_improvement=10;reassignment_ratio=0.1 26225 0.32756661140261345\n",
      "k=18;max_iter=300;batch_size=500;max_no_improvement=10;reassignment_ratio=0.1 777572 0.16909893138215182\n",
      "k=18;max_iter=300;batch_size=500;max_no_improvement=10;reassignment_ratio=0.1 288389 0.3649789968375696\n",
      "k=18;max_iter=300;batch_size=500;max_no_improvement=20;reassignment_ratio=0.005 670487 0.2675070263093997\n",
      "k=18;max_iter=300;batch_size=500;max_no_improvement=20;reassignment_ratio=0.005 116739 0.20596480796097494\n",
      "k=18;max_iter=300;batch_size=500;max_no_improvement=20;reassignment_ratio=0.005 26225 0.21108170789823208\n",
      "k=18;max_iter=300;batch_size=500;max_no_improvement=20;reassignment_ratio=0.005 777572 0.15878607903350056\n",
      "k=18;max_iter=300;batch_size=500;max_no_improvement=20;reassignment_ratio=0.005 288389 0.33287504428567366\n",
      "k=18;max_iter=300;batch_size=500;max_no_improvement=20;reassignment_ratio=0.01 670487 0.25540616790754084\n"
     ]
    },
    {
     "name": "stdout",
     "output_type": "stream",
     "text": [
      "k=18;max_iter=300;batch_size=500;max_no_improvement=20;reassignment_ratio=0.01 116739 0.20996718325702823\n",
      "k=18;max_iter=300;batch_size=500;max_no_improvement=20;reassignment_ratio=0.01 26225 0.21108170789823208\n",
      "k=18;max_iter=300;batch_size=500;max_no_improvement=20;reassignment_ratio=0.01 777572 0.15998595099276464\n",
      "k=18;max_iter=300;batch_size=500;max_no_improvement=20;reassignment_ratio=0.01 288389 0.3505502725397076\n",
      "k=18;max_iter=300;batch_size=500;max_no_improvement=20;reassignment_ratio=0.1 670487 0.2791111383783375\n",
      "k=18;max_iter=300;batch_size=500;max_no_improvement=20;reassignment_ratio=0.1 116739 0.4732749997476337\n",
      "k=18;max_iter=300;batch_size=500;max_no_improvement=20;reassignment_ratio=0.1 26225 0.33157116218017957\n",
      "k=18;max_iter=300;batch_size=500;max_no_improvement=20;reassignment_ratio=0.1 777572 0.16604376389907727\n",
      "k=18;max_iter=300;batch_size=500;max_no_improvement=20;reassignment_ratio=0.1 288389 0.3639475636603959\n",
      "k=18;max_iter=300;batch_size=1024;max_no_improvement=10;reassignment_ratio=0.005 670487 0.2580359516388365\n",
      "k=18;max_iter=300;batch_size=1024;max_no_improvement=10;reassignment_ratio=0.005 116739 0.17974197307781214\n",
      "k=18;max_iter=300;batch_size=1024;max_no_improvement=10;reassignment_ratio=0.005 26225 0.19417942645359168\n",
      "k=18;max_iter=300;batch_size=1024;max_no_improvement=10;reassignment_ratio=0.005 777572 0.16749176369738084\n",
      "k=18;max_iter=300;batch_size=1024;max_no_improvement=10;reassignment_ratio=0.005 288389 0.3125864403886591\n",
      "k=18;max_iter=300;batch_size=1024;max_no_improvement=10;reassignment_ratio=0.01 670487 0.26483448715620095\n",
      "k=18;max_iter=300;batch_size=1024;max_no_improvement=10;reassignment_ratio=0.01 116739 0.19069295651209991\n",
      "k=18;max_iter=300;batch_size=1024;max_no_improvement=10;reassignment_ratio=0.01 26225 0.19417942645359168\n",
      "k=18;max_iter=300;batch_size=1024;max_no_improvement=10;reassignment_ratio=0.01 777572 0.17160616611692028\n",
      "k=18;max_iter=300;batch_size=1024;max_no_improvement=10;reassignment_ratio=0.01 288389 0.3215874401783298\n",
      "k=18;max_iter=300;batch_size=1024;max_no_improvement=10;reassignment_ratio=0.1 670487 0.27518306675652876\n",
      "k=18;max_iter=300;batch_size=1024;max_no_improvement=10;reassignment_ratio=0.1 116739 0.37545740168109065\n",
      "k=18;max_iter=300;batch_size=1024;max_no_improvement=10;reassignment_ratio=0.1 26225 0.38134819782579227\n",
      "k=18;max_iter=300;batch_size=1024;max_no_improvement=10;reassignment_ratio=0.1 777572 0.17913705681549147\n",
      "k=18;max_iter=300;batch_size=1024;max_no_improvement=10;reassignment_ratio=0.1 288389 0.36116089627518544\n",
      "k=18;max_iter=300;batch_size=1024;max_no_improvement=20;reassignment_ratio=0.005 670487 0.2586232406768134\n",
      "k=18;max_iter=300;batch_size=1024;max_no_improvement=20;reassignment_ratio=0.005 116739 0.17938024104927972\n",
      "k=18;max_iter=300;batch_size=1024;max_no_improvement=20;reassignment_ratio=0.005 26225 0.19673955693834602\n",
      "k=18;max_iter=300;batch_size=1024;max_no_improvement=20;reassignment_ratio=0.005 777572 0.1655806619514433\n",
      "k=18;max_iter=300;batch_size=1024;max_no_improvement=20;reassignment_ratio=0.005 288389 0.3034696282492389\n",
      "k=18;max_iter=300;batch_size=1024;max_no_improvement=20;reassignment_ratio=0.01 670487 0.26465553671581477\n",
      "k=18;max_iter=300;batch_size=1024;max_no_improvement=20;reassignment_ratio=0.01 116739 0.18900132428283656\n",
      "k=18;max_iter=300;batch_size=1024;max_no_improvement=20;reassignment_ratio=0.01 26225 0.19673955693834602\n",
      "k=18;max_iter=300;batch_size=1024;max_no_improvement=20;reassignment_ratio=0.01 777572 0.16629700489533628\n",
      "k=18;max_iter=300;batch_size=1024;max_no_improvement=20;reassignment_ratio=0.01 288389 0.31231032869378705\n",
      "k=18;max_iter=300;batch_size=1024;max_no_improvement=20;reassignment_ratio=0.1 670487 0.28007891850158106\n",
      "k=18;max_iter=300;batch_size=1024;max_no_improvement=20;reassignment_ratio=0.1 116739 0.3763650673100024\n",
      "k=18;max_iter=300;batch_size=1024;max_no_improvement=20;reassignment_ratio=0.1 26225 0.3724501800995935\n",
      "k=18;max_iter=300;batch_size=1024;max_no_improvement=20;reassignment_ratio=0.1 777572 0.17929129144807504\n",
      "k=18;max_iter=300;batch_size=1024;max_no_improvement=20;reassignment_ratio=0.1 288389 0.36116089627518544\n",
      "k=19;max_iter=300;batch_size=100;max_no_improvement=10;reassignment_ratio=0.005 670487 0.24623160165136104\n",
      "k=19;max_iter=300;batch_size=100;max_no_improvement=10;reassignment_ratio=0.005 116739 0.32916947280444336\n",
      "k=19;max_iter=300;batch_size=100;max_no_improvement=10;reassignment_ratio=0.005 26225 0.34365731679817524\n",
      "k=19;max_iter=300;batch_size=100;max_no_improvement=10;reassignment_ratio=0.005 777572 0.35207974911949913\n",
      "k=19;max_iter=300;batch_size=100;max_no_improvement=10;reassignment_ratio=0.005 288389 0.44255481882785397\n",
      "k=19;max_iter=300;batch_size=100;max_no_improvement=10;reassignment_ratio=0.01 670487 0.25303129968959515\n",
      "k=19;max_iter=300;batch_size=100;max_no_improvement=10;reassignment_ratio=0.01 116739 0.32017896934728984\n",
      "k=19;max_iter=300;batch_size=100;max_no_improvement=10;reassignment_ratio=0.01 26225 0.3757401995467531\n",
      "k=19;max_iter=300;batch_size=100;max_no_improvement=10;reassignment_ratio=0.01 777572 0.3519233371660929\n",
      "k=19;max_iter=300;batch_size=100;max_no_improvement=10;reassignment_ratio=0.01 288389 0.45955450370544276\n",
      "k=19;max_iter=300;batch_size=100;max_no_improvement=10;reassignment_ratio=0.1 670487 0.292569652308966\n",
      "k=19;max_iter=300;batch_size=100;max_no_improvement=10;reassignment_ratio=0.1 116739 0.4429681072192967\n",
      "k=19;max_iter=300;batch_size=100;max_no_improvement=10;reassignment_ratio=0.1 26225 0.4794843846730862\n",
      "k=19;max_iter=300;batch_size=100;max_no_improvement=10;reassignment_ratio=0.1 777572 0.37223674188569345\n",
      "k=19;max_iter=300;batch_size=100;max_no_improvement=10;reassignment_ratio=0.1 288389 0.4190720442882858\n",
      "k=19;max_iter=300;batch_size=100;max_no_improvement=20;reassignment_ratio=0.005 670487 0.25484949456671596\n",
      "k=19;max_iter=300;batch_size=100;max_no_improvement=20;reassignment_ratio=0.005 116739 0.32705215511824054\n",
      "k=19;max_iter=300;batch_size=100;max_no_improvement=20;reassignment_ratio=0.005 26225 0.34960867301380166\n",
      "k=19;max_iter=300;batch_size=100;max_no_improvement=20;reassignment_ratio=0.005 777572 0.3514989934652064\n",
      "k=19;max_iter=300;batch_size=100;max_no_improvement=20;reassignment_ratio=0.005 288389 0.44310051509799225\n",
      "k=19;max_iter=300;batch_size=100;max_no_improvement=20;reassignment_ratio=0.01 670487 0.2620762281878004\n",
      "k=19;max_iter=300;batch_size=100;max_no_improvement=20;reassignment_ratio=0.01 116739 0.3075100037731213\n",
      "k=19;max_iter=300;batch_size=100;max_no_improvement=20;reassignment_ratio=0.01 26225 0.3617981651947204\n",
      "k=19;max_iter=300;batch_size=100;max_no_improvement=20;reassignment_ratio=0.01 777572 0.353364460514743\n",
      "k=19;max_iter=300;batch_size=100;max_no_improvement=20;reassignment_ratio=0.01 288389 0.46258229887489793\n",
      "k=19;max_iter=300;batch_size=100;max_no_improvement=20;reassignment_ratio=0.1 670487 0.2940519334075209\n",
      "k=19;max_iter=300;batch_size=100;max_no_improvement=20;reassignment_ratio=0.1 116739 0.4470900483660538\n",
      "k=19;max_iter=300;batch_size=100;max_no_improvement=20;reassignment_ratio=0.1 26225 0.4826530754461145\n",
      "k=19;max_iter=300;batch_size=100;max_no_improvement=20;reassignment_ratio=0.1 777572 0.36950220151932045\n",
      "k=19;max_iter=300;batch_size=100;max_no_improvement=20;reassignment_ratio=0.1 288389 0.43142166217548417\n",
      "k=19;max_iter=300;batch_size=500;max_no_improvement=10;reassignment_ratio=0.005 670487 0.19115441805428363\n",
      "k=19;max_iter=300;batch_size=500;max_no_improvement=10;reassignment_ratio=0.005 116739 0.30198889784283256\n",
      "k=19;max_iter=300;batch_size=500;max_no_improvement=10;reassignment_ratio=0.005 26225 0.20463282290190976\n",
      "k=19;max_iter=300;batch_size=500;max_no_improvement=10;reassignment_ratio=0.005 777572 0.38464615924882184\n",
      "k=19;max_iter=300;batch_size=500;max_no_improvement=10;reassignment_ratio=0.005 288389 0.19800672317467558\n",
      "k=19;max_iter=300;batch_size=500;max_no_improvement=10;reassignment_ratio=0.01 670487 0.1934467929696924\n",
      "k=19;max_iter=300;batch_size=500;max_no_improvement=10;reassignment_ratio=0.01 116739 0.2959130056179552\n",
      "k=19;max_iter=300;batch_size=500;max_no_improvement=10;reassignment_ratio=0.01 26225 0.20662616100634562\n",
      "k=19;max_iter=300;batch_size=500;max_no_improvement=10;reassignment_ratio=0.01 777572 0.3859656515133431\n"
     ]
    },
    {
     "name": "stdout",
     "output_type": "stream",
     "text": [
      "k=19;max_iter=300;batch_size=500;max_no_improvement=10;reassignment_ratio=0.01 288389 0.20047527862528647\n",
      "k=19;max_iter=300;batch_size=500;max_no_improvement=10;reassignment_ratio=0.1 670487 0.20008309014079118\n",
      "k=19;max_iter=300;batch_size=500;max_no_improvement=10;reassignment_ratio=0.1 116739 0.319720605050707\n",
      "k=19;max_iter=300;batch_size=500;max_no_improvement=10;reassignment_ratio=0.1 26225 0.24396132690432557\n",
      "k=19;max_iter=300;batch_size=500;max_no_improvement=10;reassignment_ratio=0.1 777572 0.3800814971788187\n",
      "k=19;max_iter=300;batch_size=500;max_no_improvement=10;reassignment_ratio=0.1 288389 0.2496110798294674\n",
      "k=19;max_iter=300;batch_size=500;max_no_improvement=20;reassignment_ratio=0.005 670487 0.19148953644535086\n",
      "k=19;max_iter=300;batch_size=500;max_no_improvement=20;reassignment_ratio=0.005 116739 0.3023107823642488\n",
      "k=19;max_iter=300;batch_size=500;max_no_improvement=20;reassignment_ratio=0.005 26225 0.2029213326004769\n",
      "k=19;max_iter=300;batch_size=500;max_no_improvement=20;reassignment_ratio=0.005 777572 0.38640203153422337\n",
      "k=19;max_iter=300;batch_size=500;max_no_improvement=20;reassignment_ratio=0.005 288389 0.1987995304836699\n",
      "k=19;max_iter=300;batch_size=500;max_no_improvement=20;reassignment_ratio=0.01 670487 0.192996483041418\n",
      "k=19;max_iter=300;batch_size=500;max_no_improvement=20;reassignment_ratio=0.01 116739 0.29596821479360375\n",
      "k=19;max_iter=300;batch_size=500;max_no_improvement=20;reassignment_ratio=0.01 26225 0.20523043137743202\n",
      "k=19;max_iter=300;batch_size=500;max_no_improvement=20;reassignment_ratio=0.01 777572 0.38162816788912063\n",
      "k=19;max_iter=300;batch_size=500;max_no_improvement=20;reassignment_ratio=0.01 288389 0.2072968280947603\n",
      "k=19;max_iter=300;batch_size=500;max_no_improvement=20;reassignment_ratio=0.1 670487 0.2057461294007209\n",
      "k=19;max_iter=300;batch_size=500;max_no_improvement=20;reassignment_ratio=0.1 116739 0.3068015878124952\n",
      "k=19;max_iter=300;batch_size=500;max_no_improvement=20;reassignment_ratio=0.1 26225 0.24631430108209051\n",
      "k=19;max_iter=300;batch_size=500;max_no_improvement=20;reassignment_ratio=0.1 777572 0.3818894608995811\n",
      "k=19;max_iter=300;batch_size=500;max_no_improvement=20;reassignment_ratio=0.1 288389 0.24834352354302572\n",
      "k=19;max_iter=300;batch_size=1024;max_no_improvement=10;reassignment_ratio=0.005 670487 0.1983319980762298\n",
      "k=19;max_iter=300;batch_size=1024;max_no_improvement=10;reassignment_ratio=0.005 116739 0.20691822311835492\n",
      "k=19;max_iter=300;batch_size=1024;max_no_improvement=10;reassignment_ratio=0.005 26225 0.2013507772043151\n",
      "k=19;max_iter=300;batch_size=1024;max_no_improvement=10;reassignment_ratio=0.005 777572 0.3472823162568205\n",
      "k=19;max_iter=300;batch_size=1024;max_no_improvement=10;reassignment_ratio=0.005 288389 0.2213458824814203\n",
      "k=19;max_iter=300;batch_size=1024;max_no_improvement=10;reassignment_ratio=0.01 670487 0.2071197933944939\n",
      "k=19;max_iter=300;batch_size=1024;max_no_improvement=10;reassignment_ratio=0.01 116739 0.20891872947869172\n",
      "k=19;max_iter=300;batch_size=1024;max_no_improvement=10;reassignment_ratio=0.01 26225 0.21093892738759312\n",
      "k=19;max_iter=300;batch_size=1024;max_no_improvement=10;reassignment_ratio=0.01 777572 0.34391135033819276\n",
      "k=19;max_iter=300;batch_size=1024;max_no_improvement=10;reassignment_ratio=0.01 288389 0.22355655054448315\n",
      "k=19;max_iter=300;batch_size=1024;max_no_improvement=10;reassignment_ratio=0.1 670487 0.2357588897033554\n",
      "k=19;max_iter=300;batch_size=1024;max_no_improvement=10;reassignment_ratio=0.1 116739 0.2999707149190938\n",
      "k=19;max_iter=300;batch_size=1024;max_no_improvement=10;reassignment_ratio=0.1 26225 0.28008483053750355\n",
      "k=19;max_iter=300;batch_size=1024;max_no_improvement=10;reassignment_ratio=0.1 777572 0.3319543940064912\n",
      "k=19;max_iter=300;batch_size=1024;max_no_improvement=10;reassignment_ratio=0.1 288389 0.2682809729089159\n",
      "k=19;max_iter=300;batch_size=1024;max_no_improvement=20;reassignment_ratio=0.005 670487 0.20323969634203284\n",
      "k=19;max_iter=300;batch_size=1024;max_no_improvement=20;reassignment_ratio=0.005 116739 0.2042162634869739\n",
      "k=19;max_iter=300;batch_size=1024;max_no_improvement=20;reassignment_ratio=0.005 26225 0.20125701740326984\n",
      "k=19;max_iter=300;batch_size=1024;max_no_improvement=20;reassignment_ratio=0.005 777572 0.35127584399665274\n",
      "k=19;max_iter=300;batch_size=1024;max_no_improvement=20;reassignment_ratio=0.005 288389 0.222040448311288\n",
      "k=19;max_iter=300;batch_size=1024;max_no_improvement=20;reassignment_ratio=0.01 670487 0.2230552916886309\n",
      "k=19;max_iter=300;batch_size=1024;max_no_improvement=20;reassignment_ratio=0.01 116739 0.2062167698473107\n",
      "k=19;max_iter=300;batch_size=1024;max_no_improvement=20;reassignment_ratio=0.01 26225 0.20992631934886974\n",
      "k=19;max_iter=300;batch_size=1024;max_no_improvement=20;reassignment_ratio=0.01 777572 0.34853288255066106\n",
      "k=19;max_iter=300;batch_size=1024;max_no_improvement=20;reassignment_ratio=0.01 288389 0.22771439200596788\n",
      "k=19;max_iter=300;batch_size=1024;max_no_improvement=20;reassignment_ratio=0.1 670487 0.23846200969359088\n",
      "k=19;max_iter=300;batch_size=1024;max_no_improvement=20;reassignment_ratio=0.1 116739 0.29890672011145936\n",
      "k=19;max_iter=300;batch_size=1024;max_no_improvement=20;reassignment_ratio=0.1 26225 0.2776157865146822\n",
      "k=19;max_iter=300;batch_size=1024;max_no_improvement=20;reassignment_ratio=0.1 777572 0.3243775870036847\n",
      "k=19;max_iter=300;batch_size=1024;max_no_improvement=20;reassignment_ratio=0.1 288389 0.2700371664001024\n",
      "k=20;max_iter=300;batch_size=100;max_no_improvement=10;reassignment_ratio=0.005 670487 0.37104128727401237\n",
      "k=20;max_iter=300;batch_size=100;max_no_improvement=10;reassignment_ratio=0.005 116739 0.4509466357343288\n",
      "k=20;max_iter=300;batch_size=100;max_no_improvement=10;reassignment_ratio=0.005 26225 0.39136684222517115\n",
      "k=20;max_iter=300;batch_size=100;max_no_improvement=10;reassignment_ratio=0.005 777572 0.20319337423457517\n",
      "k=20;max_iter=300;batch_size=100;max_no_improvement=10;reassignment_ratio=0.005 288389 0.4281414717802606\n",
      "k=20;max_iter=300;batch_size=100;max_no_improvement=10;reassignment_ratio=0.01 670487 0.38098087019888016\n",
      "k=20;max_iter=300;batch_size=100;max_no_improvement=10;reassignment_ratio=0.01 116739 0.44152619023466727\n",
      "k=20;max_iter=300;batch_size=100;max_no_improvement=10;reassignment_ratio=0.01 26225 0.408602656264988\n",
      "k=20;max_iter=300;batch_size=100;max_no_improvement=10;reassignment_ratio=0.01 777572 0.21163729675508286\n",
      "k=20;max_iter=300;batch_size=100;max_no_improvement=10;reassignment_ratio=0.01 288389 0.43454265859369645\n",
      "k=20;max_iter=300;batch_size=100;max_no_improvement=10;reassignment_ratio=0.1 670487 0.35267848353533926\n",
      "k=20;max_iter=300;batch_size=100;max_no_improvement=10;reassignment_ratio=0.1 116739 0.47720830838335826\n",
      "k=20;max_iter=300;batch_size=100;max_no_improvement=10;reassignment_ratio=0.1 26225 0.42521781635308886\n",
      "k=20;max_iter=300;batch_size=100;max_no_improvement=10;reassignment_ratio=0.1 777572 0.27551208503514135\n",
      "k=20;max_iter=300;batch_size=100;max_no_improvement=10;reassignment_ratio=0.1 288389 0.44494009914501353\n",
      "k=20;max_iter=300;batch_size=100;max_no_improvement=20;reassignment_ratio=0.005 670487 0.369690946943367\n",
      "k=20;max_iter=300;batch_size=100;max_no_improvement=20;reassignment_ratio=0.005 116739 0.43222083140625883\n",
      "k=20;max_iter=300;batch_size=100;max_no_improvement=20;reassignment_ratio=0.005 26225 0.3903886705052606\n",
      "k=20;max_iter=300;batch_size=100;max_no_improvement=20;reassignment_ratio=0.005 777572 0.20976505798746492\n",
      "k=20;max_iter=300;batch_size=100;max_no_improvement=20;reassignment_ratio=0.005 288389 0.41986566801063785\n",
      "k=20;max_iter=300;batch_size=100;max_no_improvement=20;reassignment_ratio=0.01 670487 0.3691152525903362\n",
      "k=20;max_iter=300;batch_size=100;max_no_improvement=20;reassignment_ratio=0.01 116739 0.4394761977016224\n",
      "k=20;max_iter=300;batch_size=100;max_no_improvement=20;reassignment_ratio=0.01 26225 0.4071840254455853\n",
      "k=20;max_iter=300;batch_size=100;max_no_improvement=20;reassignment_ratio=0.01 777572 0.21157900942032754\n",
      "k=20;max_iter=300;batch_size=100;max_no_improvement=20;reassignment_ratio=0.01 288389 0.42894348683077704\n",
      "k=20;max_iter=300;batch_size=100;max_no_improvement=20;reassignment_ratio=0.1 670487 0.36205396272671236\n",
      "k=20;max_iter=300;batch_size=100;max_no_improvement=20;reassignment_ratio=0.1 116739 0.4781922013706797\n"
     ]
    },
    {
     "name": "stdout",
     "output_type": "stream",
     "text": [
      "k=20;max_iter=300;batch_size=100;max_no_improvement=20;reassignment_ratio=0.1 26225 0.41622449353973767\n",
      "k=20;max_iter=300;batch_size=100;max_no_improvement=20;reassignment_ratio=0.1 777572 0.2803561071676437\n",
      "k=20;max_iter=300;batch_size=100;max_no_improvement=20;reassignment_ratio=0.1 288389 0.4452302273204576\n",
      "k=20;max_iter=300;batch_size=500;max_no_improvement=10;reassignment_ratio=0.005 670487 0.1886161909805364\n",
      "k=20;max_iter=300;batch_size=500;max_no_improvement=10;reassignment_ratio=0.005 116739 0.22125739431090843\n",
      "k=20;max_iter=300;batch_size=500;max_no_improvement=10;reassignment_ratio=0.005 26225 0.22764198035198535\n",
      "k=20;max_iter=300;batch_size=500;max_no_improvement=10;reassignment_ratio=0.005 777572 0.2570806031423963\n",
      "k=20;max_iter=300;batch_size=500;max_no_improvement=10;reassignment_ratio=0.005 288389 0.18173272527230838\n",
      "k=20;max_iter=300;batch_size=500;max_no_improvement=10;reassignment_ratio=0.01 670487 0.18621679375734668\n",
      "k=20;max_iter=300;batch_size=500;max_no_improvement=10;reassignment_ratio=0.01 116739 0.21851748743399624\n",
      "k=20;max_iter=300;batch_size=500;max_no_improvement=10;reassignment_ratio=0.01 26225 0.23087216249902182\n",
      "k=20;max_iter=300;batch_size=500;max_no_improvement=10;reassignment_ratio=0.01 777572 0.2446139134326864\n",
      "k=20;max_iter=300;batch_size=500;max_no_improvement=10;reassignment_ratio=0.01 288389 0.19221200629931862\n",
      "k=20;max_iter=300;batch_size=500;max_no_improvement=10;reassignment_ratio=0.1 670487 0.263522892507191\n",
      "k=20;max_iter=300;batch_size=500;max_no_improvement=10;reassignment_ratio=0.1 116739 0.21809218995172658\n",
      "k=20;max_iter=300;batch_size=500;max_no_improvement=10;reassignment_ratio=0.1 26225 0.22523980164803623\n",
      "k=20;max_iter=300;batch_size=500;max_no_improvement=10;reassignment_ratio=0.1 777572 0.45851373118107325\n",
      "k=20;max_iter=300;batch_size=500;max_no_improvement=10;reassignment_ratio=0.1 288389 0.4676948124014493\n",
      "k=20;max_iter=300;batch_size=500;max_no_improvement=20;reassignment_ratio=0.005 670487 0.19692846703809613\n",
      "k=20;max_iter=300;batch_size=500;max_no_improvement=20;reassignment_ratio=0.005 116739 0.22083142543173936\n",
      "k=20;max_iter=300;batch_size=500;max_no_improvement=20;reassignment_ratio=0.005 26225 0.2271717401692701\n",
      "k=20;max_iter=300;batch_size=500;max_no_improvement=20;reassignment_ratio=0.005 777572 0.2548935716136652\n",
      "k=20;max_iter=300;batch_size=500;max_no_improvement=20;reassignment_ratio=0.005 288389 0.18214677432612553\n",
      "k=20;max_iter=300;batch_size=500;max_no_improvement=20;reassignment_ratio=0.01 670487 0.1873130578955276\n",
      "k=20;max_iter=300;batch_size=500;max_no_improvement=20;reassignment_ratio=0.01 116739 0.21706807705150197\n",
      "k=20;max_iter=300;batch_size=500;max_no_improvement=20;reassignment_ratio=0.01 26225 0.23297080020015393\n",
      "k=20;max_iter=300;batch_size=500;max_no_improvement=20;reassignment_ratio=0.01 777572 0.2419186510704743\n",
      "k=20;max_iter=300;batch_size=500;max_no_improvement=20;reassignment_ratio=0.01 288389 0.1878455898401754\n",
      "k=20;max_iter=300;batch_size=500;max_no_improvement=20;reassignment_ratio=0.1 670487 0.26462881656857185\n",
      "k=20;max_iter=300;batch_size=500;max_no_improvement=20;reassignment_ratio=0.1 116739 0.22473821860528748\n",
      "k=20;max_iter=300;batch_size=500;max_no_improvement=20;reassignment_ratio=0.1 26225 0.24159856735693933\n",
      "k=20;max_iter=300;batch_size=500;max_no_improvement=20;reassignment_ratio=0.1 777572 0.4471967008606205\n",
      "k=20;max_iter=300;batch_size=500;max_no_improvement=20;reassignment_ratio=0.1 288389 0.4604839130037186\n",
      "k=20;max_iter=300;batch_size=1024;max_no_improvement=10;reassignment_ratio=0.005 670487 0.19340827276473788\n",
      "k=20;max_iter=300;batch_size=1024;max_no_improvement=10;reassignment_ratio=0.005 116739 0.2101089677888574\n",
      "k=20;max_iter=300;batch_size=1024;max_no_improvement=10;reassignment_ratio=0.005 26225 0.21853026339983683\n",
      "k=20;max_iter=300;batch_size=1024;max_no_improvement=10;reassignment_ratio=0.005 777572 0.281364666455292\n",
      "k=20;max_iter=300;batch_size=1024;max_no_improvement=10;reassignment_ratio=0.005 288389 0.1793812479189274\n",
      "k=20;max_iter=300;batch_size=1024;max_no_improvement=10;reassignment_ratio=0.01 670487 0.1987484879267633\n",
      "k=20;max_iter=300;batch_size=1024;max_no_improvement=10;reassignment_ratio=0.01 116739 0.2000889785646025\n",
      "k=20;max_iter=300;batch_size=1024;max_no_improvement=10;reassignment_ratio=0.01 26225 0.2226664537132444\n",
      "k=20;max_iter=300;batch_size=1024;max_no_improvement=10;reassignment_ratio=0.01 777572 0.29250816523597556\n",
      "k=20;max_iter=300;batch_size=1024;max_no_improvement=10;reassignment_ratio=0.01 288389 0.17360203283701597\n",
      "k=20;max_iter=300;batch_size=1024;max_no_improvement=10;reassignment_ratio=0.1 670487 0.20191886169725365\n",
      "k=20;max_iter=300;batch_size=1024;max_no_improvement=10;reassignment_ratio=0.1 116739 0.20786611517228898\n",
      "k=20;max_iter=300;batch_size=1024;max_no_improvement=10;reassignment_ratio=0.1 26225 0.22255419686273753\n",
      "k=20;max_iter=300;batch_size=1024;max_no_improvement=10;reassignment_ratio=0.1 777572 0.30613739333018425\n",
      "k=20;max_iter=300;batch_size=1024;max_no_improvement=10;reassignment_ratio=0.1 288389 0.27568952246620243\n",
      "k=20;max_iter=300;batch_size=1024;max_no_improvement=20;reassignment_ratio=0.005 670487 0.19461523140581602\n",
      "k=20;max_iter=300;batch_size=1024;max_no_improvement=20;reassignment_ratio=0.005 116739 0.21166595563687463\n",
      "k=20;max_iter=300;batch_size=1024;max_no_improvement=20;reassignment_ratio=0.005 26225 0.2253013611440623\n",
      "k=20;max_iter=300;batch_size=1024;max_no_improvement=20;reassignment_ratio=0.005 777572 0.27720856866584487\n",
      "k=20;max_iter=300;batch_size=1024;max_no_improvement=20;reassignment_ratio=0.005 288389 0.18092934443626973\n",
      "k=20;max_iter=300;batch_size=1024;max_no_improvement=20;reassignment_ratio=0.01 670487 0.1987484879267633\n",
      "k=20;max_iter=300;batch_size=1024;max_no_improvement=20;reassignment_ratio=0.01 116739 0.20043368955126067\n",
      "k=20;max_iter=300;batch_size=1024;max_no_improvement=20;reassignment_ratio=0.01 26225 0.2231454619169068\n",
      "k=20;max_iter=300;batch_size=1024;max_no_improvement=20;reassignment_ratio=0.01 777572 0.28520517393806843\n",
      "k=20;max_iter=300;batch_size=1024;max_no_improvement=20;reassignment_ratio=0.01 288389 0.16621241899537667\n",
      "k=20;max_iter=300;batch_size=1024;max_no_improvement=20;reassignment_ratio=0.1 670487 0.20191886169725365\n",
      "k=20;max_iter=300;batch_size=1024;max_no_improvement=20;reassignment_ratio=0.1 116739 0.20827114281013606\n",
      "k=20;max_iter=300;batch_size=1024;max_no_improvement=20;reassignment_ratio=0.1 26225 0.22434575741468699\n",
      "k=20;max_iter=300;batch_size=1024;max_no_improvement=20;reassignment_ratio=0.1 777572 0.3006637013183059\n",
      "k=20;max_iter=300;batch_size=1024;max_no_improvement=20;reassignment_ratio=0.1 288389 0.2763109789941153\n"
     ]
    },
    {
     "data": {
      "text/html": [
       "<div>\n",
       "<style scoped>\n",
       "    .dataframe tbody tr th:only-of-type {\n",
       "        vertical-align: middle;\n",
       "    }\n",
       "\n",
       "    .dataframe tbody tr th {\n",
       "        vertical-align: top;\n",
       "    }\n",
       "\n",
       "    .dataframe thead th {\n",
       "        text-align: right;\n",
       "    }\n",
       "</style>\n",
       "<table border=\"1\" class=\"dataframe\">\n",
       "  <thead>\n",
       "    <tr style=\"text-align: right;\">\n",
       "      <th></th>\n",
       "      <th>PAM50</th>\n",
       "      <th>Intrinsic</th>\n",
       "      <th>PAM50_AB</th>\n",
       "      <th>SCMOD2</th>\n",
       "      <th>IHC</th>\n",
       "      <th>Luminal</th>\n",
       "      <th>Basal</th>\n",
       "      <th>Her2</th>\n",
       "      <th>LumA</th>\n",
       "      <th>LumB</th>\n",
       "      <th>Normal</th>\n",
       "      <th>Claudin-low</th>\n",
       "      <th>IHC_HER2</th>\n",
       "      <th>IHC_ER</th>\n",
       "      <th>IHC_PR</th>\n",
       "      <th>IHC_TNBC</th>\n",
       "      <th>NET_kmeans</th>\n",
       "      <th>NET_ward</th>\n",
       "      <th>seed</th>\n",
       "      <th>parameters</th>\n",
       "    </tr>\n",
       "  </thead>\n",
       "  <tbody>\n",
       "    <tr>\n",
       "      <th>226</th>\n",
       "      <td>0.555318</td>\n",
       "      <td>0.537046</td>\n",
       "      <td>0.393293</td>\n",
       "      <td>0.382225</td>\n",
       "      <td>0.390939</td>\n",
       "      <td>0.5019</td>\n",
       "      <td>0.946969</td>\n",
       "      <td>0.368613</td>\n",
       "      <td>0.320269</td>\n",
       "      <td>0.195449</td>\n",
       "      <td>0.040816</td>\n",
       "      <td>0.098914</td>\n",
       "      <td>0.239056</td>\n",
       "      <td>0.483551</td>\n",
       "      <td>0.296046</td>\n",
       "      <td>0.525326</td>\n",
       "      <td>0.126122</td>\n",
       "      <td>0.103684</td>\n",
       "      <td>116739</td>\n",
       "      <td>k=4;max_iter=300;batch_size=500;max_no_improve...</td>\n",
       "    </tr>\n",
       "    <tr>\n",
       "      <th>231</th>\n",
       "      <td>0.555318</td>\n",
       "      <td>0.537046</td>\n",
       "      <td>0.393293</td>\n",
       "      <td>0.382225</td>\n",
       "      <td>0.390939</td>\n",
       "      <td>0.5019</td>\n",
       "      <td>0.946969</td>\n",
       "      <td>0.368613</td>\n",
       "      <td>0.320269</td>\n",
       "      <td>0.195449</td>\n",
       "      <td>0.040816</td>\n",
       "      <td>0.098914</td>\n",
       "      <td>0.239056</td>\n",
       "      <td>0.483551</td>\n",
       "      <td>0.296046</td>\n",
       "      <td>0.525326</td>\n",
       "      <td>0.126122</td>\n",
       "      <td>0.103684</td>\n",
       "      <td>116739</td>\n",
       "      <td>k=4;max_iter=300;batch_size=500;max_no_improve...</td>\n",
       "    </tr>\n",
       "    <tr>\n",
       "      <th>211</th>\n",
       "      <td>0.555132</td>\n",
       "      <td>0.536797</td>\n",
       "      <td>0.39355</td>\n",
       "      <td>0.38195</td>\n",
       "      <td>0.392646</td>\n",
       "      <td>0.502261</td>\n",
       "      <td>0.938391</td>\n",
       "      <td>0.380032</td>\n",
       "      <td>0.318401</td>\n",
       "      <td>0.200304</td>\n",
       "      <td>0.039856</td>\n",
       "      <td>0.097158</td>\n",
       "      <td>0.252961</td>\n",
       "      <td>0.484083</td>\n",
       "      <td>0.296254</td>\n",
       "      <td>0.527222</td>\n",
       "      <td>0.128942</td>\n",
       "      <td>0.105969</td>\n",
       "      <td>116739</td>\n",
       "      <td>k=4;max_iter=300;batch_size=500;max_no_improve...</td>\n",
       "    </tr>\n",
       "    <tr>\n",
       "      <th>216</th>\n",
       "      <td>0.555132</td>\n",
       "      <td>0.536797</td>\n",
       "      <td>0.39355</td>\n",
       "      <td>0.38195</td>\n",
       "      <td>0.392646</td>\n",
       "      <td>0.502261</td>\n",
       "      <td>0.938391</td>\n",
       "      <td>0.380032</td>\n",
       "      <td>0.318401</td>\n",
       "      <td>0.200304</td>\n",
       "      <td>0.039856</td>\n",
       "      <td>0.097158</td>\n",
       "      <td>0.252961</td>\n",
       "      <td>0.484083</td>\n",
       "      <td>0.296254</td>\n",
       "      <td>0.527222</td>\n",
       "      <td>0.128942</td>\n",
       "      <td>0.105969</td>\n",
       "      <td>116739</td>\n",
       "      <td>k=4;max_iter=300;batch_size=500;max_no_improve...</td>\n",
       "    </tr>\n",
       "    <tr>\n",
       "      <th>9</th>\n",
       "      <td>0.550795</td>\n",
       "      <td>0.53287</td>\n",
       "      <td>0.148856</td>\n",
       "      <td>0.158295</td>\n",
       "      <td>0.39757</td>\n",
       "      <td>0.568028</td>\n",
       "      <td>0.885841</td>\n",
       "      <td>0.0</td>\n",
       "      <td>0.021581</td>\n",
       "      <td>-0.063752</td>\n",
       "      <td>-0.032629</td>\n",
       "      <td>0.103069</td>\n",
       "      <td>-0.055744</td>\n",
       "      <td>0.528664</td>\n",
       "      <td>0.335905</td>\n",
       "      <td>0.484983</td>\n",
       "      <td>-0.044779</td>\n",
       "      <td>-0.033683</td>\n",
       "      <td>288389</td>\n",
       "      <td>k=2;max_iter=300;batch_size=100;max_no_improve...</td>\n",
       "    </tr>\n",
       "    <tr>\n",
       "      <th>...</th>\n",
       "      <td>...</td>\n",
       "      <td>...</td>\n",
       "      <td>...</td>\n",
       "      <td>...</td>\n",
       "      <td>...</td>\n",
       "      <td>...</td>\n",
       "      <td>...</td>\n",
       "      <td>...</td>\n",
       "      <td>...</td>\n",
       "      <td>...</td>\n",
       "      <td>...</td>\n",
       "      <td>...</td>\n",
       "      <td>...</td>\n",
       "      <td>...</td>\n",
       "      <td>...</td>\n",
       "      <td>...</td>\n",
       "      <td>...</td>\n",
       "      <td>...</td>\n",
       "      <td>...</td>\n",
       "      <td>...</td>\n",
       "    </tr>\n",
       "    <tr>\n",
       "      <th>29</th>\n",
       "      <td>0.0</td>\n",
       "      <td>0.0</td>\n",
       "      <td>0.0</td>\n",
       "      <td>0.0</td>\n",
       "      <td>0.0</td>\n",
       "      <td>0.0</td>\n",
       "      <td>0.0</td>\n",
       "      <td>0.0</td>\n",
       "      <td>0.0</td>\n",
       "      <td>0.0</td>\n",
       "      <td>0.0</td>\n",
       "      <td>0.0</td>\n",
       "      <td>0.0</td>\n",
       "      <td>0.0</td>\n",
       "      <td>0.0</td>\n",
       "      <td>0.0</td>\n",
       "      <td>0.0</td>\n",
       "      <td>0.0</td>\n",
       "      <td>288389</td>\n",
       "      <td>k=2;max_iter=300;batch_size=100;max_no_improve...</td>\n",
       "    </tr>\n",
       "    <tr>\n",
       "      <th>11</th>\n",
       "      <td>0.0</td>\n",
       "      <td>0.0</td>\n",
       "      <td>0.0</td>\n",
       "      <td>0.0</td>\n",
       "      <td>0.0</td>\n",
       "      <td>0.0</td>\n",
       "      <td>0.0</td>\n",
       "      <td>0.0</td>\n",
       "      <td>0.0</td>\n",
       "      <td>0.0</td>\n",
       "      <td>0.0</td>\n",
       "      <td>0.0</td>\n",
       "      <td>0.0</td>\n",
       "      <td>0.0</td>\n",
       "      <td>0.0</td>\n",
       "      <td>0.0</td>\n",
       "      <td>0.0</td>\n",
       "      <td>0.0</td>\n",
       "      <td>116739</td>\n",
       "      <td>k=2;max_iter=300;batch_size=100;max_no_improve...</td>\n",
       "    </tr>\n",
       "    <tr>\n",
       "      <th>26</th>\n",
       "      <td>0.0</td>\n",
       "      <td>0.0</td>\n",
       "      <td>0.0</td>\n",
       "      <td>0.0</td>\n",
       "      <td>0.0</td>\n",
       "      <td>0.0</td>\n",
       "      <td>0.0</td>\n",
       "      <td>0.0</td>\n",
       "      <td>0.0</td>\n",
       "      <td>0.0</td>\n",
       "      <td>0.0</td>\n",
       "      <td>0.0</td>\n",
       "      <td>0.0</td>\n",
       "      <td>0.0</td>\n",
       "      <td>0.0</td>\n",
       "      <td>0.0</td>\n",
       "      <td>0.0</td>\n",
       "      <td>0.0</td>\n",
       "      <td>116739</td>\n",
       "      <td>k=2;max_iter=300;batch_size=100;max_no_improve...</td>\n",
       "    </tr>\n",
       "    <tr>\n",
       "      <th>13</th>\n",
       "      <td>-0.03564</td>\n",
       "      <td>-0.034213</td>\n",
       "      <td>-0.001267</td>\n",
       "      <td>0.025149</td>\n",
       "      <td>-0.024644</td>\n",
       "      <td>-0.031418</td>\n",
       "      <td>-0.045117</td>\n",
       "      <td>-0.081153</td>\n",
       "      <td>0.069397</td>\n",
       "      <td>-0.049839</td>\n",
       "      <td>0.077546</td>\n",
       "      <td>0.0</td>\n",
       "      <td>0.0</td>\n",
       "      <td>-0.03179</td>\n",
       "      <td>-0.017798</td>\n",
       "      <td>-0.049888</td>\n",
       "      <td>0.0</td>\n",
       "      <td>0.0</td>\n",
       "      <td>777572</td>\n",
       "      <td>k=2;max_iter=300;batch_size=100;max_no_improve...</td>\n",
       "    </tr>\n",
       "    <tr>\n",
       "      <th>28</th>\n",
       "      <td>-0.036348</td>\n",
       "      <td>-0.034893</td>\n",
       "      <td>0.00944</td>\n",
       "      <td>0.027529</td>\n",
       "      <td>-0.018269</td>\n",
       "      <td>-0.032596</td>\n",
       "      <td>-0.050458</td>\n",
       "      <td>-0.061841</td>\n",
       "      <td>0.085552</td>\n",
       "      <td>-0.035505</td>\n",
       "      <td>0.048425</td>\n",
       "      <td>0.0</td>\n",
       "      <td>0.0</td>\n",
       "      <td>-0.026755</td>\n",
       "      <td>-0.015763</td>\n",
       "      <td>0.0</td>\n",
       "      <td>0.0</td>\n",
       "      <td>0.0</td>\n",
       "      <td>777572</td>\n",
       "      <td>k=2;max_iter=300;batch_size=100;max_no_improve...</td>\n",
       "    </tr>\n",
       "  </tbody>\n",
       "</table>\n",
       "<p>1710 rows × 20 columns</p>\n",
       "</div>"
      ],
      "text/plain": [
       "        PAM50 Intrinsic  PAM50_AB    SCMOD2       IHC   Luminal     Basal  \\\n",
       "226  0.555318  0.537046  0.393293  0.382225  0.390939    0.5019  0.946969   \n",
       "231  0.555318  0.537046  0.393293  0.382225  0.390939    0.5019  0.946969   \n",
       "211  0.555132  0.536797   0.39355   0.38195  0.392646  0.502261  0.938391   \n",
       "216  0.555132  0.536797   0.39355   0.38195  0.392646  0.502261  0.938391   \n",
       "9    0.550795   0.53287  0.148856  0.158295   0.39757  0.568028  0.885841   \n",
       "..        ...       ...       ...       ...       ...       ...       ...   \n",
       "29        0.0       0.0       0.0       0.0       0.0       0.0       0.0   \n",
       "11        0.0       0.0       0.0       0.0       0.0       0.0       0.0   \n",
       "26        0.0       0.0       0.0       0.0       0.0       0.0       0.0   \n",
       "13   -0.03564 -0.034213 -0.001267  0.025149 -0.024644 -0.031418 -0.045117   \n",
       "28  -0.036348 -0.034893   0.00944  0.027529 -0.018269 -0.032596 -0.050458   \n",
       "\n",
       "         Her2      LumA      LumB    Normal Claudin-low  IHC_HER2    IHC_ER  \\\n",
       "226  0.368613  0.320269  0.195449  0.040816    0.098914  0.239056  0.483551   \n",
       "231  0.368613  0.320269  0.195449  0.040816    0.098914  0.239056  0.483551   \n",
       "211  0.380032  0.318401  0.200304  0.039856    0.097158  0.252961  0.484083   \n",
       "216  0.380032  0.318401  0.200304  0.039856    0.097158  0.252961  0.484083   \n",
       "9         0.0  0.021581 -0.063752 -0.032629    0.103069 -0.055744  0.528664   \n",
       "..        ...       ...       ...       ...         ...       ...       ...   \n",
       "29        0.0       0.0       0.0       0.0         0.0       0.0       0.0   \n",
       "11        0.0       0.0       0.0       0.0         0.0       0.0       0.0   \n",
       "26        0.0       0.0       0.0       0.0         0.0       0.0       0.0   \n",
       "13  -0.081153  0.069397 -0.049839  0.077546         0.0       0.0  -0.03179   \n",
       "28  -0.061841  0.085552 -0.035505  0.048425         0.0       0.0 -0.026755   \n",
       "\n",
       "       IHC_PR  IHC_TNBC NET_kmeans  NET_ward    seed  \\\n",
       "226  0.296046  0.525326   0.126122  0.103684  116739   \n",
       "231  0.296046  0.525326   0.126122  0.103684  116739   \n",
       "211  0.296254  0.527222   0.128942  0.105969  116739   \n",
       "216  0.296254  0.527222   0.128942  0.105969  116739   \n",
       "9    0.335905  0.484983  -0.044779 -0.033683  288389   \n",
       "..        ...       ...        ...       ...     ...   \n",
       "29        0.0       0.0        0.0       0.0  288389   \n",
       "11        0.0       0.0        0.0       0.0  116739   \n",
       "26        0.0       0.0        0.0       0.0  116739   \n",
       "13  -0.017798 -0.049888        0.0       0.0  777572   \n",
       "28  -0.015763       0.0        0.0       0.0  777572   \n",
       "\n",
       "                                            parameters  \n",
       "226  k=4;max_iter=300;batch_size=500;max_no_improve...  \n",
       "231  k=4;max_iter=300;batch_size=500;max_no_improve...  \n",
       "211  k=4;max_iter=300;batch_size=500;max_no_improve...  \n",
       "216  k=4;max_iter=300;batch_size=500;max_no_improve...  \n",
       "9    k=2;max_iter=300;batch_size=100;max_no_improve...  \n",
       "..                                                 ...  \n",
       "29   k=2;max_iter=300;batch_size=100;max_no_improve...  \n",
       "11   k=2;max_iter=300;batch_size=100;max_no_improve...  \n",
       "26   k=2;max_iter=300;batch_size=100;max_no_improve...  \n",
       "13   k=2;max_iter=300;batch_size=100;max_no_improve...  \n",
       "28   k=2;max_iter=300;batch_size=100;max_no_improve...  \n",
       "\n",
       "[1710 rows x 20 columns]"
      ]
     },
     "execution_count": 19,
     "metadata": {},
     "output_type": "execute_result"
    }
   ],
   "source": [
    "stats = {}\n",
    "i=0\n",
    "\n",
    "method = \"MiniBatchKMeans\"\n",
    "if not os.path.exists(basedir+\"/\"+method+\"/\"):\n",
    "    os.mkdir(basedir+\"/\"+method+\"/\")\n",
    "    \n",
    "for k in ks:\n",
    "    for max_iter in max_iters:\n",
    "        for bs in batch_sizes:\n",
    "            for mni in max_no_improvements:\n",
    "                for rr in reassignment_ratios:\n",
    "                    for seed in seeds:\n",
    "                        params = \"k=\"+str(k)+\";max_iter=\"+str(max_iter)+\";batch_size=\"+str(bs)\n",
    "                        params += \";max_no_improvement=\"+str(mni)+\";reassignment_ratio=\"+str(rr)\n",
    "                        labels = MiniBatchKMeans(n_clusters=k, init='k-means++', n_init=10, tol=0.0,\n",
    "                               random_state=seed, max_iter=max_iter, batch_size=bs,\n",
    "                               max_no_improvement=mni,reassignment_ratio=rr).fit_predict(exprs.T)\n",
    "                        clusters = labels_to_clsuters(labels,  exprs.columns)\n",
    "                        clusters = clusters.loc[clusters[\"n_samples\"]>=5,:]\n",
    "                        performances, best_matches = calculate_perfromance(clusters, known_groups,all_samples,\n",
    "                                                                          performance_measure = \"ARI\")\n",
    "                        stats[i] = performances.to_dict()\n",
    "                        stats[i][\"seed\"]=seed\n",
    "                        stats[i][\"parameters\"]=params\n",
    "                        print(params,seed,stats[i][\"PAM50\"])\n",
    "                        # saving clusters \n",
    "                        clusters[\"samples\"] = clusters[\"samples\"].apply(lambda row: \" \".join(sorted(row)))\n",
    "                        clusters = clusters.loc[:,[\"n_samples\",\"samples\"]] \n",
    "                        clusters.to_csv(basedir+\"/\"+method+\"/\"+dataset+\".\"+method+\".\"+params+\".seed=\"+str(seed)+\".clusters.tsv\",sep=\"\\t\")\n",
    "                        i+=1\n",
    "stats = pd.DataFrame.from_dict(stats).T\n",
    "# saving performances\n",
    "stats.to_csv(basedir +\"/\"+method+\"_\"+dataset+\".tsv\",sep=\"\\t\")\n",
    "stats.sort_values(by = \"PAM50\",ascending=False)    \n",
    "                    "
   ]
  },
  {
   "cell_type": "code",
   "execution_count": null,
   "id": "satisfactory-fight",
   "metadata": {},
   "outputs": [],
   "source": []
  },
  {
   "cell_type": "markdown",
   "id": "644aabc0",
   "metadata": {},
   "source": [
    "# 3. Selecting best and optimal parameter combinations\n"
   ]
  },
  {
   "cell_type": "code",
   "execution_count": 63,
   "id": "cooked-pathology",
   "metadata": {},
   "outputs": [],
   "source": [
    "#method = 'HierarchicalClustering' ''\n",
    "#method = 'SpectralClustering'\n",
    "method = \"BIRCH\"\n",
    "ds1 = \"TCGA-BRCA\"\n",
    "ds2 = \"METABRIC\"\n",
    "base_dir = \"clusterings_evaluation/\"\n",
    "performance_col = \"PAM50\""
   ]
  },
  {
   "cell_type": "code",
   "execution_count": 64,
   "id": "received-potato",
   "metadata": {},
   "outputs": [
    {
     "name": "stdout",
     "output_type": "stream",
     "text": [
      "BIRCH\tbest mean rank: 9.5 0.06\n",
      "\topt. parameters:\n",
      "\t\tk=6;branching_factor=100;threshold=0.1\n",
      "\t\tk=6;branching_factor=100;threshold=0.5\n",
      "\t\tk=6;branching_factor=100;threshold=0.95\n",
      "\t\tk=6;branching_factor=10;threshold=0.1\n",
      "\t\tk=6;branching_factor=10;threshold=0.5\n",
      "\t\tk=6;branching_factor=10;threshold=0.95\n",
      "\t\tk=6;branching_factor=50;threshold=0.1\n",
      "\t\tk=6;branching_factor=50;threshold=0.5\n",
      "\t\tk=6;branching_factor=50;threshold=0.95\n",
      "\tperformance w. optimized:\tTCGA-BRCA:0.48\tMETABRIC:0.48\n",
      "\tbest parameters TCGA-BRCA:\t0.48\n",
      "\t\tk=6;branching_factor=10;threshold=0.5\n",
      "\t\tk=7;branching_factor=10;threshold=0.95\n",
      "\t\tk=6;branching_factor=100;threshold=0.5\n",
      "\t\tk=6;branching_factor=10;threshold=0.95\n",
      "\t\tk=6;branching_factor=50;threshold=0.1\n",
      "\t\tk=6;branching_factor=50;threshold=0.5\n",
      "\t\tk=6;branching_factor=50;threshold=0.95\n",
      "\t\tk=7;branching_factor=100;threshold=0.1\n",
      "\t\tk=7;branching_factor=100;threshold=0.5\n",
      "\t\tk=7;branching_factor=100;threshold=0.95\n",
      "\t\tk=7;branching_factor=10;threshold=0.1\n",
      "\t\tk=7;branching_factor=10;threshold=0.5\n",
      "\t\tk=7;branching_factor=50;threshold=0.1\n",
      "\t\tk=6;branching_factor=100;threshold=0.95\n",
      "\t\tk=7;branching_factor=50;threshold=0.5\n",
      "\t\tk=7;branching_factor=50;threshold=0.95\n",
      "\t\tk=6;branching_factor=100;threshold=0.1\n",
      "\t\tk=6;branching_factor=10;threshold=0.1\n",
      "\tbest parameters METABRIC:\t0.48\n",
      "\t\tk=5;branching_factor=50;threshold=0.1\n",
      "\t\tk=6;branching_factor=100;threshold=0.5\n",
      "\t\tk=6;branching_factor=10;threshold=0.1\n",
      "\t\tk=6;branching_factor=10;threshold=0.5\n",
      "\t\tk=6;branching_factor=10;threshold=0.95\n",
      "\t\tk=6;branching_factor=50;threshold=0.1\n",
      "\t\tk=6;branching_factor=50;threshold=0.5\n",
      "\t\tk=6;branching_factor=50;threshold=0.95\n",
      "\t\tk=6;branching_factor=100;threshold=0.1\n",
      "\t\tk=5;branching_factor=50;threshold=0.95\n",
      "\t\tk=5;branching_factor=50;threshold=0.5\n",
      "\t\tk=5;branching_factor=10;threshold=0.95\n",
      "\t\tk=5;branching_factor=10;threshold=0.5\n",
      "\t\tk=5;branching_factor=10;threshold=0.1\n",
      "\t\tk=5;branching_factor=100;threshold=0.95\n",
      "\t\tk=5;branching_factor=100;threshold=0.5\n",
      "\t\tk=5;branching_factor=100;threshold=0.1\n",
      "\t\tk=6;branching_factor=100;threshold=0.95\n"
     ]
    }
   ],
   "source": [
    "df1 = pd.read_csv(base_dir+method+\"_\"+ds1+\".tsv\",sep = \"\\t\",index_col=0)\n",
    "df2 = pd.read_csv(base_dir+method+\"_\"+ds2+\".tsv\",sep = \"\\t\",index_col=0)\n",
    "\n",
    "#if \"seed\" in df1.columns or \"seed\" in df2.columns:\n",
    "df1 = df1.groupby(\"parameters\").agg(\"mean\")\n",
    "df2 = df2.groupby(\"parameters\").agg(\"mean\")\n",
    "\n",
    "df1 = df1.sort_values(by=performance_col,ascending= False)\n",
    "df2 = df2.sort_values(by=performance_col,ascending= False)\n",
    "\n",
    "df1[\"rank\"] =df1[performance_col].rank(ascending= False)\n",
    "df2[\"rank\"] =df2[performance_col].rank(ascending= False)\n",
    "mean_ranks = (df1[\"rank\"]+df2[\"rank\"])*0.5\n",
    "mean_ranks = mean_ranks.sort_values()\n",
    "best_mean_rank = mean_ranks.head(1)[0]\n",
    "optimized_params = mean_ranks[mean_ranks == best_mean_rank].index.values\n",
    "print(method+\"\\tbest mean rank:\",best_mean_rank, round(best_mean_rank/mean_ranks.shape[0],2))\n",
    "\n",
    "print(\"\\topt. parameters:\\n\\t\\t\"+\"\\n\\t\\t\".join(optimized_params) )\n",
    "\n",
    "# perfromance with optimized parameters\n",
    "opt_perf1 = df1.loc[optimized_params,performance_col].sort_values(ascending= False)[0]\n",
    "opt_perf2 = df2.loc[optimized_params,performance_col].sort_values(ascending= False)[0]\n",
    "print(\"\\tperformance w. optimized:\\t%s:%.2f\\t%s:%.2f\"%(ds1,opt_perf1,ds2,opt_perf2))\n",
    "# best perfromance \n",
    "best_perf1 = df1.loc[:,performance_col].sort_values(ascending= False)\n",
    "best_perf1 = best_perf1[0]\n",
    "best_param1 =  df1.loc[df1[performance_col]==best_perf1,:].index.values\n",
    "print(\"\\tbest parameters %s:\\t%.2f\"%(ds1,best_perf1))\n",
    "print(\"\\t\\t\"+\"\\n\\t\\t\".join(best_param1))\n",
    "\n",
    "best_perf2 = df2.loc[:,performance_col].sort_values(ascending= False)\n",
    "best_perf2 = best_perf2[0]\n",
    "best_param2 =  df2.loc[df2[performance_col]==best_perf2,:].index.values\n",
    "print(\"\\tbest parameters %s:\\t%.2f\"%(ds2,best_perf2))\n",
    "print(\"\\t\\t\"+\"\\n\\t\\t\".join(best_param2))\n",
    "\n",
    "#print(method, df1.shape[0], df2.shape[0])\n"
   ]
  },
  {
   "cell_type": "code",
   "execution_count": 65,
   "id": "prostate-vessel",
   "metadata": {},
   "outputs": [
    {
     "data": {
      "text/plain": [
       "PAM50           0.435597\n",
       "Intrinsic       0.421222\n",
       "PAM50_AB        0.244479\n",
       "SCMOD2          0.272155\n",
       "IHC             0.314934\n",
       "Luminal         0.420490\n",
       "Basal           0.851772\n",
       "Her2           -0.092976\n",
       "LumA            0.094375\n",
       "LumB            0.208882\n",
       "Normal          0.034693\n",
       "Claudin-low     0.076547\n",
       "IHC_HER2        0.038942\n",
       "IHC_ER          0.403200\n",
       "IHC_PR          0.245442\n",
       "IHC_TNBC        0.498923\n",
       "NET_kmeans      0.118502\n",
       "NET_ward        0.082501\n",
       "rank           32.000000\n",
       "Name: k=5;branching_factor=50;threshold=0.5, dtype: float64"
      ]
     },
     "execution_count": 65,
     "metadata": {},
     "output_type": "execute_result"
    }
   ],
   "source": [
    "df1.loc[\"k=5;branching_factor=50;threshold=0.5\",]"
   ]
  },
  {
   "cell_type": "code",
   "execution_count": null,
   "id": "retired-diana",
   "metadata": {},
   "outputs": [],
   "source": []
  }
 ],
 "metadata": {
  "kernelspec": {
   "display_name": "Python 3",
   "language": "python",
   "name": "python3"
  },
  "language_info": {
   "codemirror_mode": {
    "name": "ipython",
    "version": 3
   },
   "file_extension": ".py",
   "mimetype": "text/x-python",
   "name": "python",
   "nbconvert_exporter": "python",
   "pygments_lexer": "ipython3",
   "version": "3.8.3"
  }
 },
 "nbformat": 4,
 "nbformat_minor": 5
}
