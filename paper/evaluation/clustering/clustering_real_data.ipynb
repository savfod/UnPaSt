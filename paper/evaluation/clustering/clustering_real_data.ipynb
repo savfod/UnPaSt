{
 "cells": [
  {
   "cell_type": "code",
   "execution_count": 25,
   "metadata": {
    "collapsed": true
   },
   "outputs": [],
   "source": [
    "import numpy as np\n",
    "import pandas as pd\n",
    "import sys,os\n",
    "import random\n",
    "import copy\n",
    "from time import time\n",
    "import subprocess\n",
    "import time\n",
    "\n",
    "import matplotlib.pyplot as plt\n",
    "import seaborn as sns\n",
    "\n",
    "from run_desmond import run_DESMOND\n",
    "\n",
    "from utils.eval import find_best_matches, make_known_groups\n",
    "\n",
    "def match_known_subtypes(results, subtypes, annotation,exprs):\n",
    "\n",
    "    all_samples = set(exprs.columns.values)\n",
    "    pam50 = make_known_groups(subtypes, exprs,target_col = \"PAM50\",verbose=False)\n",
    "    lum = {}\n",
    "    lum[\"Luminal\"] = pam50[\"LumA\"].union(pam50[\"LumB\"])\n",
    "    scmod2 = make_known_groups(subtypes, exprs,target_col = 'SCMOD2',verbose=False)\n",
    "    claudin = {}\n",
    "    claudin[\"Claudin-low\"] = set(subtypes.loc[subtypes['claudin_low']==1,:].index.values).intersection(all_samples)\n",
    "\n",
    "    ihc = {}\n",
    "    for x in [\"IHC_HER2\",\"IHC_ER\",\"IHC_PR\",\"IHC_TNBC\"]:\n",
    "        ihc[x] = set(annotation.loc[annotation[x]==\"Positive\",:].index.values)\n",
    "\n",
    "    known_groups = [pam50,lum,claudin,scmod2,ihc]\n",
    "    best_matches = []\n",
    "    for group in known_groups:\n",
    "        bm = find_best_matches(results,group,all_samples,FDR=0.05,verbose = False)\n",
    "        best_matches.append(bm)\n",
    "    best_matches = pd.concat(best_matches, axis=0)\n",
    "    return best_matches\n",
    "\n",
    "\n",
    "from utils.eval import find_best_matching_biclusters\n",
    "\n",
    "def compare_gene_clusters(tcga_result,metabric_result, N):\n",
    "    # N - total number of genes\n",
    "    # finds best matched TCGA -> METABRIC and METABRIC -> TCGA\n",
    "    # calculates % of matched clusterst, number of genes in matched cluster,\n",
    "    # and the average J index for best matches\n",
    "    bm = find_best_matching_biclusters(tcga_result,metabric_result, N)\n",
    "    bm = bm.dropna()\n",
    "    bm2 = find_best_matching_biclusters(metabric_result, tcga_result, N)\n",
    "    bm2 = bm2.dropna()\n",
    "\n",
    "    bm = bm.loc[bm[\"n_shared\"]>1,:].sort_values(by=\"n_shared\",ascending = False)\n",
    "    bm2 = bm2.loc[bm2[\"n_shared\"]>1,:].sort_values(by=\"n_shared\",ascending = False)\n",
    "\n",
    "    clust_similarity = {}\n",
    "    # number of biclusters\n",
    "    clust_similarity[\"n_1\"] = tcga_result.shape[0]\n",
    "    clust_similarity[\"n_2\"] = metabric_result.shape[0]\n",
    "    #print(\"% matched biclusters:\",bm.shape[0]/tcga_result.shape[0],bm2.shape[0]/metabric_result.shape[0])\n",
    "    clust_similarity[\"percent_matched_1\"] = bm.shape[0]/tcga_result.shape[0]\n",
    "    clust_similarity[\"percent_matched_2\"] = bm2.shape[0]/metabric_result.shape[0]\n",
    "    #print(\"n matched genes:\",bm.loc[:,\"n_shared\"].sum(),bm2.loc[:,\"n_shared\"].sum())\n",
    "    clust_similarity[\"n_shared_genes_1\"] = bm.loc[:,\"n_shared\"].sum()\n",
    "    clust_similarity[\"n_shared_genes_2\"] = bm2.loc[:,\"n_shared\"].sum()\n",
    "    #print(\"avg. J:\",bm.loc[:,\"J\"].mean(),bm2.loc[:,\"J\"].mean())\n",
    "    clust_similarity[\"avg_bm_J_1\"] = bm.loc[:,\"J\"].mean()\n",
    "    clust_similarity[\"avg_bm_J_2\"] = bm2.loc[:,\"J\"].mean()\n",
    "\n",
    "\n",
    "    return clust_similarity, bm, bm2"
   ]
  },
  {
   "cell_type": "code",
   "execution_count": 5,
   "outputs": [],
   "source": [
    "real_data_path = '/Users/fernando/Documents/Research/DESMOND2_data_simulated/preprocessed_v6/'\n",
    "\n",
    "file_metabric_annotation = f'{real_data_path}METABRIC_1904.annotation_v6.tsv'\n",
    "file_metabric_expression = f'{real_data_path}/METABRIC_1904_17Kgenes.log2_exprs_z_v6.tsv'\n",
    "file_metabric_subtypes = f'{real_data_path}/METABRIC_1904_17Kgenes.subtypes_and_signatures_v6.tsv'\n",
    "file_tcga_annotation = f'{real_data_path}TCGA-BRCA_1079.Xena_TCGA_PanCan.annotation_v6.tsv'\n",
    "file_tcga_expression = f'{real_data_path}TCGA-BRCA_1079_17Kgenes.Xena_TCGA_PanCan.log2_exprs_z_v6.tsv'\n",
    "file_tcga_subtypes = f'{real_data_path}TCGA-BRCA_1079_17Kgenes.Xena_TCGA_PanCan.subtypes_and_signatures_v6.tsv'\n",
    "file_gene_mapping = f'{real_data_path}gene_id_mapping.tsv'\n",
    "\n",
    "out_dir = '/Users/fernando/Documents/Research/DESMOND2/evaluation/clustering/results/'\n",
    "\n",
    "basename_t = \"TCGA\"\n",
    "basename_m = \"METABRIC\"\n",
    "\n",
    "\n",
    "m_subtypes = pd.read_csv(file_metabric_subtypes,sep = \"\\t\",index_col=0)\n",
    "m_annotation = pd.read_csv(file_metabric_annotation,sep = \"\\t\",index_col=0)\n",
    "\n",
    "t_subtypes = pd.read_csv(file_tcga_subtypes,sep = \"\\t\",index_col=0)\n",
    "t_annotation = pd.read_csv(file_tcga_annotation,sep = \"\\t\",index_col=0)\n",
    "\n",
    "\n",
    "exprs_t= pd.read_csv(file_tcga_expression, sep = \"\\t\",index_col=0)\n",
    "exprs_t[exprs_t>3] = 3\n",
    "exprs_t[exprs_t<-3] = -3\n",
    "\n",
    "exprs_m= pd.read_csv(file_metabric_expression, sep = \"\\t\",index_col=0)\n",
    "exprs_m[exprs_m>3] = 3\n",
    "exprs_m[exprs_m<-3] = -3\n"
   ],
   "metadata": {
    "collapsed": false,
    "pycharm": {
     "name": "#%%\n"
    }
   }
  },
  {
   "cell_type": "code",
   "execution_count": 16,
   "outputs": [
    {
     "data": {
      "text/plain": "{'METABRIC': 'METABRIC.tsv', 'TCGA-BRCA': 'TCGA-BRCA.tsv'}"
     },
     "execution_count": 16,
     "metadata": {},
     "output_type": "execute_result"
    }
   ],
   "source": [
    "\n",
    "tool_list = {\n",
    "    'kmeans': 'run_kmeans.py',\n",
    "    'WGCNAkmeans': 'run_WGCNAkmeans.py',\n",
    "    'HC': 'run_HC.py',\n",
    "    'WGCNAHC': 'run_WGCNAHC.py'\n",
    "}\n",
    "\n",
    "\n",
    "expr_files = {}\n",
    "result_files = {}\n",
    "\n",
    "for realdata_file in os.listdir(real_data_path):\n",
    "    realdatafile_path = os.path.join(real_data_path, realdata_file)\n",
    "    # print(realdatafile_path)\n",
    "    prefix = realdata_file.split(\"_\")[0]\n",
    "    # print(prefix)\n",
    "    if \"exprs\" in realdata_file:\n",
    "        expr_files[prefix] = realdatafile_path\n",
    "        result_files[prefix] = f'{prefix}.tsv'\n",
    "\n",
    "expr_files\n",
    "result_files\n",
    "\n"
   ],
   "metadata": {
    "collapsed": false,
    "pycharm": {
     "name": "#%%\n"
    }
   }
  },
  {
   "cell_type": "code",
   "execution_count": 32,
   "outputs": [
    {
     "data": {
      "text/plain": "[['python3',\n  '/Users/fernando/Documents/Research/DESMOND2/evaluation/clustering/run_HC.py',\n  '/Users/fernando/Documents/Research/DESMOND2_data_simulated/preprocessed_v6/METABRIC_1904_17Kgenes.log2_exprs_z_v6.tsv',\n  '/Users/fernando/Documents/Research/DESMOND2/evaluation/clustering/results/METABRIC_run1.tsv'],\n ['python3',\n  '/Users/fernando/Documents/Research/DESMOND2/evaluation/clustering/run_HC.py',\n  '/Users/fernando/Documents/Research/DESMOND2_data_simulated/preprocessed_v6/METABRIC_1904_17Kgenes.log2_exprs_z_v6.tsv',\n  '/Users/fernando/Documents/Research/DESMOND2/evaluation/clustering/results/METABRIC_run2.tsv'],\n ['python3',\n  '/Users/fernando/Documents/Research/DESMOND2/evaluation/clustering/run_HC.py',\n  '/Users/fernando/Documents/Research/DESMOND2_data_simulated/preprocessed_v6/METABRIC_1904_17Kgenes.log2_exprs_z_v6.tsv',\n  '/Users/fernando/Documents/Research/DESMOND2/evaluation/clustering/results/METABRIC_run3.tsv'],\n ['python3',\n  '/Users/fernando/Documents/Research/DESMOND2/evaluation/clustering/run_HC.py',\n  '/Users/fernando/Documents/Research/DESMOND2_data_simulated/preprocessed_v6/METABRIC_1904_17Kgenes.log2_exprs_z_v6.tsv',\n  '/Users/fernando/Documents/Research/DESMOND2/evaluation/clustering/results/METABRIC_run4.tsv'],\n ['python3',\n  '/Users/fernando/Documents/Research/DESMOND2/evaluation/clustering/run_HC.py',\n  '/Users/fernando/Documents/Research/DESMOND2_data_simulated/preprocessed_v6/METABRIC_1904_17Kgenes.log2_exprs_z_v6.tsv',\n  '/Users/fernando/Documents/Research/DESMOND2/evaluation/clustering/results/METABRIC_run5.tsv'],\n ['python3',\n  '/Users/fernando/Documents/Research/DESMOND2/evaluation/clustering/run_HC.py',\n  '/Users/fernando/Documents/Research/DESMOND2_data_simulated/preprocessed_v6/TCGA-BRCA_1079_17Kgenes.Xena_TCGA_PanCan.log2_exprs_z_v6.tsv',\n  '/Users/fernando/Documents/Research/DESMOND2/evaluation/clustering/results/TCGA-BRCA_run1.tsv'],\n ['python3',\n  '/Users/fernando/Documents/Research/DESMOND2/evaluation/clustering/run_HC.py',\n  '/Users/fernando/Documents/Research/DESMOND2_data_simulated/preprocessed_v6/TCGA-BRCA_1079_17Kgenes.Xena_TCGA_PanCan.log2_exprs_z_v6.tsv',\n  '/Users/fernando/Documents/Research/DESMOND2/evaluation/clustering/results/TCGA-BRCA_run2.tsv'],\n ['python3',\n  '/Users/fernando/Documents/Research/DESMOND2/evaluation/clustering/run_HC.py',\n  '/Users/fernando/Documents/Research/DESMOND2_data_simulated/preprocessed_v6/TCGA-BRCA_1079_17Kgenes.Xena_TCGA_PanCan.log2_exprs_z_v6.tsv',\n  '/Users/fernando/Documents/Research/DESMOND2/evaluation/clustering/results/TCGA-BRCA_run3.tsv'],\n ['python3',\n  '/Users/fernando/Documents/Research/DESMOND2/evaluation/clustering/run_HC.py',\n  '/Users/fernando/Documents/Research/DESMOND2_data_simulated/preprocessed_v6/TCGA-BRCA_1079_17Kgenes.Xena_TCGA_PanCan.log2_exprs_z_v6.tsv',\n  '/Users/fernando/Documents/Research/DESMOND2/evaluation/clustering/results/TCGA-BRCA_run4.tsv'],\n ['python3',\n  '/Users/fernando/Documents/Research/DESMOND2/evaluation/clustering/run_HC.py',\n  '/Users/fernando/Documents/Research/DESMOND2_data_simulated/preprocessed_v6/TCGA-BRCA_1079_17Kgenes.Xena_TCGA_PanCan.log2_exprs_z_v6.tsv',\n  '/Users/fernando/Documents/Research/DESMOND2/evaluation/clustering/results/TCGA-BRCA_run5.tsv'],\n ['python3',\n  '/Users/fernando/Documents/Research/DESMOND2/evaluation/clustering/run_HC.py',\n  '/Users/fernando/Documents/Research/DESMOND2_data_simulated/preprocessed_v6/METABRIC_1904_17Kgenes.log2_exprs_z_v6.tsv',\n  '/Users/fernando/Documents/Research/DESMOND2/evaluation/clustering/results/METABRIC_run1.tsv'],\n ['python3',\n  '/Users/fernando/Documents/Research/DESMOND2/evaluation/clustering/run_HC.py',\n  '/Users/fernando/Documents/Research/DESMOND2_data_simulated/preprocessed_v6/METABRIC_1904_17Kgenes.log2_exprs_z_v6.tsv',\n  '/Users/fernando/Documents/Research/DESMOND2/evaluation/clustering/results/METABRIC_run2.tsv'],\n ['python3',\n  '/Users/fernando/Documents/Research/DESMOND2/evaluation/clustering/run_HC.py',\n  '/Users/fernando/Documents/Research/DESMOND2_data_simulated/preprocessed_v6/METABRIC_1904_17Kgenes.log2_exprs_z_v6.tsv',\n  '/Users/fernando/Documents/Research/DESMOND2/evaluation/clustering/results/METABRIC_run3.tsv'],\n ['python3',\n  '/Users/fernando/Documents/Research/DESMOND2/evaluation/clustering/run_HC.py',\n  '/Users/fernando/Documents/Research/DESMOND2_data_simulated/preprocessed_v6/METABRIC_1904_17Kgenes.log2_exprs_z_v6.tsv',\n  '/Users/fernando/Documents/Research/DESMOND2/evaluation/clustering/results/METABRIC_run4.tsv'],\n ['python3',\n  '/Users/fernando/Documents/Research/DESMOND2/evaluation/clustering/run_HC.py',\n  '/Users/fernando/Documents/Research/DESMOND2_data_simulated/preprocessed_v6/METABRIC_1904_17Kgenes.log2_exprs_z_v6.tsv',\n  '/Users/fernando/Documents/Research/DESMOND2/evaluation/clustering/results/METABRIC_run5.tsv'],\n ['python3',\n  '/Users/fernando/Documents/Research/DESMOND2/evaluation/clustering/run_HC.py',\n  '/Users/fernando/Documents/Research/DESMOND2_data_simulated/preprocessed_v6/TCGA-BRCA_1079_17Kgenes.Xena_TCGA_PanCan.log2_exprs_z_v6.tsv',\n  '/Users/fernando/Documents/Research/DESMOND2/evaluation/clustering/results/TCGA-BRCA_run1.tsv'],\n ['python3',\n  '/Users/fernando/Documents/Research/DESMOND2/evaluation/clustering/run_HC.py',\n  '/Users/fernando/Documents/Research/DESMOND2_data_simulated/preprocessed_v6/TCGA-BRCA_1079_17Kgenes.Xena_TCGA_PanCan.log2_exprs_z_v6.tsv',\n  '/Users/fernando/Documents/Research/DESMOND2/evaluation/clustering/results/TCGA-BRCA_run2.tsv'],\n ['python3',\n  '/Users/fernando/Documents/Research/DESMOND2/evaluation/clustering/run_HC.py',\n  '/Users/fernando/Documents/Research/DESMOND2_data_simulated/preprocessed_v6/TCGA-BRCA_1079_17Kgenes.Xena_TCGA_PanCan.log2_exprs_z_v6.tsv',\n  '/Users/fernando/Documents/Research/DESMOND2/evaluation/clustering/results/TCGA-BRCA_run3.tsv'],\n ['python3',\n  '/Users/fernando/Documents/Research/DESMOND2/evaluation/clustering/run_HC.py',\n  '/Users/fernando/Documents/Research/DESMOND2_data_simulated/preprocessed_v6/TCGA-BRCA_1079_17Kgenes.Xena_TCGA_PanCan.log2_exprs_z_v6.tsv',\n  '/Users/fernando/Documents/Research/DESMOND2/evaluation/clustering/results/TCGA-BRCA_run4.tsv'],\n ['python3',\n  '/Users/fernando/Documents/Research/DESMOND2/evaluation/clustering/run_HC.py',\n  '/Users/fernando/Documents/Research/DESMOND2_data_simulated/preprocessed_v6/TCGA-BRCA_1079_17Kgenes.Xena_TCGA_PanCan.log2_exprs_z_v6.tsv',\n  '/Users/fernando/Documents/Research/DESMOND2/evaluation/clustering/results/TCGA-BRCA_run5.tsv'],\n ['python3',\n  '/Users/fernando/Documents/Research/DESMOND2/evaluation/clustering/run_HC.py',\n  '/Users/fernando/Documents/Research/DESMOND2_data_simulated/preprocessed_v6/METABRIC_1904_17Kgenes.log2_exprs_z_v6.tsv',\n  '/Users/fernando/Documents/Research/DESMOND2/evaluation/clustering/results/METABRIC_run1.tsv'],\n ['python3',\n  '/Users/fernando/Documents/Research/DESMOND2/evaluation/clustering/run_HC.py',\n  '/Users/fernando/Documents/Research/DESMOND2_data_simulated/preprocessed_v6/METABRIC_1904_17Kgenes.log2_exprs_z_v6.tsv',\n  '/Users/fernando/Documents/Research/DESMOND2/evaluation/clustering/results/METABRIC_run2.tsv'],\n ['python3',\n  '/Users/fernando/Documents/Research/DESMOND2/evaluation/clustering/run_HC.py',\n  '/Users/fernando/Documents/Research/DESMOND2_data_simulated/preprocessed_v6/METABRIC_1904_17Kgenes.log2_exprs_z_v6.tsv',\n  '/Users/fernando/Documents/Research/DESMOND2/evaluation/clustering/results/METABRIC_run3.tsv'],\n ['python3',\n  '/Users/fernando/Documents/Research/DESMOND2/evaluation/clustering/run_HC.py',\n  '/Users/fernando/Documents/Research/DESMOND2_data_simulated/preprocessed_v6/METABRIC_1904_17Kgenes.log2_exprs_z_v6.tsv',\n  '/Users/fernando/Documents/Research/DESMOND2/evaluation/clustering/results/METABRIC_run4.tsv'],\n ['python3',\n  '/Users/fernando/Documents/Research/DESMOND2/evaluation/clustering/run_HC.py',\n  '/Users/fernando/Documents/Research/DESMOND2_data_simulated/preprocessed_v6/METABRIC_1904_17Kgenes.log2_exprs_z_v6.tsv',\n  '/Users/fernando/Documents/Research/DESMOND2/evaluation/clustering/results/METABRIC_run5.tsv'],\n ['python3',\n  '/Users/fernando/Documents/Research/DESMOND2/evaluation/clustering/run_HC.py',\n  '/Users/fernando/Documents/Research/DESMOND2_data_simulated/preprocessed_v6/TCGA-BRCA_1079_17Kgenes.Xena_TCGA_PanCan.log2_exprs_z_v6.tsv',\n  '/Users/fernando/Documents/Research/DESMOND2/evaluation/clustering/results/TCGA-BRCA_run1.tsv'],\n ['python3',\n  '/Users/fernando/Documents/Research/DESMOND2/evaluation/clustering/run_HC.py',\n  '/Users/fernando/Documents/Research/DESMOND2_data_simulated/preprocessed_v6/TCGA-BRCA_1079_17Kgenes.Xena_TCGA_PanCan.log2_exprs_z_v6.tsv',\n  '/Users/fernando/Documents/Research/DESMOND2/evaluation/clustering/results/TCGA-BRCA_run2.tsv'],\n ['python3',\n  '/Users/fernando/Documents/Research/DESMOND2/evaluation/clustering/run_HC.py',\n  '/Users/fernando/Documents/Research/DESMOND2_data_simulated/preprocessed_v6/TCGA-BRCA_1079_17Kgenes.Xena_TCGA_PanCan.log2_exprs_z_v6.tsv',\n  '/Users/fernando/Documents/Research/DESMOND2/evaluation/clustering/results/TCGA-BRCA_run3.tsv'],\n ['python3',\n  '/Users/fernando/Documents/Research/DESMOND2/evaluation/clustering/run_HC.py',\n  '/Users/fernando/Documents/Research/DESMOND2_data_simulated/preprocessed_v6/TCGA-BRCA_1079_17Kgenes.Xena_TCGA_PanCan.log2_exprs_z_v6.tsv',\n  '/Users/fernando/Documents/Research/DESMOND2/evaluation/clustering/results/TCGA-BRCA_run4.tsv'],\n ['python3',\n  '/Users/fernando/Documents/Research/DESMOND2/evaluation/clustering/run_HC.py',\n  '/Users/fernando/Documents/Research/DESMOND2_data_simulated/preprocessed_v6/TCGA-BRCA_1079_17Kgenes.Xena_TCGA_PanCan.log2_exprs_z_v6.tsv',\n  '/Users/fernando/Documents/Research/DESMOND2/evaluation/clustering/results/TCGA-BRCA_run5.tsv'],\n ['python3',\n  '/Users/fernando/Documents/Research/DESMOND2/evaluation/clustering/run_HC.py',\n  '/Users/fernando/Documents/Research/DESMOND2_data_simulated/preprocessed_v6/METABRIC_1904_17Kgenes.log2_exprs_z_v6.tsv',\n  '/Users/fernando/Documents/Research/DESMOND2/evaluation/clustering/results/METABRIC_run1.tsv'],\n ['python3',\n  '/Users/fernando/Documents/Research/DESMOND2/evaluation/clustering/run_HC.py',\n  '/Users/fernando/Documents/Research/DESMOND2_data_simulated/preprocessed_v6/METABRIC_1904_17Kgenes.log2_exprs_z_v6.tsv',\n  '/Users/fernando/Documents/Research/DESMOND2/evaluation/clustering/results/METABRIC_run2.tsv'],\n ['python3',\n  '/Users/fernando/Documents/Research/DESMOND2/evaluation/clustering/run_HC.py',\n  '/Users/fernando/Documents/Research/DESMOND2_data_simulated/preprocessed_v6/METABRIC_1904_17Kgenes.log2_exprs_z_v6.tsv',\n  '/Users/fernando/Documents/Research/DESMOND2/evaluation/clustering/results/METABRIC_run3.tsv'],\n ['python3',\n  '/Users/fernando/Documents/Research/DESMOND2/evaluation/clustering/run_HC.py',\n  '/Users/fernando/Documents/Research/DESMOND2_data_simulated/preprocessed_v6/METABRIC_1904_17Kgenes.log2_exprs_z_v6.tsv',\n  '/Users/fernando/Documents/Research/DESMOND2/evaluation/clustering/results/METABRIC_run4.tsv'],\n ['python3',\n  '/Users/fernando/Documents/Research/DESMOND2/evaluation/clustering/run_HC.py',\n  '/Users/fernando/Documents/Research/DESMOND2_data_simulated/preprocessed_v6/METABRIC_1904_17Kgenes.log2_exprs_z_v6.tsv',\n  '/Users/fernando/Documents/Research/DESMOND2/evaluation/clustering/results/METABRIC_run5.tsv'],\n ['python3',\n  '/Users/fernando/Documents/Research/DESMOND2/evaluation/clustering/run_HC.py',\n  '/Users/fernando/Documents/Research/DESMOND2_data_simulated/preprocessed_v6/TCGA-BRCA_1079_17Kgenes.Xena_TCGA_PanCan.log2_exprs_z_v6.tsv',\n  '/Users/fernando/Documents/Research/DESMOND2/evaluation/clustering/results/TCGA-BRCA_run1.tsv'],\n ['python3',\n  '/Users/fernando/Documents/Research/DESMOND2/evaluation/clustering/run_HC.py',\n  '/Users/fernando/Documents/Research/DESMOND2_data_simulated/preprocessed_v6/TCGA-BRCA_1079_17Kgenes.Xena_TCGA_PanCan.log2_exprs_z_v6.tsv',\n  '/Users/fernando/Documents/Research/DESMOND2/evaluation/clustering/results/TCGA-BRCA_run2.tsv'],\n ['python3',\n  '/Users/fernando/Documents/Research/DESMOND2/evaluation/clustering/run_HC.py',\n  '/Users/fernando/Documents/Research/DESMOND2_data_simulated/preprocessed_v6/TCGA-BRCA_1079_17Kgenes.Xena_TCGA_PanCan.log2_exprs_z_v6.tsv',\n  '/Users/fernando/Documents/Research/DESMOND2/evaluation/clustering/results/TCGA-BRCA_run3.tsv'],\n ['python3',\n  '/Users/fernando/Documents/Research/DESMOND2/evaluation/clustering/run_HC.py',\n  '/Users/fernando/Documents/Research/DESMOND2_data_simulated/preprocessed_v6/TCGA-BRCA_1079_17Kgenes.Xena_TCGA_PanCan.log2_exprs_z_v6.tsv',\n  '/Users/fernando/Documents/Research/DESMOND2/evaluation/clustering/results/TCGA-BRCA_run4.tsv'],\n ['python3',\n  '/Users/fernando/Documents/Research/DESMOND2/evaluation/clustering/run_HC.py',\n  '/Users/fernando/Documents/Research/DESMOND2_data_simulated/preprocessed_v6/TCGA-BRCA_1079_17Kgenes.Xena_TCGA_PanCan.log2_exprs_z_v6.tsv',\n  '/Users/fernando/Documents/Research/DESMOND2/evaluation/clustering/results/TCGA-BRCA_run5.tsv']]"
     },
     "execution_count": 32,
     "metadata": {},
     "output_type": "execute_result"
    },
    {
     "name": "stderr",
     "output_type": "stream",
     "text": [
      "Traceback (most recent call last):\n",
      "  File \"/Users/fernando/Documents/Research/DESMOND2/evaluation/clustering/run_kmeans.py\", line 5, in <module>\n",
      "    from kneed import KneeLocator\n",
      "ModuleNotFoundError: No module named 'kneed'\n"
     ]
    }
   ],
   "source": [
    "commands = list()\n",
    "running = list()\n",
    "\n",
    "def get_command(tool_name, script_location, expr_file, out_file):\n",
    "    command = []\n",
    "    if tool_name in ['kmeans', 'WGCNAkmeans', 'WGCNAHC', 'HC']:\n",
    "        command.append(\"python3\")\n",
    "        command.append(script_location)\n",
    "        command.append(expr_file)\n",
    "        command.append(out_file)\n",
    "    return command\n",
    "\n",
    "tool_name = 'kmeans'\n",
    "dataset = 'METABRIC'\n",
    "\n",
    "\n",
    "for tool_name in tool_list.keys():\n",
    "    tool_name = 'HC'\n",
    "\n",
    "    for dataset in expr_files.keys():\n",
    "        # print(test_case)\n",
    "        expr_file = expr_files[dataset]\n",
    "        for r in range(1, 6):\n",
    "            commands.append(get_command(tool_name, os.path.join(script_folder, tool_list[tool_name]), expr_files[dataset], os.path.join(out_dir, f'{dataset}_run{r}.tsv')))\n",
    "\n",
    "commands"
   ],
   "metadata": {
    "collapsed": false,
    "pycharm": {
     "name": "#%%\n"
    }
   }
  },
  {
   "cell_type": "code",
   "execution_count": 33,
   "outputs": [
    {
     "name": "stdout",
     "output_type": "stream",
     "text": [
      "Commands running\n",
      "starting command: ['python3', '/Users/fernando/Documents/Research/DESMOND2/evaluation/clustering/run_HC.py', '/Users/fernando/Documents/Research/DESMOND2_data_simulated/preprocessed_v6/METABRIC_1904_17Kgenes.log2_exprs_z_v6.tsv', '/Users/fernando/Documents/Research/DESMOND2/evaluation/clustering/results/METABRIC_run1.tsv']\n",
      "single braycurtis\n"
     ]
    },
    {
     "name": "stderr",
     "output_type": "stream",
     "text": [
      "100%|██████████| 20/20 [00:24<00:00,  1.20s/it]\n"
     ]
    },
    {
     "ename": "KeyboardInterrupt",
     "evalue": "",
     "output_type": "error",
     "traceback": [
      "\u001B[0;31m---------------------------------------------------------------------------\u001B[0m",
      "\u001B[0;31mKeyboardInterrupt\u001B[0m                         Traceback (most recent call last)",
      "Cell \u001B[0;32mIn [33], line 17\u001B[0m\n\u001B[1;32m     15\u001B[0m     \u001B[38;5;28;01mfor\u001B[39;00m i \u001B[38;5;129;01min\u001B[39;00m done:\n\u001B[1;32m     16\u001B[0m         \u001B[38;5;28;01mdel\u001B[39;00m running[i]\n\u001B[0;32m---> 17\u001B[0m     \u001B[43mtime\u001B[49m\u001B[38;5;241;43m.\u001B[39;49m\u001B[43msleep\u001B[49m\u001B[43m(\u001B[49m\u001B[38;5;241;43m1\u001B[39;49m\u001B[43m)\u001B[49m\n\u001B[1;32m     19\u001B[0m \u001B[38;5;28mprint\u001B[39m(\u001B[38;5;124mf\u001B[39m\u001B[38;5;124m\"\u001B[39m\u001B[38;5;124mAll done, result scores are in their directories\u001B[39m\u001B[38;5;124m\"\u001B[39m)\n",
      "\u001B[0;31mKeyboardInterrupt\u001B[0m: "
     ]
    }
   ],
   "source": [
    "print(f\"Commands running\")\n",
    "#parallel_execs = int(sys.argv[1])\n",
    "parallel_execs = 1\n",
    "while len(commands) > 0 or len(running) > 0:\n",
    "    if len(running) < parallel_execs and len(commands) > 0:\n",
    "        command = commands[0]\n",
    "        print(f'starting command: {command}')\n",
    "        commands = commands[1:]\n",
    "        p = subprocess.Popen(command)\n",
    "        running.append(p)\n",
    "    done = []\n",
    "    for i in range(0, len(running)):\n",
    "        if running[i].poll() is not None:\n",
    "            done.append(i)\n",
    "    for i in done:\n",
    "        del running[i]\n",
    "    time.sleep(1)\n",
    "\n",
    "print(f\"All done, result scores are in their directories\")"
   ],
   "metadata": {
    "collapsed": false,
    "pycharm": {
     "name": "#%%\n"
    }
   }
  }
 ],
 "metadata": {
  "kernelspec": {
   "display_name": "Python 3",
   "language": "python",
   "name": "python3"
  },
  "language_info": {
   "codemirror_mode": {
    "name": "ipython",
    "version": 2
   },
   "file_extension": ".py",
   "mimetype": "text/x-python",
   "name": "python",
   "nbconvert_exporter": "python",
   "pygments_lexer": "ipython2",
   "version": "2.7.6"
  }
 },
 "nbformat": 4,
 "nbformat_minor": 0
}