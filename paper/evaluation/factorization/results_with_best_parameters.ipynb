{
 "cells": [
  {
   "attachments": {},
   "cell_type": "markdown",
   "metadata": {},
   "source": [
    "## get best parameters"
   ]
  },
  {
   "cell_type": "code",
   "execution_count": 1,
   "metadata": {},
   "outputs": [
    {
     "name": "stdout",
     "output_type": "stream",
     "text": [
      "method_name NMF\n",
      "{'k': 8, 'init': 'nndsvda', 'tol': 0.0001, 'transposed': False, 'alpha_W': -0.1, 'alpha_H': 0.0, 'shuffle': False, 'solver': 'cd', 'beta_loss': 'frobenius', 'max_iter': 1000}\n",
      "method_name moCluster\n",
      "{'n_dimensions': 5, 'n_cluster': 13, 'solver': 'svd', 'center': True, 'method': 'globalScore', 'option': 'uniform', 'scale': False, 'k': 1}\n",
      "method_name MOFA2\n",
      "{'n_factors': 12, 'n_cluster': 9, 'ard_weights': True, 'ard_factors': False, 'likelihood': 'gaussian', 'spikeslab_weights': True, 'spikeslab_factors': False}\n",
      "method_name iClusterPlus\n",
      "{'lambda_n': 10, 'n_cluster': 12, 'lambda_scale': 1, 'iter_max': 20, 'eps': 0.0001, 'type': 'gaussian', 'burnin_n': 200, 'draw_n': 200, 'sdev': 0.05}\n",
      "method_name sparse_PCA\n",
      "{'n_components': 9, 'alpha': 1, 'ridge_alpha': 0.001, 'max_iter': 1000, 'method': 'cd', 'tol': 1e-08}\n"
     ]
    }
   ],
   "source": [
    "# best average rank in BRCA\n",
    "\n",
    "import pandas as pd\n",
    "from methods import NMF, sparse_PCA, moCluster, MOFA2, iClusterPlus\n",
    "\n",
    "for method in [NMF, moCluster, MOFA2, iClusterPlus, sparse_PCA]:\n",
    "    method_name = method.__name__.split('.')[-1]\n",
    "    print('method_name', method_name)\n",
    "    \n",
    "    df_meta = pd.read_csv(f'/cosybio/project/hartung/unpast/unpast_real/{method_name}_METABRIC.tsv', sep='\\t', index_col=0)\n",
    "    df_tcga = pd.read_csv(f'/cosybio/project/hartung/unpast/unpast_real/{method_name}_TCGA.tsv', sep='\\t', index_col=0)\n",
    "    \n",
    "    df_meta = df_meta.dropna(subset='parameters')\n",
    "    df_tcga = df_tcga.dropna(subset='parameters')\n",
    "    \n",
    "    # remove random state from params\n",
    "    df_meta['parameters'] = df_meta['parameters'].map(lambda x: ';'.join([y for y in x.split(';') if not y.startswith('random_state=')]))\n",
    "    df_tcga['parameters'] = df_tcga['parameters'].map(lambda x: ';'.join([y for y in x.split(';') if not y.startswith('random_state=')]))\n",
    "    \n",
    "    # merge permutations\n",
    "    df_meta = df_meta.groupby('parameters').mean()\n",
    "    df_tcga = df_tcga.groupby('parameters').mean()\n",
    "    \n",
    "    df_meta = df_meta.sort_values('PAM50', ascending=False)\n",
    "    df_meta['rank'] = list(range(len(df_meta.index)))\n",
    "    \n",
    "    df_tcga = df_tcga.sort_values('PAM50', ascending=False)\n",
    "    df_tcga['rank'] = list(range(len(df_tcga.index)))\n",
    "    \n",
    "    df = pd.concat([df_tcga, df_meta]).groupby('parameters').sum()\n",
    "    \n",
    "    params = df.sort_values('rank', ascending=True).index[0]\n",
    "    d = {}\n",
    "    for x in params.split(';'):\n",
    "        if not len(x):\n",
    "            continue\n",
    "        key, value = x.split('=') \n",
    "        try:\n",
    "            value = eval(value)\n",
    "        except:\n",
    "            pass\n",
    "        d[key] = value\n",
    "    print(d)"
   ]
  },
  {
   "cell_type": "code",
   "execution_count": 3,
   "metadata": {},
   "outputs": [
    {
     "name": "stdout",
     "output_type": "stream",
     "text": [
      "method_name NMF\n",
      "TCGA\n",
      "{'k': 8, 'init': 'nndsvda', 'tol': 0.0001, 'transposed': False, 'alpha_W': -0.1, 'alpha_H': 0.0, 'shuffle': False, 'solver': 'cd', 'beta_loss': 'frobenius', 'max_iter': 1000}\n",
      "METABRIC\n",
      "{'k': 3, 'init': 'nndsvda', 'tol': 0.0001, 'transposed': False, 'alpha_W': -0.1, 'alpha_H': 0.0, 'shuffle': False, 'solver': 'cd', 'beta_loss': 'frobenius', 'max_iter': 200}\n",
      "method_name moCluster\n",
      "TCGA\n",
      "{'n_dimensions': 4, 'n_cluster': 10, 'solver': 'fast', 'center': True, 'method': 'globalScore', 'option': 'inertia', 'scale': False, 'k': 1}\n",
      "METABRIC\n",
      "{'n_dimensions': 15, 'n_cluster': 20, 'solver': 'fast', 'center': True, 'method': 'globalScore', 'option': 'lambda1', 'scale': False, 'k': 0.1}\n",
      "method_name MOFA2\n",
      "TCGA\n",
      "{'n_factors': 2, 'n_cluster': 7, 'ard_weights': True, 'ard_factors': False, 'likelihood': 'gaussian', 'spikeslab_weights': True, 'spikeslab_factors': False}\n",
      "METABRIC\n",
      "{'n_factors': 19, 'n_cluster': 11, 'ard_weights': True, 'ard_factors': False, 'likelihood': 'gaussian', 'spikeslab_weights': True, 'spikeslab_factors': False}\n",
      "method_name iClusterPlus\n",
      "TCGA\n",
      "{'lambda_n': 5, 'n_cluster': 11, 'lambda_scale': 1, 'iter_max': 20, 'eps': 0.0001, 'type': 'gaussian', 'burnin_n': 200, 'draw_n': 200, 'sdev': 0.05}\n",
      "METABRIC\n",
      "{'lambda_n': 10, 'n_cluster': 13, 'lambda_scale': 1, 'iter_max': 20, 'eps': 0.0001, 'type': 'gaussian', 'burnin_n': 200, 'draw_n': 200, 'sdev': 0.05}\n",
      "method_name sparse_PCA\n",
      "TCGA\n",
      "{'n_components': 8, 'alpha': 5, 'ridge_alpha': 0.1, 'max_iter': 1000, 'method': 'cd', 'tol': 1e-08}\n",
      "METABRIC\n",
      "{'n_components': 8, 'alpha': 1, 'ridge_alpha': 0.1, 'max_iter': 1000, 'method': 'cd', 'tol': 1e-08}\n"
     ]
    }
   ],
   "source": [
    "# highest PAM50 in each dataset\n",
    "\n",
    "import pandas as pd\n",
    "from methods import NMF, sparse_PCA, moCluster, MOFA2, iClusterPlus\n",
    "\n",
    "for method in [NMF, moCluster, MOFA2, iClusterPlus, sparse_PCA]:\n",
    "    method_name = method.__name__.split('.')[-1]\n",
    "    print('method_name', method_name)\n",
    "    for dataset in ['TCGA', 'METABRIC']:\n",
    "        print(dataset)\n",
    "        \n",
    "        df_meta = pd.read_csv(f'/cosybio/project/hartung/unpast/unpast_real/{method_name}_{dataset}.tsv', sep='\\t', index_col=0)\n",
    "        \n",
    "        df_meta = df_meta.dropna(subset='parameters')\n",
    "        \n",
    "        # remove random state from params\n",
    "        df_meta['parameters'] = df_meta['parameters'].map(lambda x: ';'.join([y for y in x.split(';') if not y.startswith('random_state=')]))\n",
    "        \n",
    "        # merge permutations\n",
    "        df_meta = df_meta.groupby('parameters').mean()\n",
    "        \n",
    "        params = df_meta.sort_values('PAM50', ascending=False).index[0]\n",
    "        d = {}\n",
    "        for x in params.split(';'):\n",
    "            if not len(x):\n",
    "                continue\n",
    "            key, value = x.split('=') \n",
    "            try:\n",
    "                value = eval(value)\n",
    "            except:\n",
    "                pass\n",
    "            d[key] = value\n",
    "        print(d)"
   ]
  },
  {
   "cell_type": "code",
   "execution_count": 15,
   "metadata": {},
   "outputs": [
    {
     "name": "stdout",
     "output_type": "stream",
     "text": [
      "method_name NMF\n",
      "{'k': 3, 'init': 'nndsvd', 'tol': 0.0001, 'transposed': False, 'alpha_W': 0.2, 'alpha_H': 0.0, 'shuffle': True, 'solver': 'cd', 'beta_loss': 'frobenius', 'max_iter': 1000}\n",
      "method_name moCluster\n",
      "{'n_dimensions': 8, 'n_cluster': 8, 'solver': 'svd', 'center': True, 'method': 'globalScore', 'option': 'uniform', 'scale': False, 'k': 0.1}\n",
      "method_name MOFA2\n",
      "{'n_factors': 18, 'n_cluster': 5, 'ard_weights': True, 'ard_factors': False, 'likelihood': 'gaussian', 'spikeslab_weights': True, 'spikeslab_factors': False}\n",
      "method_name iClusterPlus\n",
      "{'lambda_n': 10, 'n_cluster': 4, 'lambda_scale': 1, 'iter_max': 20, 'eps': 0.0001, 'type': 'gaussian', 'burnin_n': 200, 'draw_n': 200, 'sdev': 0.05}\n",
      "method_name sparse_PCA\n",
      "{'n_components': 2, 'alpha': 1, 'ridge_alpha': 0.1, 'max_iter': 1000, 'method': 'cd', 'tol': 1e-08}\n"
     ]
    }
   ],
   "source": [
    "# highest in simulated\n",
    "\n",
    "import pandas as pd\n",
    "from methods import NMF, sparse_PCA, moCluster, MOFA2, iClusterPlus\n",
    "\n",
    "for method in [NMF, moCluster, MOFA2, iClusterPlus, sparse_PCA]:\n",
    "    method_name = method.__name__.split('.')[-1]\n",
    "    print('method_name', method_name)\n",
    "    \n",
    "    df_meta = pd.read_csv(f'/cosybio/project/hartung/unpast/unpast_simluated/{method_name}_ABC.tsv', sep='\\t', index_col=0)\n",
    "    \n",
    "    df_meta = df_meta.dropna(subset='parameters')\n",
    "    \n",
    "    # # remove random state from params\n",
    "    df_meta['parameters'] = df_meta['parameters'].map(lambda x: ';'.join([y for y in x.split(';') if not y.startswith('random_state=')]))\n",
    "    \n",
    "    params = df_meta.groupby('parameters').mean().sort_values(['performance'], ascending=False).index[0]\n",
    "    \n",
    "    d = {}\n",
    "    for x in params.split(';'):\n",
    "        if not len(x):\n",
    "            continue\n",
    "        key, value = x.split('=') \n",
    "        try:\n",
    "            value = eval(value)\n",
    "        except:\n",
    "            pass\n",
    "        d[key] = value\n",
    "    print(d)"
   ]
  },
  {
   "cell_type": "code",
   "execution_count": null,
   "metadata": {},
   "outputs": [],
   "source": []
  },
  {
   "attachments": {},
   "cell_type": "markdown",
   "metadata": {},
   "source": [
    "## get results with parameters"
   ]
  },
  {
   "cell_type": "code",
   "execution_count": 5,
   "metadata": {},
   "outputs": [
    {
     "name": "stdout",
     "output_type": "stream",
     "text": [
      "method_name NMF\n",
      "method_name moCluster\n",
      "method_name MOFA2\n",
      "method_name iClusterPlus\n",
      "method_name sparse_PCA\n"
     ]
    }
   ],
   "source": [
    "# asthma\n",
    "\n",
    "import best_parameters\n",
    "import pandas as pd\n",
    "from methods import NMF, sparse_PCA, moCluster, MOFA2, iClusterPlus\n",
    "import glob\n",
    "\n",
    "asthma_default_dir = '/cosybio/project/hartung/unpast/unpast_asthma/results_default'\n",
    "asthma_optimized_dir = '/cosybio/project/hartung/unpast/unpast_asthma/results'\n",
    "\n",
    "for method in [NMF, moCluster, MOFA2, iClusterPlus, sparse_PCA]:\n",
    "    for dataset in ['GSE4302']: #  GSE89809, \n",
    "        method_name = method.__name__.split('.')[-1]\n",
    "        print('method_name', method_name)\n",
    "        paths = glob.glob(f'{asthma_default_dir}/{method_name}/{dataset}/*/result.tsv')\n",
    "        for path in paths:\n",
    "            seed = path.split('/')[-2]\n",
    "            df = pd.read_csv(path, sep='\\t', index_col=0)\n",
    "            df.to_csv(f'{method_name}_{seed}.tsv', sep='\\t')"
   ]
  },
  {
   "cell_type": "code",
   "execution_count": 28,
   "metadata": {},
   "outputs": [
    {
     "name": "stdout",
     "output_type": "stream",
     "text": [
      "method_name sparse_PCA\n",
      "method_name NMF\n",
      "method_name moCluster\n",
      "method_name MOFA2\n",
      "method_name iClusterPlus\n"
     ]
    }
   ],
   "source": [
    "# BRCA\n",
    "\n",
    "import best_parameters\n",
    "import pandas as pd\n",
    "from methods import NMF, sparse_PCA, moCluster, MOFA2, iClusterPlus\n",
    "import glob\n",
    "import os\n",
    "import copy\n",
    "\n",
    "file_metabric_annotation = '/local/DESMOND2_data/v6/preprocessed_v6/METABRIC_1904.annotation_v6.tsv'\n",
    "file_metabric_expression = '/local/DESMOND2_data/v6/preprocessed_v6/METABRIC_1904_17Kgenes.log2_exprs_z_v6.tsv'\n",
    "file_metabric_subtypes = '/local/DESMOND2_data/v6/preprocessed_v6/METABRIC_1904_17Kgenes.subtypes_and_signatures_v6.tsv'\n",
    "file_tcga_annotation = '/local/DESMOND2_data/v6/preprocessed_v6/TCGA-BRCA_1079.Xena_TCGA_PanCan.annotation_v6.tsv'\n",
    "file_tcga_expression = '/local/DESMOND2_data/v6/preprocessed_v6/TCGA-BRCA_1079_17Kgenes.Xena_TCGA_PanCan.log2_exprs_z_v6.tsv'\n",
    "file_tcga_subtypes = '/local/DESMOND2_data/v6/preprocessed_v6/TCGA-BRCA_1079_17Kgenes.Xena_TCGA_PanCan.subtypes_and_signatures_v6.tsv'\n",
    "file_gene_mapping = '/local/DESMOND2_data/v6/preprocessed_v6/gene_id_mapping.tsv'\n",
    "\n",
    "# out_dir = '/home/hartung/data/preprocessed_v6/results's\n",
    "out_dir = '/cosybio/project/hartung/unpast/unpast_real'\n",
    "\n",
    "basename_m = \"METABRIC\"\n",
    "\n",
    "METHODS = [sparse_PCA, NMF, moCluster, MOFA2, iClusterPlus]\n",
    "for METHOD in METHODS:\n",
    "    method_name = METHOD.__name__.split('.')[-1]\n",
    "    print('method_name', method_name)\n",
    "\n",
    "    #### Preparation\n",
    "    # METABRIC\n",
    "    file_path_m = file_metabric_expression\n",
    "    output_path_m = os.path.join(out_dir, basename_m, method_name)\n",
    "    ground_truth_file_m = file_metabric_annotation\n",
    "    combinations_m = METHOD.generate_arg_list(file_path_m, output_path_m, ground_truth_file_m)\n",
    "    \n",
    "    params = getattr(best_parameters.BestBrcaMETABRIC, method_name)\n",
    "    for comb_m in combinations_m:\n",
    "        is_hit = True\n",
    "        for key, value in params.items():\n",
    "            if comb_m[key] != value:\n",
    "                is_hit = False\n",
    "                break\n",
    "        if is_hit: \n",
    "            seed = comb_m['random_state']\n",
    "\n",
    "            # comb_m['output_path'] = comb_m['output_path'].replace('METABRIC', 'TCGA')\n",
    "            \n",
    "            result_m, runtime_m = METHOD.run_real(comb_m, is_terminated=True)\n",
    "            if isinstance(result_m['genes'][0], str):\n",
    "                result_m['genes'] = result_m['genes'].map(eval)\n",
    "                result_m['genes'] = result_m['genes'].map(set)\n",
    "            \n",
    "            result_m.to_csv(f'{method_name}_{seed}.tsv', sep='\\t')\n",
    "    "
   ]
  },
  {
   "cell_type": "code",
   "execution_count": 27,
   "metadata": {},
   "outputs": [],
   "source": [
    "# scp -r bba1401@llaima.zbh.uni-hamburg.de:/home/bba1401/Projects/unpast/DESMOND2/evaluation/factorization/*.tsv ."
   ]
  },
  {
   "cell_type": "code",
   "execution_count": 16,
   "metadata": {},
   "outputs": [
    {
     "ename": "TypeError",
     "evalue": "unsupported operand type(s) for +: 'int' and 'str'",
     "output_type": "error",
     "traceback": [
      "\u001b[0;31m---------------------------------------------------------------------------\u001b[0m",
      "\u001b[0;31mTypeError\u001b[0m                                 Traceback (most recent call last)",
      "\u001b[1;32m/home/bba1401/Projects/unpast/DESMOND2/evaluation/factorization/results_with_best_parameters.ipynb Cell 10\u001b[0m in \u001b[0;36m<cell line: 2>\u001b[0;34m()\u001b[0m\n\u001b[1;32m     <a href='vscode-notebook-cell://ssh-remote%2Bllaima.zbh.uni-hamburg.de/home/bba1401/Projects/unpast/DESMOND2/evaluation/factorization/results_with_best_parameters.ipynb#X12sdnNjb2RlLXJlbW90ZQ%3D%3D?line=20'>21</a>\u001b[0m     result_m[\u001b[39m'\u001b[39m\u001b[39mgenes\u001b[39m\u001b[39m'\u001b[39m] \u001b[39m=\u001b[39m result_m[\u001b[39m'\u001b[39m\u001b[39mgenes\u001b[39m\u001b[39m'\u001b[39m]\u001b[39m.\u001b[39mmap(\u001b[39meval\u001b[39m)\n\u001b[1;32m     <a href='vscode-notebook-cell://ssh-remote%2Bllaima.zbh.uni-hamburg.de/home/bba1401/Projects/unpast/DESMOND2/evaluation/factorization/results_with_best_parameters.ipynb#X12sdnNjb2RlLXJlbW90ZQ%3D%3D?line=21'>22</a>\u001b[0m     result_m[\u001b[39m'\u001b[39m\u001b[39mgenes\u001b[39m\u001b[39m'\u001b[39m] \u001b[39m=\u001b[39m result_m[\u001b[39m'\u001b[39m\u001b[39mgenes\u001b[39m\u001b[39m'\u001b[39m]\u001b[39m.\u001b[39mmap(\u001b[39mset\u001b[39m)\n\u001b[0;32m---> <a href='vscode-notebook-cell://ssh-remote%2Bllaima.zbh.uni-hamburg.de/home/bba1401/Projects/unpast/DESMOND2/evaluation/factorization/results_with_best_parameters.ipynb#X12sdnNjb2RlLXJlbW90ZQ%3D%3D?line=22'>23</a>\u001b[0m \u001b[39mprint\u001b[39m(\u001b[39m1\u001b[39;49m\u001b[39m+\u001b[39;49m\u001b[39m'\u001b[39;49m\u001b[39mr\u001b[39;49m\u001b[39m'\u001b[39;49m)\n",
      "\u001b[0;31mTypeError\u001b[0m: unsupported operand type(s) for +: 'int' and 'str'"
     ]
    }
   ],
   "source": []
  },
  {
   "cell_type": "code",
   "execution_count": 17,
   "metadata": {},
   "outputs": [
    {
     "data": {
      "text/html": [
       "<div>\n",
       "<style scoped>\n",
       "    .dataframe tbody tr th:only-of-type {\n",
       "        vertical-align: middle;\n",
       "    }\n",
       "\n",
       "    .dataframe tbody tr th {\n",
       "        vertical-align: top;\n",
       "    }\n",
       "\n",
       "    .dataframe thead th {\n",
       "        text-align: right;\n",
       "    }\n",
       "</style>\n",
       "<table border=\"1\" class=\"dataframe\">\n",
       "  <thead>\n",
       "    <tr style=\"text-align: right;\">\n",
       "      <th></th>\n",
       "      <th>samples</th>\n",
       "      <th>n_samples</th>\n",
       "      <th>genes</th>\n",
       "      <th>n_genes</th>\n",
       "    </tr>\n",
       "  </thead>\n",
       "  <tbody>\n",
       "    <tr>\n",
       "      <th>0</th>\n",
       "      <td>{}</td>\n",
       "      <td>0</td>\n",
       "      <td>{ELANE, CCDC34, CDC42, NDN, SLIT3, DPY30, EPHA...</td>\n",
       "      <td>14963</td>\n",
       "    </tr>\n",
       "    <tr>\n",
       "      <th>1</th>\n",
       "      <td>{MB-4674, MB-4310, MB-3417, MB-5086}</td>\n",
       "      <td>4</td>\n",
       "      <td>{ELANE, CDC42, NDN, BCL2L15, DPY30, KDELR3, RO...</td>\n",
       "      <td>14075</td>\n",
       "    </tr>\n",
       "    <tr>\n",
       "      <th>2</th>\n",
       "      <td>{MB-7044, MB-0641, MB-2900, MB-0442, MB-0286, ...</td>\n",
       "      <td>54</td>\n",
       "      <td>{ELANE, CCDC34, CDC42, NDN, SLIT3, DPY30, EPHA...</td>\n",
       "      <td>14711</td>\n",
       "    </tr>\n",
       "    <tr>\n",
       "      <th>3</th>\n",
       "      <td>{MB-0079, MB-2613, MB-0048, MB-3351, MB-2618, ...</td>\n",
       "      <td>38</td>\n",
       "      <td>{ELANE, CDC42, NDN, SLIT3, DPY30, EPHA10, KDEL...</td>\n",
       "      <td>14540</td>\n",
       "    </tr>\n",
       "    <tr>\n",
       "      <th>4</th>\n",
       "      <td>{MB-0906, MB-4189, MB-6062, MB-2643, MB-0209, ...</td>\n",
       "      <td>47</td>\n",
       "      <td>{CCDC34, CDC42, NDN, SLIT3, DPY30, ROR1, PROS1...</td>\n",
       "      <td>13453</td>\n",
       "    </tr>\n",
       "  </tbody>\n",
       "</table>\n",
       "</div>"
      ],
      "text/plain": [
       "                                             samples  n_samples  \\\n",
       "0                                                 {}          0   \n",
       "1               {MB-4674, MB-4310, MB-3417, MB-5086}          4   \n",
       "2  {MB-7044, MB-0641, MB-2900, MB-0442, MB-0286, ...         54   \n",
       "3  {MB-0079, MB-2613, MB-0048, MB-3351, MB-2618, ...         38   \n",
       "4  {MB-0906, MB-4189, MB-6062, MB-2643, MB-0209, ...         47   \n",
       "\n",
       "                                               genes  n_genes  \n",
       "0  {ELANE, CCDC34, CDC42, NDN, SLIT3, DPY30, EPHA...    14963  \n",
       "1  {ELANE, CDC42, NDN, BCL2L15, DPY30, KDELR3, RO...    14075  \n",
       "2  {ELANE, CCDC34, CDC42, NDN, SLIT3, DPY30, EPHA...    14711  \n",
       "3  {ELANE, CDC42, NDN, SLIT3, DPY30, EPHA10, KDEL...    14540  \n",
       "4  {CCDC34, CDC42, NDN, SLIT3, DPY30, ROR1, PROS1...    13453  "
      ]
     },
     "execution_count": 17,
     "metadata": {},
     "output_type": "execute_result"
    }
   ],
   "source": []
  },
  {
   "cell_type": "code",
   "execution_count": null,
   "metadata": {},
   "outputs": [],
   "source": []
  }
 ],
 "metadata": {
  "kernelspec": {
   "display_name": "encore",
   "language": "python",
   "name": "python3"
  },
  "language_info": {
   "codemirror_mode": {
    "name": "ipython",
    "version": 3
   },
   "file_extension": ".py",
   "mimetype": "text/x-python",
   "name": "python",
   "nbconvert_exporter": "python",
   "pygments_lexer": "ipython3",
   "version": "3.8.13"
  },
  "orig_nbformat": 4
 },
 "nbformat": 4,
 "nbformat_minor": 2
}
